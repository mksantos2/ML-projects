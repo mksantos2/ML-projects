{
 "cells": [
  {
   "cell_type": "markdown",
   "source": "## Atividade prática: Árvores de Decisão\n\nAprendizado de Máquina (INF/UFRGS) 2021/2\n\nMoniele Kunrath Santos",
   "metadata": {
    "cell_id": "40ea9f00-f727-4bda-86c0-c0c8b778fc3e",
    "tags": [],
    "deepnote_app_coordinates": {
     "x": 0,
     "y": 0,
     "w": 12,
     "h": 5
    },
    "deepnote_cell_type": "markdown"
   }
  },
  {
   "cell_type": "markdown",
   "source": "--------------------------------------------\n\\\nEste Notebook apresenta a atividade prática do algoritmo de **Árvores de Decisão**, utilizando Sklearn.\n\n-------------------------------------------------------------------",
   "metadata": {
    "cell_id": "5a55a157-6927-4dec-ab92-6edbd2167847",
    "tags": [],
    "deepnote_app_coordinates": {
     "x": 0,
     "y": 0,
     "w": 12,
     "h": 5
    },
    "deepnote_cell_type": "markdown"
   }
  },
  {
   "cell_type": "markdown",
   "source": "\n\nObjetivo da atividade:\n- Treinar árvores de decisão para uma tarefa de classificação\n- Observar o impacto de diferentes hiperparâmetros na árvore de decisão gerada relacionados a controle da complexidade da árvore eestratégias de poda\n- Observar o impacto de diferentes amostras de dados na árvore de decisão gerada\n- Interpretar as árvores de decisão obtidas",
   "metadata": {
    "cell_id": "3edde8f8-a7bb-4e4f-aa43-c21a9462bc06",
    "tags": [],
    "deepnote_app_coordinates": {
     "x": 0,
     "y": 0,
     "w": 12,
     "h": 5
    },
    "deepnote_cell_type": "markdown"
   }
  },
  {
   "cell_type": "markdown",
   "source": "O dataset utilizado é o Pima Indians Diabetes (https://www.kaggle.com/uciml/pima-indians-diabetes-database) e foi obtido do repositório Kaggle. O objetivo da tarefa de classificação é prever se um paciente terá ou não diabetes de acordo com um conjunto de 8 atributos\nfornecidos. O conjunto possui **768 instâncias** e a classe alvo está na coluna\n**Outcome (1 = tem diabetes, 0 = não tem diabetes)**.",
   "metadata": {
    "cell_id": "c8c39343-37b0-4c77-bf0b-75756dbfcdfc",
    "tags": [],
    "deepnote_app_coordinates": {
     "x": 0,
     "y": 0,
     "w": 12,
     "h": 5
    },
    "deepnote_cell_type": "markdown"
   }
  },
  {
   "cell_type": "code",
   "metadata": {
    "tags": [],
    "cell_id": "1c844759-4030-4591-a231-4f249cb6efd2",
    "deepnote_to_be_reexecuted": false,
    "source_hash": "80dc93ee",
    "execution_start": 1644178915129,
    "execution_millis": 6,
    "deepnote_app_coordinates": {
     "x": 0,
     "y": 6,
     "w": 12,
     "h": 5
    },
    "deepnote_cell_type": "code"
   },
   "source": "import pandas as pd\nfrom sklearn.tree import DecisionTreeClassifier # Import Decision Tree Classifier\nfrom sklearn import metrics\nfrom matplotlib import pyplot as plt\nfrom sklearn import tree\nfrom mlxtend.plotting import plot_decision_regions\nfrom sklearn.model_selection import StratifiedShuffleSplit\nimport numpy as np\nimport random\nfrom pydotplus import graph_from_dot_data\nfrom sklearn.tree import export_graphviz\nfrom sklearn.metrics import accuracy_score\nfrom sklearn.metrics import plot_confusion_matrix\nimport matplotlib.pyplot as plt\nimport scikitplot as skplt\nfrom sklearn.model_selection import cross_val_score\nfrom sklearn.model_selection import train_test_split\nimport graphviz\nfrom IPython.display import display",
   "outputs": [],
   "execution_count": null
  },
  {
   "cell_type": "markdown",
   "source": "### Carregando o dataset",
   "metadata": {
    "cell_id": "ef035ca9-c3dd-4b66-8852-904e2161ba0d",
    "tags": [],
    "is_collapsed": false,
    "deepnote_app_coordinates": {
     "x": 0,
     "y": 0,
     "w": 12,
     "h": 5
    },
    "deepnote_cell_type": "text-cell-h3"
   }
  },
  {
   "cell_type": "code",
   "source": "data = pd.read_csv('diabetes.csv')\n\ndata.head()",
   "metadata": {
    "cell_id": "e23d41e7-0b03-44aa-a2d2-ea03fe31ccb3",
    "tags": [],
    "deepnote_app_coordinates": {
     "x": 0,
     "y": 0,
     "w": 12,
     "h": 5
    },
    "deepnote_to_be_reexecuted": false,
    "source_hash": "b78ce43f",
    "execution_start": 1644178917392,
    "execution_millis": 1064,
    "deepnote_cell_type": "code"
   },
   "outputs": [
    {
     "output_type": "execute_result",
     "execution_count": 131,
     "data": {
      "application/vnd.deepnote.dataframe.v3+json": {
       "column_count": 9,
       "row_count": 5,
       "columns": [
        {
         "name": "Pregnancies",
         "dtype": "int64",
         "stats": {
          "unique_count": 4,
          "nan_count": 0,
          "min": "0",
          "max": "8",
          "histogram": [
           {
            "bin_start": 0,
            "bin_end": 0.8,
            "count": 1
           },
           {
            "bin_start": 0.8,
            "bin_end": 1.6,
            "count": 2
           },
           {
            "bin_start": 1.6,
            "bin_end": 2.4000000000000004,
            "count": 0
           },
           {
            "bin_start": 2.4000000000000004,
            "bin_end": 3.2,
            "count": 0
           },
           {
            "bin_start": 3.2,
            "bin_end": 4,
            "count": 0
           },
           {
            "bin_start": 4,
            "bin_end": 4.800000000000001,
            "count": 0
           },
           {
            "bin_start": 4.800000000000001,
            "bin_end": 5.6000000000000005,
            "count": 0
           },
           {
            "bin_start": 5.6000000000000005,
            "bin_end": 6.4,
            "count": 1
           },
           {
            "bin_start": 6.4,
            "bin_end": 7.2,
            "count": 0
           },
           {
            "bin_start": 7.2,
            "bin_end": 8,
            "count": 1
           }
          ]
         }
        },
        {
         "name": "Glucose",
         "dtype": "int64",
         "stats": {
          "unique_count": 5,
          "nan_count": 0,
          "min": "85",
          "max": "183",
          "histogram": [
           {
            "bin_start": 85,
            "bin_end": 94.8,
            "count": 2
           },
           {
            "bin_start": 94.8,
            "bin_end": 104.6,
            "count": 0
           },
           {
            "bin_start": 104.6,
            "bin_end": 114.4,
            "count": 0
           },
           {
            "bin_start": 114.4,
            "bin_end": 124.2,
            "count": 0
           },
           {
            "bin_start": 124.2,
            "bin_end": 134,
            "count": 0
           },
           {
            "bin_start": 134,
            "bin_end": 143.8,
            "count": 1
           },
           {
            "bin_start": 143.8,
            "bin_end": 153.60000000000002,
            "count": 1
           },
           {
            "bin_start": 153.60000000000002,
            "bin_end": 163.4,
            "count": 0
           },
           {
            "bin_start": 163.4,
            "bin_end": 173.2,
            "count": 0
           },
           {
            "bin_start": 173.2,
            "bin_end": 183,
            "count": 1
           }
          ]
         }
        },
        {
         "name": "BloodPressure",
         "dtype": "int64",
         "stats": {
          "unique_count": 4,
          "nan_count": 0,
          "min": "40",
          "max": "72",
          "histogram": [
           {
            "bin_start": 40,
            "bin_end": 43.2,
            "count": 1
           },
           {
            "bin_start": 43.2,
            "bin_end": 46.4,
            "count": 0
           },
           {
            "bin_start": 46.4,
            "bin_end": 49.6,
            "count": 0
           },
           {
            "bin_start": 49.6,
            "bin_end": 52.8,
            "count": 0
           },
           {
            "bin_start": 52.8,
            "bin_end": 56,
            "count": 0
           },
           {
            "bin_start": 56,
            "bin_end": 59.2,
            "count": 0
           },
           {
            "bin_start": 59.2,
            "bin_end": 62.400000000000006,
            "count": 0
           },
           {
            "bin_start": 62.400000000000006,
            "bin_end": 65.6,
            "count": 1
           },
           {
            "bin_start": 65.6,
            "bin_end": 68.8,
            "count": 2
           },
           {
            "bin_start": 68.8,
            "bin_end": 72,
            "count": 1
           }
          ]
         }
        },
        {
         "name": "SkinThickness",
         "dtype": "int64",
         "stats": {
          "unique_count": 4,
          "nan_count": 0,
          "min": "0",
          "max": "35",
          "histogram": [
           {
            "bin_start": 0,
            "bin_end": 3.5,
            "count": 1
           },
           {
            "bin_start": 3.5,
            "bin_end": 7,
            "count": 0
           },
           {
            "bin_start": 7,
            "bin_end": 10.5,
            "count": 0
           },
           {
            "bin_start": 10.5,
            "bin_end": 14,
            "count": 0
           },
           {
            "bin_start": 14,
            "bin_end": 17.5,
            "count": 0
           },
           {
            "bin_start": 17.5,
            "bin_end": 21,
            "count": 0
           },
           {
            "bin_start": 21,
            "bin_end": 24.5,
            "count": 1
           },
           {
            "bin_start": 24.5,
            "bin_end": 28,
            "count": 0
           },
           {
            "bin_start": 28,
            "bin_end": 31.5,
            "count": 1
           },
           {
            "bin_start": 31.5,
            "bin_end": 35,
            "count": 2
           }
          ]
         }
        },
        {
         "name": "Insulin",
         "dtype": "int64",
         "stats": {
          "unique_count": 3,
          "nan_count": 0,
          "min": "0",
          "max": "168",
          "histogram": [
           {
            "bin_start": 0,
            "bin_end": 16.8,
            "count": 3
           },
           {
            "bin_start": 16.8,
            "bin_end": 33.6,
            "count": 0
           },
           {
            "bin_start": 33.6,
            "bin_end": 50.400000000000006,
            "count": 0
           },
           {
            "bin_start": 50.400000000000006,
            "bin_end": 67.2,
            "count": 0
           },
           {
            "bin_start": 67.2,
            "bin_end": 84,
            "count": 0
           },
           {
            "bin_start": 84,
            "bin_end": 100.80000000000001,
            "count": 1
           },
           {
            "bin_start": 100.80000000000001,
            "bin_end": 117.60000000000001,
            "count": 0
           },
           {
            "bin_start": 117.60000000000001,
            "bin_end": 134.4,
            "count": 0
           },
           {
            "bin_start": 134.4,
            "bin_end": 151.20000000000002,
            "count": 0
           },
           {
            "bin_start": 151.20000000000002,
            "bin_end": 168,
            "count": 1
           }
          ]
         }
        },
        {
         "name": "BMI",
         "dtype": "float64",
         "stats": {
          "unique_count": 5,
          "nan_count": 0,
          "min": "23.3",
          "max": "43.1",
          "histogram": [
           {
            "bin_start": 23.3,
            "bin_end": 25.28,
            "count": 1
           },
           {
            "bin_start": 25.28,
            "bin_end": 27.26,
            "count": 1
           },
           {
            "bin_start": 27.26,
            "bin_end": 29.240000000000002,
            "count": 1
           },
           {
            "bin_start": 29.240000000000002,
            "bin_end": 31.22,
            "count": 0
           },
           {
            "bin_start": 31.22,
            "bin_end": 33.2,
            "count": 0
           },
           {
            "bin_start": 33.2,
            "bin_end": 35.18,
            "count": 1
           },
           {
            "bin_start": 35.18,
            "bin_end": 37.16,
            "count": 0
           },
           {
            "bin_start": 37.16,
            "bin_end": 39.14,
            "count": 0
           },
           {
            "bin_start": 39.14,
            "bin_end": 41.120000000000005,
            "count": 0
           },
           {
            "bin_start": 41.120000000000005,
            "bin_end": 43.1,
            "count": 1
           }
          ]
         }
        },
        {
         "name": "DiabetesPedigreeFunction",
         "dtype": "float64",
         "stats": {
          "unique_count": 5,
          "nan_count": 0,
          "min": "0.167",
          "max": "2.288",
          "histogram": [
           {
            "bin_start": 0.167,
            "bin_end": 0.3791,
            "count": 2
           },
           {
            "bin_start": 0.3791,
            "bin_end": 0.5912000000000001,
            "count": 0
           },
           {
            "bin_start": 0.5912000000000001,
            "bin_end": 0.8033000000000001,
            "count": 2
           },
           {
            "bin_start": 0.8033000000000001,
            "bin_end": 1.0154,
            "count": 0
           },
           {
            "bin_start": 1.0154,
            "bin_end": 1.2275,
            "count": 0
           },
           {
            "bin_start": 1.2275,
            "bin_end": 1.4396000000000002,
            "count": 0
           },
           {
            "bin_start": 1.4396000000000002,
            "bin_end": 1.6517000000000002,
            "count": 0
           },
           {
            "bin_start": 1.6517000000000002,
            "bin_end": 1.8638000000000001,
            "count": 0
           },
           {
            "bin_start": 1.8638000000000001,
            "bin_end": 2.0759,
            "count": 0
           },
           {
            "bin_start": 2.0759,
            "bin_end": 2.288,
            "count": 1
           }
          ]
         }
        },
        {
         "name": "Age",
         "dtype": "int64",
         "stats": {
          "unique_count": 5,
          "nan_count": 0,
          "min": "21",
          "max": "50",
          "histogram": [
           {
            "bin_start": 21,
            "bin_end": 23.9,
            "count": 1
           },
           {
            "bin_start": 23.9,
            "bin_end": 26.8,
            "count": 0
           },
           {
            "bin_start": 26.8,
            "bin_end": 29.7,
            "count": 0
           },
           {
            "bin_start": 29.7,
            "bin_end": 32.6,
            "count": 2
           },
           {
            "bin_start": 32.6,
            "bin_end": 35.5,
            "count": 1
           },
           {
            "bin_start": 35.5,
            "bin_end": 38.4,
            "count": 0
           },
           {
            "bin_start": 38.4,
            "bin_end": 41.3,
            "count": 0
           },
           {
            "bin_start": 41.3,
            "bin_end": 44.2,
            "count": 0
           },
           {
            "bin_start": 44.2,
            "bin_end": 47.099999999999994,
            "count": 0
           },
           {
            "bin_start": 47.099999999999994,
            "bin_end": 50,
            "count": 1
           }
          ]
         }
        },
        {
         "name": "Outcome",
         "dtype": "int64",
         "stats": {
          "unique_count": 2,
          "nan_count": 0,
          "min": "0",
          "max": "1",
          "histogram": [
           {
            "bin_start": 0,
            "bin_end": 0.1,
            "count": 2
           },
           {
            "bin_start": 0.1,
            "bin_end": 0.2,
            "count": 0
           },
           {
            "bin_start": 0.2,
            "bin_end": 0.30000000000000004,
            "count": 0
           },
           {
            "bin_start": 0.30000000000000004,
            "bin_end": 0.4,
            "count": 0
           },
           {
            "bin_start": 0.4,
            "bin_end": 0.5,
            "count": 0
           },
           {
            "bin_start": 0.5,
            "bin_end": 0.6000000000000001,
            "count": 0
           },
           {
            "bin_start": 0.6000000000000001,
            "bin_end": 0.7000000000000001,
            "count": 0
           },
           {
            "bin_start": 0.7000000000000001,
            "bin_end": 0.8,
            "count": 0
           },
           {
            "bin_start": 0.8,
            "bin_end": 0.9,
            "count": 0
           },
           {
            "bin_start": 0.9,
            "bin_end": 1,
            "count": 3
           }
          ]
         }
        },
        {
         "name": "_deepnote_index_column",
         "dtype": "int64"
        }
       ],
       "rows": [
        {
         "Pregnancies": 6,
         "Glucose": 148,
         "BloodPressure": 72,
         "SkinThickness": 35,
         "Insulin": 0,
         "BMI": 33.6,
         "DiabetesPedigreeFunction": 0.627,
         "Age": 50,
         "Outcome": 1,
         "_deepnote_index_column": 0
        },
        {
         "Pregnancies": 1,
         "Glucose": 85,
         "BloodPressure": 66,
         "SkinThickness": 29,
         "Insulin": 0,
         "BMI": 26.6,
         "DiabetesPedigreeFunction": 0.351,
         "Age": 31,
         "Outcome": 0,
         "_deepnote_index_column": 1
        },
        {
         "Pregnancies": 8,
         "Glucose": 183,
         "BloodPressure": 64,
         "SkinThickness": 0,
         "Insulin": 0,
         "BMI": 23.3,
         "DiabetesPedigreeFunction": 0.672,
         "Age": 32,
         "Outcome": 1,
         "_deepnote_index_column": 2
        },
        {
         "Pregnancies": 1,
         "Glucose": 89,
         "BloodPressure": 66,
         "SkinThickness": 23,
         "Insulin": 94,
         "BMI": 28.1,
         "DiabetesPedigreeFunction": 0.167,
         "Age": 21,
         "Outcome": 0,
         "_deepnote_index_column": 3
        },
        {
         "Pregnancies": 0,
         "Glucose": 137,
         "BloodPressure": 40,
         "SkinThickness": 35,
         "Insulin": 168,
         "BMI": 43.1,
         "DiabetesPedigreeFunction": 2.288,
         "Age": 33,
         "Outcome": 1,
         "_deepnote_index_column": 4
        }
       ]
      },
      "text/plain": "   Pregnancies  Glucose  BloodPressure  SkinThickness  Insulin   BMI  \\\n0            6      148             72             35        0  33.6   \n1            1       85             66             29        0  26.6   \n2            8      183             64              0        0  23.3   \n3            1       89             66             23       94  28.1   \n4            0      137             40             35      168  43.1   \n\n   DiabetesPedigreeFunction  Age  Outcome  \n0                     0.627   50        1  \n1                     0.351   31        0  \n2                     0.672   32        1  \n3                     0.167   21        0  \n4                     2.288   33        1  ",
      "text/html": "<div>\n<style scoped>\n    .dataframe tbody tr th:only-of-type {\n        vertical-align: middle;\n    }\n\n    .dataframe tbody tr th {\n        vertical-align: top;\n    }\n\n    .dataframe thead th {\n        text-align: right;\n    }\n</style>\n<table border=\"1\" class=\"dataframe\">\n  <thead>\n    <tr style=\"text-align: right;\">\n      <th></th>\n      <th>Pregnancies</th>\n      <th>Glucose</th>\n      <th>BloodPressure</th>\n      <th>SkinThickness</th>\n      <th>Insulin</th>\n      <th>BMI</th>\n      <th>DiabetesPedigreeFunction</th>\n      <th>Age</th>\n      <th>Outcome</th>\n    </tr>\n  </thead>\n  <tbody>\n    <tr>\n      <th>0</th>\n      <td>6</td>\n      <td>148</td>\n      <td>72</td>\n      <td>35</td>\n      <td>0</td>\n      <td>33.6</td>\n      <td>0.627</td>\n      <td>50</td>\n      <td>1</td>\n    </tr>\n    <tr>\n      <th>1</th>\n      <td>1</td>\n      <td>85</td>\n      <td>66</td>\n      <td>29</td>\n      <td>0</td>\n      <td>26.6</td>\n      <td>0.351</td>\n      <td>31</td>\n      <td>0</td>\n    </tr>\n    <tr>\n      <th>2</th>\n      <td>8</td>\n      <td>183</td>\n      <td>64</td>\n      <td>0</td>\n      <td>0</td>\n      <td>23.3</td>\n      <td>0.672</td>\n      <td>32</td>\n      <td>1</td>\n    </tr>\n    <tr>\n      <th>3</th>\n      <td>1</td>\n      <td>89</td>\n      <td>66</td>\n      <td>23</td>\n      <td>94</td>\n      <td>28.1</td>\n      <td>0.167</td>\n      <td>21</td>\n      <td>0</td>\n    </tr>\n    <tr>\n      <th>4</th>\n      <td>0</td>\n      <td>137</td>\n      <td>40</td>\n      <td>35</td>\n      <td>168</td>\n      <td>43.1</td>\n      <td>2.288</td>\n      <td>33</td>\n      <td>1</td>\n    </tr>\n  </tbody>\n</table>\n</div>"
     },
     "metadata": {}
    }
   ],
   "execution_count": null
  },
  {
   "cell_type": "code",
   "source": "data.describe()",
   "metadata": {
    "cell_id": "0bb1368e-7dd5-44c2-982c-5c2bcb187be2",
    "tags": [],
    "deepnote_to_be_reexecuted": false,
    "source_hash": "d786443f",
    "execution_start": 1644173690407,
    "execution_millis": 70,
    "deepnote_app_coordinates": {
     "x": 0,
     "y": 264,
     "w": 12,
     "h": 5
    },
    "deepnote_cell_type": "code"
   },
   "outputs": [
    {
     "output_type": "execute_result",
     "execution_count": 2,
     "data": {
      "application/vnd.deepnote.dataframe.v3+json": {
       "column_count": 9,
       "row_count": 8,
       "columns": [
        {
         "name": "Pregnancies",
         "dtype": "float64",
         "stats": {
          "unique_count": 8,
          "nan_count": 0,
          "min": "0.0",
          "max": "768.0",
          "histogram": [
           {
            "bin_start": 0,
            "bin_end": 76.8,
            "count": 7
           },
           {
            "bin_start": 76.8,
            "bin_end": 153.6,
            "count": 0
           },
           {
            "bin_start": 153.6,
            "bin_end": 230.39999999999998,
            "count": 0
           },
           {
            "bin_start": 230.39999999999998,
            "bin_end": 307.2,
            "count": 0
           },
           {
            "bin_start": 307.2,
            "bin_end": 384,
            "count": 0
           },
           {
            "bin_start": 384,
            "bin_end": 460.79999999999995,
            "count": 0
           },
           {
            "bin_start": 460.79999999999995,
            "bin_end": 537.6,
            "count": 0
           },
           {
            "bin_start": 537.6,
            "bin_end": 614.4,
            "count": 0
           },
           {
            "bin_start": 614.4,
            "bin_end": 691.1999999999999,
            "count": 0
           },
           {
            "bin_start": 691.1999999999999,
            "bin_end": 768,
            "count": 1
           }
          ]
         }
        },
        {
         "name": "Glucose",
         "dtype": "float64",
         "stats": {
          "unique_count": 8,
          "nan_count": 0,
          "min": "0.0",
          "max": "768.0",
          "histogram": [
           {
            "bin_start": 0,
            "bin_end": 76.8,
            "count": 2
           },
           {
            "bin_start": 76.8,
            "bin_end": 153.6,
            "count": 4
           },
           {
            "bin_start": 153.6,
            "bin_end": 230.39999999999998,
            "count": 1
           },
           {
            "bin_start": 230.39999999999998,
            "bin_end": 307.2,
            "count": 0
           },
           {
            "bin_start": 307.2,
            "bin_end": 384,
            "count": 0
           },
           {
            "bin_start": 384,
            "bin_end": 460.79999999999995,
            "count": 0
           },
           {
            "bin_start": 460.79999999999995,
            "bin_end": 537.6,
            "count": 0
           },
           {
            "bin_start": 537.6,
            "bin_end": 614.4,
            "count": 0
           },
           {
            "bin_start": 614.4,
            "bin_end": 691.1999999999999,
            "count": 0
           },
           {
            "bin_start": 691.1999999999999,
            "bin_end": 768,
            "count": 1
           }
          ]
         }
        },
        {
         "name": "BloodPressure",
         "dtype": "float64",
         "stats": {
          "unique_count": 8,
          "nan_count": 0,
          "min": "0.0",
          "max": "768.0",
          "histogram": [
           {
            "bin_start": 0,
            "bin_end": 76.8,
            "count": 5
           },
           {
            "bin_start": 76.8,
            "bin_end": 153.6,
            "count": 2
           },
           {
            "bin_start": 153.6,
            "bin_end": 230.39999999999998,
            "count": 0
           },
           {
            "bin_start": 230.39999999999998,
            "bin_end": 307.2,
            "count": 0
           },
           {
            "bin_start": 307.2,
            "bin_end": 384,
            "count": 0
           },
           {
            "bin_start": 384,
            "bin_end": 460.79999999999995,
            "count": 0
           },
           {
            "bin_start": 460.79999999999995,
            "bin_end": 537.6,
            "count": 0
           },
           {
            "bin_start": 537.6,
            "bin_end": 614.4,
            "count": 0
           },
           {
            "bin_start": 614.4,
            "bin_end": 691.1999999999999,
            "count": 0
           },
           {
            "bin_start": 691.1999999999999,
            "bin_end": 768,
            "count": 1
           }
          ]
         }
        },
        {
         "name": "SkinThickness",
         "dtype": "float64",
         "stats": {
          "unique_count": 7,
          "nan_count": 0,
          "min": "0.0",
          "max": "768.0",
          "histogram": [
           {
            "bin_start": 0,
            "bin_end": 76.8,
            "count": 6
           },
           {
            "bin_start": 76.8,
            "bin_end": 153.6,
            "count": 1
           },
           {
            "bin_start": 153.6,
            "bin_end": 230.39999999999998,
            "count": 0
           },
           {
            "bin_start": 230.39999999999998,
            "bin_end": 307.2,
            "count": 0
           },
           {
            "bin_start": 307.2,
            "bin_end": 384,
            "count": 0
           },
           {
            "bin_start": 384,
            "bin_end": 460.79999999999995,
            "count": 0
           },
           {
            "bin_start": 460.79999999999995,
            "bin_end": 537.6,
            "count": 0
           },
           {
            "bin_start": 537.6,
            "bin_end": 614.4,
            "count": 0
           },
           {
            "bin_start": 614.4,
            "bin_end": 691.1999999999999,
            "count": 0
           },
           {
            "bin_start": 691.1999999999999,
            "bin_end": 768,
            "count": 1
           }
          ]
         }
        },
        {
         "name": "Insulin",
         "dtype": "float64",
         "stats": {
          "unique_count": 7,
          "nan_count": 0,
          "min": "0.0",
          "max": "846.0",
          "histogram": [
           {
            "bin_start": 0,
            "bin_end": 84.6,
            "count": 4
           },
           {
            "bin_start": 84.6,
            "bin_end": 169.2,
            "count": 2
           },
           {
            "bin_start": 169.2,
            "bin_end": 253.79999999999998,
            "count": 0
           },
           {
            "bin_start": 253.79999999999998,
            "bin_end": 338.4,
            "count": 0
           },
           {
            "bin_start": 338.4,
            "bin_end": 423,
            "count": 0
           },
           {
            "bin_start": 423,
            "bin_end": 507.59999999999997,
            "count": 0
           },
           {
            "bin_start": 507.59999999999997,
            "bin_end": 592.1999999999999,
            "count": 0
           },
           {
            "bin_start": 592.1999999999999,
            "bin_end": 676.8,
            "count": 0
           },
           {
            "bin_start": 676.8,
            "bin_end": 761.4,
            "count": 0
           },
           {
            "bin_start": 761.4,
            "bin_end": 846,
            "count": 2
           }
          ]
         }
        },
        {
         "name": "BMI",
         "dtype": "float64",
         "stats": {
          "unique_count": 8,
          "nan_count": 0,
          "min": "0.0",
          "max": "768.0",
          "histogram": [
           {
            "bin_start": 0,
            "bin_end": 76.8,
            "count": 7
           },
           {
            "bin_start": 76.8,
            "bin_end": 153.6,
            "count": 0
           },
           {
            "bin_start": 153.6,
            "bin_end": 230.39999999999998,
            "count": 0
           },
           {
            "bin_start": 230.39999999999998,
            "bin_end": 307.2,
            "count": 0
           },
           {
            "bin_start": 307.2,
            "bin_end": 384,
            "count": 0
           },
           {
            "bin_start": 384,
            "bin_end": 460.79999999999995,
            "count": 0
           },
           {
            "bin_start": 460.79999999999995,
            "bin_end": 537.6,
            "count": 0
           },
           {
            "bin_start": 537.6,
            "bin_end": 614.4,
            "count": 0
           },
           {
            "bin_start": 614.4,
            "bin_end": 691.1999999999999,
            "count": 0
           },
           {
            "bin_start": 691.1999999999999,
            "bin_end": 768,
            "count": 1
           }
          ]
         }
        },
        {
         "name": "DiabetesPedigreeFunction",
         "dtype": "float64",
         "stats": {
          "unique_count": 8,
          "nan_count": 0,
          "min": "0.078",
          "max": "768.0",
          "histogram": [
           {
            "bin_start": 0.078,
            "bin_end": 76.87020000000001,
            "count": 7
           },
           {
            "bin_start": 76.87020000000001,
            "bin_end": 153.66240000000002,
            "count": 0
           },
           {
            "bin_start": 153.66240000000002,
            "bin_end": 230.45460000000003,
            "count": 0
           },
           {
            "bin_start": 230.45460000000003,
            "bin_end": 307.2468,
            "count": 0
           },
           {
            "bin_start": 307.2468,
            "bin_end": 384.039,
            "count": 0
           },
           {
            "bin_start": 384.039,
            "bin_end": 460.8312,
            "count": 0
           },
           {
            "bin_start": 460.8312,
            "bin_end": 537.6234000000001,
            "count": 0
           },
           {
            "bin_start": 537.6234000000001,
            "bin_end": 614.4156,
            "count": 0
           },
           {
            "bin_start": 614.4156,
            "bin_end": 691.2078,
            "count": 0
           },
           {
            "bin_start": 691.2078,
            "bin_end": 768,
            "count": 1
           }
          ]
         }
        },
        {
         "name": "Age",
         "dtype": "float64",
         "stats": {
          "unique_count": 8,
          "nan_count": 0,
          "min": "11.760231540678685",
          "max": "768.0",
          "histogram": [
           {
            "bin_start": 11.760231540678685,
            "bin_end": 87.38420838661082,
            "count": 7
           },
           {
            "bin_start": 87.38420838661082,
            "bin_end": 163.00818523254296,
            "count": 0
           },
           {
            "bin_start": 163.00818523254296,
            "bin_end": 238.6321620784751,
            "count": 0
           },
           {
            "bin_start": 238.6321620784751,
            "bin_end": 314.2561389244072,
            "count": 0
           },
           {
            "bin_start": 314.2561389244072,
            "bin_end": 389.88011577033933,
            "count": 0
           },
           {
            "bin_start": 389.88011577033933,
            "bin_end": 465.50409261627146,
            "count": 0
           },
           {
            "bin_start": 465.50409261627146,
            "bin_end": 541.1280694622036,
            "count": 0
           },
           {
            "bin_start": 541.1280694622036,
            "bin_end": 616.7520463081357,
            "count": 0
           },
           {
            "bin_start": 616.7520463081357,
            "bin_end": 692.3760231540679,
            "count": 0
           },
           {
            "bin_start": 692.3760231540679,
            "bin_end": 768,
            "count": 1
           }
          ]
         }
        },
        {
         "name": "Outcome",
         "dtype": "float64",
         "stats": {
          "unique_count": 5,
          "nan_count": 0,
          "min": "0.0",
          "max": "768.0",
          "histogram": [
           {
            "bin_start": 0,
            "bin_end": 76.8,
            "count": 7
           },
           {
            "bin_start": 76.8,
            "bin_end": 153.6,
            "count": 0
           },
           {
            "bin_start": 153.6,
            "bin_end": 230.39999999999998,
            "count": 0
           },
           {
            "bin_start": 230.39999999999998,
            "bin_end": 307.2,
            "count": 0
           },
           {
            "bin_start": 307.2,
            "bin_end": 384,
            "count": 0
           },
           {
            "bin_start": 384,
            "bin_end": 460.79999999999995,
            "count": 0
           },
           {
            "bin_start": 460.79999999999995,
            "bin_end": 537.6,
            "count": 0
           },
           {
            "bin_start": 537.6,
            "bin_end": 614.4,
            "count": 0
           },
           {
            "bin_start": 614.4,
            "bin_end": 691.1999999999999,
            "count": 0
           },
           {
            "bin_start": 691.1999999999999,
            "bin_end": 768,
            "count": 1
           }
          ]
         }
        },
        {
         "name": "_deepnote_index_column",
         "dtype": "object"
        }
       ],
       "rows": [
        {
         "Pregnancies": 768,
         "Glucose": 768,
         "BloodPressure": 768,
         "SkinThickness": 768,
         "Insulin": 768,
         "BMI": 768,
         "DiabetesPedigreeFunction": 768,
         "Age": 768,
         "Outcome": 768,
         "_deepnote_index_column": "count"
        },
        {
         "Pregnancies": 3.8450520833333335,
         "Glucose": 120.89453125,
         "BloodPressure": 69.10546875,
         "SkinThickness": 20.536458333333332,
         "Insulin": 79.79947916666667,
         "BMI": 31.992578124999998,
         "DiabetesPedigreeFunction": 0.47187630208333325,
         "Age": 33.240885416666664,
         "Outcome": 0.3489583333333333,
         "_deepnote_index_column": "mean"
        },
        {
         "Pregnancies": 3.3695780626988694,
         "Glucose": 31.97261819513622,
         "BloodPressure": 19.355807170644777,
         "SkinThickness": 15.952217567727637,
         "Insulin": 115.24400235133817,
         "BMI": 7.884160320375446,
         "DiabetesPedigreeFunction": 0.3313285950127749,
         "Age": 11.760231540678685,
         "Outcome": 0.47695137724279896,
         "_deepnote_index_column": "std"
        },
        {
         "Pregnancies": 0,
         "Glucose": 0,
         "BloodPressure": 0,
         "SkinThickness": 0,
         "Insulin": 0,
         "BMI": 0,
         "DiabetesPedigreeFunction": 0.078,
         "Age": 21,
         "Outcome": 0,
         "_deepnote_index_column": "min"
        },
        {
         "Pregnancies": 1,
         "Glucose": 99,
         "BloodPressure": 62,
         "SkinThickness": 0,
         "Insulin": 0,
         "BMI": 27.3,
         "DiabetesPedigreeFunction": 0.24375,
         "Age": 24,
         "Outcome": 0,
         "_deepnote_index_column": "25%"
        },
        {
         "Pregnancies": 3,
         "Glucose": 117,
         "BloodPressure": 72,
         "SkinThickness": 23,
         "Insulin": 30.5,
         "BMI": 32,
         "DiabetesPedigreeFunction": 0.3725,
         "Age": 29,
         "Outcome": 0,
         "_deepnote_index_column": "50%"
        },
        {
         "Pregnancies": 6,
         "Glucose": 140.25,
         "BloodPressure": 80,
         "SkinThickness": 32,
         "Insulin": 127.25,
         "BMI": 36.6,
         "DiabetesPedigreeFunction": 0.62625,
         "Age": 41,
         "Outcome": 1,
         "_deepnote_index_column": "75%"
        },
        {
         "Pregnancies": 17,
         "Glucose": 199,
         "BloodPressure": 122,
         "SkinThickness": 99,
         "Insulin": 846,
         "BMI": 67.1,
         "DiabetesPedigreeFunction": 2.42,
         "Age": 81,
         "Outcome": 1,
         "_deepnote_index_column": "max"
        }
       ]
      },
      "text/plain": "       Pregnancies     Glucose  BloodPressure  SkinThickness     Insulin  \\\ncount   768.000000  768.000000     768.000000     768.000000  768.000000   \nmean      3.845052  120.894531      69.105469      20.536458   79.799479   \nstd       3.369578   31.972618      19.355807      15.952218  115.244002   \nmin       0.000000    0.000000       0.000000       0.000000    0.000000   \n25%       1.000000   99.000000      62.000000       0.000000    0.000000   \n50%       3.000000  117.000000      72.000000      23.000000   30.500000   \n75%       6.000000  140.250000      80.000000      32.000000  127.250000   \nmax      17.000000  199.000000     122.000000      99.000000  846.000000   \n\n              BMI  DiabetesPedigreeFunction         Age     Outcome  \ncount  768.000000                768.000000  768.000000  768.000000  \nmean    31.992578                  0.471876   33.240885    0.348958  \nstd      7.884160                  0.331329   11.760232    0.476951  \nmin      0.000000                  0.078000   21.000000    0.000000  \n25%     27.300000                  0.243750   24.000000    0.000000  \n50%     32.000000                  0.372500   29.000000    0.000000  \n75%     36.600000                  0.626250   41.000000    1.000000  \nmax     67.100000                  2.420000   81.000000    1.000000  ",
      "text/html": "<div>\n<style scoped>\n    .dataframe tbody tr th:only-of-type {\n        vertical-align: middle;\n    }\n\n    .dataframe tbody tr th {\n        vertical-align: top;\n    }\n\n    .dataframe thead th {\n        text-align: right;\n    }\n</style>\n<table border=\"1\" class=\"dataframe\">\n  <thead>\n    <tr style=\"text-align: right;\">\n      <th></th>\n      <th>Pregnancies</th>\n      <th>Glucose</th>\n      <th>BloodPressure</th>\n      <th>SkinThickness</th>\n      <th>Insulin</th>\n      <th>BMI</th>\n      <th>DiabetesPedigreeFunction</th>\n      <th>Age</th>\n      <th>Outcome</th>\n    </tr>\n  </thead>\n  <tbody>\n    <tr>\n      <th>count</th>\n      <td>768.000000</td>\n      <td>768.000000</td>\n      <td>768.000000</td>\n      <td>768.000000</td>\n      <td>768.000000</td>\n      <td>768.000000</td>\n      <td>768.000000</td>\n      <td>768.000000</td>\n      <td>768.000000</td>\n    </tr>\n    <tr>\n      <th>mean</th>\n      <td>3.845052</td>\n      <td>120.894531</td>\n      <td>69.105469</td>\n      <td>20.536458</td>\n      <td>79.799479</td>\n      <td>31.992578</td>\n      <td>0.471876</td>\n      <td>33.240885</td>\n      <td>0.348958</td>\n    </tr>\n    <tr>\n      <th>std</th>\n      <td>3.369578</td>\n      <td>31.972618</td>\n      <td>19.355807</td>\n      <td>15.952218</td>\n      <td>115.244002</td>\n      <td>7.884160</td>\n      <td>0.331329</td>\n      <td>11.760232</td>\n      <td>0.476951</td>\n    </tr>\n    <tr>\n      <th>min</th>\n      <td>0.000000</td>\n      <td>0.000000</td>\n      <td>0.000000</td>\n      <td>0.000000</td>\n      <td>0.000000</td>\n      <td>0.000000</td>\n      <td>0.078000</td>\n      <td>21.000000</td>\n      <td>0.000000</td>\n    </tr>\n    <tr>\n      <th>25%</th>\n      <td>1.000000</td>\n      <td>99.000000</td>\n      <td>62.000000</td>\n      <td>0.000000</td>\n      <td>0.000000</td>\n      <td>27.300000</td>\n      <td>0.243750</td>\n      <td>24.000000</td>\n      <td>0.000000</td>\n    </tr>\n    <tr>\n      <th>50%</th>\n      <td>3.000000</td>\n      <td>117.000000</td>\n      <td>72.000000</td>\n      <td>23.000000</td>\n      <td>30.500000</td>\n      <td>32.000000</td>\n      <td>0.372500</td>\n      <td>29.000000</td>\n      <td>0.000000</td>\n    </tr>\n    <tr>\n      <th>75%</th>\n      <td>6.000000</td>\n      <td>140.250000</td>\n      <td>80.000000</td>\n      <td>32.000000</td>\n      <td>127.250000</td>\n      <td>36.600000</td>\n      <td>0.626250</td>\n      <td>41.000000</td>\n      <td>1.000000</td>\n    </tr>\n    <tr>\n      <th>max</th>\n      <td>17.000000</td>\n      <td>199.000000</td>\n      <td>122.000000</td>\n      <td>99.000000</td>\n      <td>846.000000</td>\n      <td>67.100000</td>\n      <td>2.420000</td>\n      <td>81.000000</td>\n      <td>1.000000</td>\n    </tr>\n  </tbody>\n</table>\n</div>"
     },
     "metadata": {}
    }
   ],
   "execution_count": null
  },
  {
   "cell_type": "code",
   "metadata": {
    "cell_id": "2b2d0e71-f2b0-4d06-aae0-b281d8215312",
    "tags": [],
    "deepnote_to_be_reexecuted": false,
    "source_hash": "e9dc668d",
    "execution_start": 1644173690489,
    "execution_millis": 108,
    "deepnote_app_coordinates": {
     "x": 0,
     "y": 12,
     "w": 12,
     "h": 5
    },
    "deepnote_cell_type": "code"
   },
   "source": "X = data.iloc[:,:-1]\nX",
   "outputs": [
    {
     "output_type": "execute_result",
     "execution_count": 3,
     "data": {
      "application/vnd.deepnote.dataframe.v3+json": {
       "column_count": 8,
       "row_count": 768,
       "columns": [
        {
         "name": "Pregnancies",
         "dtype": "int64",
         "stats": {
          "unique_count": 17,
          "nan_count": 0,
          "min": "0",
          "max": "17",
          "histogram": [
           {
            "bin_start": 0,
            "bin_end": 1.7,
            "count": 246
           },
           {
            "bin_start": 1.7,
            "bin_end": 3.4,
            "count": 178
           },
           {
            "bin_start": 3.4,
            "bin_end": 5.1,
            "count": 125
           },
           {
            "bin_start": 5.1,
            "bin_end": 6.8,
            "count": 50
           },
           {
            "bin_start": 6.8,
            "bin_end": 8.5,
            "count": 83
           },
           {
            "bin_start": 8.5,
            "bin_end": 10.2,
            "count": 52
           },
           {
            "bin_start": 10.2,
            "bin_end": 11.9,
            "count": 11
           },
           {
            "bin_start": 11.9,
            "bin_end": 13.6,
            "count": 19
           },
           {
            "bin_start": 13.6,
            "bin_end": 15.299999999999999,
            "count": 3
           },
           {
            "bin_start": 15.299999999999999,
            "bin_end": 17,
            "count": 1
           }
          ]
         }
        },
        {
         "name": "Glucose",
         "dtype": "int64",
         "stats": {
          "unique_count": 136,
          "nan_count": 0,
          "min": "0",
          "max": "199",
          "histogram": [
           {
            "bin_start": 0,
            "bin_end": 19.9,
            "count": 5
           },
           {
            "bin_start": 19.9,
            "bin_end": 39.8,
            "count": 0
           },
           {
            "bin_start": 39.8,
            "bin_end": 59.699999999999996,
            "count": 4
           },
           {
            "bin_start": 59.699999999999996,
            "bin_end": 79.6,
            "count": 32
           },
           {
            "bin_start": 79.6,
            "bin_end": 99.5,
            "count": 156
           },
           {
            "bin_start": 99.5,
            "bin_end": 119.39999999999999,
            "count": 211
           },
           {
            "bin_start": 119.39999999999999,
            "bin_end": 139.29999999999998,
            "count": 163
           },
           {
            "bin_start": 139.29999999999998,
            "bin_end": 159.2,
            "count": 95
           },
           {
            "bin_start": 159.2,
            "bin_end": 179.1,
            "count": 56
           },
           {
            "bin_start": 179.1,
            "bin_end": 199,
            "count": 46
           }
          ]
         }
        },
        {
         "name": "BloodPressure",
         "dtype": "int64",
         "stats": {
          "unique_count": 47,
          "nan_count": 0,
          "min": "0",
          "max": "122",
          "histogram": [
           {
            "bin_start": 0,
            "bin_end": 12.2,
            "count": 35
           },
           {
            "bin_start": 12.2,
            "bin_end": 24.4,
            "count": 1
           },
           {
            "bin_start": 24.4,
            "bin_end": 36.599999999999994,
            "count": 2
           },
           {
            "bin_start": 36.599999999999994,
            "bin_end": 48.8,
            "count": 13
           },
           {
            "bin_start": 48.8,
            "bin_end": 61,
            "count": 107
           },
           {
            "bin_start": 61,
            "bin_end": 73.19999999999999,
            "count": 261
           },
           {
            "bin_start": 73.19999999999999,
            "bin_end": 85.39999999999999,
            "count": 243
           },
           {
            "bin_start": 85.39999999999999,
            "bin_end": 97.6,
            "count": 87
           },
           {
            "bin_start": 97.6,
            "bin_end": 109.8,
            "count": 14
           },
           {
            "bin_start": 109.8,
            "bin_end": 122,
            "count": 5
           }
          ]
         }
        },
        {
         "name": "SkinThickness",
         "dtype": "int64",
         "stats": {
          "unique_count": 51,
          "nan_count": 0,
          "min": "0",
          "max": "99",
          "histogram": [
           {
            "bin_start": 0,
            "bin_end": 9.9,
            "count": 231
           },
           {
            "bin_start": 9.9,
            "bin_end": 19.8,
            "count": 107
           },
           {
            "bin_start": 19.8,
            "bin_end": 29.700000000000003,
            "count": 165
           },
           {
            "bin_start": 29.700000000000003,
            "bin_end": 39.6,
            "count": 175
           },
           {
            "bin_start": 39.6,
            "bin_end": 49.5,
            "count": 78
           },
           {
            "bin_start": 49.5,
            "bin_end": 59.400000000000006,
            "count": 9
           },
           {
            "bin_start": 59.400000000000006,
            "bin_end": 69.3,
            "count": 2
           },
           {
            "bin_start": 69.3,
            "bin_end": 79.2,
            "count": 0
           },
           {
            "bin_start": 79.2,
            "bin_end": 89.10000000000001,
            "count": 0
           },
           {
            "bin_start": 89.10000000000001,
            "bin_end": 99,
            "count": 1
           }
          ]
         }
        },
        {
         "name": "Insulin",
         "dtype": "int64",
         "stats": {
          "unique_count": 186,
          "nan_count": 0,
          "min": "0",
          "max": "846",
          "histogram": [
           {
            "bin_start": 0,
            "bin_end": 84.6,
            "count": 487
           },
           {
            "bin_start": 84.6,
            "bin_end": 169.2,
            "count": 155
           },
           {
            "bin_start": 169.2,
            "bin_end": 253.79999999999998,
            "count": 70
           },
           {
            "bin_start": 253.79999999999998,
            "bin_end": 338.4,
            "count": 30
           },
           {
            "bin_start": 338.4,
            "bin_end": 423,
            "count": 8
           },
           {
            "bin_start": 423,
            "bin_end": 507.59999999999997,
            "count": 9
           },
           {
            "bin_start": 507.59999999999997,
            "bin_end": 592.1999999999999,
            "count": 5
           },
           {
            "bin_start": 592.1999999999999,
            "bin_end": 676.8,
            "count": 1
           },
           {
            "bin_start": 676.8,
            "bin_end": 761.4,
            "count": 2
           },
           {
            "bin_start": 761.4,
            "bin_end": 846,
            "count": 1
           }
          ]
         }
        },
        {
         "name": "BMI",
         "dtype": "float64",
         "stats": {
          "unique_count": 248,
          "nan_count": 0,
          "min": "0.0",
          "max": "67.1",
          "histogram": [
           {
            "bin_start": 0,
            "bin_end": 6.709999999999999,
            "count": 11
           },
           {
            "bin_start": 6.709999999999999,
            "bin_end": 13.419999999999998,
            "count": 0
           },
           {
            "bin_start": 13.419999999999998,
            "bin_end": 20.129999999999995,
            "count": 15
           },
           {
            "bin_start": 20.129999999999995,
            "bin_end": 26.839999999999996,
            "count": 156
           },
           {
            "bin_start": 26.839999999999996,
            "bin_end": 33.55,
            "count": 268
           },
           {
            "bin_start": 33.55,
            "bin_end": 40.25999999999999,
            "count": 224
           },
           {
            "bin_start": 40.25999999999999,
            "bin_end": 46.96999999999999,
            "count": 78
           },
           {
            "bin_start": 46.96999999999999,
            "bin_end": 53.67999999999999,
            "count": 12
           },
           {
            "bin_start": 53.67999999999999,
            "bin_end": 60.38999999999999,
            "count": 3
           },
           {
            "bin_start": 60.38999999999999,
            "bin_end": 67.1,
            "count": 1
           }
          ]
         }
        },
        {
         "name": "DiabetesPedigreeFunction",
         "dtype": "float64",
         "stats": {
          "unique_count": 517,
          "nan_count": 0,
          "min": "0.078",
          "max": "2.42",
          "histogram": [
           {
            "bin_start": 0.078,
            "bin_end": 0.31220000000000003,
            "count": 318
           },
           {
            "bin_start": 0.31220000000000003,
            "bin_end": 0.5464,
            "count": 206
           },
           {
            "bin_start": 0.5464,
            "bin_end": 0.7806000000000001,
            "count": 136
           },
           {
            "bin_start": 0.7806000000000001,
            "bin_end": 1.0148000000000001,
            "count": 58
           },
           {
            "bin_start": 1.0148000000000001,
            "bin_end": 1.249,
            "count": 25
           },
           {
            "bin_start": 1.249,
            "bin_end": 1.4832000000000003,
            "count": 15
           },
           {
            "bin_start": 1.4832000000000003,
            "bin_end": 1.7174000000000003,
            "count": 3
           },
           {
            "bin_start": 1.7174000000000003,
            "bin_end": 1.9516000000000002,
            "count": 3
           },
           {
            "bin_start": 1.9516000000000002,
            "bin_end": 2.1858,
            "count": 1
           },
           {
            "bin_start": 2.1858,
            "bin_end": 2.42,
            "count": 3
           }
          ]
         }
        },
        {
         "name": "Age",
         "dtype": "int64",
         "stats": {
          "unique_count": 52,
          "nan_count": 0,
          "min": "21",
          "max": "81",
          "histogram": [
           {
            "bin_start": 21,
            "bin_end": 27,
            "count": 300
           },
           {
            "bin_start": 27,
            "bin_end": 33,
            "count": 157
           },
           {
            "bin_start": 33,
            "bin_end": 39,
            "count": 92
           },
           {
            "bin_start": 39,
            "bin_end": 45,
            "count": 86
           },
           {
            "bin_start": 45,
            "bin_end": 51,
            "count": 52
           },
           {
            "bin_start": 51,
            "bin_end": 57,
            "count": 34
           },
           {
            "bin_start": 57,
            "bin_end": 63,
            "count": 26
           },
           {
            "bin_start": 63,
            "bin_end": 69,
            "count": 16
           },
           {
            "bin_start": 69,
            "bin_end": 75,
            "count": 4
           },
           {
            "bin_start": 75,
            "bin_end": 81,
            "count": 1
           }
          ]
         }
        },
        {
         "name": "_deepnote_index_column",
         "dtype": "int64"
        }
       ],
       "rows": [
        {
         "Pregnancies": 6,
         "Glucose": 148,
         "BloodPressure": 72,
         "SkinThickness": 35,
         "Insulin": 0,
         "BMI": 33.6,
         "DiabetesPedigreeFunction": 0.627,
         "Age": 50,
         "_deepnote_index_column": 0
        },
        {
         "Pregnancies": 1,
         "Glucose": 85,
         "BloodPressure": 66,
         "SkinThickness": 29,
         "Insulin": 0,
         "BMI": 26.6,
         "DiabetesPedigreeFunction": 0.351,
         "Age": 31,
         "_deepnote_index_column": 1
        },
        {
         "Pregnancies": 8,
         "Glucose": 183,
         "BloodPressure": 64,
         "SkinThickness": 0,
         "Insulin": 0,
         "BMI": 23.3,
         "DiabetesPedigreeFunction": 0.672,
         "Age": 32,
         "_deepnote_index_column": 2
        },
        {
         "Pregnancies": 1,
         "Glucose": 89,
         "BloodPressure": 66,
         "SkinThickness": 23,
         "Insulin": 94,
         "BMI": 28.1,
         "DiabetesPedigreeFunction": 0.167,
         "Age": 21,
         "_deepnote_index_column": 3
        },
        {
         "Pregnancies": 0,
         "Glucose": 137,
         "BloodPressure": 40,
         "SkinThickness": 35,
         "Insulin": 168,
         "BMI": 43.1,
         "DiabetesPedigreeFunction": 2.288,
         "Age": 33,
         "_deepnote_index_column": 4
        },
        {
         "Pregnancies": 5,
         "Glucose": 116,
         "BloodPressure": 74,
         "SkinThickness": 0,
         "Insulin": 0,
         "BMI": 25.6,
         "DiabetesPedigreeFunction": 0.201,
         "Age": 30,
         "_deepnote_index_column": 5
        },
        {
         "Pregnancies": 3,
         "Glucose": 78,
         "BloodPressure": 50,
         "SkinThickness": 32,
         "Insulin": 88,
         "BMI": 31,
         "DiabetesPedigreeFunction": 0.248,
         "Age": 26,
         "_deepnote_index_column": 6
        },
        {
         "Pregnancies": 10,
         "Glucose": 115,
         "BloodPressure": 0,
         "SkinThickness": 0,
         "Insulin": 0,
         "BMI": 35.3,
         "DiabetesPedigreeFunction": 0.134,
         "Age": 29,
         "_deepnote_index_column": 7
        },
        {
         "Pregnancies": 2,
         "Glucose": 197,
         "BloodPressure": 70,
         "SkinThickness": 45,
         "Insulin": 543,
         "BMI": 30.5,
         "DiabetesPedigreeFunction": 0.158,
         "Age": 53,
         "_deepnote_index_column": 8
        },
        {
         "Pregnancies": 8,
         "Glucose": 125,
         "BloodPressure": 96,
         "SkinThickness": 0,
         "Insulin": 0,
         "BMI": 0,
         "DiabetesPedigreeFunction": 0.232,
         "Age": 54,
         "_deepnote_index_column": 9
        }
       ]
      },
      "text/plain": "     Pregnancies  Glucose  BloodPressure  SkinThickness  Insulin   BMI  \\\n0              6      148             72             35        0  33.6   \n1              1       85             66             29        0  26.6   \n2              8      183             64              0        0  23.3   \n3              1       89             66             23       94  28.1   \n4              0      137             40             35      168  43.1   \n..           ...      ...            ...            ...      ...   ...   \n763           10      101             76             48      180  32.9   \n764            2      122             70             27        0  36.8   \n765            5      121             72             23      112  26.2   \n766            1      126             60              0        0  30.1   \n767            1       93             70             31        0  30.4   \n\n     DiabetesPedigreeFunction  Age  \n0                       0.627   50  \n1                       0.351   31  \n2                       0.672   32  \n3                       0.167   21  \n4                       2.288   33  \n..                        ...  ...  \n763                     0.171   63  \n764                     0.340   27  \n765                     0.245   30  \n766                     0.349   47  \n767                     0.315   23  \n\n[768 rows x 8 columns]",
      "text/html": "<div>\n<style scoped>\n    .dataframe tbody tr th:only-of-type {\n        vertical-align: middle;\n    }\n\n    .dataframe tbody tr th {\n        vertical-align: top;\n    }\n\n    .dataframe thead th {\n        text-align: right;\n    }\n</style>\n<table border=\"1\" class=\"dataframe\">\n  <thead>\n    <tr style=\"text-align: right;\">\n      <th></th>\n      <th>Pregnancies</th>\n      <th>Glucose</th>\n      <th>BloodPressure</th>\n      <th>SkinThickness</th>\n      <th>Insulin</th>\n      <th>BMI</th>\n      <th>DiabetesPedigreeFunction</th>\n      <th>Age</th>\n    </tr>\n  </thead>\n  <tbody>\n    <tr>\n      <th>0</th>\n      <td>6</td>\n      <td>148</td>\n      <td>72</td>\n      <td>35</td>\n      <td>0</td>\n      <td>33.6</td>\n      <td>0.627</td>\n      <td>50</td>\n    </tr>\n    <tr>\n      <th>1</th>\n      <td>1</td>\n      <td>85</td>\n      <td>66</td>\n      <td>29</td>\n      <td>0</td>\n      <td>26.6</td>\n      <td>0.351</td>\n      <td>31</td>\n    </tr>\n    <tr>\n      <th>2</th>\n      <td>8</td>\n      <td>183</td>\n      <td>64</td>\n      <td>0</td>\n      <td>0</td>\n      <td>23.3</td>\n      <td>0.672</td>\n      <td>32</td>\n    </tr>\n    <tr>\n      <th>3</th>\n      <td>1</td>\n      <td>89</td>\n      <td>66</td>\n      <td>23</td>\n      <td>94</td>\n      <td>28.1</td>\n      <td>0.167</td>\n      <td>21</td>\n    </tr>\n    <tr>\n      <th>4</th>\n      <td>0</td>\n      <td>137</td>\n      <td>40</td>\n      <td>35</td>\n      <td>168</td>\n      <td>43.1</td>\n      <td>2.288</td>\n      <td>33</td>\n    </tr>\n    <tr>\n      <th>...</th>\n      <td>...</td>\n      <td>...</td>\n      <td>...</td>\n      <td>...</td>\n      <td>...</td>\n      <td>...</td>\n      <td>...</td>\n      <td>...</td>\n    </tr>\n    <tr>\n      <th>763</th>\n      <td>10</td>\n      <td>101</td>\n      <td>76</td>\n      <td>48</td>\n      <td>180</td>\n      <td>32.9</td>\n      <td>0.171</td>\n      <td>63</td>\n    </tr>\n    <tr>\n      <th>764</th>\n      <td>2</td>\n      <td>122</td>\n      <td>70</td>\n      <td>27</td>\n      <td>0</td>\n      <td>36.8</td>\n      <td>0.340</td>\n      <td>27</td>\n    </tr>\n    <tr>\n      <th>765</th>\n      <td>5</td>\n      <td>121</td>\n      <td>72</td>\n      <td>23</td>\n      <td>112</td>\n      <td>26.2</td>\n      <td>0.245</td>\n      <td>30</td>\n    </tr>\n    <tr>\n      <th>766</th>\n      <td>1</td>\n      <td>126</td>\n      <td>60</td>\n      <td>0</td>\n      <td>0</td>\n      <td>30.1</td>\n      <td>0.349</td>\n      <td>47</td>\n    </tr>\n    <tr>\n      <th>767</th>\n      <td>1</td>\n      <td>93</td>\n      <td>70</td>\n      <td>31</td>\n      <td>0</td>\n      <td>30.4</td>\n      <td>0.315</td>\n      <td>23</td>\n    </tr>\n  </tbody>\n</table>\n<p>768 rows × 8 columns</p>\n</div>"
     },
     "metadata": {}
    }
   ],
   "execution_count": null
  },
  {
   "cell_type": "code",
   "metadata": {
    "cell_id": "ddd67bf7-6bcd-426d-b934-14bd29a0efcb",
    "tags": [],
    "deepnote_to_be_reexecuted": false,
    "source_hash": "42f4b455",
    "execution_start": 1644173690602,
    "execution_millis": 4,
    "deepnote_table_state": {
     "pageSize": 10,
     "pageIndex": 1,
     "filters": [],
     "sortBy": []
    },
    "deepnote_table_loading": false,
    "deepnote_output_heights": [
     232.3125
    ],
    "deepnote_app_coordinates": {
     "x": 0,
     "y": 18,
     "w": 12,
     "h": 5
    },
    "deepnote_cell_type": "code"
   },
   "source": "y = data.iloc[:, -1]\n",
   "outputs": [],
   "execution_count": null
  },
  {
   "cell_type": "markdown",
   "source": "### Utilizando Cross-Validation  Estratificado do Sklearn",
   "metadata": {
    "cell_id": "94b57020-09a6-4a6f-afb6-ff37be31c034",
    "tags": [],
    "is_collapsed": false,
    "deepnote_app_coordinates": {
     "x": 0,
     "y": 294,
     "w": 12,
     "h": 5
    },
    "deepnote_cell_type": "text-cell-h3"
   }
  },
  {
   "cell_type": "markdown",
   "source": "A utilização desse método é para ter uma estimativa melhor do desempenho final dos modelos. O `StratifiedShuffleSplit` divide o dataset em n partes de teste e treino, mantendo as proporções das classes. Então faço uma média simples sobre todas essas execuções. Por padrão utilizei **n=10**.",
   "metadata": {
    "cell_id": "e86829bd-7e9b-4d3c-86c3-334f19219733",
    "tags": [],
    "deepnote_app_coordinates": {
     "x": 0,
     "y": 306,
     "w": 12,
     "h": 5
    },
    "deepnote_cell_type": "markdown"
   }
  },
  {
   "cell_type": "code",
   "source": "cv = StratifiedShuffleSplit(n_splits=10, test_size=0.2, random_state=random.seed())",
   "metadata": {
    "cell_id": "9307a249-9a4f-4fd2-80b9-96276826ae1c",
    "tags": [],
    "deepnote_to_be_reexecuted": false,
    "source_hash": "f955d559",
    "execution_start": 1644173690609,
    "execution_millis": 5,
    "deepnote_output_heights": [
     21.171875
    ],
    "deepnote_app_coordinates": {
     "x": 0,
     "y": 300,
     "w": 12,
     "h": 5
    },
    "deepnote_cell_type": "code"
   },
   "outputs": [],
   "execution_count": null
  },
  {
   "cell_type": "markdown",
   "source": "### Experimento A",
   "metadata": {
    "cell_id": "b856aa04-43c0-4a40-843c-beeb2157f2c5",
    "tags": [],
    "is_collapsed": false,
    "deepnote_app_coordinates": {
     "x": 0,
     "y": 24,
     "w": 12,
     "h": 5
    },
    "deepnote_cell_type": "text-cell-h3"
   }
  },
  {
   "cell_type": "markdown",
   "source": "Treine e teste árvores de decisão utilizando como critério de seleção de\natributos o Gain Ratio/Entropy (C4.5/J48) ou Índice Gini (CART) -\nespecifique no relatório sua escolha. ",
   "metadata": {
    "cell_id": "d0b52dd8-4fab-4fc8-8e22-0d48bc8ac8d0",
    "tags": [],
    "deepnote_app_coordinates": {
     "x": 0,
     "y": 30,
     "w": 12,
     "h": 5
    },
    "deepnote_cell_type": "markdown"
   }
  },
  {
   "cell_type": "code",
   "metadata": {
    "cell_id": "0b68b596-343e-4398-ad96-1ed555e80bfb",
    "tags": [],
    "deepnote_to_be_reexecuted": false,
    "source_hash": "a476491d",
    "execution_start": 1644173690622,
    "execution_millis": 163,
    "deepnote_app_coordinates": {
     "x": 0,
     "y": 36,
     "w": 12,
     "h": 5
    },
    "deepnote_cell_type": "code"
   },
   "source": "clf = DecisionTreeClassifier(criterion=\"entropy\")\n\nscores = cross_val_score(clf, X, y, cv=cv)\n\nprint(\"Accuracy:\",scores.mean())",
   "outputs": [
    {
     "name": "stdout",
     "text": "Accuracy: 0.688961038961039\n",
     "output_type": "stream"
    }
   ],
   "execution_count": null
  },
  {
   "cell_type": "code",
   "source": "for train_index, test_index in cv.split(X,y):\n  clf.fit(X.loc[train_index], y.loc[train_index])",
   "metadata": {
    "cell_id": "bde1ba5e-7020-4e69-969a-4d62fec4fe0e",
    "tags": [],
    "deepnote_to_be_reexecuted": false,
    "source_hash": "6d03eac3",
    "execution_start": 1644173690788,
    "execution_millis": 110,
    "deepnote_app_coordinates": {
     "x": 0,
     "y": 378,
     "w": 12,
     "h": 5
    },
    "deepnote_cell_type": "code"
   },
   "outputs": [],
   "execution_count": null
  },
  {
   "cell_type": "code",
   "metadata": {
    "cell_id": "abe9512c-4abb-4f80-90ee-6dfefa2b9d2a",
    "tags": [],
    "deepnote_to_be_reexecuted": false,
    "source_hash": "1d21e428",
    "execution_start": 1644173690902,
    "execution_millis": 19005,
    "deepnote_output_heights": [
     560
    ],
    "deepnote_app_coordinates": {
     "x": 0,
     "y": 42,
     "w": 12,
     "h": 5
    },
    "deepnote_cell_type": "code"
   },
   "source": "fig, ax = plt.subplots(figsize=(10, 10))\ntree.plot_tree(clf, fontsize=2,\n                                    feature_names=[\"Pregnancies\",\"Glucose\",\"BloodPressure\",\"SkinThickness\",\n                                    \"Insulin\",\"BMI\",\"DiabetesPedigreeFunction\",\"Age\"])\nplt.show()",
   "outputs": [
    {
     "data": {
      "text/plain": "<Figure size 720x720 with 1 Axes>",
      "image/png": "[encoded data removed]"
     },
     "metadata": {
      "needs_background": "light",
      "image/png": {
       "width": 574,
       "height": 558
      }
     },
     "output_type": "display_data"
    }
   ],
   "execution_count": null
  },
  {
   "cell_type": "code",
   "metadata": {
    "cell_id": "9c827e83-14dd-4dc4-92a6-e467882fd481",
    "tags": [],
    "deepnote_to_be_reexecuted": false,
    "source_hash": "9884aff3",
    "execution_start": 1644173709928,
    "execution_millis": 1470,
    "deepnote_output_heights": [
     1
    ],
    "deepnote_app_coordinates": {
     "x": 0,
     "y": 48,
     "w": 12,
     "h": 5
    },
    "deepnote_cell_type": "code"
   },
   "source": "\n \ndot_data = export_graphviz(clf, filled=True, rounded=True,max_depth=3,out_file=None,\n    feature_names=[\"Pregnancies\",\"Glucose\",\"BloodPressure\",\"SkinThickness\",\n    \"Insulin\",\"BMI\",\"DiabetesPedigreeFunction\",\"Age\"], class_names=['0','1'])\ngraph = graph_from_dot_data(dot_data)\ngraph.write_png('/work/masters-degree-class-assignments/AM/decision-trees/ExperimentA-plot-tree.png')",
   "outputs": [
    {
     "output_type": "execute_result",
     "execution_count": 9,
     "data": {
      "text/plain": "True"
     },
     "metadata": {}
    }
   ],
   "execution_count": null
  },
  {
   "cell_type": "markdown",
   "source": "![s](ExperimentA-plot-tree.png)",
   "metadata": {
    "cell_id": "06802e11-c65f-4d8f-b71f-3a0b7b12649d",
    "tags": [],
    "deepnote_app_coordinates": {
     "x": 0,
     "y": 54,
     "w": 12,
     "h": 5
    },
    "deepnote_cell_type": "markdown"
   }
  },
  {
   "cell_type": "markdown",
   "source": "#### Qual o desempenho do modelo? Qual parece ser o atributo mais relevante para a classificação, de acordo com o modelo gerado?",
   "metadata": {
    "cell_id": "e527a5df-3740-4bbb-bb55-cb84034465aa",
    "tags": [],
    "deepnote_app_coordinates": {
     "x": 0,
     "y": 60,
     "w": 12,
     "h": 5
    },
    "deepnote_cell_type": "markdown"
   }
  },
  {
   "cell_type": "markdown",
   "source": "Utilizando a configuração de critério de seleção entropia, max_deph=none (i.e. expande até todas as folhas serem puras ou até todas as folhas tiverem menos de 2 samples), min_samples_leaf=1, o modelo alcançou acurácia de **69%**. O atributo mais relevante e informativo para classificação é a **glicose**, pois aponta ser o atributo raiz da árvore plotada a cima com maior entropia.",
   "metadata": {
    "cell_id": "86f7d90f-d563-4a96-98c3-45a785f6f1a9",
    "tags": [],
    "deepnote_app_coordinates": {
     "x": 0,
     "y": 66,
     "w": 12,
     "h": 5
    },
    "deepnote_cell_type": "markdown"
   }
  },
  {
   "cell_type": "code",
   "metadata": {
    "cell_id": "81339abe-85c8-4a2e-8a66-77e9fedc2e08",
    "tags": [],
    "deepnote_to_be_reexecuted": false,
    "source_hash": "4a07061",
    "execution_start": 1644173711405,
    "execution_millis": 4,
    "deepnote_app_coordinates": {
     "x": 0,
     "y": 72,
     "w": 12,
     "h": 5
    },
    "deepnote_cell_type": "code"
   },
   "source": "#testX = np.array(data.iloc[:, [1,7]]) pega as colunas 1 e 7\n#testY = np.array(data.iloc[:, -1]) pega a ultima coluna",
   "outputs": [],
   "execution_count": null
  },
  {
   "cell_type": "markdown",
   "source": "### Experimento B",
   "metadata": {
    "cell_id": "3108da04-915d-4f51-b25f-6ce10b31d7bf",
    "tags": [],
    "is_collapsed": false,
    "deepnote_app_coordinates": {
     "x": 0,
     "y": 78,
     "w": 12,
     "h": 5
    },
    "deepnote_cell_type": "text-cell-h3"
   }
  },
  {
   "cell_type": "markdown",
   "source": "Repita o treinamento do modelo utilizando o mesmo algoritmo do item\nanterior (isto é, mesmo critério de seleção de atributos) e mesma\ndivisão de dados em treino e teste, mas agora variando os\nhiperparâmetros relacionados à complexidade do modelo (como\nprofundidade máxima e/ou número de instâncias no nó folha). Informe\nno relatório os valores testados para cada hiperparâmetro variado.\nDemonstre e comente como a variação destes hiperparâmetros impacta\nna acurácia e complexidade do modelo (uso o modelo obtido no item A\ncomo “baseline”). Compare também as regras de classificação extraídas\na partir de ambos os modelos, comentando brevemente como estes\nparâmetros parecem impactar no poder de generalização das regras\n(isto é, se as regras de classificação extraídas parecem ser mais\n“genéricas” ou “mais especializadas” para subconjunto de instâncias de\ntreinamento). Inclua no seu relatório exemplos de regras de\nclassificação obtidas a partir dos modelos gerados.",
   "metadata": {
    "cell_id": "519ec6e0-3260-4d7e-8c72-32fd1c66a921",
    "tags": [],
    "deepnote_app_coordinates": {
     "x": 0,
     "y": 84,
     "w": 12,
     "h": 5
    },
    "deepnote_cell_type": "markdown"
   }
  },
  {
   "cell_type": "markdown",
   "source": "#### Alterando profundidade máxima da árvore",
   "metadata": {
    "cell_id": "c99528d2-d640-4811-8fc6-6ed3ba3ca3df",
    "tags": [],
    "deepnote_app_coordinates": {
     "x": 0,
     "y": 90,
     "w": 12,
     "h": 5
    },
    "deepnote_cell_type": "markdown"
   }
  },
  {
   "cell_type": "code",
   "metadata": {
    "cell_id": "e820c18c-23bd-42a0-a7f7-a28366c75032",
    "tags": [],
    "deepnote_to_be_reexecuted": false,
    "source_hash": "d81bfcb1",
    "execution_start": 1644173711420,
    "execution_millis": 3515,
    "deepnote_app_coordinates": {
     "x": 0,
     "y": 96,
     "w": 12,
     "h": 5
    },
    "deepnote_cell_type": "code"
   },
   "source": "# max_deph 1, 3, 7 and 10\n\nfor x in range(1, 31, 1):\n    clf = DecisionTreeClassifier(random_state=31, criterion=\"entropy\", max_depth=x)\n    score = cross_val_score(clf, X, y, cv=cv)\n    print(\"Accuracy of max_deph=\"+str(x)+\" | \"+str(score.mean()))",
   "outputs": [
    {
     "name": "stdout",
     "text": "Accuracy of max_deph=1 | 0.718181818181818\nAccuracy of max_deph=2 | 0.7383116883116883\nAccuracy of max_deph=3 | 0.7311688311688311\nAccuracy of max_deph=4 | 0.7181818181818183\nAccuracy of max_deph=5 | 0.72987012987013\nAccuracy of max_deph=6 | 0.72987012987013\nAccuracy of max_deph=7 | 0.7006493506493506\nAccuracy of max_deph=8 | 0.7181818181818183\nAccuracy of max_deph=9 | 0.7266233766233766\nAccuracy of max_deph=10 | 0.7253246753246753\nAccuracy of max_deph=11 | 0.7084415584415585\nAccuracy of max_deph=12 | 0.6863636363636363\nAccuracy of max_deph=13 | 0.7045454545454545\nAccuracy of max_deph=14 | 0.6863636363636364\nAccuracy of max_deph=15 | 0.7077922077922079\nAccuracy of max_deph=16 | 0.7045454545454546\nAccuracy of max_deph=17 | 0.7123376623376623\nAccuracy of max_deph=18 | 0.6948051948051948\nAccuracy of max_deph=19 | 0.7071428571428572\nAccuracy of max_deph=20 | 0.7129870129870131\nAccuracy of max_deph=21 | 0.7214285714285714\nAccuracy of max_deph=22 | 0.7097402597402597\nAccuracy of max_deph=23 | 0.7084415584415584\nAccuracy of max_deph=24 | 0.7227272727272728\nAccuracy of max_deph=25 | 0.7110389610389609\nAccuracy of max_deph=26 | 0.6967532467532467\nAccuracy of max_deph=27 | 0.6922077922077922\nAccuracy of max_deph=28 | 0.6746753246753248\nAccuracy of max_deph=29 | 0.7214285714285713\nAccuracy of max_deph=30 | 0.6805194805194805\n",
     "output_type": "stream"
    }
   ],
   "execution_count": null
  },
  {
   "cell_type": "markdown",
   "source": "Observa-se que quanto maior a profundidade da árvore, pior seu desempenho. O motivo desse comportamento está no fato de que provavelmente a árvore mais expressiva para esse problema é uma com altura entre 1 e 3. Quando passamos do limite necessário de generalização, aumentará a complexidade da árvore, provavelmente causando sobreajuste nos dados de treinamento e portanto errando as instâncias do dataset de teste.",
   "metadata": {
    "cell_id": "7041068b-aa7b-4ae1-9402-1c0d0bdf1ff9",
    "tags": [],
    "deepnote_app_coordinates": {
     "x": 0,
     "y": 102,
     "w": 12,
     "h": 5
    },
    "deepnote_cell_type": "markdown"
   }
  },
  {
   "cell_type": "markdown",
   "source": "#### Alterando número de instâncias nos nodos da folha",
   "metadata": {
    "cell_id": "232565c5-5545-49bf-806c-335881cb5ca1",
    "tags": [],
    "deepnote_app_coordinates": {
     "x": 0,
     "y": 108,
     "w": 12,
     "h": 5
    },
    "deepnote_cell_type": "markdown"
   }
  },
  {
   "cell_type": "markdown",
   "source": "Nessa parte estarei testando diferentes configurações para o parâmetro `min_samples_leaf`que decide qual o mínimo de instâncias do dataset para a criação de uma nova folha. Então se, por exemplo, for definido um mínimo igual a 8, todas as folhas vão ter no mínimo 8 instâncias.",
   "metadata": {
    "cell_id": "9bad4f03-60f1-43ff-b3c2-9168aa703bf3",
    "tags": [],
    "deepnote_app_coordinates": {
     "x": 0,
     "y": 114,
     "w": 12,
     "h": 5
    },
    "deepnote_cell_type": "markdown"
   }
  },
  {
   "cell_type": "code",
   "metadata": {
    "cell_id": "8c56c010-faad-41dc-b797-29bb2a90730d",
    "tags": [],
    "deepnote_to_be_reexecuted": false,
    "source_hash": "c09993c2",
    "execution_start": 1644173714955,
    "execution_millis": 3484,
    "deepnote_app_coordinates": {
     "x": 0,
     "y": 120,
     "w": 12,
     "h": 5
    },
    "deepnote_cell_type": "code"
   },
   "source": "# min_samples_leaf from 5 to 200\n\nfor x in range(5,201,5):\n    \n    clf = DecisionTreeClassifier(random_state=random.seed(), criterion=\"entropy\", min_samples_leaf=x)\n   \n    score = cross_val_score(clf, X, y, cv=cv)\n    print(\"Accuracy of min_samples_leaf=\"+str(x)+\" | \"+str(score.mean()))",
   "outputs": [
    {
     "name": "stdout",
     "text": "Accuracy of min_samples_leaf=5 | 0.6948051948051949\nAccuracy of min_samples_leaf=10 | 0.7668831168831168\nAccuracy of min_samples_leaf=15 | 0.735064935064935\nAccuracy of min_samples_leaf=20 | 0.7623376623376623\nAccuracy of min_samples_leaf=25 | 0.7480519480519481\nAccuracy of min_samples_leaf=30 | 0.7616883116883117\nAccuracy of min_samples_leaf=35 | 0.7363636363636364\nAccuracy of min_samples_leaf=40 | 0.7474025974025975\nAccuracy of min_samples_leaf=45 | 0.7454545454545454\nAccuracy of min_samples_leaf=50 | 0.7454545454545455\nAccuracy of min_samples_leaf=55 | 0.7415584415584415\nAccuracy of min_samples_leaf=60 | 0.7603896103896105\nAccuracy of min_samples_leaf=65 | 0.7415584415584415\nAccuracy of min_samples_leaf=70 | 0.7454545454545455\nAccuracy of min_samples_leaf=75 | 0.7344155844155844\nAccuracy of min_samples_leaf=80 | 0.7480519480519481\nAccuracy of min_samples_leaf=85 | 0.7272727272727273\nAccuracy of min_samples_leaf=90 | 0.7376623376623377\nAccuracy of min_samples_leaf=95 | 0.740909090909091\nAccuracy of min_samples_leaf=100 | 0.7266233766233766\nAccuracy of min_samples_leaf=105 | 0.7311688311688311\nAccuracy of min_samples_leaf=110 | 0.7298701298701299\nAccuracy of min_samples_leaf=115 | 0.7155844155844155\nAccuracy of min_samples_leaf=120 | 0.7298701298701299\nAccuracy of min_samples_leaf=125 | 0.7285714285714285\nAccuracy of min_samples_leaf=130 | 0.7246753246753247\nAccuracy of min_samples_leaf=135 | 0.7344155844155844\nAccuracy of min_samples_leaf=140 | 0.6980519480519479\nAccuracy of min_samples_leaf=145 | 0.7272727272727273\nAccuracy of min_samples_leaf=150 | 0.7149350649350649\nAccuracy of min_samples_leaf=155 | 0.7116883116883116\nAccuracy of min_samples_leaf=160 | 0.7175324675324675\nAccuracy of min_samples_leaf=165 | 0.7253246753246753\nAccuracy of min_samples_leaf=170 | 0.7344155844155844\nAccuracy of min_samples_leaf=175 | 0.7207792207792207\nAccuracy of min_samples_leaf=180 | 0.7077922077922078\nAccuracy of min_samples_leaf=185 | 0.724025974025974\nAccuracy of min_samples_leaf=190 | 0.712987012987013\nAccuracy of min_samples_leaf=195 | 0.7227272727272728\nAccuracy of min_samples_leaf=200 | 0.7337662337662338\n",
     "output_type": "stream"
    }
   ],
   "execution_count": null
  },
  {
   "cell_type": "markdown",
   "source": "Podemos inferir que a partir dos resultados obtidos, o número mais adequado para ser mínimo de instâncias por folha para essa árvore é o 20. E ainda, quando aumentamos os valores mínimos, o desempenho do modelo tende a piorar. Uma das possíveis razões desse comportamento é que o modelo começa a ficar genérico demais (árvore com menor profundidade), portanto perde um pouco do desempenho ao classificar incorretamente novas instâncias. ",
   "metadata": {
    "cell_id": "cbef7d5e-c6a5-469d-aa3c-2ef11473bda8",
    "tags": [],
    "deepnote_app_coordinates": {
     "x": 0,
     "y": 126,
     "w": 12,
     "h": 5
    },
    "deepnote_cell_type": "markdown"
   }
  },
  {
   "cell_type": "markdown",
   "source": "Na visualização das árvores abaixo, observa-se que o aumento do número mínimo de instâncias por folha, indica que a profundidade diminui, assim como sua complexidade. O mesmo acontece vice-versa, árvores com menos limitação de instâncias por folha tendem a possuir mais níveis.    ",
   "metadata": {
    "cell_id": "9c717833-62ab-4ef8-962e-f9628ceb8ab4",
    "tags": [],
    "deepnote_app_coordinates": {
     "x": 0,
     "y": 384,
     "w": 12,
     "h": 5
    },
    "deepnote_cell_type": "markdown"
   }
  },
  {
   "cell_type": "markdown",
   "source": "#### Representação visual de árvores com instâncias mínimas igual a 50",
   "metadata": {
    "cell_id": "e72dfc54-1055-4041-8c4a-eba29fd0dacf",
    "tags": [],
    "deepnote_app_coordinates": {
     "x": 0,
     "y": 132,
     "w": 12,
     "h": 5
    },
    "deepnote_cell_type": "markdown"
   }
  },
  {
   "cell_type": "code",
   "source": "clf = DecisionTreeClassifier(random_state=1, criterion=\"entropy\", min_samples_leaf=50)\n   \nfor train_index, test_index in cv.split(X,y):\n  clf.fit(X.loc[train_index], y.loc[train_index])",
   "metadata": {
    "cell_id": "925d44df-a967-4148-9891-999e989ad1a8",
    "tags": [],
    "deepnote_to_be_reexecuted": false,
    "source_hash": "acac4d4f",
    "execution_start": 1644173718441,
    "execution_millis": 61,
    "deepnote_app_coordinates": {
     "x": 0,
     "y": 288,
     "w": 12,
     "h": 5
    },
    "deepnote_cell_type": "code"
   },
   "outputs": [],
   "execution_count": null
  },
  {
   "cell_type": "code",
   "metadata": {
    "cell_id": "983189c3-a5c0-4511-af7d-0903ef2b28d0",
    "tags": [],
    "deepnote_to_be_reexecuted": false,
    "source_hash": "78b31142",
    "execution_start": 1644173718561,
    "execution_millis": 2266,
    "deepnote_output_heights": [
     560
    ],
    "deepnote_app_coordinates": {
     "x": 0,
     "y": 138,
     "w": 12,
     "h": 5
    },
    "deepnote_cell_type": "code"
   },
   "source": "fig, ax = plt.subplots(figsize=(10, 10))\ntree.plot_tree(clf, fontsize=4,\n                feature_names=[\"Pregnancies\",\"Glucose\",\"BloodPressure\",\"SkinThickness\",\n                \"Insulin\",\"BMI\",\"DiabetesPedigreeFunction\",\"Age\"])\n                                    \nplt.show()",
   "outputs": [
    {
     "data": {
      "text/plain": "<Figure size 720x720 with 1 Axes>",
      "image/png": "[encoded data removed]"
     },
     "metadata": {
      "needs_background": "light",
      "image/png": {
       "width": 572,
       "height": 558
      }
     },
     "output_type": "display_data"
    }
   ],
   "execution_count": null
  },
  {
   "cell_type": "markdown",
   "source": "#### Representação visual de árvores com instâncias mínimas igual a 5",
   "metadata": {
    "cell_id": "00026-52113e01-1bc2-49f3-a2f7-fe7ae76a0c73",
    "tags": [],
    "deepnote_app_coordinates": {
     "x": 0,
     "y": 282,
     "w": 12,
     "h": 5
    },
    "deepnote_cell_type": "markdown"
   }
  },
  {
   "cell_type": "code",
   "source": "clf = DecisionTreeClassifier(random_state=1, criterion=\"entropy\", min_samples_leaf=5)\n\nfor train_index, test_index in cv.split(X,y):\n  clf.fit(X.loc[train_index], y.loc[train_index])",
   "metadata": {
    "cell_id": "5f690622-c924-4416-8bd5-ab26894e0fbc",
    "tags": [],
    "deepnote_to_be_reexecuted": false,
    "source_hash": "ae052159",
    "execution_start": 1644173720833,
    "execution_millis": 179,
    "deepnote_app_coordinates": {
     "x": 0,
     "y": 276,
     "w": 12,
     "h": 5
    },
    "deepnote_cell_type": "code"
   },
   "outputs": [],
   "execution_count": null
  },
  {
   "cell_type": "code",
   "source": "fig, ax = plt.subplots(figsize=(10, 10))\ntree.plot_tree(clf, fontsize=4,\n                feature_names=[\"Pregnancies\",\"Glucose\",\"BloodPressure\",\"SkinThickness\",\n                \"Insulin\",\"BMI\",\"DiabetesPedigreeFunction\",\"Age\"])\n                                    \nplt.show()",
   "metadata": {
    "cell_id": "d889ae11-b35e-47cc-a4e1-ccaf41d76509",
    "tags": [],
    "deepnote_to_be_reexecuted": false,
    "source_hash": "78b31142",
    "execution_start": 1644173721019,
    "execution_millis": 17003,
    "deepnote_output_heights": [
     560
    ],
    "deepnote_app_coordinates": {
     "x": 0,
     "y": 270,
     "w": 12,
     "h": 5
    },
    "deepnote_cell_type": "code"
   },
   "outputs": [
    {
     "data": {
      "text/plain": "<Figure size 720x720 with 1 Axes>",
      "image/png": "[encoded data removed]"
     },
     "metadata": {
      "needs_background": "light",
      "image/png": {
       "width": 583,
       "height": 558
      }
     },
     "output_type": "display_data"
    }
   ],
   "execution_count": null
  },
  {
   "cell_type": "markdown",
   "source": "Podemos concluir desse experimento que:\n- aumentando a profundidade da árvore, tende a aumentar a complexidade do modelo e portanto diminuir a sua capacidade de generalizar adequadamente novas instâncias (sobreajuste). \n\n- aumentando o mínimo de instâncias por folha, o modelo tende a perder complexidade e portanto, não é expressivo o suficiente para capturar padrões nos dados (subajuste). ",
   "metadata": {
    "cell_id": "2c499111-f85d-40a6-948e-7eeb2b543207",
    "tags": [],
    "deepnote_app_coordinates": {
     "x": 0,
     "y": 144,
     "w": 12,
     "h": 5
    },
    "deepnote_cell_type": "markdown"
   }
  },
  {
   "cell_type": "markdown",
   "source": "Em suma, devemos ter cuidado na hora de escolher esses hiperparâmetros, pois percebe-se sempre existirá um *trade-off*. Desse modo, deve haver um equilíbrio na parametrização que nos permita criar um modelo com \"bom ajuste\" que consiga generalizar de forma correta nossos dados.",
   "metadata": {
    "cell_id": "7c707380-2c8d-4ef9-af66-2e517923d238",
    "tags": [],
    "deepnote_app_coordinates": {
     "x": 0,
     "y": 150,
     "w": 12,
     "h": 5
    },
    "deepnote_cell_type": "markdown"
   }
  },
  {
   "cell_type": "code",
   "metadata": {
    "cell_id": "387efc02-bb13-4cf9-8e2b-831ceba49497",
    "tags": [],
    "deepnote_to_be_reexecuted": false,
    "source_hash": "b559c55c",
    "execution_start": 1644174436732,
    "execution_millis": 19,
    "deepnote_app_coordinates": {
     "x": 0,
     "y": 156,
     "w": 12,
     "h": 5
    },
    "deepnote_cell_type": "code"
   },
   "source": "# Desempenho com os hiperparâmetros min_samples_leaf + max_deph\n\nclf = DecisionTreeClassifier(random_state=31, criterion=\"entropy\", min_samples_leaf=20, max_depth=2)\n\nscore = cross_val_score(clf, X, y, cv=cv)\n\nprint(\"Accuracy of \"+str(score.mean()))",
   "outputs": [
    {
     "name": "stdout",
     "text": "Accuracy of 0.7337662337662337\n",
     "output_type": "stream"
    }
   ],
   "execution_count": null
  },
  {
   "cell_type": "markdown",
   "source": "### Experimento C",
   "metadata": {
    "cell_id": "ebb2c4b4-7a94-4e4f-b1f9-39483927ba32",
    "tags": [],
    "deepnote_app_coordinates": {
     "x": 0,
     "y": 162,
     "w": 12,
     "h": 5
    },
    "deepnote_cell_type": "markdown"
   }
  },
  {
   "cell_type": "markdown",
   "source": "Utilize o mesmo algoritmo do \"baseline\" gerado no item A e agora\nrepita o processo de treinamento com e sem estratégia de poda. Caso\nnão seja possível optar por treinamento sem poda, varie o\nhiperparâmetro associado ao controle da complexidade na etapa de\npoda. Compare os modelos obtidos quanto à estrutura da árvore,\nnúmero de testes, atributos usados, etc., e seus respectivos\ndesempenhos. Informe no relatório os valores testados para cada\nhiperparâmetro. ",
   "metadata": {
    "cell_id": "8dc43796-83e6-48a6-99d2-c791b4786bb1",
    "tags": [],
    "deepnote_app_coordinates": {
     "x": 0,
     "y": 168,
     "w": 12,
     "h": 5
    },
    "deepnote_cell_type": "markdown"
   }
  },
  {
   "cell_type": "markdown",
   "source": "Criando dataframes para manipular os dataset de treino.",
   "metadata": {
    "cell_id": "a20ae2c6-be08-4c28-9477-d08786f90d74",
    "tags": [],
    "deepnote_app_coordinates": {
     "x": 0,
     "y": 324,
     "w": 12,
     "h": 5
    },
    "deepnote_cell_type": "markdown"
   }
  },
  {
   "cell_type": "code",
   "source": "X_train = pd.DataFrame()\ny_train = pd.DataFrame()\nX_test = pd.DataFrame()\ny_test = pd.DataFrame()\n",
   "metadata": {
    "cell_id": "08bd8f4a-db69-41ff-8df5-2869704455ba",
    "tags": [],
    "deepnote_to_be_reexecuted": false,
    "source_hash": "90a00780",
    "execution_start": 1644173738176,
    "execution_millis": 12,
    "deepnote_app_coordinates": {
     "x": 0,
     "y": 318,
     "w": 12,
     "h": 5
    },
    "deepnote_cell_type": "code"
   },
   "outputs": [],
   "execution_count": null
  },
  {
   "cell_type": "code",
   "source": "for train_index, test_index in cv.split(X,y):\n  X_train = (X.loc[train_index]).copy()\n  y_train = (y.loc[train_index]).copy()\n  X_test = (X.loc[test_index]).copy()\n  y_test = (y.loc[test_index]).copy()",
   "metadata": {
    "cell_id": "19051d44-f482-4b9f-951c-5236d5186612",
    "tags": [],
    "deepnote_to_be_reexecuted": false,
    "source_hash": "bdbbcb34",
    "execution_start": 1644173738195,
    "execution_millis": 55,
    "deepnote_app_coordinates": {
     "x": 0,
     "y": 312,
     "w": 12,
     "h": 5
    },
    "deepnote_cell_type": "code"
   },
   "outputs": [],
   "execution_count": null
  },
  {
   "cell_type": "markdown",
   "source": "Baseline do experimento A:",
   "metadata": {
    "cell_id": "c3002d0f-439c-47ec-8b85-795b6e35f313",
    "tags": [],
    "is_collapsed": false,
    "deepnote_app_coordinates": {
     "x": 0,
     "y": 390,
     "w": 8,
     "h": 2
    },
    "deepnote_cell_type": "text-cell-p"
   }
  },
  {
   "cell_type": "code",
   "metadata": {
    "cell_id": "e321c581-5e22-4e2c-b069-fd7c8743910c",
    "tags": [],
    "deepnote_to_be_reexecuted": false,
    "source_hash": "a7c3e35e",
    "execution_start": 1644173738257,
    "execution_millis": 212,
    "deepnote_app_coordinates": {
     "x": 0,
     "y": 174,
     "w": 12,
     "h": 5
    },
    "deepnote_cell_type": "code"
   },
   "source": "clf = DecisionTreeClassifier(random_state=31, criterion=\"entropy\")\n\nscore = cross_val_score(clf, X, y, cv=cv)\nprint(\"Accuracy of \"+str(score.mean()))",
   "outputs": [
    {
     "name": "stdout",
     "text": "Accuracy of 0.6922077922077922\n",
     "output_type": "stream"
    }
   ],
   "execution_count": null
  },
  {
   "cell_type": "code",
   "metadata": {
    "cell_id": "3fa3cff0-9b0e-4ead-b5a2-484f48f95e3a",
    "tags": [],
    "deepnote_to_be_reexecuted": false,
    "source_hash": "23a21dcd",
    "execution_start": 1644173738474,
    "execution_millis": 74,
    "deepnote_output_heights": [
     1
    ],
    "deepnote_app_coordinates": {
     "x": 0,
     "y": 180,
     "w": 12,
     "h": 5
    },
    "deepnote_cell_type": "code"
   },
   "source": "path = clf.cost_complexity_pruning_path(X_train, y_train)\npath",
   "outputs": [
    {
     "output_type": "execute_result",
     "execution_count": 21,
     "data": {
      "text/plain": "{'ccp_alphas': array([0.        , 0.00325733, 0.00395338, 0.00438104, 0.00448679,\n        0.00448679, 0.00448679, 0.00448679, 0.00488599, 0.00509611,\n        0.0052852 , 0.0052852 , 0.0052852 , 0.0055536 , 0.00587889,\n        0.00587889, 0.00590529, 0.00594704, 0.00594871, 0.00600275,\n        0.00635201, 0.00641117, 0.00666514, 0.00668496, 0.00671491,\n        0.00687187, 0.00691621, 0.00697592, 0.00708227, 0.00708227,\n        0.00734729, 0.00763049, 0.00763836, 0.00779288, 0.00828242,\n        0.00828366, 0.00852316, 0.00897357, 0.00897403, 0.00907319,\n        0.00964245, 0.01000937, 0.0105704 , 0.01151796, 0.01165152,\n        0.01283071, 0.01619311, 0.01644123, 0.01726385, 0.03256085,\n        0.04499544, 0.04905321, 0.14299423]),\n 'impurities': array([0.        , 0.00325733, 0.01116409, 0.01554513, 0.0245187 ,\n        0.03349228, 0.04246585, 0.04695264, 0.05672463, 0.07710908,\n        0.08239428, 0.08767948, 0.09296468, 0.09851828, 0.10439718,\n        0.11027607, 0.13389724, 0.13984428, 0.14579299, 0.16380124,\n        0.17015325, 0.20862025, 0.24861111, 0.26866601, 0.27538091,\n        0.30286839, 0.32361702, 0.35849662, 0.36557889, 0.37266117,\n        0.38735575, 0.4178777 , 0.42551606, 0.43330894, 0.44159136,\n        0.44987502, 0.45839818, 0.46737175, 0.49429384, 0.53058659,\n        0.54022904, 0.5502384 , 0.5608088 , 0.57232676, 0.58397829,\n        0.596809  , 0.61300211, 0.64588457, 0.66314842, 0.69570927,\n        0.74070471, 0.78975792, 0.93275216])}"
     },
     "metadata": {}
    }
   ],
   "execution_count": null
  },
  {
   "cell_type": "code",
   "metadata": {
    "cell_id": "aedfb511-a49d-4623-a1ac-430aa8b9d5e4",
    "tags": [],
    "deepnote_to_be_reexecuted": false,
    "source_hash": "f42e6e73",
    "execution_start": 1644173738544,
    "execution_millis": 374,
    "deepnote_output_heights": [
     1,
     373
    ],
    "deepnote_app_coordinates": {
     "x": 0,
     "y": 186,
     "w": 12,
     "h": 5
    },
    "deepnote_cell_type": "code"
   },
   "source": "ccp_alphas, impurities = path.ccp_alphas, path.impurities\n\nplt.figure(figsize=(10, 6))\nplt.plot(ccp_alphas, impurities)\nplt.xlabel(\"effective alpha\")\nplt.ylabel(\"total impurity of leaves\")",
   "outputs": [
    {
     "output_type": "execute_result",
     "execution_count": 22,
     "data": {
      "text/plain": "Text(0, 0.5, 'total impurity of leaves')"
     },
     "metadata": {}
    },
    {
     "data": {
      "text/plain": "<Figure size 720x432 with 1 Axes>",
      "image/png": "[encoded data removed]"
     },
     "metadata": {
      "needs_background": "light",
      "image/png": {
       "width": 609,
       "height": 371
      }
     },
     "output_type": "display_data"
    }
   ],
   "execution_count": null
  },
  {
   "cell_type": "code",
   "metadata": {
    "cell_id": "c48bda0e-f497-47f5-a32c-6375bac7c9bd",
    "tags": [],
    "deepnote_to_be_reexecuted": false,
    "source_hash": "b7154ad4",
    "execution_start": 1644174904135,
    "execution_millis": 414,
    "deepnote_app_coordinates": {
     "x": 0,
     "y": 192,
     "w": 12,
     "h": 5
    },
    "deepnote_cell_type": "code"
   },
   "source": "clfs = []\n\nfor ccp_alpha in ccp_alphas:\n    clf = DecisionTreeClassifier(random_state=31, criterion=\"entropy\", ccp_alpha=ccp_alpha)\n    clf.fit(X_train, y_train)\n    clfs.append(clf)",
   "outputs": [],
   "execution_count": null
  },
  {
   "cell_type": "markdown",
   "source": "O `DecisionTreeClassifier` fornece parâmetros como `min_samples_leaf` e `max_depth` para evitar que uma árvore seja sobreajustada. A poda de complexidade de custo oferece outra opção para controlar o tamanho de uma árvore. No `DecisionTreeClassifier`, essa técnica de poda é parametrizada pelo parâmetro de complexidade de custo, `ccp_alpha`. Valores maiores de `ccp_alpha` aumentam o número de nós removidos. Abaixo mostrarei o efeito do `ccp_alpha` na regularização das árvores e como escolher um `ccp_alpha` com base nas acurárias de teste.",
   "metadata": {
    "cell_id": "82182dd0-153f-4553-b841-115258dcfa72",
    "tags": [],
    "deepnote_app_coordinates": {
     "x": 0,
     "y": 198,
     "w": 12,
     "h": 5
    },
    "deepnote_cell_type": "markdown"
   }
  },
  {
   "cell_type": "code",
   "metadata": {
    "cell_id": "601d4019-33cc-4374-b6f2-78424fb3f313",
    "tags": [],
    "deepnote_to_be_reexecuted": false,
    "source_hash": "34b54f69",
    "execution_start": 1644174907215,
    "execution_millis": 1527,
    "deepnote_output_heights": [
     1,
     373
    ],
    "deepnote_app_coordinates": {
     "x": 0,
     "y": 204,
     "w": 12,
     "h": 5
    },
    "deepnote_cell_type": "code"
   },
   "source": "tree_depths = [clf.tree_.max_depth for clf in clfs]\nplt.figure(figsize=(10,  6))\nplt.plot(ccp_alphas[:-1], tree_depths[:-1])\nplt.xlabel(\"effective alpha\")\nplt.ylabel(\"total depth\")",
   "outputs": [
    {
     "output_type": "execute_result",
     "execution_count": 45,
     "data": {
      "text/plain": "Text(0, 0.5, 'total depth')"
     },
     "metadata": {}
    },
    {
     "data": {
      "text/plain": "<Figure size 720x432 with 1 Axes>",
      "image/png": "[encoded data removed]"
     },
     "metadata": {
      "needs_background": "light",
      "image/png": {
       "width": 606,
       "height": 371
      }
     },
     "output_type": "display_data"
    }
   ],
   "execution_count": null
  },
  {
   "cell_type": "code",
   "metadata": {
    "cell_id": "1c0f3b51-ddd9-453c-bb75-54a676726648",
    "tags": [],
    "deepnote_to_be_reexecuted": false,
    "source_hash": "a25b70f4",
    "execution_start": 1644175020456,
    "execution_millis": 625,
    "deepnote_output_heights": [
     1,
     373
    ],
    "deepnote_app_coordinates": {
     "x": 0,
     "y": 210,
     "w": 12,
     "h": 5
    },
    "deepnote_cell_type": "code"
   },
   "source": "acc_scores = [accuracy_score(y_test, clf.predict(X_test)) for clf in clfs]\n\ntree_depths = [clf.tree_.max_depth for clf in clfs]\nplt.figure(figsize=(10,  6))\nplt.grid()\nplt.plot(ccp_alphas[:-1], acc_scores[:-1])\nplt.xlabel(\"effective alpha\")\nplt.ylabel(\"Test Accuracy scores\")",
   "outputs": [
    {
     "output_type": "execute_result",
     "execution_count": 50,
     "data": {
      "text/plain": "Text(0, 0.5, 'Test Accuracy scores')"
     },
     "metadata": {}
    },
    {
     "data": {
      "text/plain": "<Figure size 720x432 with 1 Axes>",
      "image/png": "[encoded data removed]"
     },
     "metadata": {
      "needs_background": "light",
      "image/png": {
       "width": 615,
       "height": 371
      }
     },
     "output_type": "display_data"
    }
   ],
   "execution_count": null
  },
  {
   "cell_type": "markdown",
   "source": "Podemos notar a partir do gráfico que um valor de alpha aproximado a 0.012 oferece um modelo com melhor performance. A acurácia no dataset de teste chega a 0.72 e depois desse ponto o desempenho do modelo cai ao realizar a próxima poda.",
   "metadata": {
    "cell_id": "97932a2d-cd31-446f-affc-d3c8713d2f6c",
    "tags": [],
    "deepnote_app_coordinates": {
     "x": 0,
     "y": 216,
     "w": 12,
     "h": 5
    },
    "deepnote_cell_type": "markdown"
   }
  },
  {
   "cell_type": "markdown",
   "source": "#### Intuitivamente, qual modelo você imagina ser melhor para classificar novas instâncias: o que utiliza ou não utiliza estratégia de poda (ou, de forma alternativa, aquele com uma poda mais ou menos drástica)?",
   "metadata": {
    "cell_id": "c7a3a00f-5509-459f-a71b-6c3130b5b56a",
    "tags": [],
    "deepnote_app_coordinates": {
     "x": 0,
     "y": 0,
     "w": 12,
     "h": 5
    },
    "deepnote_cell_type": "markdown"
   }
  },
  {
   "cell_type": "markdown",
   "source": "Utilizando alpha na baseline feita no experimento A.",
   "metadata": {
    "cell_id": "9d381dd9-14b6-4d8f-b839-f6a6dfcd2eb1",
    "tags": [],
    "deepnote_app_coordinates": {
     "x": 0,
     "y": 222,
     "w": 12,
     "h": 5
    },
    "deepnote_cell_type": "markdown"
   }
  },
  {
   "cell_type": "code",
   "metadata": {
    "cell_id": "bdfe8a2e-cf12-4611-a805-8ac15db76d9d",
    "tags": [],
    "deepnote_to_be_reexecuted": false,
    "source_hash": "2bc98521",
    "execution_start": 1644175113553,
    "execution_millis": 27,
    "deepnote_app_coordinates": {
     "x": 0,
     "y": 228,
     "w": 12,
     "h": 5
    },
    "deepnote_cell_type": "code"
   },
   "source": "\nclf = DecisionTreeClassifier(criterion=\"entropy\", ccp_alpha=0.012)\n\nscore = cross_val_score(clf, X, y, cv=cv)\n\nprint(\"Accuracy:\",score.mean())",
   "outputs": [
    {
     "name": "stdout",
     "text": "Accuracy: 0.7402597402597403\n",
     "output_type": "stream"
    }
   ],
   "execution_count": null
  },
  {
   "cell_type": "markdown",
   "source": "Claramente vemos que em comparação com a baseline (acurácia igual a 0,68~0,69), o modelo com poda teve um desempenho melhor. Entretanto esse valor deve ser exato (ou bem aproximado), pois qualquer aleatoriedade nesse coeficiente há grandes chances de quedas no desempenho da árvore.",
   "metadata": {
    "cell_id": "4f2b3b96-feed-490e-8d0d-0cc9ae3f4566",
    "tags": [],
    "deepnote_app_coordinates": {
     "x": 0,
     "y": 234,
     "w": 12,
     "h": 5
    },
    "deepnote_cell_type": "markdown"
   }
  },
  {
   "cell_type": "markdown",
   "source": "### Experimento D",
   "metadata": {
    "cell_id": "4b52a234-2916-4992-ad43-ca19cabfd63b",
    "tags": [],
    "is_collapsed": false,
    "deepnote_app_coordinates": {
     "x": 0,
     "y": 240,
     "w": 12,
     "h": 5
    },
    "deepnote_cell_type": "text-cell-h3"
   }
  },
  {
   "cell_type": "markdown",
   "source": "De acordo com as suas observações para os itens A, B e C, escolha\numa configuração para treinamento de árvores de decisão (critério de\nseleção de nós, controle de complexidade, estratégia de poda). Repita\no processo de treino e teste com 10 partições aleatórias distintas dos\ndados (isto é, repita o processo de holdout 10 vezes usando seeds\naleatórias diferentes). Compare os desempenhos obtidos e as\nestruturas das 10 árvores de decisão geradas. Descreva de forma\nobjetiva se observou variações no desempenho e na estrutura das\nárvores geradas.",
   "metadata": {
    "cell_id": "b238942d-038a-4374-b41b-0821ceeca48b",
    "tags": [],
    "deepnote_app_coordinates": {
     "x": 0,
     "y": 246,
     "w": 12,
     "h": 5
    },
    "deepnote_cell_type": "markdown"
   }
  },
  {
   "cell_type": "code",
   "source": "# árvore com hiperparâmetros escolhidos\n\nclf = DecisionTreeClassifier(criterion=\"entropy\", max_depth=2, min_samples_leaf=20)\n\nscore = cross_val_score(clf, X, y, cv=cv)\n\nprint(\"Accuracy:\",score.mean())",
   "metadata": {
    "cell_id": "e2aa38d8-3256-4a71-aab9-41f135d276d8",
    "tags": [],
    "deepnote_to_be_reexecuted": false,
    "source_hash": "20b9dd57",
    "execution_start": 1644177600340,
    "execution_millis": 4,
    "deepnote_app_coordinates": {
     "x": 0,
     "y": 330,
     "w": 12,
     "h": 5
    },
    "deepnote_cell_type": "code"
   },
   "outputs": [
    {
     "name": "stdout",
     "text": "Accuracy: 0.7532467532467533\n",
     "output_type": "stream"
    }
   ],
   "execution_count": null
  },
  {
   "cell_type": "markdown",
   "source": "#### Visualização da árvore",
   "metadata": {
    "cell_id": "daf2d375-41d3-4e51-9cb6-492b41d62add",
    "tags": [],
    "deepnote_app_coordinates": {
     "x": 0,
     "y": 336,
     "w": 12,
     "h": 5
    },
    "deepnote_cell_type": "markdown"
   }
  },
  {
   "cell_type": "code",
   "source": "for train_index, test_index in cv.split(X,y):\n  clf.fit(X.loc[train_index], y.loc[train_index])",
   "metadata": {
    "cell_id": "400f0e62-69a8-4f6c-815a-5358a8a7afd7",
    "tags": [],
    "deepnote_to_be_reexecuted": false,
    "source_hash": "6d03eac3",
    "execution_start": 1644177602712,
    "execution_millis": 13,
    "deepnote_app_coordinates": {
     "x": 0,
     "y": 348,
     "w": 12,
     "h": 5
    },
    "deepnote_cell_type": "code"
   },
   "outputs": [],
   "execution_count": null
  },
  {
   "cell_type": "code",
   "source": "dot_data = export_graphviz(clf, filled=True, rounded=True,max_depth=3,out_file=None,\n    feature_names=[\"Pregnancies\",\"Glucose\",\"BloodPressure\",\"SkinThickness\",\n    \"Insulin\",\"BMI\",\"DiabetesPedigreeFunction\",\"Age\"], class_names=['0','1'])\ngraph = graphviz.Source(dot_data)\ngraph",
   "metadata": {
    "cell_id": "8d450090-a225-4422-aeab-f8b06a382de9",
    "tags": [],
    "deepnote_to_be_reexecuted": false,
    "source_hash": "1335ace0",
    "execution_start": 1644177605098,
    "execution_millis": 516,
    "deepnote_output_heights": [
     421
    ],
    "deepnote_app_coordinates": {
     "x": 0,
     "y": 342,
     "w": 12,
     "h": 5
    },
    "deepnote_cell_type": "code"
   },
   "outputs": [
    {
     "output_type": "execute_result",
     "execution_count": 127,
     "data": {
      "image/svg+xml": "<?xml version=\"1.0\" encoding=\"UTF-8\" standalone=\"no\"?>\n<!DOCTYPE svg PUBLIC \"-//W3C//DTD SVG 1.1//EN\"\n \"http://www.w3.org/Graphics/SVG/1.1/DTD/svg11.dtd\">\n<!-- Generated by graphviz version 2.40.1 (20161225.0304)\n -->\n<!-- Title: Tree Pages: 1 -->\n<svg width=\"613pt\" height=\"314pt\"\n viewBox=\"0.00 0.00 612.50 314.00\" xmlns=\"http://www.w3.org/2000/svg\" xmlns:xlink=\"http://www.w3.org/1999/xlink\">\n<g id=\"graph0\" class=\"graph\" transform=\"scale(1 1) rotate(0) translate(4 310)\">\n<title>Tree</title>\n<polygon fill=\"#ffffff\" stroke=\"transparent\" points=\"-4,4 -4,-310 608.5,-310 608.5,4 -4,4\"/>\n<!-- 0 -->\n<g id=\"node1\" class=\"node\">\n<title>0</title>\n<path fill=\"#f3c4a3\" stroke=\"#000000\" d=\"M369.5,-306C369.5,-306 243.5,-306 243.5,-306 237.5,-306 231.5,-300 231.5,-294 231.5,-294 231.5,-235 231.5,-235 231.5,-229 237.5,-223 243.5,-223 243.5,-223 369.5,-223 369.5,-223 375.5,-223 381.5,-229 381.5,-235 381.5,-235 381.5,-294 381.5,-294 381.5,-300 375.5,-306 369.5,-306\"/>\n<text text-anchor=\"middle\" x=\"306.5\" y=\"-290.8\" font-family=\"Helvetica,sans-Serif\" font-size=\"14.00\" fill=\"#000000\">Glucose &lt;= 127.5</text>\n<text text-anchor=\"middle\" x=\"306.5\" y=\"-275.8\" font-family=\"Helvetica,sans-Serif\" font-size=\"14.00\" fill=\"#000000\">entropy = 0.933</text>\n<text text-anchor=\"middle\" x=\"306.5\" y=\"-260.8\" font-family=\"Helvetica,sans-Serif\" font-size=\"14.00\" fill=\"#000000\">samples = 614</text>\n<text text-anchor=\"middle\" x=\"306.5\" y=\"-245.8\" font-family=\"Helvetica,sans-Serif\" font-size=\"14.00\" fill=\"#000000\">value = [400, 214]</text>\n<text text-anchor=\"middle\" x=\"306.5\" y=\"-230.8\" font-family=\"Helvetica,sans-Serif\" font-size=\"14.00\" fill=\"#000000\">class = 0</text>\n</g>\n<!-- 1 -->\n<g id=\"node2\" class=\"node\">\n<title>1</title>\n<path fill=\"#eb9f68\" stroke=\"#000000\" d=\"M289,-187C289,-187 154,-187 154,-187 148,-187 142,-181 142,-175 142,-175 142,-116 142,-116 142,-110 148,-104 154,-104 154,-104 289,-104 289,-104 295,-104 301,-110 301,-116 301,-116 301,-175 301,-175 301,-181 295,-187 289,-187\"/>\n<text text-anchor=\"middle\" x=\"221.5\" y=\"-171.8\" font-family=\"Helvetica,sans-Serif\" font-size=\"14.00\" fill=\"#000000\">Pregnancies &lt;= 4.5</text>\n<text text-anchor=\"middle\" x=\"221.5\" y=\"-156.8\" font-family=\"Helvetica,sans-Serif\" font-size=\"14.00\" fill=\"#000000\">entropy = 0.704</text>\n<text text-anchor=\"middle\" x=\"221.5\" y=\"-141.8\" font-family=\"Helvetica,sans-Serif\" font-size=\"14.00\" fill=\"#000000\">samples = 392</text>\n<text text-anchor=\"middle\" x=\"221.5\" y=\"-126.8\" font-family=\"Helvetica,sans-Serif\" font-size=\"14.00\" fill=\"#000000\">value = [317, 75]</text>\n<text text-anchor=\"middle\" x=\"221.5\" y=\"-111.8\" font-family=\"Helvetica,sans-Serif\" font-size=\"14.00\" fill=\"#000000\">class = 0</text>\n</g>\n<!-- 0&#45;&gt;1 -->\n<g id=\"edge1\" class=\"edge\">\n<title>0&#45;&gt;1</title>\n<path fill=\"none\" stroke=\"#000000\" d=\"M276.7711,-222.8796C270.4667,-214.0534 263.749,-204.6485 257.2476,-195.5466\"/>\n<polygon fill=\"#000000\" stroke=\"#000000\" points=\"260.0163,-193.4011 251.3558,-187.2981 254.3201,-197.4698 260.0163,-193.4011\"/>\n<text text-anchor=\"middle\" x=\"247.2458\" y=\"-208.2579\" font-family=\"Helvetica,sans-Serif\" font-size=\"14.00\" fill=\"#000000\">True</text>\n</g>\n<!-- 4 -->\n<g id=\"node5\" class=\"node\">\n<title>4</title>\n<path fill=\"#afd8f5\" stroke=\"#000000\" d=\"M454,-187C454,-187 331,-187 331,-187 325,-187 319,-181 319,-175 319,-175 319,-116 319,-116 319,-110 325,-104 331,-104 331,-104 454,-104 454,-104 460,-104 466,-110 466,-116 466,-116 466,-175 466,-175 466,-181 460,-187 454,-187\"/>\n<text text-anchor=\"middle\" x=\"392.5\" y=\"-171.8\" font-family=\"Helvetica,sans-Serif\" font-size=\"14.00\" fill=\"#000000\">Glucose &lt;= 154.5</text>\n<text text-anchor=\"middle\" x=\"392.5\" y=\"-156.8\" font-family=\"Helvetica,sans-Serif\" font-size=\"14.00\" fill=\"#000000\">entropy = 0.954</text>\n<text text-anchor=\"middle\" x=\"392.5\" y=\"-141.8\" font-family=\"Helvetica,sans-Serif\" font-size=\"14.00\" fill=\"#000000\">samples = 222</text>\n<text text-anchor=\"middle\" x=\"392.5\" y=\"-126.8\" font-family=\"Helvetica,sans-Serif\" font-size=\"14.00\" fill=\"#000000\">value = [83, 139]</text>\n<text text-anchor=\"middle\" x=\"392.5\" y=\"-111.8\" font-family=\"Helvetica,sans-Serif\" font-size=\"14.00\" fill=\"#000000\">class = 1</text>\n</g>\n<!-- 0&#45;&gt;4 -->\n<g id=\"edge4\" class=\"edge\">\n<title>0&#45;&gt;4</title>\n<path fill=\"none\" stroke=\"#000000\" d=\"M336.5786,-222.8796C342.9572,-214.0534 349.754,-204.6485 356.3319,-195.5466\"/>\n<polygon fill=\"#000000\" stroke=\"#000000\" points=\"359.2723,-197.4532 362.293,-187.2981 353.5988,-193.353 359.2723,-197.4532\"/>\n<text text-anchor=\"middle\" x=\"366.2662\" y=\"-208.2803\" font-family=\"Helvetica,sans-Serif\" font-size=\"14.00\" fill=\"#000000\">False</text>\n</g>\n<!-- 2 -->\n<g id=\"node3\" class=\"node\">\n<title>2</title>\n<path fill=\"#e89050\" stroke=\"#000000\" d=\"M129,-68C129,-68 12,-68 12,-68 6,-68 0,-62 0,-56 0,-56 0,-12 0,-12 0,-6 6,0 12,0 12,0 129,0 129,0 135,0 141,-6 141,-12 141,-12 141,-56 141,-56 141,-62 135,-68 129,-68\"/>\n<text text-anchor=\"middle\" x=\"70.5\" y=\"-52.8\" font-family=\"Helvetica,sans-Serif\" font-size=\"14.00\" fill=\"#000000\">entropy = 0.484</text>\n<text text-anchor=\"middle\" x=\"70.5\" y=\"-37.8\" font-family=\"Helvetica,sans-Serif\" font-size=\"14.00\" fill=\"#000000\">samples = 267</text>\n<text text-anchor=\"middle\" x=\"70.5\" y=\"-22.8\" font-family=\"Helvetica,sans-Serif\" font-size=\"14.00\" fill=\"#000000\">value = [239, 28]</text>\n<text text-anchor=\"middle\" x=\"70.5\" y=\"-7.8\" font-family=\"Helvetica,sans-Serif\" font-size=\"14.00\" fill=\"#000000\">class = 0</text>\n</g>\n<!-- 1&#45;&gt;2 -->\n<g id=\"edge2\" class=\"edge\">\n<title>1&#45;&gt;2</title>\n<path fill=\"none\" stroke=\"#000000\" d=\"M165.2732,-103.9815C152.2043,-94.3313 138.3097,-84.0714 125.3032,-74.4673\"/>\n<polygon fill=\"#000000\" stroke=\"#000000\" points=\"127.0255,-71.3883 116.9019,-68.2637 122.8674,-77.0195 127.0255,-71.3883\"/>\n</g>\n<!-- 3 -->\n<g id=\"node4\" class=\"node\">\n<title>3</title>\n<path fill=\"#f5cdb0\" stroke=\"#000000\" d=\"M281.5,-68C281.5,-68 171.5,-68 171.5,-68 165.5,-68 159.5,-62 159.5,-56 159.5,-56 159.5,-12 159.5,-12 159.5,-6 165.5,0 171.5,0 171.5,0 281.5,0 281.5,0 287.5,0 293.5,-6 293.5,-12 293.5,-12 293.5,-56 293.5,-56 293.5,-62 287.5,-68 281.5,-68\"/>\n<text text-anchor=\"middle\" x=\"226.5\" y=\"-52.8\" font-family=\"Helvetica,sans-Serif\" font-size=\"14.00\" fill=\"#000000\">entropy = 0.955</text>\n<text text-anchor=\"middle\" x=\"226.5\" y=\"-37.8\" font-family=\"Helvetica,sans-Serif\" font-size=\"14.00\" fill=\"#000000\">samples = 125</text>\n<text text-anchor=\"middle\" x=\"226.5\" y=\"-22.8\" font-family=\"Helvetica,sans-Serif\" font-size=\"14.00\" fill=\"#000000\">value = [78, 47]</text>\n<text text-anchor=\"middle\" x=\"226.5\" y=\"-7.8\" font-family=\"Helvetica,sans-Serif\" font-size=\"14.00\" fill=\"#000000\">class = 0</text>\n</g>\n<!-- 1&#45;&gt;3 -->\n<g id=\"edge3\" class=\"edge\">\n<title>1&#45;&gt;3</title>\n<path fill=\"none\" stroke=\"#000000\" d=\"M223.3618,-103.9815C223.7369,-95.618 224.1324,-86.7965 224.5116,-78.3409\"/>\n<polygon fill=\"#000000\" stroke=\"#000000\" points=\"228.0119,-78.4105 224.9635,-68.2637 221.019,-78.0968 228.0119,-78.4105\"/>\n</g>\n<!-- 5 -->\n<g id=\"node6\" class=\"node\">\n<title>5</title>\n<path fill=\"#fcf0e7\" stroke=\"#000000\" d=\"M442.5,-68C442.5,-68 332.5,-68 332.5,-68 326.5,-68 320.5,-62 320.5,-56 320.5,-56 320.5,-12 320.5,-12 320.5,-6 326.5,0 332.5,0 332.5,0 442.5,0 442.5,0 448.5,0 454.5,-6 454.5,-12 454.5,-12 454.5,-56 454.5,-56 454.5,-62 448.5,-68 442.5,-68\"/>\n<text text-anchor=\"middle\" x=\"387.5\" y=\"-52.8\" font-family=\"Helvetica,sans-Serif\" font-size=\"14.00\" fill=\"#000000\">entropy = 0.997</text>\n<text text-anchor=\"middle\" x=\"387.5\" y=\"-37.8\" font-family=\"Helvetica,sans-Serif\" font-size=\"14.00\" fill=\"#000000\">samples = 126</text>\n<text text-anchor=\"middle\" x=\"387.5\" y=\"-22.8\" font-family=\"Helvetica,sans-Serif\" font-size=\"14.00\" fill=\"#000000\">value = [67, 59]</text>\n<text text-anchor=\"middle\" x=\"387.5\" y=\"-7.8\" font-family=\"Helvetica,sans-Serif\" font-size=\"14.00\" fill=\"#000000\">class = 0</text>\n</g>\n<!-- 4&#45;&gt;5 -->\n<g id=\"edge5\" class=\"edge\">\n<title>4&#45;&gt;5</title>\n<path fill=\"none\" stroke=\"#000000\" d=\"M390.6382,-103.9815C390.2631,-95.618 389.8676,-86.7965 389.4884,-78.3409\"/>\n<polygon fill=\"#000000\" stroke=\"#000000\" points=\"392.981,-78.0968 389.0365,-68.2637 385.9881,-78.4105 392.981,-78.0968\"/>\n</g>\n<!-- 6 -->\n<g id=\"node7\" class=\"node\">\n<title>6</title>\n<path fill=\"#61b1ea\" stroke=\"#000000\" d=\"M592.5,-68C592.5,-68 484.5,-68 484.5,-68 478.5,-68 472.5,-62 472.5,-56 472.5,-56 472.5,-12 472.5,-12 472.5,-6 478.5,0 484.5,0 484.5,0 592.5,0 592.5,0 598.5,0 604.5,-6 604.5,-12 604.5,-12 604.5,-56 604.5,-56 604.5,-62 598.5,-68 592.5,-68\"/>\n<text text-anchor=\"middle\" x=\"538.5\" y=\"-52.8\" font-family=\"Helvetica,sans-Serif\" font-size=\"14.00\" fill=\"#000000\">entropy = 0.65</text>\n<text text-anchor=\"middle\" x=\"538.5\" y=\"-37.8\" font-family=\"Helvetica,sans-Serif\" font-size=\"14.00\" fill=\"#000000\">samples = 96</text>\n<text text-anchor=\"middle\" x=\"538.5\" y=\"-22.8\" font-family=\"Helvetica,sans-Serif\" font-size=\"14.00\" fill=\"#000000\">value = [16, 80]</text>\n<text text-anchor=\"middle\" x=\"538.5\" y=\"-7.8\" font-family=\"Helvetica,sans-Serif\" font-size=\"14.00\" fill=\"#000000\">class = 1</text>\n</g>\n<!-- 4&#45;&gt;6 -->\n<g id=\"edge6\" class=\"edge\">\n<title>4&#45;&gt;6</title>\n<path fill=\"none\" stroke=\"#000000\" d=\"M446.865,-103.9815C459.5011,-94.3313 472.9356,-84.0714 485.5115,-74.4673\"/>\n<polygon fill=\"#000000\" stroke=\"#000000\" points=\"487.8114,-77.1148 493.6346,-68.2637 483.5628,-71.5515 487.8114,-77.1148\"/>\n</g>\n</g>\n</svg>\n",
      "text/plain": "<graphviz.sources.Source at 0x7f564805b690>"
     },
     "metadata": {}
    }
   ],
   "execution_count": null
  },
  {
   "cell_type": "markdown",
   "source": "### Criando 10 árvores aleatórias com o método holdout ",
   "metadata": {
    "cell_id": "e4ed9e9b-8e4d-424f-a3a6-73bb408cb2d3",
    "tags": [],
    "is_collapsed": false,
    "deepnote_app_coordinates": {
     "x": 0,
     "y": 354,
     "w": 12,
     "h": 5
    },
    "deepnote_cell_type": "text-cell-h3"
   }
  },
  {
   "cell_type": "code",
   "metadata": {
    "cell_id": "19112f77-e346-4dfc-a513-df29b5b99b7d",
    "tags": [],
    "deepnote_to_be_reexecuted": false,
    "source_hash": "2bdaf4b2",
    "execution_start": 1644176869203,
    "execution_millis": 2858,
    "deepnote_output_heights": [
     null,
     268,
     null,
     264,
     null,
     264,
     null,
     264,
     null,
     265,
     null,
     264,
     null,
     264,
     null,
     264,
     null,
     264,
     null,
     266
    ],
    "deepnote_app_coordinates": {
     "x": 0,
     "y": 252,
     "w": 12,
     "h": 5
    },
    "deepnote_cell_type": "code"
   },
   "source": "\nfor i in range(10):\n\n    X_train, X_test, y_train, y_test = train_test_split(X, y, test_size=0.20, random_state=random.seed())\n\n    clf = DecisionTreeClassifier(criterion=\"entropy\", max_depth=2, min_samples_leaf=20)\n\n    # Train Decision Tree Classifer\n    clf = clf.fit(X_train,y_train)\n\n    #Predict the response for test dataset\n    y_pred = clf.predict(X_test)\n\n    print(\"Tree Number\", i+1)\n\n    print(\"Accuracy:\",metrics.accuracy_score(y_test, y_pred))\n\n    plot_confusion_matrix(clf, X_test, y_test)\n    plt.show()\n\n    print(\"-------------------------\")",
   "outputs": [
    {
     "name": "stdout",
     "text": "Tree Number 1\nAccuracy: 0.7662337662337663\n/shared-libs/python3.7/py/lib/python3.7/site-packages/sklearn/utils/deprecation.py:87: FutureWarning: Function plot_confusion_matrix is deprecated; Function `plot_confusion_matrix` is deprecated in 1.0 and will be removed in 1.2. Use one of the class methods: ConfusionMatrixDisplay.from_predictions or ConfusionMatrixDisplay.from_estimator.\n  warnings.warn(msg, category=FutureWarning)\n",
     "output_type": "stream"
    },
    {
     "data": {
      "text/plain": "<Figure size 432x288 with 2 Axes>",
      "image/png": "[encoded data removed]"
     },
     "metadata": {
      "needs_background": "light",
      "image/png": {
       "width": 306,
       "height": 266
      }
     },
     "output_type": "display_data"
    },
    {
     "name": "stdout",
     "text": "-------------------------\nTree Number 2\nAccuracy: 0.7597402597402597\n/shared-libs/python3.7/py/lib/python3.7/site-packages/sklearn/utils/deprecation.py:87: FutureWarning: Function plot_confusion_matrix is deprecated; Function `plot_confusion_matrix` is deprecated in 1.0 and will be removed in 1.2. Use one of the class methods: ConfusionMatrixDisplay.from_predictions or ConfusionMatrixDisplay.from_estimator.\n  warnings.warn(msg, category=FutureWarning)\n",
     "output_type": "stream"
    },
    {
     "data": {
      "text/plain": "<Figure size 432x288 with 2 Axes>",
      "image/png": "[encoded data removed]"
     },
     "metadata": {
      "needs_background": "light",
      "image/png": {
       "width": 306,
       "height": 262
      }
     },
     "output_type": "display_data"
    },
    {
     "name": "stdout",
     "text": "-------------------------\nTree Number 3\nAccuracy: 0.6493506493506493\n/shared-libs/python3.7/py/lib/python3.7/site-packages/sklearn/utils/deprecation.py:87: FutureWarning: Function plot_confusion_matrix is deprecated; Function `plot_confusion_matrix` is deprecated in 1.0 and will be removed in 1.2. Use one of the class methods: ConfusionMatrixDisplay.from_predictions or ConfusionMatrixDisplay.from_estimator.\n  warnings.warn(msg, category=FutureWarning)\n",
     "output_type": "stream"
    },
    {
     "data": {
      "text/plain": "<Figure size 432x288 with 2 Axes>",
      "image/png": "[encoded data removed]"
     },
     "metadata": {
      "needs_background": "light",
      "image/png": {
       "width": 306,
       "height": 262
      }
     },
     "output_type": "display_data"
    },
    {
     "name": "stdout",
     "text": "-------------------------\nTree Number 4\nAccuracy: 0.7532467532467533\n/shared-libs/python3.7/py/lib/python3.7/site-packages/sklearn/utils/deprecation.py:87: FutureWarning: Function plot_confusion_matrix is deprecated; Function `plot_confusion_matrix` is deprecated in 1.0 and will be removed in 1.2. Use one of the class methods: ConfusionMatrixDisplay.from_predictions or ConfusionMatrixDisplay.from_estimator.\n  warnings.warn(msg, category=FutureWarning)\n",
     "output_type": "stream"
    },
    {
     "data": {
      "text/plain": "<Figure size 432x288 with 2 Axes>",
      "image/png": "[encoded data removed]"
     },
     "metadata": {
      "needs_background": "light",
      "image/png": {
       "width": 306,
       "height": 262
      }
     },
     "output_type": "display_data"
    },
    {
     "name": "stdout",
     "text": "-------------------------\nTree Number 5\nAccuracy: 0.7467532467532467\n/shared-libs/python3.7/py/lib/python3.7/site-packages/sklearn/utils/deprecation.py:87: FutureWarning: Function plot_confusion_matrix is deprecated; Function `plot_confusion_matrix` is deprecated in 1.0 and will be removed in 1.2. Use one of the class methods: ConfusionMatrixDisplay.from_predictions or ConfusionMatrixDisplay.from_estimator.\n  warnings.warn(msg, category=FutureWarning)\n",
     "output_type": "stream"
    },
    {
     "data": {
      "text/plain": "<Figure size 432x288 with 2 Axes>",
      "image/png": "[encoded data removed]"
     },
     "metadata": {
      "needs_background": "light",
      "image/png": {
       "width": 306,
       "height": 263
      }
     },
     "output_type": "display_data"
    },
    {
     "name": "stdout",
     "text": "-------------------------\nTree Number 6\nAccuracy: 0.7597402597402597\n/shared-libs/python3.7/py/lib/python3.7/site-packages/sklearn/utils/deprecation.py:87: FutureWarning: Function plot_confusion_matrix is deprecated; Function `plot_confusion_matrix` is deprecated in 1.0 and will be removed in 1.2. Use one of the class methods: ConfusionMatrixDisplay.from_predictions or ConfusionMatrixDisplay.from_estimator.\n  warnings.warn(msg, category=FutureWarning)\n",
     "output_type": "stream"
    },
    {
     "data": {
      "text/plain": "<Figure size 432x288 with 2 Axes>",
      "image/png": "[encoded data removed]"
     },
     "metadata": {
      "needs_background": "light",
      "image/png": {
       "width": 312,
       "height": 262
      }
     },
     "output_type": "display_data"
    },
    {
     "name": "stdout",
     "text": "-------------------------\nTree Number 7\nAccuracy: 0.7077922077922078\n/shared-libs/python3.7/py/lib/python3.7/site-packages/sklearn/utils/deprecation.py:87: FutureWarning: Function plot_confusion_matrix is deprecated; Function `plot_confusion_matrix` is deprecated in 1.0 and will be removed in 1.2. Use one of the class methods: ConfusionMatrixDisplay.from_predictions or ConfusionMatrixDisplay.from_estimator.\n  warnings.warn(msg, category=FutureWarning)\n",
     "output_type": "stream"
    },
    {
     "data": {
      "text/plain": "<Figure size 432x288 with 2 Axes>",
      "image/png": "[encoded data removed]"
     },
     "metadata": {
      "needs_background": "light",
      "image/png": {
       "width": 306,
       "height": 262
      }
     },
     "output_type": "display_data"
    },
    {
     "name": "stdout",
     "text": "-------------------------\nTree Number 8\nAccuracy: 0.6948051948051948\n/shared-libs/python3.7/py/lib/python3.7/site-packages/sklearn/utils/deprecation.py:87: FutureWarning: Function plot_confusion_matrix is deprecated; Function `plot_confusion_matrix` is deprecated in 1.0 and will be removed in 1.2. Use one of the class methods: ConfusionMatrixDisplay.from_predictions or ConfusionMatrixDisplay.from_estimator.\n  warnings.warn(msg, category=FutureWarning)\n",
     "output_type": "stream"
    },
    {
     "data": {
      "text/plain": "<Figure size 432x288 with 2 Axes>",
      "image/png": "[encoded data removed]"
     },
     "metadata": {
      "needs_background": "light",
      "image/png": {
       "width": 306,
       "height": 262
      }
     },
     "output_type": "display_data"
    },
    {
     "name": "stdout",
     "text": "-------------------------\nTree Number 9\nAccuracy: 0.7532467532467533\n/shared-libs/python3.7/py/lib/python3.7/site-packages/sklearn/utils/deprecation.py:87: FutureWarning: Function plot_confusion_matrix is deprecated; Function `plot_confusion_matrix` is deprecated in 1.0 and will be removed in 1.2. Use one of the class methods: ConfusionMatrixDisplay.from_predictions or ConfusionMatrixDisplay.from_estimator.\n  warnings.warn(msg, category=FutureWarning)\n",
     "output_type": "stream"
    },
    {
     "data": {
      "text/plain": "<Figure size 432x288 with 2 Axes>",
      "image/png": "[encoded data removed]"
     },
     "metadata": {
      "needs_background": "light",
      "image/png": {
       "width": 306,
       "height": 262
      }
     },
     "output_type": "display_data"
    },
    {
     "name": "stdout",
     "text": "-------------------------\nTree Number 10\nAccuracy: 0.7402597402597403\n/shared-libs/python3.7/py/lib/python3.7/site-packages/sklearn/utils/deprecation.py:87: FutureWarning: Function plot_confusion_matrix is deprecated; Function `plot_confusion_matrix` is deprecated in 1.0 and will be removed in 1.2. Use one of the class methods: ConfusionMatrixDisplay.from_predictions or ConfusionMatrixDisplay.from_estimator.\n  warnings.warn(msg, category=FutureWarning)\n",
     "output_type": "stream"
    },
    {
     "data": {
      "text/plain": "<Figure size 432x288 with 2 Axes>",
      "image/png": "[encoded data removed]"
     },
     "metadata": {
      "needs_background": "light",
      "image/png": {
       "width": 306,
       "height": 264
      }
     },
     "output_type": "display_data"
    },
    {
     "name": "stdout",
     "text": "-------------------------\n",
     "output_type": "stream"
    }
   ],
   "execution_count": null
  },
  {
   "cell_type": "markdown",
   "source": "Observa-se que utilizando o método holdout sem a estratificação no dados, gera árvores com desempenhos variando acurácias de 0,64 a 0,75. O que é coerente, visto exitem proporções diferentes das instâncias de cada classe no dataset. Portanto agora demonstro o comportamento das árvores ao estratificar o dados de treino e teste.",
   "metadata": {
    "cell_id": "bf535570-ba81-43aa-ae44-46a4e010df14",
    "tags": [],
    "deepnote_app_coordinates": {
     "x": 0,
     "y": 360,
     "w": 12,
     "h": 5
    },
    "deepnote_cell_type": "markdown"
   }
  },
  {
   "cell_type": "markdown",
   "source": "### Criando 10 árvores aleatórias com o método holdout estratificado",
   "metadata": {
    "cell_id": "279428e8-6b63-46a4-9a46-9740b00af9a8",
    "tags": [],
    "is_collapsed": false,
    "deepnote_app_coordinates": {
     "x": 0,
     "y": 366,
     "w": 12,
     "h": 5
    },
    "deepnote_cell_type": "text-cell-h3"
   }
  },
  {
   "cell_type": "code",
   "metadata": {
    "cell_id": "40d001e5-0a57-48fc-bc9d-605abb275030",
    "tags": [],
    "deepnote_to_be_reexecuted": false,
    "source_hash": "a6640c5e",
    "execution_start": 1644177485960,
    "execution_millis": 3160,
    "deepnote_output_heights": [
     null,
     264,
     421,
     263.984375,
     264,
     421,
     null,
     264,
     421,
     263.984375,
     264,
     421,
     null,
     264,
     421,
     264,
     264,
     421,
     null,
     264,
     421,
     null,
     264,
     421,
     null,
     268,
     421,
     null,
     264,
     421
    ],
    "deepnote_app_coordinates": {
     "x": 0,
     "y": 258,
     "w": 12,
     "h": 5
    },
    "deepnote_cell_type": "code"
   },
   "source": "for i in range(10):\n\n    cv = StratifiedShuffleSplit(n_splits=1, test_size=0.2, random_state=random.seed())\n\n    clf = DecisionTreeClassifier(criterion=\"entropy\", max_depth=2, min_samples_leaf=20)\n\n    for train_index, test_index in cv.split(X,y):\n        clf.fit(X.loc[train_index], y.loc[train_index])\n        y_pred = clf.predict(X.loc[test_index])\n        y_test = y.loc[test_index]\n\n        print(\"Tree Number\", i+1)\n\n        print(\"Accuracy:\",metrics.accuracy_score(y_test, y_pred))\n\n        plot_confusion_matrix(clf, X_test, y_test)\n\n        #predicted_probas = clf.predict_proba(X_test)\n\n        #skplt.metrics.plot_roc(y_test, predicted_probas)\n        plt.show()\n\n        dot_data = export_graphviz(clf, filled=True, rounded=True,max_depth=3,out_file=None,\n        feature_names=[\"Pregnancies\",\"Glucose\",\"BloodPressure\",\"SkinThickness\",\n        \"Insulin\",\"BMI\",\"DiabetesPedigreeFunction\",\"Age\"], class_names=['0','1'])\n        graph = graphviz.Source(dot_data)\n\n        \n        display(graph)\n        ",
   "outputs": [
    {
     "name": "stdout",
     "text": "Tree Number 1\nAccuracy: 0.7272727272727273\n/shared-libs/python3.7/py/lib/python3.7/site-packages/sklearn/utils/deprecation.py:87: FutureWarning: Function plot_confusion_matrix is deprecated; Function `plot_confusion_matrix` is deprecated in 1.0 and will be removed in 1.2. Use one of the class methods: ConfusionMatrixDisplay.from_predictions or ConfusionMatrixDisplay.from_estimator.\n  warnings.warn(msg, category=FutureWarning)\n",
     "output_type": "stream"
    },
    {
     "data": {
      "text/plain": "<Figure size 432x288 with 2 Axes>",
      "image/png": "[encoded data removed]"
     },
     "metadata": {
      "needs_background": "light",
      "image/png": {
       "width": 306,
       "height": 262
      }
     },
     "output_type": "display_data"
    },
    {
     "data": {
      "image/svg+xml": "<?xml version=\"1.0\" encoding=\"UTF-8\" standalone=\"no\"?>\n<!DOCTYPE svg PUBLIC \"-//W3C//DTD SVG 1.1//EN\"\n \"http://www.w3.org/Graphics/SVG/1.1/DTD/svg11.dtd\">\n<!-- Generated by graphviz version 2.40.1 (20161225.0304)\n -->\n<!-- Title: Tree Pages: 1 -->\n<svg width=\"616pt\" height=\"314pt\"\n viewBox=\"0.00 0.00 616.00 314.00\" xmlns=\"http://www.w3.org/2000/svg\" xmlns:xlink=\"http://www.w3.org/1999/xlink\">\n<g id=\"graph0\" class=\"graph\" transform=\"scale(1 1) rotate(0) translate(4 310)\">\n<title>Tree</title>\n<polygon fill=\"#ffffff\" stroke=\"transparent\" points=\"-4,4 -4,-310 612,-310 612,4 -4,4\"/>\n<!-- 0 -->\n<g id=\"node1\" class=\"node\">\n<title>0</title>\n<path fill=\"#f3c4a3\" stroke=\"#000000\" d=\"M371,-306C371,-306 245,-306 245,-306 239,-306 233,-300 233,-294 233,-294 233,-235 233,-235 233,-229 239,-223 245,-223 245,-223 371,-223 371,-223 377,-223 383,-229 383,-235 383,-235 383,-294 383,-294 383,-300 377,-306 371,-306\"/>\n<text text-anchor=\"middle\" x=\"308\" y=\"-290.8\" font-family=\"Helvetica,sans-Serif\" font-size=\"14.00\" fill=\"#000000\">Glucose &lt;= 143.5</text>\n<text text-anchor=\"middle\" x=\"308\" y=\"-275.8\" font-family=\"Helvetica,sans-Serif\" font-size=\"14.00\" fill=\"#000000\">entropy = 0.933</text>\n<text text-anchor=\"middle\" x=\"308\" y=\"-260.8\" font-family=\"Helvetica,sans-Serif\" font-size=\"14.00\" fill=\"#000000\">samples = 614</text>\n<text text-anchor=\"middle\" x=\"308\" y=\"-245.8\" font-family=\"Helvetica,sans-Serif\" font-size=\"14.00\" fill=\"#000000\">value = [400, 214]</text>\n<text text-anchor=\"middle\" x=\"308\" y=\"-230.8\" font-family=\"Helvetica,sans-Serif\" font-size=\"14.00\" fill=\"#000000\">class = 0</text>\n</g>\n<!-- 1 -->\n<g id=\"node2\" class=\"node\">\n<title>1</title>\n<path fill=\"#eda876\" stroke=\"#000000\" d=\"M289,-187C289,-187 163,-187 163,-187 157,-187 151,-181 151,-175 151,-175 151,-116 151,-116 151,-110 157,-104 163,-104 163,-104 289,-104 289,-104 295,-104 301,-110 301,-116 301,-116 301,-175 301,-175 301,-181 295,-187 289,-187\"/>\n<text text-anchor=\"middle\" x=\"226\" y=\"-171.8\" font-family=\"Helvetica,sans-Serif\" font-size=\"14.00\" fill=\"#000000\">BMI &lt;= 26.9</text>\n<text text-anchor=\"middle\" x=\"226\" y=\"-156.8\" font-family=\"Helvetica,sans-Serif\" font-size=\"14.00\" fill=\"#000000\">entropy = 0.788</text>\n<text text-anchor=\"middle\" x=\"226\" y=\"-141.8\" font-family=\"Helvetica,sans-Serif\" font-size=\"14.00\" fill=\"#000000\">samples = 467</text>\n<text text-anchor=\"middle\" x=\"226\" y=\"-126.8\" font-family=\"Helvetica,sans-Serif\" font-size=\"14.00\" fill=\"#000000\">value = [357, 110]</text>\n<text text-anchor=\"middle\" x=\"226\" y=\"-111.8\" font-family=\"Helvetica,sans-Serif\" font-size=\"14.00\" fill=\"#000000\">class = 0</text>\n</g>\n<!-- 0&#45;&gt;1 -->\n<g id=\"edge1\" class=\"edge\">\n<title>0&#45;&gt;1</title>\n<path fill=\"none\" stroke=\"#000000\" d=\"M279.3204,-222.8796C273.2385,-214.0534 266.7578,-204.6485 260.4859,-195.5466\"/>\n<polygon fill=\"#000000\" stroke=\"#000000\" points=\"263.3582,-193.5465 254.802,-187.2981 257.5941,-197.5184 263.3582,-193.5465\"/>\n<text text-anchor=\"middle\" x=\"250.2761\" y=\"-208.185\" font-family=\"Helvetica,sans-Serif\" font-size=\"14.00\" fill=\"#000000\">True</text>\n</g>\n<!-- 4 -->\n<g id=\"node5\" class=\"node\">\n<title>4</title>\n<path fill=\"#8bc6f0\" stroke=\"#000000\" d=\"M448.5,-187C448.5,-187 331.5,-187 331.5,-187 325.5,-187 319.5,-181 319.5,-175 319.5,-175 319.5,-116 319.5,-116 319.5,-110 325.5,-104 331.5,-104 331.5,-104 448.5,-104 448.5,-104 454.5,-104 460.5,-110 460.5,-116 460.5,-116 460.5,-175 460.5,-175 460.5,-181 454.5,-187 448.5,-187\"/>\n<text text-anchor=\"middle\" x=\"390\" y=\"-171.8\" font-family=\"Helvetica,sans-Serif\" font-size=\"14.00\" fill=\"#000000\">BMI &lt;= 29.9</text>\n<text text-anchor=\"middle\" x=\"390\" y=\"-156.8\" font-family=\"Helvetica,sans-Serif\" font-size=\"14.00\" fill=\"#000000\">entropy = 0.872</text>\n<text text-anchor=\"middle\" x=\"390\" y=\"-141.8\" font-family=\"Helvetica,sans-Serif\" font-size=\"14.00\" fill=\"#000000\">samples = 147</text>\n<text text-anchor=\"middle\" x=\"390\" y=\"-126.8\" font-family=\"Helvetica,sans-Serif\" font-size=\"14.00\" fill=\"#000000\">value = [43, 104]</text>\n<text text-anchor=\"middle\" x=\"390\" y=\"-111.8\" font-family=\"Helvetica,sans-Serif\" font-size=\"14.00\" fill=\"#000000\">class = 1</text>\n</g>\n<!-- 0&#45;&gt;4 -->\n<g id=\"edge4\" class=\"edge\">\n<title>0&#45;&gt;4</title>\n<path fill=\"none\" stroke=\"#000000\" d=\"M336.6796,-222.8796C342.7615,-214.0534 349.2422,-204.6485 355.5141,-195.5466\"/>\n<polygon fill=\"#000000\" stroke=\"#000000\" points=\"358.4059,-197.5184 361.198,-187.2981 352.6418,-193.5465 358.4059,-197.5184\"/>\n<text text-anchor=\"middle\" x=\"365.7239\" y=\"-208.185\" font-family=\"Helvetica,sans-Serif\" font-size=\"14.00\" fill=\"#000000\">False</text>\n</g>\n<!-- 2 -->\n<g id=\"node3\" class=\"node\">\n<title>2</title>\n<path fill=\"#e68743\" stroke=\"#000000\" d=\"M122,-68C122,-68 12,-68 12,-68 6,-68 0,-62 0,-56 0,-56 0,-12 0,-12 0,-6 6,0 12,0 12,0 122,0 122,0 128,0 134,-6 134,-12 134,-12 134,-56 134,-56 134,-62 128,-68 122,-68\"/>\n<text text-anchor=\"middle\" x=\"67\" y=\"-52.8\" font-family=\"Helvetica,sans-Serif\" font-size=\"14.00\" fill=\"#000000\">entropy = 0.275</text>\n<text text-anchor=\"middle\" x=\"67\" y=\"-37.8\" font-family=\"Helvetica,sans-Serif\" font-size=\"14.00\" fill=\"#000000\">samples = 127</text>\n<text text-anchor=\"middle\" x=\"67\" y=\"-22.8\" font-family=\"Helvetica,sans-Serif\" font-size=\"14.00\" fill=\"#000000\">value = [121, 6]</text>\n<text text-anchor=\"middle\" x=\"67\" y=\"-7.8\" font-family=\"Helvetica,sans-Serif\" font-size=\"14.00\" fill=\"#000000\">class = 0</text>\n</g>\n<!-- 1&#45;&gt;2 -->\n<g id=\"edge2\" class=\"edge\">\n<title>1&#45;&gt;2</title>\n<path fill=\"none\" stroke=\"#000000\" d=\"M166.7943,-103.9815C152.8288,-94.1881 137.9679,-83.7668 124.0977,-74.0402\"/>\n<polygon fill=\"#000000\" stroke=\"#000000\" points=\"125.8035,-70.9616 115.6064,-68.0856 121.7844,-76.6928 125.8035,-70.9616\"/>\n</g>\n<!-- 3 -->\n<g id=\"node4\" class=\"node\">\n<title>3</title>\n<path fill=\"#f0b990\" stroke=\"#000000\" d=\"M290,-68C290,-68 164,-68 164,-68 158,-68 152,-62 152,-56 152,-56 152,-12 152,-12 152,-6 158,0 164,0 164,0 290,0 290,0 296,0 302,-6 302,-12 302,-12 302,-56 302,-56 302,-62 296,-68 290,-68\"/>\n<text text-anchor=\"middle\" x=\"227\" y=\"-52.8\" font-family=\"Helvetica,sans-Serif\" font-size=\"14.00\" fill=\"#000000\">entropy = 0.888</text>\n<text text-anchor=\"middle\" x=\"227\" y=\"-37.8\" font-family=\"Helvetica,sans-Serif\" font-size=\"14.00\" fill=\"#000000\">samples = 340</text>\n<text text-anchor=\"middle\" x=\"227\" y=\"-22.8\" font-family=\"Helvetica,sans-Serif\" font-size=\"14.00\" fill=\"#000000\">value = [236, 104]</text>\n<text text-anchor=\"middle\" x=\"227\" y=\"-7.8\" font-family=\"Helvetica,sans-Serif\" font-size=\"14.00\" fill=\"#000000\">class = 0</text>\n</g>\n<!-- 1&#45;&gt;3 -->\n<g id=\"edge3\" class=\"edge\">\n<title>1&#45;&gt;3</title>\n<path fill=\"none\" stroke=\"#000000\" d=\"M226.3724,-103.9815C226.4474,-95.618 226.5265,-86.7965 226.6023,-78.3409\"/>\n<polygon fill=\"#000000\" stroke=\"#000000\" points=\"230.1028,-78.2947 226.6927,-68.2637 223.1031,-78.2318 230.1028,-78.2947\"/>\n</g>\n<!-- 5 -->\n<g id=\"node6\" class=\"node\">\n<title>5</title>\n<path fill=\"#f9e1d0\" stroke=\"#000000\" d=\"M444,-68C444,-68 334,-68 334,-68 328,-68 322,-62 322,-56 322,-56 322,-12 322,-12 322,-6 328,0 334,0 334,0 444,0 444,0 450,0 456,-6 456,-12 456,-12 456,-56 456,-56 456,-62 450,-68 444,-68\"/>\n<text text-anchor=\"middle\" x=\"389\" y=\"-52.8\" font-family=\"Helvetica,sans-Serif\" font-size=\"14.00\" fill=\"#000000\">entropy = 0.987</text>\n<text text-anchor=\"middle\" x=\"389\" y=\"-37.8\" font-family=\"Helvetica,sans-Serif\" font-size=\"14.00\" fill=\"#000000\">samples = 30</text>\n<text text-anchor=\"middle\" x=\"389\" y=\"-22.8\" font-family=\"Helvetica,sans-Serif\" font-size=\"14.00\" fill=\"#000000\">value = [17, 13]</text>\n<text text-anchor=\"middle\" x=\"389\" y=\"-7.8\" font-family=\"Helvetica,sans-Serif\" font-size=\"14.00\" fill=\"#000000\">class = 0</text>\n</g>\n<!-- 4&#45;&gt;5 -->\n<g id=\"edge5\" class=\"edge\">\n<title>4&#45;&gt;5</title>\n<path fill=\"none\" stroke=\"#000000\" d=\"M389.6276,-103.9815C389.5526,-95.618 389.4735,-86.7965 389.3977,-78.3409\"/>\n<polygon fill=\"#000000\" stroke=\"#000000\" points=\"392.8969,-78.2318 389.3073,-68.2637 385.8972,-78.2947 392.8969,-78.2318\"/>\n</g>\n<!-- 6 -->\n<g id=\"node7\" class=\"node\">\n<title>6</title>\n<path fill=\"#72b9ec\" stroke=\"#000000\" d=\"M596,-68C596,-68 486,-68 486,-68 480,-68 474,-62 474,-56 474,-56 474,-12 474,-12 474,-6 480,0 486,0 486,0 596,0 596,0 602,0 608,-6 608,-12 608,-12 608,-56 608,-56 608,-62 602,-68 596,-68\"/>\n<text text-anchor=\"middle\" x=\"541\" y=\"-52.8\" font-family=\"Helvetica,sans-Serif\" font-size=\"14.00\" fill=\"#000000\">entropy = 0.764</text>\n<text text-anchor=\"middle\" x=\"541\" y=\"-37.8\" font-family=\"Helvetica,sans-Serif\" font-size=\"14.00\" fill=\"#000000\">samples = 117</text>\n<text text-anchor=\"middle\" x=\"541\" y=\"-22.8\" font-family=\"Helvetica,sans-Serif\" font-size=\"14.00\" fill=\"#000000\">value = [26, 91]</text>\n<text text-anchor=\"middle\" x=\"541\" y=\"-7.8\" font-family=\"Helvetica,sans-Serif\" font-size=\"14.00\" fill=\"#000000\">class = 1</text>\n</g>\n<!-- 4&#45;&gt;6 -->\n<g id=\"edge6\" class=\"edge\">\n<title>4&#45;&gt;6</title>\n<path fill=\"none\" stroke=\"#000000\" d=\"M446.2268,-103.9815C459.2957,-94.3313 473.1903,-84.0714 486.1968,-74.4673\"/>\n<polygon fill=\"#000000\" stroke=\"#000000\" points=\"488.6326,-77.0195 494.5981,-68.2637 484.4745,-71.3883 488.6326,-77.0195\"/>\n</g>\n</g>\n</svg>\n",
      "text/plain": "<graphviz.sources.Source at 0x7f564803fcd0>"
     },
     "metadata": {},
     "output_type": "display_data"
    },
    {
     "name": "stdout",
     "text": "Tree Number 2\nAccuracy: 0.7597402597402597\n/shared-libs/python3.7/py/lib/python3.7/site-packages/sklearn/utils/deprecation.py:87: FutureWarning: Function plot_confusion_matrix is deprecated; Function `plot_confusion_matrix` is deprecated in 1.0 and will be removed in 1.2. Use one of the class methods: ConfusionMatrixDisplay.from_predictions or ConfusionMatrixDisplay.from_estimator.\n  warnings.warn(msg, category=FutureWarning)\n",
     "output_type": "stream"
    },
    {
     "data": {
      "text/plain": "<Figure size 432x288 with 2 Axes>",
      "image/png": "[encoded data removed]"
     },
     "metadata": {
      "needs_background": "light",
      "image/png": {
       "width": 306,
       "height": 262
      }
     },
     "output_type": "display_data"
    },
    {
     "data": {
      "image/svg+xml": "<?xml version=\"1.0\" encoding=\"UTF-8\" standalone=\"no\"?>\n<!DOCTYPE svg PUBLIC \"-//W3C//DTD SVG 1.1//EN\"\n \"http://www.w3.org/Graphics/SVG/1.1/DTD/svg11.dtd\">\n<!-- Generated by graphviz version 2.40.1 (20161225.0304)\n -->\n<!-- Title: Tree Pages: 1 -->\n<svg width=\"621pt\" height=\"314pt\"\n viewBox=\"0.00 0.00 621.00 314.00\" xmlns=\"http://www.w3.org/2000/svg\" xmlns:xlink=\"http://www.w3.org/1999/xlink\">\n<g id=\"graph0\" class=\"graph\" transform=\"scale(1 1) rotate(0) translate(4 310)\">\n<title>Tree</title>\n<polygon fill=\"#ffffff\" stroke=\"transparent\" points=\"-4,4 -4,-310 617,-310 617,4 -4,4\"/>\n<!-- 0 -->\n<g id=\"node1\" class=\"node\">\n<title>0</title>\n<path fill=\"#f3c4a3\" stroke=\"#000000\" d=\"M370.5,-306C370.5,-306 244.5,-306 244.5,-306 238.5,-306 232.5,-300 232.5,-294 232.5,-294 232.5,-235 232.5,-235 232.5,-229 238.5,-223 244.5,-223 244.5,-223 370.5,-223 370.5,-223 376.5,-223 382.5,-229 382.5,-235 382.5,-235 382.5,-294 382.5,-294 382.5,-300 376.5,-306 370.5,-306\"/>\n<text text-anchor=\"middle\" x=\"307.5\" y=\"-290.8\" font-family=\"Helvetica,sans-Serif\" font-size=\"14.00\" fill=\"#000000\">Glucose &lt;= 127.5</text>\n<text text-anchor=\"middle\" x=\"307.5\" y=\"-275.8\" font-family=\"Helvetica,sans-Serif\" font-size=\"14.00\" fill=\"#000000\">entropy = 0.933</text>\n<text text-anchor=\"middle\" x=\"307.5\" y=\"-260.8\" font-family=\"Helvetica,sans-Serif\" font-size=\"14.00\" fill=\"#000000\">samples = 614</text>\n<text text-anchor=\"middle\" x=\"307.5\" y=\"-245.8\" font-family=\"Helvetica,sans-Serif\" font-size=\"14.00\" fill=\"#000000\">value = [400, 214]</text>\n<text text-anchor=\"middle\" x=\"307.5\" y=\"-230.8\" font-family=\"Helvetica,sans-Serif\" font-size=\"14.00\" fill=\"#000000\">class = 0</text>\n</g>\n<!-- 1 -->\n<g id=\"node2\" class=\"node\">\n<title>1</title>\n<path fill=\"#eb9f68\" stroke=\"#000000\" d=\"M287,-187C287,-187 170,-187 170,-187 164,-187 158,-181 158,-175 158,-175 158,-116 158,-116 158,-110 164,-104 170,-104 170,-104 287,-104 287,-104 293,-104 299,-110 299,-116 299,-116 299,-175 299,-175 299,-181 293,-187 287,-187\"/>\n<text text-anchor=\"middle\" x=\"228.5\" y=\"-171.8\" font-family=\"Helvetica,sans-Serif\" font-size=\"14.00\" fill=\"#000000\">Age &lt;= 28.5</text>\n<text text-anchor=\"middle\" x=\"228.5\" y=\"-156.8\" font-family=\"Helvetica,sans-Serif\" font-size=\"14.00\" fill=\"#000000\">entropy = 0.708</text>\n<text text-anchor=\"middle\" x=\"228.5\" y=\"-141.8\" font-family=\"Helvetica,sans-Serif\" font-size=\"14.00\" fill=\"#000000\">samples = 383</text>\n<text text-anchor=\"middle\" x=\"228.5\" y=\"-126.8\" font-family=\"Helvetica,sans-Serif\" font-size=\"14.00\" fill=\"#000000\">value = [309, 74]</text>\n<text text-anchor=\"middle\" x=\"228.5\" y=\"-111.8\" font-family=\"Helvetica,sans-Serif\" font-size=\"14.00\" fill=\"#000000\">class = 0</text>\n</g>\n<!-- 0&#45;&gt;1 -->\n<g id=\"edge1\" class=\"edge\">\n<title>0&#45;&gt;1</title>\n<path fill=\"none\" stroke=\"#000000\" d=\"M279.8696,-222.8796C274.07,-214.1434 267.8941,-204.8404 261.9092,-195.8253\"/>\n<polygon fill=\"#000000\" stroke=\"#000000\" points=\"264.6951,-193.6935 256.2483,-187.2981 258.8632,-197.5652 264.6951,-193.6935\"/>\n<text text-anchor=\"middle\" x=\"251.2978\" y=\"-208.103\" font-family=\"Helvetica,sans-Serif\" font-size=\"14.00\" fill=\"#000000\">True</text>\n</g>\n<!-- 4 -->\n<g id=\"node5\" class=\"node\">\n<title>4</title>\n<path fill=\"#baddf6\" stroke=\"#000000\" d=\"M446,-187C446,-187 329,-187 329,-187 323,-187 317,-181 317,-175 317,-175 317,-116 317,-116 317,-110 323,-104 329,-104 329,-104 446,-104 446,-104 452,-104 458,-110 458,-116 458,-116 458,-175 458,-175 458,-181 452,-187 446,-187\"/>\n<text text-anchor=\"middle\" x=\"387.5\" y=\"-171.8\" font-family=\"Helvetica,sans-Serif\" font-size=\"14.00\" fill=\"#000000\">BMI &lt;= 29.95</text>\n<text text-anchor=\"middle\" x=\"387.5\" y=\"-156.8\" font-family=\"Helvetica,sans-Serif\" font-size=\"14.00\" fill=\"#000000\">entropy = 0.967</text>\n<text text-anchor=\"middle\" x=\"387.5\" y=\"-141.8\" font-family=\"Helvetica,sans-Serif\" font-size=\"14.00\" fill=\"#000000\">samples = 231</text>\n<text text-anchor=\"middle\" x=\"387.5\" y=\"-126.8\" font-family=\"Helvetica,sans-Serif\" font-size=\"14.00\" fill=\"#000000\">value = [91, 140]</text>\n<text text-anchor=\"middle\" x=\"387.5\" y=\"-111.8\" font-family=\"Helvetica,sans-Serif\" font-size=\"14.00\" fill=\"#000000\">class = 1</text>\n</g>\n<!-- 0&#45;&gt;4 -->\n<g id=\"edge4\" class=\"edge\">\n<title>0&#45;&gt;4</title>\n<path fill=\"none\" stroke=\"#000000\" d=\"M335.4801,-222.8796C341.3531,-214.1434 347.6073,-204.8404 353.6679,-195.8253\"/>\n<polygon fill=\"#000000\" stroke=\"#000000\" points=\"356.7259,-197.5498 359.4005,-187.2981 350.9166,-193.6444 356.7259,-197.5498\"/>\n<text text-anchor=\"middle\" x=\"364.2085\" y=\"-208.1314\" font-family=\"Helvetica,sans-Serif\" font-size=\"14.00\" fill=\"#000000\">False</text>\n</g>\n<!-- 2 -->\n<g id=\"node3\" class=\"node\">\n<title>2</title>\n<path fill=\"#e78b48\" stroke=\"#000000\" d=\"M129,-68C129,-68 12,-68 12,-68 6,-68 0,-62 0,-56 0,-56 0,-12 0,-12 0,-6 6,0 12,0 12,0 129,0 129,0 135,0 141,-6 141,-12 141,-12 141,-56 141,-56 141,-62 135,-68 129,-68\"/>\n<text text-anchor=\"middle\" x=\"70.5\" y=\"-52.8\" font-family=\"Helvetica,sans-Serif\" font-size=\"14.00\" fill=\"#000000\">entropy = 0.37</text>\n<text text-anchor=\"middle\" x=\"70.5\" y=\"-37.8\" font-family=\"Helvetica,sans-Serif\" font-size=\"14.00\" fill=\"#000000\">samples = 211</text>\n<text text-anchor=\"middle\" x=\"70.5\" y=\"-22.8\" font-family=\"Helvetica,sans-Serif\" font-size=\"14.00\" fill=\"#000000\">value = [196, 15]</text>\n<text text-anchor=\"middle\" x=\"70.5\" y=\"-7.8\" font-family=\"Helvetica,sans-Serif\" font-size=\"14.00\" fill=\"#000000\">class = 0</text>\n</g>\n<!-- 1&#45;&gt;2 -->\n<g id=\"edge2\" class=\"edge\">\n<title>1&#45;&gt;2</title>\n<path fill=\"none\" stroke=\"#000000\" d=\"M169.6666,-103.9815C155.789,-94.1881 141.0216,-83.7668 127.2386,-74.0402\"/>\n<polygon fill=\"#000000\" stroke=\"#000000\" points=\"128.9892,-70.9918 118.8007,-68.0856 124.9531,-76.7111 128.9892,-70.9918\"/>\n</g>\n<!-- 3 -->\n<g id=\"node4\" class=\"node\">\n<title>3</title>\n<path fill=\"#f3c3a0\" stroke=\"#000000\" d=\"M288,-68C288,-68 171,-68 171,-68 165,-68 159,-62 159,-56 159,-56 159,-12 159,-12 159,-6 165,0 171,0 171,0 288,0 288,0 294,0 300,-6 300,-12 300,-12 300,-56 300,-56 300,-62 294,-68 288,-68\"/>\n<text text-anchor=\"middle\" x=\"229.5\" y=\"-52.8\" font-family=\"Helvetica,sans-Serif\" font-size=\"14.00\" fill=\"#000000\">entropy = 0.928</text>\n<text text-anchor=\"middle\" x=\"229.5\" y=\"-37.8\" font-family=\"Helvetica,sans-Serif\" font-size=\"14.00\" fill=\"#000000\">samples = 172</text>\n<text text-anchor=\"middle\" x=\"229.5\" y=\"-22.8\" font-family=\"Helvetica,sans-Serif\" font-size=\"14.00\" fill=\"#000000\">value = [113, 59]</text>\n<text text-anchor=\"middle\" x=\"229.5\" y=\"-7.8\" font-family=\"Helvetica,sans-Serif\" font-size=\"14.00\" fill=\"#000000\">class = 0</text>\n</g>\n<!-- 1&#45;&gt;3 -->\n<g id=\"edge3\" class=\"edge\">\n<title>1&#45;&gt;3</title>\n<path fill=\"none\" stroke=\"#000000\" d=\"M228.8724,-103.9815C228.9474,-95.618 229.0265,-86.7965 229.1023,-78.3409\"/>\n<polygon fill=\"#000000\" stroke=\"#000000\" points=\"232.6028,-78.2947 229.1927,-68.2637 225.6031,-78.2318 232.6028,-78.2947\"/>\n</g>\n<!-- 5 -->\n<g id=\"node6\" class=\"node\">\n<title>5</title>\n<path fill=\"#f0b890\" stroke=\"#000000\" d=\"M441.5,-68C441.5,-68 331.5,-68 331.5,-68 325.5,-68 319.5,-62 319.5,-56 319.5,-56 319.5,-12 319.5,-12 319.5,-6 325.5,0 331.5,0 331.5,0 441.5,0 441.5,0 447.5,0 453.5,-6 453.5,-12 453.5,-12 453.5,-56 453.5,-56 453.5,-62 447.5,-68 441.5,-68\"/>\n<text text-anchor=\"middle\" x=\"386.5\" y=\"-52.8\" font-family=\"Helvetica,sans-Serif\" font-size=\"14.00\" fill=\"#000000\">entropy = 0.887</text>\n<text text-anchor=\"middle\" x=\"386.5\" y=\"-37.8\" font-family=\"Helvetica,sans-Serif\" font-size=\"14.00\" fill=\"#000000\">samples = 69</text>\n<text text-anchor=\"middle\" x=\"386.5\" y=\"-22.8\" font-family=\"Helvetica,sans-Serif\" font-size=\"14.00\" fill=\"#000000\">value = [48, 21]</text>\n<text text-anchor=\"middle\" x=\"386.5\" y=\"-7.8\" font-family=\"Helvetica,sans-Serif\" font-size=\"14.00\" fill=\"#000000\">class = 0</text>\n</g>\n<!-- 4&#45;&gt;5 -->\n<g id=\"edge5\" class=\"edge\">\n<title>4&#45;&gt;5</title>\n<path fill=\"none\" stroke=\"#000000\" d=\"M387.1276,-103.9815C387.0526,-95.618 386.9735,-86.7965 386.8977,-78.3409\"/>\n<polygon fill=\"#000000\" stroke=\"#000000\" points=\"390.3969,-78.2318 386.8073,-68.2637 383.3972,-78.2947 390.3969,-78.2318\"/>\n</g>\n<!-- 6 -->\n<g id=\"node7\" class=\"node\">\n<title>6</title>\n<path fill=\"#81c0ee\" stroke=\"#000000\" d=\"M601,-68C601,-68 484,-68 484,-68 478,-68 472,-62 472,-56 472,-56 472,-12 472,-12 472,-6 478,0 484,0 484,0 601,0 601,0 607,0 613,-6 613,-12 613,-12 613,-56 613,-56 613,-62 607,-68 601,-68\"/>\n<text text-anchor=\"middle\" x=\"542.5\" y=\"-52.8\" font-family=\"Helvetica,sans-Serif\" font-size=\"14.00\" fill=\"#000000\">entropy = 0.835</text>\n<text text-anchor=\"middle\" x=\"542.5\" y=\"-37.8\" font-family=\"Helvetica,sans-Serif\" font-size=\"14.00\" fill=\"#000000\">samples = 162</text>\n<text text-anchor=\"middle\" x=\"542.5\" y=\"-22.8\" font-family=\"Helvetica,sans-Serif\" font-size=\"14.00\" fill=\"#000000\">value = [43, 119]</text>\n<text text-anchor=\"middle\" x=\"542.5\" y=\"-7.8\" font-family=\"Helvetica,sans-Serif\" font-size=\"14.00\" fill=\"#000000\">class = 1</text>\n</g>\n<!-- 4&#45;&gt;6 -->\n<g id=\"edge6\" class=\"edge\">\n<title>4&#45;&gt;6</title>\n<path fill=\"none\" stroke=\"#000000\" d=\"M445.2163,-103.9815C458.7591,-94.2394 473.1657,-83.8759 486.6263,-74.193\"/>\n<polygon fill=\"#000000\" stroke=\"#000000\" points=\"488.7949,-76.9446 494.8689,-68.2637 484.7072,-71.2621 488.7949,-76.9446\"/>\n</g>\n</g>\n</svg>\n",
      "text/plain": "<graphviz.sources.Source at 0x7f5647b9f850>"
     },
     "metadata": {},
     "output_type": "display_data"
    },
    {
     "name": "stdout",
     "text": "Tree Number 3\nAccuracy: 0.7597402597402597\n/shared-libs/python3.7/py/lib/python3.7/site-packages/sklearn/utils/deprecation.py:87: FutureWarning: Function plot_confusion_matrix is deprecated; Function `plot_confusion_matrix` is deprecated in 1.0 and will be removed in 1.2. Use one of the class methods: ConfusionMatrixDisplay.from_predictions or ConfusionMatrixDisplay.from_estimator.\n  warnings.warn(msg, category=FutureWarning)\n",
     "output_type": "stream"
    },
    {
     "data": {
      "text/plain": "<Figure size 432x288 with 2 Axes>",
      "image/png": "[encoded data removed]"
     },
     "metadata": {
      "needs_background": "light",
      "image/png": {
       "width": 306,
       "height": 262
      }
     },
     "output_type": "display_data"
    },
    {
     "data": {
      "image/svg+xml": "<?xml version=\"1.0\" encoding=\"UTF-8\" standalone=\"no\"?>\n<!DOCTYPE svg PUBLIC \"-//W3C//DTD SVG 1.1//EN\"\n \"http://www.w3.org/Graphics/SVG/1.1/DTD/svg11.dtd\">\n<!-- Generated by graphviz version 2.40.1 (20161225.0304)\n -->\n<!-- Title: Tree Pages: 1 -->\n<svg width=\"617pt\" height=\"314pt\"\n viewBox=\"0.00 0.00 617.00 314.00\" xmlns=\"http://www.w3.org/2000/svg\" xmlns:xlink=\"http://www.w3.org/1999/xlink\">\n<g id=\"graph0\" class=\"graph\" transform=\"scale(1 1) rotate(0) translate(4 310)\">\n<title>Tree</title>\n<polygon fill=\"#ffffff\" stroke=\"transparent\" points=\"-4,4 -4,-310 613,-310 613,4 -4,4\"/>\n<!-- 0 -->\n<g id=\"node1\" class=\"node\">\n<title>0</title>\n<path fill=\"#f3c4a3\" stroke=\"#000000\" d=\"M371,-306C371,-306 245,-306 245,-306 239,-306 233,-300 233,-294 233,-294 233,-235 233,-235 233,-229 239,-223 245,-223 245,-223 371,-223 371,-223 377,-223 383,-229 383,-235 383,-235 383,-294 383,-294 383,-300 377,-306 371,-306\"/>\n<text text-anchor=\"middle\" x=\"308\" y=\"-290.8\" font-family=\"Helvetica,sans-Serif\" font-size=\"14.00\" fill=\"#000000\">Glucose &lt;= 143.5</text>\n<text text-anchor=\"middle\" x=\"308\" y=\"-275.8\" font-family=\"Helvetica,sans-Serif\" font-size=\"14.00\" fill=\"#000000\">entropy = 0.933</text>\n<text text-anchor=\"middle\" x=\"308\" y=\"-260.8\" font-family=\"Helvetica,sans-Serif\" font-size=\"14.00\" fill=\"#000000\">samples = 614</text>\n<text text-anchor=\"middle\" x=\"308\" y=\"-245.8\" font-family=\"Helvetica,sans-Serif\" font-size=\"14.00\" fill=\"#000000\">value = [400, 214]</text>\n<text text-anchor=\"middle\" x=\"308\" y=\"-230.8\" font-family=\"Helvetica,sans-Serif\" font-size=\"14.00\" fill=\"#000000\">class = 0</text>\n</g>\n<!-- 1 -->\n<g id=\"node2\" class=\"node\">\n<title>1</title>\n<path fill=\"#eda978\" stroke=\"#000000\" d=\"M288,-187C288,-187 162,-187 162,-187 156,-187 150,-181 150,-175 150,-175 150,-116 150,-116 150,-110 156,-104 162,-104 162,-104 288,-104 288,-104 294,-104 300,-110 300,-116 300,-116 300,-175 300,-175 300,-181 294,-187 288,-187\"/>\n<text text-anchor=\"middle\" x=\"225\" y=\"-171.8\" font-family=\"Helvetica,sans-Serif\" font-size=\"14.00\" fill=\"#000000\">BMI &lt;= 26.3</text>\n<text text-anchor=\"middle\" x=\"225\" y=\"-156.8\" font-family=\"Helvetica,sans-Serif\" font-size=\"14.00\" fill=\"#000000\">entropy = 0.799</text>\n<text text-anchor=\"middle\" x=\"225\" y=\"-141.8\" font-family=\"Helvetica,sans-Serif\" font-size=\"14.00\" fill=\"#000000\">samples = 475</text>\n<text text-anchor=\"middle\" x=\"225\" y=\"-126.8\" font-family=\"Helvetica,sans-Serif\" font-size=\"14.00\" fill=\"#000000\">value = [360, 115]</text>\n<text text-anchor=\"middle\" x=\"225\" y=\"-111.8\" font-family=\"Helvetica,sans-Serif\" font-size=\"14.00\" fill=\"#000000\">class = 0</text>\n</g>\n<!-- 0&#45;&gt;1 -->\n<g id=\"edge1\" class=\"edge\">\n<title>0&#45;&gt;1</title>\n<path fill=\"none\" stroke=\"#000000\" d=\"M278.9706,-222.8796C272.8145,-214.0534 266.2549,-204.6485 259.9064,-195.5466\"/>\n<polygon fill=\"#000000\" stroke=\"#000000\" points=\"262.7448,-193.4978 254.1533,-187.2981 257.0033,-197.5024 262.7448,-193.4978\"/>\n<text text-anchor=\"middle\" x=\"249.7669\" y=\"-208.2103\" font-family=\"Helvetica,sans-Serif\" font-size=\"14.00\" fill=\"#000000\">True</text>\n</g>\n<!-- 4 -->\n<g id=\"node5\" class=\"node\">\n<title>4</title>\n<path fill=\"#89c5f0\" stroke=\"#000000\" d=\"M453.5,-187C453.5,-187 330.5,-187 330.5,-187 324.5,-187 318.5,-181 318.5,-175 318.5,-175 318.5,-116 318.5,-116 318.5,-110 324.5,-104 330.5,-104 330.5,-104 453.5,-104 453.5,-104 459.5,-104 465.5,-110 465.5,-116 465.5,-116 465.5,-175 465.5,-175 465.5,-181 459.5,-187 453.5,-187\"/>\n<text text-anchor=\"middle\" x=\"392\" y=\"-171.8\" font-family=\"Helvetica,sans-Serif\" font-size=\"14.00\" fill=\"#000000\">Glucose &lt;= 165.5</text>\n<text text-anchor=\"middle\" x=\"392\" y=\"-156.8\" font-family=\"Helvetica,sans-Serif\" font-size=\"14.00\" fill=\"#000000\">entropy = 0.866</text>\n<text text-anchor=\"middle\" x=\"392\" y=\"-141.8\" font-family=\"Helvetica,sans-Serif\" font-size=\"14.00\" fill=\"#000000\">samples = 139</text>\n<text text-anchor=\"middle\" x=\"392\" y=\"-126.8\" font-family=\"Helvetica,sans-Serif\" font-size=\"14.00\" fill=\"#000000\">value = [40, 99]</text>\n<text text-anchor=\"middle\" x=\"392\" y=\"-111.8\" font-family=\"Helvetica,sans-Serif\" font-size=\"14.00\" fill=\"#000000\">class = 1</text>\n</g>\n<!-- 0&#45;&gt;4 -->\n<g id=\"edge4\" class=\"edge\">\n<title>0&#45;&gt;4</title>\n<path fill=\"none\" stroke=\"#000000\" d=\"M337.3791,-222.8796C343.6094,-214.0534 350.2481,-204.6485 356.673,-195.5466\"/>\n<polygon fill=\"#000000\" stroke=\"#000000\" points=\"359.588,-197.4862 362.4955,-187.2981 353.8692,-193.4494 359.588,-197.4862\"/>\n<text text-anchor=\"middle\" x=\"366.7432\" y=\"-208.2346\" font-family=\"Helvetica,sans-Serif\" font-size=\"14.00\" fill=\"#000000\">False</text>\n</g>\n<!-- 2 -->\n<g id=\"node3\" class=\"node\">\n<title>2</title>\n<path fill=\"#e68641\" stroke=\"#000000\" d=\"M122,-68C122,-68 12,-68 12,-68 6,-68 0,-62 0,-56 0,-56 0,-12 0,-12 0,-6 6,0 12,0 12,0 122,0 122,0 128,0 134,-6 134,-12 134,-12 134,-56 134,-56 134,-62 128,-68 122,-68\"/>\n<text text-anchor=\"middle\" x=\"67\" y=\"-52.8\" font-family=\"Helvetica,sans-Serif\" font-size=\"14.00\" fill=\"#000000\">entropy = 0.245</text>\n<text text-anchor=\"middle\" x=\"67\" y=\"-37.8\" font-family=\"Helvetica,sans-Serif\" font-size=\"14.00\" fill=\"#000000\">samples = 123</text>\n<text text-anchor=\"middle\" x=\"67\" y=\"-22.8\" font-family=\"Helvetica,sans-Serif\" font-size=\"14.00\" fill=\"#000000\">value = [118, 5]</text>\n<text text-anchor=\"middle\" x=\"67\" y=\"-7.8\" font-family=\"Helvetica,sans-Serif\" font-size=\"14.00\" fill=\"#000000\">class = 0</text>\n</g>\n<!-- 1&#45;&gt;2 -->\n<g id=\"edge2\" class=\"edge\">\n<title>1&#45;&gt;2</title>\n<path fill=\"none\" stroke=\"#000000\" d=\"M166.1666,-103.9815C152.289,-94.1881 137.5216,-83.7668 123.7386,-74.0402\"/>\n<polygon fill=\"#000000\" stroke=\"#000000\" points=\"125.4892,-70.9918 115.3007,-68.0856 121.4531,-76.7111 125.4892,-70.9918\"/>\n</g>\n<!-- 3 -->\n<g id=\"node4\" class=\"node\">\n<title>3</title>\n<path fill=\"#f1ba93\" stroke=\"#000000\" d=\"M290,-68C290,-68 164,-68 164,-68 158,-68 152,-62 152,-56 152,-56 152,-12 152,-12 152,-6 158,0 164,0 164,0 290,0 290,0 296,0 302,-6 302,-12 302,-12 302,-56 302,-56 302,-62 296,-68 290,-68\"/>\n<text text-anchor=\"middle\" x=\"227\" y=\"-52.8\" font-family=\"Helvetica,sans-Serif\" font-size=\"14.00\" fill=\"#000000\">entropy = 0.896</text>\n<text text-anchor=\"middle\" x=\"227\" y=\"-37.8\" font-family=\"Helvetica,sans-Serif\" font-size=\"14.00\" fill=\"#000000\">samples = 352</text>\n<text text-anchor=\"middle\" x=\"227\" y=\"-22.8\" font-family=\"Helvetica,sans-Serif\" font-size=\"14.00\" fill=\"#000000\">value = [242, 110]</text>\n<text text-anchor=\"middle\" x=\"227\" y=\"-7.8\" font-family=\"Helvetica,sans-Serif\" font-size=\"14.00\" fill=\"#000000\">class = 0</text>\n</g>\n<!-- 1&#45;&gt;3 -->\n<g id=\"edge3\" class=\"edge\">\n<title>1&#45;&gt;3</title>\n<path fill=\"none\" stroke=\"#000000\" d=\"M225.7447,-103.9815C225.8947,-95.618 226.053,-86.7965 226.2046,-78.3409\"/>\n<polygon fill=\"#000000\" stroke=\"#000000\" points=\"229.7054,-78.3249 226.3854,-68.2637 222.7065,-78.1993 229.7054,-78.3249\"/>\n</g>\n<!-- 5 -->\n<g id=\"node6\" class=\"node\">\n<title>5</title>\n<path fill=\"#cee6f8\" stroke=\"#000000\" d=\"M445,-68C445,-68 335,-68 335,-68 329,-68 323,-62 323,-56 323,-56 323,-12 323,-12 323,-6 329,0 335,0 335,0 445,0 445,0 451,0 457,-6 457,-12 457,-12 457,-56 457,-56 457,-62 451,-68 445,-68\"/>\n<text text-anchor=\"middle\" x=\"390\" y=\"-52.8\" font-family=\"Helvetica,sans-Serif\" font-size=\"14.00\" fill=\"#000000\">entropy = 0.985</text>\n<text text-anchor=\"middle\" x=\"390\" y=\"-37.8\" font-family=\"Helvetica,sans-Serif\" font-size=\"14.00\" fill=\"#000000\">samples = 77</text>\n<text text-anchor=\"middle\" x=\"390\" y=\"-22.8\" font-family=\"Helvetica,sans-Serif\" font-size=\"14.00\" fill=\"#000000\">value = [33, 44]</text>\n<text text-anchor=\"middle\" x=\"390\" y=\"-7.8\" font-family=\"Helvetica,sans-Serif\" font-size=\"14.00\" fill=\"#000000\">class = 1</text>\n</g>\n<!-- 4&#45;&gt;5 -->\n<g id=\"edge5\" class=\"edge\">\n<title>4&#45;&gt;5</title>\n<path fill=\"none\" stroke=\"#000000\" d=\"M391.2553,-103.9815C391.1053,-95.618 390.947,-86.7965 390.7954,-78.3409\"/>\n<polygon fill=\"#000000\" stroke=\"#000000\" points=\"394.2935,-78.1993 390.6146,-68.2637 387.2946,-78.3249 394.2935,-78.1993\"/>\n</g>\n<!-- 6 -->\n<g id=\"node7\" class=\"node\">\n<title>6</title>\n<path fill=\"#52a9e8\" stroke=\"#000000\" d=\"M597,-68C597,-68 487,-68 487,-68 481,-68 475,-62 475,-56 475,-56 475,-12 475,-12 475,-6 481,0 487,0 487,0 597,0 597,0 603,0 609,-6 609,-12 609,-12 609,-56 609,-56 609,-62 603,-68 597,-68\"/>\n<text text-anchor=\"middle\" x=\"542\" y=\"-52.8\" font-family=\"Helvetica,sans-Serif\" font-size=\"14.00\" fill=\"#000000\">entropy = 0.509</text>\n<text text-anchor=\"middle\" x=\"542\" y=\"-37.8\" font-family=\"Helvetica,sans-Serif\" font-size=\"14.00\" fill=\"#000000\">samples = 62</text>\n<text text-anchor=\"middle\" x=\"542\" y=\"-22.8\" font-family=\"Helvetica,sans-Serif\" font-size=\"14.00\" fill=\"#000000\">value = [7, 55]</text>\n<text text-anchor=\"middle\" x=\"542\" y=\"-7.8\" font-family=\"Helvetica,sans-Serif\" font-size=\"14.00\" fill=\"#000000\">class = 1</text>\n</g>\n<!-- 4&#45;&gt;6 -->\n<g id=\"edge6\" class=\"edge\">\n<title>4&#45;&gt;6</title>\n<path fill=\"none\" stroke=\"#000000\" d=\"M447.8545,-103.9815C460.8368,-94.3313 474.6394,-84.0714 487.5597,-74.4673\"/>\n<polygon fill=\"#000000\" stroke=\"#000000\" points=\"489.9678,-77.0384 495.9054,-68.2637 485.7917,-71.4204 489.9678,-77.0384\"/>\n</g>\n</g>\n</svg>\n",
      "text/plain": "<graphviz.sources.Source at 0x7f56465ea750>"
     },
     "metadata": {},
     "output_type": "display_data"
    },
    {
     "name": "stdout",
     "text": "Tree Number 4\nAccuracy: 0.7532467532467533\n/shared-libs/python3.7/py/lib/python3.7/site-packages/sklearn/utils/deprecation.py:87: FutureWarning: Function plot_confusion_matrix is deprecated; Function `plot_confusion_matrix` is deprecated in 1.0 and will be removed in 1.2. Use one of the class methods: ConfusionMatrixDisplay.from_predictions or ConfusionMatrixDisplay.from_estimator.\n  warnings.warn(msg, category=FutureWarning)\n",
     "output_type": "stream"
    },
    {
     "data": {
      "text/plain": "<Figure size 432x288 with 2 Axes>",
      "image/png": "[encoded data removed]"
     },
     "metadata": {
      "needs_background": "light",
      "image/png": {
       "width": 306,
       "height": 262
      }
     },
     "output_type": "display_data"
    },
    {
     "data": {
      "image/svg+xml": "<?xml version=\"1.0\" encoding=\"UTF-8\" standalone=\"no\"?>\n<!DOCTYPE svg PUBLIC \"-//W3C//DTD SVG 1.1//EN\"\n \"http://www.w3.org/Graphics/SVG/1.1/DTD/svg11.dtd\">\n<!-- Generated by graphviz version 2.40.1 (20161225.0304)\n -->\n<!-- Title: Tree Pages: 1 -->\n<svg width=\"617pt\" height=\"314pt\"\n viewBox=\"0.00 0.00 617.00 314.00\" xmlns=\"http://www.w3.org/2000/svg\" xmlns:xlink=\"http://www.w3.org/1999/xlink\">\n<g id=\"graph0\" class=\"graph\" transform=\"scale(1 1) rotate(0) translate(4 310)\">\n<title>Tree</title>\n<polygon fill=\"#ffffff\" stroke=\"transparent\" points=\"-4,4 -4,-310 613,-310 613,4 -4,4\"/>\n<!-- 0 -->\n<g id=\"node1\" class=\"node\">\n<title>0</title>\n<path fill=\"#f3c4a3\" stroke=\"#000000\" d=\"M371,-306C371,-306 245,-306 245,-306 239,-306 233,-300 233,-294 233,-294 233,-235 233,-235 233,-229 239,-223 245,-223 245,-223 371,-223 371,-223 377,-223 383,-229 383,-235 383,-235 383,-294 383,-294 383,-300 377,-306 371,-306\"/>\n<text text-anchor=\"middle\" x=\"308\" y=\"-290.8\" font-family=\"Helvetica,sans-Serif\" font-size=\"14.00\" fill=\"#000000\">Glucose &lt;= 143.5</text>\n<text text-anchor=\"middle\" x=\"308\" y=\"-275.8\" font-family=\"Helvetica,sans-Serif\" font-size=\"14.00\" fill=\"#000000\">entropy = 0.933</text>\n<text text-anchor=\"middle\" x=\"308\" y=\"-260.8\" font-family=\"Helvetica,sans-Serif\" font-size=\"14.00\" fill=\"#000000\">samples = 614</text>\n<text text-anchor=\"middle\" x=\"308\" y=\"-245.8\" font-family=\"Helvetica,sans-Serif\" font-size=\"14.00\" fill=\"#000000\">value = [400, 214]</text>\n<text text-anchor=\"middle\" x=\"308\" y=\"-230.8\" font-family=\"Helvetica,sans-Serif\" font-size=\"14.00\" fill=\"#000000\">class = 0</text>\n</g>\n<!-- 1 -->\n<g id=\"node2\" class=\"node\">\n<title>1</title>\n<path fill=\"#eda977\" stroke=\"#000000\" d=\"M288,-187C288,-187 162,-187 162,-187 156,-187 150,-181 150,-175 150,-175 150,-116 150,-116 150,-110 156,-104 162,-104 162,-104 288,-104 288,-104 294,-104 300,-110 300,-116 300,-116 300,-175 300,-175 300,-181 294,-187 288,-187\"/>\n<text text-anchor=\"middle\" x=\"225\" y=\"-171.8\" font-family=\"Helvetica,sans-Serif\" font-size=\"14.00\" fill=\"#000000\">BMI &lt;= 27.35</text>\n<text text-anchor=\"middle\" x=\"225\" y=\"-156.8\" font-family=\"Helvetica,sans-Serif\" font-size=\"14.00\" fill=\"#000000\">entropy = 0.794</text>\n<text text-anchor=\"middle\" x=\"225\" y=\"-141.8\" font-family=\"Helvetica,sans-Serif\" font-size=\"14.00\" fill=\"#000000\">samples = 472</text>\n<text text-anchor=\"middle\" x=\"225\" y=\"-126.8\" font-family=\"Helvetica,sans-Serif\" font-size=\"14.00\" fill=\"#000000\">value = [359, 113]</text>\n<text text-anchor=\"middle\" x=\"225\" y=\"-111.8\" font-family=\"Helvetica,sans-Serif\" font-size=\"14.00\" fill=\"#000000\">class = 0</text>\n</g>\n<!-- 0&#45;&gt;1 -->\n<g id=\"edge1\" class=\"edge\">\n<title>0&#45;&gt;1</title>\n<path fill=\"none\" stroke=\"#000000\" d=\"M278.9706,-222.8796C272.8145,-214.0534 266.2549,-204.6485 259.9064,-195.5466\"/>\n<polygon fill=\"#000000\" stroke=\"#000000\" points=\"262.7448,-193.4978 254.1533,-187.2981 257.0033,-197.5024 262.7448,-193.4978\"/>\n<text text-anchor=\"middle\" x=\"249.7669\" y=\"-208.2103\" font-family=\"Helvetica,sans-Serif\" font-size=\"14.00\" fill=\"#000000\">True</text>\n</g>\n<!-- 4 -->\n<g id=\"node5\" class=\"node\">\n<title>4</title>\n<path fill=\"#89c5f0\" stroke=\"#000000\" d=\"M453.5,-187C453.5,-187 330.5,-187 330.5,-187 324.5,-187 318.5,-181 318.5,-175 318.5,-175 318.5,-116 318.5,-116 318.5,-110 324.5,-104 330.5,-104 330.5,-104 453.5,-104 453.5,-104 459.5,-104 465.5,-110 465.5,-116 465.5,-116 465.5,-175 465.5,-175 465.5,-181 459.5,-187 453.5,-187\"/>\n<text text-anchor=\"middle\" x=\"392\" y=\"-171.8\" font-family=\"Helvetica,sans-Serif\" font-size=\"14.00\" fill=\"#000000\">Glucose &lt;= 166.5</text>\n<text text-anchor=\"middle\" x=\"392\" y=\"-156.8\" font-family=\"Helvetica,sans-Serif\" font-size=\"14.00\" fill=\"#000000\">entropy = 0.867</text>\n<text text-anchor=\"middle\" x=\"392\" y=\"-141.8\" font-family=\"Helvetica,sans-Serif\" font-size=\"14.00\" fill=\"#000000\">samples = 142</text>\n<text text-anchor=\"middle\" x=\"392\" y=\"-126.8\" font-family=\"Helvetica,sans-Serif\" font-size=\"14.00\" fill=\"#000000\">value = [41, 101]</text>\n<text text-anchor=\"middle\" x=\"392\" y=\"-111.8\" font-family=\"Helvetica,sans-Serif\" font-size=\"14.00\" fill=\"#000000\">class = 1</text>\n</g>\n<!-- 0&#45;&gt;4 -->\n<g id=\"edge4\" class=\"edge\">\n<title>0&#45;&gt;4</title>\n<path fill=\"none\" stroke=\"#000000\" d=\"M337.3791,-222.8796C343.6094,-214.0534 350.2481,-204.6485 356.673,-195.5466\"/>\n<polygon fill=\"#000000\" stroke=\"#000000\" points=\"359.588,-197.4862 362.4955,-187.2981 353.8692,-193.4494 359.588,-197.4862\"/>\n<text text-anchor=\"middle\" x=\"366.7432\" y=\"-208.2346\" font-family=\"Helvetica,sans-Serif\" font-size=\"14.00\" fill=\"#000000\">False</text>\n</g>\n<!-- 2 -->\n<g id=\"node3\" class=\"node\">\n<title>2</title>\n<path fill=\"#e68742\" stroke=\"#000000\" d=\"M122,-68C122,-68 12,-68 12,-68 6,-68 0,-62 0,-56 0,-56 0,-12 0,-12 0,-6 6,0 12,0 12,0 122,0 122,0 128,0 134,-6 134,-12 134,-12 134,-56 134,-56 134,-62 128,-68 122,-68\"/>\n<text text-anchor=\"middle\" x=\"67\" y=\"-52.8\" font-family=\"Helvetica,sans-Serif\" font-size=\"14.00\" fill=\"#000000\">entropy = 0.258</text>\n<text text-anchor=\"middle\" x=\"67\" y=\"-37.8\" font-family=\"Helvetica,sans-Serif\" font-size=\"14.00\" fill=\"#000000\">samples = 138</text>\n<text text-anchor=\"middle\" x=\"67\" y=\"-22.8\" font-family=\"Helvetica,sans-Serif\" font-size=\"14.00\" fill=\"#000000\">value = [132, 6]</text>\n<text text-anchor=\"middle\" x=\"67\" y=\"-7.8\" font-family=\"Helvetica,sans-Serif\" font-size=\"14.00\" fill=\"#000000\">class = 0</text>\n</g>\n<!-- 1&#45;&gt;2 -->\n<g id=\"edge2\" class=\"edge\">\n<title>1&#45;&gt;2</title>\n<path fill=\"none\" stroke=\"#000000\" d=\"M166.1666,-103.9815C152.289,-94.1881 137.5216,-83.7668 123.7386,-74.0402\"/>\n<polygon fill=\"#000000\" stroke=\"#000000\" points=\"125.4892,-70.9918 115.3007,-68.0856 121.4531,-76.7111 125.4892,-70.9918\"/>\n</g>\n<!-- 3 -->\n<g id=\"node4\" class=\"node\">\n<title>3</title>\n<path fill=\"#f1bc96\" stroke=\"#000000\" d=\"M290,-68C290,-68 164,-68 164,-68 158,-68 152,-62 152,-56 152,-56 152,-12 152,-12 152,-6 158,0 164,0 164,0 290,0 290,0 296,0 302,-6 302,-12 302,-12 302,-56 302,-56 302,-62 296,-68 290,-68\"/>\n<text text-anchor=\"middle\" x=\"227\" y=\"-52.8\" font-family=\"Helvetica,sans-Serif\" font-size=\"14.00\" fill=\"#000000\">entropy = 0.905</text>\n<text text-anchor=\"middle\" x=\"227\" y=\"-37.8\" font-family=\"Helvetica,sans-Serif\" font-size=\"14.00\" fill=\"#000000\">samples = 334</text>\n<text text-anchor=\"middle\" x=\"227\" y=\"-22.8\" font-family=\"Helvetica,sans-Serif\" font-size=\"14.00\" fill=\"#000000\">value = [227, 107]</text>\n<text text-anchor=\"middle\" x=\"227\" y=\"-7.8\" font-family=\"Helvetica,sans-Serif\" font-size=\"14.00\" fill=\"#000000\">class = 0</text>\n</g>\n<!-- 1&#45;&gt;3 -->\n<g id=\"edge3\" class=\"edge\">\n<title>1&#45;&gt;3</title>\n<path fill=\"none\" stroke=\"#000000\" d=\"M225.7447,-103.9815C225.8947,-95.618 226.053,-86.7965 226.2046,-78.3409\"/>\n<polygon fill=\"#000000\" stroke=\"#000000\" points=\"229.7054,-78.3249 226.3854,-68.2637 222.7065,-78.1993 229.7054,-78.3249\"/>\n</g>\n<!-- 5 -->\n<g id=\"node6\" class=\"node\">\n<title>5</title>\n<path fill=\"#c1e0f7\" stroke=\"#000000\" d=\"M445,-68C445,-68 335,-68 335,-68 329,-68 323,-62 323,-56 323,-56 323,-12 323,-12 323,-6 329,0 335,0 335,0 445,0 445,0 451,0 457,-6 457,-12 457,-12 457,-56 457,-56 457,-62 451,-68 445,-68\"/>\n<text text-anchor=\"middle\" x=\"390\" y=\"-52.8\" font-family=\"Helvetica,sans-Serif\" font-size=\"14.00\" fill=\"#000000\">entropy = 0.975</text>\n<text text-anchor=\"middle\" x=\"390\" y=\"-37.8\" font-family=\"Helvetica,sans-Serif\" font-size=\"14.00\" fill=\"#000000\">samples = 81</text>\n<text text-anchor=\"middle\" x=\"390\" y=\"-22.8\" font-family=\"Helvetica,sans-Serif\" font-size=\"14.00\" fill=\"#000000\">value = [33, 48]</text>\n<text text-anchor=\"middle\" x=\"390\" y=\"-7.8\" font-family=\"Helvetica,sans-Serif\" font-size=\"14.00\" fill=\"#000000\">class = 1</text>\n</g>\n<!-- 4&#45;&gt;5 -->\n<g id=\"edge5\" class=\"edge\">\n<title>4&#45;&gt;5</title>\n<path fill=\"none\" stroke=\"#000000\" d=\"M391.2553,-103.9815C391.1053,-95.618 390.947,-86.7965 390.7954,-78.3409\"/>\n<polygon fill=\"#000000\" stroke=\"#000000\" points=\"394.2935,-78.1993 390.6146,-68.2637 387.2946,-78.3249 394.2935,-78.1993\"/>\n</g>\n<!-- 6 -->\n<g id=\"node7\" class=\"node\">\n<title>6</title>\n<path fill=\"#57ace9\" stroke=\"#000000\" d=\"M597,-68C597,-68 487,-68 487,-68 481,-68 475,-62 475,-56 475,-56 475,-12 475,-12 475,-6 481,0 487,0 487,0 597,0 597,0 603,0 609,-6 609,-12 609,-12 609,-56 609,-56 609,-62 603,-68 597,-68\"/>\n<text text-anchor=\"middle\" x=\"542\" y=\"-52.8\" font-family=\"Helvetica,sans-Serif\" font-size=\"14.00\" fill=\"#000000\">entropy = 0.561</text>\n<text text-anchor=\"middle\" x=\"542\" y=\"-37.8\" font-family=\"Helvetica,sans-Serif\" font-size=\"14.00\" fill=\"#000000\">samples = 61</text>\n<text text-anchor=\"middle\" x=\"542\" y=\"-22.8\" font-family=\"Helvetica,sans-Serif\" font-size=\"14.00\" fill=\"#000000\">value = [8, 53]</text>\n<text text-anchor=\"middle\" x=\"542\" y=\"-7.8\" font-family=\"Helvetica,sans-Serif\" font-size=\"14.00\" fill=\"#000000\">class = 1</text>\n</g>\n<!-- 4&#45;&gt;6 -->\n<g id=\"edge6\" class=\"edge\">\n<title>4&#45;&gt;6</title>\n<path fill=\"none\" stroke=\"#000000\" d=\"M447.8545,-103.9815C460.8368,-94.3313 474.6394,-84.0714 487.5597,-74.4673\"/>\n<polygon fill=\"#000000\" stroke=\"#000000\" points=\"489.9678,-77.0384 495.9054,-68.2637 485.7917,-71.4204 489.9678,-77.0384\"/>\n</g>\n</g>\n</svg>\n",
      "text/plain": "<graphviz.sources.Source at 0x7f56482a6a50>"
     },
     "metadata": {},
     "output_type": "display_data"
    },
    {
     "name": "stdout",
     "text": "Tree Number 5\nAccuracy: 0.7402597402597403\n/shared-libs/python3.7/py/lib/python3.7/site-packages/sklearn/utils/deprecation.py:87: FutureWarning: Function plot_confusion_matrix is deprecated; Function `plot_confusion_matrix` is deprecated in 1.0 and will be removed in 1.2. Use one of the class methods: ConfusionMatrixDisplay.from_predictions or ConfusionMatrixDisplay.from_estimator.\n  warnings.warn(msg, category=FutureWarning)\n",
     "output_type": "stream"
    },
    {
     "data": {
      "text/plain": "<Figure size 432x288 with 2 Axes>",
      "image/png": "[encoded data removed]"
     },
     "metadata": {
      "needs_background": "light",
      "image/png": {
       "width": 306,
       "height": 262
      }
     },
     "output_type": "display_data"
    },
    {
     "data": {
      "image/svg+xml": "<?xml version=\"1.0\" encoding=\"UTF-8\" standalone=\"no\"?>\n<!DOCTYPE svg PUBLIC \"-//W3C//DTD SVG 1.1//EN\"\n \"http://www.w3.org/Graphics/SVG/1.1/DTD/svg11.dtd\">\n<!-- Generated by graphviz version 2.40.1 (20161225.0304)\n -->\n<!-- Title: Tree Pages: 1 -->\n<svg width=\"618pt\" height=\"314pt\"\n viewBox=\"0.00 0.00 617.50 314.00\" xmlns=\"http://www.w3.org/2000/svg\" xmlns:xlink=\"http://www.w3.org/1999/xlink\">\n<g id=\"graph0\" class=\"graph\" transform=\"scale(1 1) rotate(0) translate(4 310)\">\n<title>Tree</title>\n<polygon fill=\"#ffffff\" stroke=\"transparent\" points=\"-4,4 -4,-310 613.5,-310 613.5,4 -4,4\"/>\n<!-- 0 -->\n<g id=\"node1\" class=\"node\">\n<title>0</title>\n<path fill=\"#f3c4a3\" stroke=\"#000000\" d=\"M366,-306C366,-306 240,-306 240,-306 234,-306 228,-300 228,-294 228,-294 228,-235 228,-235 228,-229 234,-223 240,-223 240,-223 366,-223 366,-223 372,-223 378,-229 378,-235 378,-235 378,-294 378,-294 378,-300 372,-306 366,-306\"/>\n<text text-anchor=\"middle\" x=\"303\" y=\"-290.8\" font-family=\"Helvetica,sans-Serif\" font-size=\"14.00\" fill=\"#000000\">Glucose &lt;= 123.5</text>\n<text text-anchor=\"middle\" x=\"303\" y=\"-275.8\" font-family=\"Helvetica,sans-Serif\" font-size=\"14.00\" fill=\"#000000\">entropy = 0.933</text>\n<text text-anchor=\"middle\" x=\"303\" y=\"-260.8\" font-family=\"Helvetica,sans-Serif\" font-size=\"14.00\" fill=\"#000000\">samples = 614</text>\n<text text-anchor=\"middle\" x=\"303\" y=\"-245.8\" font-family=\"Helvetica,sans-Serif\" font-size=\"14.00\" fill=\"#000000\">value = [400, 214]</text>\n<text text-anchor=\"middle\" x=\"303\" y=\"-230.8\" font-family=\"Helvetica,sans-Serif\" font-size=\"14.00\" fill=\"#000000\">class = 0</text>\n</g>\n<!-- 1 -->\n<g id=\"node2\" class=\"node\">\n<title>1</title>\n<path fill=\"#ea9c63\" stroke=\"#000000\" d=\"M279.5,-187C279.5,-187 162.5,-187 162.5,-187 156.5,-187 150.5,-181 150.5,-175 150.5,-175 150.5,-116 150.5,-116 150.5,-110 156.5,-104 162.5,-104 162.5,-104 279.5,-104 279.5,-104 285.5,-104 291.5,-110 291.5,-116 291.5,-116 291.5,-175 291.5,-175 291.5,-181 285.5,-187 279.5,-187\"/>\n<text text-anchor=\"middle\" x=\"221\" y=\"-171.8\" font-family=\"Helvetica,sans-Serif\" font-size=\"14.00\" fill=\"#000000\">BMI &lt;= 27.35</text>\n<text text-anchor=\"middle\" x=\"221\" y=\"-156.8\" font-family=\"Helvetica,sans-Serif\" font-size=\"14.00\" fill=\"#000000\">entropy = 0.667</text>\n<text text-anchor=\"middle\" x=\"221\" y=\"-141.8\" font-family=\"Helvetica,sans-Serif\" font-size=\"14.00\" fill=\"#000000\">samples = 356</text>\n<text text-anchor=\"middle\" x=\"221\" y=\"-126.8\" font-family=\"Helvetica,sans-Serif\" font-size=\"14.00\" fill=\"#000000\">value = [294, 62]</text>\n<text text-anchor=\"middle\" x=\"221\" y=\"-111.8\" font-family=\"Helvetica,sans-Serif\" font-size=\"14.00\" fill=\"#000000\">class = 0</text>\n</g>\n<!-- 0&#45;&gt;1 -->\n<g id=\"edge1\" class=\"edge\">\n<title>0&#45;&gt;1</title>\n<path fill=\"none\" stroke=\"#000000\" d=\"M274.3204,-222.8796C268.2385,-214.0534 261.7578,-204.6485 255.4859,-195.5466\"/>\n<polygon fill=\"#000000\" stroke=\"#000000\" points=\"258.3582,-193.5465 249.802,-187.2981 252.5941,-197.5184 258.3582,-193.5465\"/>\n<text text-anchor=\"middle\" x=\"245.2761\" y=\"-208.185\" font-family=\"Helvetica,sans-Serif\" font-size=\"14.00\" fill=\"#000000\">True</text>\n</g>\n<!-- 4 -->\n<g id=\"node5\" class=\"node\">\n<title>4</title>\n<path fill=\"#c3e1f7\" stroke=\"#000000\" d=\"M448,-187C448,-187 322,-187 322,-187 316,-187 310,-181 310,-175 310,-175 310,-116 310,-116 310,-110 316,-104 322,-104 322,-104 448,-104 448,-104 454,-104 460,-110 460,-116 460,-116 460,-175 460,-175 460,-181 454,-187 448,-187\"/>\n<text text-anchor=\"middle\" x=\"385\" y=\"-171.8\" font-family=\"Helvetica,sans-Serif\" font-size=\"14.00\" fill=\"#000000\">BMI &lt;= 29.95</text>\n<text text-anchor=\"middle\" x=\"385\" y=\"-156.8\" font-family=\"Helvetica,sans-Serif\" font-size=\"14.00\" fill=\"#000000\">entropy = 0.977</text>\n<text text-anchor=\"middle\" x=\"385\" y=\"-141.8\" font-family=\"Helvetica,sans-Serif\" font-size=\"14.00\" fill=\"#000000\">samples = 258</text>\n<text text-anchor=\"middle\" x=\"385\" y=\"-126.8\" font-family=\"Helvetica,sans-Serif\" font-size=\"14.00\" fill=\"#000000\">value = [106, 152]</text>\n<text text-anchor=\"middle\" x=\"385\" y=\"-111.8\" font-family=\"Helvetica,sans-Serif\" font-size=\"14.00\" fill=\"#000000\">class = 1</text>\n</g>\n<!-- 0&#45;&gt;4 -->\n<g id=\"edge4\" class=\"edge\">\n<title>0&#45;&gt;4</title>\n<path fill=\"none\" stroke=\"#000000\" d=\"M331.6796,-222.8796C337.7615,-214.0534 344.2422,-204.6485 350.5141,-195.5466\"/>\n<polygon fill=\"#000000\" stroke=\"#000000\" points=\"353.4059,-197.5184 356.198,-187.2981 347.6418,-193.5465 353.4059,-197.5184\"/>\n<text text-anchor=\"middle\" x=\"360.7239\" y=\"-208.185\" font-family=\"Helvetica,sans-Serif\" font-size=\"14.00\" fill=\"#000000\">False</text>\n</g>\n<!-- 2 -->\n<g id=\"node3\" class=\"node\">\n<title>2</title>\n<path fill=\"#e5833d\" stroke=\"#000000\" d=\"M122,-68C122,-68 12,-68 12,-68 6,-68 0,-62 0,-56 0,-56 0,-12 0,-12 0,-6 6,0 12,0 12,0 122,0 122,0 128,0 134,-6 134,-12 134,-12 134,-56 134,-56 134,-62 128,-68 122,-68\"/>\n<text text-anchor=\"middle\" x=\"67\" y=\"-52.8\" font-family=\"Helvetica,sans-Serif\" font-size=\"14.00\" fill=\"#000000\">entropy = 0.131</text>\n<text text-anchor=\"middle\" x=\"67\" y=\"-37.8\" font-family=\"Helvetica,sans-Serif\" font-size=\"14.00\" fill=\"#000000\">samples = 110</text>\n<text text-anchor=\"middle\" x=\"67\" y=\"-22.8\" font-family=\"Helvetica,sans-Serif\" font-size=\"14.00\" fill=\"#000000\">value = [108, 2]</text>\n<text text-anchor=\"middle\" x=\"67\" y=\"-7.8\" font-family=\"Helvetica,sans-Serif\" font-size=\"14.00\" fill=\"#000000\">class = 0</text>\n</g>\n<!-- 1&#45;&gt;2 -->\n<g id=\"edge2\" class=\"edge\">\n<title>1&#45;&gt;2</title>\n<path fill=\"none\" stroke=\"#000000\" d=\"M163.6561,-103.9815C150.2006,-94.2394 135.8869,-83.8759 122.5133,-74.193\"/>\n<polygon fill=\"#000000\" stroke=\"#000000\" points=\"124.4763,-71.2933 114.3238,-68.2637 120.3711,-76.9632 124.4763,-71.2933\"/>\n</g>\n<!-- 3 -->\n<g id=\"node4\" class=\"node\">\n<title>3</title>\n<path fill=\"#edaa79\" stroke=\"#000000\" d=\"M281.5,-68C281.5,-68 164.5,-68 164.5,-68 158.5,-68 152.5,-62 152.5,-56 152.5,-56 152.5,-12 152.5,-12 152.5,-6 158.5,0 164.5,0 164.5,0 281.5,0 281.5,0 287.5,0 293.5,-6 293.5,-12 293.5,-12 293.5,-56 293.5,-56 293.5,-62 287.5,-68 281.5,-68\"/>\n<text text-anchor=\"middle\" x=\"223\" y=\"-52.8\" font-family=\"Helvetica,sans-Serif\" font-size=\"14.00\" fill=\"#000000\">entropy = 0.801</text>\n<text text-anchor=\"middle\" x=\"223\" y=\"-37.8\" font-family=\"Helvetica,sans-Serif\" font-size=\"14.00\" fill=\"#000000\">samples = 246</text>\n<text text-anchor=\"middle\" x=\"223\" y=\"-22.8\" font-family=\"Helvetica,sans-Serif\" font-size=\"14.00\" fill=\"#000000\">value = [186, 60]</text>\n<text text-anchor=\"middle\" x=\"223\" y=\"-7.8\" font-family=\"Helvetica,sans-Serif\" font-size=\"14.00\" fill=\"#000000\">class = 0</text>\n</g>\n<!-- 1&#45;&gt;3 -->\n<g id=\"edge3\" class=\"edge\">\n<title>1&#45;&gt;3</title>\n<path fill=\"none\" stroke=\"#000000\" d=\"M221.7447,-103.9815C221.8947,-95.618 222.053,-86.7965 222.2046,-78.3409\"/>\n<polygon fill=\"#000000\" stroke=\"#000000\" points=\"225.7054,-78.3249 222.3854,-68.2637 218.7065,-78.1993 225.7054,-78.3249\"/>\n</g>\n<!-- 5 -->\n<g id=\"node6\" class=\"node\">\n<title>5</title>\n<path fill=\"#f2be98\" stroke=\"#000000\" d=\"M438,-68C438,-68 328,-68 328,-68 322,-68 316,-62 316,-56 316,-56 316,-12 316,-12 316,-6 322,0 328,0 328,0 438,0 438,0 444,0 450,-6 450,-12 450,-12 450,-56 450,-56 450,-62 444,-68 438,-68\"/>\n<text text-anchor=\"middle\" x=\"383\" y=\"-52.8\" font-family=\"Helvetica,sans-Serif\" font-size=\"14.00\" fill=\"#000000\">entropy = 0.909</text>\n<text text-anchor=\"middle\" x=\"383\" y=\"-37.8\" font-family=\"Helvetica,sans-Serif\" font-size=\"14.00\" fill=\"#000000\">samples = 77</text>\n<text text-anchor=\"middle\" x=\"383\" y=\"-22.8\" font-family=\"Helvetica,sans-Serif\" font-size=\"14.00\" fill=\"#000000\">value = [52, 25]</text>\n<text text-anchor=\"middle\" x=\"383\" y=\"-7.8\" font-family=\"Helvetica,sans-Serif\" font-size=\"14.00\" fill=\"#000000\">class = 0</text>\n</g>\n<!-- 4&#45;&gt;5 -->\n<g id=\"edge5\" class=\"edge\">\n<title>4&#45;&gt;5</title>\n<path fill=\"none\" stroke=\"#000000\" d=\"M384.2553,-103.9815C384.1053,-95.618 383.947,-86.7965 383.7954,-78.3409\"/>\n<polygon fill=\"#000000\" stroke=\"#000000\" points=\"387.2935,-78.1993 383.6146,-68.2637 380.2946,-78.3249 387.2935,-78.1993\"/>\n</g>\n<!-- 6 -->\n<g id=\"node7\" class=\"node\">\n<title>6</title>\n<path fill=\"#8dc7f0\" stroke=\"#000000\" d=\"M597.5,-68C597.5,-68 480.5,-68 480.5,-68 474.5,-68 468.5,-62 468.5,-56 468.5,-56 468.5,-12 468.5,-12 468.5,-6 474.5,0 480.5,0 480.5,0 597.5,0 597.5,0 603.5,0 609.5,-6 609.5,-12 609.5,-12 609.5,-56 609.5,-56 609.5,-62 603.5,-68 597.5,-68\"/>\n<text text-anchor=\"middle\" x=\"539\" y=\"-52.8\" font-family=\"Helvetica,sans-Serif\" font-size=\"14.00\" fill=\"#000000\">entropy = 0.879</text>\n<text text-anchor=\"middle\" x=\"539\" y=\"-37.8\" font-family=\"Helvetica,sans-Serif\" font-size=\"14.00\" fill=\"#000000\">samples = 181</text>\n<text text-anchor=\"middle\" x=\"539\" y=\"-22.8\" font-family=\"Helvetica,sans-Serif\" font-size=\"14.00\" fill=\"#000000\">value = [54, 127]</text>\n<text text-anchor=\"middle\" x=\"539\" y=\"-7.8\" font-family=\"Helvetica,sans-Serif\" font-size=\"14.00\" fill=\"#000000\">class = 1</text>\n</g>\n<!-- 4&#45;&gt;6 -->\n<g id=\"edge6\" class=\"edge\">\n<title>4&#45;&gt;6</title>\n<path fill=\"none\" stroke=\"#000000\" d=\"M442.3439,-103.9815C455.7994,-94.2394 470.1131,-83.8759 483.4867,-74.193\"/>\n<polygon fill=\"#000000\" stroke=\"#000000\" points=\"485.6289,-76.9632 491.6762,-68.2637 481.5237,-71.2933 485.6289,-76.9632\"/>\n</g>\n</g>\n</svg>\n",
      "text/plain": "<graphviz.sources.Source at 0x7f5651249210>"
     },
     "metadata": {},
     "output_type": "display_data"
    },
    {
     "name": "stdout",
     "text": "Tree Number 6\nAccuracy: 0.7142857142857143\n/shared-libs/python3.7/py/lib/python3.7/site-packages/sklearn/utils/deprecation.py:87: FutureWarning: Function plot_confusion_matrix is deprecated; Function `plot_confusion_matrix` is deprecated in 1.0 and will be removed in 1.2. Use one of the class methods: ConfusionMatrixDisplay.from_predictions or ConfusionMatrixDisplay.from_estimator.\n  warnings.warn(msg, category=FutureWarning)\n",
     "output_type": "stream"
    },
    {
     "data": {
      "text/plain": "<Figure size 432x288 with 2 Axes>",
      "image/png": "[encoded data removed]"
     },
     "metadata": {
      "needs_background": "light",
      "image/png": {
       "width": 306,
       "height": 262
      }
     },
     "output_type": "display_data"
    },
    {
     "data": {
      "image/svg+xml": "<?xml version=\"1.0\" encoding=\"UTF-8\" standalone=\"no\"?>\n<!DOCTYPE svg PUBLIC \"-//W3C//DTD SVG 1.1//EN\"\n \"http://www.w3.org/Graphics/SVG/1.1/DTD/svg11.dtd\">\n<!-- Generated by graphviz version 2.40.1 (20161225.0304)\n -->\n<!-- Title: Tree Pages: 1 -->\n<svg width=\"615pt\" height=\"314pt\"\n viewBox=\"0.00 0.00 614.50 314.00\" xmlns=\"http://www.w3.org/2000/svg\" xmlns:xlink=\"http://www.w3.org/1999/xlink\">\n<g id=\"graph0\" class=\"graph\" transform=\"scale(1 1) rotate(0) translate(4 310)\">\n<title>Tree</title>\n<polygon fill=\"#ffffff\" stroke=\"transparent\" points=\"-4,4 -4,-310 610.5,-310 610.5,4 -4,4\"/>\n<!-- 0 -->\n<g id=\"node1\" class=\"node\">\n<title>0</title>\n<path fill=\"#f3c4a3\" stroke=\"#000000\" d=\"M364,-306C364,-306 238,-306 238,-306 232,-306 226,-300 226,-294 226,-294 226,-235 226,-235 226,-229 232,-223 238,-223 238,-223 364,-223 364,-223 370,-223 376,-229 376,-235 376,-235 376,-294 376,-294 376,-300 370,-306 364,-306\"/>\n<text text-anchor=\"middle\" x=\"301\" y=\"-290.8\" font-family=\"Helvetica,sans-Serif\" font-size=\"14.00\" fill=\"#000000\">Glucose &lt;= 129.5</text>\n<text text-anchor=\"middle\" x=\"301\" y=\"-275.8\" font-family=\"Helvetica,sans-Serif\" font-size=\"14.00\" fill=\"#000000\">entropy = 0.933</text>\n<text text-anchor=\"middle\" x=\"301\" y=\"-260.8\" font-family=\"Helvetica,sans-Serif\" font-size=\"14.00\" fill=\"#000000\">samples = 614</text>\n<text text-anchor=\"middle\" x=\"301\" y=\"-245.8\" font-family=\"Helvetica,sans-Serif\" font-size=\"14.00\" fill=\"#000000\">value = [400, 214]</text>\n<text text-anchor=\"middle\" x=\"301\" y=\"-230.8\" font-family=\"Helvetica,sans-Serif\" font-size=\"14.00\" fill=\"#000000\">class = 0</text>\n</g>\n<!-- 1 -->\n<g id=\"node2\" class=\"node\">\n<title>1</title>\n<path fill=\"#eba06a\" stroke=\"#000000\" d=\"M280.5,-187C280.5,-187 163.5,-187 163.5,-187 157.5,-187 151.5,-181 151.5,-175 151.5,-175 151.5,-116 151.5,-116 151.5,-110 157.5,-104 163.5,-104 163.5,-104 280.5,-104 280.5,-104 286.5,-104 292.5,-110 292.5,-116 292.5,-116 292.5,-175 292.5,-175 292.5,-181 286.5,-187 280.5,-187\"/>\n<text text-anchor=\"middle\" x=\"222\" y=\"-171.8\" font-family=\"Helvetica,sans-Serif\" font-size=\"14.00\" fill=\"#000000\">BMI &lt;= 26.35</text>\n<text text-anchor=\"middle\" x=\"222\" y=\"-156.8\" font-family=\"Helvetica,sans-Serif\" font-size=\"14.00\" fill=\"#000000\">entropy = 0.716</text>\n<text text-anchor=\"middle\" x=\"222\" y=\"-141.8\" font-family=\"Helvetica,sans-Serif\" font-size=\"14.00\" fill=\"#000000\">samples = 401</text>\n<text text-anchor=\"middle\" x=\"222\" y=\"-126.8\" font-family=\"Helvetica,sans-Serif\" font-size=\"14.00\" fill=\"#000000\">value = [322, 79]</text>\n<text text-anchor=\"middle\" x=\"222\" y=\"-111.8\" font-family=\"Helvetica,sans-Serif\" font-size=\"14.00\" fill=\"#000000\">class = 0</text>\n</g>\n<!-- 0&#45;&gt;1 -->\n<g id=\"edge1\" class=\"edge\">\n<title>0&#45;&gt;1</title>\n<path fill=\"none\" stroke=\"#000000\" d=\"M273.3696,-222.8796C267.57,-214.1434 261.3941,-204.8404 255.4092,-195.8253\"/>\n<polygon fill=\"#000000\" stroke=\"#000000\" points=\"258.1951,-193.6935 249.7483,-187.2981 252.3632,-197.5652 258.1951,-193.6935\"/>\n<text text-anchor=\"middle\" x=\"244.7978\" y=\"-208.103\" font-family=\"Helvetica,sans-Serif\" font-size=\"14.00\" fill=\"#000000\">True</text>\n</g>\n<!-- 4 -->\n<g id=\"node5\" class=\"node\">\n<title>4</title>\n<path fill=\"#abd6f4\" stroke=\"#000000\" d=\"M439.5,-187C439.5,-187 322.5,-187 322.5,-187 316.5,-187 310.5,-181 310.5,-175 310.5,-175 310.5,-116 310.5,-116 310.5,-110 316.5,-104 322.5,-104 322.5,-104 439.5,-104 439.5,-104 445.5,-104 451.5,-110 451.5,-116 451.5,-116 451.5,-175 451.5,-175 451.5,-181 445.5,-187 439.5,-187\"/>\n<text text-anchor=\"middle\" x=\"381\" y=\"-171.8\" font-family=\"Helvetica,sans-Serif\" font-size=\"14.00\" fill=\"#000000\">BMI &lt;= 29.95</text>\n<text text-anchor=\"middle\" x=\"381\" y=\"-156.8\" font-family=\"Helvetica,sans-Serif\" font-size=\"14.00\" fill=\"#000000\">entropy = 0.948</text>\n<text text-anchor=\"middle\" x=\"381\" y=\"-141.8\" font-family=\"Helvetica,sans-Serif\" font-size=\"14.00\" fill=\"#000000\">samples = 213</text>\n<text text-anchor=\"middle\" x=\"381\" y=\"-126.8\" font-family=\"Helvetica,sans-Serif\" font-size=\"14.00\" fill=\"#000000\">value = [78, 135]</text>\n<text text-anchor=\"middle\" x=\"381\" y=\"-111.8\" font-family=\"Helvetica,sans-Serif\" font-size=\"14.00\" fill=\"#000000\">class = 1</text>\n</g>\n<!-- 0&#45;&gt;4 -->\n<g id=\"edge4\" class=\"edge\">\n<title>0&#45;&gt;4</title>\n<path fill=\"none\" stroke=\"#000000\" d=\"M328.9801,-222.8796C334.8531,-214.1434 341.1073,-204.8404 347.1679,-195.8253\"/>\n<polygon fill=\"#000000\" stroke=\"#000000\" points=\"350.2259,-197.5498 352.9005,-187.2981 344.4166,-193.6444 350.2259,-197.5498\"/>\n<text text-anchor=\"middle\" x=\"357.7085\" y=\"-208.1314\" font-family=\"Helvetica,sans-Serif\" font-size=\"14.00\" fill=\"#000000\">False</text>\n</g>\n<!-- 2 -->\n<g id=\"node3\" class=\"node\">\n<title>2</title>\n<path fill=\"#e5833d\" stroke=\"#000000\" d=\"M122,-68C122,-68 12,-68 12,-68 6,-68 0,-62 0,-56 0,-56 0,-12 0,-12 0,-6 6,0 12,0 12,0 122,0 122,0 128,0 134,-6 134,-12 134,-12 134,-56 134,-56 134,-62 128,-68 122,-68\"/>\n<text text-anchor=\"middle\" x=\"67\" y=\"-52.8\" font-family=\"Helvetica,sans-Serif\" font-size=\"14.00\" fill=\"#000000\">entropy = 0.134</text>\n<text text-anchor=\"middle\" x=\"67\" y=\"-37.8\" font-family=\"Helvetica,sans-Serif\" font-size=\"14.00\" fill=\"#000000\">samples = 107</text>\n<text text-anchor=\"middle\" x=\"67\" y=\"-22.8\" font-family=\"Helvetica,sans-Serif\" font-size=\"14.00\" fill=\"#000000\">value = [105, 2]</text>\n<text text-anchor=\"middle\" x=\"67\" y=\"-7.8\" font-family=\"Helvetica,sans-Serif\" font-size=\"14.00\" fill=\"#000000\">class = 0</text>\n</g>\n<!-- 1&#45;&gt;2 -->\n<g id=\"edge2\" class=\"edge\">\n<title>1&#45;&gt;2</title>\n<path fill=\"none\" stroke=\"#000000\" d=\"M164.2837,-103.9815C150.7409,-94.2394 136.3343,-83.8759 122.8737,-74.193\"/>\n<polygon fill=\"#000000\" stroke=\"#000000\" points=\"124.7928,-71.2621 114.6311,-68.2637 120.7051,-76.9446 124.7928,-71.2621\"/>\n</g>\n<!-- 3 -->\n<g id=\"node4\" class=\"node\">\n<title>3</title>\n<path fill=\"#eeae7f\" stroke=\"#000000\" d=\"M281.5,-68C281.5,-68 164.5,-68 164.5,-68 158.5,-68 152.5,-62 152.5,-56 152.5,-56 152.5,-12 152.5,-12 152.5,-6 158.5,0 164.5,0 164.5,0 281.5,0 281.5,0 287.5,0 293.5,-6 293.5,-12 293.5,-12 293.5,-56 293.5,-56 293.5,-62 287.5,-68 281.5,-68\"/>\n<text text-anchor=\"middle\" x=\"223\" y=\"-52.8\" font-family=\"Helvetica,sans-Serif\" font-size=\"14.00\" fill=\"#000000\">entropy = 0.83</text>\n<text text-anchor=\"middle\" x=\"223\" y=\"-37.8\" font-family=\"Helvetica,sans-Serif\" font-size=\"14.00\" fill=\"#000000\">samples = 294</text>\n<text text-anchor=\"middle\" x=\"223\" y=\"-22.8\" font-family=\"Helvetica,sans-Serif\" font-size=\"14.00\" fill=\"#000000\">value = [217, 77]</text>\n<text text-anchor=\"middle\" x=\"223\" y=\"-7.8\" font-family=\"Helvetica,sans-Serif\" font-size=\"14.00\" fill=\"#000000\">class = 0</text>\n</g>\n<!-- 1&#45;&gt;3 -->\n<g id=\"edge3\" class=\"edge\">\n<title>1&#45;&gt;3</title>\n<path fill=\"none\" stroke=\"#000000\" d=\"M222.3724,-103.9815C222.4474,-95.618 222.5265,-86.7965 222.6023,-78.3409\"/>\n<polygon fill=\"#000000\" stroke=\"#000000\" points=\"226.1028,-78.2947 222.6927,-68.2637 219.1031,-78.2318 226.1028,-78.2947\"/>\n</g>\n<!-- 5 -->\n<g id=\"node6\" class=\"node\">\n<title>5</title>\n<path fill=\"#f0b78d\" stroke=\"#000000\" d=\"M435,-68C435,-68 325,-68 325,-68 319,-68 313,-62 313,-56 313,-56 313,-12 313,-12 313,-6 319,0 325,0 325,0 435,0 435,0 441,0 447,-6 447,-12 447,-12 447,-56 447,-56 447,-62 441,-68 435,-68\"/>\n<text text-anchor=\"middle\" x=\"380\" y=\"-52.8\" font-family=\"Helvetica,sans-Serif\" font-size=\"14.00\" fill=\"#000000\">entropy = 0.879</text>\n<text text-anchor=\"middle\" x=\"380\" y=\"-37.8\" font-family=\"Helvetica,sans-Serif\" font-size=\"14.00\" fill=\"#000000\">samples = 57</text>\n<text text-anchor=\"middle\" x=\"380\" y=\"-22.8\" font-family=\"Helvetica,sans-Serif\" font-size=\"14.00\" fill=\"#000000\">value = [40, 17]</text>\n<text text-anchor=\"middle\" x=\"380\" y=\"-7.8\" font-family=\"Helvetica,sans-Serif\" font-size=\"14.00\" fill=\"#000000\">class = 0</text>\n</g>\n<!-- 4&#45;&gt;5 -->\n<g id=\"edge5\" class=\"edge\">\n<title>4&#45;&gt;5</title>\n<path fill=\"none\" stroke=\"#000000\" d=\"M380.6276,-103.9815C380.5526,-95.618 380.4735,-86.7965 380.3977,-78.3409\"/>\n<polygon fill=\"#000000\" stroke=\"#000000\" points=\"383.8969,-78.2318 380.3073,-68.2637 376.8972,-78.2947 383.8969,-78.2318\"/>\n</g>\n<!-- 6 -->\n<g id=\"node7\" class=\"node\">\n<title>6</title>\n<path fill=\"#79bded\" stroke=\"#000000\" d=\"M594.5,-68C594.5,-68 477.5,-68 477.5,-68 471.5,-68 465.5,-62 465.5,-56 465.5,-56 465.5,-12 465.5,-12 465.5,-6 471.5,0 477.5,0 477.5,0 594.5,0 594.5,0 600.5,0 606.5,-6 606.5,-12 606.5,-12 606.5,-56 606.5,-56 606.5,-62 600.5,-68 594.5,-68\"/>\n<text text-anchor=\"middle\" x=\"536\" y=\"-52.8\" font-family=\"Helvetica,sans-Serif\" font-size=\"14.00\" fill=\"#000000\">entropy = 0.801</text>\n<text text-anchor=\"middle\" x=\"536\" y=\"-37.8\" font-family=\"Helvetica,sans-Serif\" font-size=\"14.00\" fill=\"#000000\">samples = 156</text>\n<text text-anchor=\"middle\" x=\"536\" y=\"-22.8\" font-family=\"Helvetica,sans-Serif\" font-size=\"14.00\" fill=\"#000000\">value = [38, 118]</text>\n<text text-anchor=\"middle\" x=\"536\" y=\"-7.8\" font-family=\"Helvetica,sans-Serif\" font-size=\"14.00\" fill=\"#000000\">class = 1</text>\n</g>\n<!-- 4&#45;&gt;6 -->\n<g id=\"edge6\" class=\"edge\">\n<title>4&#45;&gt;6</title>\n<path fill=\"none\" stroke=\"#000000\" d=\"M438.7163,-103.9815C452.2591,-94.2394 466.6657,-83.8759 480.1263,-74.193\"/>\n<polygon fill=\"#000000\" stroke=\"#000000\" points=\"482.2949,-76.9446 488.3689,-68.2637 478.2072,-71.2621 482.2949,-76.9446\"/>\n</g>\n</g>\n</svg>\n",
      "text/plain": "<graphviz.sources.Source at 0x7f56447c8f90>"
     },
     "metadata": {},
     "output_type": "display_data"
    },
    {
     "name": "stdout",
     "text": "Tree Number 7\nAccuracy: 0.7597402597402597\n/shared-libs/python3.7/py/lib/python3.7/site-packages/sklearn/utils/deprecation.py:87: FutureWarning: Function plot_confusion_matrix is deprecated; Function `plot_confusion_matrix` is deprecated in 1.0 and will be removed in 1.2. Use one of the class methods: ConfusionMatrixDisplay.from_predictions or ConfusionMatrixDisplay.from_estimator.\n  warnings.warn(msg, category=FutureWarning)\n",
     "output_type": "stream"
    },
    {
     "data": {
      "text/plain": "<Figure size 432x288 with 2 Axes>",
      "image/png": "[encoded data removed]"
     },
     "metadata": {
      "needs_background": "light",
      "image/png": {
       "width": 306,
       "height": 262
      }
     },
     "output_type": "display_data"
    },
    {
     "data": {
      "image/svg+xml": "<?xml version=\"1.0\" encoding=\"UTF-8\" standalone=\"no\"?>\n<!DOCTYPE svg PUBLIC \"-//W3C//DTD SVG 1.1//EN\"\n \"http://www.w3.org/Graphics/SVG/1.1/DTD/svg11.dtd\">\n<!-- Generated by graphviz version 2.40.1 (20161225.0304)\n -->\n<!-- Title: Tree Pages: 1 -->\n<svg width=\"621pt\" height=\"314pt\"\n viewBox=\"0.00 0.00 621.00 314.00\" xmlns=\"http://www.w3.org/2000/svg\" xmlns:xlink=\"http://www.w3.org/1999/xlink\">\n<g id=\"graph0\" class=\"graph\" transform=\"scale(1 1) rotate(0) translate(4 310)\">\n<title>Tree</title>\n<polygon fill=\"#ffffff\" stroke=\"transparent\" points=\"-4,4 -4,-310 617,-310 617,4 -4,4\"/>\n<!-- 0 -->\n<g id=\"node1\" class=\"node\">\n<title>0</title>\n<path fill=\"#f3c4a3\" stroke=\"#000000\" d=\"M370.5,-306C370.5,-306 244.5,-306 244.5,-306 238.5,-306 232.5,-300 232.5,-294 232.5,-294 232.5,-235 232.5,-235 232.5,-229 238.5,-223 244.5,-223 244.5,-223 370.5,-223 370.5,-223 376.5,-223 382.5,-229 382.5,-235 382.5,-235 382.5,-294 382.5,-294 382.5,-300 376.5,-306 370.5,-306\"/>\n<text text-anchor=\"middle\" x=\"307.5\" y=\"-290.8\" font-family=\"Helvetica,sans-Serif\" font-size=\"14.00\" fill=\"#000000\">Glucose &lt;= 127.5</text>\n<text text-anchor=\"middle\" x=\"307.5\" y=\"-275.8\" font-family=\"Helvetica,sans-Serif\" font-size=\"14.00\" fill=\"#000000\">entropy = 0.933</text>\n<text text-anchor=\"middle\" x=\"307.5\" y=\"-260.8\" font-family=\"Helvetica,sans-Serif\" font-size=\"14.00\" fill=\"#000000\">samples = 614</text>\n<text text-anchor=\"middle\" x=\"307.5\" y=\"-245.8\" font-family=\"Helvetica,sans-Serif\" font-size=\"14.00\" fill=\"#000000\">value = [400, 214]</text>\n<text text-anchor=\"middle\" x=\"307.5\" y=\"-230.8\" font-family=\"Helvetica,sans-Serif\" font-size=\"14.00\" fill=\"#000000\">class = 0</text>\n</g>\n<!-- 1 -->\n<g id=\"node2\" class=\"node\">\n<title>1</title>\n<path fill=\"#eb9e67\" stroke=\"#000000\" d=\"M287,-187C287,-187 170,-187 170,-187 164,-187 158,-181 158,-175 158,-175 158,-116 158,-116 158,-110 164,-104 170,-104 170,-104 287,-104 287,-104 293,-104 299,-110 299,-116 299,-116 299,-175 299,-175 299,-181 293,-187 287,-187\"/>\n<text text-anchor=\"middle\" x=\"228.5\" y=\"-171.8\" font-family=\"Helvetica,sans-Serif\" font-size=\"14.00\" fill=\"#000000\">Age &lt;= 28.5</text>\n<text text-anchor=\"middle\" x=\"228.5\" y=\"-156.8\" font-family=\"Helvetica,sans-Serif\" font-size=\"14.00\" fill=\"#000000\">entropy = 0.696</text>\n<text text-anchor=\"middle\" x=\"228.5\" y=\"-141.8\" font-family=\"Helvetica,sans-Serif\" font-size=\"14.00\" fill=\"#000000\">samples = 379</text>\n<text text-anchor=\"middle\" x=\"228.5\" y=\"-126.8\" font-family=\"Helvetica,sans-Serif\" font-size=\"14.00\" fill=\"#000000\">value = [308, 71]</text>\n<text text-anchor=\"middle\" x=\"228.5\" y=\"-111.8\" font-family=\"Helvetica,sans-Serif\" font-size=\"14.00\" fill=\"#000000\">class = 0</text>\n</g>\n<!-- 0&#45;&gt;1 -->\n<g id=\"edge1\" class=\"edge\">\n<title>0&#45;&gt;1</title>\n<path fill=\"none\" stroke=\"#000000\" d=\"M279.8696,-222.8796C274.07,-214.1434 267.8941,-204.8404 261.9092,-195.8253\"/>\n<polygon fill=\"#000000\" stroke=\"#000000\" points=\"264.6951,-193.6935 256.2483,-187.2981 258.8632,-197.5652 264.6951,-193.6935\"/>\n<text text-anchor=\"middle\" x=\"251.2978\" y=\"-208.103\" font-family=\"Helvetica,sans-Serif\" font-size=\"14.00\" fill=\"#000000\">True</text>\n</g>\n<!-- 4 -->\n<g id=\"node5\" class=\"node\">\n<title>4</title>\n<path fill=\"#b8dcf6\" stroke=\"#000000\" d=\"M446,-187C446,-187 329,-187 329,-187 323,-187 317,-181 317,-175 317,-175 317,-116 317,-116 317,-110 323,-104 329,-104 329,-104 446,-104 446,-104 452,-104 458,-110 458,-116 458,-116 458,-175 458,-175 458,-181 452,-187 446,-187\"/>\n<text text-anchor=\"middle\" x=\"387.5\" y=\"-171.8\" font-family=\"Helvetica,sans-Serif\" font-size=\"14.00\" fill=\"#000000\">BMI &lt;= 29.95</text>\n<text text-anchor=\"middle\" x=\"387.5\" y=\"-156.8\" font-family=\"Helvetica,sans-Serif\" font-size=\"14.00\" fill=\"#000000\">entropy = 0.966</text>\n<text text-anchor=\"middle\" x=\"387.5\" y=\"-141.8\" font-family=\"Helvetica,sans-Serif\" font-size=\"14.00\" fill=\"#000000\">samples = 235</text>\n<text text-anchor=\"middle\" x=\"387.5\" y=\"-126.8\" font-family=\"Helvetica,sans-Serif\" font-size=\"14.00\" fill=\"#000000\">value = [92, 143]</text>\n<text text-anchor=\"middle\" x=\"387.5\" y=\"-111.8\" font-family=\"Helvetica,sans-Serif\" font-size=\"14.00\" fill=\"#000000\">class = 1</text>\n</g>\n<!-- 0&#45;&gt;4 -->\n<g id=\"edge4\" class=\"edge\">\n<title>0&#45;&gt;4</title>\n<path fill=\"none\" stroke=\"#000000\" d=\"M335.4801,-222.8796C341.3531,-214.1434 347.6073,-204.8404 353.6679,-195.8253\"/>\n<polygon fill=\"#000000\" stroke=\"#000000\" points=\"356.7259,-197.5498 359.4005,-187.2981 350.9166,-193.6444 356.7259,-197.5498\"/>\n<text text-anchor=\"middle\" x=\"364.2085\" y=\"-208.1314\" font-family=\"Helvetica,sans-Serif\" font-size=\"14.00\" fill=\"#000000\">False</text>\n</g>\n<!-- 2 -->\n<g id=\"node3\" class=\"node\">\n<title>2</title>\n<path fill=\"#e78c4b\" stroke=\"#000000\" d=\"M129,-68C129,-68 12,-68 12,-68 6,-68 0,-62 0,-56 0,-56 0,-12 0,-12 0,-6 6,0 12,0 12,0 129,0 129,0 135,0 141,-6 141,-12 141,-12 141,-56 141,-56 141,-62 135,-68 129,-68\"/>\n<text text-anchor=\"middle\" x=\"70.5\" y=\"-52.8\" font-family=\"Helvetica,sans-Serif\" font-size=\"14.00\" fill=\"#000000\">entropy = 0.407</text>\n<text text-anchor=\"middle\" x=\"70.5\" y=\"-37.8\" font-family=\"Helvetica,sans-Serif\" font-size=\"14.00\" fill=\"#000000\">samples = 209</text>\n<text text-anchor=\"middle\" x=\"70.5\" y=\"-22.8\" font-family=\"Helvetica,sans-Serif\" font-size=\"14.00\" fill=\"#000000\">value = [192, 17]</text>\n<text text-anchor=\"middle\" x=\"70.5\" y=\"-7.8\" font-family=\"Helvetica,sans-Serif\" font-size=\"14.00\" fill=\"#000000\">class = 0</text>\n</g>\n<!-- 1&#45;&gt;2 -->\n<g id=\"edge2\" class=\"edge\">\n<title>1&#45;&gt;2</title>\n<path fill=\"none\" stroke=\"#000000\" d=\"M169.6666,-103.9815C155.789,-94.1881 141.0216,-83.7668 127.2386,-74.0402\"/>\n<polygon fill=\"#000000\" stroke=\"#000000\" points=\"128.9892,-70.9918 118.8007,-68.0856 124.9531,-76.7111 128.9892,-70.9918\"/>\n</g>\n<!-- 3 -->\n<g id=\"node4\" class=\"node\">\n<title>3</title>\n<path fill=\"#f1bc95\" stroke=\"#000000\" d=\"M288,-68C288,-68 171,-68 171,-68 165,-68 159,-62 159,-56 159,-56 159,-12 159,-12 159,-6 165,0 171,0 171,0 288,0 288,0 294,0 300,-6 300,-12 300,-12 300,-56 300,-56 300,-62 294,-68 288,-68\"/>\n<text text-anchor=\"middle\" x=\"229.5\" y=\"-52.8\" font-family=\"Helvetica,sans-Serif\" font-size=\"14.00\" fill=\"#000000\">entropy = 0.902</text>\n<text text-anchor=\"middle\" x=\"229.5\" y=\"-37.8\" font-family=\"Helvetica,sans-Serif\" font-size=\"14.00\" fill=\"#000000\">samples = 170</text>\n<text text-anchor=\"middle\" x=\"229.5\" y=\"-22.8\" font-family=\"Helvetica,sans-Serif\" font-size=\"14.00\" fill=\"#000000\">value = [116, 54]</text>\n<text text-anchor=\"middle\" x=\"229.5\" y=\"-7.8\" font-family=\"Helvetica,sans-Serif\" font-size=\"14.00\" fill=\"#000000\">class = 0</text>\n</g>\n<!-- 1&#45;&gt;3 -->\n<g id=\"edge3\" class=\"edge\">\n<title>1&#45;&gt;3</title>\n<path fill=\"none\" stroke=\"#000000\" d=\"M228.8724,-103.9815C228.9474,-95.618 229.0265,-86.7965 229.1023,-78.3409\"/>\n<polygon fill=\"#000000\" stroke=\"#000000\" points=\"232.6028,-78.2947 229.1927,-68.2637 225.6031,-78.2318 232.6028,-78.2947\"/>\n</g>\n<!-- 5 -->\n<g id=\"node6\" class=\"node\">\n<title>5</title>\n<path fill=\"#f0b68c\" stroke=\"#000000\" d=\"M441.5,-68C441.5,-68 331.5,-68 331.5,-68 325.5,-68 319.5,-62 319.5,-56 319.5,-56 319.5,-12 319.5,-12 319.5,-6 325.5,0 331.5,0 331.5,0 441.5,0 441.5,0 447.5,0 453.5,-6 453.5,-12 453.5,-12 453.5,-56 453.5,-56 453.5,-62 447.5,-68 441.5,-68\"/>\n<text text-anchor=\"middle\" x=\"386.5\" y=\"-52.8\" font-family=\"Helvetica,sans-Serif\" font-size=\"14.00\" fill=\"#000000\">entropy = 0.875</text>\n<text text-anchor=\"middle\" x=\"386.5\" y=\"-37.8\" font-family=\"Helvetica,sans-Serif\" font-size=\"14.00\" fill=\"#000000\">samples = 61</text>\n<text text-anchor=\"middle\" x=\"386.5\" y=\"-22.8\" font-family=\"Helvetica,sans-Serif\" font-size=\"14.00\" fill=\"#000000\">value = [43, 18]</text>\n<text text-anchor=\"middle\" x=\"386.5\" y=\"-7.8\" font-family=\"Helvetica,sans-Serif\" font-size=\"14.00\" fill=\"#000000\">class = 0</text>\n</g>\n<!-- 4&#45;&gt;5 -->\n<g id=\"edge5\" class=\"edge\">\n<title>4&#45;&gt;5</title>\n<path fill=\"none\" stroke=\"#000000\" d=\"M387.1276,-103.9815C387.0526,-95.618 386.9735,-86.7965 386.8977,-78.3409\"/>\n<polygon fill=\"#000000\" stroke=\"#000000\" points=\"390.3969,-78.2318 386.8073,-68.2637 383.3972,-78.2947 390.3969,-78.2318\"/>\n</g>\n<!-- 6 -->\n<g id=\"node7\" class=\"node\">\n<title>6</title>\n<path fill=\"#87c3ef\" stroke=\"#000000\" d=\"M601,-68C601,-68 484,-68 484,-68 478,-68 472,-62 472,-56 472,-56 472,-12 472,-12 472,-6 478,0 484,0 484,0 601,0 601,0 607,0 613,-6 613,-12 613,-12 613,-56 613,-56 613,-62 607,-68 601,-68\"/>\n<text text-anchor=\"middle\" x=\"542.5\" y=\"-52.8\" font-family=\"Helvetica,sans-Serif\" font-size=\"14.00\" fill=\"#000000\">entropy = 0.858</text>\n<text text-anchor=\"middle\" x=\"542.5\" y=\"-37.8\" font-family=\"Helvetica,sans-Serif\" font-size=\"14.00\" fill=\"#000000\">samples = 174</text>\n<text text-anchor=\"middle\" x=\"542.5\" y=\"-22.8\" font-family=\"Helvetica,sans-Serif\" font-size=\"14.00\" fill=\"#000000\">value = [49, 125]</text>\n<text text-anchor=\"middle\" x=\"542.5\" y=\"-7.8\" font-family=\"Helvetica,sans-Serif\" font-size=\"14.00\" fill=\"#000000\">class = 1</text>\n</g>\n<!-- 4&#45;&gt;6 -->\n<g id=\"edge6\" class=\"edge\">\n<title>4&#45;&gt;6</title>\n<path fill=\"none\" stroke=\"#000000\" d=\"M445.2163,-103.9815C458.7591,-94.2394 473.1657,-83.8759 486.6263,-74.193\"/>\n<polygon fill=\"#000000\" stroke=\"#000000\" points=\"488.7949,-76.9446 494.8689,-68.2637 484.7072,-71.2621 488.7949,-76.9446\"/>\n</g>\n</g>\n</svg>\n",
      "text/plain": "<graphviz.sources.Source at 0x7f56461305d0>"
     },
     "metadata": {},
     "output_type": "display_data"
    },
    {
     "name": "stdout",
     "text": "Tree Number 8\nAccuracy: 0.7597402597402597\n/shared-libs/python3.7/py/lib/python3.7/site-packages/sklearn/utils/deprecation.py:87: FutureWarning: Function plot_confusion_matrix is deprecated; Function `plot_confusion_matrix` is deprecated in 1.0 and will be removed in 1.2. Use one of the class methods: ConfusionMatrixDisplay.from_predictions or ConfusionMatrixDisplay.from_estimator.\n  warnings.warn(msg, category=FutureWarning)\n",
     "output_type": "stream"
    },
    {
     "data": {
      "text/plain": "<Figure size 432x288 with 2 Axes>",
      "image/png": "[encoded data removed]"
     },
     "metadata": {
      "needs_background": "light",
      "image/png": {
       "width": 306,
       "height": 262
      }
     },
     "output_type": "display_data"
    },
    {
     "data": {
      "image/svg+xml": "<?xml version=\"1.0\" encoding=\"UTF-8\" standalone=\"no\"?>\n<!DOCTYPE svg PUBLIC \"-//W3C//DTD SVG 1.1//EN\"\n \"http://www.w3.org/Graphics/SVG/1.1/DTD/svg11.dtd\">\n<!-- Generated by graphviz version 2.40.1 (20161225.0304)\n -->\n<!-- Title: Tree Pages: 1 -->\n<svg width=\"620pt\" height=\"314pt\"\n viewBox=\"0.00 0.00 620.00 314.00\" xmlns=\"http://www.w3.org/2000/svg\" xmlns:xlink=\"http://www.w3.org/1999/xlink\">\n<g id=\"graph0\" class=\"graph\" transform=\"scale(1 1) rotate(0) translate(4 310)\">\n<title>Tree</title>\n<polygon fill=\"#ffffff\" stroke=\"transparent\" points=\"-4,4 -4,-310 616,-310 616,4 -4,4\"/>\n<!-- 0 -->\n<g id=\"node1\" class=\"node\">\n<title>0</title>\n<path fill=\"#f3c4a3\" stroke=\"#000000\" d=\"M370.5,-306C370.5,-306 244.5,-306 244.5,-306 238.5,-306 232.5,-300 232.5,-294 232.5,-294 232.5,-235 232.5,-235 232.5,-229 238.5,-223 244.5,-223 244.5,-223 370.5,-223 370.5,-223 376.5,-223 382.5,-229 382.5,-235 382.5,-235 382.5,-294 382.5,-294 382.5,-300 376.5,-306 370.5,-306\"/>\n<text text-anchor=\"middle\" x=\"307.5\" y=\"-290.8\" font-family=\"Helvetica,sans-Serif\" font-size=\"14.00\" fill=\"#000000\">Glucose &lt;= 127.5</text>\n<text text-anchor=\"middle\" x=\"307.5\" y=\"-275.8\" font-family=\"Helvetica,sans-Serif\" font-size=\"14.00\" fill=\"#000000\">entropy = 0.933</text>\n<text text-anchor=\"middle\" x=\"307.5\" y=\"-260.8\" font-family=\"Helvetica,sans-Serif\" font-size=\"14.00\" fill=\"#000000\">samples = 614</text>\n<text text-anchor=\"middle\" x=\"307.5\" y=\"-245.8\" font-family=\"Helvetica,sans-Serif\" font-size=\"14.00\" fill=\"#000000\">value = [400, 214]</text>\n<text text-anchor=\"middle\" x=\"307.5\" y=\"-230.8\" font-family=\"Helvetica,sans-Serif\" font-size=\"14.00\" fill=\"#000000\">class = 0</text>\n</g>\n<!-- 1 -->\n<g id=\"node2\" class=\"node\">\n<title>1</title>\n<path fill=\"#eb9e67\" stroke=\"#000000\" d=\"M287,-187C287,-187 170,-187 170,-187 164,-187 158,-181 158,-175 158,-175 158,-116 158,-116 158,-110 164,-104 170,-104 170,-104 287,-104 287,-104 293,-104 299,-110 299,-116 299,-116 299,-175 299,-175 299,-181 293,-187 287,-187\"/>\n<text text-anchor=\"middle\" x=\"228.5\" y=\"-171.8\" font-family=\"Helvetica,sans-Serif\" font-size=\"14.00\" fill=\"#000000\">Age &lt;= 28.5</text>\n<text text-anchor=\"middle\" x=\"228.5\" y=\"-156.8\" font-family=\"Helvetica,sans-Serif\" font-size=\"14.00\" fill=\"#000000\">entropy = 0.699</text>\n<text text-anchor=\"middle\" x=\"228.5\" y=\"-141.8\" font-family=\"Helvetica,sans-Serif\" font-size=\"14.00\" fill=\"#000000\">samples = 387</text>\n<text text-anchor=\"middle\" x=\"228.5\" y=\"-126.8\" font-family=\"Helvetica,sans-Serif\" font-size=\"14.00\" fill=\"#000000\">value = [314, 73]</text>\n<text text-anchor=\"middle\" x=\"228.5\" y=\"-111.8\" font-family=\"Helvetica,sans-Serif\" font-size=\"14.00\" fill=\"#000000\">class = 0</text>\n</g>\n<!-- 0&#45;&gt;1 -->\n<g id=\"edge1\" class=\"edge\">\n<title>0&#45;&gt;1</title>\n<path fill=\"none\" stroke=\"#000000\" d=\"M279.8696,-222.8796C274.07,-214.1434 267.8941,-204.8404 261.9092,-195.8253\"/>\n<polygon fill=\"#000000\" stroke=\"#000000\" points=\"264.6951,-193.6935 256.2483,-187.2981 258.8632,-197.5652 264.6951,-193.6935\"/>\n<text text-anchor=\"middle\" x=\"251.2978\" y=\"-208.103\" font-family=\"Helvetica,sans-Serif\" font-size=\"14.00\" fill=\"#000000\">True</text>\n</g>\n<!-- 4 -->\n<g id=\"node5\" class=\"node\">\n<title>4</title>\n<path fill=\"#b2d9f5\" stroke=\"#000000\" d=\"M446,-187C446,-187 329,-187 329,-187 323,-187 317,-181 317,-175 317,-175 317,-116 317,-116 317,-110 323,-104 329,-104 329,-104 446,-104 446,-104 452,-104 458,-110 458,-116 458,-116 458,-175 458,-175 458,-181 452,-187 446,-187\"/>\n<text text-anchor=\"middle\" x=\"387.5\" y=\"-171.8\" font-family=\"Helvetica,sans-Serif\" font-size=\"14.00\" fill=\"#000000\">BMI &lt;= 29.95</text>\n<text text-anchor=\"middle\" x=\"387.5\" y=\"-156.8\" font-family=\"Helvetica,sans-Serif\" font-size=\"14.00\" fill=\"#000000\">entropy = 0.957</text>\n<text text-anchor=\"middle\" x=\"387.5\" y=\"-141.8\" font-family=\"Helvetica,sans-Serif\" font-size=\"14.00\" fill=\"#000000\">samples = 227</text>\n<text text-anchor=\"middle\" x=\"387.5\" y=\"-126.8\" font-family=\"Helvetica,sans-Serif\" font-size=\"14.00\" fill=\"#000000\">value = [86, 141]</text>\n<text text-anchor=\"middle\" x=\"387.5\" y=\"-111.8\" font-family=\"Helvetica,sans-Serif\" font-size=\"14.00\" fill=\"#000000\">class = 1</text>\n</g>\n<!-- 0&#45;&gt;4 -->\n<g id=\"edge4\" class=\"edge\">\n<title>0&#45;&gt;4</title>\n<path fill=\"none\" stroke=\"#000000\" d=\"M335.4801,-222.8796C341.3531,-214.1434 347.6073,-204.8404 353.6679,-195.8253\"/>\n<polygon fill=\"#000000\" stroke=\"#000000\" points=\"356.7259,-197.5498 359.4005,-187.2981 350.9166,-193.6444 356.7259,-197.5498\"/>\n<text text-anchor=\"middle\" x=\"364.2085\" y=\"-208.1314\" font-family=\"Helvetica,sans-Serif\" font-size=\"14.00\" fill=\"#000000\">False</text>\n</g>\n<!-- 2 -->\n<g id=\"node3\" class=\"node\">\n<title>2</title>\n<path fill=\"#e78d4b\" stroke=\"#000000\" d=\"M129,-68C129,-68 12,-68 12,-68 6,-68 0,-62 0,-56 0,-56 0,-12 0,-12 0,-6 6,0 12,0 12,0 129,0 129,0 135,0 141,-6 141,-12 141,-12 141,-56 141,-56 141,-62 135,-68 129,-68\"/>\n<text text-anchor=\"middle\" x=\"70.5\" y=\"-52.8\" font-family=\"Helvetica,sans-Serif\" font-size=\"14.00\" fill=\"#000000\">entropy = 0.418</text>\n<text text-anchor=\"middle\" x=\"70.5\" y=\"-37.8\" font-family=\"Helvetica,sans-Serif\" font-size=\"14.00\" fill=\"#000000\">samples = 213</text>\n<text text-anchor=\"middle\" x=\"70.5\" y=\"-22.8\" font-family=\"Helvetica,sans-Serif\" font-size=\"14.00\" fill=\"#000000\">value = [195, 18]</text>\n<text text-anchor=\"middle\" x=\"70.5\" y=\"-7.8\" font-family=\"Helvetica,sans-Serif\" font-size=\"14.00\" fill=\"#000000\">class = 0</text>\n</g>\n<!-- 1&#45;&gt;2 -->\n<g id=\"edge2\" class=\"edge\">\n<title>1&#45;&gt;2</title>\n<path fill=\"none\" stroke=\"#000000\" d=\"M169.6666,-103.9815C155.789,-94.1881 141.0216,-83.7668 127.2386,-74.0402\"/>\n<polygon fill=\"#000000\" stroke=\"#000000\" points=\"128.9892,-70.9918 118.8007,-68.0856 124.9531,-76.7111 128.9892,-70.9918\"/>\n</g>\n<!-- 3 -->\n<g id=\"node4\" class=\"node\">\n<title>3</title>\n<path fill=\"#f1bb95\" stroke=\"#000000\" d=\"M288,-68C288,-68 171,-68 171,-68 165,-68 159,-62 159,-56 159,-56 159,-12 159,-12 159,-6 165,0 171,0 171,0 288,0 288,0 294,0 300,-6 300,-12 300,-12 300,-56 300,-56 300,-62 294,-68 288,-68\"/>\n<text text-anchor=\"middle\" x=\"229.5\" y=\"-52.8\" font-family=\"Helvetica,sans-Serif\" font-size=\"14.00\" fill=\"#000000\">entropy = 0.9</text>\n<text text-anchor=\"middle\" x=\"229.5\" y=\"-37.8\" font-family=\"Helvetica,sans-Serif\" font-size=\"14.00\" fill=\"#000000\">samples = 174</text>\n<text text-anchor=\"middle\" x=\"229.5\" y=\"-22.8\" font-family=\"Helvetica,sans-Serif\" font-size=\"14.00\" fill=\"#000000\">value = [119, 55]</text>\n<text text-anchor=\"middle\" x=\"229.5\" y=\"-7.8\" font-family=\"Helvetica,sans-Serif\" font-size=\"14.00\" fill=\"#000000\">class = 0</text>\n</g>\n<!-- 1&#45;&gt;3 -->\n<g id=\"edge3\" class=\"edge\">\n<title>1&#45;&gt;3</title>\n<path fill=\"none\" stroke=\"#000000\" d=\"M228.8724,-103.9815C228.9474,-95.618 229.0265,-86.7965 229.1023,-78.3409\"/>\n<polygon fill=\"#000000\" stroke=\"#000000\" points=\"232.6028,-78.2947 229.1927,-68.2637 225.6031,-78.2318 232.6028,-78.2947\"/>\n</g>\n<!-- 5 -->\n<g id=\"node6\" class=\"node\">\n<title>5</title>\n<path fill=\"#f1bb94\" stroke=\"#000000\" d=\"M440.5,-68C440.5,-68 332.5,-68 332.5,-68 326.5,-68 320.5,-62 320.5,-56 320.5,-56 320.5,-12 320.5,-12 320.5,-6 326.5,0 332.5,0 332.5,0 440.5,0 440.5,0 446.5,0 452.5,-6 452.5,-12 452.5,-12 452.5,-56 452.5,-56 452.5,-62 446.5,-68 440.5,-68\"/>\n<text text-anchor=\"middle\" x=\"386.5\" y=\"-52.8\" font-family=\"Helvetica,sans-Serif\" font-size=\"14.00\" fill=\"#000000\">entropy = 0.9</text>\n<text text-anchor=\"middle\" x=\"386.5\" y=\"-37.8\" font-family=\"Helvetica,sans-Serif\" font-size=\"14.00\" fill=\"#000000\">samples = 57</text>\n<text text-anchor=\"middle\" x=\"386.5\" y=\"-22.8\" font-family=\"Helvetica,sans-Serif\" font-size=\"14.00\" fill=\"#000000\">value = [39, 18]</text>\n<text text-anchor=\"middle\" x=\"386.5\" y=\"-7.8\" font-family=\"Helvetica,sans-Serif\" font-size=\"14.00\" fill=\"#000000\">class = 0</text>\n</g>\n<!-- 4&#45;&gt;5 -->\n<g id=\"edge5\" class=\"edge\">\n<title>4&#45;&gt;5</title>\n<path fill=\"none\" stroke=\"#000000\" d=\"M387.1276,-103.9815C387.0526,-95.618 386.9735,-86.7965 386.8977,-78.3409\"/>\n<polygon fill=\"#000000\" stroke=\"#000000\" points=\"390.3969,-78.2318 386.8073,-68.2637 383.3972,-78.2947 390.3969,-78.2318\"/>\n</g>\n<!-- 6 -->\n<g id=\"node7\" class=\"node\">\n<title>6</title>\n<path fill=\"#85c2ef\" stroke=\"#000000\" d=\"M600,-68C600,-68 483,-68 483,-68 477,-68 471,-62 471,-56 471,-56 471,-12 471,-12 471,-6 477,0 483,0 483,0 600,0 600,0 606,0 612,-6 612,-12 612,-12 612,-56 612,-56 612,-62 606,-68 600,-68\"/>\n<text text-anchor=\"middle\" x=\"541.5\" y=\"-52.8\" font-family=\"Helvetica,sans-Serif\" font-size=\"14.00\" fill=\"#000000\">entropy = 0.851</text>\n<text text-anchor=\"middle\" x=\"541.5\" y=\"-37.8\" font-family=\"Helvetica,sans-Serif\" font-size=\"14.00\" fill=\"#000000\">samples = 170</text>\n<text text-anchor=\"middle\" x=\"541.5\" y=\"-22.8\" font-family=\"Helvetica,sans-Serif\" font-size=\"14.00\" fill=\"#000000\">value = [47, 123]</text>\n<text text-anchor=\"middle\" x=\"541.5\" y=\"-7.8\" font-family=\"Helvetica,sans-Serif\" font-size=\"14.00\" fill=\"#000000\">class = 1</text>\n</g>\n<!-- 4&#45;&gt;6 -->\n<g id=\"edge6\" class=\"edge\">\n<title>4&#45;&gt;6</title>\n<path fill=\"none\" stroke=\"#000000\" d=\"M444.8439,-103.9815C458.2994,-94.2394 472.6131,-83.8759 485.9867,-74.193\"/>\n<polygon fill=\"#000000\" stroke=\"#000000\" points=\"488.1289,-76.9632 494.1762,-68.2637 484.0237,-71.2933 488.1289,-76.9632\"/>\n</g>\n</g>\n</svg>\n",
      "text/plain": "<graphviz.sources.Source at 0x7f56447fc210>"
     },
     "metadata": {},
     "output_type": "display_data"
    },
    {
     "name": "stdout",
     "text": "Tree Number 9\nAccuracy: 0.7337662337662337\n/shared-libs/python3.7/py/lib/python3.7/site-packages/sklearn/utils/deprecation.py:87: FutureWarning: Function plot_confusion_matrix is deprecated; Function `plot_confusion_matrix` is deprecated in 1.0 and will be removed in 1.2. Use one of the class methods: ConfusionMatrixDisplay.from_predictions or ConfusionMatrixDisplay.from_estimator.\n  warnings.warn(msg, category=FutureWarning)\n",
     "output_type": "stream"
    },
    {
     "data": {
      "text/plain": "<Figure size 432x288 with 2 Axes>",
      "image/png": "[encoded data removed]"
     },
     "metadata": {
      "needs_background": "light",
      "image/png": {
       "width": 306,
       "height": 266
      }
     },
     "output_type": "display_data"
    },
    {
     "data": {
      "image/svg+xml": "<?xml version=\"1.0\" encoding=\"UTF-8\" standalone=\"no\"?>\n<!DOCTYPE svg PUBLIC \"-//W3C//DTD SVG 1.1//EN\"\n \"http://www.w3.org/Graphics/SVG/1.1/DTD/svg11.dtd\">\n<!-- Generated by graphviz version 2.40.1 (20161225.0304)\n -->\n<!-- Title: Tree Pages: 1 -->\n<svg width=\"648pt\" height=\"314pt\"\n viewBox=\"0.00 0.00 647.50 314.00\" xmlns=\"http://www.w3.org/2000/svg\" xmlns:xlink=\"http://www.w3.org/1999/xlink\">\n<g id=\"graph0\" class=\"graph\" transform=\"scale(1 1) rotate(0) translate(4 310)\">\n<title>Tree</title>\n<polygon fill=\"#ffffff\" stroke=\"transparent\" points=\"-4,4 -4,-310 643.5,-310 643.5,4 -4,4\"/>\n<!-- 0 -->\n<g id=\"node1\" class=\"node\">\n<title>0</title>\n<path fill=\"#f3c4a3\" stroke=\"#000000\" d=\"M387.5,-306C387.5,-306 261.5,-306 261.5,-306 255.5,-306 249.5,-300 249.5,-294 249.5,-294 249.5,-235 249.5,-235 249.5,-229 255.5,-223 261.5,-223 261.5,-223 387.5,-223 387.5,-223 393.5,-223 399.5,-229 399.5,-235 399.5,-235 399.5,-294 399.5,-294 399.5,-300 393.5,-306 387.5,-306\"/>\n<text text-anchor=\"middle\" x=\"324.5\" y=\"-290.8\" font-family=\"Helvetica,sans-Serif\" font-size=\"14.00\" fill=\"#000000\">Glucose &lt;= 143.5</text>\n<text text-anchor=\"middle\" x=\"324.5\" y=\"-275.8\" font-family=\"Helvetica,sans-Serif\" font-size=\"14.00\" fill=\"#000000\">entropy = 0.933</text>\n<text text-anchor=\"middle\" x=\"324.5\" y=\"-260.8\" font-family=\"Helvetica,sans-Serif\" font-size=\"14.00\" fill=\"#000000\">samples = 614</text>\n<text text-anchor=\"middle\" x=\"324.5\" y=\"-245.8\" font-family=\"Helvetica,sans-Serif\" font-size=\"14.00\" fill=\"#000000\">value = [400, 214]</text>\n<text text-anchor=\"middle\" x=\"324.5\" y=\"-230.8\" font-family=\"Helvetica,sans-Serif\" font-size=\"14.00\" fill=\"#000000\">class = 0</text>\n</g>\n<!-- 1 -->\n<g id=\"node2\" class=\"node\">\n<title>1</title>\n<path fill=\"#eda977\" stroke=\"#000000\" d=\"M274.5,-187C274.5,-187 148.5,-187 148.5,-187 142.5,-187 136.5,-181 136.5,-175 136.5,-175 136.5,-116 136.5,-116 136.5,-110 142.5,-104 148.5,-104 148.5,-104 274.5,-104 274.5,-104 280.5,-104 286.5,-110 286.5,-116 286.5,-116 286.5,-175 286.5,-175 286.5,-181 280.5,-187 274.5,-187\"/>\n<text text-anchor=\"middle\" x=\"211.5\" y=\"-171.8\" font-family=\"Helvetica,sans-Serif\" font-size=\"14.00\" fill=\"#000000\">Age &lt;= 30.5</text>\n<text text-anchor=\"middle\" x=\"211.5\" y=\"-156.8\" font-family=\"Helvetica,sans-Serif\" font-size=\"14.00\" fill=\"#000000\">entropy = 0.793</text>\n<text text-anchor=\"middle\" x=\"211.5\" y=\"-141.8\" font-family=\"Helvetica,sans-Serif\" font-size=\"14.00\" fill=\"#000000\">samples = 477</text>\n<text text-anchor=\"middle\" x=\"211.5\" y=\"-126.8\" font-family=\"Helvetica,sans-Serif\" font-size=\"14.00\" fill=\"#000000\">value = [363, 114]</text>\n<text text-anchor=\"middle\" x=\"211.5\" y=\"-111.8\" font-family=\"Helvetica,sans-Serif\" font-size=\"14.00\" fill=\"#000000\">class = 0</text>\n</g>\n<!-- 0&#45;&gt;1 -->\n<g id=\"edge1\" class=\"edge\">\n<title>0&#45;&gt;1</title>\n<path fill=\"none\" stroke=\"#000000\" d=\"M284.9781,-222.8796C276.3403,-213.7832 267.119,-204.0722 258.2303,-194.7116\"/>\n<polygon fill=\"#000000\" stroke=\"#000000\" points=\"260.6146,-192.1395 251.1906,-187.2981 255.5385,-196.9597 260.6146,-192.1395\"/>\n<text text-anchor=\"middle\" x=\"250.5443\" y=\"-208.5897\" font-family=\"Helvetica,sans-Serif\" font-size=\"14.00\" fill=\"#000000\">True</text>\n</g>\n<!-- 4 -->\n<g id=\"node5\" class=\"node\">\n<title>4</title>\n<path fill=\"#82c1ef\" stroke=\"#000000\" d=\"M560,-187C560,-187 317,-187 317,-187 311,-187 305,-181 305,-175 305,-175 305,-116 305,-116 305,-110 311,-104 317,-104 317,-104 560,-104 560,-104 566,-104 572,-110 572,-116 572,-116 572,-175 572,-175 572,-181 566,-187 560,-187\"/>\n<text text-anchor=\"middle\" x=\"438.5\" y=\"-171.8\" font-family=\"Helvetica,sans-Serif\" font-size=\"14.00\" fill=\"#000000\">DiabetesPedigreeFunction &lt;= 0.33</text>\n<text text-anchor=\"middle\" x=\"438.5\" y=\"-156.8\" font-family=\"Helvetica,sans-Serif\" font-size=\"14.00\" fill=\"#000000\">entropy = 0.842</text>\n<text text-anchor=\"middle\" x=\"438.5\" y=\"-141.8\" font-family=\"Helvetica,sans-Serif\" font-size=\"14.00\" fill=\"#000000\">samples = 137</text>\n<text text-anchor=\"middle\" x=\"438.5\" y=\"-126.8\" font-family=\"Helvetica,sans-Serif\" font-size=\"14.00\" fill=\"#000000\">value = [37, 100]</text>\n<text text-anchor=\"middle\" x=\"438.5\" y=\"-111.8\" font-family=\"Helvetica,sans-Serif\" font-size=\"14.00\" fill=\"#000000\">class = 1</text>\n</g>\n<!-- 0&#45;&gt;4 -->\n<g id=\"edge4\" class=\"edge\">\n<title>0&#45;&gt;4</title>\n<path fill=\"none\" stroke=\"#000000\" d=\"M364.3717,-222.8796C373.0858,-213.7832 382.3888,-204.0722 391.3562,-194.7116\"/>\n<polygon fill=\"#000000\" stroke=\"#000000\" points=\"394.0678,-196.9405 398.4581,-187.2981 389.013,-192.098 394.0678,-196.9405\"/>\n<text text-anchor=\"middle\" x=\"398.9945\" y=\"-208.5923\" font-family=\"Helvetica,sans-Serif\" font-size=\"14.00\" fill=\"#000000\">False</text>\n</g>\n<!-- 2 -->\n<g id=\"node3\" class=\"node\">\n<title>2</title>\n<path fill=\"#e99254\" stroke=\"#000000\" d=\"M129,-68C129,-68 12,-68 12,-68 6,-68 0,-62 0,-56 0,-56 0,-12 0,-12 0,-6 6,0 12,0 12,0 129,0 129,0 135,0 141,-6 141,-12 141,-12 141,-56 141,-56 141,-62 135,-68 129,-68\"/>\n<text text-anchor=\"middle\" x=\"70.5\" y=\"-52.8\" font-family=\"Helvetica,sans-Serif\" font-size=\"14.00\" fill=\"#000000\">entropy = 0.534</text>\n<text text-anchor=\"middle\" x=\"70.5\" y=\"-37.8\" font-family=\"Helvetica,sans-Serif\" font-size=\"14.00\" fill=\"#000000\">samples = 288</text>\n<text text-anchor=\"middle\" x=\"70.5\" y=\"-22.8\" font-family=\"Helvetica,sans-Serif\" font-size=\"14.00\" fill=\"#000000\">value = [253, 35]</text>\n<text text-anchor=\"middle\" x=\"70.5\" y=\"-7.8\" font-family=\"Helvetica,sans-Serif\" font-size=\"14.00\" fill=\"#000000\">class = 0</text>\n</g>\n<!-- 1&#45;&gt;2 -->\n<g id=\"edge2\" class=\"edge\">\n<title>1&#45;&gt;2</title>\n<path fill=\"none\" stroke=\"#000000\" d=\"M158.9968,-103.9815C146.7934,-94.3313 133.819,-84.0714 121.6739,-74.4673\"/>\n<polygon fill=\"#000000\" stroke=\"#000000\" points=\"123.8438,-71.7211 113.829,-68.2637 119.5018,-77.2118 123.8438,-71.7211\"/>\n</g>\n<!-- 3 -->\n<g id=\"node4\" class=\"node\">\n<title>3</title>\n<path fill=\"#f8dbc7\" stroke=\"#000000\" d=\"M288,-68C288,-68 171,-68 171,-68 165,-68 159,-62 159,-56 159,-56 159,-12 159,-12 159,-6 165,0 171,0 171,0 288,0 288,0 294,0 300,-6 300,-12 300,-12 300,-56 300,-56 300,-62 294,-68 288,-68\"/>\n<text text-anchor=\"middle\" x=\"229.5\" y=\"-52.8\" font-family=\"Helvetica,sans-Serif\" font-size=\"14.00\" fill=\"#000000\">entropy = 0.981</text>\n<text text-anchor=\"middle\" x=\"229.5\" y=\"-37.8\" font-family=\"Helvetica,sans-Serif\" font-size=\"14.00\" fill=\"#000000\">samples = 189</text>\n<text text-anchor=\"middle\" x=\"229.5\" y=\"-22.8\" font-family=\"Helvetica,sans-Serif\" font-size=\"14.00\" fill=\"#000000\">value = [110, 79]</text>\n<text text-anchor=\"middle\" x=\"229.5\" y=\"-7.8\" font-family=\"Helvetica,sans-Serif\" font-size=\"14.00\" fill=\"#000000\">class = 0</text>\n</g>\n<!-- 1&#45;&gt;3 -->\n<g id=\"edge3\" class=\"edge\">\n<title>1&#45;&gt;3</title>\n<path fill=\"none\" stroke=\"#000000\" d=\"M218.2025,-103.9815C219.5527,-95.618 220.9768,-86.7965 222.3418,-78.3409\"/>\n<polygon fill=\"#000000\" stroke=\"#000000\" points=\"225.8301,-78.6937 223.9686,-68.2637 218.9196,-77.578 225.8301,-78.6937\"/>\n</g>\n<!-- 5 -->\n<g id=\"node6\" class=\"node\">\n<title>5</title>\n<path fill=\"#d7ebfa\" stroke=\"#000000\" d=\"M475.5,-68C475.5,-68 365.5,-68 365.5,-68 359.5,-68 353.5,-62 353.5,-56 353.5,-56 353.5,-12 353.5,-12 353.5,-6 359.5,0 365.5,0 365.5,0 475.5,0 475.5,0 481.5,0 487.5,-6 487.5,-12 487.5,-12 487.5,-56 487.5,-56 487.5,-62 481.5,-68 475.5,-68\"/>\n<text text-anchor=\"middle\" x=\"420.5\" y=\"-52.8\" font-family=\"Helvetica,sans-Serif\" font-size=\"14.00\" fill=\"#000000\">entropy = 0.991</text>\n<text text-anchor=\"middle\" x=\"420.5\" y=\"-37.8\" font-family=\"Helvetica,sans-Serif\" font-size=\"14.00\" fill=\"#000000\">samples = 54</text>\n<text text-anchor=\"middle\" x=\"420.5\" y=\"-22.8\" font-family=\"Helvetica,sans-Serif\" font-size=\"14.00\" fill=\"#000000\">value = [24, 30]</text>\n<text text-anchor=\"middle\" x=\"420.5\" y=\"-7.8\" font-family=\"Helvetica,sans-Serif\" font-size=\"14.00\" fill=\"#000000\">class = 1</text>\n</g>\n<!-- 4&#45;&gt;5 -->\n<g id=\"edge5\" class=\"edge\">\n<title>4&#45;&gt;5</title>\n<path fill=\"none\" stroke=\"#000000\" d=\"M431.7975,-103.9815C430.4473,-95.618 429.0232,-86.7965 427.6582,-78.3409\"/>\n<polygon fill=\"#000000\" stroke=\"#000000\" points=\"431.0804,-77.578 426.0314,-68.2637 424.1699,-78.6937 431.0804,-77.578\"/>\n</g>\n<!-- 6 -->\n<g id=\"node7\" class=\"node\">\n<title>6</title>\n<path fill=\"#5eafea\" stroke=\"#000000\" d=\"M627.5,-68C627.5,-68 517.5,-68 517.5,-68 511.5,-68 505.5,-62 505.5,-56 505.5,-56 505.5,-12 505.5,-12 505.5,-6 511.5,0 517.5,0 517.5,0 627.5,0 627.5,0 633.5,0 639.5,-6 639.5,-12 639.5,-12 639.5,-56 639.5,-56 639.5,-62 633.5,-68 627.5,-68\"/>\n<text text-anchor=\"middle\" x=\"572.5\" y=\"-52.8\" font-family=\"Helvetica,sans-Serif\" font-size=\"14.00\" fill=\"#000000\">entropy = 0.626</text>\n<text text-anchor=\"middle\" x=\"572.5\" y=\"-37.8\" font-family=\"Helvetica,sans-Serif\" font-size=\"14.00\" fill=\"#000000\">samples = 83</text>\n<text text-anchor=\"middle\" x=\"572.5\" y=\"-22.8\" font-family=\"Helvetica,sans-Serif\" font-size=\"14.00\" fill=\"#000000\">value = [13, 70]</text>\n<text text-anchor=\"middle\" x=\"572.5\" y=\"-7.8\" font-family=\"Helvetica,sans-Serif\" font-size=\"14.00\" fill=\"#000000\">class = 1</text>\n</g>\n<!-- 4&#45;&gt;6 -->\n<g id=\"edge6\" class=\"edge\">\n<title>4&#45;&gt;6</title>\n<path fill=\"none\" stroke=\"#000000\" d=\"M488.3967,-103.9815C499.8838,-94.4232 512.0897,-84.2668 523.5367,-74.7419\"/>\n<polygon fill=\"#000000\" stroke=\"#000000\" points=\"525.8739,-77.3503 531.3221,-68.2637 521.3965,-71.9695 525.8739,-77.3503\"/>\n</g>\n</g>\n</svg>\n",
      "text/plain": "<graphviz.sources.Source at 0x7f56481023d0>"
     },
     "metadata": {},
     "output_type": "display_data"
    },
    {
     "name": "stdout",
     "text": "Tree Number 10\nAccuracy: 0.7532467532467533\n/shared-libs/python3.7/py/lib/python3.7/site-packages/sklearn/utils/deprecation.py:87: FutureWarning: Function plot_confusion_matrix is deprecated; Function `plot_confusion_matrix` is deprecated in 1.0 and will be removed in 1.2. Use one of the class methods: ConfusionMatrixDisplay.from_predictions or ConfusionMatrixDisplay.from_estimator.\n  warnings.warn(msg, category=FutureWarning)\n",
     "output_type": "stream"
    },
    {
     "data": {
      "text/plain": "<Figure size 432x288 with 2 Axes>",
      "image/png": "[encoded data removed]"
     },
     "metadata": {
      "needs_background": "light",
      "image/png": {
       "width": 306,
       "height": 262
      }
     },
     "output_type": "display_data"
    },
    {
     "data": {
      "image/svg+xml": "<?xml version=\"1.0\" encoding=\"UTF-8\" standalone=\"no\"?>\n<!DOCTYPE svg PUBLIC \"-//W3C//DTD SVG 1.1//EN\"\n \"http://www.w3.org/Graphics/SVG/1.1/DTD/svg11.dtd\">\n<!-- Generated by graphviz version 2.40.1 (20161225.0304)\n -->\n<!-- Title: Tree Pages: 1 -->\n<svg width=\"614pt\" height=\"314pt\"\n viewBox=\"0.00 0.00 613.50 314.00\" xmlns=\"http://www.w3.org/2000/svg\" xmlns:xlink=\"http://www.w3.org/1999/xlink\">\n<g id=\"graph0\" class=\"graph\" transform=\"scale(1 1) rotate(0) translate(4 310)\">\n<title>Tree</title>\n<polygon fill=\"#ffffff\" stroke=\"transparent\" points=\"-4,4 -4,-310 609.5,-310 609.5,4 -4,4\"/>\n<!-- 0 -->\n<g id=\"node1\" class=\"node\">\n<title>0</title>\n<path fill=\"#f3c4a3\" stroke=\"#000000\" d=\"M371.5,-306C371.5,-306 245.5,-306 245.5,-306 239.5,-306 233.5,-300 233.5,-294 233.5,-294 233.5,-235 233.5,-235 233.5,-229 239.5,-223 245.5,-223 245.5,-223 371.5,-223 371.5,-223 377.5,-223 383.5,-229 383.5,-235 383.5,-235 383.5,-294 383.5,-294 383.5,-300 377.5,-306 371.5,-306\"/>\n<text text-anchor=\"middle\" x=\"308.5\" y=\"-290.8\" font-family=\"Helvetica,sans-Serif\" font-size=\"14.00\" fill=\"#000000\">Glucose &lt;= 127.5</text>\n<text text-anchor=\"middle\" x=\"308.5\" y=\"-275.8\" font-family=\"Helvetica,sans-Serif\" font-size=\"14.00\" fill=\"#000000\">entropy = 0.933</text>\n<text text-anchor=\"middle\" x=\"308.5\" y=\"-260.8\" font-family=\"Helvetica,sans-Serif\" font-size=\"14.00\" fill=\"#000000\">samples = 614</text>\n<text text-anchor=\"middle\" x=\"308.5\" y=\"-245.8\" font-family=\"Helvetica,sans-Serif\" font-size=\"14.00\" fill=\"#000000\">value = [400, 214]</text>\n<text text-anchor=\"middle\" x=\"308.5\" y=\"-230.8\" font-family=\"Helvetica,sans-Serif\" font-size=\"14.00\" fill=\"#000000\">class = 0</text>\n</g>\n<!-- 1 -->\n<g id=\"node2\" class=\"node\">\n<title>1</title>\n<path fill=\"#eba069\" stroke=\"#000000\" d=\"M286,-187C286,-187 169,-187 169,-187 163,-187 157,-181 157,-175 157,-175 157,-116 157,-116 157,-110 163,-104 169,-104 169,-104 286,-104 286,-104 292,-104 298,-110 298,-116 298,-116 298,-175 298,-175 298,-181 292,-187 286,-187\"/>\n<text text-anchor=\"middle\" x=\"227.5\" y=\"-171.8\" font-family=\"Helvetica,sans-Serif\" font-size=\"14.00\" fill=\"#000000\">Age &lt;= 27.5</text>\n<text text-anchor=\"middle\" x=\"227.5\" y=\"-156.8\" font-family=\"Helvetica,sans-Serif\" font-size=\"14.00\" fill=\"#000000\">entropy = 0.715</text>\n<text text-anchor=\"middle\" x=\"227.5\" y=\"-141.8\" font-family=\"Helvetica,sans-Serif\" font-size=\"14.00\" fill=\"#000000\">samples = 387</text>\n<text text-anchor=\"middle\" x=\"227.5\" y=\"-126.8\" font-family=\"Helvetica,sans-Serif\" font-size=\"14.00\" fill=\"#000000\">value = [311, 76]</text>\n<text text-anchor=\"middle\" x=\"227.5\" y=\"-111.8\" font-family=\"Helvetica,sans-Serif\" font-size=\"14.00\" fill=\"#000000\">class = 0</text>\n</g>\n<!-- 0&#45;&gt;1 -->\n<g id=\"edge1\" class=\"edge\">\n<title>0&#45;&gt;1</title>\n<path fill=\"none\" stroke=\"#000000\" d=\"M280.1701,-222.8796C274.2237,-214.1434 267.8914,-204.8404 261.755,-195.8253\"/>\n<polygon fill=\"#000000\" stroke=\"#000000\" points=\"264.4711,-193.5953 255.9508,-187.2981 258.6844,-197.5342 264.4711,-193.5953\"/>\n<text text-anchor=\"middle\" x=\"251.2843\" y=\"-208.1587\" font-family=\"Helvetica,sans-Serif\" font-size=\"14.00\" fill=\"#000000\">True</text>\n</g>\n<!-- 4 -->\n<g id=\"node5\" class=\"node\">\n<title>4</title>\n<path fill=\"#b9dcf6\" stroke=\"#000000\" d=\"M451,-187C451,-187 328,-187 328,-187 322,-187 316,-181 316,-175 316,-175 316,-116 316,-116 316,-110 322,-104 328,-104 328,-104 451,-104 451,-104 457,-104 463,-110 463,-116 463,-116 463,-175 463,-175 463,-181 457,-187 451,-187\"/>\n<text text-anchor=\"middle\" x=\"389.5\" y=\"-171.8\" font-family=\"Helvetica,sans-Serif\" font-size=\"14.00\" fill=\"#000000\">Glucose &lt;= 166.5</text>\n<text text-anchor=\"middle\" x=\"389.5\" y=\"-156.8\" font-family=\"Helvetica,sans-Serif\" font-size=\"14.00\" fill=\"#000000\">entropy = 0.966</text>\n<text text-anchor=\"middle\" x=\"389.5\" y=\"-141.8\" font-family=\"Helvetica,sans-Serif\" font-size=\"14.00\" fill=\"#000000\">samples = 227</text>\n<text text-anchor=\"middle\" x=\"389.5\" y=\"-126.8\" font-family=\"Helvetica,sans-Serif\" font-size=\"14.00\" fill=\"#000000\">value = [89, 138]</text>\n<text text-anchor=\"middle\" x=\"389.5\" y=\"-111.8\" font-family=\"Helvetica,sans-Serif\" font-size=\"14.00\" fill=\"#000000\">class = 1</text>\n</g>\n<!-- 0&#45;&gt;4 -->\n<g id=\"edge4\" class=\"edge\">\n<title>0&#45;&gt;4</title>\n<path fill=\"none\" stroke=\"#000000\" d=\"M336.8299,-222.8796C342.7763,-214.1434 349.1086,-204.8404 355.245,-195.8253\"/>\n<polygon fill=\"#000000\" stroke=\"#000000\" points=\"358.3156,-197.5342 361.0492,-187.2981 352.5289,-193.5953 358.3156,-197.5342\"/>\n<text text-anchor=\"middle\" x=\"365.7157\" y=\"-208.1587\" font-family=\"Helvetica,sans-Serif\" font-size=\"14.00\" fill=\"#000000\">False</text>\n</g>\n<!-- 2 -->\n<g id=\"node3\" class=\"node\">\n<title>2</title>\n<path fill=\"#e78a48\" stroke=\"#000000\" d=\"M129,-68C129,-68 12,-68 12,-68 6,-68 0,-62 0,-56 0,-56 0,-12 0,-12 0,-6 6,0 12,0 12,0 129,0 129,0 135,0 141,-6 141,-12 141,-12 141,-56 141,-56 141,-62 135,-68 129,-68\"/>\n<text text-anchor=\"middle\" x=\"70.5\" y=\"-52.8\" font-family=\"Helvetica,sans-Serif\" font-size=\"14.00\" fill=\"#000000\">entropy = 0.366</text>\n<text text-anchor=\"middle\" x=\"70.5\" y=\"-37.8\" font-family=\"Helvetica,sans-Serif\" font-size=\"14.00\" fill=\"#000000\">samples = 200</text>\n<text text-anchor=\"middle\" x=\"70.5\" y=\"-22.8\" font-family=\"Helvetica,sans-Serif\" font-size=\"14.00\" fill=\"#000000\">value = [186, 14]</text>\n<text text-anchor=\"middle\" x=\"70.5\" y=\"-7.8\" font-family=\"Helvetica,sans-Serif\" font-size=\"14.00\" fill=\"#000000\">class = 0</text>\n</g>\n<!-- 1&#45;&gt;2 -->\n<g id=\"edge2\" class=\"edge\">\n<title>1&#45;&gt;2</title>\n<path fill=\"none\" stroke=\"#000000\" d=\"M169.039,-103.9815C155.2492,-94.1881 140.5753,-83.7668 126.8795,-74.0402\"/>\n<polygon fill=\"#000000\" stroke=\"#000000\" points=\"128.6747,-71.0223 118.495,-68.0856 124.6215,-76.7295 128.6747,-71.0223\"/>\n</g>\n<!-- 3 -->\n<g id=\"node4\" class=\"node\">\n<title>3</title>\n<path fill=\"#f2bf9b\" stroke=\"#000000\" d=\"M288,-68C288,-68 171,-68 171,-68 165,-68 159,-62 159,-56 159,-56 159,-12 159,-12 159,-6 165,0 171,0 171,0 288,0 288,0 294,0 300,-6 300,-12 300,-12 300,-56 300,-56 300,-62 294,-68 288,-68\"/>\n<text text-anchor=\"middle\" x=\"229.5\" y=\"-52.8\" font-family=\"Helvetica,sans-Serif\" font-size=\"14.00\" fill=\"#000000\">entropy = 0.917</text>\n<text text-anchor=\"middle\" x=\"229.5\" y=\"-37.8\" font-family=\"Helvetica,sans-Serif\" font-size=\"14.00\" fill=\"#000000\">samples = 187</text>\n<text text-anchor=\"middle\" x=\"229.5\" y=\"-22.8\" font-family=\"Helvetica,sans-Serif\" font-size=\"14.00\" fill=\"#000000\">value = [125, 62]</text>\n<text text-anchor=\"middle\" x=\"229.5\" y=\"-7.8\" font-family=\"Helvetica,sans-Serif\" font-size=\"14.00\" fill=\"#000000\">class = 0</text>\n</g>\n<!-- 1&#45;&gt;3 -->\n<g id=\"edge3\" class=\"edge\">\n<title>1&#45;&gt;3</title>\n<path fill=\"none\" stroke=\"#000000\" d=\"M228.2447,-103.9815C228.3947,-95.618 228.553,-86.7965 228.7046,-78.3409\"/>\n<polygon fill=\"#000000\" stroke=\"#000000\" points=\"232.2054,-78.3249 228.8854,-68.2637 225.2065,-78.1993 232.2054,-78.3249\"/>\n</g>\n<!-- 5 -->\n<g id=\"node6\" class=\"node\">\n<title>5</title>\n<path fill=\"#fdfeff\" stroke=\"#000000\" d=\"M441.5,-68C441.5,-68 333.5,-68 333.5,-68 327.5,-68 321.5,-62 321.5,-56 321.5,-56 321.5,-12 321.5,-12 321.5,-6 327.5,0 333.5,0 333.5,0 441.5,0 441.5,0 447.5,0 453.5,-6 453.5,-12 453.5,-12 453.5,-56 453.5,-56 453.5,-62 447.5,-68 441.5,-68\"/>\n<text text-anchor=\"middle\" x=\"387.5\" y=\"-52.8\" font-family=\"Helvetica,sans-Serif\" font-size=\"14.00\" fill=\"#000000\">entropy = 1.0</text>\n<text text-anchor=\"middle\" x=\"387.5\" y=\"-37.8\" font-family=\"Helvetica,sans-Serif\" font-size=\"14.00\" fill=\"#000000\">samples = 163</text>\n<text text-anchor=\"middle\" x=\"387.5\" y=\"-22.8\" font-family=\"Helvetica,sans-Serif\" font-size=\"14.00\" fill=\"#000000\">value = [81, 82]</text>\n<text text-anchor=\"middle\" x=\"387.5\" y=\"-7.8\" font-family=\"Helvetica,sans-Serif\" font-size=\"14.00\" fill=\"#000000\">class = 1</text>\n</g>\n<!-- 4&#45;&gt;5 -->\n<g id=\"edge5\" class=\"edge\">\n<title>4&#45;&gt;5</title>\n<path fill=\"none\" stroke=\"#000000\" d=\"M388.7553,-103.9815C388.6053,-95.618 388.447,-86.7965 388.2954,-78.3409\"/>\n<polygon fill=\"#000000\" stroke=\"#000000\" points=\"391.7935,-78.1993 388.1146,-68.2637 384.7946,-78.3249 391.7935,-78.1993\"/>\n</g>\n<!-- 6 -->\n<g id=\"node7\" class=\"node\">\n<title>6</title>\n<path fill=\"#55abe9\" stroke=\"#000000\" d=\"M593.5,-68C593.5,-68 483.5,-68 483.5,-68 477.5,-68 471.5,-62 471.5,-56 471.5,-56 471.5,-12 471.5,-12 471.5,-6 477.5,0 483.5,0 483.5,0 593.5,0 593.5,0 599.5,0 605.5,-6 605.5,-12 605.5,-12 605.5,-56 605.5,-56 605.5,-62 599.5,-68 593.5,-68\"/>\n<text text-anchor=\"middle\" x=\"538.5\" y=\"-52.8\" font-family=\"Helvetica,sans-Serif\" font-size=\"14.00\" fill=\"#000000\">entropy = 0.544</text>\n<text text-anchor=\"middle\" x=\"538.5\" y=\"-37.8\" font-family=\"Helvetica,sans-Serif\" font-size=\"14.00\" fill=\"#000000\">samples = 64</text>\n<text text-anchor=\"middle\" x=\"538.5\" y=\"-22.8\" font-family=\"Helvetica,sans-Serif\" font-size=\"14.00\" fill=\"#000000\">value = [8, 56]</text>\n<text text-anchor=\"middle\" x=\"538.5\" y=\"-7.8\" font-family=\"Helvetica,sans-Serif\" font-size=\"14.00\" fill=\"#000000\">class = 1</text>\n</g>\n<!-- 4&#45;&gt;6 -->\n<g id=\"edge6\" class=\"edge\">\n<title>4&#45;&gt;6</title>\n<path fill=\"none\" stroke=\"#000000\" d=\"M444.9821,-103.9815C457.8779,-94.3313 471.5884,-84.0714 484.4227,-74.4673\"/>\n<polygon fill=\"#000000\" stroke=\"#000000\" points=\"486.8032,-77.0574 492.7127,-68.2637 482.6092,-71.4528 486.8032,-77.0574\"/>\n</g>\n</g>\n</svg>\n",
      "text/plain": "<graphviz.sources.Source at 0x7f5647febdd0>"
     },
     "metadata": {},
     "output_type": "display_data"
    }
   ],
   "execution_count": null
  },
  {
   "cell_type": "markdown",
   "source": "Percebe-se que as árvores criadas a partir dos dados separados de forma estratificada tem muito menos variação que as anteriores. Essas árvores possuem acurácias variando entre 0,71 a 0,75. Ainda, o valor mais pessimista dessas árvores ultrapassa o desempenho da baseline criada no experimento A.\n\nAlém disso, com os plots da matriz de confusão há uma clara diferença entre os acertos em uma classe para outra no método sem estratificação. Os modelos parecem entender mais instâncias que são da classe 0(não tem diabetes) do que a classe 1 (tem diabetes). Por outro lado, na versão estratificada, os modelos tem um comportamento bem parecido de acertos por categoria, fomentando ainda mais o argumento de que o balanceamento das classes tem um papel muito importante no poder de generalização dos modelos preditivos.",
   "metadata": {
    "cell_id": "140b3a49-ec7a-4692-8be4-69034d6d3023",
    "tags": [],
    "deepnote_app_coordinates": {
     "x": 0,
     "y": 372,
     "w": 12,
     "h": 5
    },
    "deepnote_cell_type": "markdown"
   }
  },
  {
   "cell_type": "markdown",
   "source": "Na estrutura das árvores, não há muita diferença. Apenas observa-se que combinações de atributos glicose, idade e/ou BMI, parecem ser fatores decisivos nas predições do modelo. ",
   "metadata": {
    "cell_id": "3deb13f9-c9ef-4914-9192-4bcea09dea0b",
    "tags": [],
    "deepnote_app_coordinates": {
     "x": 0,
     "y": 0,
     "w": 12,
     "h": 5
    },
    "deepnote_cell_type": "markdown"
   }
  },
  {
   "cell_type": "markdown",
   "source": "<a style='text-decoration:none;line-height:16px;display:flex;color:#5B5B62;padding:10px;justify-content:end;' href='https://deepnote.com?utm_source=created-in-deepnote-cell&projectId=908df4fb-3720-4462-a819-7a942e67f8a1' target=\"_blank\">\n<img alt='Created in deepnote.com' style='display:inline;max-height:16px;margin:0px;margin-right:7.5px;' src='data:image/svg+xml;base64,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' > </img>\nCreated in <span style='font-weight:600;margin-left:4px;'>Deepnote</span></a>",
   "metadata": {
    "tags": [],
    "created_in_deepnote_cell": true,
    "deepnote_cell_type": "markdown"
   }
  }
 ],
 "nbformat": 4,
 "nbformat_minor": 2,
 "metadata": {
  "orig_nbformat": 2,
  "deepnote": {
   "is_reactive": false
  },
  "deepnote_notebook_id": "f8437624-a394-4073-8815-7a964be33ff9",
  "deepnote_execution_queue": [],
  "deepnote_app_layout": "article"
 }
}