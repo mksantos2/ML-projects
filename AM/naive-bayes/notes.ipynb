{
 "cells": [
  {
   "cell_type": "markdown",
   "source": "# Atividade prática: Questionário Naïve Bayes",
   "metadata": {
    "cell_id": "d0f78bc5-ccfd-430f-82d7-97583f3df59f",
    "tags": [],
    "is_collapsed": false,
    "deepnote_app_coordinates": {
     "x": 0,
     "y": null,
     "w": 12,
     "h": 5
    },
    "deepnote_cell_type": "text-cell-h1"
   }
  },
  {
   "cell_type": "markdown",
   "source": "-------------\n\\\nMoniele Kunrath Santos",
   "metadata": {
    "cell_id": "6c870ff0-ed8f-43dc-9191-eccaf1f2a0e0",
    "tags": [],
    "deepnote_app_coordinates": {
     "x": 0,
     "y": 6,
     "w": 12,
     "h": 5
    },
    "deepnote_cell_type": "markdown"
   }
  },
  {
   "cell_type": "markdown",
   "source": "Os dados abaixo se referem às características de carros à venda e sua categorização de acordo com a aceitação por parte de potenciais clientes.  A classe está codificada na coluna target  e pode ter o valor acc (maior chance de aceitação pelo mercado) ou unacc (menor chance de aceitação pelo mercado). As características analisadas são o preço de venda do veículo (atributo price, com valores low, medium, high), tamanho do porta malas (atributo lug_boot, com valores small, med, big) e o grau de segurança do carro (atributo safety, com valores low, medium, high). A proposta é desenvolver um modelo com o algoritmo Naïve Bayes capaz de classificar um carro entre maior ou menor aceitação pelo mercado (classe acc ou unacc, respectivamente) a partir destas três características analisadas. ",
   "metadata": {
    "cell_id": "b929f306-ac9d-4086-b8aa-b40f11c6a32b",
    "tags": [],
    "deepnote_app_coordinates": {
     "x": 0,
     "y": 90,
     "w": 12,
     "h": 5
    },
    "deepnote_cell_type": "markdown"
   }
  },
  {
   "cell_type": "markdown",
   "source": "![Picture title](image-20220208-125546.png)",
   "metadata": {
    "cell_id": "9447bb97-36b5-4277-8282-d4405db5123b",
    "tags": [],
    "deepnote_app_coordinates": {
     "x": 0,
     "y": 150,
     "w": 12,
     "h": 26
    },
    "deepnote_cell_type": "markdown"
   }
  },
  {
   "cell_type": "markdown",
   "source": "Analise os dados e as afirmativas abaixo e indique quais destas se refere a uma afirmativa **INCORRETA**. Nos seus cálculos, assuma os dados como são mostrados abaixo, sem a correção de Laplace.",
   "metadata": {
    "cell_id": "e83a3e3f-0173-4042-a2b5-7e190b7dd8bc",
    "tags": [],
    "deepnote_app_coordinates": {
     "x": 0,
     "y": 18,
     "w": 12,
     "h": 5
    },
    "deepnote_cell_type": "markdown"
   }
  },
  {
   "cell_type": "markdown",
   "source": "### Afirmação I",
   "metadata": {
    "cell_id": "38851e31-10fc-4e1d-9242-f4817ddebc74",
    "tags": [],
    "is_collapsed": false,
    "deepnote_app_coordinates": {
     "x": 0,
     "y": 24,
     "w": 12,
     "h": 5
    },
    "deepnote_cell_type": "text-cell-h3"
   }
  },
  {
   "cell_type": "markdown",
   "source": "\n##### A priori, isto é,  sem considerar os atributos de cada instância, é menos provável que uma nova instância seja da classe acc do que da classe unacc.",
   "metadata": {
    "cell_id": "9a6ba1c9-676c-48b3-b23d-6f8a1b6e5607",
    "tags": [],
    "deepnote_app_coordinates": {
     "x": 0,
     "y": 30,
     "w": 12,
     "h": 5
    },
    "deepnote_cell_type": "markdown"
   }
  },
  {
   "cell_type": "markdown",
   "source": "- 25 carros\n    - 10 carros aceitáveis\n    - 15 carros rejeitáveis\n\nLogo,\n\n    P(acc) = 10/25 = 0,4\n    P(unacc) = 15/25 = 0,6",
   "metadata": {
    "cell_id": "db21d4df-d938-4cb4-9430-c59906e92497",
    "tags": [],
    "deepnote_app_coordinates": {
     "x": 0,
     "y": 84,
     "w": 12,
     "h": 5
    },
    "deepnote_cell_type": "markdown"
   }
  },
  {
   "cell_type": "markdown",
   "source": "Afirmação **verdadeira**. Há uma probabilidade de 60% de que a instância seja da classe `unacc`.",
   "metadata": {
    "cell_id": "c9b9fbfc-682e-4307-969b-ddb8ac382b16",
    "tags": [],
    "deepnote_app_coordinates": {
     "x": 0,
     "y": 96,
     "w": 12,
     "h": 5
    },
    "deepnote_cell_type": "markdown"
   }
  },
  {
   "cell_type": "markdown",
   "source": "### Afirmação II",
   "metadata": {
    "cell_id": "e908e52b-9a09-4e20-9fbe-3dde570e656b",
    "tags": [],
    "is_collapsed": false,
    "deepnote_app_coordinates": {
     "x": 0,
     "y": 36,
     "w": 12,
     "h": 5
    },
    "deepnote_cell_type": "text-cell-h3"
   }
  },
  {
   "cell_type": "markdown",
   "source": "\n##### O modelo Naïve Bayes considera que os atributos price, lug_boot e safety são estatisticamente independentes uns dos outros condicionado ao valor da classe (acc ou unacc).",
   "metadata": {
    "cell_id": "00006-f42d3db9-304f-4faf-9df4-2777b9c26894",
    "tags": [],
    "deepnote_app_coordinates": {
     "x": 0,
     "y": 42,
     "w": 12,
     "h": 5
    },
    "deepnote_cell_type": "markdown"
   }
  },
  {
   "cell_type": "markdown",
   "source": "Afirmação **verdadeira**. O modelo é inspirado no teorema probabilístico criado por Thomas Bayes, que estipula tratar os eventos de forma independente um dos outros. Isto é, a probabilidade da observação de um atributo não afeta a probabilidade da observação de um outro atributo. ",
   "metadata": {
    "cell_id": "0a930675-e5e0-4672-8129-b9ee5b71f1bc",
    "tags": [],
    "deepnote_app_coordinates": {
     "x": 0,
     "y": 102,
     "w": 12,
     "h": 5
    },
    "deepnote_cell_type": "markdown"
   }
  },
  {
   "cell_type": "markdown",
   "source": "### Afirmação III",
   "metadata": {
    "cell_id": "00007-0bc50b70-22e8-45ad-9de8-f42ef4e17e78",
    "tags": [],
    "is_collapsed": false,
    "deepnote_app_coordinates": {
     "x": 0,
     "y": 48,
     "w": 12,
     "h": 5
    },
    "deepnote_cell_type": "text-cell-h3"
   }
  },
  {
   "cell_type": "markdown",
   "source": "\n##### A probabilidade condicional do atributo lug_boot igual à \"med\" é maior para a classe acc do que para a classe unacc. Isto é, $P(lugBoot=med|target=acc) > $ $P(lugBoot=med|target=unacc)$.",
   "metadata": {
    "cell_id": "00007-7d221ee4-f14b-4a87-ab06-cc667edab285",
    "tags": [],
    "deepnote_app_coordinates": {
     "x": 0,
     "y": 54,
     "w": 12,
     "h": 5
    },
    "deepnote_cell_type": "markdown"
   }
  },
  {
   "cell_type": "markdown",
   "source": "$$$\nP(lugBoot=med|target=acc) = 4/10 = 0,4\n$$$\n$$$\nP(lugBoot=med|target=unacc) = 4/15 = 0,27\n$$$\n$$$\nP(lugBoot=med|target=acc) > P(lugBoot=med|target=unacc)\n$$$\n$$$\n0,4 > 0,27\n$$$\n\n\n\n    ",
   "metadata": {
    "cell_id": "a798a099-fe25-4bc5-9edf-4650714f3a2b",
    "tags": [],
    "deepnote_app_coordinates": {
     "x": 0,
     "y": 108,
     "w": 12,
     "h": 5
    },
    "deepnote_cell_type": "markdown"
   }
  },
  {
   "cell_type": "markdown",
   "source": "Afirmação **verdadeira**.",
   "metadata": {
    "cell_id": "caf56e99-ef81-44b4-b7d0-d2f15b2088e2",
    "tags": [],
    "deepnote_app_coordinates": {
     "x": 0,
     "y": 138,
     "w": 12,
     "h": 5
    },
    "deepnote_cell_type": "markdown"
   }
  },
  {
   "cell_type": "markdown",
   "source": "### Afirmação IV",
   "metadata": {
    "cell_id": "00008-fbc957b2-e17f-4634-9458-d43586e46f3b",
    "tags": [],
    "is_collapsed": false,
    "deepnote_app_coordinates": {
     "x": 0,
     "y": 60,
     "w": 12,
     "h": 5
    },
    "deepnote_cell_type": "text-cell-h3"
   }
  },
  {
   "cell_type": "markdown",
   "source": "\n##### Nenhuma instância com o atributo safety = low seria predita como acc (aceitável) por este classificador pelo problema da probabilidade zero. Isto é, com base nestes dados de treinamento, $P(safety=low|target=acc) = 0$.",
   "metadata": {
    "cell_id": "00008-16a7a679-b152-4b6b-98df-37373d654268",
    "tags": [],
    "deepnote_app_coordinates": {
     "x": 0,
     "y": 66,
     "w": 12,
     "h": 5
    },
    "deepnote_cell_type": "markdown"
   }
  },
  {
   "cell_type": "markdown",
   "source": "$$$\nP(safety=low | target=acc) = 0/10 = 0",
   "metadata": {
    "cell_id": "92261161-77f3-4538-a86c-4bf3b719ba9c",
    "tags": [],
    "deepnote_app_coordinates": {
     "x": 0,
     "y": 114,
     "w": 12,
     "h": 5
    },
    "deepnote_cell_type": "markdown"
   }
  },
  {
   "cell_type": "markdown",
   "source": "Afirmação **verdadeira**, pois não há ocorrência de pelo menos uma instância de treinamento que tenha `safety=low` classificado como aceitável.",
   "metadata": {
    "cell_id": "ad673849-4547-4a64-ad68-503a66a56151",
    "tags": [],
    "deepnote_app_coordinates": {
     "x": 0,
     "y": 120,
     "w": 12,
     "h": 5
    },
    "deepnote_cell_type": "markdown"
   }
  },
  {
   "cell_type": "markdown",
   "source": "### Afirmação V",
   "metadata": {
    "cell_id": "00009-c1f066a7-481f-44e4-aa54-29744f213a15",
    "tags": [],
    "is_collapsed": false,
    "deepnote_app_coordinates": {
     "x": 0,
     "y": 72,
     "w": 12,
     "h": 5
    },
    "deepnote_cell_type": "text-cell-h3"
   }
  },
  {
   "cell_type": "markdown",
   "source": "\n##### As estimativas das probabilidades a posteriori para uma nova instância $x_t$ com atributos price=high, lug_boot=med e safety=med seriam aproximadamente $P(target=acc|x_t) = 0.019$  e  $P(target=unacc|x_t) = 0.021$. Portanto, esta instância será classificada como unacc pelo modelo.",
   "metadata": {
    "cell_id": "00009-533b25c3-4aae-4953-95c4-5b9989d758bd",
    "tags": [],
    "deepnote_app_coordinates": {
     "x": 0,
     "y": 78,
     "w": 12,
     "h": 5
    },
    "deepnote_cell_type": "markdown"
   }
  },
  {
   "cell_type": "markdown",
   "source": "```\n->Instância x_t com atributos price=high, lug_boot=med e safety=med\n\nproduto_acc = $1 \nproduto_unacc = 1\n\nP(price=high | acc) = 2/10 = 0,2\nP(price=high | unacc) = 5/15 = 0,33\n\nproduto_acc = 1 * 0,2 = 0,2\nproduto_unacc = 1 * 0,33 = 0,33\n\nP(lug_boot=med | acc) = 4/10 = 0,4\nP(lug_boot=med | unacc) = 4/15 = 0,27\n\nproduto_acc = 0,2 * 0,4 = 0,08\nproduto_unacc = 0,33 * 0,27 = 0,0891\n\nP(safety=med | acc) = 6/10 = 0,6\nP(safety=med | unacc) = 6/15 = 0,4\n\nproduto_acc = 0,08 * 0,6 = 0,048\nproduto_unacc = 0,0891 * 0,4 = 0,03564\n\n```",
   "metadata": {
    "cell_id": "649dd1a4-c6e9-48a8-b3bd-2fb8f9f67023",
    "tags": [],
    "deepnote_app_coordinates": {
     "x": 0,
     "y": 126,
     "w": 12,
     "h": 5
    },
    "deepnote_cell_type": "markdown"
   }
  },
  {
   "cell_type": "markdown",
   "source": "$$$ \nP(target=acc|x_t) = produtoAcc * P(target=acc)\n$$$\n$$$\nP(target=unacc|x_t) = produtoUnacc * P(target=unacc)\n\n$$$\n$$$\nP(target=acc|x_t) = 0,048 * 0,4 = 0,0192\n$$$\n$$$\nP(target=unacc|x_t) = 0,03564 * 0,6 = 0,0213\n$$$",
   "metadata": {
    "cell_id": "8b38a568-4053-4486-afac-3e49679664f1",
    "tags": [],
    "deepnote_app_coordinates": {
     "x": 0,
     "y": 132,
     "w": 12,
     "h": 5
    },
    "deepnote_cell_type": "markdown"
   }
  },
  {
   "cell_type": "markdown",
   "source": "Afirmação **verdadeira**. A estimativa de $x$ ser rejeitável é maior do que a de ser aceitável.",
   "metadata": {
    "cell_id": "5037097d-1df5-4300-bf22-ccb506502436",
    "tags": [],
    "deepnote_app_coordinates": {
     "x": 0,
     "y": 144,
     "w": 12,
     "h": 5
    },
    "deepnote_cell_type": "markdown"
   }
  },
  {
   "cell_type": "markdown",
   "source": "<a style='text-decoration:none;line-height:16px;display:flex;color:#5B5B62;padding:10px;justify-content:end;' href='https://deepnote.com?utm_source=created-in-deepnote-cell&projectId=908df4fb-3720-4462-a819-7a942e67f8a1' target=\"_blank\">\n<img alt='Created in deepnote.com' style='display:inline;max-height:16px;margin:0px;margin-right:7.5px;' src='data:image/svg+xml;base64,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' > </img>\nCreated in <span style='font-weight:600;margin-left:4px;'>Deepnote</span></a>",
   "metadata": {
    "tags": [],
    "created_in_deepnote_cell": true,
    "deepnote_cell_type": "markdown"
   }
  }
 ],
 "nbformat": 4,
 "nbformat_minor": 2,
 "metadata": {
  "orig_nbformat": 2,
  "deepnote": {
   "is_reactive": false
  },
  "deepnote_notebook_id": "72a2fa42-b390-4c80-9749-67f31d25be50",
  "deepnote_execution_queue": [],
  "deepnote_app_layout": "article"
 }
}