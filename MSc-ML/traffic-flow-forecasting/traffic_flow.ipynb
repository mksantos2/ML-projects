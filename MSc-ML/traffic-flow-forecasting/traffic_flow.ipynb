{
  "cells": [
    {
      "cell_type": "markdown",
      "source": [
        "# Traffic Flow Forecasting"
      ],
      "metadata": {
        "cell_id": "c1b90252f7de4b8aab342774f273cefa",
        "tags": [],
        "is_collapsed": false,
        "deepnote_cell_type": "text-cell-h1",
        "id": "2ZTylcKziYzn"
      }
    },
    {
      "cell_type": "markdown",
      "source": [
        "## Objective "
      ],
      "metadata": {
        "cell_id": "e2f19a904de6431880112ec666a765f7",
        "tags": [],
        "is_collapsed": false,
        "deepnote_cell_type": "text-cell-h2",
        "id": "A0eS2vHCiYzs"
      }
    },
    {
      "cell_type": "markdown",
      "source": [
        "Competition main goal is to **forecast the traffic flow in a major U.S. metropolitan area** and model interactions across a network of roadways, using a time series labelled dataset with both location coordinates and a direction of travel.\n",
        "\n",
        "Dataset from: https://www.kaggle.com/competitions/tabular-playground-series-mar-2022/overview"
      ],
      "metadata": {
        "cell_id": "8f32684df9084f10a9dc3818ba133cd6",
        "tags": [],
        "deepnote_cell_type": "markdown",
        "deepnote_cell_height": 111.09375,
        "id": "sxvuXeCtiYzt"
      }
    },
    {
      "cell_type": "markdown",
      "source": [
        "## Dataset Descriptions\n",
        "`train.csv` : the training set, comprising measurements of traffic congestion across 65 roadways from April through September of 1991. \n",
        "- row_id: a unique identifier for this instance \n",
        "- time: the 20-minute period in which each measurement was taken \n",
        "- x: the east-west midpoint coordinate of the roadway \n",
        "- y: the north-south midpoint coordinate of the roadway \n",
        "- direction: the direction of travel of the roadway. EB indicates \"eastbound\" travel, for example, while SW indicates a \"southwest\" direction of travel congestion \n",
        "- congestion: levels for the roadway during each hour; the target. The congestion measurements have been normalized to the range 0 to 100.\n",
        "`test.csv` : the test set; you will make hourly predictions for roadways identified by a coordinate location and a direction of travel on the day of 1991-09-30.\n",
        "\n",
        "`sample_submission.csv` : a sample submission file in the correct format."
      ],
      "metadata": {
        "cell_id": "eee80189e2fc4558819bda56ce185bbe",
        "tags": [],
        "deepnote_cell_type": "markdown",
        "deepnote_cell_height": 433.90625,
        "id": "FeKgZYx0iYzu"
      }
    },
    {
      "cell_type": "code",
      "metadata": {
        "cell_id": "30460e301a0241f1b5e92b367478ef68",
        "tags": [],
        "deepnote_to_be_reexecuted": false,
        "source_hash": "83594429",
        "execution_start": 1649513664457,
        "execution_millis": 1,
        "is_output_hidden": true,
        "deepnote_cell_type": "code",
        "deepnote_cell_height": 111.703125,
        "id": "yXlzCVWGiYzv"
      },
      "source": [
        "#!pip install kaggle"
      ],
      "execution_count": null,
      "outputs": []
    },
    {
      "cell_type": "code",
      "source": [
        "!mkdir ~/.kaggle\n",
        "!cp /content/kaggle.json ~/.kaggle/kaggle.json"
      ],
      "metadata": {
        "id": "8ei4RcTHi-LT"
      },
      "execution_count": null,
      "outputs": []
    },
    {
      "cell_type": "code",
      "metadata": {
        "cell_id": "24a93b7bd1ee41b485f932a555756569",
        "tags": [],
        "deepnote_to_be_reexecuted": false,
        "source_hash": "c11f0fed",
        "execution_start": 1649513664458,
        "execution_millis": 1,
        "deepnote_cell_type": "code",
        "deepnote_cell_height": 80.9375,
        "id": "k0DJ3Eb8iYzw"
      },
      "source": [
        "!cp /content/kaggle.json ~/.kaggle/kaggle.json"
      ],
      "execution_count": null,
      "outputs": []
    },
    {
      "cell_type": "code",
      "metadata": {
        "tags": [],
        "cell_id": "90b8eaec-c57b-40be-8643-0a711093c3f9",
        "deepnote_to_be_reexecuted": false,
        "source_hash": "9b88fb31",
        "execution_start": 1649513664459,
        "execution_millis": 0,
        "is_output_hidden": true,
        "deepnote_cell_type": "code",
        "deepnote_cell_height": 111.703125,
        "colab": {
          "base_uri": "https://localhost:8080/"
        },
        "id": "Gz1rH6KwiYzw",
        "outputId": "75fe8548-3c47-45f0-b985-f780b8b2c485"
      },
      "source": [
        "!kaggle competitions download -c tabular-playground-series-mar-2022"
      ],
      "execution_count": null,
      "outputs": [
        {
          "output_type": "stream",
          "name": "stdout",
          "text": [
            "Warning: Your Kaggle API key is readable by other users on this system! To fix this, you can run 'chmod 600 /root/.kaggle/kaggle.json'\n",
            "Downloading tabular-playground-series-mar-2022.zip to /content\n",
            "100% 4.71M/4.71M [00:00<00:00, 13.8MB/s]\n",
            "100% 4.71M/4.71M [00:00<00:00, 13.7MB/s]\n"
          ]
        }
      ]
    },
    {
      "cell_type": "code",
      "metadata": {
        "cell_id": "4f7ed2f5e7c943deaa3a952f61c0e91b",
        "tags": [],
        "deepnote_to_be_reexecuted": false,
        "source_hash": "e5ebedc9",
        "execution_start": 1649513664462,
        "execution_millis": 5,
        "is_output_hidden": true,
        "deepnote_cell_type": "code",
        "deepnote_cell_height": 111.703125,
        "colab": {
          "base_uri": "https://localhost:8080/"
        },
        "id": "Sgjwv8D0iYzx",
        "outputId": "32b52543-e5f6-4938-f4cc-638deff9da72"
      },
      "source": [
        "!unzip /content/tabular-playground-series-mar-2022.zip -d /dados/"
      ],
      "execution_count": null,
      "outputs": [
        {
          "output_type": "stream",
          "name": "stdout",
          "text": [
            "Archive:  /content/tabular-playground-series-mar-2022.zip\n",
            "  inflating: /dados/sample_submission.csv  \n",
            "  inflating: /dados/test.csv         \n",
            "  inflating: /dados/train.csv        \n"
          ]
        }
      ]
    },
    {
      "cell_type": "code",
      "metadata": {
        "cell_id": "8604617e7c394eb0a3e613a4387e0f3a",
        "tags": [],
        "deepnote_to_be_reexecuted": false,
        "source_hash": "3031b8ac",
        "execution_start": 1649729498489,
        "execution_millis": 4020,
        "deepnote_cell_type": "code",
        "deepnote_cell_height": 314.9375,
        "id": "kWT8V4IeiYzx"
      },
      "source": [
        "# imports\n",
        "\n",
        "import pandas as pd\n",
        "import numpy as np\n",
        "import random\n",
        "from sklearn.preprocessing import LabelEncoder\n",
        "import matplotlib.pyplot as plt\n",
        "from matplotlib.ticker import MaxNLocator\n",
        "import datetime\n",
        "import seaborn as sns\n",
        "\n",
        "from sklearn.ensemble import RandomForestRegressor\n",
        "from sklearn.ensemble import GradientBoostingRegressor\n",
        "from sklearn.neural_network import MLPRegressor\n",
        "from sklearn.ensemble import HistGradientBoostingRegressor\n",
        "import xgboost as xgb\n",
        "from sklearn.pipeline import make_pipeline\n",
        "from sklearn.metrics import mean_absolute_error, mean_squared_error\n",
        "\n",
        "from sklearn.impute import KNNImputer\n",
        "# DateTime\n",
        "from datetime import datetime, date, time\n",
        "import holidays\n",
        "from sklearn.preprocessing import OneHotEncoder\n",
        "from sklearn.tree import DecisionTreeRegressor"
      ],
      "execution_count": null,
      "outputs": []
    },
    {
      "cell_type": "markdown",
      "source": [
        "### Loading the data"
      ],
      "metadata": {
        "cell_id": "edbf26ba38734981814e55afdd5eddf4",
        "tags": [],
        "is_collapsed": false,
        "deepnote_cell_type": "text-cell-h3",
        "id": "V-81t6CTiYzy"
      }
    },
    {
      "cell_type": "code",
      "metadata": {
        "cell_id": "dcbce99584e4457d829ae7bec4d51306",
        "tags": [],
        "deepnote_to_be_reexecuted": false,
        "source_hash": "b3b10912",
        "execution_start": 1649729502510,
        "execution_millis": 930,
        "deepnote_cell_type": "code",
        "deepnote_cell_height": 152.9375,
        "id": "2iRQuCofiYzz"
      },
      "source": [
        "data = pd.read_csv('/dados/train.csv')\n",
        "#train_original = pd.read_csv('/work/ML-projects/MSc-ML/traffic-flow-forecasting/dados/train.csv')\n",
        "#test_df = pd.read_csv('/work/ML-projects/MSc-ML/traffic-flow-forecasting/dados/test.csv')\n",
        "# converting time column into datatime type\n",
        "data[\"time\"] = pd.to_datetime(data[\"time\"])\n"
      ],
      "execution_count": null,
      "outputs": []
    },
    {
      "cell_type": "markdown",
      "source": [
        "### Dataset separation into train, validation and test "
      ],
      "metadata": {
        "id": "QSQNIPqRyi4v"
      }
    },
    {
      "cell_type": "markdown",
      "source": [
        "Splitting the data into train and test. **The training dataset contains timestamps from April to July, validation has timestamps of August and the test dataset has only the month of September**."
      ],
      "metadata": {
        "cell_id": "156405b2f9e94b10876730006eb418e1",
        "tags": [],
        "deepnote_cell_type": "markdown",
        "deepnote_cell_height": 74.703125,
        "id": "DSr-H1f9iYzz"
      }
    },
    {
      "cell_type": "code",
      "source": [
        "train_df = pd.DataFrame(data[data.time.dt.month < 8])\n",
        "valid_df = pd.DataFrame(data[data.time.dt.month == 8])\n",
        "test_df = pd.DataFrame(data[data.time.dt.month == 9])"
      ],
      "metadata": {
        "id": "lA8ZSM7gyiUk"
      },
      "execution_count": null,
      "outputs": []
    },
    {
      "cell_type": "code",
      "source": [
        "test_df[0:50]"
      ],
      "metadata": {
        "colab": {
          "base_uri": "https://localhost:8080/",
          "height": 1000
        },
        "id": "11P5yW53sLnW",
        "outputId": "996d4b5b-dc51-451e-8975-5fa1d5cdbb7b"
      },
      "execution_count": null,
      "outputs": [
        {
          "output_type": "execute_result",
          "data": {
            "text/plain": [
              "        row_id       time  x  y direction  congestion\n",
              "713115  713115 1991-09-01  0  0        EB          43\n",
              "713116  713116 1991-09-01  0  0        NB          48\n",
              "713117  713117 1991-09-01  0  0        SB          24\n",
              "713118  713118 1991-09-01  0  1        EB          27\n",
              "713119  713119 1991-09-01  0  1        NB          90\n",
              "713120  713120 1991-09-01  0  1        SB          62\n",
              "713121  713121 1991-09-01  0  1        WB          33\n",
              "713122  713122 1991-09-01  0  2        EB          48\n",
              "713123  713123 1991-09-01  0  2        NB          56\n",
              "713124  713124 1991-09-01  0  2        SB          51\n",
              "713125  713125 1991-09-01  0  2        WB          39\n",
              "713126  713126 1991-09-01  0  3        EB          32\n",
              "713127  713127 1991-09-01  0  3        NB          30\n",
              "713128  713128 1991-09-01  0  3        NE          27\n",
              "713129  713129 1991-09-01  0  3        SB          56\n",
              "713130  713130 1991-09-01  0  3        SW          32\n",
              "713131  713131 1991-09-01  0  3        WB          45\n",
              "713132  713132 1991-09-01  1  0        EB          62\n",
              "713133  713133 1991-09-01  1  0        NB          43\n",
              "713134  713134 1991-09-01  1  0        NE          61\n",
              "713135  713135 1991-09-01  1  0        SB          46\n",
              "713136  713136 1991-09-01  1  0        SW          34\n",
              "713137  713137 1991-09-01  1  0        WB          36\n",
              "713138  713138 1991-09-01  1  1        EB          74\n",
              "713139  713139 1991-09-01  1  1        NB          53\n",
              "713140  713140 1991-09-01  1  1        SB          67\n",
              "713141  713141 1991-09-01  1  1        WB          68\n",
              "713142  713142 1991-09-01  1  2        EB          70\n",
              "713143  713143 1991-09-01  1  2        NB          57\n",
              "713144  713144 1991-09-01  1  2        NE          38\n",
              "713145  713145 1991-09-01  1  2        SB          69\n",
              "713146  713146 1991-09-01  1  2        SW          60\n",
              "713147  713147 1991-09-01  1  2        WB          62\n",
              "713148  713148 1991-09-01  1  3        EB          42\n",
              "713149  713149 1991-09-01  1  3        NB          62\n",
              "713150  713150 1991-09-01  1  3        NE          36\n",
              "713151  713151 1991-09-01  1  3        SB          50\n",
              "713152  713152 1991-09-01  1  3        SW          48\n",
              "713153  713153 1991-09-01  1  3        WB          45\n",
              "713154  713154 1991-09-01  2  0        EB          77\n",
              "713155  713155 1991-09-01  2  0        NB          63\n",
              "713156  713156 1991-09-01  2  0        SB          44\n",
              "713157  713157 1991-09-01  2  0        WB          70\n",
              "713158  713158 1991-09-01  2  1        EB          80\n",
              "713159  713159 1991-09-01  2  1        NB          33\n",
              "713160  713160 1991-09-01  2  1        NE          32\n",
              "713161  713161 1991-09-01  2  1        NW          29\n",
              "713162  713162 1991-09-01  2  1        SB          24\n",
              "713163  713163 1991-09-01  2  1        SE          43\n",
              "713164  713164 1991-09-01  2  1        SW          57"
            ],
            "text/html": [
              "\n",
              "  <div id=\"df-c5c2bc3a-2de3-40d1-9d5f-e83f97d07492\">\n",
              "    <div class=\"colab-df-container\">\n",
              "      <div>\n",
              "<style scoped>\n",
              "    .dataframe tbody tr th:only-of-type {\n",
              "        vertical-align: middle;\n",
              "    }\n",
              "\n",
              "    .dataframe tbody tr th {\n",
              "        vertical-align: top;\n",
              "    }\n",
              "\n",
              "    .dataframe thead th {\n",
              "        text-align: right;\n",
              "    }\n",
              "</style>\n",
              "<table border=\"1\" class=\"dataframe\">\n",
              "  <thead>\n",
              "    <tr style=\"text-align: right;\">\n",
              "      <th></th>\n",
              "      <th>row_id</th>\n",
              "      <th>time</th>\n",
              "      <th>x</th>\n",
              "      <th>y</th>\n",
              "      <th>direction</th>\n",
              "      <th>congestion</th>\n",
              "    </tr>\n",
              "  </thead>\n",
              "  <tbody>\n",
              "    <tr>\n",
              "      <th>713115</th>\n",
              "      <td>713115</td>\n",
              "      <td>1991-09-01</td>\n",
              "      <td>0</td>\n",
              "      <td>0</td>\n",
              "      <td>EB</td>\n",
              "      <td>43</td>\n",
              "    </tr>\n",
              "    <tr>\n",
              "      <th>713116</th>\n",
              "      <td>713116</td>\n",
              "      <td>1991-09-01</td>\n",
              "      <td>0</td>\n",
              "      <td>0</td>\n",
              "      <td>NB</td>\n",
              "      <td>48</td>\n",
              "    </tr>\n",
              "    <tr>\n",
              "      <th>713117</th>\n",
              "      <td>713117</td>\n",
              "      <td>1991-09-01</td>\n",
              "      <td>0</td>\n",
              "      <td>0</td>\n",
              "      <td>SB</td>\n",
              "      <td>24</td>\n",
              "    </tr>\n",
              "    <tr>\n",
              "      <th>713118</th>\n",
              "      <td>713118</td>\n",
              "      <td>1991-09-01</td>\n",
              "      <td>0</td>\n",
              "      <td>1</td>\n",
              "      <td>EB</td>\n",
              "      <td>27</td>\n",
              "    </tr>\n",
              "    <tr>\n",
              "      <th>713119</th>\n",
              "      <td>713119</td>\n",
              "      <td>1991-09-01</td>\n",
              "      <td>0</td>\n",
              "      <td>1</td>\n",
              "      <td>NB</td>\n",
              "      <td>90</td>\n",
              "    </tr>\n",
              "    <tr>\n",
              "      <th>713120</th>\n",
              "      <td>713120</td>\n",
              "      <td>1991-09-01</td>\n",
              "      <td>0</td>\n",
              "      <td>1</td>\n",
              "      <td>SB</td>\n",
              "      <td>62</td>\n",
              "    </tr>\n",
              "    <tr>\n",
              "      <th>713121</th>\n",
              "      <td>713121</td>\n",
              "      <td>1991-09-01</td>\n",
              "      <td>0</td>\n",
              "      <td>1</td>\n",
              "      <td>WB</td>\n",
              "      <td>33</td>\n",
              "    </tr>\n",
              "    <tr>\n",
              "      <th>713122</th>\n",
              "      <td>713122</td>\n",
              "      <td>1991-09-01</td>\n",
              "      <td>0</td>\n",
              "      <td>2</td>\n",
              "      <td>EB</td>\n",
              "      <td>48</td>\n",
              "    </tr>\n",
              "    <tr>\n",
              "      <th>713123</th>\n",
              "      <td>713123</td>\n",
              "      <td>1991-09-01</td>\n",
              "      <td>0</td>\n",
              "      <td>2</td>\n",
              "      <td>NB</td>\n",
              "      <td>56</td>\n",
              "    </tr>\n",
              "    <tr>\n",
              "      <th>713124</th>\n",
              "      <td>713124</td>\n",
              "      <td>1991-09-01</td>\n",
              "      <td>0</td>\n",
              "      <td>2</td>\n",
              "      <td>SB</td>\n",
              "      <td>51</td>\n",
              "    </tr>\n",
              "    <tr>\n",
              "      <th>713125</th>\n",
              "      <td>713125</td>\n",
              "      <td>1991-09-01</td>\n",
              "      <td>0</td>\n",
              "      <td>2</td>\n",
              "      <td>WB</td>\n",
              "      <td>39</td>\n",
              "    </tr>\n",
              "    <tr>\n",
              "      <th>713126</th>\n",
              "      <td>713126</td>\n",
              "      <td>1991-09-01</td>\n",
              "      <td>0</td>\n",
              "      <td>3</td>\n",
              "      <td>EB</td>\n",
              "      <td>32</td>\n",
              "    </tr>\n",
              "    <tr>\n",
              "      <th>713127</th>\n",
              "      <td>713127</td>\n",
              "      <td>1991-09-01</td>\n",
              "      <td>0</td>\n",
              "      <td>3</td>\n",
              "      <td>NB</td>\n",
              "      <td>30</td>\n",
              "    </tr>\n",
              "    <tr>\n",
              "      <th>713128</th>\n",
              "      <td>713128</td>\n",
              "      <td>1991-09-01</td>\n",
              "      <td>0</td>\n",
              "      <td>3</td>\n",
              "      <td>NE</td>\n",
              "      <td>27</td>\n",
              "    </tr>\n",
              "    <tr>\n",
              "      <th>713129</th>\n",
              "      <td>713129</td>\n",
              "      <td>1991-09-01</td>\n",
              "      <td>0</td>\n",
              "      <td>3</td>\n",
              "      <td>SB</td>\n",
              "      <td>56</td>\n",
              "    </tr>\n",
              "    <tr>\n",
              "      <th>713130</th>\n",
              "      <td>713130</td>\n",
              "      <td>1991-09-01</td>\n",
              "      <td>0</td>\n",
              "      <td>3</td>\n",
              "      <td>SW</td>\n",
              "      <td>32</td>\n",
              "    </tr>\n",
              "    <tr>\n",
              "      <th>713131</th>\n",
              "      <td>713131</td>\n",
              "      <td>1991-09-01</td>\n",
              "      <td>0</td>\n",
              "      <td>3</td>\n",
              "      <td>WB</td>\n",
              "      <td>45</td>\n",
              "    </tr>\n",
              "    <tr>\n",
              "      <th>713132</th>\n",
              "      <td>713132</td>\n",
              "      <td>1991-09-01</td>\n",
              "      <td>1</td>\n",
              "      <td>0</td>\n",
              "      <td>EB</td>\n",
              "      <td>62</td>\n",
              "    </tr>\n",
              "    <tr>\n",
              "      <th>713133</th>\n",
              "      <td>713133</td>\n",
              "      <td>1991-09-01</td>\n",
              "      <td>1</td>\n",
              "      <td>0</td>\n",
              "      <td>NB</td>\n",
              "      <td>43</td>\n",
              "    </tr>\n",
              "    <tr>\n",
              "      <th>713134</th>\n",
              "      <td>713134</td>\n",
              "      <td>1991-09-01</td>\n",
              "      <td>1</td>\n",
              "      <td>0</td>\n",
              "      <td>NE</td>\n",
              "      <td>61</td>\n",
              "    </tr>\n",
              "    <tr>\n",
              "      <th>713135</th>\n",
              "      <td>713135</td>\n",
              "      <td>1991-09-01</td>\n",
              "      <td>1</td>\n",
              "      <td>0</td>\n",
              "      <td>SB</td>\n",
              "      <td>46</td>\n",
              "    </tr>\n",
              "    <tr>\n",
              "      <th>713136</th>\n",
              "      <td>713136</td>\n",
              "      <td>1991-09-01</td>\n",
              "      <td>1</td>\n",
              "      <td>0</td>\n",
              "      <td>SW</td>\n",
              "      <td>34</td>\n",
              "    </tr>\n",
              "    <tr>\n",
              "      <th>713137</th>\n",
              "      <td>713137</td>\n",
              "      <td>1991-09-01</td>\n",
              "      <td>1</td>\n",
              "      <td>0</td>\n",
              "      <td>WB</td>\n",
              "      <td>36</td>\n",
              "    </tr>\n",
              "    <tr>\n",
              "      <th>713138</th>\n",
              "      <td>713138</td>\n",
              "      <td>1991-09-01</td>\n",
              "      <td>1</td>\n",
              "      <td>1</td>\n",
              "      <td>EB</td>\n",
              "      <td>74</td>\n",
              "    </tr>\n",
              "    <tr>\n",
              "      <th>713139</th>\n",
              "      <td>713139</td>\n",
              "      <td>1991-09-01</td>\n",
              "      <td>1</td>\n",
              "      <td>1</td>\n",
              "      <td>NB</td>\n",
              "      <td>53</td>\n",
              "    </tr>\n",
              "    <tr>\n",
              "      <th>713140</th>\n",
              "      <td>713140</td>\n",
              "      <td>1991-09-01</td>\n",
              "      <td>1</td>\n",
              "      <td>1</td>\n",
              "      <td>SB</td>\n",
              "      <td>67</td>\n",
              "    </tr>\n",
              "    <tr>\n",
              "      <th>713141</th>\n",
              "      <td>713141</td>\n",
              "      <td>1991-09-01</td>\n",
              "      <td>1</td>\n",
              "      <td>1</td>\n",
              "      <td>WB</td>\n",
              "      <td>68</td>\n",
              "    </tr>\n",
              "    <tr>\n",
              "      <th>713142</th>\n",
              "      <td>713142</td>\n",
              "      <td>1991-09-01</td>\n",
              "      <td>1</td>\n",
              "      <td>2</td>\n",
              "      <td>EB</td>\n",
              "      <td>70</td>\n",
              "    </tr>\n",
              "    <tr>\n",
              "      <th>713143</th>\n",
              "      <td>713143</td>\n",
              "      <td>1991-09-01</td>\n",
              "      <td>1</td>\n",
              "      <td>2</td>\n",
              "      <td>NB</td>\n",
              "      <td>57</td>\n",
              "    </tr>\n",
              "    <tr>\n",
              "      <th>713144</th>\n",
              "      <td>713144</td>\n",
              "      <td>1991-09-01</td>\n",
              "      <td>1</td>\n",
              "      <td>2</td>\n",
              "      <td>NE</td>\n",
              "      <td>38</td>\n",
              "    </tr>\n",
              "    <tr>\n",
              "      <th>713145</th>\n",
              "      <td>713145</td>\n",
              "      <td>1991-09-01</td>\n",
              "      <td>1</td>\n",
              "      <td>2</td>\n",
              "      <td>SB</td>\n",
              "      <td>69</td>\n",
              "    </tr>\n",
              "    <tr>\n",
              "      <th>713146</th>\n",
              "      <td>713146</td>\n",
              "      <td>1991-09-01</td>\n",
              "      <td>1</td>\n",
              "      <td>2</td>\n",
              "      <td>SW</td>\n",
              "      <td>60</td>\n",
              "    </tr>\n",
              "    <tr>\n",
              "      <th>713147</th>\n",
              "      <td>713147</td>\n",
              "      <td>1991-09-01</td>\n",
              "      <td>1</td>\n",
              "      <td>2</td>\n",
              "      <td>WB</td>\n",
              "      <td>62</td>\n",
              "    </tr>\n",
              "    <tr>\n",
              "      <th>713148</th>\n",
              "      <td>713148</td>\n",
              "      <td>1991-09-01</td>\n",
              "      <td>1</td>\n",
              "      <td>3</td>\n",
              "      <td>EB</td>\n",
              "      <td>42</td>\n",
              "    </tr>\n",
              "    <tr>\n",
              "      <th>713149</th>\n",
              "      <td>713149</td>\n",
              "      <td>1991-09-01</td>\n",
              "      <td>1</td>\n",
              "      <td>3</td>\n",
              "      <td>NB</td>\n",
              "      <td>62</td>\n",
              "    </tr>\n",
              "    <tr>\n",
              "      <th>713150</th>\n",
              "      <td>713150</td>\n",
              "      <td>1991-09-01</td>\n",
              "      <td>1</td>\n",
              "      <td>3</td>\n",
              "      <td>NE</td>\n",
              "      <td>36</td>\n",
              "    </tr>\n",
              "    <tr>\n",
              "      <th>713151</th>\n",
              "      <td>713151</td>\n",
              "      <td>1991-09-01</td>\n",
              "      <td>1</td>\n",
              "      <td>3</td>\n",
              "      <td>SB</td>\n",
              "      <td>50</td>\n",
              "    </tr>\n",
              "    <tr>\n",
              "      <th>713152</th>\n",
              "      <td>713152</td>\n",
              "      <td>1991-09-01</td>\n",
              "      <td>1</td>\n",
              "      <td>3</td>\n",
              "      <td>SW</td>\n",
              "      <td>48</td>\n",
              "    </tr>\n",
              "    <tr>\n",
              "      <th>713153</th>\n",
              "      <td>713153</td>\n",
              "      <td>1991-09-01</td>\n",
              "      <td>1</td>\n",
              "      <td>3</td>\n",
              "      <td>WB</td>\n",
              "      <td>45</td>\n",
              "    </tr>\n",
              "    <tr>\n",
              "      <th>713154</th>\n",
              "      <td>713154</td>\n",
              "      <td>1991-09-01</td>\n",
              "      <td>2</td>\n",
              "      <td>0</td>\n",
              "      <td>EB</td>\n",
              "      <td>77</td>\n",
              "    </tr>\n",
              "    <tr>\n",
              "      <th>713155</th>\n",
              "      <td>713155</td>\n",
              "      <td>1991-09-01</td>\n",
              "      <td>2</td>\n",
              "      <td>0</td>\n",
              "      <td>NB</td>\n",
              "      <td>63</td>\n",
              "    </tr>\n",
              "    <tr>\n",
              "      <th>713156</th>\n",
              "      <td>713156</td>\n",
              "      <td>1991-09-01</td>\n",
              "      <td>2</td>\n",
              "      <td>0</td>\n",
              "      <td>SB</td>\n",
              "      <td>44</td>\n",
              "    </tr>\n",
              "    <tr>\n",
              "      <th>713157</th>\n",
              "      <td>713157</td>\n",
              "      <td>1991-09-01</td>\n",
              "      <td>2</td>\n",
              "      <td>0</td>\n",
              "      <td>WB</td>\n",
              "      <td>70</td>\n",
              "    </tr>\n",
              "    <tr>\n",
              "      <th>713158</th>\n",
              "      <td>713158</td>\n",
              "      <td>1991-09-01</td>\n",
              "      <td>2</td>\n",
              "      <td>1</td>\n",
              "      <td>EB</td>\n",
              "      <td>80</td>\n",
              "    </tr>\n",
              "    <tr>\n",
              "      <th>713159</th>\n",
              "      <td>713159</td>\n",
              "      <td>1991-09-01</td>\n",
              "      <td>2</td>\n",
              "      <td>1</td>\n",
              "      <td>NB</td>\n",
              "      <td>33</td>\n",
              "    </tr>\n",
              "    <tr>\n",
              "      <th>713160</th>\n",
              "      <td>713160</td>\n",
              "      <td>1991-09-01</td>\n",
              "      <td>2</td>\n",
              "      <td>1</td>\n",
              "      <td>NE</td>\n",
              "      <td>32</td>\n",
              "    </tr>\n",
              "    <tr>\n",
              "      <th>713161</th>\n",
              "      <td>713161</td>\n",
              "      <td>1991-09-01</td>\n",
              "      <td>2</td>\n",
              "      <td>1</td>\n",
              "      <td>NW</td>\n",
              "      <td>29</td>\n",
              "    </tr>\n",
              "    <tr>\n",
              "      <th>713162</th>\n",
              "      <td>713162</td>\n",
              "      <td>1991-09-01</td>\n",
              "      <td>2</td>\n",
              "      <td>1</td>\n",
              "      <td>SB</td>\n",
              "      <td>24</td>\n",
              "    </tr>\n",
              "    <tr>\n",
              "      <th>713163</th>\n",
              "      <td>713163</td>\n",
              "      <td>1991-09-01</td>\n",
              "      <td>2</td>\n",
              "      <td>1</td>\n",
              "      <td>SE</td>\n",
              "      <td>43</td>\n",
              "    </tr>\n",
              "    <tr>\n",
              "      <th>713164</th>\n",
              "      <td>713164</td>\n",
              "      <td>1991-09-01</td>\n",
              "      <td>2</td>\n",
              "      <td>1</td>\n",
              "      <td>SW</td>\n",
              "      <td>57</td>\n",
              "    </tr>\n",
              "  </tbody>\n",
              "</table>\n",
              "</div>\n",
              "      <button class=\"colab-df-convert\" onclick=\"convertToInteractive('df-c5c2bc3a-2de3-40d1-9d5f-e83f97d07492')\"\n",
              "              title=\"Convert this dataframe to an interactive table.\"\n",
              "              style=\"display:none;\">\n",
              "        \n",
              "  <svg xmlns=\"http://www.w3.org/2000/svg\" height=\"24px\"viewBox=\"0 0 24 24\"\n",
              "       width=\"24px\">\n",
              "    <path d=\"M0 0h24v24H0V0z\" fill=\"none\"/>\n",
              "    <path d=\"M18.56 5.44l.94 2.06.94-2.06 2.06-.94-2.06-.94-.94-2.06-.94 2.06-2.06.94zm-11 1L8.5 8.5l.94-2.06 2.06-.94-2.06-.94L8.5 2.5l-.94 2.06-2.06.94zm10 10l.94 2.06.94-2.06 2.06-.94-2.06-.94-.94-2.06-.94 2.06-2.06.94z\"/><path d=\"M17.41 7.96l-1.37-1.37c-.4-.4-.92-.59-1.43-.59-.52 0-1.04.2-1.43.59L10.3 9.45l-7.72 7.72c-.78.78-.78 2.05 0 2.83L4 21.41c.39.39.9.59 1.41.59.51 0 1.02-.2 1.41-.59l7.78-7.78 2.81-2.81c.8-.78.8-2.07 0-2.86zM5.41 20L4 18.59l7.72-7.72 1.47 1.35L5.41 20z\"/>\n",
              "  </svg>\n",
              "      </button>\n",
              "      \n",
              "  <style>\n",
              "    .colab-df-container {\n",
              "      display:flex;\n",
              "      flex-wrap:wrap;\n",
              "      gap: 12px;\n",
              "    }\n",
              "\n",
              "    .colab-df-convert {\n",
              "      background-color: #E8F0FE;\n",
              "      border: none;\n",
              "      border-radius: 50%;\n",
              "      cursor: pointer;\n",
              "      display: none;\n",
              "      fill: #1967D2;\n",
              "      height: 32px;\n",
              "      padding: 0 0 0 0;\n",
              "      width: 32px;\n",
              "    }\n",
              "\n",
              "    .colab-df-convert:hover {\n",
              "      background-color: #E2EBFA;\n",
              "      box-shadow: 0px 1px 2px rgba(60, 64, 67, 0.3), 0px 1px 3px 1px rgba(60, 64, 67, 0.15);\n",
              "      fill: #174EA6;\n",
              "    }\n",
              "\n",
              "    [theme=dark] .colab-df-convert {\n",
              "      background-color: #3B4455;\n",
              "      fill: #D2E3FC;\n",
              "    }\n",
              "\n",
              "    [theme=dark] .colab-df-convert:hover {\n",
              "      background-color: #434B5C;\n",
              "      box-shadow: 0px 1px 3px 1px rgba(0, 0, 0, 0.15);\n",
              "      filter: drop-shadow(0px 1px 2px rgba(0, 0, 0, 0.3));\n",
              "      fill: #FFFFFF;\n",
              "    }\n",
              "  </style>\n",
              "\n",
              "      <script>\n",
              "        const buttonEl =\n",
              "          document.querySelector('#df-c5c2bc3a-2de3-40d1-9d5f-e83f97d07492 button.colab-df-convert');\n",
              "        buttonEl.style.display =\n",
              "          google.colab.kernel.accessAllowed ? 'block' : 'none';\n",
              "\n",
              "        async function convertToInteractive(key) {\n",
              "          const element = document.querySelector('#df-c5c2bc3a-2de3-40d1-9d5f-e83f97d07492');\n",
              "          const dataTable =\n",
              "            await google.colab.kernel.invokeFunction('convertToInteractive',\n",
              "                                                     [key], {});\n",
              "          if (!dataTable) return;\n",
              "\n",
              "          const docLinkHtml = 'Like what you see? Visit the ' +\n",
              "            '<a target=\"_blank\" href=https://colab.research.google.com/notebooks/data_table.ipynb>data table notebook</a>'\n",
              "            + ' to learn more about interactive tables.';\n",
              "          element.innerHTML = '';\n",
              "          dataTable['output_type'] = 'display_data';\n",
              "          await google.colab.output.renderOutput(dataTable, element);\n",
              "          const docLink = document.createElement('div');\n",
              "          docLink.innerHTML = docLinkHtml;\n",
              "          element.appendChild(docLink);\n",
              "        }\n",
              "      </script>\n",
              "    </div>\n",
              "  </div>\n",
              "  "
            ]
          },
          "metadata": {},
          "execution_count": 18
        }
      ]
    },
    {
      "cell_type": "markdown",
      "source": [
        "### Data Understanding"
      ],
      "metadata": {
        "cell_id": "412579fdd0784865abddd20b3c64a43a",
        "tags": [],
        "is_collapsed": false,
        "deepnote_cell_type": "text-cell-h3",
        "id": "GVOJ_SUziYz6"
      }
    },
    {
      "cell_type": "markdown",
      "source": [
        "#### Roadway features \n",
        "\n",
        "Altogether, there are 12 unique roadways, 8 directions and 65 combinations of roadway with direction."
      ],
      "metadata": {
        "cell_id": "92db9367006e42dd83bf8f9a790b639f",
        "tags": [],
        "deepnote_cell_type": "markdown",
        "deepnote_cell_height": 88.3125,
        "id": "kbcHZe19iYz6"
      }
    },
    {
      "cell_type": "code",
      "metadata": {
        "cell_id": "ef19a166521f4af18adb64a5e13bb231",
        "tags": [],
        "deepnote_to_be_reexecuted": false,
        "source_hash": "b3ae4896",
        "execution_start": 1649513668222,
        "execution_millis": 294,
        "deepnote_cell_type": "code",
        "deepnote_cell_height": 464.15625,
        "colab": {
          "base_uri": "https://localhost:8080/"
        },
        "id": "lqAcuyLBiYz7",
        "outputId": "5d332879-4df5-402c-e7aa-d71ba62d4117"
      },
      "source": [
        "# unique roadways\n",
        "\n",
        "roadways = train_df[['x', 'y']].drop_duplicates()\n",
        "\n",
        "print(str(roadways) + '\\n\\nNumber of unique roadways :', len(roadways))"
      ],
      "execution_count": null,
      "outputs": [
        {
          "output_type": "stream",
          "name": "stdout",
          "text": [
            "    x  y\n",
            "0   0  0\n",
            "3   0  1\n",
            "7   0  2\n",
            "11  0  3\n",
            "17  1  0\n",
            "23  1  1\n",
            "27  1  2\n",
            "33  1  3\n",
            "39  2  0\n",
            "43  2  1\n",
            "51  2  2\n",
            "59  2  3\n",
            "\n",
            "Number of unique roadways : 12\n"
          ]
        }
      ]
    },
    {
      "cell_type": "code",
      "metadata": {
        "cell_id": "d0d27506a2594a34a7a2772b26c02368",
        "tags": [],
        "deepnote_to_be_reexecuted": false,
        "source_hash": "fd263cdb",
        "execution_start": 1649513668346,
        "execution_millis": 171,
        "deepnote_cell_type": "code",
        "deepnote_cell_height": 111.90625,
        "colab": {
          "base_uri": "https://localhost:8080/"
        },
        "id": "IN4deDy2iYz7",
        "outputId": "ddc9688a-1414-4987-f212-b8acc398a847"
      },
      "source": [
        "print('Unique directions:', train_df.direction.unique())"
      ],
      "execution_count": null,
      "outputs": [
        {
          "output_type": "stream",
          "name": "stdout",
          "text": [
            "Unique directions: ['EB' 'NB' 'SB' 'WB' 'NE' 'SW' 'NW' 'SE']\n"
          ]
        }
      ]
    },
    {
      "cell_type": "code",
      "metadata": {
        "cell_id": "389c00a367684121bc735af71e78e768",
        "tags": [],
        "deepnote_to_be_reexecuted": false,
        "source_hash": "f0ddbdd7",
        "execution_start": 1649513668391,
        "execution_millis": 134,
        "deepnote_cell_type": "code",
        "deepnote_cell_height": 129.921875,
        "colab": {
          "base_uri": "https://localhost:8080/"
        },
        "id": "Lmw-85WGiYz7",
        "outputId": "01a793e9-5c6e-49e0-bd66-9fac482f1dd3"
      },
      "source": [
        "road_dir = train_df[['x', 'y', 'direction']].drop_duplicates()\n",
        "print('Number of unique roadways with directions: ', len(road_dir))"
      ],
      "execution_count": null,
      "outputs": [
        {
          "output_type": "stream",
          "name": "stdout",
          "text": [
            "Number of unique roadways with directions:  65\n"
          ]
        }
      ]
    },
    {
      "cell_type": "markdown",
      "source": [
        "Visualizing the geographical map with roadways (points) and directions (lines)."
      ],
      "metadata": {
        "cell_id": "b37714e45ba84d34883f48a837657fae",
        "tags": [],
        "deepnote_cell_type": "markdown",
        "deepnote_cell_height": 52.328125,
        "id": "CX238f-UiYz7"
      }
    },
    {
      "cell_type": "code",
      "metadata": {
        "cell_id": "0508164af1c841869bbb6eaea4b4f9b0",
        "tags": [],
        "deepnote_to_be_reexecuted": false,
        "source_hash": "fc328b35",
        "execution_start": 1649513668494,
        "execution_millis": 428,
        "deepnote_cell_type": "code",
        "deepnote_cell_height": 1102.890625,
        "deepnote_output_heights": [
          501.96875
        ],
        "colab": {
          "base_uri": "https://localhost:8080/",
          "height": 517
        },
        "id": "z0wYsJ8ZiYz7",
        "outputId": "eafc56ad-041a-4951-9e02-2ff5da607193"
      },
      "source": [
        "# creating a direction dictionary\n",
        "\n",
        "dir_dict = {'EB': (1, 0), 'NB': (0, 1), 'SB': (0, -1), 'WB': (-1, 0), 'NE': (1, 1), 'SE': (-1, 1), 'NW': (1, -1), 'SW': (-1, -1)}\n",
        "\n",
        "# setting plot background\n",
        "\n",
        "plt.rcParams['axes.facecolor'] = '#161617' # blue\n",
        "\n",
        "# plotting image\n",
        "\n",
        "plt.figure(figsize=(8, 8))\n",
        "plt.scatter(roadways.x, roadways.y)\n",
        "plt.gca().set_aspect('equal')\n",
        "\n",
        "# ploting the unique roadways (points) and the unique roadways with directions (lines)\n",
        "\n",
        "for _, x, y, d in road_dir.itertuples():\n",
        "    dx, dy = dir_dict[d]\n",
        "    dx, dy = dx/4, dy/4\n",
        "    plt.plot([x, x+dx], [y, y+dy], color='#fff200')\n",
        "\n",
        "# only integer labels\n",
        "plt.gca().xaxis.set_major_locator(MaxNLocator(integer=True)) \n",
        "plt.gca().yaxis.set_major_locator(MaxNLocator(integer=True)) \n",
        "\n",
        "plt.xlabel('X', fontsize=14, fontweight = 'bold')\n",
        "plt.ylabel('Y', fontsize=14, fontweight = 'bold')\n",
        "plt.title('Unique Roads and Roadways', fontsize=12)\n",
        "plt.show()"
      ],
      "execution_count": null,
      "outputs": [
        {
          "output_type": "display_data",
          "data": {
            "text/plain": [
              "<Figure size 576x576 with 1 Axes>"
            ],
            "image/png": "[encoded data removed]"
          },
          "metadata": {
            "needs_background": "light"
          }
        }
      ]
    },
    {
      "cell_type": "markdown",
      "source": [
        "Observations: \n",
        "- Knowing that congestion is measured for certain points and directions in space, we could assume the existence of a congestion correlation between two or more roadways, e.g. congestion at (1, 1, westbound) should be correlated with past congestion at (0, 1, ...) or vice-versa.\n",
        "- However, itsn't clear if we need the geography at all. A simple approach for the competition could be ignoring the geography and creating 65 independent time series. Or doing one-hot encoding the 65 x,y/direction combinations and using them as features.\n",
        "- Another unclear aspect is how to know if the y axis grows from top to bottom or bottom to top.\n"
      ],
      "metadata": {
        "cell_id": "787282e4f4f0460ba8afd38c2286dde4",
        "tags": [],
        "deepnote_cell_type": "markdown",
        "deepnote_cell_height": 220.625,
        "id": "de0_VGDtiYz8"
      }
    },
    {
      "cell_type": "markdown",
      "source": [
        "#### Time feature\n",
        "\n",
        "In the training dataset there are **13,059** time values. \n",
        "Also, as we know, there are 65 combinations of roadways with directions, so 13,059 * 65 equals to **848,835 examples**  of training data.\n",
        "\n",
        " \n"
      ],
      "metadata": {
        "cell_id": "819569212b8149639ae6d01afb4da072",
        "tags": [],
        "deepnote_cell_type": "markdown",
        "deepnote_cell_height": 110.6875,
        "id": "Pl5WtcS8iYz8"
      }
    },
    {
      "cell_type": "code",
      "metadata": {
        "cell_id": "5841df2725dd46a59ba47aa85155108a",
        "tags": [],
        "deepnote_to_be_reexecuted": false,
        "source_hash": "e28b1365",
        "execution_start": 1649513668974,
        "execution_millis": 4,
        "deepnote_cell_type": "code",
        "deepnote_cell_height": 183.921875,
        "colab": {
          "base_uri": "https://localhost:8080/"
        },
        "id": "L1V_-ltUiYz8",
        "outputId": "8a0f7e19-124d-4939-ac69-aa7ab5365268"
      },
      "source": [
        "#converting to time type\n",
        "train_df[\"time\"] = pd.to_datetime(train_df[\"time\"])\n",
        "\n",
        "unique_times = train_df.time.unique()\n",
        "print(\"Number of unique times in training dataset:\", len(unique_times))"
      ],
      "execution_count": null,
      "outputs": [
        {
          "output_type": "stream",
          "name": "stdout",
          "text": [
            "Number of unique times in training dataset: 8761\n"
          ]
        }
      ]
    },
    {
      "cell_type": "markdown",
      "source": [
        "All of `train` timestamps are between 1991-04-01 00:00 and 1991-09-30 11:40. The `test` timestamps cover the half day from 1991-09-30 12:00 through 1991-09-30 23:40, which is a Monday."
      ],
      "metadata": {
        "cell_id": "a4a5ed3406e8406cad35e15f3bf8594e",
        "tags": [],
        "deepnote_cell_type": "markdown",
        "deepnote_cell_height": 74.703125,
        "id": "u5BESUyLiYz8"
      }
    },
    {
      "cell_type": "code",
      "metadata": {
        "cell_id": "41ff89c92ff441cca2774559396333a6",
        "tags": [],
        "deepnote_to_be_reexecuted": false,
        "source_hash": "4ea5af7d",
        "execution_start": 1649513668975,
        "execution_millis": 3,
        "deepnote_cell_type": "code",
        "deepnote_cell_height": 155.3125,
        "deepnote_output_heights": [
          40.375
        ],
        "colab": {
          "base_uri": "https://localhost:8080/"
        },
        "id": "NoKM3TqgiYz8",
        "outputId": "811c4bce-0e1d-4a5e-e391-37e858e0abe6"
      },
      "source": [
        "# diffence about sequences of timestamps\n",
        "np.diff(unique_times)"
      ],
      "execution_count": null,
      "outputs": [
        {
          "output_type": "execute_result",
          "data": {
            "text/plain": [
              "array([1200000000000, 1200000000000, 1200000000000, ..., 1200000000000,\n",
              "       1200000000000, 1200000000000], dtype='timedelta64[ns]')"
            ]
          },
          "metadata": {},
          "execution_count": 15
        }
      ]
    },
    {
      "cell_type": "markdown",
      "source": [
        "The difference between successive training timestamps is almost always 20 minutes. However there are **28 timestamps** that don't follow this same distribuition (listed below)."
      ],
      "metadata": {
        "cell_id": "23f10e9d4184472a9eafc9ad05a2bb47",
        "tags": [],
        "deepnote_cell_type": "markdown",
        "deepnote_cell_height": 74.703125,
        "id": "90Yk4zA0iYz8"
      }
    },
    {
      "cell_type": "code",
      "metadata": {
        "cell_id": "71c63363f2d34610be6fede7df4803a2",
        "tags": [],
        "deepnote_to_be_reexecuted": false,
        "source_hash": "9e6ff56",
        "execution_start": 1649513668975,
        "execution_millis": 7,
        "deepnote_cell_type": "code",
        "deepnote_cell_height": 326.859375,
        "deepnote_output_heights": [
          193.921875
        ],
        "colab": {
          "base_uri": "https://localhost:8080/"
        },
        "id": "B_WRSYPJiYz9",
        "outputId": "a529d682-ed42-43e1-bc7f-65367e24ea3c"
      },
      "source": [
        "# from all the unique times, getting all examples which the discrete difference are diferent from 20 min (1200000000000 ns) \n",
        "\n",
        "unique_times[1:][np.diff(unique_times) != np.diff(unique_times)[0]]"
      ],
      "execution_count": null,
      "outputs": [
        {
          "output_type": "execute_result",
          "data": {
            "text/plain": [
              "array(['1991-04-20T19:20:00.000000000', '1991-04-24T06:20:00.000000000',\n",
              "       '1991-05-04T22:00:00.000000000', '1991-05-18T19:40:00.000000000',\n",
              "       '1991-05-31T03:20:00.000000000', '1991-06-15T20:40:00.000000000',\n",
              "       '1991-07-18T20:20:00.000000000', '1991-07-20T19:40:00.000000000'],\n",
              "      dtype='datetime64[ns]')"
            ]
          },
          "metadata": {},
          "execution_count": 16
        }
      ]
    },
    {
      "cell_type": "code",
      "metadata": {
        "cell_id": "9e1a8de960fc437480df8e36fceff352",
        "tags": [],
        "deepnote_to_be_reexecuted": false,
        "source_hash": "9cd4d711",
        "execution_start": 1649513668982,
        "execution_millis": 27,
        "deepnote_table_state": {
          "pageSize": 10,
          "pageIndex": 3,
          "filters": [],
          "sortBy": []
        },
        "deepnote_table_loading": false,
        "deepnote_cell_type": "code",
        "deepnote_cell_height": 240.703125,
        "colab": {
          "base_uri": "https://localhost:8080/",
          "height": 49
        },
        "id": "gglvj9C2iYz9",
        "outputId": "9e5f883f-b64b-425c-f433-66cd539a93b0"
      },
      "source": [
        "# example case: from 1991-09-12 06:20:00 to 1991-09-12 08:20:00\n",
        "\n",
        "train_df[765795:]"
      ],
      "execution_count": null,
      "outputs": [
        {
          "output_type": "execute_result",
          "data": {
            "text/plain": [
              "Empty DataFrame\n",
              "Columns: [row_id, time, x, y, direction, congestion]\n",
              "Index: []"
            ],
            "text/html": [
              "\n",
              "  <div id=\"df-5544479c-0c8f-4305-a9f8-6ee5fb7353ab\">\n",
              "    <div class=\"colab-df-container\">\n",
              "      <div>\n",
              "<style scoped>\n",
              "    .dataframe tbody tr th:only-of-type {\n",
              "        vertical-align: middle;\n",
              "    }\n",
              "\n",
              "    .dataframe tbody tr th {\n",
              "        vertical-align: top;\n",
              "    }\n",
              "\n",
              "    .dataframe thead th {\n",
              "        text-align: right;\n",
              "    }\n",
              "</style>\n",
              "<table border=\"1\" class=\"dataframe\">\n",
              "  <thead>\n",
              "    <tr style=\"text-align: right;\">\n",
              "      <th></th>\n",
              "      <th>row_id</th>\n",
              "      <th>time</th>\n",
              "      <th>x</th>\n",
              "      <th>y</th>\n",
              "      <th>direction</th>\n",
              "      <th>congestion</th>\n",
              "    </tr>\n",
              "  </thead>\n",
              "  <tbody>\n",
              "  </tbody>\n",
              "</table>\n",
              "</div>\n",
              "      <button class=\"colab-df-convert\" onclick=\"convertToInteractive('df-5544479c-0c8f-4305-a9f8-6ee5fb7353ab')\"\n",
              "              title=\"Convert this dataframe to an interactive table.\"\n",
              "              style=\"display:none;\">\n",
              "        \n",
              "  <svg xmlns=\"http://www.w3.org/2000/svg\" height=\"24px\"viewBox=\"0 0 24 24\"\n",
              "       width=\"24px\">\n",
              "    <path d=\"M0 0h24v24H0V0z\" fill=\"none\"/>\n",
              "    <path d=\"M18.56 5.44l.94 2.06.94-2.06 2.06-.94-2.06-.94-.94-2.06-.94 2.06-2.06.94zm-11 1L8.5 8.5l.94-2.06 2.06-.94-2.06-.94L8.5 2.5l-.94 2.06-2.06.94zm10 10l.94 2.06.94-2.06 2.06-.94-2.06-.94-.94-2.06-.94 2.06-2.06.94z\"/><path d=\"M17.41 7.96l-1.37-1.37c-.4-.4-.92-.59-1.43-.59-.52 0-1.04.2-1.43.59L10.3 9.45l-7.72 7.72c-.78.78-.78 2.05 0 2.83L4 21.41c.39.39.9.59 1.41.59.51 0 1.02-.2 1.41-.59l7.78-7.78 2.81-2.81c.8-.78.8-2.07 0-2.86zM5.41 20L4 18.59l7.72-7.72 1.47 1.35L5.41 20z\"/>\n",
              "  </svg>\n",
              "      </button>\n",
              "      \n",
              "  <style>\n",
              "    .colab-df-container {\n",
              "      display:flex;\n",
              "      flex-wrap:wrap;\n",
              "      gap: 12px;\n",
              "    }\n",
              "\n",
              "    .colab-df-convert {\n",
              "      background-color: #E8F0FE;\n",
              "      border: none;\n",
              "      border-radius: 50%;\n",
              "      cursor: pointer;\n",
              "      display: none;\n",
              "      fill: #1967D2;\n",
              "      height: 32px;\n",
              "      padding: 0 0 0 0;\n",
              "      width: 32px;\n",
              "    }\n",
              "\n",
              "    .colab-df-convert:hover {\n",
              "      background-color: #E2EBFA;\n",
              "      box-shadow: 0px 1px 2px rgba(60, 64, 67, 0.3), 0px 1px 3px 1px rgba(60, 64, 67, 0.15);\n",
              "      fill: #174EA6;\n",
              "    }\n",
              "\n",
              "    [theme=dark] .colab-df-convert {\n",
              "      background-color: #3B4455;\n",
              "      fill: #D2E3FC;\n",
              "    }\n",
              "\n",
              "    [theme=dark] .colab-df-convert:hover {\n",
              "      background-color: #434B5C;\n",
              "      box-shadow: 0px 1px 3px 1px rgba(0, 0, 0, 0.15);\n",
              "      filter: drop-shadow(0px 1px 2px rgba(0, 0, 0, 0.3));\n",
              "      fill: #FFFFFF;\n",
              "    }\n",
              "  </style>\n",
              "\n",
              "      <script>\n",
              "        const buttonEl =\n",
              "          document.querySelector('#df-5544479c-0c8f-4305-a9f8-6ee5fb7353ab button.colab-df-convert');\n",
              "        buttonEl.style.display =\n",
              "          google.colab.kernel.accessAllowed ? 'block' : 'none';\n",
              "\n",
              "        async function convertToInteractive(key) {\n",
              "          const element = document.querySelector('#df-5544479c-0c8f-4305-a9f8-6ee5fb7353ab');\n",
              "          const dataTable =\n",
              "            await google.colab.kernel.invokeFunction('convertToInteractive',\n",
              "                                                     [key], {});\n",
              "          if (!dataTable) return;\n",
              "\n",
              "          const docLinkHtml = 'Like what you see? Visit the ' +\n",
              "            '<a target=\"_blank\" href=https://colab.research.google.com/notebooks/data_table.ipynb>data table notebook</a>'\n",
              "            + ' to learn more about interactive tables.';\n",
              "          element.innerHTML = '';\n",
              "          dataTable['output_type'] = 'display_data';\n",
              "          await google.colab.output.renderOutput(dataTable, element);\n",
              "          const docLink = document.createElement('div');\n",
              "          docLink.innerHTML = docLinkHtml;\n",
              "          element.appendChild(docLink);\n",
              "        }\n",
              "      </script>\n",
              "    </div>\n",
              "  </div>\n",
              "  "
            ]
          },
          "metadata": {},
          "execution_count": 17
        }
      ]
    },
    {
      "cell_type": "markdown",
      "source": [
        "Observations so far:\n",
        "\n",
        "- There are missing values, and our model will have to deal with a noncontiguous time series. This part is goin to be more discussed in the feature engineering stage.\n",
        "- As the test set is restricted to one Monday afternoon, so perhaps it won't be necessary train in all days of the week."
      ],
      "metadata": {
        "cell_id": "0c9708c5f52e45e2a82217c35e53fc13",
        "tags": [],
        "deepnote_cell_type": "markdown",
        "deepnote_cell_height": 150.46875,
        "id": "7EXb8bH8iYz9"
      }
    },
    {
      "cell_type": "markdown",
      "source": [
        "#### Congestion Label\n",
        "\n",
        "Congestion is the dataset label and has **integers** numbers variating between 1 to 100. Because most regression algorithms output float values, we could probably clip and round the regression output. \n",
        "\n",
        "ref: https://www.kaggle.com/c/tabular-playground-series-jan-2022/discussion/301249"
      ],
      "metadata": {
        "cell_id": "5a594c300e424cc4859c503273bccd6b",
        "tags": [],
        "deepnote_cell_type": "markdown",
        "deepnote_cell_height": 147.078125,
        "id": "A_vkamCEiYz9"
      }
    },
    {
      "cell_type": "code",
      "metadata": {
        "cell_id": "c35e312f31454f5ba5a658d4b7eaf566",
        "tags": [],
        "deepnote_to_be_reexecuted": false,
        "source_hash": "2ebdd666",
        "execution_start": 1649513669008,
        "execution_millis": 302,
        "deepnote_cell_type": "code",
        "deepnote_cell_height": 399.03125,
        "deepnote_output_heights": [
          21.171875,
          249.96875
        ],
        "colab": {
          "base_uri": "https://localhost:8080/",
          "height": 283
        },
        "id": "4RagRdOKiYz9",
        "outputId": "42d34bc9-aadc-4ca1-b43a-ad9d917bdb59"
      },
      "source": [
        "train_df['congestion'].hist()"
      ],
      "execution_count": null,
      "outputs": [
        {
          "output_type": "execute_result",
          "data": {
            "text/plain": [
              "<matplotlib.axes._subplots.AxesSubplot at 0x7f69617ace50>"
            ]
          },
          "metadata": {},
          "execution_count": 18
        },
        {
          "output_type": "display_data",
          "data": {
            "text/plain": [
              "<Figure size 432x288 with 1 Axes>"
            ],
            "image/png": "[encoded data removed]"
          },
          "metadata": {
            "needs_background": "light"
          }
        }
      ]
    },
    {
      "cell_type": "code",
      "metadata": {
        "cell_id": "0a9a0493557841cebc710040429ffaac",
        "tags": [],
        "deepnote_to_be_reexecuted": false,
        "source_hash": "d381346d",
        "execution_start": 1649513669312,
        "execution_millis": 384,
        "deepnote_cell_type": "code",
        "deepnote_cell_height": 629.890625,
        "deepnote_output_heights": [
          388.96875
        ],
        "colab": {
          "base_uri": "https://localhost:8080/",
          "height": 404
        },
        "id": "QvTQsutliYz9",
        "outputId": "c3fba56b-2343-47b9-a1ec-f0c19d8fddfe"
      },
      "source": [
        "# overall congestion histogram\n",
        "\n",
        "plt.figure(figsize=(10, 6))\n",
        "plt.bar(range(101), train_df.congestion.value_counts().sort_index(), width=1,\n",
        "        color='gold')\n",
        "plt.ylabel('Count')\n",
        "plt.xlabel('Congestion')\n",
        "plt.title(\"Congestion Distribution\")\n",
        "plt.show()"
      ],
      "execution_count": null,
      "outputs": [
        {
          "output_type": "display_data",
          "data": {
            "text/plain": [
              "<Figure size 720x432 with 1 Axes>"
            ],
            "image/png": "[encoded data removed]"
          },
          "metadata": {
            "needs_background": "light"
          }
        }
      ]
    },
    {
      "cell_type": "markdown",
      "source": [
        "Because of there are prominent values like 15, 20, 21, 29, 34, it could be a problem for the regressor learn this distribution.\n"
      ],
      "metadata": {
        "cell_id": "a8e721dca8a14e58ad6448a48151af9d",
        "tags": [],
        "deepnote_cell_type": "markdown",
        "deepnote_cell_height": 52.328125,
        "id": "u2bdKGBqiYz-"
      }
    },
    {
      "cell_type": "code",
      "metadata": {
        "cell_id": "4310ca8337c14f249912f07fbb04f26f",
        "tags": [],
        "deepnote_to_be_reexecuted": false,
        "source_hash": "19e10387",
        "execution_start": 1649513669750,
        "execution_millis": 4071,
        "deepnote_cell_type": "code",
        "deepnote_cell_height": 1067.90625,
        "deepnote_output_heights": [
          610.984375
        ],
        "colab": {
          "base_uri": "https://localhost:8080/",
          "height": 999
        },
        "id": "ryMCalQZiYz-",
        "outputId": "a40f187f-92e6-47cb-fe4c-6eb8f65766a0"
      },
      "source": [
        "\n",
        "plt.subplots(4, 3, sharex=True, sharey=True, figsize=(18, 16))\n",
        "#fig, axes = plt.subplots(nrows=4, ncols=3)\n",
        "for y in range(4):\n",
        "    for x in range(3):\n",
        "        #plt.subplot(4, 3, x+1)\n",
        "        plt.subplot2grid((4,3), (y,x))\n",
        "        vc = train_df[(train_df.x == x) & (train_df.y == y)].congestion.value_counts().sort_index()\n",
        "        plt.bar(vc.index, vc, width=1,\n",
        "                color='gold')\n",
        "        plt.ylabel('Amount of examples')\n",
        "        plt.xlabel('Congestion')\n",
        "        plt.title(f\"Roadway (x = {x}) and (y = {y})\")\n",
        "\n",
        "plt.subplots_adjust(left=0.1,\n",
        "                    bottom=0.1, \n",
        "                    right=0.9, \n",
        "                    top=0.9, \n",
        "                    wspace=0.4, \n",
        "                    hspace=0.4)\n",
        "plt.show()"
      ],
      "execution_count": null,
      "outputs": [
        {
          "output_type": "display_data",
          "data": {
            "text/plain": [
              "<Figure size 1296x1152 with 12 Axes>"
            ],
            "image/png": "[encoded data removed]"
          },
          "metadata": {
            "needs_background": "light"
          }
        }
      ]
    },
    {
      "cell_type": "markdown",
      "source": [
        "Notice that congestions like 15, 29 and 34 are a particularity of the roadway with x = 2 and y = 1. Roadway x = 2 and y = 2 seems also a bit imbalanced.\n",
        "\n",
        "At this point, we could conclude that **a simple linear regressor won't be able to model the data**. We could use a model like decision trees that can make the non-linear separation."
      ],
      "metadata": {
        "cell_id": "e912acc105e741659089f8ed14f7153a",
        "tags": [],
        "deepnote_cell_type": "markdown",
        "deepnote_cell_height": 133.46875,
        "id": "Obbt-03KiYz-"
      }
    },
    {
      "cell_type": "markdown",
      "source": [
        "#### Congestion and Time\n",
        "\n",
        "Space to search and analyze patterns of congestion through days of the week. "
      ],
      "metadata": {
        "cell_id": "a811322bc3a4434c8f3a19cc74989bec",
        "tags": [],
        "deepnote_cell_type": "markdown",
        "deepnote_cell_height": 88.3125,
        "id": "D5aZqfO-iYz-"
      }
    },
    {
      "cell_type": "code",
      "metadata": {
        "cell_id": "df32d21db1db434a83cc35e4ae3e84dc",
        "tags": [],
        "deepnote_to_be_reexecuted": false,
        "source_hash": "da05706b",
        "execution_start": 1649513673681,
        "execution_millis": 311,
        "deepnote_cell_type": "code",
        "deepnote_cell_height": 616.90625,
        "deepnote_output_heights": [
          393.984375
        ],
        "colab": {
          "base_uri": "https://localhost:8080/",
          "height": 409
        },
        "id": "jiy3vCBgiYz-",
        "outputId": "d04c99fc-655e-4026-bfa0-8aa2e386c1e2"
      },
      "source": [
        "cong_time = train_df.groupby(train_df.time.dt.dayofweek).congestion.mean()\n",
        "plt.figure(figsize=(14, 6))\n",
        "plt.title('Weekly mean congestion', fontsize=14)\n",
        "plt.xlabel('Days of the week', fontsize=14)\n",
        "plt.ylabel('Congestion', fontsize=14)\n",
        "plt.bar(cong_time.index, cong_time, color='gold')\n",
        "plt.xticks(ticks=cong_time.index, labels=['Monday', 'Tuesday', 'Wednesday', 'Thursday', 'Friday', 'Saturday', 'Sunday'])\n",
        "plt.show()"
      ],
      "execution_count": null,
      "outputs": [
        {
          "output_type": "display_data",
          "data": {
            "text/plain": [
              "<Figure size 1008x432 with 1 Axes>"
            ],
            "image/png": "[encoded data removed]"
          },
          "metadata": {
            "needs_background": "light"
          }
        }
      ]
    },
    {
      "cell_type": "code",
      "metadata": {
        "cell_id": "4ccc320a0e8246f58f60c17ac2c068c9",
        "tags": [],
        "deepnote_to_be_reexecuted": false,
        "source_hash": "5cfb6417",
        "execution_start": 1649513673991,
        "execution_millis": 553,
        "deepnote_cell_type": "code",
        "deepnote_cell_height": 616.90625,
        "deepnote_output_heights": [
          393.984375
        ],
        "colab": {
          "base_uri": "https://localhost:8080/",
          "height": 409
        },
        "id": "lRpg-pLYiYz_",
        "outputId": "7b281f60-7bfe-4263-89bb-de6d86edef9c"
      },
      "source": [
        "cong_day = train_df.groupby(train_df.time.dt.hour + train_df.time.dt.minute/60).congestion.mean()\n",
        "plt.figure(figsize=(14, 6))\n",
        "plt.title('Mean Congestion per Hour', fontsize=14)\n",
        "plt.bar(cong_day.index, cong_day, color='gold', width=0.34)\n",
        "plt.xticks(range(24))\n",
        "plt.xlabel('Hour of the day', fontsize=14)\n",
        "plt.ylabel('Congestion', fontsize=14)\n",
        "plt.show()"
      ],
      "execution_count": null,
      "outputs": [
        {
          "output_type": "display_data",
          "data": {
            "text/plain": [
              "<Figure size 1008x432 with 1 Axes>"
            ],
            "image/png": "[encoded data removed]"
          },
          "metadata": {
            "needs_background": "light"
          }
        }
      ]
    },
    {
      "cell_type": "markdown",
      "source": [
        "The graphs show that there is a weekly pattern with low congestion on the weekend and also, a daily pattern with a morning peak and a higher peak in the late afternoon."
      ],
      "metadata": {
        "cell_id": "3650034990f8419daad63e34d58a0372",
        "tags": [],
        "deepnote_cell_type": "markdown",
        "deepnote_cell_height": 74.703125,
        "id": "6LiFAb7niYz_"
      }
    },
    {
      "cell_type": "markdown",
      "source": [
        "#### Morning versus Afternoon"
      ],
      "metadata": {
        "cell_id": "c5710d41909f4ee1b62fbed2e04acdf9",
        "tags": [],
        "deepnote_cell_type": "markdown",
        "deepnote_cell_height": 53.9375,
        "id": "CiZXWZmPiYz_"
      }
    },
    {
      "cell_type": "code",
      "source": [
        "#!pip install matplotlib==3.3.0"
      ],
      "metadata": {
        "id": "mOZHl6NpsdU3"
      },
      "execution_count": null,
      "outputs": []
    },
    {
      "cell_type": "code",
      "metadata": {
        "cell_id": "10f8904cf11844769fb5590ad0087d06",
        "tags": [],
        "deepnote_to_be_reexecuted": false,
        "source_hash": "36dd99f8",
        "execution_start": 1649513674554,
        "execution_millis": 1978,
        "deepnote_cell_type": "code",
        "deepnote_cell_height": 693.71875,
        "deepnote_output_heights": [
          308.796875
        ],
        "colab": {
          "base_uri": "https://localhost:8080/",
          "height": 717
        },
        "id": "3kjj5UXoiYz_",
        "outputId": "83ff0b13-f25c-4aec-e168-1d539ed54a32"
      },
      "source": [
        "plt.figure(figsize=(15,5))\n",
        "\n",
        "plt.subplot(1,2,1)\n",
        "train_df[train_df.time.dt.hour<12].congestion.hist(bins=100, color='orange', label='Morning')\n",
        "train_df[train_df.time.dt.hour>=12].congestion.hist(bins=100, color='gold', label='Afternoon')\n",
        "plt.xlabel('Congestion', fontsize=14)\n",
        "plt.ylabel('Count', fontsize=14)\n",
        "plt.legend(labelcolor='linecolor')\n",
        "\n",
        "plt.subplot(1,2,2)\n",
        "train_df[train_df.time.dt.hour>=12].congestion.hist(bins=100, color='gold', label='Afternoon')\n",
        "train_df[train_df.time.dt.hour<12].congestion.hist(bins=100, color='orange', label='Morning')\n",
        "plt.xlabel('Congestion', fontsize=14)\n",
        "plt.ylabel('Count', fontsize=14)\n",
        "plt.legend(labelcolor='linecolor')\n",
        "\n",
        "plt.show()"
      ],
      "execution_count": null,
      "outputs": [
        {
          "output_type": "error",
          "ename": "TypeError",
          "evalue": "ignored",
          "traceback": [
            "\u001b[0;31m---------------------------------------------------------------------------\u001b[0m",
            "\u001b[0;31mTypeError\u001b[0m                                 Traceback (most recent call last)",
            "\u001b[0;32m<ipython-input-24-d3147b910ca1>\u001b[0m in \u001b[0;36m<module>\u001b[0;34m()\u001b[0m\n\u001b[1;32m      6\u001b[0m \u001b[0mplt\u001b[0m\u001b[0;34m.\u001b[0m\u001b[0mxlabel\u001b[0m\u001b[0;34m(\u001b[0m\u001b[0;34m'Congestion'\u001b[0m\u001b[0;34m,\u001b[0m \u001b[0mfontsize\u001b[0m\u001b[0;34m=\u001b[0m\u001b[0;36m14\u001b[0m\u001b[0;34m)\u001b[0m\u001b[0;34m\u001b[0m\u001b[0;34m\u001b[0m\u001b[0m\n\u001b[1;32m      7\u001b[0m \u001b[0mplt\u001b[0m\u001b[0;34m.\u001b[0m\u001b[0mylabel\u001b[0m\u001b[0;34m(\u001b[0m\u001b[0;34m'Count'\u001b[0m\u001b[0;34m,\u001b[0m \u001b[0mfontsize\u001b[0m\u001b[0;34m=\u001b[0m\u001b[0;36m14\u001b[0m\u001b[0;34m)\u001b[0m\u001b[0;34m\u001b[0m\u001b[0;34m\u001b[0m\u001b[0m\n\u001b[0;32m----> 8\u001b[0;31m \u001b[0mplt\u001b[0m\u001b[0;34m.\u001b[0m\u001b[0mlegend\u001b[0m\u001b[0;34m(\u001b[0m\u001b[0mlabelcolor\u001b[0m\u001b[0;34m=\u001b[0m\u001b[0;34m'linecolor'\u001b[0m\u001b[0;34m)\u001b[0m\u001b[0;34m\u001b[0m\u001b[0;34m\u001b[0m\u001b[0m\n\u001b[0m\u001b[1;32m      9\u001b[0m \u001b[0;34m\u001b[0m\u001b[0m\n\u001b[1;32m     10\u001b[0m \u001b[0mplt\u001b[0m\u001b[0;34m.\u001b[0m\u001b[0msubplot\u001b[0m\u001b[0;34m(\u001b[0m\u001b[0;36m1\u001b[0m\u001b[0;34m,\u001b[0m\u001b[0;36m2\u001b[0m\u001b[0;34m,\u001b[0m\u001b[0;36m2\u001b[0m\u001b[0;34m)\u001b[0m\u001b[0;34m\u001b[0m\u001b[0;34m\u001b[0m\u001b[0m\n",
            "\u001b[0;32m/usr/local/lib/python3.7/dist-packages/matplotlib/pyplot.py\u001b[0m in \u001b[0;36mlegend\u001b[0;34m(*args, **kwargs)\u001b[0m\n\u001b[1;32m   2657\u001b[0m \u001b[0;34m@\u001b[0m\u001b[0mdocstring\u001b[0m\u001b[0;34m.\u001b[0m\u001b[0mcopy\u001b[0m\u001b[0;34m(\u001b[0m\u001b[0mAxes\u001b[0m\u001b[0;34m.\u001b[0m\u001b[0mlegend\u001b[0m\u001b[0;34m)\u001b[0m\u001b[0;34m\u001b[0m\u001b[0;34m\u001b[0m\u001b[0m\n\u001b[1;32m   2658\u001b[0m \u001b[0;32mdef\u001b[0m \u001b[0mlegend\u001b[0m\u001b[0;34m(\u001b[0m\u001b[0;34m*\u001b[0m\u001b[0margs\u001b[0m\u001b[0;34m,\u001b[0m \u001b[0;34m**\u001b[0m\u001b[0mkwargs\u001b[0m\u001b[0;34m)\u001b[0m\u001b[0;34m:\u001b[0m\u001b[0;34m\u001b[0m\u001b[0;34m\u001b[0m\u001b[0m\n\u001b[0;32m-> 2659\u001b[0;31m     \u001b[0;32mreturn\u001b[0m \u001b[0mgca\u001b[0m\u001b[0;34m(\u001b[0m\u001b[0;34m)\u001b[0m\u001b[0;34m.\u001b[0m\u001b[0mlegend\u001b[0m\u001b[0;34m(\u001b[0m\u001b[0;34m*\u001b[0m\u001b[0margs\u001b[0m\u001b[0;34m,\u001b[0m \u001b[0;34m**\u001b[0m\u001b[0mkwargs\u001b[0m\u001b[0;34m)\u001b[0m\u001b[0;34m\u001b[0m\u001b[0;34m\u001b[0m\u001b[0m\n\u001b[0m\u001b[1;32m   2660\u001b[0m \u001b[0;34m\u001b[0m\u001b[0m\n\u001b[1;32m   2661\u001b[0m \u001b[0;34m\u001b[0m\u001b[0m\n",
            "\u001b[0;32m/usr/local/lib/python3.7/dist-packages/matplotlib/axes/_axes.py\u001b[0m in \u001b[0;36mlegend\u001b[0;34m(self, *args, **kwargs)\u001b[0m\n\u001b[1;32m    399\u001b[0m         \u001b[0;32mif\u001b[0m \u001b[0mlen\u001b[0m\u001b[0;34m(\u001b[0m\u001b[0mextra_args\u001b[0m\u001b[0;34m)\u001b[0m\u001b[0;34m:\u001b[0m\u001b[0;34m\u001b[0m\u001b[0;34m\u001b[0m\u001b[0m\n\u001b[1;32m    400\u001b[0m             \u001b[0;32mraise\u001b[0m \u001b[0mTypeError\u001b[0m\u001b[0;34m(\u001b[0m\u001b[0;34m'legend only accepts two non-keyword arguments'\u001b[0m\u001b[0;34m)\u001b[0m\u001b[0;34m\u001b[0m\u001b[0;34m\u001b[0m\u001b[0m\n\u001b[0;32m--> 401\u001b[0;31m         \u001b[0mself\u001b[0m\u001b[0;34m.\u001b[0m\u001b[0mlegend_\u001b[0m \u001b[0;34m=\u001b[0m \u001b[0mmlegend\u001b[0m\u001b[0;34m.\u001b[0m\u001b[0mLegend\u001b[0m\u001b[0;34m(\u001b[0m\u001b[0mself\u001b[0m\u001b[0;34m,\u001b[0m \u001b[0mhandles\u001b[0m\u001b[0;34m,\u001b[0m \u001b[0mlabels\u001b[0m\u001b[0;34m,\u001b[0m \u001b[0;34m**\u001b[0m\u001b[0mkwargs\u001b[0m\u001b[0;34m)\u001b[0m\u001b[0;34m\u001b[0m\u001b[0;34m\u001b[0m\u001b[0m\n\u001b[0m\u001b[1;32m    402\u001b[0m         \u001b[0mself\u001b[0m\u001b[0;34m.\u001b[0m\u001b[0mlegend_\u001b[0m\u001b[0;34m.\u001b[0m\u001b[0m_remove_method\u001b[0m \u001b[0;34m=\u001b[0m \u001b[0mself\u001b[0m\u001b[0;34m.\u001b[0m\u001b[0m_remove_legend\u001b[0m\u001b[0;34m\u001b[0m\u001b[0;34m\u001b[0m\u001b[0m\n\u001b[1;32m    403\u001b[0m         \u001b[0;32mreturn\u001b[0m \u001b[0mself\u001b[0m\u001b[0;34m.\u001b[0m\u001b[0mlegend_\u001b[0m\u001b[0;34m\u001b[0m\u001b[0;34m\u001b[0m\u001b[0m\n",
            "\u001b[0;31mTypeError\u001b[0m: __init__() got an unexpected keyword argument 'labelcolor'"
          ]
        },
        {
          "output_type": "display_data",
          "data": {
            "text/plain": [
              "<Figure size 1080x360 with 1 Axes>"
            ],
            "image/png": "[encoded data removed]"
          },
          "metadata": {
            "needs_background": "light"
          }
        }
      ]
    },
    {
      "cell_type": "markdown",
      "source": [
        "We also should analyze congestion at the holidays of this period, like Fourth of July and so on. "
      ],
      "metadata": {
        "cell_id": "b7efb9c5288a4f0b8ed9cb31236517d7",
        "tags": [],
        "deepnote_cell_type": "markdown",
        "deepnote_cell_height": 52.328125,
        "id": "3K8wr29wiYz_"
      }
    },
    {
      "cell_type": "code",
      "metadata": {
        "cell_id": "272826d6c15d445f92703899b1050548",
        "tags": [],
        "deepnote_to_be_reexecuted": false,
        "source_hash": "3814e9a0",
        "execution_start": 1649513676419,
        "execution_millis": 732,
        "deepnote_cell_type": "code",
        "deepnote_cell_height": 725.390625,
        "deepnote_output_heights": [
          322.46875
        ],
        "colab": {
          "base_uri": "https://localhost:8080/",
          "height": 634
        },
        "id": "uiUTyrSYiY0A",
        "outputId": "a5a6bfb8-6b3a-4b7c-8706-1bc20c8f7619"
      },
      "source": [
        "temp = data.groupby(data.time.dt.date).congestion.mean()\n",
        "\n",
        "plt.figure(figsize=(18, 6))\n",
        "plt.title('Daily mean congestion', fontsize=13)\n",
        "plt.xlabel('Day', fontsize=13)\n",
        "plt.ylabel('Congestion', fontsize=13)\n",
        "plt.bar(temp.index, temp, color='#ffd700')\n",
        "plt.ylim(40, 52)\n",
        "\n",
        "for holiday_name, month, day in [('Memorial Day', 5, 27), ('Fourth of July', 7, 4)]:\n",
        "    date = datetime.date(1991, month, day)\n",
        "    plt.annotate(holiday_name,\n",
        "                 (np.datetime64(date), temp.loc[date]),\n",
        "                 xytext=(np.datetime64(date), temp.loc[date]-2),\n",
        "                 arrowprops={'arrowstyle': '-'},\n",
        "                 weight='bold',\n",
        "                 color='k',  fontsize=16)\n",
        "plt.show()"
      ],
      "execution_count": null,
      "outputs": [
        {
          "output_type": "error",
          "ename": "TypeError",
          "evalue": "ignored",
          "traceback": [
            "\u001b[0;31m---------------------------------------------------------------------------\u001b[0m",
            "\u001b[0;31mTypeError\u001b[0m                                 Traceback (most recent call last)",
            "\u001b[0;32m<ipython-input-25-1683c5634072>\u001b[0m in \u001b[0;36m<module>\u001b[0;34m()\u001b[0m\n\u001b[1;32m      9\u001b[0m \u001b[0;34m\u001b[0m\u001b[0m\n\u001b[1;32m     10\u001b[0m \u001b[0;32mfor\u001b[0m \u001b[0mholiday_name\u001b[0m\u001b[0;34m,\u001b[0m \u001b[0mmonth\u001b[0m\u001b[0;34m,\u001b[0m \u001b[0mday\u001b[0m \u001b[0;32min\u001b[0m \u001b[0;34m[\u001b[0m\u001b[0;34m(\u001b[0m\u001b[0;34m'Memorial Day'\u001b[0m\u001b[0;34m,\u001b[0m \u001b[0;36m5\u001b[0m\u001b[0;34m,\u001b[0m \u001b[0;36m27\u001b[0m\u001b[0;34m)\u001b[0m\u001b[0;34m,\u001b[0m \u001b[0;34m(\u001b[0m\u001b[0;34m'Fourth of July'\u001b[0m\u001b[0;34m,\u001b[0m \u001b[0;36m7\u001b[0m\u001b[0;34m,\u001b[0m \u001b[0;36m4\u001b[0m\u001b[0;34m)\u001b[0m\u001b[0;34m]\u001b[0m\u001b[0;34m:\u001b[0m\u001b[0;34m\u001b[0m\u001b[0;34m\u001b[0m\u001b[0m\n\u001b[0;32m---> 11\u001b[0;31m     \u001b[0mdate\u001b[0m \u001b[0;34m=\u001b[0m \u001b[0mdatetime\u001b[0m\u001b[0;34m.\u001b[0m\u001b[0mdate\u001b[0m\u001b[0;34m(\u001b[0m\u001b[0;36m1991\u001b[0m\u001b[0;34m,\u001b[0m \u001b[0mmonth\u001b[0m\u001b[0;34m,\u001b[0m \u001b[0mday\u001b[0m\u001b[0;34m)\u001b[0m\u001b[0;34m\u001b[0m\u001b[0;34m\u001b[0m\u001b[0m\n\u001b[0m\u001b[1;32m     12\u001b[0m     plt.annotate(holiday_name,\n\u001b[1;32m     13\u001b[0m                  \u001b[0;34m(\u001b[0m\u001b[0mnp\u001b[0m\u001b[0;34m.\u001b[0m\u001b[0mdatetime64\u001b[0m\u001b[0;34m(\u001b[0m\u001b[0mdate\u001b[0m\u001b[0;34m)\u001b[0m\u001b[0;34m,\u001b[0m \u001b[0mtemp\u001b[0m\u001b[0;34m.\u001b[0m\u001b[0mloc\u001b[0m\u001b[0;34m[\u001b[0m\u001b[0mdate\u001b[0m\u001b[0;34m]\u001b[0m\u001b[0;34m)\u001b[0m\u001b[0;34m,\u001b[0m\u001b[0;34m\u001b[0m\u001b[0;34m\u001b[0m\u001b[0m\n",
            "\u001b[0;31mTypeError\u001b[0m: descriptor 'date' requires a 'datetime.datetime' object but received a 'int'"
          ]
        },
        {
          "output_type": "display_data",
          "data": {
            "text/plain": [
              "<Figure size 1296x432 with 1 Axes>"
            ],
            "image/png": "[encoded data removed]"
          },
          "metadata": {
            "needs_background": "light"
          }
        }
      ]
    },
    {
      "cell_type": "markdown",
      "source": [
        "Only Memorial Day it's on the weekend. The 4th of July (which was a Thursday) has meager traffic, and the same occurs with Labor day that happens on a Monday.\n",
        "\n",
        "Holidays reference: https://www.timeanddate.com/calendar/?year=1991&country=1"
      ],
      "metadata": {
        "cell_id": "805abed9dbab43f5aa22e96740bc978a",
        "tags": [],
        "deepnote_cell_type": "markdown",
        "deepnote_cell_height": 111.09375,
        "id": "hNq-qlGxiY0A"
      }
    },
    {
      "cell_type": "markdown",
      "source": [
        "Observations:\n",
        "\n",
        "- Thus, these outliers can be a considerable problem if we want our model to learn this data distribution. A simple approach could be dropping all the holidays before training.\n",
        "- Overall, there seem to be weeks with high traffic and weeks with low traffic, and there are yet no reasons why this happens.\n",
        "- A good validation strategy will be important. Because we know that the test dataset is to predict the monday afternoon,perhaps we can use a few Monday afternoons as validation set."
      ],
      "metadata": {
        "cell_id": "73af3bba038a4ee1a27685953731d212",
        "tags": [],
        "deepnote_cell_type": "markdown",
        "deepnote_cell_height": 198.234375,
        "id": "9BeLK1eViY0A"
      }
    },
    {
      "cell_type": "markdown",
      "source": [
        "> *to do: covariance matrix.*"
      ],
      "metadata": {
        "cell_id": "e62ab6d0f2c64b7fb07ec9fdb97ebb22",
        "tags": [],
        "deepnote_cell_type": "markdown",
        "deepnote_cell_height": 66.328125,
        "id": "9mrlH9kJiY0A"
      }
    },
    {
      "cell_type": "code",
      "metadata": {
        "cell_id": "013a1ad395404cc9924bce6e14ea15fa",
        "tags": [],
        "deepnote_to_be_reexecuted": false,
        "source_hash": "d04ae94f",
        "execution_start": 1649342587471,
        "execution_millis": 658,
        "deepnote_cell_type": "code",
        "deepnote_cell_height": 1031.90625,
        "deepnote_output_heights": [
          610.984375
        ],
        "colab": {
          "base_uri": "https://localhost:8080/",
          "height": 631
        },
        "id": "qgwuYT13iY0A",
        "outputId": "c40dcc7c-09e2-4131-d7b2-c77018ffe953"
      },
      "source": [
        "import matplotlib.pyplot as plt\n",
        "import seaborn as sns\n",
        "\n",
        "plt.figure(figsize=(16,10))\n",
        "\n",
        "corr = train_df.corr()\n",
        "ax = sns.heatmap(\n",
        "    corr,\n",
        "    vmin=-1, vmax=1, center=0,\n",
        "    cmap=sns.diverging_palette(20, 220, n=200),\n",
        "    square=True\n",
        ")\n",
        "ax.set_xticklabels(\n",
        "    ax.get_xticklabels(),\n",
        "    rotation=45,\n",
        "    horizontalalignment='right'\n",
        ")\n",
        "\n",
        "plt.show()"
      ],
      "execution_count": null,
      "outputs": [
        {
          "output_type": "display_data",
          "data": {
            "text/plain": [
              "<Figure size 1152x720 with 2 Axes>"
            ],
            "image/png": "[encoded data removed]"
          },
          "metadata": {
            "needs_background": "light"
          }
        }
      ]
    },
    {
      "cell_type": "code",
      "source": [
        "train_df"
      ],
      "metadata": {
        "colab": {
          "base_uri": "https://localhost:8080/",
          "height": 423
        },
        "id": "wZ8UO3fprc8f",
        "outputId": "4233b9f0-4287-49ce-933d-952268a1f487"
      },
      "execution_count": null,
      "outputs": [
        {
          "output_type": "execute_result",
          "data": {
            "text/plain": [
              "        row_id                time  x  y direction  congestion\n",
              "0            0 1991-04-01 00:00:00  0  0        EB          70\n",
              "1            1 1991-04-01 00:00:00  0  0        NB          49\n",
              "2            2 1991-04-01 00:00:00  0  0        SB          24\n",
              "3            3 1991-04-01 00:00:00  0  1        EB          18\n",
              "4            4 1991-04-01 00:00:00  0  1        NB          60\n",
              "...        ...                 ... .. ..       ...         ...\n",
              "569460  569460 1991-07-31 23:40:00  2  3        NB          64\n",
              "569461  569461 1991-07-31 23:40:00  2  3        NE          44\n",
              "569462  569462 1991-07-31 23:40:00  2  3        SB          69\n",
              "569463  569463 1991-07-31 23:40:00  2  3        SW          16\n",
              "569464  569464 1991-07-31 23:40:00  2  3        WB          20\n",
              "\n",
              "[569465 rows x 6 columns]"
            ],
            "text/html": [
              "\n",
              "  <div id=\"df-a54d19a6-7694-4b39-a1e2-80e547a23b2a\">\n",
              "    <div class=\"colab-df-container\">\n",
              "      <div>\n",
              "<style scoped>\n",
              "    .dataframe tbody tr th:only-of-type {\n",
              "        vertical-align: middle;\n",
              "    }\n",
              "\n",
              "    .dataframe tbody tr th {\n",
              "        vertical-align: top;\n",
              "    }\n",
              "\n",
              "    .dataframe thead th {\n",
              "        text-align: right;\n",
              "    }\n",
              "</style>\n",
              "<table border=\"1\" class=\"dataframe\">\n",
              "  <thead>\n",
              "    <tr style=\"text-align: right;\">\n",
              "      <th></th>\n",
              "      <th>row_id</th>\n",
              "      <th>time</th>\n",
              "      <th>x</th>\n",
              "      <th>y</th>\n",
              "      <th>direction</th>\n",
              "      <th>congestion</th>\n",
              "    </tr>\n",
              "  </thead>\n",
              "  <tbody>\n",
              "    <tr>\n",
              "      <th>0</th>\n",
              "      <td>0</td>\n",
              "      <td>1991-04-01 00:00:00</td>\n",
              "      <td>0</td>\n",
              "      <td>0</td>\n",
              "      <td>EB</td>\n",
              "      <td>70</td>\n",
              "    </tr>\n",
              "    <tr>\n",
              "      <th>1</th>\n",
              "      <td>1</td>\n",
              "      <td>1991-04-01 00:00:00</td>\n",
              "      <td>0</td>\n",
              "      <td>0</td>\n",
              "      <td>NB</td>\n",
              "      <td>49</td>\n",
              "    </tr>\n",
              "    <tr>\n",
              "      <th>2</th>\n",
              "      <td>2</td>\n",
              "      <td>1991-04-01 00:00:00</td>\n",
              "      <td>0</td>\n",
              "      <td>0</td>\n",
              "      <td>SB</td>\n",
              "      <td>24</td>\n",
              "    </tr>\n",
              "    <tr>\n",
              "      <th>3</th>\n",
              "      <td>3</td>\n",
              "      <td>1991-04-01 00:00:00</td>\n",
              "      <td>0</td>\n",
              "      <td>1</td>\n",
              "      <td>EB</td>\n",
              "      <td>18</td>\n",
              "    </tr>\n",
              "    <tr>\n",
              "      <th>4</th>\n",
              "      <td>4</td>\n",
              "      <td>1991-04-01 00:00:00</td>\n",
              "      <td>0</td>\n",
              "      <td>1</td>\n",
              "      <td>NB</td>\n",
              "      <td>60</td>\n",
              "    </tr>\n",
              "    <tr>\n",
              "      <th>...</th>\n",
              "      <td>...</td>\n",
              "      <td>...</td>\n",
              "      <td>...</td>\n",
              "      <td>...</td>\n",
              "      <td>...</td>\n",
              "      <td>...</td>\n",
              "    </tr>\n",
              "    <tr>\n",
              "      <th>569460</th>\n",
              "      <td>569460</td>\n",
              "      <td>1991-07-31 23:40:00</td>\n",
              "      <td>2</td>\n",
              "      <td>3</td>\n",
              "      <td>NB</td>\n",
              "      <td>64</td>\n",
              "    </tr>\n",
              "    <tr>\n",
              "      <th>569461</th>\n",
              "      <td>569461</td>\n",
              "      <td>1991-07-31 23:40:00</td>\n",
              "      <td>2</td>\n",
              "      <td>3</td>\n",
              "      <td>NE</td>\n",
              "      <td>44</td>\n",
              "    </tr>\n",
              "    <tr>\n",
              "      <th>569462</th>\n",
              "      <td>569462</td>\n",
              "      <td>1991-07-31 23:40:00</td>\n",
              "      <td>2</td>\n",
              "      <td>3</td>\n",
              "      <td>SB</td>\n",
              "      <td>69</td>\n",
              "    </tr>\n",
              "    <tr>\n",
              "      <th>569463</th>\n",
              "      <td>569463</td>\n",
              "      <td>1991-07-31 23:40:00</td>\n",
              "      <td>2</td>\n",
              "      <td>3</td>\n",
              "      <td>SW</td>\n",
              "      <td>16</td>\n",
              "    </tr>\n",
              "    <tr>\n",
              "      <th>569464</th>\n",
              "      <td>569464</td>\n",
              "      <td>1991-07-31 23:40:00</td>\n",
              "      <td>2</td>\n",
              "      <td>3</td>\n",
              "      <td>WB</td>\n",
              "      <td>20</td>\n",
              "    </tr>\n",
              "  </tbody>\n",
              "</table>\n",
              "<p>569465 rows × 6 columns</p>\n",
              "</div>\n",
              "      <button class=\"colab-df-convert\" onclick=\"convertToInteractive('df-a54d19a6-7694-4b39-a1e2-80e547a23b2a')\"\n",
              "              title=\"Convert this dataframe to an interactive table.\"\n",
              "              style=\"display:none;\">\n",
              "        \n",
              "  <svg xmlns=\"http://www.w3.org/2000/svg\" height=\"24px\"viewBox=\"0 0 24 24\"\n",
              "       width=\"24px\">\n",
              "    <path d=\"M0 0h24v24H0V0z\" fill=\"none\"/>\n",
              "    <path d=\"M18.56 5.44l.94 2.06.94-2.06 2.06-.94-2.06-.94-.94-2.06-.94 2.06-2.06.94zm-11 1L8.5 8.5l.94-2.06 2.06-.94-2.06-.94L8.5 2.5l-.94 2.06-2.06.94zm10 10l.94 2.06.94-2.06 2.06-.94-2.06-.94-.94-2.06-.94 2.06-2.06.94z\"/><path d=\"M17.41 7.96l-1.37-1.37c-.4-.4-.92-.59-1.43-.59-.52 0-1.04.2-1.43.59L10.3 9.45l-7.72 7.72c-.78.78-.78 2.05 0 2.83L4 21.41c.39.39.9.59 1.41.59.51 0 1.02-.2 1.41-.59l7.78-7.78 2.81-2.81c.8-.78.8-2.07 0-2.86zM5.41 20L4 18.59l7.72-7.72 1.47 1.35L5.41 20z\"/>\n",
              "  </svg>\n",
              "      </button>\n",
              "      \n",
              "  <style>\n",
              "    .colab-df-container {\n",
              "      display:flex;\n",
              "      flex-wrap:wrap;\n",
              "      gap: 12px;\n",
              "    }\n",
              "\n",
              "    .colab-df-convert {\n",
              "      background-color: #E8F0FE;\n",
              "      border: none;\n",
              "      border-radius: 50%;\n",
              "      cursor: pointer;\n",
              "      display: none;\n",
              "      fill: #1967D2;\n",
              "      height: 32px;\n",
              "      padding: 0 0 0 0;\n",
              "      width: 32px;\n",
              "    }\n",
              "\n",
              "    .colab-df-convert:hover {\n",
              "      background-color: #E2EBFA;\n",
              "      box-shadow: 0px 1px 2px rgba(60, 64, 67, 0.3), 0px 1px 3px 1px rgba(60, 64, 67, 0.15);\n",
              "      fill: #174EA6;\n",
              "    }\n",
              "\n",
              "    [theme=dark] .colab-df-convert {\n",
              "      background-color: #3B4455;\n",
              "      fill: #D2E3FC;\n",
              "    }\n",
              "\n",
              "    [theme=dark] .colab-df-convert:hover {\n",
              "      background-color: #434B5C;\n",
              "      box-shadow: 0px 1px 3px 1px rgba(0, 0, 0, 0.15);\n",
              "      filter: drop-shadow(0px 1px 2px rgba(0, 0, 0, 0.3));\n",
              "      fill: #FFFFFF;\n",
              "    }\n",
              "  </style>\n",
              "\n",
              "      <script>\n",
              "        const buttonEl =\n",
              "          document.querySelector('#df-a54d19a6-7694-4b39-a1e2-80e547a23b2a button.colab-df-convert');\n",
              "        buttonEl.style.display =\n",
              "          google.colab.kernel.accessAllowed ? 'block' : 'none';\n",
              "\n",
              "        async function convertToInteractive(key) {\n",
              "          const element = document.querySelector('#df-a54d19a6-7694-4b39-a1e2-80e547a23b2a');\n",
              "          const dataTable =\n",
              "            await google.colab.kernel.invokeFunction('convertToInteractive',\n",
              "                                                     [key], {});\n",
              "          if (!dataTable) return;\n",
              "\n",
              "          const docLinkHtml = 'Like what you see? Visit the ' +\n",
              "            '<a target=\"_blank\" href=https://colab.research.google.com/notebooks/data_table.ipynb>data table notebook</a>'\n",
              "            + ' to learn more about interactive tables.';\n",
              "          element.innerHTML = '';\n",
              "          dataTable['output_type'] = 'display_data';\n",
              "          await google.colab.output.renderOutput(dataTable, element);\n",
              "          const docLink = document.createElement('div');\n",
              "          docLink.innerHTML = docLinkHtml;\n",
              "          element.appendChild(docLink);\n",
              "        }\n",
              "      </script>\n",
              "    </div>\n",
              "  </div>\n",
              "  "
            ]
          },
          "metadata": {},
          "execution_count": 27
        }
      ]
    },
    {
      "cell_type": "markdown",
      "source": [
        "### Timestamp Imputation"
      ],
      "metadata": {
        "cell_id": "bc5ae36dfe4c4bc29847333411d400ea",
        "tags": [],
        "is_collapsed": false,
        "deepnote_cell_type": "text-cell-h3",
        "id": "o1MHZ8eUiY0B"
      }
    },
    {
      "cell_type": "code",
      "metadata": {
        "cell_id": "80fde7e59f3c40dfba46c132f3a542a6",
        "tags": [],
        "deepnote_cell_type": "code",
        "deepnote_cell_height": 65.9375,
        "colab": {
          "base_uri": "https://localhost:8080/",
          "height": 423
        },
        "id": "q9CPvkGhiY0B",
        "outputId": "616f9c1f-d642-4899-8511-8bd178aff2af"
      },
      "source": [
        "train_df['road'] = train_df['x'].astype(str) + train_df['y'].astype(str) + train_df['direction']\n",
        "le = LabelEncoder()\n",
        "train_df['road'] = le.fit_transform(train_df['road'])\n",
        "train_df"
      ],
      "execution_count": null,
      "outputs": [
        {
          "output_type": "execute_result",
          "data": {
            "text/plain": [
              "        row_id                time  x  y direction  congestion  road\n",
              "0            0 1991-04-01 00:00:00  0  0        EB          70     0\n",
              "1            1 1991-04-01 00:00:00  0  0        NB          49     1\n",
              "2            2 1991-04-01 00:00:00  0  0        SB          24     2\n",
              "3            3 1991-04-01 00:00:00  0  1        EB          18     3\n",
              "4            4 1991-04-01 00:00:00  0  1        NB          60     4\n",
              "...        ...                 ... .. ..       ...         ...   ...\n",
              "569460  569460 1991-07-31 23:40:00  2  3        NB          64    60\n",
              "569461  569461 1991-07-31 23:40:00  2  3        NE          44    61\n",
              "569462  569462 1991-07-31 23:40:00  2  3        SB          69    62\n",
              "569463  569463 1991-07-31 23:40:00  2  3        SW          16    63\n",
              "569464  569464 1991-07-31 23:40:00  2  3        WB          20    64\n",
              "\n",
              "[569465 rows x 7 columns]"
            ],
            "text/html": [
              "\n",
              "  <div id=\"df-0a7f438b-baff-44a5-8e07-2637be85f264\">\n",
              "    <div class=\"colab-df-container\">\n",
              "      <div>\n",
              "<style scoped>\n",
              "    .dataframe tbody tr th:only-of-type {\n",
              "        vertical-align: middle;\n",
              "    }\n",
              "\n",
              "    .dataframe tbody tr th {\n",
              "        vertical-align: top;\n",
              "    }\n",
              "\n",
              "    .dataframe thead th {\n",
              "        text-align: right;\n",
              "    }\n",
              "</style>\n",
              "<table border=\"1\" class=\"dataframe\">\n",
              "  <thead>\n",
              "    <tr style=\"text-align: right;\">\n",
              "      <th></th>\n",
              "      <th>row_id</th>\n",
              "      <th>time</th>\n",
              "      <th>x</th>\n",
              "      <th>y</th>\n",
              "      <th>direction</th>\n",
              "      <th>congestion</th>\n",
              "      <th>road</th>\n",
              "    </tr>\n",
              "  </thead>\n",
              "  <tbody>\n",
              "    <tr>\n",
              "      <th>0</th>\n",
              "      <td>0</td>\n",
              "      <td>1991-04-01 00:00:00</td>\n",
              "      <td>0</td>\n",
              "      <td>0</td>\n",
              "      <td>EB</td>\n",
              "      <td>70</td>\n",
              "      <td>0</td>\n",
              "    </tr>\n",
              "    <tr>\n",
              "      <th>1</th>\n",
              "      <td>1</td>\n",
              "      <td>1991-04-01 00:00:00</td>\n",
              "      <td>0</td>\n",
              "      <td>0</td>\n",
              "      <td>NB</td>\n",
              "      <td>49</td>\n",
              "      <td>1</td>\n",
              "    </tr>\n",
              "    <tr>\n",
              "      <th>2</th>\n",
              "      <td>2</td>\n",
              "      <td>1991-04-01 00:00:00</td>\n",
              "      <td>0</td>\n",
              "      <td>0</td>\n",
              "      <td>SB</td>\n",
              "      <td>24</td>\n",
              "      <td>2</td>\n",
              "    </tr>\n",
              "    <tr>\n",
              "      <th>3</th>\n",
              "      <td>3</td>\n",
              "      <td>1991-04-01 00:00:00</td>\n",
              "      <td>0</td>\n",
              "      <td>1</td>\n",
              "      <td>EB</td>\n",
              "      <td>18</td>\n",
              "      <td>3</td>\n",
              "    </tr>\n",
              "    <tr>\n",
              "      <th>4</th>\n",
              "      <td>4</td>\n",
              "      <td>1991-04-01 00:00:00</td>\n",
              "      <td>0</td>\n",
              "      <td>1</td>\n",
              "      <td>NB</td>\n",
              "      <td>60</td>\n",
              "      <td>4</td>\n",
              "    </tr>\n",
              "    <tr>\n",
              "      <th>...</th>\n",
              "      <td>...</td>\n",
              "      <td>...</td>\n",
              "      <td>...</td>\n",
              "      <td>...</td>\n",
              "      <td>...</td>\n",
              "      <td>...</td>\n",
              "      <td>...</td>\n",
              "    </tr>\n",
              "    <tr>\n",
              "      <th>569460</th>\n",
              "      <td>569460</td>\n",
              "      <td>1991-07-31 23:40:00</td>\n",
              "      <td>2</td>\n",
              "      <td>3</td>\n",
              "      <td>NB</td>\n",
              "      <td>64</td>\n",
              "      <td>60</td>\n",
              "    </tr>\n",
              "    <tr>\n",
              "      <th>569461</th>\n",
              "      <td>569461</td>\n",
              "      <td>1991-07-31 23:40:00</td>\n",
              "      <td>2</td>\n",
              "      <td>3</td>\n",
              "      <td>NE</td>\n",
              "      <td>44</td>\n",
              "      <td>61</td>\n",
              "    </tr>\n",
              "    <tr>\n",
              "      <th>569462</th>\n",
              "      <td>569462</td>\n",
              "      <td>1991-07-31 23:40:00</td>\n",
              "      <td>2</td>\n",
              "      <td>3</td>\n",
              "      <td>SB</td>\n",
              "      <td>69</td>\n",
              "      <td>62</td>\n",
              "    </tr>\n",
              "    <tr>\n",
              "      <th>569463</th>\n",
              "      <td>569463</td>\n",
              "      <td>1991-07-31 23:40:00</td>\n",
              "      <td>2</td>\n",
              "      <td>3</td>\n",
              "      <td>SW</td>\n",
              "      <td>16</td>\n",
              "      <td>63</td>\n",
              "    </tr>\n",
              "    <tr>\n",
              "      <th>569464</th>\n",
              "      <td>569464</td>\n",
              "      <td>1991-07-31 23:40:00</td>\n",
              "      <td>2</td>\n",
              "      <td>3</td>\n",
              "      <td>WB</td>\n",
              "      <td>20</td>\n",
              "      <td>64</td>\n",
              "    </tr>\n",
              "  </tbody>\n",
              "</table>\n",
              "<p>569465 rows × 7 columns</p>\n",
              "</div>\n",
              "      <button class=\"colab-df-convert\" onclick=\"convertToInteractive('df-0a7f438b-baff-44a5-8e07-2637be85f264')\"\n",
              "              title=\"Convert this dataframe to an interactive table.\"\n",
              "              style=\"display:none;\">\n",
              "        \n",
              "  <svg xmlns=\"http://www.w3.org/2000/svg\" height=\"24px\"viewBox=\"0 0 24 24\"\n",
              "       width=\"24px\">\n",
              "    <path d=\"M0 0h24v24H0V0z\" fill=\"none\"/>\n",
              "    <path d=\"M18.56 5.44l.94 2.06.94-2.06 2.06-.94-2.06-.94-.94-2.06-.94 2.06-2.06.94zm-11 1L8.5 8.5l.94-2.06 2.06-.94-2.06-.94L8.5 2.5l-.94 2.06-2.06.94zm10 10l.94 2.06.94-2.06 2.06-.94-2.06-.94-.94-2.06-.94 2.06-2.06.94z\"/><path d=\"M17.41 7.96l-1.37-1.37c-.4-.4-.92-.59-1.43-.59-.52 0-1.04.2-1.43.59L10.3 9.45l-7.72 7.72c-.78.78-.78 2.05 0 2.83L4 21.41c.39.39.9.59 1.41.59.51 0 1.02-.2 1.41-.59l7.78-7.78 2.81-2.81c.8-.78.8-2.07 0-2.86zM5.41 20L4 18.59l7.72-7.72 1.47 1.35L5.41 20z\"/>\n",
              "  </svg>\n",
              "      </button>\n",
              "      \n",
              "  <style>\n",
              "    .colab-df-container {\n",
              "      display:flex;\n",
              "      flex-wrap:wrap;\n",
              "      gap: 12px;\n",
              "    }\n",
              "\n",
              "    .colab-df-convert {\n",
              "      background-color: #E8F0FE;\n",
              "      border: none;\n",
              "      border-radius: 50%;\n",
              "      cursor: pointer;\n",
              "      display: none;\n",
              "      fill: #1967D2;\n",
              "      height: 32px;\n",
              "      padding: 0 0 0 0;\n",
              "      width: 32px;\n",
              "    }\n",
              "\n",
              "    .colab-df-convert:hover {\n",
              "      background-color: #E2EBFA;\n",
              "      box-shadow: 0px 1px 2px rgba(60, 64, 67, 0.3), 0px 1px 3px 1px rgba(60, 64, 67, 0.15);\n",
              "      fill: #174EA6;\n",
              "    }\n",
              "\n",
              "    [theme=dark] .colab-df-convert {\n",
              "      background-color: #3B4455;\n",
              "      fill: #D2E3FC;\n",
              "    }\n",
              "\n",
              "    [theme=dark] .colab-df-convert:hover {\n",
              "      background-color: #434B5C;\n",
              "      box-shadow: 0px 1px 3px 1px rgba(0, 0, 0, 0.15);\n",
              "      filter: drop-shadow(0px 1px 2px rgba(0, 0, 0, 0.3));\n",
              "      fill: #FFFFFF;\n",
              "    }\n",
              "  </style>\n",
              "\n",
              "      <script>\n",
              "        const buttonEl =\n",
              "          document.querySelector('#df-0a7f438b-baff-44a5-8e07-2637be85f264 button.colab-df-convert');\n",
              "        buttonEl.style.display =\n",
              "          google.colab.kernel.accessAllowed ? 'block' : 'none';\n",
              "\n",
              "        async function convertToInteractive(key) {\n",
              "          const element = document.querySelector('#df-0a7f438b-baff-44a5-8e07-2637be85f264');\n",
              "          const dataTable =\n",
              "            await google.colab.kernel.invokeFunction('convertToInteractive',\n",
              "                                                     [key], {});\n",
              "          if (!dataTable) return;\n",
              "\n",
              "          const docLinkHtml = 'Like what you see? Visit the ' +\n",
              "            '<a target=\"_blank\" href=https://colab.research.google.com/notebooks/data_table.ipynb>data table notebook</a>'\n",
              "            + ' to learn more about interactive tables.';\n",
              "          element.innerHTML = '';\n",
              "          dataTable['output_type'] = 'display_data';\n",
              "          await google.colab.output.renderOutput(dataTable, element);\n",
              "          const docLink = document.createElement('div');\n",
              "          docLink.innerHTML = docLinkHtml;\n",
              "          element.appendChild(docLink);\n",
              "        }\n",
              "      </script>\n",
              "    </div>\n",
              "  </div>\n",
              "  "
            ]
          },
          "metadata": {},
          "execution_count": 28
        }
      ]
    },
    {
      "cell_type": "code",
      "source": [
        "# creating the complete timestamp \n",
        "\n",
        "time_idx = pd.date_range(\"1991-04-01 00:00:00\",\"1991-09-30 11:40:00\", name=\"time\", freq=\"20min\")\n",
        "time_idx"
      ],
      "metadata": {
        "colab": {
          "base_uri": "https://localhost:8080/"
        },
        "id": "g8SrZd8jwFal",
        "outputId": "30450510-8c9a-4400-cfa3-1e5e7389ba01"
      },
      "execution_count": null,
      "outputs": [
        {
          "output_type": "execute_result",
          "data": {
            "text/plain": [
              "DatetimeIndex(['1991-04-01 00:00:00', '1991-04-01 00:20:00',\n",
              "               '1991-04-01 00:40:00', '1991-04-01 01:00:00',\n",
              "               '1991-04-01 01:20:00', '1991-04-01 01:40:00',\n",
              "               '1991-04-01 02:00:00', '1991-04-01 02:20:00',\n",
              "               '1991-04-01 02:40:00', '1991-04-01 03:00:00',\n",
              "               ...\n",
              "               '1991-09-30 08:40:00', '1991-09-30 09:00:00',\n",
              "               '1991-09-30 09:20:00', '1991-09-30 09:40:00',\n",
              "               '1991-09-30 10:00:00', '1991-09-30 10:20:00',\n",
              "               '1991-09-30 10:40:00', '1991-09-30 11:00:00',\n",
              "               '1991-09-30 11:20:00', '1991-09-30 11:40:00'],\n",
              "              dtype='datetime64[ns]', name='time', length=13140, freq='20T')"
            ]
          },
          "metadata": {},
          "execution_count": 29
        }
      ]
    },
    {
      "cell_type": "code",
      "source": [
        "# creating new data that contains all timestamps to be merge with the actual data\n",
        "new_data = pd.DataFrame(columns=['time'])\n",
        "new_data[\"time\"] = pd.to_datetime(new_data[\"time\"])\n",
        "\n",
        "new_data[\"time\"] = time_idx\n",
        "new_data= new_data.loc[new_data.index.repeat(65)] # reapeat 65 cuz are 65 roads\n",
        "\n",
        "roads = pd.DataFrame(columns=['road'])\n",
        "for x in range(65):\n",
        "    roads.loc[x] = [x]\n",
        "roads = pd.concat([roads]*13140, ignore_index=True) # reapeat 13140 cuz are 13140 timestamps\n",
        "\n",
        "# adding roads to the new data\n",
        "new_data['road'] = roads['road'].values\n",
        "\n",
        "new_data"
      ],
      "metadata": {
        "colab": {
          "base_uri": "https://localhost:8080/",
          "height": 423
        },
        "id": "g6zU7Zzpw4of",
        "outputId": "f3b47651-8854-485b-80f6-3a8b898868da"
      },
      "execution_count": null,
      "outputs": [
        {
          "output_type": "execute_result",
          "data": {
            "text/plain": [
              "                     time road\n",
              "0     1991-04-01 00:00:00    0\n",
              "0     1991-04-01 00:00:00    1\n",
              "0     1991-04-01 00:00:00    2\n",
              "0     1991-04-01 00:00:00    3\n",
              "0     1991-04-01 00:00:00    4\n",
              "...                   ...  ...\n",
              "13139 1991-09-30 11:40:00   60\n",
              "13139 1991-09-30 11:40:00   61\n",
              "13139 1991-09-30 11:40:00   62\n",
              "13139 1991-09-30 11:40:00   63\n",
              "13139 1991-09-30 11:40:00   64\n",
              "\n",
              "[854100 rows x 2 columns]"
            ],
            "text/html": [
              "\n",
              "  <div id=\"df-7c19cd0a-0408-4cc4-bd70-5edf3451e38b\">\n",
              "    <div class=\"colab-df-container\">\n",
              "      <div>\n",
              "<style scoped>\n",
              "    .dataframe tbody tr th:only-of-type {\n",
              "        vertical-align: middle;\n",
              "    }\n",
              "\n",
              "    .dataframe tbody tr th {\n",
              "        vertical-align: top;\n",
              "    }\n",
              "\n",
              "    .dataframe thead th {\n",
              "        text-align: right;\n",
              "    }\n",
              "</style>\n",
              "<table border=\"1\" class=\"dataframe\">\n",
              "  <thead>\n",
              "    <tr style=\"text-align: right;\">\n",
              "      <th></th>\n",
              "      <th>time</th>\n",
              "      <th>road</th>\n",
              "    </tr>\n",
              "  </thead>\n",
              "  <tbody>\n",
              "    <tr>\n",
              "      <th>0</th>\n",
              "      <td>1991-04-01 00:00:00</td>\n",
              "      <td>0</td>\n",
              "    </tr>\n",
              "    <tr>\n",
              "      <th>0</th>\n",
              "      <td>1991-04-01 00:00:00</td>\n",
              "      <td>1</td>\n",
              "    </tr>\n",
              "    <tr>\n",
              "      <th>0</th>\n",
              "      <td>1991-04-01 00:00:00</td>\n",
              "      <td>2</td>\n",
              "    </tr>\n",
              "    <tr>\n",
              "      <th>0</th>\n",
              "      <td>1991-04-01 00:00:00</td>\n",
              "      <td>3</td>\n",
              "    </tr>\n",
              "    <tr>\n",
              "      <th>0</th>\n",
              "      <td>1991-04-01 00:00:00</td>\n",
              "      <td>4</td>\n",
              "    </tr>\n",
              "    <tr>\n",
              "      <th>...</th>\n",
              "      <td>...</td>\n",
              "      <td>...</td>\n",
              "    </tr>\n",
              "    <tr>\n",
              "      <th>13139</th>\n",
              "      <td>1991-09-30 11:40:00</td>\n",
              "      <td>60</td>\n",
              "    </tr>\n",
              "    <tr>\n",
              "      <th>13139</th>\n",
              "      <td>1991-09-30 11:40:00</td>\n",
              "      <td>61</td>\n",
              "    </tr>\n",
              "    <tr>\n",
              "      <th>13139</th>\n",
              "      <td>1991-09-30 11:40:00</td>\n",
              "      <td>62</td>\n",
              "    </tr>\n",
              "    <tr>\n",
              "      <th>13139</th>\n",
              "      <td>1991-09-30 11:40:00</td>\n",
              "      <td>63</td>\n",
              "    </tr>\n",
              "    <tr>\n",
              "      <th>13139</th>\n",
              "      <td>1991-09-30 11:40:00</td>\n",
              "      <td>64</td>\n",
              "    </tr>\n",
              "  </tbody>\n",
              "</table>\n",
              "<p>854100 rows × 2 columns</p>\n",
              "</div>\n",
              "      <button class=\"colab-df-convert\" onclick=\"convertToInteractive('df-7c19cd0a-0408-4cc4-bd70-5edf3451e38b')\"\n",
              "              title=\"Convert this dataframe to an interactive table.\"\n",
              "              style=\"display:none;\">\n",
              "        \n",
              "  <svg xmlns=\"http://www.w3.org/2000/svg\" height=\"24px\"viewBox=\"0 0 24 24\"\n",
              "       width=\"24px\">\n",
              "    <path d=\"M0 0h24v24H0V0z\" fill=\"none\"/>\n",
              "    <path d=\"M18.56 5.44l.94 2.06.94-2.06 2.06-.94-2.06-.94-.94-2.06-.94 2.06-2.06.94zm-11 1L8.5 8.5l.94-2.06 2.06-.94-2.06-.94L8.5 2.5l-.94 2.06-2.06.94zm10 10l.94 2.06.94-2.06 2.06-.94-2.06-.94-.94-2.06-.94 2.06-2.06.94z\"/><path d=\"M17.41 7.96l-1.37-1.37c-.4-.4-.92-.59-1.43-.59-.52 0-1.04.2-1.43.59L10.3 9.45l-7.72 7.72c-.78.78-.78 2.05 0 2.83L4 21.41c.39.39.9.59 1.41.59.51 0 1.02-.2 1.41-.59l7.78-7.78 2.81-2.81c.8-.78.8-2.07 0-2.86zM5.41 20L4 18.59l7.72-7.72 1.47 1.35L5.41 20z\"/>\n",
              "  </svg>\n",
              "      </button>\n",
              "      \n",
              "  <style>\n",
              "    .colab-df-container {\n",
              "      display:flex;\n",
              "      flex-wrap:wrap;\n",
              "      gap: 12px;\n",
              "    }\n",
              "\n",
              "    .colab-df-convert {\n",
              "      background-color: #E8F0FE;\n",
              "      border: none;\n",
              "      border-radius: 50%;\n",
              "      cursor: pointer;\n",
              "      display: none;\n",
              "      fill: #1967D2;\n",
              "      height: 32px;\n",
              "      padding: 0 0 0 0;\n",
              "      width: 32px;\n",
              "    }\n",
              "\n",
              "    .colab-df-convert:hover {\n",
              "      background-color: #E2EBFA;\n",
              "      box-shadow: 0px 1px 2px rgba(60, 64, 67, 0.3), 0px 1px 3px 1px rgba(60, 64, 67, 0.15);\n",
              "      fill: #174EA6;\n",
              "    }\n",
              "\n",
              "    [theme=dark] .colab-df-convert {\n",
              "      background-color: #3B4455;\n",
              "      fill: #D2E3FC;\n",
              "    }\n",
              "\n",
              "    [theme=dark] .colab-df-convert:hover {\n",
              "      background-color: #434B5C;\n",
              "      box-shadow: 0px 1px 3px 1px rgba(0, 0, 0, 0.15);\n",
              "      filter: drop-shadow(0px 1px 2px rgba(0, 0, 0, 0.3));\n",
              "      fill: #FFFFFF;\n",
              "    }\n",
              "  </style>\n",
              "\n",
              "      <script>\n",
              "        const buttonEl =\n",
              "          document.querySelector('#df-7c19cd0a-0408-4cc4-bd70-5edf3451e38b button.colab-df-convert');\n",
              "        buttonEl.style.display =\n",
              "          google.colab.kernel.accessAllowed ? 'block' : 'none';\n",
              "\n",
              "        async function convertToInteractive(key) {\n",
              "          const element = document.querySelector('#df-7c19cd0a-0408-4cc4-bd70-5edf3451e38b');\n",
              "          const dataTable =\n",
              "            await google.colab.kernel.invokeFunction('convertToInteractive',\n",
              "                                                     [key], {});\n",
              "          if (!dataTable) return;\n",
              "\n",
              "          const docLinkHtml = 'Like what you see? Visit the ' +\n",
              "            '<a target=\"_blank\" href=https://colab.research.google.com/notebooks/data_table.ipynb>data table notebook</a>'\n",
              "            + ' to learn more about interactive tables.';\n",
              "          element.innerHTML = '';\n",
              "          dataTable['output_type'] = 'display_data';\n",
              "          await google.colab.output.renderOutput(dataTable, element);\n",
              "          const docLink = document.createElement('div');\n",
              "          docLink.innerHTML = docLinkHtml;\n",
              "          element.appendChild(docLink);\n",
              "        }\n",
              "      </script>\n",
              "    </div>\n",
              "  </div>\n",
              "  "
            ]
          },
          "metadata": {},
          "execution_count": 30
        }
      ]
    },
    {
      "cell_type": "code",
      "source": [
        "new_data = new_data.reset_index()\n",
        "# 570959"
      ],
      "metadata": {
        "id": "gFi7ys8zw_mM"
      },
      "execution_count": null,
      "outputs": []
    },
    {
      "cell_type": "code",
      "source": [
        "new_train = new_data[0:570960]\n",
        "new_train = new_train.drop(['index'], axis=1)\n",
        "new_train"
      ],
      "metadata": {
        "colab": {
          "base_uri": "https://localhost:8080/",
          "height": 423
        },
        "id": "XxImY7iFxGUH",
        "outputId": "9bf77563-b59c-42f8-9339-bdcb2d05f80d"
      },
      "execution_count": null,
      "outputs": [
        {
          "output_type": "execute_result",
          "data": {
            "text/plain": [
              "                      time road\n",
              "0      1991-04-01 00:00:00    0\n",
              "1      1991-04-01 00:00:00    1\n",
              "2      1991-04-01 00:00:00    2\n",
              "3      1991-04-01 00:00:00    3\n",
              "4      1991-04-01 00:00:00    4\n",
              "...                    ...  ...\n",
              "570955 1991-07-31 23:40:00   60\n",
              "570956 1991-07-31 23:40:00   61\n",
              "570957 1991-07-31 23:40:00   62\n",
              "570958 1991-07-31 23:40:00   63\n",
              "570959 1991-07-31 23:40:00   64\n",
              "\n",
              "[570960 rows x 2 columns]"
            ],
            "text/html": [
              "\n",
              "  <div id=\"df-e43ac6f4-5b73-4039-bad4-2edc4dae161d\">\n",
              "    <div class=\"colab-df-container\">\n",
              "      <div>\n",
              "<style scoped>\n",
              "    .dataframe tbody tr th:only-of-type {\n",
              "        vertical-align: middle;\n",
              "    }\n",
              "\n",
              "    .dataframe tbody tr th {\n",
              "        vertical-align: top;\n",
              "    }\n",
              "\n",
              "    .dataframe thead th {\n",
              "        text-align: right;\n",
              "    }\n",
              "</style>\n",
              "<table border=\"1\" class=\"dataframe\">\n",
              "  <thead>\n",
              "    <tr style=\"text-align: right;\">\n",
              "      <th></th>\n",
              "      <th>time</th>\n",
              "      <th>road</th>\n",
              "    </tr>\n",
              "  </thead>\n",
              "  <tbody>\n",
              "    <tr>\n",
              "      <th>0</th>\n",
              "      <td>1991-04-01 00:00:00</td>\n",
              "      <td>0</td>\n",
              "    </tr>\n",
              "    <tr>\n",
              "      <th>1</th>\n",
              "      <td>1991-04-01 00:00:00</td>\n",
              "      <td>1</td>\n",
              "    </tr>\n",
              "    <tr>\n",
              "      <th>2</th>\n",
              "      <td>1991-04-01 00:00:00</td>\n",
              "      <td>2</td>\n",
              "    </tr>\n",
              "    <tr>\n",
              "      <th>3</th>\n",
              "      <td>1991-04-01 00:00:00</td>\n",
              "      <td>3</td>\n",
              "    </tr>\n",
              "    <tr>\n",
              "      <th>4</th>\n",
              "      <td>1991-04-01 00:00:00</td>\n",
              "      <td>4</td>\n",
              "    </tr>\n",
              "    <tr>\n",
              "      <th>...</th>\n",
              "      <td>...</td>\n",
              "      <td>...</td>\n",
              "    </tr>\n",
              "    <tr>\n",
              "      <th>570955</th>\n",
              "      <td>1991-07-31 23:40:00</td>\n",
              "      <td>60</td>\n",
              "    </tr>\n",
              "    <tr>\n",
              "      <th>570956</th>\n",
              "      <td>1991-07-31 23:40:00</td>\n",
              "      <td>61</td>\n",
              "    </tr>\n",
              "    <tr>\n",
              "      <th>570957</th>\n",
              "      <td>1991-07-31 23:40:00</td>\n",
              "      <td>62</td>\n",
              "    </tr>\n",
              "    <tr>\n",
              "      <th>570958</th>\n",
              "      <td>1991-07-31 23:40:00</td>\n",
              "      <td>63</td>\n",
              "    </tr>\n",
              "    <tr>\n",
              "      <th>570959</th>\n",
              "      <td>1991-07-31 23:40:00</td>\n",
              "      <td>64</td>\n",
              "    </tr>\n",
              "  </tbody>\n",
              "</table>\n",
              "<p>570960 rows × 2 columns</p>\n",
              "</div>\n",
              "      <button class=\"colab-df-convert\" onclick=\"convertToInteractive('df-e43ac6f4-5b73-4039-bad4-2edc4dae161d')\"\n",
              "              title=\"Convert this dataframe to an interactive table.\"\n",
              "              style=\"display:none;\">\n",
              "        \n",
              "  <svg xmlns=\"http://www.w3.org/2000/svg\" height=\"24px\"viewBox=\"0 0 24 24\"\n",
              "       width=\"24px\">\n",
              "    <path d=\"M0 0h24v24H0V0z\" fill=\"none\"/>\n",
              "    <path d=\"M18.56 5.44l.94 2.06.94-2.06 2.06-.94-2.06-.94-.94-2.06-.94 2.06-2.06.94zm-11 1L8.5 8.5l.94-2.06 2.06-.94-2.06-.94L8.5 2.5l-.94 2.06-2.06.94zm10 10l.94 2.06.94-2.06 2.06-.94-2.06-.94-.94-2.06-.94 2.06-2.06.94z\"/><path d=\"M17.41 7.96l-1.37-1.37c-.4-.4-.92-.59-1.43-.59-.52 0-1.04.2-1.43.59L10.3 9.45l-7.72 7.72c-.78.78-.78 2.05 0 2.83L4 21.41c.39.39.9.59 1.41.59.51 0 1.02-.2 1.41-.59l7.78-7.78 2.81-2.81c.8-.78.8-2.07 0-2.86zM5.41 20L4 18.59l7.72-7.72 1.47 1.35L5.41 20z\"/>\n",
              "  </svg>\n",
              "      </button>\n",
              "      \n",
              "  <style>\n",
              "    .colab-df-container {\n",
              "      display:flex;\n",
              "      flex-wrap:wrap;\n",
              "      gap: 12px;\n",
              "    }\n",
              "\n",
              "    .colab-df-convert {\n",
              "      background-color: #E8F0FE;\n",
              "      border: none;\n",
              "      border-radius: 50%;\n",
              "      cursor: pointer;\n",
              "      display: none;\n",
              "      fill: #1967D2;\n",
              "      height: 32px;\n",
              "      padding: 0 0 0 0;\n",
              "      width: 32px;\n",
              "    }\n",
              "\n",
              "    .colab-df-convert:hover {\n",
              "      background-color: #E2EBFA;\n",
              "      box-shadow: 0px 1px 2px rgba(60, 64, 67, 0.3), 0px 1px 3px 1px rgba(60, 64, 67, 0.15);\n",
              "      fill: #174EA6;\n",
              "    }\n",
              "\n",
              "    [theme=dark] .colab-df-convert {\n",
              "      background-color: #3B4455;\n",
              "      fill: #D2E3FC;\n",
              "    }\n",
              "\n",
              "    [theme=dark] .colab-df-convert:hover {\n",
              "      background-color: #434B5C;\n",
              "      box-shadow: 0px 1px 3px 1px rgba(0, 0, 0, 0.15);\n",
              "      filter: drop-shadow(0px 1px 2px rgba(0, 0, 0, 0.3));\n",
              "      fill: #FFFFFF;\n",
              "    }\n",
              "  </style>\n",
              "\n",
              "      <script>\n",
              "        const buttonEl =\n",
              "          document.querySelector('#df-e43ac6f4-5b73-4039-bad4-2edc4dae161d button.colab-df-convert');\n",
              "        buttonEl.style.display =\n",
              "          google.colab.kernel.accessAllowed ? 'block' : 'none';\n",
              "\n",
              "        async function convertToInteractive(key) {\n",
              "          const element = document.querySelector('#df-e43ac6f4-5b73-4039-bad4-2edc4dae161d');\n",
              "          const dataTable =\n",
              "            await google.colab.kernel.invokeFunction('convertToInteractive',\n",
              "                                                     [key], {});\n",
              "          if (!dataTable) return;\n",
              "\n",
              "          const docLinkHtml = 'Like what you see? Visit the ' +\n",
              "            '<a target=\"_blank\" href=https://colab.research.google.com/notebooks/data_table.ipynb>data table notebook</a>'\n",
              "            + ' to learn more about interactive tables.';\n",
              "          element.innerHTML = '';\n",
              "          dataTable['output_type'] = 'display_data';\n",
              "          await google.colab.output.renderOutput(dataTable, element);\n",
              "          const docLink = document.createElement('div');\n",
              "          docLink.innerHTML = docLinkHtml;\n",
              "          element.appendChild(docLink);\n",
              "        }\n",
              "      </script>\n",
              "    </div>\n",
              "  </div>\n",
              "  "
            ]
          },
          "metadata": {},
          "execution_count": 32
        }
      ]
    },
    {
      "cell_type": "code",
      "source": [
        "# merging the new_train to the original train dataset(match congestion etc)\n",
        "merged_left = pd.merge(left=new_train, right=train_df, how='left', left_on=['time', 'road'], right_on=['time', 'road'])\n",
        "\n",
        "merged_left"
      ],
      "metadata": {
        "colab": {
          "base_uri": "https://localhost:8080/",
          "height": 423
        },
        "id": "hNVzMk2sxDGo",
        "outputId": "a94a2349-b128-477b-9191-9dd4299603c0"
      },
      "execution_count": null,
      "outputs": [
        {
          "output_type": "execute_result",
          "data": {
            "text/plain": [
              "                      time road    row_id    x    y direction  congestion\n",
              "0      1991-04-01 00:00:00    0       0.0  0.0  0.0        EB        70.0\n",
              "1      1991-04-01 00:00:00    1       1.0  0.0  0.0        NB        49.0\n",
              "2      1991-04-01 00:00:00    2       2.0  0.0  0.0        SB        24.0\n",
              "3      1991-04-01 00:00:00    3       3.0  0.0  1.0        EB        18.0\n",
              "4      1991-04-01 00:00:00    4       4.0  0.0  1.0        NB        60.0\n",
              "...                    ...  ...       ...  ...  ...       ...         ...\n",
              "570955 1991-07-31 23:40:00   60  569460.0  2.0  3.0        NB        64.0\n",
              "570956 1991-07-31 23:40:00   61  569461.0  2.0  3.0        NE        44.0\n",
              "570957 1991-07-31 23:40:00   62  569462.0  2.0  3.0        SB        69.0\n",
              "570958 1991-07-31 23:40:00   63  569463.0  2.0  3.0        SW        16.0\n",
              "570959 1991-07-31 23:40:00   64  569464.0  2.0  3.0        WB        20.0\n",
              "\n",
              "[570960 rows x 7 columns]"
            ],
            "text/html": [
              "\n",
              "  <div id=\"df-153119c9-6b68-4497-be9c-70dddf78b38d\">\n",
              "    <div class=\"colab-df-container\">\n",
              "      <div>\n",
              "<style scoped>\n",
              "    .dataframe tbody tr th:only-of-type {\n",
              "        vertical-align: middle;\n",
              "    }\n",
              "\n",
              "    .dataframe tbody tr th {\n",
              "        vertical-align: top;\n",
              "    }\n",
              "\n",
              "    .dataframe thead th {\n",
              "        text-align: right;\n",
              "    }\n",
              "</style>\n",
              "<table border=\"1\" class=\"dataframe\">\n",
              "  <thead>\n",
              "    <tr style=\"text-align: right;\">\n",
              "      <th></th>\n",
              "      <th>time</th>\n",
              "      <th>road</th>\n",
              "      <th>row_id</th>\n",
              "      <th>x</th>\n",
              "      <th>y</th>\n",
              "      <th>direction</th>\n",
              "      <th>congestion</th>\n",
              "    </tr>\n",
              "  </thead>\n",
              "  <tbody>\n",
              "    <tr>\n",
              "      <th>0</th>\n",
              "      <td>1991-04-01 00:00:00</td>\n",
              "      <td>0</td>\n",
              "      <td>0.0</td>\n",
              "      <td>0.0</td>\n",
              "      <td>0.0</td>\n",
              "      <td>EB</td>\n",
              "      <td>70.0</td>\n",
              "    </tr>\n",
              "    <tr>\n",
              "      <th>1</th>\n",
              "      <td>1991-04-01 00:00:00</td>\n",
              "      <td>1</td>\n",
              "      <td>1.0</td>\n",
              "      <td>0.0</td>\n",
              "      <td>0.0</td>\n",
              "      <td>NB</td>\n",
              "      <td>49.0</td>\n",
              "    </tr>\n",
              "    <tr>\n",
              "      <th>2</th>\n",
              "      <td>1991-04-01 00:00:00</td>\n",
              "      <td>2</td>\n",
              "      <td>2.0</td>\n",
              "      <td>0.0</td>\n",
              "      <td>0.0</td>\n",
              "      <td>SB</td>\n",
              "      <td>24.0</td>\n",
              "    </tr>\n",
              "    <tr>\n",
              "      <th>3</th>\n",
              "      <td>1991-04-01 00:00:00</td>\n",
              "      <td>3</td>\n",
              "      <td>3.0</td>\n",
              "      <td>0.0</td>\n",
              "      <td>1.0</td>\n",
              "      <td>EB</td>\n",
              "      <td>18.0</td>\n",
              "    </tr>\n",
              "    <tr>\n",
              "      <th>4</th>\n",
              "      <td>1991-04-01 00:00:00</td>\n",
              "      <td>4</td>\n",
              "      <td>4.0</td>\n",
              "      <td>0.0</td>\n",
              "      <td>1.0</td>\n",
              "      <td>NB</td>\n",
              "      <td>60.0</td>\n",
              "    </tr>\n",
              "    <tr>\n",
              "      <th>...</th>\n",
              "      <td>...</td>\n",
              "      <td>...</td>\n",
              "      <td>...</td>\n",
              "      <td>...</td>\n",
              "      <td>...</td>\n",
              "      <td>...</td>\n",
              "      <td>...</td>\n",
              "    </tr>\n",
              "    <tr>\n",
              "      <th>570955</th>\n",
              "      <td>1991-07-31 23:40:00</td>\n",
              "      <td>60</td>\n",
              "      <td>569460.0</td>\n",
              "      <td>2.0</td>\n",
              "      <td>3.0</td>\n",
              "      <td>NB</td>\n",
              "      <td>64.0</td>\n",
              "    </tr>\n",
              "    <tr>\n",
              "      <th>570956</th>\n",
              "      <td>1991-07-31 23:40:00</td>\n",
              "      <td>61</td>\n",
              "      <td>569461.0</td>\n",
              "      <td>2.0</td>\n",
              "      <td>3.0</td>\n",
              "      <td>NE</td>\n",
              "      <td>44.0</td>\n",
              "    </tr>\n",
              "    <tr>\n",
              "      <th>570957</th>\n",
              "      <td>1991-07-31 23:40:00</td>\n",
              "      <td>62</td>\n",
              "      <td>569462.0</td>\n",
              "      <td>2.0</td>\n",
              "      <td>3.0</td>\n",
              "      <td>SB</td>\n",
              "      <td>69.0</td>\n",
              "    </tr>\n",
              "    <tr>\n",
              "      <th>570958</th>\n",
              "      <td>1991-07-31 23:40:00</td>\n",
              "      <td>63</td>\n",
              "      <td>569463.0</td>\n",
              "      <td>2.0</td>\n",
              "      <td>3.0</td>\n",
              "      <td>SW</td>\n",
              "      <td>16.0</td>\n",
              "    </tr>\n",
              "    <tr>\n",
              "      <th>570959</th>\n",
              "      <td>1991-07-31 23:40:00</td>\n",
              "      <td>64</td>\n",
              "      <td>569464.0</td>\n",
              "      <td>2.0</td>\n",
              "      <td>3.0</td>\n",
              "      <td>WB</td>\n",
              "      <td>20.0</td>\n",
              "    </tr>\n",
              "  </tbody>\n",
              "</table>\n",
              "<p>570960 rows × 7 columns</p>\n",
              "</div>\n",
              "      <button class=\"colab-df-convert\" onclick=\"convertToInteractive('df-153119c9-6b68-4497-be9c-70dddf78b38d')\"\n",
              "              title=\"Convert this dataframe to an interactive table.\"\n",
              "              style=\"display:none;\">\n",
              "        \n",
              "  <svg xmlns=\"http://www.w3.org/2000/svg\" height=\"24px\"viewBox=\"0 0 24 24\"\n",
              "       width=\"24px\">\n",
              "    <path d=\"M0 0h24v24H0V0z\" fill=\"none\"/>\n",
              "    <path d=\"M18.56 5.44l.94 2.06.94-2.06 2.06-.94-2.06-.94-.94-2.06-.94 2.06-2.06.94zm-11 1L8.5 8.5l.94-2.06 2.06-.94-2.06-.94L8.5 2.5l-.94 2.06-2.06.94zm10 10l.94 2.06.94-2.06 2.06-.94-2.06-.94-.94-2.06-.94 2.06-2.06.94z\"/><path d=\"M17.41 7.96l-1.37-1.37c-.4-.4-.92-.59-1.43-.59-.52 0-1.04.2-1.43.59L10.3 9.45l-7.72 7.72c-.78.78-.78 2.05 0 2.83L4 21.41c.39.39.9.59 1.41.59.51 0 1.02-.2 1.41-.59l7.78-7.78 2.81-2.81c.8-.78.8-2.07 0-2.86zM5.41 20L4 18.59l7.72-7.72 1.47 1.35L5.41 20z\"/>\n",
              "  </svg>\n",
              "      </button>\n",
              "      \n",
              "  <style>\n",
              "    .colab-df-container {\n",
              "      display:flex;\n",
              "      flex-wrap:wrap;\n",
              "      gap: 12px;\n",
              "    }\n",
              "\n",
              "    .colab-df-convert {\n",
              "      background-color: #E8F0FE;\n",
              "      border: none;\n",
              "      border-radius: 50%;\n",
              "      cursor: pointer;\n",
              "      display: none;\n",
              "      fill: #1967D2;\n",
              "      height: 32px;\n",
              "      padding: 0 0 0 0;\n",
              "      width: 32px;\n",
              "    }\n",
              "\n",
              "    .colab-df-convert:hover {\n",
              "      background-color: #E2EBFA;\n",
              "      box-shadow: 0px 1px 2px rgba(60, 64, 67, 0.3), 0px 1px 3px 1px rgba(60, 64, 67, 0.15);\n",
              "      fill: #174EA6;\n",
              "    }\n",
              "\n",
              "    [theme=dark] .colab-df-convert {\n",
              "      background-color: #3B4455;\n",
              "      fill: #D2E3FC;\n",
              "    }\n",
              "\n",
              "    [theme=dark] .colab-df-convert:hover {\n",
              "      background-color: #434B5C;\n",
              "      box-shadow: 0px 1px 3px 1px rgba(0, 0, 0, 0.15);\n",
              "      filter: drop-shadow(0px 1px 2px rgba(0, 0, 0, 0.3));\n",
              "      fill: #FFFFFF;\n",
              "    }\n",
              "  </style>\n",
              "\n",
              "      <script>\n",
              "        const buttonEl =\n",
              "          document.querySelector('#df-153119c9-6b68-4497-be9c-70dddf78b38d button.colab-df-convert');\n",
              "        buttonEl.style.display =\n",
              "          google.colab.kernel.accessAllowed ? 'block' : 'none';\n",
              "\n",
              "        async function convertToInteractive(key) {\n",
              "          const element = document.querySelector('#df-153119c9-6b68-4497-be9c-70dddf78b38d');\n",
              "          const dataTable =\n",
              "            await google.colab.kernel.invokeFunction('convertToInteractive',\n",
              "                                                     [key], {});\n",
              "          if (!dataTable) return;\n",
              "\n",
              "          const docLinkHtml = 'Like what you see? Visit the ' +\n",
              "            '<a target=\"_blank\" href=https://colab.research.google.com/notebooks/data_table.ipynb>data table notebook</a>'\n",
              "            + ' to learn more about interactive tables.';\n",
              "          element.innerHTML = '';\n",
              "          dataTable['output_type'] = 'display_data';\n",
              "          await google.colab.output.renderOutput(dataTable, element);\n",
              "          const docLink = document.createElement('div');\n",
              "          docLink.innerHTML = docLinkHtml;\n",
              "          element.appendChild(docLink);\n",
              "        }\n",
              "      </script>\n",
              "    </div>\n",
              "  </div>\n",
              "  "
            ]
          },
          "metadata": {},
          "execution_count": 33
        }
      ]
    },
    {
      "cell_type": "code",
      "source": [
        "# checking the Nans samples \n",
        "merged_left.isna().sum()"
      ],
      "metadata": {
        "colab": {
          "base_uri": "https://localhost:8080/"
        },
        "id": "tJV_HfXkxIRh",
        "outputId": "14e6d5bb-bc26-4b17-bdab-f31d09e68a4d"
      },
      "execution_count": null,
      "outputs": [
        {
          "output_type": "execute_result",
          "data": {
            "text/plain": [
              "time             0\n",
              "road             0\n",
              "row_id        1495\n",
              "x             1495\n",
              "y             1495\n",
              "direction     1495\n",
              "congestion    1495\n",
              "dtype: int64"
            ]
          },
          "metadata": {},
          "execution_count": 34
        }
      ]
    },
    {
      "cell_type": "code",
      "source": [
        "new_data = merged_left.copy()"
      ],
      "metadata": {
        "id": "CRYF3IbFCsNW"
      },
      "execution_count": null,
      "outputs": []
    },
    {
      "cell_type": "code",
      "source": [
        "# converting time to int so the imputerKNN works\n",
        "merged_left['time']=merged_left.time.astype('int64')\n",
        "\n",
        "# converting the direction to numerical so the imputerKNN works\n",
        "le = LabelEncoder()\n",
        "merged_left['direction'] = le.fit_transform(merged_left['direction'])\n",
        "\n",
        "# imputing missing data\n",
        "imputer = KNNImputer(n_neighbors=5)\n",
        "final_train = pd.DataFrame(imputer.fit_transform(merged_left),columns = merged_left.columns)\n",
        "\n",
        "# converting time to datetime type\n",
        "final_train[\"time\"] = pd.to_datetime(final_train[\"time\"])\n",
        "\n",
        "final_train"
      ],
      "metadata": {
        "colab": {
          "base_uri": "https://localhost:8080/",
          "height": 480
        },
        "id": "HXe3IeHwx5Wq",
        "outputId": "ec5c9ddb-d5e5-434e-9a21-51c9a44ed606"
      },
      "execution_count": null,
      "outputs": [
        {
          "output_type": "stream",
          "name": "stderr",
          "text": [
            "/usr/local/lib/python3.7/dist-packages/ipykernel_launcher.py:2: FutureWarning: casting datetime64[ns] values to int64 with .astype(...) is deprecated and will raise in a future version. Use .view(...) instead.\n",
            "  \n"
          ]
        },
        {
          "output_type": "execute_result",
          "data": {
            "text/plain": [
              "                      time  road    row_id    x    y  direction  congestion\n",
              "0      1991-04-01 00:00:00   0.0       0.0  0.0  0.0        0.0        70.0\n",
              "1      1991-04-01 00:00:00   1.0       1.0  0.0  0.0        1.0        49.0\n",
              "2      1991-04-01 00:00:00   2.0       2.0  0.0  0.0        4.0        24.0\n",
              "3      1991-04-01 00:00:00   3.0       3.0  0.0  1.0        0.0        18.0\n",
              "4      1991-04-01 00:00:00   4.0       4.0  0.0  1.0        1.0        60.0\n",
              "...                    ...   ...       ...  ...  ...        ...         ...\n",
              "570955 1991-07-31 23:40:00  60.0  569460.0  2.0  3.0        1.0        64.0\n",
              "570956 1991-07-31 23:40:00  61.0  569461.0  2.0  3.0        2.0        44.0\n",
              "570957 1991-07-31 23:40:00  62.0  569462.0  2.0  3.0        4.0        69.0\n",
              "570958 1991-07-31 23:40:00  63.0  569463.0  2.0  3.0        6.0        16.0\n",
              "570959 1991-07-31 23:40:00  64.0  569464.0  2.0  3.0        7.0        20.0\n",
              "\n",
              "[570960 rows x 7 columns]"
            ],
            "text/html": [
              "\n",
              "  <div id=\"df-e6808146-a45f-4d9d-8b8e-579a6174636b\">\n",
              "    <div class=\"colab-df-container\">\n",
              "      <div>\n",
              "<style scoped>\n",
              "    .dataframe tbody tr th:only-of-type {\n",
              "        vertical-align: middle;\n",
              "    }\n",
              "\n",
              "    .dataframe tbody tr th {\n",
              "        vertical-align: top;\n",
              "    }\n",
              "\n",
              "    .dataframe thead th {\n",
              "        text-align: right;\n",
              "    }\n",
              "</style>\n",
              "<table border=\"1\" class=\"dataframe\">\n",
              "  <thead>\n",
              "    <tr style=\"text-align: right;\">\n",
              "      <th></th>\n",
              "      <th>time</th>\n",
              "      <th>road</th>\n",
              "      <th>row_id</th>\n",
              "      <th>x</th>\n",
              "      <th>y</th>\n",
              "      <th>direction</th>\n",
              "      <th>congestion</th>\n",
              "    </tr>\n",
              "  </thead>\n",
              "  <tbody>\n",
              "    <tr>\n",
              "      <th>0</th>\n",
              "      <td>1991-04-01 00:00:00</td>\n",
              "      <td>0.0</td>\n",
              "      <td>0.0</td>\n",
              "      <td>0.0</td>\n",
              "      <td>0.0</td>\n",
              "      <td>0.0</td>\n",
              "      <td>70.0</td>\n",
              "    </tr>\n",
              "    <tr>\n",
              "      <th>1</th>\n",
              "      <td>1991-04-01 00:00:00</td>\n",
              "      <td>1.0</td>\n",
              "      <td>1.0</td>\n",
              "      <td>0.0</td>\n",
              "      <td>0.0</td>\n",
              "      <td>1.0</td>\n",
              "      <td>49.0</td>\n",
              "    </tr>\n",
              "    <tr>\n",
              "      <th>2</th>\n",
              "      <td>1991-04-01 00:00:00</td>\n",
              "      <td>2.0</td>\n",
              "      <td>2.0</td>\n",
              "      <td>0.0</td>\n",
              "      <td>0.0</td>\n",
              "      <td>4.0</td>\n",
              "      <td>24.0</td>\n",
              "    </tr>\n",
              "    <tr>\n",
              "      <th>3</th>\n",
              "      <td>1991-04-01 00:00:00</td>\n",
              "      <td>3.0</td>\n",
              "      <td>3.0</td>\n",
              "      <td>0.0</td>\n",
              "      <td>1.0</td>\n",
              "      <td>0.0</td>\n",
              "      <td>18.0</td>\n",
              "    </tr>\n",
              "    <tr>\n",
              "      <th>4</th>\n",
              "      <td>1991-04-01 00:00:00</td>\n",
              "      <td>4.0</td>\n",
              "      <td>4.0</td>\n",
              "      <td>0.0</td>\n",
              "      <td>1.0</td>\n",
              "      <td>1.0</td>\n",
              "      <td>60.0</td>\n",
              "    </tr>\n",
              "    <tr>\n",
              "      <th>...</th>\n",
              "      <td>...</td>\n",
              "      <td>...</td>\n",
              "      <td>...</td>\n",
              "      <td>...</td>\n",
              "      <td>...</td>\n",
              "      <td>...</td>\n",
              "      <td>...</td>\n",
              "    </tr>\n",
              "    <tr>\n",
              "      <th>570955</th>\n",
              "      <td>1991-07-31 23:40:00</td>\n",
              "      <td>60.0</td>\n",
              "      <td>569460.0</td>\n",
              "      <td>2.0</td>\n",
              "      <td>3.0</td>\n",
              "      <td>1.0</td>\n",
              "      <td>64.0</td>\n",
              "    </tr>\n",
              "    <tr>\n",
              "      <th>570956</th>\n",
              "      <td>1991-07-31 23:40:00</td>\n",
              "      <td>61.0</td>\n",
              "      <td>569461.0</td>\n",
              "      <td>2.0</td>\n",
              "      <td>3.0</td>\n",
              "      <td>2.0</td>\n",
              "      <td>44.0</td>\n",
              "    </tr>\n",
              "    <tr>\n",
              "      <th>570957</th>\n",
              "      <td>1991-07-31 23:40:00</td>\n",
              "      <td>62.0</td>\n",
              "      <td>569462.0</td>\n",
              "      <td>2.0</td>\n",
              "      <td>3.0</td>\n",
              "      <td>4.0</td>\n",
              "      <td>69.0</td>\n",
              "    </tr>\n",
              "    <tr>\n",
              "      <th>570958</th>\n",
              "      <td>1991-07-31 23:40:00</td>\n",
              "      <td>63.0</td>\n",
              "      <td>569463.0</td>\n",
              "      <td>2.0</td>\n",
              "      <td>3.0</td>\n",
              "      <td>6.0</td>\n",
              "      <td>16.0</td>\n",
              "    </tr>\n",
              "    <tr>\n",
              "      <th>570959</th>\n",
              "      <td>1991-07-31 23:40:00</td>\n",
              "      <td>64.0</td>\n",
              "      <td>569464.0</td>\n",
              "      <td>2.0</td>\n",
              "      <td>3.0</td>\n",
              "      <td>7.0</td>\n",
              "      <td>20.0</td>\n",
              "    </tr>\n",
              "  </tbody>\n",
              "</table>\n",
              "<p>570960 rows × 7 columns</p>\n",
              "</div>\n",
              "      <button class=\"colab-df-convert\" onclick=\"convertToInteractive('df-e6808146-a45f-4d9d-8b8e-579a6174636b')\"\n",
              "              title=\"Convert this dataframe to an interactive table.\"\n",
              "              style=\"display:none;\">\n",
              "        \n",
              "  <svg xmlns=\"http://www.w3.org/2000/svg\" height=\"24px\"viewBox=\"0 0 24 24\"\n",
              "       width=\"24px\">\n",
              "    <path d=\"M0 0h24v24H0V0z\" fill=\"none\"/>\n",
              "    <path d=\"M18.56 5.44l.94 2.06.94-2.06 2.06-.94-2.06-.94-.94-2.06-.94 2.06-2.06.94zm-11 1L8.5 8.5l.94-2.06 2.06-.94-2.06-.94L8.5 2.5l-.94 2.06-2.06.94zm10 10l.94 2.06.94-2.06 2.06-.94-2.06-.94-.94-2.06-.94 2.06-2.06.94z\"/><path d=\"M17.41 7.96l-1.37-1.37c-.4-.4-.92-.59-1.43-.59-.52 0-1.04.2-1.43.59L10.3 9.45l-7.72 7.72c-.78.78-.78 2.05 0 2.83L4 21.41c.39.39.9.59 1.41.59.51 0 1.02-.2 1.41-.59l7.78-7.78 2.81-2.81c.8-.78.8-2.07 0-2.86zM5.41 20L4 18.59l7.72-7.72 1.47 1.35L5.41 20z\"/>\n",
              "  </svg>\n",
              "      </button>\n",
              "      \n",
              "  <style>\n",
              "    .colab-df-container {\n",
              "      display:flex;\n",
              "      flex-wrap:wrap;\n",
              "      gap: 12px;\n",
              "    }\n",
              "\n",
              "    .colab-df-convert {\n",
              "      background-color: #E8F0FE;\n",
              "      border: none;\n",
              "      border-radius: 50%;\n",
              "      cursor: pointer;\n",
              "      display: none;\n",
              "      fill: #1967D2;\n",
              "      height: 32px;\n",
              "      padding: 0 0 0 0;\n",
              "      width: 32px;\n",
              "    }\n",
              "\n",
              "    .colab-df-convert:hover {\n",
              "      background-color: #E2EBFA;\n",
              "      box-shadow: 0px 1px 2px rgba(60, 64, 67, 0.3), 0px 1px 3px 1px rgba(60, 64, 67, 0.15);\n",
              "      fill: #174EA6;\n",
              "    }\n",
              "\n",
              "    [theme=dark] .colab-df-convert {\n",
              "      background-color: #3B4455;\n",
              "      fill: #D2E3FC;\n",
              "    }\n",
              "\n",
              "    [theme=dark] .colab-df-convert:hover {\n",
              "      background-color: #434B5C;\n",
              "      box-shadow: 0px 1px 3px 1px rgba(0, 0, 0, 0.15);\n",
              "      filter: drop-shadow(0px 1px 2px rgba(0, 0, 0, 0.3));\n",
              "      fill: #FFFFFF;\n",
              "    }\n",
              "  </style>\n",
              "\n",
              "      <script>\n",
              "        const buttonEl =\n",
              "          document.querySelector('#df-e6808146-a45f-4d9d-8b8e-579a6174636b button.colab-df-convert');\n",
              "        buttonEl.style.display =\n",
              "          google.colab.kernel.accessAllowed ? 'block' : 'none';\n",
              "\n",
              "        async function convertToInteractive(key) {\n",
              "          const element = document.querySelector('#df-e6808146-a45f-4d9d-8b8e-579a6174636b');\n",
              "          const dataTable =\n",
              "            await google.colab.kernel.invokeFunction('convertToInteractive',\n",
              "                                                     [key], {});\n",
              "          if (!dataTable) return;\n",
              "\n",
              "          const docLinkHtml = 'Like what you see? Visit the ' +\n",
              "            '<a target=\"_blank\" href=https://colab.research.google.com/notebooks/data_table.ipynb>data table notebook</a>'\n",
              "            + ' to learn more about interactive tables.';\n",
              "          element.innerHTML = '';\n",
              "          dataTable['output_type'] = 'display_data';\n",
              "          await google.colab.output.renderOutput(dataTable, element);\n",
              "          const docLink = document.createElement('div');\n",
              "          docLink.innerHTML = docLinkHtml;\n",
              "          element.appendChild(docLink);\n",
              "        }\n",
              "      </script>\n",
              "    </div>\n",
              "  </div>\n",
              "  "
            ]
          },
          "metadata": {},
          "execution_count": 36
        }
      ]
    },
    {
      "cell_type": "code",
      "source": [
        "final_train.isna().sum()"
      ],
      "metadata": {
        "colab": {
          "base_uri": "https://localhost:8080/"
        },
        "id": "zDIcNQgVx-3N",
        "outputId": "32e138a8-13af-4234-ef23-3bfd1953111e"
      },
      "execution_count": null,
      "outputs": [
        {
          "output_type": "execute_result",
          "data": {
            "text/plain": [
              "time          0\n",
              "road          0\n",
              "row_id        0\n",
              "x             0\n",
              "y             0\n",
              "direction     0\n",
              "congestion    0\n",
              "dtype: int64"
            ]
          },
          "metadata": {},
          "execution_count": 37
        }
      ]
    },
    {
      "cell_type": "code",
      "source": [
        "final_train = final_train.drop(['road'], axis=1)"
      ],
      "metadata": {
        "id": "xSShtttc0dCo"
      },
      "execution_count": null,
      "outputs": []
    },
    {
      "cell_type": "code",
      "source": [
        "final_train = final_train.drop(['direction'], axis=1)"
      ],
      "metadata": {
        "id": "Nl0b8LciCTFg"
      },
      "execution_count": null,
      "outputs": []
    },
    {
      "cell_type": "code",
      "source": [
        "final_train['direction'] = new_data['direction']"
      ],
      "metadata": {
        "id": "5tzcy_gsCD_w"
      },
      "execution_count": null,
      "outputs": []
    },
    {
      "cell_type": "code",
      "source": [
        "final_train['y'] = (final_train['y']).astype('int64')\n",
        "final_train['x'] = (final_train['x']).astype('int64')\n",
        "final_train['congestion'] = (final_train['congestion']).astype('int64')"
      ],
      "metadata": {
        "id": "oAX7Y4_gEkBK"
      },
      "execution_count": null,
      "outputs": []
    },
    {
      "cell_type": "code",
      "source": [
        "final_train.head()"
      ],
      "metadata": {
        "colab": {
          "base_uri": "https://localhost:8080/",
          "height": 206
        },
        "id": "R5-7nOr7ER-0",
        "outputId": "2f759da6-7821-4fbc-d9ed-c1c74c31f77b"
      },
      "execution_count": null,
      "outputs": [
        {
          "output_type": "execute_result",
          "data": {
            "text/plain": [
              "        time  row_id  x  y  congestion direction\n",
              "0 1991-04-01     0.0  0  0          70        EB\n",
              "1 1991-04-01     1.0  0  0          49        NB\n",
              "2 1991-04-01     2.0  0  0          24        SB\n",
              "3 1991-04-01     3.0  0  1          18        EB\n",
              "4 1991-04-01     4.0  0  1          60        NB"
            ],
            "text/html": [
              "\n",
              "  <div id=\"df-a02b53cb-4dc2-40e5-9707-d88f940caa13\">\n",
              "    <div class=\"colab-df-container\">\n",
              "      <div>\n",
              "<style scoped>\n",
              "    .dataframe tbody tr th:only-of-type {\n",
              "        vertical-align: middle;\n",
              "    }\n",
              "\n",
              "    .dataframe tbody tr th {\n",
              "        vertical-align: top;\n",
              "    }\n",
              "\n",
              "    .dataframe thead th {\n",
              "        text-align: right;\n",
              "    }\n",
              "</style>\n",
              "<table border=\"1\" class=\"dataframe\">\n",
              "  <thead>\n",
              "    <tr style=\"text-align: right;\">\n",
              "      <th></th>\n",
              "      <th>time</th>\n",
              "      <th>row_id</th>\n",
              "      <th>x</th>\n",
              "      <th>y</th>\n",
              "      <th>congestion</th>\n",
              "      <th>direction</th>\n",
              "    </tr>\n",
              "  </thead>\n",
              "  <tbody>\n",
              "    <tr>\n",
              "      <th>0</th>\n",
              "      <td>1991-04-01</td>\n",
              "      <td>0.0</td>\n",
              "      <td>0</td>\n",
              "      <td>0</td>\n",
              "      <td>70</td>\n",
              "      <td>EB</td>\n",
              "    </tr>\n",
              "    <tr>\n",
              "      <th>1</th>\n",
              "      <td>1991-04-01</td>\n",
              "      <td>1.0</td>\n",
              "      <td>0</td>\n",
              "      <td>0</td>\n",
              "      <td>49</td>\n",
              "      <td>NB</td>\n",
              "    </tr>\n",
              "    <tr>\n",
              "      <th>2</th>\n",
              "      <td>1991-04-01</td>\n",
              "      <td>2.0</td>\n",
              "      <td>0</td>\n",
              "      <td>0</td>\n",
              "      <td>24</td>\n",
              "      <td>SB</td>\n",
              "    </tr>\n",
              "    <tr>\n",
              "      <th>3</th>\n",
              "      <td>1991-04-01</td>\n",
              "      <td>3.0</td>\n",
              "      <td>0</td>\n",
              "      <td>1</td>\n",
              "      <td>18</td>\n",
              "      <td>EB</td>\n",
              "    </tr>\n",
              "    <tr>\n",
              "      <th>4</th>\n",
              "      <td>1991-04-01</td>\n",
              "      <td>4.0</td>\n",
              "      <td>0</td>\n",
              "      <td>1</td>\n",
              "      <td>60</td>\n",
              "      <td>NB</td>\n",
              "    </tr>\n",
              "  </tbody>\n",
              "</table>\n",
              "</div>\n",
              "      <button class=\"colab-df-convert\" onclick=\"convertToInteractive('df-a02b53cb-4dc2-40e5-9707-d88f940caa13')\"\n",
              "              title=\"Convert this dataframe to an interactive table.\"\n",
              "              style=\"display:none;\">\n",
              "        \n",
              "  <svg xmlns=\"http://www.w3.org/2000/svg\" height=\"24px\"viewBox=\"0 0 24 24\"\n",
              "       width=\"24px\">\n",
              "    <path d=\"M0 0h24v24H0V0z\" fill=\"none\"/>\n",
              "    <path d=\"M18.56 5.44l.94 2.06.94-2.06 2.06-.94-2.06-.94-.94-2.06-.94 2.06-2.06.94zm-11 1L8.5 8.5l.94-2.06 2.06-.94-2.06-.94L8.5 2.5l-.94 2.06-2.06.94zm10 10l.94 2.06.94-2.06 2.06-.94-2.06-.94-.94-2.06-.94 2.06-2.06.94z\"/><path d=\"M17.41 7.96l-1.37-1.37c-.4-.4-.92-.59-1.43-.59-.52 0-1.04.2-1.43.59L10.3 9.45l-7.72 7.72c-.78.78-.78 2.05 0 2.83L4 21.41c.39.39.9.59 1.41.59.51 0 1.02-.2 1.41-.59l7.78-7.78 2.81-2.81c.8-.78.8-2.07 0-2.86zM5.41 20L4 18.59l7.72-7.72 1.47 1.35L5.41 20z\"/>\n",
              "  </svg>\n",
              "      </button>\n",
              "      \n",
              "  <style>\n",
              "    .colab-df-container {\n",
              "      display:flex;\n",
              "      flex-wrap:wrap;\n",
              "      gap: 12px;\n",
              "    }\n",
              "\n",
              "    .colab-df-convert {\n",
              "      background-color: #E8F0FE;\n",
              "      border: none;\n",
              "      border-radius: 50%;\n",
              "      cursor: pointer;\n",
              "      display: none;\n",
              "      fill: #1967D2;\n",
              "      height: 32px;\n",
              "      padding: 0 0 0 0;\n",
              "      width: 32px;\n",
              "    }\n",
              "\n",
              "    .colab-df-convert:hover {\n",
              "      background-color: #E2EBFA;\n",
              "      box-shadow: 0px 1px 2px rgba(60, 64, 67, 0.3), 0px 1px 3px 1px rgba(60, 64, 67, 0.15);\n",
              "      fill: #174EA6;\n",
              "    }\n",
              "\n",
              "    [theme=dark] .colab-df-convert {\n",
              "      background-color: #3B4455;\n",
              "      fill: #D2E3FC;\n",
              "    }\n",
              "\n",
              "    [theme=dark] .colab-df-convert:hover {\n",
              "      background-color: #434B5C;\n",
              "      box-shadow: 0px 1px 3px 1px rgba(0, 0, 0, 0.15);\n",
              "      filter: drop-shadow(0px 1px 2px rgba(0, 0, 0, 0.3));\n",
              "      fill: #FFFFFF;\n",
              "    }\n",
              "  </style>\n",
              "\n",
              "      <script>\n",
              "        const buttonEl =\n",
              "          document.querySelector('#df-a02b53cb-4dc2-40e5-9707-d88f940caa13 button.colab-df-convert');\n",
              "        buttonEl.style.display =\n",
              "          google.colab.kernel.accessAllowed ? 'block' : 'none';\n",
              "\n",
              "        async function convertToInteractive(key) {\n",
              "          const element = document.querySelector('#df-a02b53cb-4dc2-40e5-9707-d88f940caa13');\n",
              "          const dataTable =\n",
              "            await google.colab.kernel.invokeFunction('convertToInteractive',\n",
              "                                                     [key], {});\n",
              "          if (!dataTable) return;\n",
              "\n",
              "          const docLinkHtml = 'Like what you see? Visit the ' +\n",
              "            '<a target=\"_blank\" href=https://colab.research.google.com/notebooks/data_table.ipynb>data table notebook</a>'\n",
              "            + ' to learn more about interactive tables.';\n",
              "          element.innerHTML = '';\n",
              "          dataTable['output_type'] = 'display_data';\n",
              "          await google.colab.output.renderOutput(dataTable, element);\n",
              "          const docLink = document.createElement('div');\n",
              "          docLink.innerHTML = docLinkHtml;\n",
              "          element.appendChild(docLink);\n",
              "        }\n",
              "      </script>\n",
              "    </div>\n",
              "  </div>\n",
              "  "
            ]
          },
          "metadata": {},
          "execution_count": 42
        }
      ]
    },
    {
      "cell_type": "code",
      "source": [
        "train_df = final_train.copy()"
      ],
      "metadata": {
        "id": "7wPQOIcPyjIB"
      },
      "execution_count": null,
      "outputs": []
    },
    {
      "cell_type": "markdown",
      "source": [
        "### Feature Engineering "
      ],
      "metadata": {
        "cell_id": "63fa8d18d2004903ab48a96f213ff5dd",
        "tags": [],
        "is_collapsed": false,
        "deepnote_cell_type": "text-cell-h3",
        "id": "n0mcyI5LiY0B"
      }
    },
    {
      "cell_type": "code",
      "metadata": {
        "cell_id": "a1db4c28b42c4941a02419ef62a6d519",
        "tags": [],
        "deepnote_to_be_reexecuted": false,
        "source_hash": "69e92d48",
        "execution_start": 1649342588002,
        "execution_millis": 1,
        "deepnote_cell_type": "code",
        "deepnote_cell_height": 1484.9375,
        "id": "8kAjC37GiY0B"
      },
      "source": [
        "# add or delete columns/attributes to the train and test datasets\n",
        "\n",
        "def feature_eng(dataset, test=False):\n",
        "\n",
        "    \n",
        "    # adding new columns:\n",
        "    # year, hour, week, minute, month, day of de week, day of year, is weekend, yesterday,\n",
        "    # is_afternoon, is_month_start, is_month_end and moment\n",
        "\n",
        "    # converting time column into datatime type\n",
        "    dataset[\"time\"] = pd.to_datetime(dataset[\"time\"])\n",
        "    \n",
        "    # adding the new time columns\n",
        "    dataset['hour'] = dataset.time.dt.hour\n",
        "    dataset['week'] = dataset.time.dt.isocalendar().week\n",
        "    dataset['minute'] = dataset.time.dt.minute\n",
        "    dataset['month'] = dataset.time.dt.month\n",
        "    dataset['day_of_week'] = dataset.time.dt.day_name()\n",
        "    dataset['is_afternoon'] = (dataset['time'].dt.hour > 12).astype('int')\n",
        "    dataset['day_of_year'] = dataset.time.dt.dayofyear\n",
        "    dataset['is_weekend'] = (dataset.time.dt.dayofweek >= 5).astype(\"int\")\n",
        "    dataset['is_month_start'] = dataset.time.dt.is_month_start.astype('int')\n",
        "    dataset['is_month_end'] = dataset.time.dt.is_month_end.astype('int')\n",
        "   \n",
        "    #dataset['yesterday'] = dataset.groupby(['x','y','direction','hour','minute'])['congestion'].transform(lambda x: x.shift(1))\n",
        "\n",
        "    \n",
        "    # is_holiday feature -> 1 if is holiday, 0 if is not    \n",
        "    #make_date(dataset, 'time')\n",
        "    us_holidays = []\n",
        "    for x in holidays.UnitedStates(years=1991).items():\n",
        "        us_holidays.append(str(x[0]))\n",
        "    \n",
        "    dataset['is_holiday'] = [1 if str(val).split()[0] in us_holidays else 0 for  val in dataset['time'].dt.date]\n",
        "\n",
        "    # transformation to get unique roadways with directions\n",
        "    # x, y, direction -> road\n",
        "\n",
        "    \n",
        "    dataset['road'] = dataset['x'].astype(str) + dataset['y'].astype(str) + dataset['direction'].astype(str)\n",
        "    \n",
        "    # label encoding (it could be one-hot encoding tho)\n",
        "    #le = LabelEncoder()\n",
        "    #dataset['road'] = le.fit_transform(dataset['road'])\n",
        "\n",
        "    \n",
        "    # dropping the redundant columns\n",
        "    dataset = dataset.drop(['x', 'y', 'direction'], axis=1)\n",
        "    #dataset = dataset.set_index('time')\n",
        "\n",
        "    # creating congestion min, max and median columns group by 'road', 'weekday', 'hour', 'minute'\n",
        "\n",
        "    keys = [\"day_of_week\",\"hour\", \"minute\",\"road\" ]\n",
        "\n",
        "    temp = dataset.groupby(by=keys).mean().reset_index().set_index(keys)\n",
        "    temp['mean congestion'] = temp['congestion']\n",
        "    dataset = dataset.merge(temp['mean congestion'], how='left', left_on=keys, right_on=keys)\n",
        "\n",
        "    temp = dataset.groupby(by=keys).median().reset_index().set_index(keys)\n",
        "    temp['median congestion'] = temp['congestion']\n",
        "    dataset = dataset.merge(temp['median congestion'], how='left', left_on=keys, right_on=keys)\n",
        "\n",
        "    temp = dataset.groupby(by=keys).min().reset_index().set_index(keys)\n",
        "    temp['min congestion'] = temp['congestion']\n",
        "    dataset = dataset.merge(temp['min congestion'], how='left', left_on=keys, right_on=keys)\n",
        "\n",
        "    temp = dataset.groupby(by=keys).max().reset_index().set_index(keys)\n",
        "    temp['max congestion'] = temp['congestion']\n",
        "    dataset = dataset.merge(temp['max congestion'], how='left', left_on=keys, right_on=keys)\n",
        "\n",
        "\n",
        "    return dataset"
      ],
      "execution_count": null,
      "outputs": []
    },
    {
      "cell_type": "code",
      "metadata": {
        "cell_id": "a826eadb01794922a26ca454643c746a",
        "tags": [],
        "deepnote_to_be_reexecuted": false,
        "source_hash": "e250e736",
        "execution_start": 1649342588012,
        "execution_millis": 6880,
        "deepnote_cell_type": "code",
        "deepnote_cell_height": 80.9375,
        "id": "KG0QWz_ZiY0B"
      },
      "source": [
        "train_df = feature_eng(train_df)"
      ],
      "execution_count": null,
      "outputs": []
    },
    {
      "cell_type": "code",
      "metadata": {
        "cell_id": "0465e013a8764ac899e6d0d3a3aba959",
        "tags": [],
        "deepnote_to_be_reexecuted": false,
        "source_hash": "b1a8b3e0",
        "execution_start": 1649342594903,
        "execution_millis": 283,
        "deepnote_cell_type": "code",
        "deepnote_cell_height": 409.6875,
        "colab": {
          "base_uri": "https://localhost:8080/",
          "height": 374
        },
        "id": "SH9pXOMbiY0B",
        "outputId": "4ec7115b-6dd9-4267-ce06-baf1d377be17"
      },
      "source": [
        "\n",
        "train_df.head()"
      ],
      "execution_count": null,
      "outputs": [
        {
          "output_type": "execute_result",
          "data": {
            "text/plain": [
              "        time  row_id  congestion  hour  week  minute  month day_of_week  \\\n",
              "0 1991-04-01     0.0          70     0    14       0      4      Monday   \n",
              "1 1991-04-01     1.0          49     0    14       0      4      Monday   \n",
              "2 1991-04-01     2.0          24     0    14       0      4      Monday   \n",
              "3 1991-04-01     3.0          18     0    14       0      4      Monday   \n",
              "4 1991-04-01     4.0          60     0    14       0      4      Monday   \n",
              "\n",
              "   is_afternoon  day_of_year  is_weekend  is_month_start  is_month_end  \\\n",
              "0             0           91           0               1             0   \n",
              "1             0           91           0               1             0   \n",
              "2             0           91           0               1             0   \n",
              "3             0           91           0               1             0   \n",
              "4             0           91           0               1             0   \n",
              "\n",
              "   is_holiday  road  mean congestion  median congestion  min congestion  \\\n",
              "0           0  00EB        40.944444               36.0              32   \n",
              "1           0  00NB        30.777778               30.0              16   \n",
              "2           0  00SB        34.666667               24.0              24   \n",
              "3           0  01EB        15.388889               15.5               6   \n",
              "4           0  01NB        61.833333               62.5              52   \n",
              "\n",
              "   max congestion  \n",
              "0              80  \n",
              "1              49  \n",
              "2              91  \n",
              "3              26  \n",
              "4              72  "
            ],
            "text/html": [
              "\n",
              "  <div id=\"df-69b82674-9c20-4753-8190-19e058d88a0d\">\n",
              "    <div class=\"colab-df-container\">\n",
              "      <div>\n",
              "<style scoped>\n",
              "    .dataframe tbody tr th:only-of-type {\n",
              "        vertical-align: middle;\n",
              "    }\n",
              "\n",
              "    .dataframe tbody tr th {\n",
              "        vertical-align: top;\n",
              "    }\n",
              "\n",
              "    .dataframe thead th {\n",
              "        text-align: right;\n",
              "    }\n",
              "</style>\n",
              "<table border=\"1\" class=\"dataframe\">\n",
              "  <thead>\n",
              "    <tr style=\"text-align: right;\">\n",
              "      <th></th>\n",
              "      <th>time</th>\n",
              "      <th>row_id</th>\n",
              "      <th>congestion</th>\n",
              "      <th>hour</th>\n",
              "      <th>week</th>\n",
              "      <th>minute</th>\n",
              "      <th>month</th>\n",
              "      <th>day_of_week</th>\n",
              "      <th>is_afternoon</th>\n",
              "      <th>day_of_year</th>\n",
              "      <th>is_weekend</th>\n",
              "      <th>is_month_start</th>\n",
              "      <th>is_month_end</th>\n",
              "      <th>is_holiday</th>\n",
              "      <th>road</th>\n",
              "      <th>mean congestion</th>\n",
              "      <th>median congestion</th>\n",
              "      <th>min congestion</th>\n",
              "      <th>max congestion</th>\n",
              "    </tr>\n",
              "  </thead>\n",
              "  <tbody>\n",
              "    <tr>\n",
              "      <th>0</th>\n",
              "      <td>1991-04-01</td>\n",
              "      <td>0.0</td>\n",
              "      <td>70</td>\n",
              "      <td>0</td>\n",
              "      <td>14</td>\n",
              "      <td>0</td>\n",
              "      <td>4</td>\n",
              "      <td>Monday</td>\n",
              "      <td>0</td>\n",
              "      <td>91</td>\n",
              "      <td>0</td>\n",
              "      <td>1</td>\n",
              "      <td>0</td>\n",
              "      <td>0</td>\n",
              "      <td>00EB</td>\n",
              "      <td>40.944444</td>\n",
              "      <td>36.0</td>\n",
              "      <td>32</td>\n",
              "      <td>80</td>\n",
              "    </tr>\n",
              "    <tr>\n",
              "      <th>1</th>\n",
              "      <td>1991-04-01</td>\n",
              "      <td>1.0</td>\n",
              "      <td>49</td>\n",
              "      <td>0</td>\n",
              "      <td>14</td>\n",
              "      <td>0</td>\n",
              "      <td>4</td>\n",
              "      <td>Monday</td>\n",
              "      <td>0</td>\n",
              "      <td>91</td>\n",
              "      <td>0</td>\n",
              "      <td>1</td>\n",
              "      <td>0</td>\n",
              "      <td>0</td>\n",
              "      <td>00NB</td>\n",
              "      <td>30.777778</td>\n",
              "      <td>30.0</td>\n",
              "      <td>16</td>\n",
              "      <td>49</td>\n",
              "    </tr>\n",
              "    <tr>\n",
              "      <th>2</th>\n",
              "      <td>1991-04-01</td>\n",
              "      <td>2.0</td>\n",
              "      <td>24</td>\n",
              "      <td>0</td>\n",
              "      <td>14</td>\n",
              "      <td>0</td>\n",
              "      <td>4</td>\n",
              "      <td>Monday</td>\n",
              "      <td>0</td>\n",
              "      <td>91</td>\n",
              "      <td>0</td>\n",
              "      <td>1</td>\n",
              "      <td>0</td>\n",
              "      <td>0</td>\n",
              "      <td>00SB</td>\n",
              "      <td>34.666667</td>\n",
              "      <td>24.0</td>\n",
              "      <td>24</td>\n",
              "      <td>91</td>\n",
              "    </tr>\n",
              "    <tr>\n",
              "      <th>3</th>\n",
              "      <td>1991-04-01</td>\n",
              "      <td>3.0</td>\n",
              "      <td>18</td>\n",
              "      <td>0</td>\n",
              "      <td>14</td>\n",
              "      <td>0</td>\n",
              "      <td>4</td>\n",
              "      <td>Monday</td>\n",
              "      <td>0</td>\n",
              "      <td>91</td>\n",
              "      <td>0</td>\n",
              "      <td>1</td>\n",
              "      <td>0</td>\n",
              "      <td>0</td>\n",
              "      <td>01EB</td>\n",
              "      <td>15.388889</td>\n",
              "      <td>15.5</td>\n",
              "      <td>6</td>\n",
              "      <td>26</td>\n",
              "    </tr>\n",
              "    <tr>\n",
              "      <th>4</th>\n",
              "      <td>1991-04-01</td>\n",
              "      <td>4.0</td>\n",
              "      <td>60</td>\n",
              "      <td>0</td>\n",
              "      <td>14</td>\n",
              "      <td>0</td>\n",
              "      <td>4</td>\n",
              "      <td>Monday</td>\n",
              "      <td>0</td>\n",
              "      <td>91</td>\n",
              "      <td>0</td>\n",
              "      <td>1</td>\n",
              "      <td>0</td>\n",
              "      <td>0</td>\n",
              "      <td>01NB</td>\n",
              "      <td>61.833333</td>\n",
              "      <td>62.5</td>\n",
              "      <td>52</td>\n",
              "      <td>72</td>\n",
              "    </tr>\n",
              "  </tbody>\n",
              "</table>\n",
              "</div>\n",
              "      <button class=\"colab-df-convert\" onclick=\"convertToInteractive('df-69b82674-9c20-4753-8190-19e058d88a0d')\"\n",
              "              title=\"Convert this dataframe to an interactive table.\"\n",
              "              style=\"display:none;\">\n",
              "        \n",
              "  <svg xmlns=\"http://www.w3.org/2000/svg\" height=\"24px\"viewBox=\"0 0 24 24\"\n",
              "       width=\"24px\">\n",
              "    <path d=\"M0 0h24v24H0V0z\" fill=\"none\"/>\n",
              "    <path d=\"M18.56 5.44l.94 2.06.94-2.06 2.06-.94-2.06-.94-.94-2.06-.94 2.06-2.06.94zm-11 1L8.5 8.5l.94-2.06 2.06-.94-2.06-.94L8.5 2.5l-.94 2.06-2.06.94zm10 10l.94 2.06.94-2.06 2.06-.94-2.06-.94-.94-2.06-.94 2.06-2.06.94z\"/><path d=\"M17.41 7.96l-1.37-1.37c-.4-.4-.92-.59-1.43-.59-.52 0-1.04.2-1.43.59L10.3 9.45l-7.72 7.72c-.78.78-.78 2.05 0 2.83L4 21.41c.39.39.9.59 1.41.59.51 0 1.02-.2 1.41-.59l7.78-7.78 2.81-2.81c.8-.78.8-2.07 0-2.86zM5.41 20L4 18.59l7.72-7.72 1.47 1.35L5.41 20z\"/>\n",
              "  </svg>\n",
              "      </button>\n",
              "      \n",
              "  <style>\n",
              "    .colab-df-container {\n",
              "      display:flex;\n",
              "      flex-wrap:wrap;\n",
              "      gap: 12px;\n",
              "    }\n",
              "\n",
              "    .colab-df-convert {\n",
              "      background-color: #E8F0FE;\n",
              "      border: none;\n",
              "      border-radius: 50%;\n",
              "      cursor: pointer;\n",
              "      display: none;\n",
              "      fill: #1967D2;\n",
              "      height: 32px;\n",
              "      padding: 0 0 0 0;\n",
              "      width: 32px;\n",
              "    }\n",
              "\n",
              "    .colab-df-convert:hover {\n",
              "      background-color: #E2EBFA;\n",
              "      box-shadow: 0px 1px 2px rgba(60, 64, 67, 0.3), 0px 1px 3px 1px rgba(60, 64, 67, 0.15);\n",
              "      fill: #174EA6;\n",
              "    }\n",
              "\n",
              "    [theme=dark] .colab-df-convert {\n",
              "      background-color: #3B4455;\n",
              "      fill: #D2E3FC;\n",
              "    }\n",
              "\n",
              "    [theme=dark] .colab-df-convert:hover {\n",
              "      background-color: #434B5C;\n",
              "      box-shadow: 0px 1px 3px 1px rgba(0, 0, 0, 0.15);\n",
              "      filter: drop-shadow(0px 1px 2px rgba(0, 0, 0, 0.3));\n",
              "      fill: #FFFFFF;\n",
              "    }\n",
              "  </style>\n",
              "\n",
              "      <script>\n",
              "        const buttonEl =\n",
              "          document.querySelector('#df-69b82674-9c20-4753-8190-19e058d88a0d button.colab-df-convert');\n",
              "        buttonEl.style.display =\n",
              "          google.colab.kernel.accessAllowed ? 'block' : 'none';\n",
              "\n",
              "        async function convertToInteractive(key) {\n",
              "          const element = document.querySelector('#df-69b82674-9c20-4753-8190-19e058d88a0d');\n",
              "          const dataTable =\n",
              "            await google.colab.kernel.invokeFunction('convertToInteractive',\n",
              "                                                     [key], {});\n",
              "          if (!dataTable) return;\n",
              "\n",
              "          const docLinkHtml = 'Like what you see? Visit the ' +\n",
              "            '<a target=\"_blank\" href=https://colab.research.google.com/notebooks/data_table.ipynb>data table notebook</a>'\n",
              "            + ' to learn more about interactive tables.';\n",
              "          element.innerHTML = '';\n",
              "          dataTable['output_type'] = 'display_data';\n",
              "          await google.colab.output.renderOutput(dataTable, element);\n",
              "          const docLink = document.createElement('div');\n",
              "          docLink.innerHTML = docLinkHtml;\n",
              "          element.appendChild(docLink);\n",
              "        }\n",
              "      </script>\n",
              "    </div>\n",
              "  </div>\n",
              "  "
            ]
          },
          "metadata": {},
          "execution_count": 46
        }
      ]
    },
    {
      "cell_type": "code",
      "source": [
        "valid_df = feature_eng(valid_df)"
      ],
      "metadata": {
        "id": "pKBK3gJJIWyd"
      },
      "execution_count": null,
      "outputs": []
    },
    {
      "cell_type": "code",
      "metadata": {
        "cell_id": "c43aca981dbf4d3483d3dcd355e6e2f9",
        "tags": [],
        "deepnote_to_be_reexecuted": false,
        "source_hash": "6cc241e2",
        "execution_start": 1649342595024,
        "execution_millis": 1273,
        "deepnote_cell_type": "code",
        "deepnote_cell_height": 296.1875,
        "id": "qnuPRumviY0C"
      },
      "source": [
        "test_df = feature_eng(test_df, True)"
      ],
      "execution_count": null,
      "outputs": []
    },
    {
      "cell_type": "code",
      "source": [
        "# testing holiday\n",
        "test_df[test_df['row_id']==720000]"
      ],
      "metadata": {
        "colab": {
          "base_uri": "https://localhost:8080/",
          "height": 197
        },
        "id": "f45LMAHc0rcf",
        "outputId": "ad6a4572-e389-47c3-8a05-4fd9d333d344"
      },
      "execution_count": null,
      "outputs": [
        {
          "output_type": "execute_result",
          "data": {
            "text/plain": [
              "      row_id                time  congestion  hour  week  minute  month  \\\n",
              "6885  720000 1991-09-02 11:00:00          57    11    36       0      9   \n",
              "\n",
              "     day_of_week  is_afternoon  day_of_year  is_weekend  is_month_start  \\\n",
              "6885      Monday             0          245           0               0   \n",
              "\n",
              "      is_month_end  is_holiday  road  mean congestion  median congestion  \\\n",
              "6885             0           1  23NB             53.4               52.0   \n",
              "\n",
              "      min congestion  max congestion  \n",
              "6885              50              58  "
            ],
            "text/html": [
              "\n",
              "  <div id=\"df-7f9caebe-04da-43eb-87a5-75d9f99fea04\">\n",
              "    <div class=\"colab-df-container\">\n",
              "      <div>\n",
              "<style scoped>\n",
              "    .dataframe tbody tr th:only-of-type {\n",
              "        vertical-align: middle;\n",
              "    }\n",
              "\n",
              "    .dataframe tbody tr th {\n",
              "        vertical-align: top;\n",
              "    }\n",
              "\n",
              "    .dataframe thead th {\n",
              "        text-align: right;\n",
              "    }\n",
              "</style>\n",
              "<table border=\"1\" class=\"dataframe\">\n",
              "  <thead>\n",
              "    <tr style=\"text-align: right;\">\n",
              "      <th></th>\n",
              "      <th>row_id</th>\n",
              "      <th>time</th>\n",
              "      <th>congestion</th>\n",
              "      <th>hour</th>\n",
              "      <th>week</th>\n",
              "      <th>minute</th>\n",
              "      <th>month</th>\n",
              "      <th>day_of_week</th>\n",
              "      <th>is_afternoon</th>\n",
              "      <th>day_of_year</th>\n",
              "      <th>is_weekend</th>\n",
              "      <th>is_month_start</th>\n",
              "      <th>is_month_end</th>\n",
              "      <th>is_holiday</th>\n",
              "      <th>road</th>\n",
              "      <th>mean congestion</th>\n",
              "      <th>median congestion</th>\n",
              "      <th>min congestion</th>\n",
              "      <th>max congestion</th>\n",
              "    </tr>\n",
              "  </thead>\n",
              "  <tbody>\n",
              "    <tr>\n",
              "      <th>6885</th>\n",
              "      <td>720000</td>\n",
              "      <td>1991-09-02 11:00:00</td>\n",
              "      <td>57</td>\n",
              "      <td>11</td>\n",
              "      <td>36</td>\n",
              "      <td>0</td>\n",
              "      <td>9</td>\n",
              "      <td>Monday</td>\n",
              "      <td>0</td>\n",
              "      <td>245</td>\n",
              "      <td>0</td>\n",
              "      <td>0</td>\n",
              "      <td>0</td>\n",
              "      <td>1</td>\n",
              "      <td>23NB</td>\n",
              "      <td>53.4</td>\n",
              "      <td>52.0</td>\n",
              "      <td>50</td>\n",
              "      <td>58</td>\n",
              "    </tr>\n",
              "  </tbody>\n",
              "</table>\n",
              "</div>\n",
              "      <button class=\"colab-df-convert\" onclick=\"convertToInteractive('df-7f9caebe-04da-43eb-87a5-75d9f99fea04')\"\n",
              "              title=\"Convert this dataframe to an interactive table.\"\n",
              "              style=\"display:none;\">\n",
              "        \n",
              "  <svg xmlns=\"http://www.w3.org/2000/svg\" height=\"24px\"viewBox=\"0 0 24 24\"\n",
              "       width=\"24px\">\n",
              "    <path d=\"M0 0h24v24H0V0z\" fill=\"none\"/>\n",
              "    <path d=\"M18.56 5.44l.94 2.06.94-2.06 2.06-.94-2.06-.94-.94-2.06-.94 2.06-2.06.94zm-11 1L8.5 8.5l.94-2.06 2.06-.94-2.06-.94L8.5 2.5l-.94 2.06-2.06.94zm10 10l.94 2.06.94-2.06 2.06-.94-2.06-.94-.94-2.06-.94 2.06-2.06.94z\"/><path d=\"M17.41 7.96l-1.37-1.37c-.4-.4-.92-.59-1.43-.59-.52 0-1.04.2-1.43.59L10.3 9.45l-7.72 7.72c-.78.78-.78 2.05 0 2.83L4 21.41c.39.39.9.59 1.41.59.51 0 1.02-.2 1.41-.59l7.78-7.78 2.81-2.81c.8-.78.8-2.07 0-2.86zM5.41 20L4 18.59l7.72-7.72 1.47 1.35L5.41 20z\"/>\n",
              "  </svg>\n",
              "      </button>\n",
              "      \n",
              "  <style>\n",
              "    .colab-df-container {\n",
              "      display:flex;\n",
              "      flex-wrap:wrap;\n",
              "      gap: 12px;\n",
              "    }\n",
              "\n",
              "    .colab-df-convert {\n",
              "      background-color: #E8F0FE;\n",
              "      border: none;\n",
              "      border-radius: 50%;\n",
              "      cursor: pointer;\n",
              "      display: none;\n",
              "      fill: #1967D2;\n",
              "      height: 32px;\n",
              "      padding: 0 0 0 0;\n",
              "      width: 32px;\n",
              "    }\n",
              "\n",
              "    .colab-df-convert:hover {\n",
              "      background-color: #E2EBFA;\n",
              "      box-shadow: 0px 1px 2px rgba(60, 64, 67, 0.3), 0px 1px 3px 1px rgba(60, 64, 67, 0.15);\n",
              "      fill: #174EA6;\n",
              "    }\n",
              "\n",
              "    [theme=dark] .colab-df-convert {\n",
              "      background-color: #3B4455;\n",
              "      fill: #D2E3FC;\n",
              "    }\n",
              "\n",
              "    [theme=dark] .colab-df-convert:hover {\n",
              "      background-color: #434B5C;\n",
              "      box-shadow: 0px 1px 3px 1px rgba(0, 0, 0, 0.15);\n",
              "      filter: drop-shadow(0px 1px 2px rgba(0, 0, 0, 0.3));\n",
              "      fill: #FFFFFF;\n",
              "    }\n",
              "  </style>\n",
              "\n",
              "      <script>\n",
              "        const buttonEl =\n",
              "          document.querySelector('#df-7f9caebe-04da-43eb-87a5-75d9f99fea04 button.colab-df-convert');\n",
              "        buttonEl.style.display =\n",
              "          google.colab.kernel.accessAllowed ? 'block' : 'none';\n",
              "\n",
              "        async function convertToInteractive(key) {\n",
              "          const element = document.querySelector('#df-7f9caebe-04da-43eb-87a5-75d9f99fea04');\n",
              "          const dataTable =\n",
              "            await google.colab.kernel.invokeFunction('convertToInteractive',\n",
              "                                                     [key], {});\n",
              "          if (!dataTable) return;\n",
              "\n",
              "          const docLinkHtml = 'Like what you see? Visit the ' +\n",
              "            '<a target=\"_blank\" href=https://colab.research.google.com/notebooks/data_table.ipynb>data table notebook</a>'\n",
              "            + ' to learn more about interactive tables.';\n",
              "          element.innerHTML = '';\n",
              "          dataTable['output_type'] = 'display_data';\n",
              "          await google.colab.output.renderOutput(dataTable, element);\n",
              "          const docLink = document.createElement('div');\n",
              "          docLink.innerHTML = docLinkHtml;\n",
              "          element.appendChild(docLink);\n",
              "        }\n",
              "      </script>\n",
              "    </div>\n",
              "  </div>\n",
              "  "
            ]
          },
          "metadata": {},
          "execution_count": 49
        }
      ]
    },
    {
      "cell_type": "code",
      "source": [
        "# dropping id from dataset\n",
        "test_df = test_df.drop(['row_id'], axis=1)\n",
        "train_df = train_df.drop(['row_id'], axis=1)\n",
        "valid_df = valid_df.drop(['row_id'], axis=1)"
      ],
      "metadata": {
        "id": "4medFtGn2DKk"
      },
      "execution_count": null,
      "outputs": []
    },
    {
      "cell_type": "code",
      "metadata": {
        "cell_id": "bddadc16391f4d98b488afdcd67b024f",
        "tags": [],
        "deepnote_to_be_reexecuted": false,
        "source_hash": "d04ae94f",
        "execution_start": 1649342596421,
        "execution_millis": 1931,
        "deepnote_cell_type": "code",
        "deepnote_cell_height": 1031.90625,
        "deepnote_output_heights": [
          610.984375
        ],
        "colab": {
          "base_uri": "https://localhost:8080/",
          "height": 660
        },
        "id": "P0gNKMrhiY0C",
        "outputId": "1ef55ce1-715b-4002-80f7-9abbb8be4dbf"
      },
      "source": [
        "import matplotlib.pyplot as plt\n",
        "import seaborn as sns\n",
        "\n",
        "plt.figure(figsize=(16,10))\n",
        "\n",
        "corr = train_df.corr()\n",
        "ax = sns.heatmap(\n",
        "    corr,\n",
        "    vmin=-1, vmax=1, center=0,\n",
        "    cmap=sns.diverging_palette(20, 220, n=200),\n",
        "    square=True\n",
        ")\n",
        "ax.set_xticklabels(\n",
        "    ax.get_xticklabels(),\n",
        "    rotation=45,\n",
        "    horizontalalignment='right'\n",
        ")\n",
        "\n",
        "plt.show()"
      ],
      "execution_count": null,
      "outputs": [
        {
          "output_type": "display_data",
          "data": {
            "text/plain": [
              "<Figure size 1152x720 with 2 Axes>"
            ],
            "image/png": "[encoded data removed]"
          },
          "metadata": {
            "needs_background": "light"
          }
        }
      ]
    },
    {
      "cell_type": "markdown",
      "source": [
        "#### Final Features\n",
        "- row_id:train (0 to 848834), test(848835 to 851174)\n",
        "- time: date and time\n",
        "- x:(0,1,2)\n",
        "- y:(0,1,2,3)\n",
        "- direction: EB(East bound),NB(North Bound),SB(South Bound),WB(West Bound),NE(Northeast Bound),SW(Southwest Bound),NW(Northwest Bound),SE(Southeast Bound)\n",
        "- congestion: (0 to 101)\n",
        "- is_holiday: (0 or 1)\n",
        "- month: (4 to 9)\n",
        "- week:(14 to 40)\n",
        "- day:(91: 273)\n",
        "- hour: (0 to 23)\n",
        "- minute:(0,20,40)\n",
        "- dayofweek(0 to 6)\n",
        "- weekday:(Mon = 0,Fri = 4)\n",
        "- is_month_start: if the day is start of the month or not(bool)\n",
        "- is_month_end: if the day is end of the month or not(bool)\n",
        "- is_weekend: if the day is the weekend or not(bool, Sat = 1, Sun = 1, Mon to Fri = 0)\n",
        "- is_afternoon: if time is afternoon or not(bool)\n",
        "- mean, median, max and min congestion(0 to 100)\n",
        "- road: x + y + Direction"
      ],
      "metadata": {
        "cell_id": "0ca7a3457bb54f7196dbdcb8a1a0f821",
        "tags": [],
        "deepnote_cell_type": "markdown",
        "deepnote_cell_height": 606.9375,
        "id": "4xFuRaVUiY0C"
      }
    },
    {
      "cell_type": "markdown",
      "source": [
        "## Modelling"
      ],
      "metadata": {
        "cell_id": "3ac262abcf0942a4894b9776b0521af7",
        "tags": [],
        "is_collapsed": false,
        "deepnote_cell_type": "text-cell-h2",
        "id": "gykND14yiY0C"
      }
    },
    {
      "cell_type": "markdown",
      "source": [
        "### Validation Data"
      ],
      "metadata": {
        "cell_id": "83128ea74e9f4d899154683cb4414e4b",
        "tags": [],
        "is_collapsed": false,
        "deepnote_cell_type": "text-cell-h3",
        "id": "TWRrnlipiY0C"
      }
    },
    {
      "cell_type": "markdown",
      "source": [
        "#### Slicing X and Y from validation and train datasets"
      ],
      "metadata": {
        "cell_id": "bf68cd6bef344e8395d7c071c601a927",
        "tags": [],
        "deepnote_cell_type": "markdown",
        "deepnote_cell_height": 53.9375,
        "id": "tdRUFWh_iY0D"
      }
    },
    {
      "cell_type": "code",
      "source": [
        "# split into train and test\n",
        "\n",
        "# this use all Monday-Wednesday afternoons in August and September for validation\n",
        "\n",
        "# converting time column into datatime type\n",
        "#train_original[\"time\"] = pd.to_datetime(train_original[\"time\"])\n",
        "\n",
        "val_idx = ((train_df.time.dt.month == 8)).values\n",
        "\n",
        "train_idx = ~val_idx\n",
        "\n",
        "y_test = test_df.pop(\"congestion\")\n",
        "\n",
        "features = list(test_df.columns)\n",
        "\n",
        "X_train= (train_df[features])\n",
        "X_valid = valid_df[features]\n",
        "\n",
        "y_train = train_df.pop(\"congestion\").astype('int64')\n",
        "y_valid = valid_df.pop(\"congestion\")"
      ],
      "metadata": {
        "id": "wB79GuMKI82u"
      },
      "execution_count": null,
      "outputs": []
    },
    {
      "cell_type": "code",
      "source": [
        "X_test = test_df.copy()"
      ],
      "metadata": {
        "id": "tNNyBVN7NNp_"
      },
      "execution_count": null,
      "outputs": []
    },
    {
      "cell_type": "markdown",
      "source": [
        "#### One-hot Encoding"
      ],
      "metadata": {
        "id": "RckxDZ27BjCI"
      }
    },
    {
      "cell_type": "code",
      "metadata": {
        "cell_id": "813bba5b28c84e3d9e3d307af8450659",
        "tags": [],
        "deepnote_to_be_reexecuted": false,
        "source_hash": "427bdc9a",
        "execution_start": 1649342598714,
        "execution_millis": 1,
        "deepnote_cell_type": "code",
        "deepnote_cell_height": 80.9375,
        "id": "LQ4MRZ2xiY0D"
      },
      "source": [
        "# adjusting the train data: data type and doing one hot encoding"
      ],
      "execution_count": null,
      "outputs": []
    },
    {
      "cell_type": "code",
      "metadata": {
        "cell_id": "a18b5248e2844b8f85fb6d0f2d25ca5f",
        "tags": [],
        "deepnote_to_be_reexecuted": false,
        "source_hash": "ad4abd8",
        "execution_start": 1649342599076,
        "execution_millis": 9,
        "deepnote_cell_type": "code",
        "deepnote_cell_height": 98.953125,
        "id": "xubNpNZliY0D"
      },
      "source": [
        "X_train['week'] = X_train['week'].astype('int64')\n",
        "X_valid['week'] = X_valid['week'].astype('int64')\n",
        "X_test['week'] = X_test['week'].astype('int64')"
      ],
      "execution_count": null,
      "outputs": []
    },
    {
      "cell_type": "code",
      "source": [
        "X_train = X_train.drop(['time'], axis=1)\n",
        "X_valid = X_valid.drop(['time'], axis=1)\n",
        "X_test = X_test.drop(['time'], axis=1)"
      ],
      "metadata": {
        "id": "_AtAHDn32fN2"
      },
      "execution_count": null,
      "outputs": []
    },
    {
      "cell_type": "code",
      "source": [
        "encoder_df = pd.get_dummies(X_train['day_of_week'])\n",
        "X_train = X_train.join(encoder_df)\n",
        "X_train = X_train.drop(['day_of_week'], axis=1)"
      ],
      "metadata": {
        "id": "W-q4ZQ9cBIbL"
      },
      "execution_count": null,
      "outputs": []
    },
    {
      "cell_type": "code",
      "source": [
        "encoder_df = pd.get_dummies(X_test['day_of_week'])\n",
        "X_test = X_test.join(encoder_df)\n",
        "X_test = X_test.drop(['day_of_week'], axis=1)"
      ],
      "metadata": {
        "id": "q2aMIlrWBIR5"
      },
      "execution_count": null,
      "outputs": []
    },
    {
      "cell_type": "code",
      "source": [
        "encoder_df = pd.get_dummies(X_valid['day_of_week'])\n",
        "X_valid = X_valid.join(encoder_df)\n",
        "X_valid = X_valid.drop(['day_of_week'], axis=1)"
      ],
      "metadata": {
        "id": "V78mISLaAlpO"
      },
      "execution_count": null,
      "outputs": []
    },
    {
      "cell_type": "code",
      "source": [
        "encoder_df = pd.get_dummies(X_valid['road'])\n",
        "X_valid = X_valid.join(encoder_df)\n",
        "X_valid = X_valid.drop(['road'], axis=1)\n",
        "\n",
        "encoder_df = pd.get_dummies(X_train['road'])\n",
        "X_train = X_train.join(encoder_df)\n",
        "X_train = X_train.drop(['road'], axis=1)\n",
        "\n",
        "encoder_df = pd.get_dummies(X_test['road'])\n",
        "X_test = X_test.join(encoder_df)\n",
        "X_test = X_test.drop(['road'], axis=1)"
      ],
      "metadata": {
        "id": "vf9_zvjIBa_o"
      },
      "execution_count": null,
      "outputs": []
    },
    {
      "cell_type": "code",
      "metadata": {
        "cell_id": "68d03381d8024f82ba3c71875a144093",
        "tags": [],
        "deepnote_to_be_reexecuted": false,
        "source_hash": "7c234d23",
        "execution_start": 1649342599106,
        "execution_millis": 170,
        "deepnote_cell_type": "code",
        "deepnote_cell_height": 409.6875,
        "colab": {
          "base_uri": "https://localhost:8080/",
          "height": 299
        },
        "id": "LvSFXM7jiY0D",
        "outputId": "36d59de6-8a2a-4e34-84a9-cc601ce50676"
      },
      "source": [
        "X_train.head()"
      ],
      "execution_count": null,
      "outputs": [
        {
          "output_type": "execute_result",
          "data": {
            "text/plain": [
              "   hour  week  minute  month  is_afternoon  day_of_year  is_weekend  \\\n",
              "0     0    14       0      4             0           91           0   \n",
              "1     0    14       0      4             0           91           0   \n",
              "2     0    14       0      4             0           91           0   \n",
              "3     0    14       0      4             0           91           0   \n",
              "4     0    14       0      4             0           91           0   \n",
              "\n",
              "   is_month_start  is_month_end  is_holiday  ...  22SE  22SW  22WB  22nan  \\\n",
              "0               1             0           0  ...     0     0     0      0   \n",
              "1               1             0           0  ...     0     0     0      0   \n",
              "2               1             0           0  ...     0     0     0      0   \n",
              "3               1             0           0  ...     0     0     0      0   \n",
              "4               1             0           0  ...     0     0     0      0   \n",
              "\n",
              "   23EB  23NB  23NE  23SB  23SW  23WB  \n",
              "0     0     0     0     0     0     0  \n",
              "1     0     0     0     0     0     0  \n",
              "2     0     0     0     0     0     0  \n",
              "3     0     0     0     0     0     0  \n",
              "4     0     0     0     0     0     0  \n",
              "\n",
              "[5 rows x 94 columns]"
            ],
            "text/html": [
              "\n",
              "  <div id=\"df-f99d650e-a499-4a43-a37c-280a301b6b1c\">\n",
              "    <div class=\"colab-df-container\">\n",
              "      <div>\n",
              "<style scoped>\n",
              "    .dataframe tbody tr th:only-of-type {\n",
              "        vertical-align: middle;\n",
              "    }\n",
              "\n",
              "    .dataframe tbody tr th {\n",
              "        vertical-align: top;\n",
              "    }\n",
              "\n",
              "    .dataframe thead th {\n",
              "        text-align: right;\n",
              "    }\n",
              "</style>\n",
              "<table border=\"1\" class=\"dataframe\">\n",
              "  <thead>\n",
              "    <tr style=\"text-align: right;\">\n",
              "      <th></th>\n",
              "      <th>hour</th>\n",
              "      <th>week</th>\n",
              "      <th>minute</th>\n",
              "      <th>month</th>\n",
              "      <th>is_afternoon</th>\n",
              "      <th>day_of_year</th>\n",
              "      <th>is_weekend</th>\n",
              "      <th>is_month_start</th>\n",
              "      <th>is_month_end</th>\n",
              "      <th>is_holiday</th>\n",
              "      <th>...</th>\n",
              "      <th>22SE</th>\n",
              "      <th>22SW</th>\n",
              "      <th>22WB</th>\n",
              "      <th>22nan</th>\n",
              "      <th>23EB</th>\n",
              "      <th>23NB</th>\n",
              "      <th>23NE</th>\n",
              "      <th>23SB</th>\n",
              "      <th>23SW</th>\n",
              "      <th>23WB</th>\n",
              "    </tr>\n",
              "  </thead>\n",
              "  <tbody>\n",
              "    <tr>\n",
              "      <th>0</th>\n",
              "      <td>0</td>\n",
              "      <td>14</td>\n",
              "      <td>0</td>\n",
              "      <td>4</td>\n",
              "      <td>0</td>\n",
              "      <td>91</td>\n",
              "      <td>0</td>\n",
              "      <td>1</td>\n",
              "      <td>0</td>\n",
              "      <td>0</td>\n",
              "      <td>...</td>\n",
              "      <td>0</td>\n",
              "      <td>0</td>\n",
              "      <td>0</td>\n",
              "      <td>0</td>\n",
              "      <td>0</td>\n",
              "      <td>0</td>\n",
              "      <td>0</td>\n",
              "      <td>0</td>\n",
              "      <td>0</td>\n",
              "      <td>0</td>\n",
              "    </tr>\n",
              "    <tr>\n",
              "      <th>1</th>\n",
              "      <td>0</td>\n",
              "      <td>14</td>\n",
              "      <td>0</td>\n",
              "      <td>4</td>\n",
              "      <td>0</td>\n",
              "      <td>91</td>\n",
              "      <td>0</td>\n",
              "      <td>1</td>\n",
              "      <td>0</td>\n",
              "      <td>0</td>\n",
              "      <td>...</td>\n",
              "      <td>0</td>\n",
              "      <td>0</td>\n",
              "      <td>0</td>\n",
              "      <td>0</td>\n",
              "      <td>0</td>\n",
              "      <td>0</td>\n",
              "      <td>0</td>\n",
              "      <td>0</td>\n",
              "      <td>0</td>\n",
              "      <td>0</td>\n",
              "    </tr>\n",
              "    <tr>\n",
              "      <th>2</th>\n",
              "      <td>0</td>\n",
              "      <td>14</td>\n",
              "      <td>0</td>\n",
              "      <td>4</td>\n",
              "      <td>0</td>\n",
              "      <td>91</td>\n",
              "      <td>0</td>\n",
              "      <td>1</td>\n",
              "      <td>0</td>\n",
              "      <td>0</td>\n",
              "      <td>...</td>\n",
              "      <td>0</td>\n",
              "      <td>0</td>\n",
              "      <td>0</td>\n",
              "      <td>0</td>\n",
              "      <td>0</td>\n",
              "      <td>0</td>\n",
              "      <td>0</td>\n",
              "      <td>0</td>\n",
              "      <td>0</td>\n",
              "      <td>0</td>\n",
              "    </tr>\n",
              "    <tr>\n",
              "      <th>3</th>\n",
              "      <td>0</td>\n",
              "      <td>14</td>\n",
              "      <td>0</td>\n",
              "      <td>4</td>\n",
              "      <td>0</td>\n",
              "      <td>91</td>\n",
              "      <td>0</td>\n",
              "      <td>1</td>\n",
              "      <td>0</td>\n",
              "      <td>0</td>\n",
              "      <td>...</td>\n",
              "      <td>0</td>\n",
              "      <td>0</td>\n",
              "      <td>0</td>\n",
              "      <td>0</td>\n",
              "      <td>0</td>\n",
              "      <td>0</td>\n",
              "      <td>0</td>\n",
              "      <td>0</td>\n",
              "      <td>0</td>\n",
              "      <td>0</td>\n",
              "    </tr>\n",
              "    <tr>\n",
              "      <th>4</th>\n",
              "      <td>0</td>\n",
              "      <td>14</td>\n",
              "      <td>0</td>\n",
              "      <td>4</td>\n",
              "      <td>0</td>\n",
              "      <td>91</td>\n",
              "      <td>0</td>\n",
              "      <td>1</td>\n",
              "      <td>0</td>\n",
              "      <td>0</td>\n",
              "      <td>...</td>\n",
              "      <td>0</td>\n",
              "      <td>0</td>\n",
              "      <td>0</td>\n",
              "      <td>0</td>\n",
              "      <td>0</td>\n",
              "      <td>0</td>\n",
              "      <td>0</td>\n",
              "      <td>0</td>\n",
              "      <td>0</td>\n",
              "      <td>0</td>\n",
              "    </tr>\n",
              "  </tbody>\n",
              "</table>\n",
              "<p>5 rows × 94 columns</p>\n",
              "</div>\n",
              "      <button class=\"colab-df-convert\" onclick=\"convertToInteractive('df-f99d650e-a499-4a43-a37c-280a301b6b1c')\"\n",
              "              title=\"Convert this dataframe to an interactive table.\"\n",
              "              style=\"display:none;\">\n",
              "        \n",
              "  <svg xmlns=\"http://www.w3.org/2000/svg\" height=\"24px\"viewBox=\"0 0 24 24\"\n",
              "       width=\"24px\">\n",
              "    <path d=\"M0 0h24v24H0V0z\" fill=\"none\"/>\n",
              "    <path d=\"M18.56 5.44l.94 2.06.94-2.06 2.06-.94-2.06-.94-.94-2.06-.94 2.06-2.06.94zm-11 1L8.5 8.5l.94-2.06 2.06-.94-2.06-.94L8.5 2.5l-.94 2.06-2.06.94zm10 10l.94 2.06.94-2.06 2.06-.94-2.06-.94-.94-2.06-.94 2.06-2.06.94z\"/><path d=\"M17.41 7.96l-1.37-1.37c-.4-.4-.92-.59-1.43-.59-.52 0-1.04.2-1.43.59L10.3 9.45l-7.72 7.72c-.78.78-.78 2.05 0 2.83L4 21.41c.39.39.9.59 1.41.59.51 0 1.02-.2 1.41-.59l7.78-7.78 2.81-2.81c.8-.78.8-2.07 0-2.86zM5.41 20L4 18.59l7.72-7.72 1.47 1.35L5.41 20z\"/>\n",
              "  </svg>\n",
              "      </button>\n",
              "      \n",
              "  <style>\n",
              "    .colab-df-container {\n",
              "      display:flex;\n",
              "      flex-wrap:wrap;\n",
              "      gap: 12px;\n",
              "    }\n",
              "\n",
              "    .colab-df-convert {\n",
              "      background-color: #E8F0FE;\n",
              "      border: none;\n",
              "      border-radius: 50%;\n",
              "      cursor: pointer;\n",
              "      display: none;\n",
              "      fill: #1967D2;\n",
              "      height: 32px;\n",
              "      padding: 0 0 0 0;\n",
              "      width: 32px;\n",
              "    }\n",
              "\n",
              "    .colab-df-convert:hover {\n",
              "      background-color: #E2EBFA;\n",
              "      box-shadow: 0px 1px 2px rgba(60, 64, 67, 0.3), 0px 1px 3px 1px rgba(60, 64, 67, 0.15);\n",
              "      fill: #174EA6;\n",
              "    }\n",
              "\n",
              "    [theme=dark] .colab-df-convert {\n",
              "      background-color: #3B4455;\n",
              "      fill: #D2E3FC;\n",
              "    }\n",
              "\n",
              "    [theme=dark] .colab-df-convert:hover {\n",
              "      background-color: #434B5C;\n",
              "      box-shadow: 0px 1px 3px 1px rgba(0, 0, 0, 0.15);\n",
              "      filter: drop-shadow(0px 1px 2px rgba(0, 0, 0, 0.3));\n",
              "      fill: #FFFFFF;\n",
              "    }\n",
              "  </style>\n",
              "\n",
              "      <script>\n",
              "        const buttonEl =\n",
              "          document.querySelector('#df-f99d650e-a499-4a43-a37c-280a301b6b1c button.colab-df-convert');\n",
              "        buttonEl.style.display =\n",
              "          google.colab.kernel.accessAllowed ? 'block' : 'none';\n",
              "\n",
              "        async function convertToInteractive(key) {\n",
              "          const element = document.querySelector('#df-f99d650e-a499-4a43-a37c-280a301b6b1c');\n",
              "          const dataTable =\n",
              "            await google.colab.kernel.invokeFunction('convertToInteractive',\n",
              "                                                     [key], {});\n",
              "          if (!dataTable) return;\n",
              "\n",
              "          const docLinkHtml = 'Like what you see? Visit the ' +\n",
              "            '<a target=\"_blank\" href=https://colab.research.google.com/notebooks/data_table.ipynb>data table notebook</a>'\n",
              "            + ' to learn more about interactive tables.';\n",
              "          element.innerHTML = '';\n",
              "          dataTable['output_type'] = 'display_data';\n",
              "          await google.colab.output.renderOutput(dataTable, element);\n",
              "          const docLink = document.createElement('div');\n",
              "          docLink.innerHTML = docLinkHtml;\n",
              "          element.appendChild(docLink);\n",
              "        }\n",
              "      </script>\n",
              "    </div>\n",
              "  </div>\n",
              "  "
            ]
          },
          "metadata": {},
          "execution_count": 61
        }
      ]
    },
    {
      "cell_type": "code",
      "source": [
        "X_train = pd.DataFrame(X_train,columns=list(X_valid.columns))"
      ],
      "metadata": {
        "id": "18aNKq4AHPGR"
      },
      "execution_count": null,
      "outputs": []
    },
    {
      "cell_type": "code",
      "source": [
        "X_train.columns"
      ],
      "metadata": {
        "colab": {
          "base_uri": "https://localhost:8080/"
        },
        "id": "mYUFOtmZGoFQ",
        "outputId": "3999484a-ffbd-4803-95aa-1b57e9bd048b"
      },
      "execution_count": null,
      "outputs": [
        {
          "output_type": "execute_result",
          "data": {
            "text/plain": [
              "Index(['hour', 'week', 'minute', 'month', 'is_afternoon', 'day_of_year',\n",
              "       'is_weekend', 'is_month_start', 'is_month_end', 'is_holiday',\n",
              "       'mean congestion', 'median congestion', 'min congestion',\n",
              "       'max congestion', 'Friday', 'Monday', 'Saturday', 'Sunday', 'Thursday',\n",
              "       'Tuesday', 'Wednesday', '00EB', '00NB', '00SB', '01EB', '01NB', '01SB',\n",
              "       '01WB', '02EB', '02NB', '02SB', '02WB', '03EB', '03NB', '03NE', '03SB',\n",
              "       '03SW', '03WB', '10EB', '10NB', '10NE', '10SB', '10SW', '10WB', '11EB',\n",
              "       '11NB', '11SB', '11WB', '12EB', '12NB', '12NE', '12SB', '12SW', '12WB',\n",
              "       '13EB', '13NB', '13NE', '13SB', '13SW', '13WB', '20EB', '20NB', '20SB',\n",
              "       '20WB', '21EB', '21NB', '21NE', '21NW', '21SB', '21SE', '21SW', '21WB',\n",
              "       '22EB', '22NB', '22NE', '22NW', '22SB', '22SE', '22SW', '22WB', '23EB',\n",
              "       '23NB', '23NE', '23SB', '23SW', '23WB'],\n",
              "      dtype='object')"
            ]
          },
          "metadata": {},
          "execution_count": 63
        }
      ]
    },
    {
      "cell_type": "markdown",
      "source": [
        "#### 1. Random Forest"
      ],
      "metadata": {
        "cell_id": "e04a652ba46a4149af61d5e67294c4b5",
        "tags": [],
        "deepnote_cell_type": "markdown",
        "deepnote_cell_height": 53.9375,
        "id": "f9Yr7OIOiY0E"
      }
    },
    {
      "cell_type": "code",
      "metadata": {
        "cell_id": "53c41e89746341d9a1467db30e9bf097",
        "tags": [],
        "deepnote_to_be_reexecuted": false,
        "source_hash": "3a84f9ba",
        "execution_start": 1649342599284,
        "execution_millis": 76170,
        "deepnote_cell_type": "code",
        "deepnote_cell_height": 565.953125,
        "colab": {
          "base_uri": "https://localhost:8080/"
        },
        "id": "P8OgeQr-iY0E",
        "outputId": "47b716ca-b883-475a-811b-53e30a7b652c"
      },
      "source": [
        "rf = RandomForestRegressor(n_estimators=0, max_samples=0.03,\n",
        "                             n_jobs=-1, random_state=random.randint(0,1000))\n",
        "\n",
        "\n",
        "estimators_list, mae_list = [], []\n",
        "n_estimators = 4\n",
        "initialized = False\n",
        "while n_estimators < 256:\n",
        "    n_estimators *= 4\n",
        "    \n",
        "    rf.set_params(n_estimators=n_estimators,\n",
        "                    warm_start=initialized)\n",
        "    \n",
        "    rf.fit(X_train, y_train)\n",
        "    \n",
        "    initialized = True\n",
        "\n",
        "    # Compute the (intermediate) validation score\n",
        "    y_va_pred = rf.predict(X_valid)\n",
        "    \n",
        "    estimators_list.append(rf.get_params()['n_estimators'])\n",
        "    mae_list.append(mean_absolute_error(y_valid, y_va_pred))\n",
        "    print(f\"{estimators_list[-1]:4} estimators:   \"\n",
        "          f\"Validation MAE = {mae_list[-1]:.5f}\")"
      ],
      "execution_count": null,
      "outputs": [
        {
          "output_type": "stream",
          "name": "stdout",
          "text": [
            "  16 estimators:   Validation MAE = 5.58460\n",
            "  64 estimators:   Validation MAE = 5.41767\n",
            " 256 estimators:   Validation MAE = 5.35651\n"
          ]
        }
      ]
    },
    {
      "cell_type": "markdown",
      "source": [
        "#### 2. XgBoost"
      ],
      "metadata": {
        "cell_id": "26f4c5ef5af74275848d7e199d398b61",
        "tags": [],
        "deepnote_cell_type": "markdown",
        "deepnote_cell_height": 53.9375,
        "id": "IkN_MqzeiY0E"
      }
    },
    {
      "cell_type": "code",
      "metadata": {
        "cell_id": "aecd725466a94a4ebf939ff18d9f0fb0",
        "tags": [],
        "deepnote_to_be_reexecuted": false,
        "source_hash": "4d27a39e",
        "execution_start": 1649342935778,
        "execution_millis": 25262,
        "deepnote_cell_type": "code",
        "deepnote_cell_height": 317.015625,
        "id": "AKYUHnX-iY0E"
      },
      "source": [
        "#!pip install xgboost"
      ],
      "execution_count": null,
      "outputs": []
    },
    {
      "cell_type": "code",
      "metadata": {
        "cell_id": "bb0750df0c714a73b5cc92029a137f06",
        "tags": [],
        "deepnote_to_be_reexecuted": false,
        "source_hash": "1f6f155d",
        "execution_start": 1649342961048,
        "execution_millis": 1205,
        "deepnote_cell_type": "code",
        "deepnote_cell_height": 80.9375,
        "id": "TCi00WrUiY0E"
      },
      "source": [
        ""
      ],
      "execution_count": null,
      "outputs": []
    },
    {
      "cell_type": "code",
      "metadata": {
        "cell_id": "13e6b7a196fe4a9d9b3be68b9713c37d",
        "tags": [],
        "deepnote_to_be_reexecuted": false,
        "source_hash": "8f8f7b30",
        "execution_start": 1649342962263,
        "execution_millis": 527655,
        "deepnote_cell_type": "code",
        "deepnote_cell_height": 547.953125,
        "colab": {
          "base_uri": "https://localhost:8080/"
        },
        "id": "0niCCORNiY0E",
        "outputId": "9281b7ff-cad7-48a2-c18b-dbee35d307e9"
      },
      "source": [
        "xg = xgb.XGBRegressor(n_estimators=0,\n",
        "                             n_jobs=-1, random_state=random.randint(0,1000))\n",
        "\n",
        "\n",
        "estimators_list, mae_list = [], []\n",
        "n_estimators = 4\n",
        "initialized = False\n",
        "while n_estimators < 256:\n",
        "    n_estimators *= 4\n",
        "    \n",
        "    xg.set_params(n_estimators=n_estimators)\n",
        "    \n",
        "    xg.fit(X_train, y_train)\n",
        "    \n",
        "    initialized = True\n",
        "\n",
        "    # Compute the (intermediate) validation score\n",
        "    y_va_pred = xg.predict(X_valid)\n",
        "    \n",
        "    estimators_list.append(xg.get_params()['n_estimators'])\n",
        "    mae_list.append(mean_absolute_error(y_valid, y_va_pred))\n",
        "    print(f\"{estimators_list[-1]:4} estimators:   \"\n",
        "          f\"Validation MAE = {mae_list[-1]:.5f}\")"
      ],
      "execution_count": null,
      "outputs": [
        {
          "output_type": "stream",
          "name": "stdout",
          "text": [
            "[19:15:02] WARNING: /workspace/src/objective/regression_obj.cu:152: reg:linear is now deprecated in favor of reg:squarederror.\n",
            "  16 estimators:   Validation MAE = 9.90760\n",
            "[19:15:21] WARNING: /workspace/src/objective/regression_obj.cu:152: reg:linear is now deprecated in favor of reg:squarederror.\n",
            "  64 estimators:   Validation MAE = 5.22733\n",
            "[19:16:25] WARNING: /workspace/src/objective/regression_obj.cu:152: reg:linear is now deprecated in favor of reg:squarederror.\n",
            " 256 estimators:   Validation MAE = 5.25569\n"
          ]
        }
      ]
    },
    {
      "cell_type": "markdown",
      "source": [
        "#### 3. HistGradientBoostingRegressor "
      ],
      "metadata": {
        "cell_id": "b9db71095e96403caf65a62b46941222",
        "tags": [],
        "deepnote_cell_type": "markdown",
        "deepnote_cell_height": 53.9375,
        "id": "DRgrkLBbiY0F"
      }
    },
    {
      "cell_type": "code",
      "metadata": {
        "cell_id": "e358de817f084ae1a86279b1d459a5c8",
        "tags": [],
        "deepnote_to_be_reexecuted": false,
        "source_hash": "e853fca2",
        "execution_start": 1649343489926,
        "execution_millis": 6076660,
        "deepnote_cell_type": "code",
        "deepnote_cell_height": 363.921875,
        "colab": {
          "base_uri": "https://localhost:8080/"
        },
        "id": "izgYR2bqiY0F",
        "outputId": "84c9a7be-e2ce-44c8-f227-ff7d03660430"
      },
      "source": [
        "\n",
        "\n",
        "\n",
        "hg = HistGradientBoostingRegressor( max_iter=10875, max_leaf_nodes=176, max_depth=18, min_samples_leaf=49,\n",
        "                                    random_state=random.randint(0,1000), loss='absolute_error')\n",
        "\n",
        "\n",
        "hg.fit(X_train, y_train)\n",
        "\n",
        "\n",
        "# Compute the (intermediate) validation score\n",
        "y_va_pred = hg.predict(X_valid)\n",
        "\n",
        "print(\"Validation MAE: \", mean_absolute_error(y_valid, y_va_pred))\n"
      ],
      "execution_count": null,
      "outputs": [
        {
          "output_type": "stream",
          "name": "stdout",
          "text": [
            "Validation MAE:  5.151566280154633\n"
          ]
        }
      ]
    },
    {
      "cell_type": "markdown",
      "source": [
        "#### 4. MLP Regressor "
      ],
      "metadata": {
        "cell_id": "cc2d2b8adb8946648277efe71b24fa0c",
        "tags": [],
        "deepnote_cell_type": "markdown",
        "deepnote_cell_height": 53.9375,
        "id": "sUTqsJM5iY0F"
      }
    },
    {
      "cell_type": "code",
      "metadata": {
        "cell_id": "efbaf9995ecc41d09740579be1753173",
        "tags": [],
        "deepnote_to_be_reexecuted": false,
        "source_hash": "19284e76",
        "execution_start": 1649349566577,
        "execution_millis": 431770,
        "deepnote_cell_type": "code",
        "deepnote_cell_height": 327.921875,
        "colab": {
          "base_uri": "https://localhost:8080/"
        },
        "id": "SkcpCRROiY0F",
        "outputId": "e48e7292-f97a-4d21-e220-37edbc0c65f4"
      },
      "source": [
        "\n",
        "\n",
        "model1 = MLPRegressor(random_state=31, max_iter=300, hidden_layer_sizes=(20, 14, 5))\n",
        "model1.fit(X_train, y_train)\n",
        "\n",
        "model2 = MLPRegressor(random_state=31, max_iter=300, hidden_layer_sizes=(8, 6, 4))\n",
        "model2.fit(X_train, y_train)\n",
        "\n",
        "model3 = MLPRegressor(random_state=31, max_iter=300, hidden_layer_sizes=(1, 1))\n",
        "model3.fit(X_train, y_train)\n",
        "\n",
        "\n",
        "# Compute the (intermediate) validation score\n",
        "pred_1 = model1.predict(X_valid)\n",
        "pred_2 = model2.predict(X_valid)\n",
        "pred_3 = model3.predict(X_valid)\n",
        "\n",
        "print(\"Validation MAE - Model 1: \", mean_absolute_error(y_valid, pred_1))\n",
        "print(\"Validation MAE - Model 2: \", mean_absolute_error(y_valid, pred_2))\n",
        "print(\"Validation MAE - Model 3: \", mean_absolute_error(y_valid, pred_3))"
      ],
      "execution_count": null,
      "outputs": [
        {
          "output_type": "stream",
          "name": "stdout",
          "text": [
            "Validation MAE - Model 1:  5.3932013032019634\n",
            "Validation MAE - Model 2:  5.235413697499448\n",
            "Validation MAE - Model 3:  14.017352937037078\n"
          ]
        }
      ]
    },
    {
      "cell_type": "markdown",
      "source": [
        "#### 5. GradientBoostingRegressor"
      ],
      "metadata": {
        "cell_id": "39e82886b9404c4b9ed889d6241a4266",
        "tags": [],
        "deepnote_cell_type": "markdown",
        "deepnote_cell_height": 53.9375,
        "id": "u7j2E3cEiY0F"
      }
    },
    {
      "cell_type": "code",
      "metadata": {
        "cell_id": "6ba1373053804fb5917d7dc520aee2f7",
        "tags": [],
        "deepnote_to_be_reexecuted": false,
        "source_hash": "2db205ba",
        "execution_start": 1649349998347,
        "execution_millis": 566752,
        "deepnote_cell_type": "code",
        "deepnote_cell_height": 565.953125,
        "colab": {
          "base_uri": "https://localhost:8080/"
        },
        "id": "J5Mhz4-5iY0F",
        "outputId": "798968c7-1a2d-463c-8430-f467bdc55b61"
      },
      "source": [
        "\n",
        "\n",
        "gb = GradientBoostingRegressor(n_estimators=0, random_state=random.randint(0,1000))\n",
        "\n",
        "\n",
        "estimators_list, mae_list = [], []\n",
        "n_estimators = 4\n",
        "initialized = False\n",
        "while n_estimators < 256:\n",
        "    n_estimators *= 4\n",
        "    \n",
        "    gb.set_params(n_estimators=n_estimators)\n",
        "    \n",
        "    gb.fit(X_train, y_train)\n",
        "    \n",
        "    initialized = True\n",
        "\n",
        "    # Compute the (intermediate) validation score\n",
        "    y_va_pred = gb.predict(X_valid)\n",
        "    \n",
        "    estimators_list.append(gb.get_params()['n_estimators'])\n",
        "    mae_list.append(mean_absolute_error(y_valid, y_va_pred))\n",
        "    print(f\"{estimators_list[-1]:4} estimators:   \"\n",
        "          f\"Validation MAE = {mae_list[-1]:.5f}\")"
      ],
      "execution_count": null,
      "outputs": [
        {
          "output_type": "stream",
          "name": "stdout",
          "text": [
            "  16 estimators:   Validation MAE = 5.99060\n",
            "  64 estimators:   Validation MAE = 5.24651\n",
            " 256 estimators:   Validation MAE = 5.27031\n"
          ]
        }
      ]
    },
    {
      "cell_type": "markdown",
      "source": [
        "### Grid Search"
      ],
      "metadata": {
        "cell_id": "0342f247aeed45958d754434d991a3c7",
        "tags": [],
        "deepnote_cell_type": "markdown",
        "deepnote_cell_height": 61.9375,
        "id": "jK2vdO7RiY0G"
      }
    },
    {
      "cell_type": "code",
      "metadata": {
        "cell_id": "3f2582db31b3469b8badf1340b4a979c",
        "tags": [],
        "deepnote_to_be_reexecuted": false,
        "source_hash": "e8b2d29f",
        "execution_start": 1649350564634,
        "execution_millis": 0,
        "deepnote_cell_type": "code",
        "deepnote_cell_height": 496.09375,
        "deepnote_output_heights": [
          21.171875
        ],
        "colab": {
          "base_uri": "https://localhost:8080/",
          "height": 88
        },
        "id": "MoNQwngDiY0G",
        "outputId": "25278dd0-2cbb-47bb-b8e0-95b09779d627"
      },
      "source": [
        "# grid search comentado para não executar todas as vezes.\n",
        "'''\n",
        "from sklearn.model_selection import GridSearchCV\n",
        "\n",
        "hg = HistGradientBoostingRegressor()\n",
        "parameters = {  'learning_rate': [.01, .9],\n",
        "                'max_iter': [1000, 1200],\n",
        "                'min_samples_leaf': [15, 20],\n",
        "                'max_depth': [None, 10, 20],\n",
        "                'l2_regularization': [0.1, 0.001, 0.0001]}\n",
        "\n",
        "hg_grid = GridSearchCV(hg,\n",
        "                        parameters,\n",
        "                        cv = 2,\n",
        "                        n_jobs = 5,\n",
        "                        verbose=True)\n",
        "\n",
        "hg_grid.fit(X_train, y_train)\n",
        "\n",
        "print(hg_grid.best_score_)\n",
        "print(hg_grid.best_params_)\n",
        "\n",
        "'''"
      ],
      "execution_count": null,
      "outputs": [
        {
          "output_type": "execute_result",
          "data": {
            "text/plain": [
              "\"\\nfrom sklearn.model_selection import GridSearchCV\\n\\nhg = HistGradientBoostingRegressor()\\nparameters = {  'learning_rate': [.01, .9],\\n                'max_iter': [1000, 1200],\\n                'min_samples_leaf': [15, 20],\\n                'max_depth': [None, 10, 20],\\n                'l2_regularization': [0.1, 0.001, 0.0001]}\\n\\nhg_grid = GridSearchCV(hg,\\n                        parameters,\\n                        cv = 2,\\n                        n_jobs = 5,\\n                        verbose=True)\\n\\nhg_grid.fit(X_train, y_train)\\n\\nprint(hg_grid.best_score_)\\nprint(hg_grid.best_params_)\\n\\n\""
            ],
            "application/vnd.google.colaboratory.intrinsic+json": {
              "type": "string"
            }
          },
          "metadata": {},
          "execution_count": 284
        }
      ]
    },
    {
      "cell_type": "markdown",
      "source": [
        "Grid search result:\n",
        "\n",
        "```\n",
        "Fitting 2 folds for each of 72 candidates, totalling 144 fits\n",
        "0.7386887458478943\n",
        "{'l2_regularization': 0.001, 'learning_rate': 0.01, 'max_depth': 20, 'max_iter': 1000, 'min_samples_leaf': 20}\n",
        "``` "
      ],
      "metadata": {
        "id": "HnPLzWM4pfUD"
      }
    },
    {
      "cell_type": "markdown",
      "source": [
        "#### Decision Tree Regressor"
      ],
      "metadata": {
        "id": "TDcMLAwD-JTI"
      }
    },
    {
      "cell_type": "code",
      "source": [
        "from sklearn.tree import DecisionTreeRegressor\n",
        "\n",
        "regressor = DecisionTreeRegressor(random_state=random.randint(0,1000))\n",
        "\n",
        "regressor.fit(X_train, y_train)\n",
        "\n",
        "\n",
        "# Compute the (intermediate) validation score\n",
        "pred = regressor.predict(X_valid)\n",
        "\n",
        "print(\"Validation MAE: \", mean_absolute_error(y_valid, pred))\n",
        "\n"
      ],
      "metadata": {
        "colab": {
          "base_uri": "https://localhost:8080/"
        },
        "id": "18cFyN2599eE",
        "outputId": "c495a579-1ffc-49c3-8415-58120a4e5300"
      },
      "execution_count": null,
      "outputs": [
        {
          "output_type": "stream",
          "name": "stdout",
          "text": [
            "Validation MAE:  7.493818308388444\n"
          ]
        }
      ]
    },
    {
      "cell_type": "markdown",
      "source": [
        "### Feature Importance"
      ],
      "metadata": {
        "cell_id": "ef72774331574b3eb3526326889109f8",
        "tags": [],
        "is_collapsed": false,
        "deepnote_cell_type": "text-cell-h3",
        "id": "W6NDopIYiY0G"
      }
    },
    {
      "cell_type": "code",
      "metadata": {
        "cell_id": "290b894bab7a4e1f96726f3684486ad1",
        "tags": [],
        "deepnote_to_be_reexecuted": false,
        "source_hash": "cf207943",
        "execution_start": 1649350564652,
        "execution_millis": 160429,
        "deepnote_cell_type": "code",
        "deepnote_cell_height": 707.875,
        "colab": {
          "base_uri": "https://localhost:8080/",
          "height": 423
        },
        "id": "EpVA54w5iY0G",
        "outputId": "863ae4cf-9cf8-4786-a342-4463f151b83d"
      },
      "source": [
        "from sklearn.feature_selection import mutual_info_regression\n",
        "\n",
        "mi_scores = mutual_info_regression(X_train, y_train)\n",
        "mi_scores = pd.Series(mi_scores, name=\"MI_score\", index=X_train.columns)\n",
        "mi_scores = mi_scores.sort_values(ascending=False)\n",
        "df_mi_scores = pd.DataFrame(mi_scores).reset_index().rename(columns={'index':'feature'})\n",
        "df_mi_scores"
      ],
      "execution_count": null,
      "outputs": [
        {
          "output_type": "execute_result",
          "data": {
            "text/plain": [
              "              feature  MI_score\n",
              "0   median congestion  0.894814\n",
              "1     mean congestion  0.866452\n",
              "2      min congestion  0.770025\n",
              "3      max congestion  0.680905\n",
              "4                21SE  0.051308\n",
              "..                ...       ...\n",
              "81           Thursday  0.001033\n",
              "82             Monday  0.000938\n",
              "83             minute  0.000586\n",
              "84            Tuesday  0.000499\n",
              "85     is_month_start  0.000000\n",
              "\n",
              "[86 rows x 2 columns]"
            ],
            "text/html": [
              "\n",
              "  <div id=\"df-82e21763-a108-42df-8470-1925294687c6\">\n",
              "    <div class=\"colab-df-container\">\n",
              "      <div>\n",
              "<style scoped>\n",
              "    .dataframe tbody tr th:only-of-type {\n",
              "        vertical-align: middle;\n",
              "    }\n",
              "\n",
              "    .dataframe tbody tr th {\n",
              "        vertical-align: top;\n",
              "    }\n",
              "\n",
              "    .dataframe thead th {\n",
              "        text-align: right;\n",
              "    }\n",
              "</style>\n",
              "<table border=\"1\" class=\"dataframe\">\n",
              "  <thead>\n",
              "    <tr style=\"text-align: right;\">\n",
              "      <th></th>\n",
              "      <th>feature</th>\n",
              "      <th>MI_score</th>\n",
              "    </tr>\n",
              "  </thead>\n",
              "  <tbody>\n",
              "    <tr>\n",
              "      <th>0</th>\n",
              "      <td>median congestion</td>\n",
              "      <td>0.894814</td>\n",
              "    </tr>\n",
              "    <tr>\n",
              "      <th>1</th>\n",
              "      <td>mean congestion</td>\n",
              "      <td>0.866452</td>\n",
              "    </tr>\n",
              "    <tr>\n",
              "      <th>2</th>\n",
              "      <td>min congestion</td>\n",
              "      <td>0.770025</td>\n",
              "    </tr>\n",
              "    <tr>\n",
              "      <th>3</th>\n",
              "      <td>max congestion</td>\n",
              "      <td>0.680905</td>\n",
              "    </tr>\n",
              "    <tr>\n",
              "      <th>4</th>\n",
              "      <td>21SE</td>\n",
              "      <td>0.051308</td>\n",
              "    </tr>\n",
              "    <tr>\n",
              "      <th>...</th>\n",
              "      <td>...</td>\n",
              "      <td>...</td>\n",
              "    </tr>\n",
              "    <tr>\n",
              "      <th>81</th>\n",
              "      <td>Thursday</td>\n",
              "      <td>0.001033</td>\n",
              "    </tr>\n",
              "    <tr>\n",
              "      <th>82</th>\n",
              "      <td>Monday</td>\n",
              "      <td>0.000938</td>\n",
              "    </tr>\n",
              "    <tr>\n",
              "      <th>83</th>\n",
              "      <td>minute</td>\n",
              "      <td>0.000586</td>\n",
              "    </tr>\n",
              "    <tr>\n",
              "      <th>84</th>\n",
              "      <td>Tuesday</td>\n",
              "      <td>0.000499</td>\n",
              "    </tr>\n",
              "    <tr>\n",
              "      <th>85</th>\n",
              "      <td>is_month_start</td>\n",
              "      <td>0.000000</td>\n",
              "    </tr>\n",
              "  </tbody>\n",
              "</table>\n",
              "<p>86 rows × 2 columns</p>\n",
              "</div>\n",
              "      <button class=\"colab-df-convert\" onclick=\"convertToInteractive('df-82e21763-a108-42df-8470-1925294687c6')\"\n",
              "              title=\"Convert this dataframe to an interactive table.\"\n",
              "              style=\"display:none;\">\n",
              "        \n",
              "  <svg xmlns=\"http://www.w3.org/2000/svg\" height=\"24px\"viewBox=\"0 0 24 24\"\n",
              "       width=\"24px\">\n",
              "    <path d=\"M0 0h24v24H0V0z\" fill=\"none\"/>\n",
              "    <path d=\"M18.56 5.44l.94 2.06.94-2.06 2.06-.94-2.06-.94-.94-2.06-.94 2.06-2.06.94zm-11 1L8.5 8.5l.94-2.06 2.06-.94-2.06-.94L8.5 2.5l-.94 2.06-2.06.94zm10 10l.94 2.06.94-2.06 2.06-.94-2.06-.94-.94-2.06-.94 2.06-2.06.94z\"/><path d=\"M17.41 7.96l-1.37-1.37c-.4-.4-.92-.59-1.43-.59-.52 0-1.04.2-1.43.59L10.3 9.45l-7.72 7.72c-.78.78-.78 2.05 0 2.83L4 21.41c.39.39.9.59 1.41.59.51 0 1.02-.2 1.41-.59l7.78-7.78 2.81-2.81c.8-.78.8-2.07 0-2.86zM5.41 20L4 18.59l7.72-7.72 1.47 1.35L5.41 20z\"/>\n",
              "  </svg>\n",
              "      </button>\n",
              "      \n",
              "  <style>\n",
              "    .colab-df-container {\n",
              "      display:flex;\n",
              "      flex-wrap:wrap;\n",
              "      gap: 12px;\n",
              "    }\n",
              "\n",
              "    .colab-df-convert {\n",
              "      background-color: #E8F0FE;\n",
              "      border: none;\n",
              "      border-radius: 50%;\n",
              "      cursor: pointer;\n",
              "      display: none;\n",
              "      fill: #1967D2;\n",
              "      height: 32px;\n",
              "      padding: 0 0 0 0;\n",
              "      width: 32px;\n",
              "    }\n",
              "\n",
              "    .colab-df-convert:hover {\n",
              "      background-color: #E2EBFA;\n",
              "      box-shadow: 0px 1px 2px rgba(60, 64, 67, 0.3), 0px 1px 3px 1px rgba(60, 64, 67, 0.15);\n",
              "      fill: #174EA6;\n",
              "    }\n",
              "\n",
              "    [theme=dark] .colab-df-convert {\n",
              "      background-color: #3B4455;\n",
              "      fill: #D2E3FC;\n",
              "    }\n",
              "\n",
              "    [theme=dark] .colab-df-convert:hover {\n",
              "      background-color: #434B5C;\n",
              "      box-shadow: 0px 1px 3px 1px rgba(0, 0, 0, 0.15);\n",
              "      filter: drop-shadow(0px 1px 2px rgba(0, 0, 0, 0.3));\n",
              "      fill: #FFFFFF;\n",
              "    }\n",
              "  </style>\n",
              "\n",
              "      <script>\n",
              "        const buttonEl =\n",
              "          document.querySelector('#df-82e21763-a108-42df-8470-1925294687c6 button.colab-df-convert');\n",
              "        buttonEl.style.display =\n",
              "          google.colab.kernel.accessAllowed ? 'block' : 'none';\n",
              "\n",
              "        async function convertToInteractive(key) {\n",
              "          const element = document.querySelector('#df-82e21763-a108-42df-8470-1925294687c6');\n",
              "          const dataTable =\n",
              "            await google.colab.kernel.invokeFunction('convertToInteractive',\n",
              "                                                     [key], {});\n",
              "          if (!dataTable) return;\n",
              "\n",
              "          const docLinkHtml = 'Like what you see? Visit the ' +\n",
              "            '<a target=\"_blank\" href=https://colab.research.google.com/notebooks/data_table.ipynb>data table notebook</a>'\n",
              "            + ' to learn more about interactive tables.';\n",
              "          element.innerHTML = '';\n",
              "          dataTable['output_type'] = 'display_data';\n",
              "          await google.colab.output.renderOutput(dataTable, element);\n",
              "          const docLink = document.createElement('div');\n",
              "          docLink.innerHTML = docLinkHtml;\n",
              "          element.appendChild(docLink);\n",
              "        }\n",
              "      </script>\n",
              "    </div>\n",
              "  </div>\n",
              "  "
            ]
          },
          "metadata": {},
          "execution_count": 166
        }
      ]
    },
    {
      "cell_type": "code",
      "metadata": {
        "cell_id": "020239b76781409abbca1189343d384e",
        "tags": [],
        "deepnote_to_be_reexecuted": false,
        "source_hash": "57f6693",
        "execution_start": 1649350725082,
        "execution_millis": 439,
        "deepnote_cell_type": "code",
        "deepnote_cell_height": 414.03125,
        "deepnote_output_heights": [
          21.171875,
          264.96875
        ],
        "colab": {
          "base_uri": "https://localhost:8080/",
          "height": 302
        },
        "id": "-GiLmOyriY0G",
        "outputId": "25dfcafa-1e88-444a-a72c-8f22107e161c"
      },
      "source": [
        "sns.barplot(y=df_mi_scores['feature'], x=df_mi_scores['MI_score'])"
      ],
      "execution_count": null,
      "outputs": [
        {
          "output_type": "execute_result",
          "data": {
            "text/plain": [
              "<matplotlib.axes._subplots.AxesSubplot at 0x7f3513b6b510>"
            ]
          },
          "metadata": {},
          "execution_count": 167
        },
        {
          "output_type": "display_data",
          "data": {
            "text/plain": [
              "<Figure size 432x288 with 1 Axes>"
            ],
            "image/png": "[encoded data removed]"
          },
          "metadata": {
            "needs_background": "light"
          }
        }
      ]
    },
    {
      "cell_type": "code",
      "source": [
        "feature_names = []\n",
        "feature_importance = []"
      ],
      "metadata": {
        "id": "zcvFbReTWODR"
      },
      "execution_count": null,
      "outputs": []
    },
    {
      "cell_type": "code",
      "metadata": {
        "cell_id": "085432ee40c44ca6992b49a63eb5e5df",
        "tags": [],
        "deepnote_cell_type": "code",
        "deepnote_cell_height": 479.9375,
        "id": "zfdE1GVGiY0H"
      },
      "source": [
        "def plot_feature_importance(importance,names,model_type):\n",
        "    \n",
        "    #Create arrays from feature importance and feature names\n",
        "    feature_importance = np.array(importance)\n",
        "    feature_names = np.array(names)\n",
        "    \n",
        "\n",
        "    #Create a DataFrame using a Dictionary\n",
        "    data={'feature_names':feature_names,'feature_importance':feature_importance}\n",
        "    fi_df = pd.DataFrame(data)\n",
        "    \n",
        "    #Sort the DataFrame in order decreasing feature importance\n",
        "    fi_df.sort_values(by=['feature_importance'], ascending=False,inplace=True)\n",
        "\n",
        "    #print(fi_df[0:10])\n",
        "    fi_df = fi_df[0:10]\n",
        "    \n",
        "    #Define size of bar plot\n",
        "    plt.figure(figsize=(10,6))\n",
        "    #Plot Searborn bar chart\n",
        "    sns.barplot(x=fi_df['feature_importance'], y=fi_df['feature_names'])\n",
        "    #Add chart labels\n",
        "    plt.title(model_type + ' - Top 10 Most Important Features', fontsize=14)\n",
        "    plt.xlabel('Feature Importance', fontsize=14)\n",
        "    plt.ylabel('Feature Names', fontsize=14)\n",
        "\n",
        "#df_data = load_data()\n",
        "#pp.ProfileReport(df_data)"
      ],
      "execution_count": null,
      "outputs": []
    },
    {
      "cell_type": "code",
      "metadata": {
        "cell_id": "51825bd9887c4e4a8f947307a4196a06",
        "tags": [],
        "deepnote_cell_type": "code",
        "deepnote_cell_height": 65.9375,
        "colab": {
          "base_uri": "https://localhost:8080/",
          "height": 409
        },
        "id": "UFHVzJA0iY0H",
        "outputId": "d5294bb6-6598-4658-d95e-97a130558b0a"
      },
      "source": [
        "plot_feature_importance(xg.feature_importances_,X_valid.columns,'XGBoost')"
      ],
      "execution_count": null,
      "outputs": [
        {
          "output_type": "display_data",
          "data": {
            "text/plain": [
              "<Figure size 720x432 with 1 Axes>"
            ],
            "image/png": "[encoded data removed]"
          },
          "metadata": {
            "needs_background": "light"
          }
        }
      ]
    },
    {
      "cell_type": "code",
      "source": [
        "X_train_final = pd.concat([X_train, X_valid])\n",
        "y_train_final = pd.concat([y_train, y_valid])"
      ],
      "metadata": {
        "id": "yvtIxZ0FWiN_"
      },
      "execution_count": null,
      "outputs": []
    },
    {
      "cell_type": "markdown",
      "source": [
        "### Models Setup: Testing (run only once)"
      ],
      "metadata": {
        "cell_id": "88b2b8c87b4148f489c820fc7d0b1b66",
        "tags": [],
        "deepnote_cell_type": "markdown",
        "deepnote_cell_height": 61.9375,
        "id": "4oeEbhCtiY0H"
      }
    },
    {
      "cell_type": "code",
      "metadata": {
        "cell_id": "628b604fff2a4f29893d383b9ae89391",
        "tags": [],
        "deepnote_to_be_reexecuted": false,
        "source_hash": "57c90cff",
        "execution_start": 1649350725482,
        "execution_millis": 64,
        "deepnote_cell_type": "code",
        "deepnote_cell_height": 774.09375,
        "colab": {
          "base_uri": "https://localhost:8080/"
        },
        "id": "800BGHk0iY0H",
        "outputId": "561cdaac-7461-41e3-8c80-0ee254d4d6e1"
      },
      "source": [
        "from sklearn.metrics import mean_absolute_error\n",
        "from sklearn.metrics import mean_squared_error\n",
        "from sklearn.metrics import r2_score\n",
        "\n",
        "MLA = [\n",
        "       DecisionTreeRegressor(random_state=random.randint(0,1000)),\n",
        "       xgb.XGBRegressor(n_estimators=64, n_jobs=-1, random_state=random.randint(0,1000)),\n",
        "       RandomForestRegressor(n_estimators=256, max_samples=0.03, n_jobs=-1, random_state=random.randint(0,1000)),\n",
        "       GradientBoostingRegressor(n_estimators=64, random_state=random.randint(0,1000)),\n",
        "       MLPRegressor(random_state=random.randint(0,1000), max_iter=300, hidden_layer_sizes=(8, 6, 4))\n",
        "]\n",
        "\n",
        "row_index = 0\n",
        "MLA_compare = pd.DataFrame()\n",
        "\n",
        "model_names = []\n",
        "r2_scores = []\n",
        "y_preds = []\n",
        "\n",
        "for model in MLA:\n",
        "    model.fit(X_train_final, y_train_final)\n",
        "\n",
        "    y_pred = model.predict(X_test)\n",
        "\n",
        "    model_r2_score = r2_score(y_test, y_pred)\n",
        "    mse = mean_squared_error(y_test, y_pred)\n",
        "    mae = mean_absolute_error(y_test, y_pred)\n",
        "\n",
        "    MLA_name = model.__class__.__name__\n",
        "    MLA_compare.loc[row_index, 'MLA Name'] = MLA_name\n",
        "    MLA_compare.loc[row_index, 'R2 Score'] = model_r2_score\n",
        "    MLA_compare.loc[row_index, 'MSE'] = mse\n",
        "    MLA_compare.loc[row_index, 'MAE'] = mae\n",
        "\n",
        "    row_index+=1"
      ],
      "execution_count": null,
      "outputs": [
        {
          "output_type": "stream",
          "name": "stdout",
          "text": [
            "[18:37:25] WARNING: /workspace/src/objective/regression_obj.cu:152: reg:linear is now deprecated in favor of reg:squarederror.\n"
          ]
        }
      ]
    },
    {
      "cell_type": "code",
      "source": [
        "MLA_compare"
      ],
      "metadata": {
        "colab": {
          "base_uri": "https://localhost:8080/",
          "height": 206
        },
        "id": "C-2BtbaRaXKU",
        "outputId": "9f935101-0eea-4257-eca1-eda189f45398"
      },
      "execution_count": null,
      "outputs": [
        {
          "output_type": "execute_result",
          "data": {
            "text/plain": [
              "                    MLA Name  R2 Score         MSE       MAE\n",
              "0      DecisionTreeRegressor  0.569525  119.436966  7.202350\n",
              "1               XGBRegressor  0.787063   59.080118  5.363799\n",
              "2      RandomForestRegressor  0.785760   59.441807  5.427775\n",
              "3  GradientBoostingRegressor  0.787201   59.041828  5.365878\n",
              "4               MLPRegressor  0.787656   58.915738  5.365904"
            ],
            "text/html": [
              "\n",
              "  <div id=\"df-0228e51a-0a50-466e-9d68-2dca0e5d2734\">\n",
              "    <div class=\"colab-df-container\">\n",
              "      <div>\n",
              "<style scoped>\n",
              "    .dataframe tbody tr th:only-of-type {\n",
              "        vertical-align: middle;\n",
              "    }\n",
              "\n",
              "    .dataframe tbody tr th {\n",
              "        vertical-align: top;\n",
              "    }\n",
              "\n",
              "    .dataframe thead th {\n",
              "        text-align: right;\n",
              "    }\n",
              "</style>\n",
              "<table border=\"1\" class=\"dataframe\">\n",
              "  <thead>\n",
              "    <tr style=\"text-align: right;\">\n",
              "      <th></th>\n",
              "      <th>MLA Name</th>\n",
              "      <th>R2 Score</th>\n",
              "      <th>MSE</th>\n",
              "      <th>MAE</th>\n",
              "    </tr>\n",
              "  </thead>\n",
              "  <tbody>\n",
              "    <tr>\n",
              "      <th>0</th>\n",
              "      <td>DecisionTreeRegressor</td>\n",
              "      <td>0.569525</td>\n",
              "      <td>119.436966</td>\n",
              "      <td>7.202350</td>\n",
              "    </tr>\n",
              "    <tr>\n",
              "      <th>1</th>\n",
              "      <td>XGBRegressor</td>\n",
              "      <td>0.787063</td>\n",
              "      <td>59.080118</td>\n",
              "      <td>5.363799</td>\n",
              "    </tr>\n",
              "    <tr>\n",
              "      <th>2</th>\n",
              "      <td>RandomForestRegressor</td>\n",
              "      <td>0.785760</td>\n",
              "      <td>59.441807</td>\n",
              "      <td>5.427775</td>\n",
              "    </tr>\n",
              "    <tr>\n",
              "      <th>3</th>\n",
              "      <td>GradientBoostingRegressor</td>\n",
              "      <td>0.787201</td>\n",
              "      <td>59.041828</td>\n",
              "      <td>5.365878</td>\n",
              "    </tr>\n",
              "    <tr>\n",
              "      <th>4</th>\n",
              "      <td>MLPRegressor</td>\n",
              "      <td>0.787656</td>\n",
              "      <td>58.915738</td>\n",
              "      <td>5.365904</td>\n",
              "    </tr>\n",
              "  </tbody>\n",
              "</table>\n",
              "</div>\n",
              "      <button class=\"colab-df-convert\" onclick=\"convertToInteractive('df-0228e51a-0a50-466e-9d68-2dca0e5d2734')\"\n",
              "              title=\"Convert this dataframe to an interactive table.\"\n",
              "              style=\"display:none;\">\n",
              "        \n",
              "  <svg xmlns=\"http://www.w3.org/2000/svg\" height=\"24px\"viewBox=\"0 0 24 24\"\n",
              "       width=\"24px\">\n",
              "    <path d=\"M0 0h24v24H0V0z\" fill=\"none\"/>\n",
              "    <path d=\"M18.56 5.44l.94 2.06.94-2.06 2.06-.94-2.06-.94-.94-2.06-.94 2.06-2.06.94zm-11 1L8.5 8.5l.94-2.06 2.06-.94-2.06-.94L8.5 2.5l-.94 2.06-2.06.94zm10 10l.94 2.06.94-2.06 2.06-.94-2.06-.94-.94-2.06-.94 2.06-2.06.94z\"/><path d=\"M17.41 7.96l-1.37-1.37c-.4-.4-.92-.59-1.43-.59-.52 0-1.04.2-1.43.59L10.3 9.45l-7.72 7.72c-.78.78-.78 2.05 0 2.83L4 21.41c.39.39.9.59 1.41.59.51 0 1.02-.2 1.41-.59l7.78-7.78 2.81-2.81c.8-.78.8-2.07 0-2.86zM5.41 20L4 18.59l7.72-7.72 1.47 1.35L5.41 20z\"/>\n",
              "  </svg>\n",
              "      </button>\n",
              "      \n",
              "  <style>\n",
              "    .colab-df-container {\n",
              "      display:flex;\n",
              "      flex-wrap:wrap;\n",
              "      gap: 12px;\n",
              "    }\n",
              "\n",
              "    .colab-df-convert {\n",
              "      background-color: #E8F0FE;\n",
              "      border: none;\n",
              "      border-radius: 50%;\n",
              "      cursor: pointer;\n",
              "      display: none;\n",
              "      fill: #1967D2;\n",
              "      height: 32px;\n",
              "      padding: 0 0 0 0;\n",
              "      width: 32px;\n",
              "    }\n",
              "\n",
              "    .colab-df-convert:hover {\n",
              "      background-color: #E2EBFA;\n",
              "      box-shadow: 0px 1px 2px rgba(60, 64, 67, 0.3), 0px 1px 3px 1px rgba(60, 64, 67, 0.15);\n",
              "      fill: #174EA6;\n",
              "    }\n",
              "\n",
              "    [theme=dark] .colab-df-convert {\n",
              "      background-color: #3B4455;\n",
              "      fill: #D2E3FC;\n",
              "    }\n",
              "\n",
              "    [theme=dark] .colab-df-convert:hover {\n",
              "      background-color: #434B5C;\n",
              "      box-shadow: 0px 1px 3px 1px rgba(0, 0, 0, 0.15);\n",
              "      filter: drop-shadow(0px 1px 2px rgba(0, 0, 0, 0.3));\n",
              "      fill: #FFFFFF;\n",
              "    }\n",
              "  </style>\n",
              "\n",
              "      <script>\n",
              "        const buttonEl =\n",
              "          document.querySelector('#df-0228e51a-0a50-466e-9d68-2dca0e5d2734 button.colab-df-convert');\n",
              "        buttonEl.style.display =\n",
              "          google.colab.kernel.accessAllowed ? 'block' : 'none';\n",
              "\n",
              "        async function convertToInteractive(key) {\n",
              "          const element = document.querySelector('#df-0228e51a-0a50-466e-9d68-2dca0e5d2734');\n",
              "          const dataTable =\n",
              "            await google.colab.kernel.invokeFunction('convertToInteractive',\n",
              "                                                     [key], {});\n",
              "          if (!dataTable) return;\n",
              "\n",
              "          const docLinkHtml = 'Like what you see? Visit the ' +\n",
              "            '<a target=\"_blank\" href=https://colab.research.google.com/notebooks/data_table.ipynb>data table notebook</a>'\n",
              "            + ' to learn more about interactive tables.';\n",
              "          element.innerHTML = '';\n",
              "          dataTable['output_type'] = 'display_data';\n",
              "          await google.colab.output.renderOutput(dataTable, element);\n",
              "          const docLink = document.createElement('div');\n",
              "          docLink.innerHTML = docLinkHtml;\n",
              "          element.appendChild(docLink);\n",
              "        }\n",
              "      </script>\n",
              "    </div>\n",
              "  </div>\n",
              "  "
            ]
          },
          "metadata": {},
          "execution_count": 70
        }
      ]
    },
    {
      "cell_type": "markdown",
      "source": [
        "### Preds Distribution"
      ],
      "metadata": {
        "cell_id": "dbd21bbd2b0c42139fe94dbf0209ce36",
        "tags": [],
        "deepnote_cell_type": "markdown",
        "deepnote_cell_height": 61.9375,
        "id": "oLmEPpuciY0I"
      }
    },
    {
      "cell_type": "code",
      "source": [
        "from matplotlib import pyplot\n",
        "import pandas as pd\n",
        "\n",
        "preds = pd.read_csv('/content/y_preds.csv', header=0)\n",
        "true = pd.read_csv('/content/y_test.csv', header=0)\n"
      ],
      "metadata": {
        "id": "0PMmWx4IcPc2"
      },
      "execution_count": null,
      "outputs": []
    },
    {
      "cell_type": "code",
      "source": [
        "y_pred = preds['y_pred'].values\n",
        "y_true = true['congestion'].values\n",
        "\n",
        "# plot expected vs actual\n",
        "pyplot.plot(y_true, label='Actual')\n",
        "pyplot.plot(y_pred, label='Predicted')\n",
        "pyplot.legend()\n",
        "pyplot.show()"
      ],
      "metadata": {
        "colab": {
          "base_uri": "https://localhost:8080/",
          "height": 265
        },
        "id": "rWp2Pomwjhr5",
        "outputId": "77e66b2b-9c8a-4448-afe3-f21ee24a5a83"
      },
      "execution_count": null,
      "outputs": [
        {
          "output_type": "display_data",
          "data": {
            "text/plain": [
              "<Figure size 432x288 with 1 Axes>"
            ],
            "image/png": "[encoded data removed]"
          },
          "metadata": {
            "needs_background": "light"
          }
        }
      ]
    },
    {
      "cell_type": "code",
      "source": [
        "model = xgb.XGBRegressor(n_estimators=64, n_jobs=-1, random_state=random.randint(0,1000))\n",
        "\n",
        "model.fit(X_train_final, y_train_final)\n",
        "\n",
        "y_pred = model.predict(X_test)\n",
        "\n",
        "print(\"Validation MAE: \", mean_absolute_error(y_test, y_pred))\n",
        "\n"
      ],
      "metadata": {
        "colab": {
          "base_uri": "https://localhost:8080/"
        },
        "id": "QJswRjt-bKXi",
        "outputId": "2fd126a2-37bf-4c6b-be46-d907f735054a"
      },
      "execution_count": null,
      "outputs": [
        {
          "output_type": "stream",
          "name": "stdout",
          "text": [
            "[19:39:01] WARNING: /workspace/src/objective/regression_obj.cu:152: reg:linear is now deprecated in favor of reg:squarederror.\n",
            "Validation MAE:  5.363798613158996\n"
          ]
        }
      ]
    },
    {
      "cell_type": "code",
      "source": [
        "y_pred"
      ],
      "metadata": {
        "colab": {
          "base_uri": "https://localhost:8080/"
        },
        "id": "EuFNdlnzc4OI",
        "outputId": "f59442b0-4fd4-4c0c-ffa5-94b0484c2a73"
      },
      "execution_count": null,
      "outputs": [
        {
          "output_type": "execute_result",
          "data": {
            "text/plain": [
              "array([52.31554 , 44.808754, 23.962255, ..., 68.87968 , 20.798988,\n",
              "       36.8001  ], dtype=float32)"
            ]
          },
          "metadata": {},
          "execution_count": 115
        }
      ]
    },
    {
      "cell_type": "code",
      "source": [
        "y_preds = pd.DataFrame (y_pred, columns = ['y_pred'])\n",
        "y_preds"
      ],
      "metadata": {
        "colab": {
          "base_uri": "https://localhost:8080/",
          "height": 423
        },
        "id": "vnoTf0XEb0S0",
        "outputId": "a930a0eb-0832-495c-9434-3637c762ac9f"
      },
      "execution_count": null,
      "outputs": [
        {
          "output_type": "execute_result",
          "data": {
            "text/plain": [
              "           y_pred\n",
              "0       52.315540\n",
              "1       44.808754\n",
              "2       23.962255\n",
              "3       23.701248\n",
              "4       66.316772\n",
              "...           ...\n",
              "135715  56.179852\n",
              "135716  26.973330\n",
              "135717  68.879677\n",
              "135718  20.798988\n",
              "135719  36.800098\n",
              "\n",
              "[135720 rows x 1 columns]"
            ],
            "text/html": [
              "\n",
              "  <div id=\"df-cc4b3b8a-c91a-4de9-a38f-bb7f289aa928\">\n",
              "    <div class=\"colab-df-container\">\n",
              "      <div>\n",
              "<style scoped>\n",
              "    .dataframe tbody tr th:only-of-type {\n",
              "        vertical-align: middle;\n",
              "    }\n",
              "\n",
              "    .dataframe tbody tr th {\n",
              "        vertical-align: top;\n",
              "    }\n",
              "\n",
              "    .dataframe thead th {\n",
              "        text-align: right;\n",
              "    }\n",
              "</style>\n",
              "<table border=\"1\" class=\"dataframe\">\n",
              "  <thead>\n",
              "    <tr style=\"text-align: right;\">\n",
              "      <th></th>\n",
              "      <th>y_pred</th>\n",
              "    </tr>\n",
              "  </thead>\n",
              "  <tbody>\n",
              "    <tr>\n",
              "      <th>0</th>\n",
              "      <td>52.315540</td>\n",
              "    </tr>\n",
              "    <tr>\n",
              "      <th>1</th>\n",
              "      <td>44.808754</td>\n",
              "    </tr>\n",
              "    <tr>\n",
              "      <th>2</th>\n",
              "      <td>23.962255</td>\n",
              "    </tr>\n",
              "    <tr>\n",
              "      <th>3</th>\n",
              "      <td>23.701248</td>\n",
              "    </tr>\n",
              "    <tr>\n",
              "      <th>4</th>\n",
              "      <td>66.316772</td>\n",
              "    </tr>\n",
              "    <tr>\n",
              "      <th>...</th>\n",
              "      <td>...</td>\n",
              "    </tr>\n",
              "    <tr>\n",
              "      <th>135715</th>\n",
              "      <td>56.179852</td>\n",
              "    </tr>\n",
              "    <tr>\n",
              "      <th>135716</th>\n",
              "      <td>26.973330</td>\n",
              "    </tr>\n",
              "    <tr>\n",
              "      <th>135717</th>\n",
              "      <td>68.879677</td>\n",
              "    </tr>\n",
              "    <tr>\n",
              "      <th>135718</th>\n",
              "      <td>20.798988</td>\n",
              "    </tr>\n",
              "    <tr>\n",
              "      <th>135719</th>\n",
              "      <td>36.800098</td>\n",
              "    </tr>\n",
              "  </tbody>\n",
              "</table>\n",
              "<p>135720 rows × 1 columns</p>\n",
              "</div>\n",
              "      <button class=\"colab-df-convert\" onclick=\"convertToInteractive('df-cc4b3b8a-c91a-4de9-a38f-bb7f289aa928')\"\n",
              "              title=\"Convert this dataframe to an interactive table.\"\n",
              "              style=\"display:none;\">\n",
              "        \n",
              "  <svg xmlns=\"http://www.w3.org/2000/svg\" height=\"24px\"viewBox=\"0 0 24 24\"\n",
              "       width=\"24px\">\n",
              "    <path d=\"M0 0h24v24H0V0z\" fill=\"none\"/>\n",
              "    <path d=\"M18.56 5.44l.94 2.06.94-2.06 2.06-.94-2.06-.94-.94-2.06-.94 2.06-2.06.94zm-11 1L8.5 8.5l.94-2.06 2.06-.94-2.06-.94L8.5 2.5l-.94 2.06-2.06.94zm10 10l.94 2.06.94-2.06 2.06-.94-2.06-.94-.94-2.06-.94 2.06-2.06.94z\"/><path d=\"M17.41 7.96l-1.37-1.37c-.4-.4-.92-.59-1.43-.59-.52 0-1.04.2-1.43.59L10.3 9.45l-7.72 7.72c-.78.78-.78 2.05 0 2.83L4 21.41c.39.39.9.59 1.41.59.51 0 1.02-.2 1.41-.59l7.78-7.78 2.81-2.81c.8-.78.8-2.07 0-2.86zM5.41 20L4 18.59l7.72-7.72 1.47 1.35L5.41 20z\"/>\n",
              "  </svg>\n",
              "      </button>\n",
              "      \n",
              "  <style>\n",
              "    .colab-df-container {\n",
              "      display:flex;\n",
              "      flex-wrap:wrap;\n",
              "      gap: 12px;\n",
              "    }\n",
              "\n",
              "    .colab-df-convert {\n",
              "      background-color: #E8F0FE;\n",
              "      border: none;\n",
              "      border-radius: 50%;\n",
              "      cursor: pointer;\n",
              "      display: none;\n",
              "      fill: #1967D2;\n",
              "      height: 32px;\n",
              "      padding: 0 0 0 0;\n",
              "      width: 32px;\n",
              "    }\n",
              "\n",
              "    .colab-df-convert:hover {\n",
              "      background-color: #E2EBFA;\n",
              "      box-shadow: 0px 1px 2px rgba(60, 64, 67, 0.3), 0px 1px 3px 1px rgba(60, 64, 67, 0.15);\n",
              "      fill: #174EA6;\n",
              "    }\n",
              "\n",
              "    [theme=dark] .colab-df-convert {\n",
              "      background-color: #3B4455;\n",
              "      fill: #D2E3FC;\n",
              "    }\n",
              "\n",
              "    [theme=dark] .colab-df-convert:hover {\n",
              "      background-color: #434B5C;\n",
              "      box-shadow: 0px 1px 3px 1px rgba(0, 0, 0, 0.15);\n",
              "      filter: drop-shadow(0px 1px 2px rgba(0, 0, 0, 0.3));\n",
              "      fill: #FFFFFF;\n",
              "    }\n",
              "  </style>\n",
              "\n",
              "      <script>\n",
              "        const buttonEl =\n",
              "          document.querySelector('#df-cc4b3b8a-c91a-4de9-a38f-bb7f289aa928 button.colab-df-convert');\n",
              "        buttonEl.style.display =\n",
              "          google.colab.kernel.accessAllowed ? 'block' : 'none';\n",
              "\n",
              "        async function convertToInteractive(key) {\n",
              "          const element = document.querySelector('#df-cc4b3b8a-c91a-4de9-a38f-bb7f289aa928');\n",
              "          const dataTable =\n",
              "            await google.colab.kernel.invokeFunction('convertToInteractive',\n",
              "                                                     [key], {});\n",
              "          if (!dataTable) return;\n",
              "\n",
              "          const docLinkHtml = 'Like what you see? Visit the ' +\n",
              "            '<a target=\"_blank\" href=https://colab.research.google.com/notebooks/data_table.ipynb>data table notebook</a>'\n",
              "            + ' to learn more about interactive tables.';\n",
              "          element.innerHTML = '';\n",
              "          dataTable['output_type'] = 'display_data';\n",
              "          await google.colab.output.renderOutput(dataTable, element);\n",
              "          const docLink = document.createElement('div');\n",
              "          docLink.innerHTML = docLinkHtml;\n",
              "          element.appendChild(docLink);\n",
              "        }\n",
              "      </script>\n",
              "    </div>\n",
              "  </div>\n",
              "  "
            ]
          },
          "metadata": {},
          "execution_count": 116
        }
      ]
    },
    {
      "cell_type": "code",
      "source": [
        "with open('/content/y_test.csv', 'w', encoding = 'utf-8-sig') as f:\n",
        "  y_test.to_csv(f)"
      ],
      "metadata": {
        "id": "0NMGCZBidAlH"
      },
      "execution_count": null,
      "outputs": []
    },
    {
      "cell_type": "code",
      "metadata": {
        "cell_id": "db99095d038f4276931db960d3c3395d",
        "tags": [],
        "deepnote_to_be_reexecuted": true,
        "source_hash": "7f7f3bcf",
        "execution_start": 1649279270779,
        "execution_millis": 0,
        "deepnote_cell_type": "code",
        "deepnote_cell_height": 512.9375,
        "id": "YF-qzPLMiY0I"
      },
      "source": [
        "# todo list:\n",
        "# \n",
        "# pre-processing part\n",
        "\n",
        "    # correlation matrix ✔️\n",
        "    # timestamps imputation (using KNN) ✔️\n",
        "    # median, mean features ✔️\n",
        "    # is_holiday feature ✔️\n",
        "    # lag features\n",
        "\n",
        "# classification part\n",
        "\n",
        "    # pipeline with different models ✔️\n",
        "    # training results with a lots of features, few features and no feature engineering.\n",
        "    # clipping congestion results\n",
        "    # divide all train data into train, valid and test ✔️\n",
        "    # Preds Distribution (test pred and test y)\n",
        "\n",
        "# extra\n",
        "    \n",
        "    # Cross validation with time series\n",
        "    # Permutation Importance ref: https://www.kaggle.com/code/dansbecker/permutation-importance/tutorial\n",
        "    # Mutual Information ref: https://www.kaggle.com/code/ryanholbrook/mutual-information/tutorial\n",
        "    # Cyclical Features by https://www.kaggle.com/code/inversion/tps-mar-22-cyclical-features/notebook \n"
      ],
      "execution_count": null,
      "outputs": []
    },
    {
      "cell_type": "code",
      "metadata": {
        "cell_id": "8cdfa588580d40f3b7acab6fae7799c5",
        "tags": [],
        "deepnote_to_be_reexecuted": true,
        "source_hash": "fa87f8f4",
        "deepnote_cell_type": "code",
        "deepnote_cell_height": 386.9375,
        "id": "nEvzpLVAiY0I"
      },
      "source": [
        "# anotações da aula de dúvidas\n",
        "\n",
        "# fazer baseline sem feature eng\n",
        "\n",
        "#[10:40, 06/04/2022] Monimon: treinar um modelo para estimar um atributo\n",
        "#[10:40, 06/04/2022] Monimon: knn k=3\n",
        "#[10:43, 06/04/2022] Monimon: ou k=5\n",
        "#[10:45, 06/04/2022] Monimon: analisar erros por dias, semanas\n",
        "#[10:45, 06/04/2022] Monimon: erro geral dos 30 dias\n",
        "#[10:46, 06/04/2022] Monimon: dias uteis ou finais de semana\n",
        "#[10:52, 06/04/2022] Monimon: falar sobre imputação. qual o k no knn, dsitribuição do dataset\n",
        "#[10:54, 06/04/2022] Monimon: configurações dos experimentos\n",
        "#[10:55, 06/04/2022] Monimon: falar de versões de python, das libs\n",
        "#[11:00, 06/04/2022] Monimon: separar os outliers em treino e teste\n",
        "#[11:00, 06/04/2022] Monimon: discutir os outliers\n",
        "#[11:00, 06/04/2022] Monimon: tal turno, nós observamos uma diferença muito grande\n",
        "#[11:02, 06/04/2022] Monimon: botar formula de MSE"
      ],
      "execution_count": null,
      "outputs": []
    },
    {
      "cell_type": "code",
      "metadata": {
        "cell_id": "78b7b7079e994206958b8786cec2f3de",
        "tags": [],
        "deepnote_to_be_reexecuted": true,
        "source_hash": "c3f970c",
        "execution_start": 1649250503735,
        "execution_millis": 588831880,
        "deepnote_cell_type": "code",
        "deepnote_cell_height": 802.09375,
        "deepnote_output_heights": [
          21.171875
        ],
        "id": "RiLu2lp1iY0I"
      },
      "source": [
        "'''\n",
        "\n",
        "#### utils ####\n",
        "\n",
        "# concat/split train and test datasets\n",
        "\n",
        "all_df = pd.concat([train_df, test_df])\n",
        "\n",
        "all_df = feature_eng(all_df)\n",
        "\n",
        "train_df = all_df[:len(train_df)]\n",
        "test_df = all_df[-len(test_df):]\n",
        "\n",
        "\n",
        "# Plot the distribution of the test predictions\n",
        "# compared to the other Monday afternoons\n",
        "\n",
        "import matplotlib.pyplot as plt\n",
        "\n",
        "add_trend(train, trend_train_dict, 'congestion')\n",
        "plt.figure(figsize=(16,3))\n",
        "plt.hist(train.congestion[((train.time.dt.weekday == 0) &\n",
        "                           (train.time.dt.hour >= 12)).values],\n",
        "         bins=np.linspace(-0.5, 100.5, 102),\n",
        "         density=True, label='Train',\n",
        "         color='b')\n",
        "plt.hist(sub['congestion'], np.linspace(-0.5, 100.5, 102),\n",
        "         density=True, rwidth=0.5, label='Test predictions',\n",
        "         color='r')\n",
        "plt.xlabel('Congestion')\n",
        "plt.ylabel('Frequency')\n",
        "plt.title('Congestion on Monday afternoons')\n",
        "plt.legend()\n",
        "plt.show()\n",
        "\n",
        "'''"
      ],
      "execution_count": null,
      "outputs": []
    }
  ],
  "nbformat": 4,
  "nbformat_minor": 0,
  "metadata": {
    "orig_nbformat": 2,
    "deepnote": {
      "is_reactive": false
    },
    "deepnote_notebook_id": "75a5a406-63d1-4f44-bed2-146c258761d3",
    "deepnote_execution_queue": [],
    "colab": {
      "name": "traffic-flow.ipynb",
      "provenance": [],
      "collapsed_sections": [
        "4xFuRaVUiY0C"
      ]
    },
    "language_info": {
      "name": "python"
    },
    "kernelspec": {
      "name": "python3",
      "display_name": "Python 3"
    }
  }
}