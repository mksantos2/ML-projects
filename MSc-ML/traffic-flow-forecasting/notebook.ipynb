{
 "cells": [
  {
   "cell_type": "markdown",
   "source": "# Traffic Flow Forecasting",
   "metadata": {
    "cell_id": "c1b90252f7de4b8aab342774f273cefa",
    "tags": [],
    "is_collapsed": false,
    "deepnote_cell_type": "text-cell-h1"
   }
  },
  {
   "cell_type": "markdown",
   "source": "## Objective ",
   "metadata": {
    "cell_id": "e2f19a904de6431880112ec666a765f7",
    "tags": [],
    "is_collapsed": false,
    "deepnote_cell_type": "text-cell-h2"
   }
  },
  {
   "cell_type": "markdown",
   "source": "Our main goal is to **forecast twelve-hours of traffic flow in a major U.S. metropolitan area** and model interactions across a network of roadways, using a time series labelled dataset with both location coordinates and a direction of travel.",
   "metadata": {
    "cell_id": "8f32684df9084f10a9dc3818ba133cd6",
    "tags": [],
    "deepnote_cell_type": "markdown",
    "deepnote_cell_height": 74.765625
   }
  },
  {
   "cell_type": "markdown",
   "source": "## Dataset Descriptions\n`train.csv` : the training set, comprising measurements of traffic congestion across 65 roadways from April through September of 1991. \n- row_id: a unique identifier for this instance \n- time: the 20-minute period in which each measurement was taken \n- x: the east-west midpoint coordinate of the roadway \n- y: the north-south midpoint coordinate of the roadway \n- direction: the direction of travel of the roadway. EB indicates \"eastbound\" travel, for example, while SW indicates a \"southwest\" direction of travel congestion \n- congestion: levels for the roadway during each hour; the target. The congestion measurements have been normalized to the range 0 to 100.\n`test.csv` : the test set; you will make hourly predictions for roadways identified by a coordinate location and a direction of travel on the day of 1991-09-30.\n\n`sample_submission.csv` : a sample submission file in the correct format.",
   "metadata": {
    "cell_id": "eee80189e2fc4558819bda56ce185bbe",
    "tags": [],
    "deepnote_cell_type": "markdown",
    "deepnote_cell_height": 344.53125
   }
  },
  {
   "cell_type": "code",
   "metadata": {
    "cell_id": "30460e301a0241f1b5e92b367478ef68",
    "tags": [],
    "deepnote_to_be_reexecuted": false,
    "source_hash": "a3b222ef",
    "execution_start": 1648034489265,
    "execution_millis": 7989,
    "is_output_hidden": true,
    "deepnote_cell_type": "code",
    "deepnote_cell_height": 111.71875
   },
   "source": "!pip install kaggle",
   "execution_count": 2,
   "outputs": [
    {
     "name": "stdout",
     "text": "Collecting kaggle\n  Downloading kaggle-1.5.12.tar.gz (58 kB)\n\u001b[K     |████████████████████████████████| 58 kB 8.9 MB/s \n\u001b[?25hRequirement already satisfied: six>=1.10 in /shared-libs/python3.7/py-core/lib/python3.7/site-packages (from kaggle) (1.16.0)\nRequirement already satisfied: certifi in /shared-libs/python3.7/py-core/lib/python3.7/site-packages (from kaggle) (2021.10.8)\nRequirement already satisfied: python-dateutil in /shared-libs/python3.7/py-core/lib/python3.7/site-packages (from kaggle) (2.8.2)\nRequirement already satisfied: requests in /shared-libs/python3.7/py-core/lib/python3.7/site-packages (from kaggle) (2.27.1)\nRequirement already satisfied: tqdm in /shared-libs/python3.7/py/lib/python3.7/site-packages (from kaggle) (4.63.0)\nRequirement already satisfied: python-slugify in /shared-libs/python3.7/py/lib/python3.7/site-packages (from kaggle) (6.1.1)\nRequirement already satisfied: urllib3 in /shared-libs/python3.7/py-core/lib/python3.7/site-packages (from kaggle) (1.26.8)\nRequirement already satisfied: idna<4,>=2.5; python_version >= \"3\" in /shared-libs/python3.7/py-core/lib/python3.7/site-packages (from requests->kaggle) (3.3)\nRequirement already satisfied: charset-normalizer~=2.0.0; python_version >= \"3\" in /shared-libs/python3.7/py-core/lib/python3.7/site-packages (from requests->kaggle) (2.0.12)\nRequirement already satisfied: text-unidecode>=1.3 in /shared-libs/python3.7/py/lib/python3.7/site-packages (from python-slugify->kaggle) (1.3)\nBuilding wheels for collected packages: kaggle\n  Building wheel for kaggle (setup.py) ... \u001b[?25ldone\n\u001b[?25h  Created wheel for kaggle: filename=kaggle-1.5.12-py3-none-any.whl size=73052 sha256=47ccd98884b3887edc9846e70ea3dbff1e34d9bde574fc36ee2cee8916e9eb5a\n  Stored in directory: /root/.cache/pip/wheels/62/d6/58/5853130f941e75b2177d281eb7e44b4a98ed46dd155f556dc5\nSuccessfully built kaggle\nInstalling collected packages: kaggle\nSuccessfully installed kaggle-1.5.12\n\u001b[33mWARNING: You are using pip version 20.1.1; however, version 22.0.4 is available.\nYou should consider upgrading via the '/root/venv/bin/python -m pip install --upgrade pip' command.\u001b[0m\n",
     "output_type": "stream"
    }
   ]
  },
  {
   "cell_type": "code",
   "metadata": {
    "cell_id": "24a93b7bd1ee41b485f932a555756569",
    "tags": [],
    "deepnote_to_be_reexecuted": false,
    "source_hash": "a25569d8",
    "execution_start": 1648034815357,
    "execution_millis": 290,
    "deepnote_cell_type": "code",
    "deepnote_cell_height": 80.953125
   },
   "source": "!cp /work/kaggle.json ~/.kaggle/kaggle.json",
   "execution_count": 8,
   "outputs": []
  },
  {
   "cell_type": "code",
   "metadata": {
    "tags": [],
    "cell_id": "90b8eaec-c57b-40be-8643-0a711093c3f9",
    "deepnote_to_be_reexecuted": false,
    "source_hash": "70e3fb96",
    "execution_start": 1648034822446,
    "execution_millis": 1686,
    "is_output_hidden": true,
    "deepnote_cell_type": "code",
    "deepnote_cell_height": 111.71875
   },
   "source": "!kaggle competitions download -c tabular-playground-series-mar-2022",
   "execution_count": 9,
   "outputs": [
    {
     "name": "stdout",
     "text": "Warning: Your Kaggle API key is readable by other users on this system! To fix this, you can run 'chmod 600 /root/.kaggle/kaggle.json'\nDownloading tabular-playground-series-mar-2022.zip to /work\n  0%|                                               | 0.00/4.71M [00:00<?, ?B/s]\n100%|███████████████████████████████████████| 4.71M/4.71M [00:00<00:00, 103MB/s]\n",
     "output_type": "stream"
    }
   ]
  },
  {
   "cell_type": "code",
   "metadata": {
    "cell_id": "4f7ed2f5e7c943deaa3a952f61c0e91b",
    "tags": [],
    "deepnote_to_be_reexecuted": false,
    "source_hash": "5594e2b8",
    "execution_start": 1648034861192,
    "execution_millis": 577,
    "is_output_hidden": true,
    "deepnote_cell_type": "code",
    "deepnote_cell_height": 111.71875
   },
   "source": "!unzip /work/tabular-playground-series-mar-2022.zip -d /work/dados/",
   "execution_count": 10,
   "outputs": [
    {
     "name": "stdout",
     "text": "Archive:  /work/tabular-playground-series-mar-2022.zip\n  inflating: /work/dados/sample_submission.csv  \n  inflating: /work/dados/test.csv    \n  inflating: /work/dados/train.csv   \n",
     "output_type": "stream"
    }
   ]
  },
  {
   "cell_type": "code",
   "metadata": {
    "cell_id": "8604617e7c394eb0a3e613a4387e0f3a",
    "tags": [],
    "deepnote_to_be_reexecuted": false,
    "source_hash": "f3511ac9",
    "execution_start": 1648036648181,
    "execution_millis": 7,
    "deepnote_cell_type": "code",
    "deepnote_cell_height": 116.953125
   },
   "source": "# imports\n\nimport pandas as pd",
   "execution_count": 12,
   "outputs": []
  },
  {
   "cell_type": "markdown",
   "source": "### Loading the data",
   "metadata": {
    "cell_id": "edbf26ba38734981814e55afdd5eddf4",
    "tags": [],
    "is_collapsed": false,
    "deepnote_cell_type": "text-cell-h3"
   }
  },
  {
   "cell_type": "code",
   "metadata": {
    "cell_id": "dcbce99584e4457d829ae7bec4d51306",
    "tags": [],
    "deepnote_to_be_reexecuted": false,
    "source_hash": "e266dbff",
    "execution_start": 1648036667091,
    "execution_millis": 672,
    "deepnote_cell_type": "code",
    "deepnote_cell_height": 98.953125
   },
   "source": "train_df = pd.read_csv('/work/dados/train.csv')\ntest_df = pd.read_csv('/work/dados/test.csv')",
   "execution_count": 14,
   "outputs": []
  },
  {
   "cell_type": "code",
   "metadata": {
    "cell_id": "5bafd4737e95463c954ac3daccb6d4be",
    "tags": [],
    "deepnote_to_be_reexecuted": false,
    "source_hash": "4db58a91",
    "execution_start": 1648036677180,
    "execution_millis": 25,
    "deepnote_cell_type": "code",
    "deepnote_cell_height": 597.875
   },
   "source": "train_df.head(10)",
   "execution_count": 15,
   "outputs": [
    {
     "output_type": "execute_result",
     "execution_count": 15,
     "data": {
      "application/vnd.deepnote.dataframe.v3+json": {
       "column_count": 6,
       "row_count": 10,
       "columns": [
        {
         "name": "row_id",
         "dtype": "int64",
         "stats": {
          "unique_count": 10,
          "nan_count": 0,
          "min": "0",
          "max": "9",
          "histogram": [
           {
            "bin_start": 0,
            "bin_end": 0.9,
            "count": 1
           },
           {
            "bin_start": 0.9,
            "bin_end": 1.8,
            "count": 1
           },
           {
            "bin_start": 1.8,
            "bin_end": 2.7,
            "count": 1
           },
           {
            "bin_start": 2.7,
            "bin_end": 3.6,
            "count": 1
           },
           {
            "bin_start": 3.6,
            "bin_end": 4.5,
            "count": 1
           },
           {
            "bin_start": 4.5,
            "bin_end": 5.4,
            "count": 1
           },
           {
            "bin_start": 5.4,
            "bin_end": 6.3,
            "count": 1
           },
           {
            "bin_start": 6.3,
            "bin_end": 7.2,
            "count": 1
           },
           {
            "bin_start": 7.2,
            "bin_end": 8.1,
            "count": 1
           },
           {
            "bin_start": 8.1,
            "bin_end": 9,
            "count": 1
           }
          ]
         }
        },
        {
         "name": "time",
         "dtype": "object",
         "stats": {
          "unique_count": 1,
          "nan_count": 0,
          "categories": [
           {
            "name": "1991-04-01 00:00:00",
            "count": 10
           }
          ]
         }
        },
        {
         "name": "x",
         "dtype": "int64",
         "stats": {
          "unique_count": 1,
          "nan_count": 0,
          "min": "0",
          "max": "0",
          "histogram": [
           {
            "bin_start": -0.5,
            "bin_end": -0.4,
            "count": 0
           },
           {
            "bin_start": -0.4,
            "bin_end": -0.3,
            "count": 0
           },
           {
            "bin_start": -0.3,
            "bin_end": -0.19999999999999996,
            "count": 0
           },
           {
            "bin_start": -0.19999999999999996,
            "bin_end": -0.09999999999999998,
            "count": 0
           },
           {
            "bin_start": -0.09999999999999998,
            "bin_end": 0,
            "count": 0
           },
           {
            "bin_start": 0,
            "bin_end": 0.10000000000000009,
            "count": 10
           },
           {
            "bin_start": 0.10000000000000009,
            "bin_end": 0.20000000000000007,
            "count": 0
           },
           {
            "bin_start": 0.20000000000000007,
            "bin_end": 0.30000000000000004,
            "count": 0
           },
           {
            "bin_start": 0.30000000000000004,
            "bin_end": 0.4,
            "count": 0
           },
           {
            "bin_start": 0.4,
            "bin_end": 0.5,
            "count": 0
           }
          ]
         }
        },
        {
         "name": "y",
         "dtype": "int64",
         "stats": {
          "unique_count": 3,
          "nan_count": 0,
          "min": "0",
          "max": "2",
          "histogram": [
           {
            "bin_start": 0,
            "bin_end": 0.2,
            "count": 3
           },
           {
            "bin_start": 0.2,
            "bin_end": 0.4,
            "count": 0
           },
           {
            "bin_start": 0.4,
            "bin_end": 0.6000000000000001,
            "count": 0
           },
           {
            "bin_start": 0.6000000000000001,
            "bin_end": 0.8,
            "count": 0
           },
           {
            "bin_start": 0.8,
            "bin_end": 1,
            "count": 0
           },
           {
            "bin_start": 1,
            "bin_end": 1.2000000000000002,
            "count": 4
           },
           {
            "bin_start": 1.2000000000000002,
            "bin_end": 1.4000000000000001,
            "count": 0
           },
           {
            "bin_start": 1.4000000000000001,
            "bin_end": 1.6,
            "count": 0
           },
           {
            "bin_start": 1.6,
            "bin_end": 1.8,
            "count": 0
           },
           {
            "bin_start": 1.8,
            "bin_end": 2,
            "count": 3
           }
          ]
         }
        },
        {
         "name": "direction",
         "dtype": "object",
         "stats": {
          "unique_count": 4,
          "nan_count": 0,
          "categories": [
           {
            "name": "EB",
            "count": 3
           },
           {
            "name": "NB",
            "count": 3
           },
           {
            "name": "2 others",
            "count": 4
           }
          ]
         }
        },
        {
         "name": "congestion",
         "dtype": "int64",
         "stats": {
          "unique_count": 9,
          "nan_count": 0,
          "min": "18",
          "max": "70",
          "histogram": [
           {
            "bin_start": 18,
            "bin_end": 23.2,
            "count": 1
           },
           {
            "bin_start": 23.2,
            "bin_end": 28.4,
            "count": 2
           },
           {
            "bin_start": 28.4,
            "bin_end": 33.6,
            "count": 1
           },
           {
            "bin_start": 33.6,
            "bin_end": 38.8,
            "count": 0
           },
           {
            "bin_start": 38.8,
            "bin_end": 44,
            "count": 0
           },
           {
            "bin_start": 44,
            "bin_end": 49.2,
            "count": 3
           },
           {
            "bin_start": 49.2,
            "bin_end": 54.4,
            "count": 0
           },
           {
            "bin_start": 54.4,
            "bin_end": 59.6,
            "count": 1
           },
           {
            "bin_start": 59.6,
            "bin_end": 64.80000000000001,
            "count": 1
           },
           {
            "bin_start": 64.80000000000001,
            "bin_end": 70,
            "count": 1
           }
          ]
         }
        },
        {
         "name": "_deepnote_index_column",
         "dtype": "int64"
        }
       ],
       "rows": [
        {
         "row_id": 0,
         "time": "1991-04-01 00:00:00",
         "x": 0,
         "y": 0,
         "direction": "EB",
         "congestion": 70,
         "_deepnote_index_column": 0
        },
        {
         "row_id": 1,
         "time": "1991-04-01 00:00:00",
         "x": 0,
         "y": 0,
         "direction": "NB",
         "congestion": 49,
         "_deepnote_index_column": 1
        },
        {
         "row_id": 2,
         "time": "1991-04-01 00:00:00",
         "x": 0,
         "y": 0,
         "direction": "SB",
         "congestion": 24,
         "_deepnote_index_column": 2
        },
        {
         "row_id": 3,
         "time": "1991-04-01 00:00:00",
         "x": 0,
         "y": 1,
         "direction": "EB",
         "congestion": 18,
         "_deepnote_index_column": 3
        },
        {
         "row_id": 4,
         "time": "1991-04-01 00:00:00",
         "x": 0,
         "y": 1,
         "direction": "NB",
         "congestion": 60,
         "_deepnote_index_column": 4
        },
        {
         "row_id": 5,
         "time": "1991-04-01 00:00:00",
         "x": 0,
         "y": 1,
         "direction": "SB",
         "congestion": 58,
         "_deepnote_index_column": 5
        },
        {
         "row_id": 6,
         "time": "1991-04-01 00:00:00",
         "x": 0,
         "y": 1,
         "direction": "WB",
         "congestion": 26,
         "_deepnote_index_column": 6
        },
        {
         "row_id": 7,
         "time": "1991-04-01 00:00:00",
         "x": 0,
         "y": 2,
         "direction": "EB",
         "congestion": 31,
         "_deepnote_index_column": 7
        },
        {
         "row_id": 8,
         "time": "1991-04-01 00:00:00",
         "x": 0,
         "y": 2,
         "direction": "NB",
         "congestion": 49,
         "_deepnote_index_column": 8
        },
        {
         "row_id": 9,
         "time": "1991-04-01 00:00:00",
         "x": 0,
         "y": 2,
         "direction": "SB",
         "congestion": 46,
         "_deepnote_index_column": 9
        }
       ]
      },
      "text/plain": "   row_id                 time  x  y direction  congestion\n0       0  1991-04-01 00:00:00  0  0        EB          70\n1       1  1991-04-01 00:00:00  0  0        NB          49\n2       2  1991-04-01 00:00:00  0  0        SB          24\n3       3  1991-04-01 00:00:00  0  1        EB          18\n4       4  1991-04-01 00:00:00  0  1        NB          60\n5       5  1991-04-01 00:00:00  0  1        SB          58\n6       6  1991-04-01 00:00:00  0  1        WB          26\n7       7  1991-04-01 00:00:00  0  2        EB          31\n8       8  1991-04-01 00:00:00  0  2        NB          49\n9       9  1991-04-01 00:00:00  0  2        SB          46",
      "text/html": "<div>\n<style scoped>\n    .dataframe tbody tr th:only-of-type {\n        vertical-align: middle;\n    }\n\n    .dataframe tbody tr th {\n        vertical-align: top;\n    }\n\n    .dataframe thead th {\n        text-align: right;\n    }\n</style>\n<table border=\"1\" class=\"dataframe\">\n  <thead>\n    <tr style=\"text-align: right;\">\n      <th></th>\n      <th>row_id</th>\n      <th>time</th>\n      <th>x</th>\n      <th>y</th>\n      <th>direction</th>\n      <th>congestion</th>\n    </tr>\n  </thead>\n  <tbody>\n    <tr>\n      <th>0</th>\n      <td>0</td>\n      <td>1991-04-01 00:00:00</td>\n      <td>0</td>\n      <td>0</td>\n      <td>EB</td>\n      <td>70</td>\n    </tr>\n    <tr>\n      <th>1</th>\n      <td>1</td>\n      <td>1991-04-01 00:00:00</td>\n      <td>0</td>\n      <td>0</td>\n      <td>NB</td>\n      <td>49</td>\n    </tr>\n    <tr>\n      <th>2</th>\n      <td>2</td>\n      <td>1991-04-01 00:00:00</td>\n      <td>0</td>\n      <td>0</td>\n      <td>SB</td>\n      <td>24</td>\n    </tr>\n    <tr>\n      <th>3</th>\n      <td>3</td>\n      <td>1991-04-01 00:00:00</td>\n      <td>0</td>\n      <td>1</td>\n      <td>EB</td>\n      <td>18</td>\n    </tr>\n    <tr>\n      <th>4</th>\n      <td>4</td>\n      <td>1991-04-01 00:00:00</td>\n      <td>0</td>\n      <td>1</td>\n      <td>NB</td>\n      <td>60</td>\n    </tr>\n    <tr>\n      <th>5</th>\n      <td>5</td>\n      <td>1991-04-01 00:00:00</td>\n      <td>0</td>\n      <td>1</td>\n      <td>SB</td>\n      <td>58</td>\n    </tr>\n    <tr>\n      <th>6</th>\n      <td>6</td>\n      <td>1991-04-01 00:00:00</td>\n      <td>0</td>\n      <td>1</td>\n      <td>WB</td>\n      <td>26</td>\n    </tr>\n    <tr>\n      <th>7</th>\n      <td>7</td>\n      <td>1991-04-01 00:00:00</td>\n      <td>0</td>\n      <td>2</td>\n      <td>EB</td>\n      <td>31</td>\n    </tr>\n    <tr>\n      <th>8</th>\n      <td>8</td>\n      <td>1991-04-01 00:00:00</td>\n      <td>0</td>\n      <td>2</td>\n      <td>NB</td>\n      <td>49</td>\n    </tr>\n    <tr>\n      <th>9</th>\n      <td>9</td>\n      <td>1991-04-01 00:00:00</td>\n      <td>0</td>\n      <td>2</td>\n      <td>SB</td>\n      <td>46</td>\n    </tr>\n  </tbody>\n</table>\n</div>"
     },
     "metadata": {}
    }
   ]
  },
  {
   "cell_type": "code",
   "metadata": {
    "cell_id": "199428a904b54fde88557a52aa4ad970",
    "tags": [],
    "deepnote_to_be_reexecuted": false,
    "source_hash": "2ebdd666",
    "execution_start": 1648036723397,
    "execution_millis": 3518,
    "deepnote_cell_type": "code",
    "deepnote_cell_height": 65.953125
   },
   "source": "train_df['congestion'].hist()",
   "execution_count": 16,
   "outputs": [
    {
     "output_type": "execute_result",
     "execution_count": 16,
     "data": {
      "text/plain": "<AxesSubplot:>"
     },
     "metadata": {}
    },
    {
     "data": {
      "text/plain": "<Figure size 432x288 with 1 Axes>",
      "image/png": "[encoded data removed]"
     },
     "metadata": {
      "needs_background": "light",
      "image/png": {
       "width": 394,
       "height": 248
      }
     },
     "output_type": "display_data"
    }
   ]
  },
  {
   "cell_type": "code",
   "metadata": {
    "cell_id": "e5afb506f1cb43abbc409f86a77c5848",
    "tags": [],
    "deepnote_cell_type": "code"
   },
   "source": "",
   "execution_count": null,
   "outputs": []
  },
  {
   "cell_type": "markdown",
   "source": "<a style='text-decoration:none;line-height:16px;display:flex;color:#5B5B62;padding:10px;justify-content:end;' href='https://deepnote.com?utm_source=created-in-deepnote-cell&projectId=3035cbe1-744b-40d6-9d24-00f96529caea' target=\"_blank\">\n<img alt='Created in deepnote.com' style='display:inline;max-height:16px;margin:0px;margin-right:7.5px;' src='data:image/svg+xml;base64,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' > </img>\nCreated in <span style='font-weight:600;margin-left:4px;'>Deepnote</span></a>",
   "metadata": {
    "tags": [],
    "created_in_deepnote_cell": true,
    "deepnote_cell_type": "markdown"
   }
  }
 ],
 "nbformat": 4,
 "nbformat_minor": 2,
 "metadata": {
  "orig_nbformat": 2,
  "deepnote": {
   "is_reactive": false
  },
  "deepnote_notebook_id": "75a5a406-63d1-4f44-bed2-146c258761d3",
  "deepnote_execution_queue": []
 }
}