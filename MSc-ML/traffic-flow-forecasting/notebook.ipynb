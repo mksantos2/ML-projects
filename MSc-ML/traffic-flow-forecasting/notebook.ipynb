{
 "cells": [
  {
   "cell_type": "markdown",
   "source": "# Traffic Flow Forecasting",
   "metadata": {
    "cell_id": "c1b90252f7de4b8aab342774f273cefa",
    "tags": [],
    "is_collapsed": false,
    "deepnote_cell_type": "text-cell-h1"
   }
  },
  {
   "cell_type": "markdown",
   "source": "## Objective ",
   "metadata": {
    "cell_id": "e2f19a904de6431880112ec666a765f7",
    "tags": [],
    "is_collapsed": false,
    "deepnote_cell_type": "text-cell-h2"
   }
  },
  {
   "cell_type": "markdown",
   "source": "Competition main goal is to **forecast twelve-hours of traffic flow in a major U.S. metropolitan area** and model interactions across a network of roadways, using a time series labelled dataset with both location coordinates and a direction of travel.\n\nDataset from: https://www.kaggle.com/competitions/tabular-playground-series-mar-2022/overview",
   "metadata": {
    "cell_id": "8f32684df9084f10a9dc3818ba133cd6",
    "tags": [],
    "deepnote_cell_type": "markdown",
    "deepnote_cell_height": 111.09375
   }
  },
  {
   "cell_type": "markdown",
   "source": "## Dataset Descriptions\n`train.csv` : the training set, comprising measurements of traffic congestion across 65 roadways from April through September of 1991. \n- row_id: a unique identifier for this instance \n- time: the 20-minute period in which each measurement was taken \n- x: the east-west midpoint coordinate of the roadway \n- y: the north-south midpoint coordinate of the roadway \n- direction: the direction of travel of the roadway. EB indicates \"eastbound\" travel, for example, while SW indicates a \"southwest\" direction of travel congestion \n- congestion: levels for the roadway during each hour; the target. The congestion measurements have been normalized to the range 0 to 100.\n`test.csv` : the test set; you will make hourly predictions for roadways identified by a coordinate location and a direction of travel on the day of 1991-09-30.\n\n`sample_submission.csv` : a sample submission file in the correct format.",
   "metadata": {
    "cell_id": "eee80189e2fc4558819bda56ce185bbe",
    "tags": [],
    "deepnote_cell_type": "markdown",
    "deepnote_cell_height": 389.125
   }
  },
  {
   "cell_type": "code",
   "metadata": {
    "cell_id": "30460e301a0241f1b5e92b367478ef68",
    "tags": [],
    "deepnote_to_be_reexecuted": false,
    "source_hash": "a3b222ef",
    "execution_start": 1648585436791,
    "execution_millis": 5874,
    "is_output_hidden": true,
    "deepnote_cell_type": "code",
    "deepnote_cell_height": 111.703125
   },
   "source": "!pip install kaggle",
   "execution_count": 1,
   "outputs": [
    {
     "name": "stdout",
     "text": "Collecting kaggle\n  Downloading kaggle-1.5.12.tar.gz (58 kB)\n\u001b[K     |████████████████████████████████| 58 kB 7.8 MB/s \n\u001b[?25hRequirement already satisfied: six>=1.10 in /shared-libs/python3.7/py-core/lib/python3.7/site-packages (from kaggle) (1.16.0)\nRequirement already satisfied: certifi in /shared-libs/python3.7/py/lib/python3.7/site-packages (from kaggle) (2021.10.8)\nRequirement already satisfied: python-dateutil in /shared-libs/python3.7/py-core/lib/python3.7/site-packages (from kaggle) (2.8.2)\nRequirement already satisfied: requests in /shared-libs/python3.7/py/lib/python3.7/site-packages (from kaggle) (2.27.1)\nRequirement already satisfied: tqdm in /shared-libs/python3.7/py/lib/python3.7/site-packages (from kaggle) (4.63.0)\nRequirement already satisfied: python-slugify in /shared-libs/python3.7/py/lib/python3.7/site-packages (from kaggle) (6.1.1)\nRequirement already satisfied: urllib3 in /shared-libs/python3.7/py/lib/python3.7/site-packages (from kaggle) (1.26.9)\nRequirement already satisfied: charset-normalizer~=2.0.0; python_version >= \"3\" in /shared-libs/python3.7/py-core/lib/python3.7/site-packages (from requests->kaggle) (2.0.12)\nRequirement already satisfied: idna<4,>=2.5; python_version >= \"3\" in /shared-libs/python3.7/py-core/lib/python3.7/site-packages (from requests->kaggle) (3.3)\nRequirement already satisfied: text-unidecode>=1.3 in /shared-libs/python3.7/py/lib/python3.7/site-packages (from python-slugify->kaggle) (1.3)\nBuilding wheels for collected packages: kaggle\n  Building wheel for kaggle (setup.py) ... \u001b[?25ldone\n\u001b[?25h  Created wheel for kaggle: filename=kaggle-1.5.12-py3-none-any.whl size=73052 sha256=9c77b110d75d08caf4daa738832e732382b62d76196ea73d5d9f08c7e7220f47\n  Stored in directory: /root/.cache/pip/wheels/62/d6/58/5853130f941e75b2177d281eb7e44b4a98ed46dd155f556dc5\nSuccessfully built kaggle\nInstalling collected packages: kaggle\nSuccessfully installed kaggle-1.5.12\n\u001b[33mWARNING: You are using pip version 20.1.1; however, version 22.0.4 is available.\nYou should consider upgrading via the '/root/venv/bin/python -m pip install --upgrade pip' command.\u001b[0m\n",
     "output_type": "stream"
    }
   ]
  },
  {
   "cell_type": "code",
   "metadata": {
    "cell_id": "24a93b7bd1ee41b485f932a555756569",
    "tags": [],
    "deepnote_to_be_reexecuted": false,
    "source_hash": "1a404db8",
    "execution_start": 1648585442702,
    "execution_millis": 759,
    "deepnote_cell_type": "code",
    "deepnote_cell_height": 111.90625
   },
   "source": "!cp /work/kaggle.json ~/.kaggle/kaggle.json",
   "execution_count": 2,
   "outputs": [
    {
     "name": "stdout",
     "text": "cp: cannot stat '/work/kaggle.json': No such file or directory\r\n",
     "output_type": "stream"
    }
   ]
  },
  {
   "cell_type": "code",
   "metadata": {
    "tags": [],
    "cell_id": "90b8eaec-c57b-40be-8643-0a711093c3f9",
    "deepnote_to_be_reexecuted": false,
    "source_hash": "70e3fb96",
    "execution_start": 1648585443465,
    "execution_millis": 938,
    "is_output_hidden": true,
    "deepnote_cell_type": "code",
    "deepnote_cell_height": 111.703125
   },
   "source": "!kaggle competitions download -c tabular-playground-series-mar-2022",
   "execution_count": 3,
   "outputs": [
    {
     "name": "stdout",
     "text": "Traceback (most recent call last):\r\n  File \"/root/venv/bin/kaggle\", line 5, in <module>\r\n    from kaggle.cli import main\r\n  File \"/root/venv/lib/python3.7/site-packages/kaggle/__init__.py\", line 23, in <module>\r\n    api.authenticate()\r\n  File \"/root/venv/lib/python3.7/site-packages/kaggle/api/kaggle_api_extended.py\", line 166, in authenticate\r\n    self.config_file, self.config_dir))\r\nOSError: Could not find kaggle.json. Make sure it's located in /root/.kaggle. Or use the environment method.\r\n",
     "output_type": "stream"
    }
   ]
  },
  {
   "cell_type": "code",
   "metadata": {
    "cell_id": "4f7ed2f5e7c943deaa3a952f61c0e91b",
    "tags": [],
    "deepnote_to_be_reexecuted": false,
    "source_hash": "5594e2b8",
    "execution_start": 1648585444414,
    "execution_millis": 655,
    "is_output_hidden": true,
    "deepnote_cell_type": "code",
    "deepnote_cell_height": 111.703125
   },
   "source": "!unzip /work/tabular-playground-series-mar-2022.zip -d /work/dados/",
   "execution_count": 4,
   "outputs": [
    {
     "name": "stdout",
     "text": "unzip:  cannot find or open /work/tabular-playground-series-mar-2022.zip, /work/tabular-playground-series-mar-2022.zip.zip or /work/tabular-playground-series-mar-2022.zip.ZIP.\r\n",
     "output_type": "stream"
    }
   ]
  },
  {
   "cell_type": "code",
   "metadata": {
    "cell_id": "8604617e7c394eb0a3e613a4387e0f3a",
    "tags": [],
    "deepnote_to_be_reexecuted": false,
    "source_hash": "87cefdf8",
    "execution_start": 1648585445068,
    "execution_millis": 2122,
    "deepnote_cell_type": "code",
    "deepnote_cell_height": 296.9375
   },
   "source": "# imports\n\nimport pandas as pd\nimport numpy as np\nfrom sklearn.preprocessing import LabelEncoder\nimport matplotlib.pyplot as plt\nfrom matplotlib.ticker import MaxNLocator\nimport datetime\n\nfrom sklearn.ensemble import RandomForestRegressor\nfrom sklearn.pipeline import make_pipeline\nfrom sklearn.metrics import mean_absolute_error, mean_squared_error\n",
   "execution_count": 5,
   "outputs": []
  },
  {
   "cell_type": "markdown",
   "source": "### Loading the data",
   "metadata": {
    "cell_id": "edbf26ba38734981814e55afdd5eddf4",
    "tags": [],
    "is_collapsed": false,
    "deepnote_cell_type": "text-cell-h3"
   }
  },
  {
   "cell_type": "code",
   "metadata": {
    "cell_id": "dcbce99584e4457d829ae7bec4d51306",
    "tags": [],
    "deepnote_to_be_reexecuted": false,
    "source_hash": "b66f7407",
    "execution_start": 1648585447196,
    "execution_millis": 1105,
    "deepnote_cell_type": "code",
    "deepnote_cell_height": 116.9375
   },
   "source": "train_df = pd.read_csv('/work/ML-projects/MSc-ML/traffic-flow-forecasting/dados/train.csv')\ntrain_original = pd.read_csv('/work/ML-projects/MSc-ML/traffic-flow-forecasting/dados/train.csv')\ntest_df = pd.read_csv('/work/ML-projects/MSc-ML/traffic-flow-forecasting/dados/test.csv')",
   "execution_count": 6,
   "outputs": []
  },
  {
   "cell_type": "code",
   "metadata": {
    "cell_id": "5bafd4737e95463c954ac3daccb6d4be",
    "tags": [],
    "deepnote_to_be_reexecuted": false,
    "source_hash": "4db58a91",
    "execution_start": 1648585448325,
    "execution_millis": 26,
    "deepnote_cell_type": "code",
    "deepnote_cell_height": 597.875
   },
   "source": "train_df.head(10)",
   "execution_count": 7,
   "outputs": [
    {
     "output_type": "execute_result",
     "execution_count": 7,
     "data": {
      "application/vnd.deepnote.dataframe.v3+json": {
       "column_count": 6,
       "row_count": 10,
       "columns": [
        {
         "name": "row_id",
         "dtype": "int64",
         "stats": {
          "unique_count": 10,
          "nan_count": 0,
          "min": "0",
          "max": "9",
          "histogram": [
           {
            "bin_start": 0,
            "bin_end": 0.9,
            "count": 1
           },
           {
            "bin_start": 0.9,
            "bin_end": 1.8,
            "count": 1
           },
           {
            "bin_start": 1.8,
            "bin_end": 2.7,
            "count": 1
           },
           {
            "bin_start": 2.7,
            "bin_end": 3.6,
            "count": 1
           },
           {
            "bin_start": 3.6,
            "bin_end": 4.5,
            "count": 1
           },
           {
            "bin_start": 4.5,
            "bin_end": 5.4,
            "count": 1
           },
           {
            "bin_start": 5.4,
            "bin_end": 6.3,
            "count": 1
           },
           {
            "bin_start": 6.3,
            "bin_end": 7.2,
            "count": 1
           },
           {
            "bin_start": 7.2,
            "bin_end": 8.1,
            "count": 1
           },
           {
            "bin_start": 8.1,
            "bin_end": 9,
            "count": 1
           }
          ]
         }
        },
        {
         "name": "time",
         "dtype": "object",
         "stats": {
          "unique_count": 1,
          "nan_count": 0,
          "categories": [
           {
            "name": "1991-04-01 00:00:00",
            "count": 10
           }
          ]
         }
        },
        {
         "name": "x",
         "dtype": "int64",
         "stats": {
          "unique_count": 1,
          "nan_count": 0,
          "min": "0",
          "max": "0",
          "histogram": [
           {
            "bin_start": -0.5,
            "bin_end": -0.4,
            "count": 0
           },
           {
            "bin_start": -0.4,
            "bin_end": -0.3,
            "count": 0
           },
           {
            "bin_start": -0.3,
            "bin_end": -0.19999999999999996,
            "count": 0
           },
           {
            "bin_start": -0.19999999999999996,
            "bin_end": -0.09999999999999998,
            "count": 0
           },
           {
            "bin_start": -0.09999999999999998,
            "bin_end": 0,
            "count": 0
           },
           {
            "bin_start": 0,
            "bin_end": 0.10000000000000009,
            "count": 10
           },
           {
            "bin_start": 0.10000000000000009,
            "bin_end": 0.20000000000000007,
            "count": 0
           },
           {
            "bin_start": 0.20000000000000007,
            "bin_end": 0.30000000000000004,
            "count": 0
           },
           {
            "bin_start": 0.30000000000000004,
            "bin_end": 0.4,
            "count": 0
           },
           {
            "bin_start": 0.4,
            "bin_end": 0.5,
            "count": 0
           }
          ]
         }
        },
        {
         "name": "y",
         "dtype": "int64",
         "stats": {
          "unique_count": 3,
          "nan_count": 0,
          "min": "0",
          "max": "2",
          "histogram": [
           {
            "bin_start": 0,
            "bin_end": 0.2,
            "count": 3
           },
           {
            "bin_start": 0.2,
            "bin_end": 0.4,
            "count": 0
           },
           {
            "bin_start": 0.4,
            "bin_end": 0.6000000000000001,
            "count": 0
           },
           {
            "bin_start": 0.6000000000000001,
            "bin_end": 0.8,
            "count": 0
           },
           {
            "bin_start": 0.8,
            "bin_end": 1,
            "count": 0
           },
           {
            "bin_start": 1,
            "bin_end": 1.2000000000000002,
            "count": 4
           },
           {
            "bin_start": 1.2000000000000002,
            "bin_end": 1.4000000000000001,
            "count": 0
           },
           {
            "bin_start": 1.4000000000000001,
            "bin_end": 1.6,
            "count": 0
           },
           {
            "bin_start": 1.6,
            "bin_end": 1.8,
            "count": 0
           },
           {
            "bin_start": 1.8,
            "bin_end": 2,
            "count": 3
           }
          ]
         }
        },
        {
         "name": "direction",
         "dtype": "object",
         "stats": {
          "unique_count": 4,
          "nan_count": 0,
          "categories": [
           {
            "name": "EB",
            "count": 3
           },
           {
            "name": "NB",
            "count": 3
           },
           {
            "name": "2 others",
            "count": 4
           }
          ]
         }
        },
        {
         "name": "congestion",
         "dtype": "int64",
         "stats": {
          "unique_count": 9,
          "nan_count": 0,
          "min": "18",
          "max": "70",
          "histogram": [
           {
            "bin_start": 18,
            "bin_end": 23.2,
            "count": 1
           },
           {
            "bin_start": 23.2,
            "bin_end": 28.4,
            "count": 2
           },
           {
            "bin_start": 28.4,
            "bin_end": 33.6,
            "count": 1
           },
           {
            "bin_start": 33.6,
            "bin_end": 38.8,
            "count": 0
           },
           {
            "bin_start": 38.8,
            "bin_end": 44,
            "count": 0
           },
           {
            "bin_start": 44,
            "bin_end": 49.2,
            "count": 3
           },
           {
            "bin_start": 49.2,
            "bin_end": 54.4,
            "count": 0
           },
           {
            "bin_start": 54.4,
            "bin_end": 59.6,
            "count": 1
           },
           {
            "bin_start": 59.6,
            "bin_end": 64.80000000000001,
            "count": 1
           },
           {
            "bin_start": 64.80000000000001,
            "bin_end": 70,
            "count": 1
           }
          ]
         }
        },
        {
         "name": "_deepnote_index_column",
         "dtype": "int64"
        }
       ],
       "rows": [
        {
         "row_id": 0,
         "time": "1991-04-01 00:00:00",
         "x": 0,
         "y": 0,
         "direction": "EB",
         "congestion": 70,
         "_deepnote_index_column": 0
        },
        {
         "row_id": 1,
         "time": "1991-04-01 00:00:00",
         "x": 0,
         "y": 0,
         "direction": "NB",
         "congestion": 49,
         "_deepnote_index_column": 1
        },
        {
         "row_id": 2,
         "time": "1991-04-01 00:00:00",
         "x": 0,
         "y": 0,
         "direction": "SB",
         "congestion": 24,
         "_deepnote_index_column": 2
        },
        {
         "row_id": 3,
         "time": "1991-04-01 00:00:00",
         "x": 0,
         "y": 1,
         "direction": "EB",
         "congestion": 18,
         "_deepnote_index_column": 3
        },
        {
         "row_id": 4,
         "time": "1991-04-01 00:00:00",
         "x": 0,
         "y": 1,
         "direction": "NB",
         "congestion": 60,
         "_deepnote_index_column": 4
        },
        {
         "row_id": 5,
         "time": "1991-04-01 00:00:00",
         "x": 0,
         "y": 1,
         "direction": "SB",
         "congestion": 58,
         "_deepnote_index_column": 5
        },
        {
         "row_id": 6,
         "time": "1991-04-01 00:00:00",
         "x": 0,
         "y": 1,
         "direction": "WB",
         "congestion": 26,
         "_deepnote_index_column": 6
        },
        {
         "row_id": 7,
         "time": "1991-04-01 00:00:00",
         "x": 0,
         "y": 2,
         "direction": "EB",
         "congestion": 31,
         "_deepnote_index_column": 7
        },
        {
         "row_id": 8,
         "time": "1991-04-01 00:00:00",
         "x": 0,
         "y": 2,
         "direction": "NB",
         "congestion": 49,
         "_deepnote_index_column": 8
        },
        {
         "row_id": 9,
         "time": "1991-04-01 00:00:00",
         "x": 0,
         "y": 2,
         "direction": "SB",
         "congestion": 46,
         "_deepnote_index_column": 9
        }
       ]
      },
      "text/plain": "   row_id                 time  x  y direction  congestion\n0       0  1991-04-01 00:00:00  0  0        EB          70\n1       1  1991-04-01 00:00:00  0  0        NB          49\n2       2  1991-04-01 00:00:00  0  0        SB          24\n3       3  1991-04-01 00:00:00  0  1        EB          18\n4       4  1991-04-01 00:00:00  0  1        NB          60\n5       5  1991-04-01 00:00:00  0  1        SB          58\n6       6  1991-04-01 00:00:00  0  1        WB          26\n7       7  1991-04-01 00:00:00  0  2        EB          31\n8       8  1991-04-01 00:00:00  0  2        NB          49\n9       9  1991-04-01 00:00:00  0  2        SB          46",
      "text/html": "<div>\n<style scoped>\n    .dataframe tbody tr th:only-of-type {\n        vertical-align: middle;\n    }\n\n    .dataframe tbody tr th {\n        vertical-align: top;\n    }\n\n    .dataframe thead th {\n        text-align: right;\n    }\n</style>\n<table border=\"1\" class=\"dataframe\">\n  <thead>\n    <tr style=\"text-align: right;\">\n      <th></th>\n      <th>row_id</th>\n      <th>time</th>\n      <th>x</th>\n      <th>y</th>\n      <th>direction</th>\n      <th>congestion</th>\n    </tr>\n  </thead>\n  <tbody>\n    <tr>\n      <th>0</th>\n      <td>0</td>\n      <td>1991-04-01 00:00:00</td>\n      <td>0</td>\n      <td>0</td>\n      <td>EB</td>\n      <td>70</td>\n    </tr>\n    <tr>\n      <th>1</th>\n      <td>1</td>\n      <td>1991-04-01 00:00:00</td>\n      <td>0</td>\n      <td>0</td>\n      <td>NB</td>\n      <td>49</td>\n    </tr>\n    <tr>\n      <th>2</th>\n      <td>2</td>\n      <td>1991-04-01 00:00:00</td>\n      <td>0</td>\n      <td>0</td>\n      <td>SB</td>\n      <td>24</td>\n    </tr>\n    <tr>\n      <th>3</th>\n      <td>3</td>\n      <td>1991-04-01 00:00:00</td>\n      <td>0</td>\n      <td>1</td>\n      <td>EB</td>\n      <td>18</td>\n    </tr>\n    <tr>\n      <th>4</th>\n      <td>4</td>\n      <td>1991-04-01 00:00:00</td>\n      <td>0</td>\n      <td>1</td>\n      <td>NB</td>\n      <td>60</td>\n    </tr>\n    <tr>\n      <th>5</th>\n      <td>5</td>\n      <td>1991-04-01 00:00:00</td>\n      <td>0</td>\n      <td>1</td>\n      <td>SB</td>\n      <td>58</td>\n    </tr>\n    <tr>\n      <th>6</th>\n      <td>6</td>\n      <td>1991-04-01 00:00:00</td>\n      <td>0</td>\n      <td>1</td>\n      <td>WB</td>\n      <td>26</td>\n    </tr>\n    <tr>\n      <th>7</th>\n      <td>7</td>\n      <td>1991-04-01 00:00:00</td>\n      <td>0</td>\n      <td>2</td>\n      <td>EB</td>\n      <td>31</td>\n    </tr>\n    <tr>\n      <th>8</th>\n      <td>8</td>\n      <td>1991-04-01 00:00:00</td>\n      <td>0</td>\n      <td>2</td>\n      <td>NB</td>\n      <td>49</td>\n    </tr>\n    <tr>\n      <th>9</th>\n      <td>9</td>\n      <td>1991-04-01 00:00:00</td>\n      <td>0</td>\n      <td>2</td>\n      <td>SB</td>\n      <td>46</td>\n    </tr>\n  </tbody>\n</table>\n</div>"
     },
     "metadata": {}
    }
   ]
  },
  {
   "cell_type": "markdown",
   "source": "### Data Understanding",
   "metadata": {
    "cell_id": "412579fdd0784865abddd20b3c64a43a",
    "tags": [],
    "is_collapsed": false,
    "deepnote_cell_type": "text-cell-h3"
   }
  },
  {
   "cell_type": "markdown",
   "source": "#### Roadway features \n\nAltogether, there are 12 unique roadways, 8 directions and 65 combinations of roadway with direction.",
   "metadata": {
    "cell_id": "92db9367006e42dd83bf8f9a790b639f",
    "tags": [],
    "deepnote_cell_type": "markdown",
    "deepnote_cell_height": 88.3125
   }
  },
  {
   "cell_type": "code",
   "metadata": {
    "cell_id": "ef19a166521f4af18adb64a5e13bb231",
    "tags": [],
    "deepnote_to_be_reexecuted": false,
    "source_hash": "b3ae4896",
    "execution_start": 1648585448355,
    "execution_millis": 45,
    "deepnote_cell_type": "code",
    "deepnote_cell_height": 464.15625
   },
   "source": "# unique roadways\n\nroadways = train_df[['x', 'y']].drop_duplicates()\n\nprint(str(roadways) + '\\n\\nNumber of unique roadways :', len(roadways))",
   "execution_count": 8,
   "outputs": [
    {
     "name": "stdout",
     "text": "    x  y\n0   0  0\n3   0  1\n7   0  2\n11  0  3\n17  1  0\n23  1  1\n27  1  2\n33  1  3\n39  2  0\n43  2  1\n51  2  2\n59  2  3\n\nNumber of unique roadways : 12\n",
     "output_type": "stream"
    }
   ]
  },
  {
   "cell_type": "code",
   "metadata": {
    "cell_id": "d0d27506a2594a34a7a2772b26c02368",
    "tags": [],
    "deepnote_to_be_reexecuted": false,
    "source_hash": "fd263cdb",
    "execution_start": 1648585448430,
    "execution_millis": 15,
    "deepnote_cell_type": "code",
    "deepnote_cell_height": 111.90625
   },
   "source": "print('Unique directions:', train_df.direction.unique())",
   "execution_count": 9,
   "outputs": [
    {
     "name": "stdout",
     "text": "Unique directions: ['EB' 'NB' 'SB' 'WB' 'NE' 'SW' 'NW' 'SE']\n",
     "output_type": "stream"
    }
   ]
  },
  {
   "cell_type": "code",
   "metadata": {
    "cell_id": "389c00a367684121bc735af71e78e768",
    "tags": [],
    "deepnote_to_be_reexecuted": false,
    "source_hash": "f0ddbdd7",
    "execution_start": 1648585448486,
    "execution_millis": 69,
    "deepnote_cell_type": "code",
    "deepnote_cell_height": 129.921875
   },
   "source": "road_dir = train_df[['x', 'y', 'direction']].drop_duplicates()\nprint('Number of unique roadways with directions: ', len(road_dir))",
   "execution_count": 10,
   "outputs": [
    {
     "name": "stdout",
     "text": "Number of unique roadways with directions:  65\n",
     "output_type": "stream"
    }
   ]
  },
  {
   "cell_type": "markdown",
   "source": "Visualizing the geographical map with roadways (points) and directions (lines).",
   "metadata": {
    "cell_id": "b37714e45ba84d34883f48a837657fae",
    "tags": [],
    "deepnote_cell_type": "markdown",
    "deepnote_cell_height": 52.328125
   }
  },
  {
   "cell_type": "code",
   "metadata": {
    "cell_id": "0508164af1c841869bbb6eaea4b4f9b0",
    "tags": [],
    "deepnote_to_be_reexecuted": false,
    "source_hash": "b79f29ef",
    "execution_start": 1648585448554,
    "execution_millis": 305,
    "deepnote_cell_type": "code",
    "deepnote_cell_height": 1064.9375,
    "deepnote_output_heights": [
     481.984375
    ]
   },
   "source": "# creating a direction dictionary\n\ndir_dict = {'EB': (1, 0), 'NB': (0, 1), 'SB': (0, -1), 'WB': (-1, 0), 'NE': (1, 1), 'SE': (-1, 1), 'NW': (1, -1), 'SW': (-1, -1)}\n\n# setting plot background\n\nplt.rcParams['axes.facecolor'] = '#161617' # blue\n\n# plotting image\n\nplt.figure(figsize=(8, 8))\nplt.scatter(roadways.x, roadways.y)\nplt.gca().set_aspect('equal')\n\n# ploting the unique roadways (points) and the unique roadways with directions (lines)\n\nfor _, x, y, d in road_dir.itertuples():\n    dx, dy = dir_dict[d]\n    dx, dy = dx/4, dy/4\n    plt.plot([x, x+dx], [y, y+dy], color='#fff200')\n\n# only integer labels\nplt.gca().xaxis.set_major_locator(MaxNLocator(integer=True)) \nplt.gca().yaxis.set_major_locator(MaxNLocator(integer=True)) \n\nplt.xlabel('x')\nplt.ylabel('y')\nplt.show()",
   "execution_count": 11,
   "outputs": [
    {
     "data": {
      "text/plain": "<Figure size 576x576 with 1 Axes>",
      "image/png": "[encoded data removed]"
     },
     "metadata": {
      "needs_background": "light",
      "image/png": {
       "width": 352,
       "height": 480
      }
     },
     "output_type": "display_data"
    }
   ]
  },
  {
   "cell_type": "markdown",
   "source": "Observations: \n- Knowing that congestion is measured for certain points and directions in space, we could assume the existence of a congestion correlation between two or more roadways, e.g. congestion at (1, 1, westbound) should be correlated with past congestion at (0, 1, ...) or vice-versa.\n- However, itsn't clear if we need the geography at all. A simple approach for the competition could be ignoring the geography and creating 65 independent time series. Or doing one-hot encoding the 65 x,y/direction combinations and using them as features.\n- Another unclear aspect is how to know if the y axis grows from top to bottom or bottom to top.\n",
   "metadata": {
    "cell_id": "787282e4f4f0460ba8afd38c2286dde4",
    "tags": [],
    "deepnote_cell_type": "markdown",
    "deepnote_cell_height": 198.234375
   }
  },
  {
   "cell_type": "markdown",
   "source": "#### Time feature\n\nIn the training dataset there are **13,059** time values. \nAlso, as we know, there are 65 combinations of roadways with directions, so 13,059 * 65 equals to **848,835 examples**  of training data.\n \n",
   "metadata": {
    "cell_id": "819569212b8149639ae6d01afb4da072",
    "tags": [],
    "deepnote_cell_type": "markdown",
    "deepnote_cell_height": 110.6875
   }
  },
  {
   "cell_type": "code",
   "metadata": {
    "cell_id": "5841df2725dd46a59ba47aa85155108a",
    "tags": [],
    "deepnote_to_be_reexecuted": false,
    "source_hash": "e28b1365",
    "execution_start": 1648585448937,
    "execution_millis": 76,
    "deepnote_cell_type": "code",
    "deepnote_cell_height": 183.921875
   },
   "source": "#converting to time type\ntrain_df[\"time\"] = pd.to_datetime(train_df[\"time\"])\n\nunique_times = train_df.time.unique()\nprint(\"Number of unique times in training dataset:\", len(unique_times))",
   "execution_count": 12,
   "outputs": [
    {
     "name": "stdout",
     "text": "Number of unique times in training dataset: 13059\n",
     "output_type": "stream"
    }
   ]
  },
  {
   "cell_type": "markdown",
   "source": "All of `train` timestamps are between 1991-04-01 00:00 and 1991-09-30 11:40. The `test` timestamps cover the half day from 1991-09-30 12:00 through 1991-09-30 23:40, which is a Monday.",
   "metadata": {
    "cell_id": "a4a5ed3406e8406cad35e15f3bf8594e",
    "tags": [],
    "deepnote_cell_type": "markdown",
    "deepnote_cell_height": 74.703125
   }
  },
  {
   "cell_type": "code",
   "metadata": {
    "cell_id": "41ff89c92ff441cca2774559396333a6",
    "tags": [],
    "deepnote_to_be_reexecuted": false,
    "source_hash": "4ea5af7d",
    "execution_start": 1648585449005,
    "execution_millis": 541,
    "deepnote_cell_type": "code",
    "deepnote_cell_height": 155.3125,
    "deepnote_output_heights": [
     40.375
    ]
   },
   "source": "# diffence about sequences of timestamps\nnp.diff(unique_times)",
   "execution_count": 13,
   "outputs": [
    {
     "output_type": "execute_result",
     "execution_count": 13,
     "data": {
      "text/plain": "array([1200000000000, 1200000000000, 1200000000000, ..., 1200000000000,\n       1200000000000, 1200000000000], dtype='timedelta64[ns]')"
     },
     "metadata": {}
    }
   ]
  },
  {
   "cell_type": "markdown",
   "source": "The difference between successive training timestamps is almost always 20 minutes. However there are **28 timestamps** that don't follow this same distribuition (listed below).",
   "metadata": {
    "cell_id": "23f10e9d4184472a9eafc9ad05a2bb47",
    "tags": [],
    "deepnote_cell_type": "markdown",
    "deepnote_cell_height": 74.703125
   }
  },
  {
   "cell_type": "code",
   "metadata": {
    "cell_id": "71c63363f2d34610be6fede7df4803a2",
    "tags": [],
    "deepnote_to_be_reexecuted": false,
    "source_hash": "9e6ff56",
    "execution_start": 1648585449052,
    "execution_millis": 526,
    "deepnote_cell_type": "code",
    "deepnote_cell_height": 422.828125,
    "deepnote_output_heights": [
     289.890625
    ]
   },
   "source": "# from all the unique times, getting all examples which the discrete difference are diferent from 20 min (1200000000000 ns) \n\nunique_times[1:][np.diff(unique_times) != np.diff(unique_times)[0]]",
   "execution_count": 14,
   "outputs": [
    {
     "output_type": "execute_result",
     "execution_count": 14,
     "data": {
      "text/plain": "array(['1991-04-20T19:20:00.000000000', '1991-04-24T06:20:00.000000000',\n       '1991-05-04T22:00:00.000000000', '1991-05-18T19:40:00.000000000',\n       '1991-05-31T03:20:00.000000000', '1991-06-15T20:40:00.000000000',\n       '1991-07-18T20:20:00.000000000', '1991-07-20T19:40:00.000000000',\n       '1991-08-08T14:20:00.000000000', '1991-08-16T19:00:00.000000000',\n       '1991-08-17T19:40:00.000000000', '1991-08-23T15:20:00.000000000',\n       '1991-08-23T16:00:00.000000000', '1991-08-27T12:00:00.000000000',\n       '1991-08-29T03:40:00.000000000', '1991-08-29T09:20:00.000000000',\n       '1991-08-30T14:20:00.000000000', '1991-08-31T11:00:00.000000000',\n       '1991-09-12T03:20:00.000000000', '1991-09-12T08:20:00.000000000',\n       '1991-09-12T11:00:00.000000000', '1991-09-17T14:00:00.000000000',\n       '1991-09-18T14:40:00.000000000', '1991-09-19T03:20:00.000000000',\n       '1991-09-19T08:40:00.000000000', '1991-09-21T22:00:00.000000000',\n       '1991-09-24T09:40:00.000000000', '1991-09-24T10:40:00.000000000'],\n      dtype='datetime64[ns]')"
     },
     "metadata": {}
    }
   ]
  },
  {
   "cell_type": "code",
   "metadata": {
    "cell_id": "9e1a8de960fc437480df8e36fceff352",
    "tags": [],
    "deepnote_to_be_reexecuted": false,
    "source_hash": "9cd4d711",
    "execution_start": 1648585449053,
    "execution_millis": 526,
    "deepnote_table_state": {
     "pageSize": 10,
     "pageIndex": 3,
     "filters": [],
     "sortBy": []
    },
    "deepnote_table_loading": false,
    "deepnote_cell_type": "code",
    "deepnote_cell_height": 633.875
   },
   "source": "# example case: from 1991-09-12 06:20:00 to 1991-09-12 08:20:00\n\ntrain_df[765795:]",
   "execution_count": 15,
   "outputs": [
    {
     "output_type": "execute_result",
     "execution_count": 15,
     "data": {
      "application/vnd.deepnote.dataframe.v3+json": {
       "column_count": 6,
       "row_count": 83040,
       "columns": [
        {
         "name": "row_id",
         "dtype": "int64",
         "stats": {
          "unique_count": 83040,
          "nan_count": 0,
          "min": "765795",
          "max": "848834",
          "histogram": [
           {
            "bin_start": 765795,
            "bin_end": 774098.9,
            "count": 8304
           },
           {
            "bin_start": 774098.9,
            "bin_end": 782402.8,
            "count": 8304
           },
           {
            "bin_start": 782402.8,
            "bin_end": 790706.7,
            "count": 8304
           },
           {
            "bin_start": 790706.7,
            "bin_end": 799010.6,
            "count": 8304
           },
           {
            "bin_start": 799010.6,
            "bin_end": 807314.5,
            "count": 8304
           },
           {
            "bin_start": 807314.5,
            "bin_end": 815618.4,
            "count": 8304
           },
           {
            "bin_start": 815618.4,
            "bin_end": 823922.3,
            "count": 8304
           },
           {
            "bin_start": 823922.3,
            "bin_end": 832226.2,
            "count": 8304
           },
           {
            "bin_start": 832226.2,
            "bin_end": 840530.1,
            "count": 8304
           },
           {
            "bin_start": 840530.1,
            "bin_end": 848834,
            "count": 8304
           }
          ]
         }
        },
        {
         "name": "time",
         "dtype": "datetime64[ns]"
        },
        {
         "name": "x",
         "dtype": "int64"
        },
        {
         "name": "y",
         "dtype": "int64"
        },
        {
         "name": "direction",
         "dtype": "object"
        },
        {
         "name": "congestion",
         "dtype": "int64"
        },
        {
         "name": "_deepnote_index_column",
         "dtype": "int64"
        }
       ],
       "rows": [
        {
         "row_id": 765825,
         "time": "1991-09-12T06:20:00.000000",
         "x": 2,
         "y": 3,
         "direction": "NB",
         "congestion": 66,
         "_deepnote_index_column": 765825
        },
        {
         "row_id": 765826,
         "time": "1991-09-12T06:20:00.000000",
         "x": 2,
         "y": 3,
         "direction": "NE",
         "congestion": 18,
         "_deepnote_index_column": 765826
        },
        {
         "row_id": 765827,
         "time": "1991-09-12T06:20:00.000000",
         "x": 2,
         "y": 3,
         "direction": "SB",
         "congestion": 65,
         "_deepnote_index_column": 765827
        },
        {
         "row_id": 765828,
         "time": "1991-09-12T06:20:00.000000",
         "x": 2,
         "y": 3,
         "direction": "SW",
         "congestion": 14,
         "_deepnote_index_column": 765828
        },
        {
         "row_id": 765829,
         "time": "1991-09-12T06:20:00.000000",
         "x": 2,
         "y": 3,
         "direction": "WB",
         "congestion": 42,
         "_deepnote_index_column": 765829
        },
        {
         "row_id": 765830,
         "time": "1991-09-12T08:20:00.000000",
         "x": 0,
         "y": 0,
         "direction": "EB",
         "congestion": 50,
         "_deepnote_index_column": 765830
        },
        {
         "row_id": 765831,
         "time": "1991-09-12T08:20:00.000000",
         "x": 0,
         "y": 0,
         "direction": "NB",
         "congestion": 39,
         "_deepnote_index_column": 765831
        },
        {
         "row_id": 765832,
         "time": "1991-09-12T08:20:00.000000",
         "x": 0,
         "y": 0,
         "direction": "SB",
         "congestion": 46,
         "_deepnote_index_column": 765832
        },
        {
         "row_id": 765833,
         "time": "1991-09-12T08:20:00.000000",
         "x": 0,
         "y": 1,
         "direction": "EB",
         "congestion": 29,
         "_deepnote_index_column": 765833
        },
        {
         "row_id": 765834,
         "time": "1991-09-12T08:20:00.000000",
         "x": 0,
         "y": 1,
         "direction": "NB",
         "congestion": 65,
         "_deepnote_index_column": 765834
        }
       ]
      },
      "text/plain": "        row_id                time  x  y direction  congestion\n765795  765795 1991-09-12 06:20:00  1  2        SB          68\n765796  765796 1991-09-12 06:20:00  1  2        SW          75\n765797  765797 1991-09-12 06:20:00  1  2        WB          56\n765798  765798 1991-09-12 06:20:00  1  3        EB          34\n765799  765799 1991-09-12 06:20:00  1  3        NB          77\n...        ...                 ... .. ..       ...         ...\n848830  848830 1991-09-30 11:40:00  2  3        NB          54\n848831  848831 1991-09-30 11:40:00  2  3        NE          28\n848832  848832 1991-09-30 11:40:00  2  3        SB          68\n848833  848833 1991-09-30 11:40:00  2  3        SW          17\n848834  848834 1991-09-30 11:40:00  2  3        WB          24\n\n[83040 rows x 6 columns]",
      "text/html": "<div>\n<style scoped>\n    .dataframe tbody tr th:only-of-type {\n        vertical-align: middle;\n    }\n\n    .dataframe tbody tr th {\n        vertical-align: top;\n    }\n\n    .dataframe thead th {\n        text-align: right;\n    }\n</style>\n<table border=\"1\" class=\"dataframe\">\n  <thead>\n    <tr style=\"text-align: right;\">\n      <th></th>\n      <th>row_id</th>\n      <th>time</th>\n      <th>x</th>\n      <th>y</th>\n      <th>direction</th>\n      <th>congestion</th>\n    </tr>\n  </thead>\n  <tbody>\n    <tr>\n      <th>765795</th>\n      <td>765795</td>\n      <td>1991-09-12 06:20:00</td>\n      <td>1</td>\n      <td>2</td>\n      <td>SB</td>\n      <td>68</td>\n    </tr>\n    <tr>\n      <th>765796</th>\n      <td>765796</td>\n      <td>1991-09-12 06:20:00</td>\n      <td>1</td>\n      <td>2</td>\n      <td>SW</td>\n      <td>75</td>\n    </tr>\n    <tr>\n      <th>765797</th>\n      <td>765797</td>\n      <td>1991-09-12 06:20:00</td>\n      <td>1</td>\n      <td>2</td>\n      <td>WB</td>\n      <td>56</td>\n    </tr>\n    <tr>\n      <th>765798</th>\n      <td>765798</td>\n      <td>1991-09-12 06:20:00</td>\n      <td>1</td>\n      <td>3</td>\n      <td>EB</td>\n      <td>34</td>\n    </tr>\n    <tr>\n      <th>765799</th>\n      <td>765799</td>\n      <td>1991-09-12 06:20:00</td>\n      <td>1</td>\n      <td>3</td>\n      <td>NB</td>\n      <td>77</td>\n    </tr>\n    <tr>\n      <th>...</th>\n      <td>...</td>\n      <td>...</td>\n      <td>...</td>\n      <td>...</td>\n      <td>...</td>\n      <td>...</td>\n    </tr>\n    <tr>\n      <th>848830</th>\n      <td>848830</td>\n      <td>1991-09-30 11:40:00</td>\n      <td>2</td>\n      <td>3</td>\n      <td>NB</td>\n      <td>54</td>\n    </tr>\n    <tr>\n      <th>848831</th>\n      <td>848831</td>\n      <td>1991-09-30 11:40:00</td>\n      <td>2</td>\n      <td>3</td>\n      <td>NE</td>\n      <td>28</td>\n    </tr>\n    <tr>\n      <th>848832</th>\n      <td>848832</td>\n      <td>1991-09-30 11:40:00</td>\n      <td>2</td>\n      <td>3</td>\n      <td>SB</td>\n      <td>68</td>\n    </tr>\n    <tr>\n      <th>848833</th>\n      <td>848833</td>\n      <td>1991-09-30 11:40:00</td>\n      <td>2</td>\n      <td>3</td>\n      <td>SW</td>\n      <td>17</td>\n    </tr>\n    <tr>\n      <th>848834</th>\n      <td>848834</td>\n      <td>1991-09-30 11:40:00</td>\n      <td>2</td>\n      <td>3</td>\n      <td>WB</td>\n      <td>24</td>\n    </tr>\n  </tbody>\n</table>\n<p>83040 rows × 6 columns</p>\n</div>"
     },
     "metadata": {}
    }
   ]
  },
  {
   "cell_type": "markdown",
   "source": "Observations so far:\n\n- There are missing values, and our model will have to deal with a noncontiguous time series. This part is goin to be more discussed in the feature engineering stage.\n- As the test set is restricted to one Monday afternoon, so perhaps it won't be necessary train in all days of the week.",
   "metadata": {
    "cell_id": "0c9708c5f52e45e2a82217c35e53fc13",
    "tags": [],
    "deepnote_cell_type": "markdown",
    "deepnote_cell_height": 150.46875
   }
  },
  {
   "cell_type": "markdown",
   "source": "#### Congestion Label\n\nCongestion is the dataset label and has **integers** numbers variating between 1 to 100. Because most regression algorithms output float values, we could probably clip and round the regression output. \n\nref: https://www.kaggle.com/c/tabular-playground-series-jan-2022/discussion/301249",
   "metadata": {
    "cell_id": "5a594c300e424cc4859c503273bccd6b",
    "tags": [],
    "deepnote_cell_type": "markdown",
    "deepnote_cell_height": 147.078125
   }
  },
  {
   "cell_type": "code",
   "metadata": {
    "cell_id": "c35e312f31454f5ba5a658d4b7eaf566",
    "tags": [],
    "deepnote_to_be_reexecuted": false,
    "source_hash": "2ebdd666",
    "execution_start": 1648585449066,
    "execution_millis": 517,
    "deepnote_cell_type": "code",
    "deepnote_cell_height": 399.03125,
    "deepnote_output_heights": [
     21.171875,
     249.96875
    ]
   },
   "source": "train_df['congestion'].hist()",
   "execution_count": 16,
   "outputs": [
    {
     "output_type": "execute_result",
     "execution_count": 16,
     "data": {
      "text/plain": "<AxesSubplot:>"
     },
     "metadata": {}
    },
    {
     "data": {
      "text/plain": "<Figure size 432x288 with 1 Axes>",
      "image/png": "[encoded data removed]"
     },
     "metadata": {
      "needs_background": "light",
      "image/png": {
       "width": 394,
       "height": 248
      }
     },
     "output_type": "display_data"
    }
   ]
  },
  {
   "cell_type": "code",
   "metadata": {
    "cell_id": "0a9a0493557841cebc710040429ffaac",
    "tags": [],
    "deepnote_to_be_reexecuted": false,
    "source_hash": "f1569faa",
    "execution_start": 1648585449373,
    "execution_millis": 333,
    "deepnote_cell_type": "code",
    "deepnote_cell_height": 595.9375,
    "deepnote_output_heights": [
     372.984375
    ]
   },
   "source": "# overall congestion histogram\n\nplt.figure(figsize=(10, 6))\nplt.bar(range(101), train_df.congestion.value_counts().sort_index(), width=1,\n        color='gold')\nplt.ylabel('Count')\nplt.xlabel('Congestion')\nplt.show()",
   "execution_count": 17,
   "outputs": [
    {
     "data": {
      "text/plain": "<Figure size 720x432 with 1 Axes>",
      "image/png": "[encoded data removed]"
     },
     "metadata": {
      "needs_background": "light",
      "image/png": {
       "width": 624,
       "height": 371
      }
     },
     "output_type": "display_data"
    }
   ]
  },
  {
   "cell_type": "markdown",
   "source": "Because of there are prominent values like 15, 20, 21, 29, 34, it could be a problem for the regressor learn this distribution.\n",
   "metadata": {
    "cell_id": "a8e721dca8a14e58ad6448a48151af9d",
    "tags": [],
    "deepnote_cell_type": "markdown",
    "deepnote_cell_height": 52.328125
   }
  },
  {
   "cell_type": "code",
   "metadata": {
    "cell_id": "4310ca8337c14f249912f07fbb04f26f",
    "tags": [],
    "deepnote_to_be_reexecuted": false,
    "source_hash": "a372d684",
    "execution_start": 1648585449750,
    "execution_millis": 3665,
    "deepnote_cell_type": "code",
    "deepnote_cell_height": 1067.921875,
    "deepnote_output_heights": [
     611
    ]
   },
   "source": "\nplt.subplots(4, 3, sharex=True, sharey=True, figsize=(18, 16))\n#fig, axes = plt.subplots(nrows=4, ncols=3)\nfor y in range(4):\n    for x in range(3):\n        #plt.subplot(4, 3, x+1)\n        plt.subplot2grid((4,3), (y,x))\n        vc = train_df[(train_df.x == x) & (train_df.y == y)].congestion.value_counts().sort_index()\n        plt.bar(vc.index, vc, width=1,\n                color='gold')\n        plt.ylabel('Amount of examples')\n        plt.xlabel('Congestion')\n        plt.title(f\"(x = {x}) and (y = {y})\")\n\nplt.subplots_adjust(left=0.1,\n                    bottom=0.1, \n                    right=0.9, \n                    top=0.9, \n                    wspace=0.4, \n                    hspace=0.4)\nplt.show()",
   "execution_count": 18,
   "outputs": [
    {
     "data": {
      "text/plain": "<Figure size 1296x1152 with 12 Axes>",
      "image/png": "[encoded data removed]"
     },
     "metadata": {
      "needs_background": "light",
      "image/png": {
       "width": 1097,
       "height": 982
      }
     },
     "output_type": "display_data"
    }
   ]
  },
  {
   "cell_type": "markdown",
   "source": "Notice that congestions like 15, 29 and 34 are a particularity of the roadway with x = 2 and y = 1. Roadway x = 2 and y = 2 seems also a bit imbalanced.\n\nAt this point, we could conclude that **a simple linear regressor won't be able to model the data**. We could use a model like decision trees that can make the non-linear separation.",
   "metadata": {
    "cell_id": "e912acc105e741659089f8ed14f7153a",
    "tags": [],
    "deepnote_cell_type": "markdown",
    "deepnote_cell_height": 133.46875
   }
  },
  {
   "cell_type": "markdown",
   "source": "#### Congestion and Time\n\nSpace to search and analyze patterns of congestion through days of the week. ",
   "metadata": {
    "cell_id": "a811322bc3a4434c8f3a19cc74989bec",
    "tags": [],
    "deepnote_cell_type": "markdown",
    "deepnote_cell_height": 88.3125
   }
  },
  {
   "cell_type": "code",
   "metadata": {
    "cell_id": "df32d21db1db434a83cc35e4ae3e84dc",
    "tags": [],
    "deepnote_to_be_reexecuted": false,
    "source_hash": "da05706b",
    "execution_start": 1648585453417,
    "execution_millis": 345,
    "deepnote_cell_type": "code",
    "deepnote_cell_height": 616.921875,
    "deepnote_output_heights": [
     394
    ]
   },
   "source": "cong_time = train_df.groupby(train_df.time.dt.dayofweek).congestion.mean()\nplt.figure(figsize=(14, 6))\nplt.title('Weekly mean congestion', fontsize=14)\nplt.xlabel('Days of the week', fontsize=14)\nplt.ylabel('Congestion', fontsize=14)\nplt.bar(cong_time.index, cong_time, color='gold')\nplt.xticks(ticks=cong_time.index, labels=['Monday', 'Tuesday', 'Wednesday', 'Thursday', 'Friday', 'Saturday', 'Sunday'])\nplt.show()",
   "execution_count": 19,
   "outputs": [
    {
     "data": {
      "text/plain": "<Figure size 1008x432 with 1 Axes>",
      "image/png": "[encoded data removed]"
     },
     "metadata": {
      "needs_background": "light",
      "image/png": {
       "width": 833,
       "height": 392
      }
     },
     "output_type": "display_data"
    }
   ]
  },
  {
   "cell_type": "code",
   "metadata": {
    "cell_id": "4ccc320a0e8246f58f60c17ac2c068c9",
    "tags": [],
    "deepnote_to_be_reexecuted": false,
    "source_hash": "5cfb6417",
    "execution_start": 1648585453767,
    "execution_millis": 946,
    "deepnote_cell_type": "code",
    "deepnote_cell_height": 616.90625,
    "deepnote_output_heights": [
     393.984375
    ]
   },
   "source": "cong_day = train_df.groupby(train_df.time.dt.hour + train_df.time.dt.minute/60).congestion.mean()\nplt.figure(figsize=(14, 6))\nplt.title('Mean Congestion per Hour', fontsize=14)\nplt.bar(cong_day.index, cong_day, color='gold', width=0.34)\nplt.xticks(range(24))\nplt.xlabel('Hour of the day', fontsize=14)\nplt.ylabel('Congestion', fontsize=14)\nplt.show()",
   "execution_count": 20,
   "outputs": [
    {
     "data": {
      "text/plain": "<Figure size 1008x432 with 1 Axes>",
      "image/png": "[encoded data removed]"
     },
     "metadata": {
      "needs_background": "light",
      "image/png": {
       "width": 833,
       "height": 392
      }
     },
     "output_type": "display_data"
    }
   ]
  },
  {
   "cell_type": "markdown",
   "source": "The graphs show that there is a weekly pattern with low congestion on the weekend and also, a daily pattern with a morning peak and a higher peak in the late afternoon.",
   "metadata": {
    "cell_id": "3650034990f8419daad63e34d58a0372",
    "tags": [],
    "deepnote_cell_type": "markdown",
    "deepnote_cell_height": 74.703125
   }
  },
  {
   "cell_type": "markdown",
   "source": "#### Morning versus Afternoon",
   "metadata": {
    "cell_id": "c5710d41909f4ee1b62fbed2e04acdf9",
    "tags": [],
    "deepnote_cell_type": "markdown",
    "deepnote_cell_height": 53.9375
   }
  },
  {
   "cell_type": "code",
   "metadata": {
    "cell_id": "10f8904cf11844769fb5590ad0087d06",
    "tags": [],
    "deepnote_to_be_reexecuted": false,
    "source_hash": "36dd99f8",
    "execution_start": 1648585454336,
    "execution_millis": 1487,
    "deepnote_cell_type": "code",
    "deepnote_cell_height": 707.9375,
    "deepnote_output_heights": [
     323
    ]
   },
   "source": "plt.figure(figsize=(15,5))\n\nplt.subplot(1,2,1)\ntrain_df[train_df.time.dt.hour<12].congestion.hist(bins=100, color='orange', label='Morning')\ntrain_df[train_df.time.dt.hour>=12].congestion.hist(bins=100, color='gold', label='Afternoon')\nplt.xlabel('Congestion', fontsize=14)\nplt.ylabel('Count', fontsize=14)\nplt.legend(labelcolor='linecolor')\n\nplt.subplot(1,2,2)\ntrain_df[train_df.time.dt.hour>=12].congestion.hist(bins=100, color='gold', label='Afternoon')\ntrain_df[train_df.time.dt.hour<12].congestion.hist(bins=100, color='orange', label='Morning')\nplt.xlabel('Congestion', fontsize=14)\nplt.ylabel('Count', fontsize=14)\nplt.legend(labelcolor='linecolor')\n\nplt.show()",
   "execution_count": 21,
   "outputs": [
    {
     "data": {
      "text/plain": "<Figure size 1080x360 with 2 Axes>",
      "image/png": "[encoded data removed]"
     },
     "metadata": {
      "needs_background": "light",
      "image/png": {
       "width": 907,
       "height": 321
      }
     },
     "output_type": "display_data"
    }
   ]
  },
  {
   "cell_type": "markdown",
   "source": "We also should analyze congestion at the holidays of this period, like Fourth of July and so on. ",
   "metadata": {
    "cell_id": "b7efb9c5288a4f0b8ed9cb31236517d7",
    "tags": [],
    "deepnote_cell_type": "markdown",
    "deepnote_cell_height": 52.328125
   }
  },
  {
   "cell_type": "code",
   "metadata": {
    "cell_id": "272826d6c15d445f92703899b1050548",
    "tags": [],
    "deepnote_to_be_reexecuted": false,
    "source_hash": "19138ee3",
    "execution_start": 1648585456082,
    "execution_millis": 1185,
    "deepnote_cell_type": "code",
    "deepnote_cell_height": 763.921875,
    "deepnote_output_heights": [
     361
    ]
   },
   "source": "temp = train_df.groupby(train_df.time.dt.date).congestion.mean()\n\nplt.figure(figsize=(18, 6))\nplt.title('Daily mean congestion', fontsize=13)\nplt.xlabel('Day', fontsize=13)\nplt.ylabel('Congestion', fontsize=13)\nplt.bar(temp.index, temp, color='#ffd700')\nplt.ylim(40, 52)\n\nfor holiday_name, month, day in [('Memorial Day', 5, 27), ('Fourth of July', 7, 4), ('Labor Day', 9, 2)]:\n    date = datetime.date(1991, month, day)\n    plt.annotate(holiday_name,\n                 (np.datetime64(date), temp.loc[date]),\n                 xytext=(np.datetime64(date), temp.loc[date]-2),\n                 arrowprops={'arrowstyle': '-'},\n                 weight='bold',\n                 color='k',  fontsize=16)\nplt.show()",
   "execution_count": 22,
   "outputs": [
    {
     "data": {
      "text/plain": "<Figure size 1296x432 with 1 Axes>",
      "image/png": "[encoded data removed]"
     },
     "metadata": {
      "needs_background": "light",
      "image/png": {
       "width": 1055,
       "height": 390
      }
     },
     "output_type": "display_data"
    }
   ]
  },
  {
   "cell_type": "markdown",
   "source": "Only Memorial Day it's on the weekend. The 4th of July (which was a Thursday) has meager traffic, and the same occurs with Labor day that happens on a Monday.\n\nHolidays reference: https://www.timeanddate.com/calendar/?year=1991&country=1",
   "metadata": {
    "cell_id": "805abed9dbab43f5aa22e96740bc978a",
    "tags": [],
    "deepnote_cell_type": "markdown",
    "deepnote_cell_height": 111.09375
   }
  },
  {
   "cell_type": "markdown",
   "source": "Observations:\n\n- Thus, these outliers can be a considerable problem if we want our model to learn this data distribution. A simple approach could be dropping all the holidays before training.\n- Overall, there seem to be weeks with high traffic and weeks with low traffic, and there are yet no reasons why this happens.\n- A good validation strategy will be important. Because we know that the test dataset is to predict the monday afternoon,perhaps we can use a few Monday afternoons as validation set.",
   "metadata": {
    "cell_id": "73af3bba038a4ee1a27685953731d212",
    "tags": [],
    "deepnote_cell_type": "markdown",
    "deepnote_cell_height": 198.234375
   }
  },
  {
   "cell_type": "markdown",
   "source": "> *to do: covariance matrix.*",
   "metadata": {
    "cell_id": "e62ab6d0f2c64b7fb07ec9fdb97ebb22",
    "tags": [],
    "deepnote_cell_type": "markdown",
    "deepnote_cell_height": 66.328125
   }
  },
  {
   "cell_type": "markdown",
   "source": "### Feature Engineering ",
   "metadata": {
    "cell_id": "63fa8d18d2004903ab48a96f213ff5dd",
    "tags": [],
    "is_collapsed": false,
    "deepnote_cell_type": "text-cell-h3"
   }
  },
  {
   "cell_type": "code",
   "metadata": {
    "cell_id": "a1db4c28b42c4941a02419ef62a6d519",
    "tags": [],
    "deepnote_to_be_reexecuted": false,
    "source_hash": "5c90d619",
    "execution_start": 1648585456970,
    "execution_millis": 0,
    "deepnote_cell_type": "code",
    "deepnote_cell_height": 1034.9375
   },
   "source": "# add or delete columns/attributes to the train and test datasets\n\ndef feature_eng(data, test=False):\n\n    \n    # adding new columns:\n    # year, hour, week, minute, month, day of de week, day of year, is weekend, yesterday,\n    # is_afternoon, \n\n    # converting time column into datatime type\n    data[\"time\"] = pd.to_datetime(data[\"time\"])\n    \n    # adding the new time columns\n    data['year'] = data.time.dt.year\n    data['hour'] = data.time.dt.hour\n    data['week'] = data.time.dt.isocalendar().week\n    data['minute'] = data.time.dt.minute\n    data['month'] = data.time.dt.month\n    data['day_of_week'] = data.time.dt.day_name()\n    data['is_afternoon'] = (data['time'].dt.hour > 12).astype('int')\n    data['day_of_year'] = data.time.dt.dayofyear\n    data['is_weekend'] = (data.time.dt.dayofweek >= 5).astype(\"int\")\n    \n\n    # changes only train dataset\n    if test==False:\n        data['yesterday'] = data.groupby(['x','y','direction','hour','minute'])['congestion'].transform(lambda x: x.shift(1))\n        \n        # drop holidays outliers\n        # Memorial Day\n        data = data[(data.time.dt.month != 5) | (data.time.dt.day != 27)]\n\n        # July 4\n        data = data[(data.time.dt.month != 7) | (data.time.dt.day != 4)]\n\n        # Labor Day\n        data = data[(data.time.dt.month != 9) | (data.time.dt.day != 2)]\n\n\n    # transformation to get unique roadways with directions\n    # x, y, direction -> road\n\n    data['road'] = data['x'].astype(str) + data['y'].astype(str) + data['direction']\n    \n    # label encoding (it could be one-hot encoding tho)\n    le = LabelEncoder()\n    data['road'] = le.fit_transform(data['road'])\n\n    \n    # dropping the redundant columns\n    data = data.drop(['x', 'y', 'direction'], axis=1)\n    #data = data.set_index('time')\n\n    return data",
   "execution_count": 23,
   "outputs": []
  },
  {
   "cell_type": "code",
   "metadata": {
    "cell_id": "a826eadb01794922a26ca454643c746a",
    "tags": [],
    "deepnote_to_be_reexecuted": false,
    "source_hash": "e250e736",
    "execution_start": 1648585456978,
    "execution_millis": 4506,
    "deepnote_cell_type": "code",
    "deepnote_cell_height": 80.9375
   },
   "source": "train_df = feature_eng(train_df)",
   "execution_count": 24,
   "outputs": []
  },
  {
   "cell_type": "code",
   "metadata": {
    "cell_id": "0465e013a8764ac899e6d0d3a3aba959",
    "tags": [],
    "deepnote_to_be_reexecuted": false,
    "source_hash": "b1a8b3e0",
    "execution_start": 1648585461503,
    "execution_millis": 37,
    "deepnote_cell_type": "code",
    "deepnote_cell_height": 407.6875
   },
   "source": "train_df.head()",
   "execution_count": 25,
   "outputs": [
    {
     "output_type": "execute_result",
     "execution_count": 25,
     "data": {
      "application/vnd.deepnote.dataframe.v3+json": {
       "column_count": 14,
       "row_count": 5,
       "columns": [
        {
         "name": "row_id",
         "dtype": "int64",
         "stats": {
          "unique_count": 5,
          "nan_count": 0,
          "min": "0",
          "max": "4",
          "histogram": [
           {
            "bin_start": 0,
            "bin_end": 0.4,
            "count": 1
           },
           {
            "bin_start": 0.4,
            "bin_end": 0.8,
            "count": 0
           },
           {
            "bin_start": 0.8,
            "bin_end": 1.2000000000000002,
            "count": 1
           },
           {
            "bin_start": 1.2000000000000002,
            "bin_end": 1.6,
            "count": 0
           },
           {
            "bin_start": 1.6,
            "bin_end": 2,
            "count": 0
           },
           {
            "bin_start": 2,
            "bin_end": 2.4000000000000004,
            "count": 1
           },
           {
            "bin_start": 2.4000000000000004,
            "bin_end": 2.8000000000000003,
            "count": 0
           },
           {
            "bin_start": 2.8000000000000003,
            "bin_end": 3.2,
            "count": 1
           },
           {
            "bin_start": 3.2,
            "bin_end": 3.6,
            "count": 0
           },
           {
            "bin_start": 3.6,
            "bin_end": 4,
            "count": 1
           }
          ]
         }
        },
        {
         "name": "time",
         "dtype": "datetime64[ns]",
         "stats": {
          "unique_count": 1,
          "nan_count": 0,
          "min": "1991-04-01 00:00:00",
          "max": "1991-04-01 00:00:00",
          "histogram": null
         }
        },
        {
         "name": "congestion",
         "dtype": "int64",
         "stats": {
          "unique_count": 5,
          "nan_count": 0,
          "min": "18",
          "max": "70",
          "histogram": [
           {
            "bin_start": 18,
            "bin_end": 23.2,
            "count": 1
           },
           {
            "bin_start": 23.2,
            "bin_end": 28.4,
            "count": 1
           },
           {
            "bin_start": 28.4,
            "bin_end": 33.6,
            "count": 0
           },
           {
            "bin_start": 33.6,
            "bin_end": 38.8,
            "count": 0
           },
           {
            "bin_start": 38.8,
            "bin_end": 44,
            "count": 0
           },
           {
            "bin_start": 44,
            "bin_end": 49.2,
            "count": 1
           },
           {
            "bin_start": 49.2,
            "bin_end": 54.4,
            "count": 0
           },
           {
            "bin_start": 54.4,
            "bin_end": 59.6,
            "count": 0
           },
           {
            "bin_start": 59.6,
            "bin_end": 64.80000000000001,
            "count": 1
           },
           {
            "bin_start": 64.80000000000001,
            "bin_end": 70,
            "count": 1
           }
          ]
         }
        },
        {
         "name": "year",
         "dtype": "int64",
         "stats": {
          "unique_count": 1,
          "nan_count": 0,
          "min": "1991",
          "max": "1991",
          "histogram": [
           {
            "bin_start": 1990.5,
            "bin_end": 1990.6,
            "count": 0
           },
           {
            "bin_start": 1990.6,
            "bin_end": 1990.7,
            "count": 0
           },
           {
            "bin_start": 1990.7,
            "bin_end": 1990.8,
            "count": 0
           },
           {
            "bin_start": 1990.8,
            "bin_end": 1990.9,
            "count": 0
           },
           {
            "bin_start": 1990.9,
            "bin_end": 1991,
            "count": 0
           },
           {
            "bin_start": 1991,
            "bin_end": 1991.1,
            "count": 5
           },
           {
            "bin_start": 1991.1,
            "bin_end": 1991.2,
            "count": 0
           },
           {
            "bin_start": 1991.2,
            "bin_end": 1991.3,
            "count": 0
           },
           {
            "bin_start": 1991.3,
            "bin_end": 1991.4,
            "count": 0
           },
           {
            "bin_start": 1991.4,
            "bin_end": 1991.5,
            "count": 0
           }
          ]
         }
        },
        {
         "name": "hour",
         "dtype": "int64",
         "stats": {
          "unique_count": 1,
          "nan_count": 0,
          "min": "0",
          "max": "0",
          "histogram": [
           {
            "bin_start": -0.5,
            "bin_end": -0.4,
            "count": 0
           },
           {
            "bin_start": -0.4,
            "bin_end": -0.3,
            "count": 0
           },
           {
            "bin_start": -0.3,
            "bin_end": -0.19999999999999996,
            "count": 0
           },
           {
            "bin_start": -0.19999999999999996,
            "bin_end": -0.09999999999999998,
            "count": 0
           },
           {
            "bin_start": -0.09999999999999998,
            "bin_end": 0,
            "count": 0
           },
           {
            "bin_start": 0,
            "bin_end": 0.10000000000000009,
            "count": 5
           },
           {
            "bin_start": 0.10000000000000009,
            "bin_end": 0.20000000000000007,
            "count": 0
           },
           {
            "bin_start": 0.20000000000000007,
            "bin_end": 0.30000000000000004,
            "count": 0
           },
           {
            "bin_start": 0.30000000000000004,
            "bin_end": 0.4,
            "count": 0
           },
           {
            "bin_start": 0.4,
            "bin_end": 0.5,
            "count": 0
           }
          ]
         }
        },
        {
         "name": "week",
         "dtype": "UInt32",
         "stats": {
          "unique_count": 1,
          "nan_count": 0,
          "categories": [
           {
            "name": "14",
            "count": 5
           }
          ]
         }
        },
        {
         "name": "minute",
         "dtype": "int64",
         "stats": {
          "unique_count": 1,
          "nan_count": 0,
          "min": "0",
          "max": "0",
          "histogram": [
           {
            "bin_start": -0.5,
            "bin_end": -0.4,
            "count": 0
           },
           {
            "bin_start": -0.4,
            "bin_end": -0.3,
            "count": 0
           },
           {
            "bin_start": -0.3,
            "bin_end": -0.19999999999999996,
            "count": 0
           },
           {
            "bin_start": -0.19999999999999996,
            "bin_end": -0.09999999999999998,
            "count": 0
           },
           {
            "bin_start": -0.09999999999999998,
            "bin_end": 0,
            "count": 0
           },
           {
            "bin_start": 0,
            "bin_end": 0.10000000000000009,
            "count": 5
           },
           {
            "bin_start": 0.10000000000000009,
            "bin_end": 0.20000000000000007,
            "count": 0
           },
           {
            "bin_start": 0.20000000000000007,
            "bin_end": 0.30000000000000004,
            "count": 0
           },
           {
            "bin_start": 0.30000000000000004,
            "bin_end": 0.4,
            "count": 0
           },
           {
            "bin_start": 0.4,
            "bin_end": 0.5,
            "count": 0
           }
          ]
         }
        },
        {
         "name": "month",
         "dtype": "int64",
         "stats": {
          "unique_count": 1,
          "nan_count": 0,
          "min": "4",
          "max": "4",
          "histogram": [
           {
            "bin_start": 3.5,
            "bin_end": 3.6,
            "count": 0
           },
           {
            "bin_start": 3.6,
            "bin_end": 3.7,
            "count": 0
           },
           {
            "bin_start": 3.7,
            "bin_end": 3.8,
            "count": 0
           },
           {
            "bin_start": 3.8,
            "bin_end": 3.9,
            "count": 0
           },
           {
            "bin_start": 3.9,
            "bin_end": 4,
            "count": 0
           },
           {
            "bin_start": 4,
            "bin_end": 4.1,
            "count": 5
           },
           {
            "bin_start": 4.1,
            "bin_end": 4.2,
            "count": 0
           },
           {
            "bin_start": 4.2,
            "bin_end": 4.3,
            "count": 0
           },
           {
            "bin_start": 4.3,
            "bin_end": 4.4,
            "count": 0
           },
           {
            "bin_start": 4.4,
            "bin_end": 4.5,
            "count": 0
           }
          ]
         }
        },
        {
         "name": "day_of_week",
         "dtype": "object",
         "stats": {
          "unique_count": 1,
          "nan_count": 0,
          "categories": [
           {
            "name": "Monday",
            "count": 5
           }
          ]
         }
        },
        {
         "name": "is_afternoon",
         "dtype": "int64",
         "stats": {
          "unique_count": 1,
          "nan_count": 0,
          "min": "0",
          "max": "0",
          "histogram": [
           {
            "bin_start": -0.5,
            "bin_end": -0.4,
            "count": 0
           },
           {
            "bin_start": -0.4,
            "bin_end": -0.3,
            "count": 0
           },
           {
            "bin_start": -0.3,
            "bin_end": -0.19999999999999996,
            "count": 0
           },
           {
            "bin_start": -0.19999999999999996,
            "bin_end": -0.09999999999999998,
            "count": 0
           },
           {
            "bin_start": -0.09999999999999998,
            "bin_end": 0,
            "count": 0
           },
           {
            "bin_start": 0,
            "bin_end": 0.10000000000000009,
            "count": 5
           },
           {
            "bin_start": 0.10000000000000009,
            "bin_end": 0.20000000000000007,
            "count": 0
           },
           {
            "bin_start": 0.20000000000000007,
            "bin_end": 0.30000000000000004,
            "count": 0
           },
           {
            "bin_start": 0.30000000000000004,
            "bin_end": 0.4,
            "count": 0
           },
           {
            "bin_start": 0.4,
            "bin_end": 0.5,
            "count": 0
           }
          ]
         }
        },
        {
         "name": "day_of_year",
         "dtype": "int64",
         "stats": {
          "unique_count": 1,
          "nan_count": 0,
          "min": "91",
          "max": "91",
          "histogram": [
           {
            "bin_start": 90.5,
            "bin_end": 90.6,
            "count": 0
           },
           {
            "bin_start": 90.6,
            "bin_end": 90.7,
            "count": 0
           },
           {
            "bin_start": 90.7,
            "bin_end": 90.8,
            "count": 0
           },
           {
            "bin_start": 90.8,
            "bin_end": 90.9,
            "count": 0
           },
           {
            "bin_start": 90.9,
            "bin_end": 91,
            "count": 0
           },
           {
            "bin_start": 91,
            "bin_end": 91.1,
            "count": 5
           },
           {
            "bin_start": 91.1,
            "bin_end": 91.2,
            "count": 0
           },
           {
            "bin_start": 91.2,
            "bin_end": 91.3,
            "count": 0
           },
           {
            "bin_start": 91.3,
            "bin_end": 91.4,
            "count": 0
           },
           {
            "bin_start": 91.4,
            "bin_end": 91.5,
            "count": 0
           }
          ]
         }
        },
        {
         "name": "is_weekend",
         "dtype": "int64",
         "stats": {
          "unique_count": 1,
          "nan_count": 0,
          "min": "0",
          "max": "0",
          "histogram": [
           {
            "bin_start": -0.5,
            "bin_end": -0.4,
            "count": 0
           },
           {
            "bin_start": -0.4,
            "bin_end": -0.3,
            "count": 0
           },
           {
            "bin_start": -0.3,
            "bin_end": -0.19999999999999996,
            "count": 0
           },
           {
            "bin_start": -0.19999999999999996,
            "bin_end": -0.09999999999999998,
            "count": 0
           },
           {
            "bin_start": -0.09999999999999998,
            "bin_end": 0,
            "count": 0
           },
           {
            "bin_start": 0,
            "bin_end": 0.10000000000000009,
            "count": 5
           },
           {
            "bin_start": 0.10000000000000009,
            "bin_end": 0.20000000000000007,
            "count": 0
           },
           {
            "bin_start": 0.20000000000000007,
            "bin_end": 0.30000000000000004,
            "count": 0
           },
           {
            "bin_start": 0.30000000000000004,
            "bin_end": 0.4,
            "count": 0
           },
           {
            "bin_start": 0.4,
            "bin_end": 0.5,
            "count": 0
           }
          ]
         }
        },
        {
         "name": "yesterday",
         "dtype": "float64",
         "stats": {
          "unique_count": 0,
          "nan_count": 5,
          "min": null,
          "max": null,
          "histogram": [
           {
            "bin_start": 0,
            "bin_end": 0.1,
            "count": 0
           },
           {
            "bin_start": 0.1,
            "bin_end": 0.2,
            "count": 0
           },
           {
            "bin_start": 0.2,
            "bin_end": 0.30000000000000004,
            "count": 0
           },
           {
            "bin_start": 0.30000000000000004,
            "bin_end": 0.4,
            "count": 0
           },
           {
            "bin_start": 0.4,
            "bin_end": 0.5,
            "count": 0
           },
           {
            "bin_start": 0.5,
            "bin_end": 0.6000000000000001,
            "count": 0
           },
           {
            "bin_start": 0.6000000000000001,
            "bin_end": 0.7000000000000001,
            "count": 0
           },
           {
            "bin_start": 0.7000000000000001,
            "bin_end": 0.8,
            "count": 0
           },
           {
            "bin_start": 0.8,
            "bin_end": 0.9,
            "count": 0
           },
           {
            "bin_start": 0.9,
            "bin_end": 1,
            "count": 0
           }
          ]
         }
        },
        {
         "name": "road",
         "dtype": "int64",
         "stats": {
          "unique_count": 5,
          "nan_count": 0,
          "min": "0",
          "max": "4",
          "histogram": [
           {
            "bin_start": 0,
            "bin_end": 0.4,
            "count": 1
           },
           {
            "bin_start": 0.4,
            "bin_end": 0.8,
            "count": 0
           },
           {
            "bin_start": 0.8,
            "bin_end": 1.2000000000000002,
            "count": 1
           },
           {
            "bin_start": 1.2000000000000002,
            "bin_end": 1.6,
            "count": 0
           },
           {
            "bin_start": 1.6,
            "bin_end": 2,
            "count": 0
           },
           {
            "bin_start": 2,
            "bin_end": 2.4000000000000004,
            "count": 1
           },
           {
            "bin_start": 2.4000000000000004,
            "bin_end": 2.8000000000000003,
            "count": 0
           },
           {
            "bin_start": 2.8000000000000003,
            "bin_end": 3.2,
            "count": 1
           },
           {
            "bin_start": 3.2,
            "bin_end": 3.6,
            "count": 0
           },
           {
            "bin_start": 3.6,
            "bin_end": 4,
            "count": 1
           }
          ]
         }
        },
        {
         "name": "_deepnote_index_column",
         "dtype": "int64"
        }
       ],
       "rows": [
        {
         "row_id": 0,
         "time": "1991-04-01T00:00:00.000000",
         "congestion": 70,
         "year": 1991,
         "hour": 0,
         "week": 14,
         "minute": 0,
         "month": 4,
         "day_of_week": "Monday",
         "is_afternoon": 0,
         "day_of_year": 91,
         "is_weekend": 0,
         "yesterday": "nan",
         "road": 0,
         "_deepnote_index_column": 0
        },
        {
         "row_id": 1,
         "time": "1991-04-01T00:00:00.000000",
         "congestion": 49,
         "year": 1991,
         "hour": 0,
         "week": 14,
         "minute": 0,
         "month": 4,
         "day_of_week": "Monday",
         "is_afternoon": 0,
         "day_of_year": 91,
         "is_weekend": 0,
         "yesterday": "nan",
         "road": 1,
         "_deepnote_index_column": 1
        },
        {
         "row_id": 2,
         "time": "1991-04-01T00:00:00.000000",
         "congestion": 24,
         "year": 1991,
         "hour": 0,
         "week": 14,
         "minute": 0,
         "month": 4,
         "day_of_week": "Monday",
         "is_afternoon": 0,
         "day_of_year": 91,
         "is_weekend": 0,
         "yesterday": "nan",
         "road": 2,
         "_deepnote_index_column": 2
        },
        {
         "row_id": 3,
         "time": "1991-04-01T00:00:00.000000",
         "congestion": 18,
         "year": 1991,
         "hour": 0,
         "week": 14,
         "minute": 0,
         "month": 4,
         "day_of_week": "Monday",
         "is_afternoon": 0,
         "day_of_year": 91,
         "is_weekend": 0,
         "yesterday": "nan",
         "road": 3,
         "_deepnote_index_column": 3
        },
        {
         "row_id": 4,
         "time": "1991-04-01T00:00:00.000000",
         "congestion": 60,
         "year": 1991,
         "hour": 0,
         "week": 14,
         "minute": 0,
         "month": 4,
         "day_of_week": "Monday",
         "is_afternoon": 0,
         "day_of_year": 91,
         "is_weekend": 0,
         "yesterday": "nan",
         "road": 4,
         "_deepnote_index_column": 4
        }
       ]
      },
      "text/plain": "   row_id       time  congestion  year  hour  week  minute  month day_of_week  \\\n0       0 1991-04-01          70  1991     0    14       0      4      Monday   \n1       1 1991-04-01          49  1991     0    14       0      4      Monday   \n2       2 1991-04-01          24  1991     0    14       0      4      Monday   \n3       3 1991-04-01          18  1991     0    14       0      4      Monday   \n4       4 1991-04-01          60  1991     0    14       0      4      Monday   \n\n   is_afternoon  day_of_year  is_weekend  yesterday  road  \n0             0           91           0        NaN     0  \n1             0           91           0        NaN     1  \n2             0           91           0        NaN     2  \n3             0           91           0        NaN     3  \n4             0           91           0        NaN     4  ",
      "text/html": "<div>\n<style scoped>\n    .dataframe tbody tr th:only-of-type {\n        vertical-align: middle;\n    }\n\n    .dataframe tbody tr th {\n        vertical-align: top;\n    }\n\n    .dataframe thead th {\n        text-align: right;\n    }\n</style>\n<table border=\"1\" class=\"dataframe\">\n  <thead>\n    <tr style=\"text-align: right;\">\n      <th></th>\n      <th>row_id</th>\n      <th>time</th>\n      <th>congestion</th>\n      <th>year</th>\n      <th>hour</th>\n      <th>week</th>\n      <th>minute</th>\n      <th>month</th>\n      <th>day_of_week</th>\n      <th>is_afternoon</th>\n      <th>day_of_year</th>\n      <th>is_weekend</th>\n      <th>yesterday</th>\n      <th>road</th>\n    </tr>\n  </thead>\n  <tbody>\n    <tr>\n      <th>0</th>\n      <td>0</td>\n      <td>1991-04-01</td>\n      <td>70</td>\n      <td>1991</td>\n      <td>0</td>\n      <td>14</td>\n      <td>0</td>\n      <td>4</td>\n      <td>Monday</td>\n      <td>0</td>\n      <td>91</td>\n      <td>0</td>\n      <td>NaN</td>\n      <td>0</td>\n    </tr>\n    <tr>\n      <th>1</th>\n      <td>1</td>\n      <td>1991-04-01</td>\n      <td>49</td>\n      <td>1991</td>\n      <td>0</td>\n      <td>14</td>\n      <td>0</td>\n      <td>4</td>\n      <td>Monday</td>\n      <td>0</td>\n      <td>91</td>\n      <td>0</td>\n      <td>NaN</td>\n      <td>1</td>\n    </tr>\n    <tr>\n      <th>2</th>\n      <td>2</td>\n      <td>1991-04-01</td>\n      <td>24</td>\n      <td>1991</td>\n      <td>0</td>\n      <td>14</td>\n      <td>0</td>\n      <td>4</td>\n      <td>Monday</td>\n      <td>0</td>\n      <td>91</td>\n      <td>0</td>\n      <td>NaN</td>\n      <td>2</td>\n    </tr>\n    <tr>\n      <th>3</th>\n      <td>3</td>\n      <td>1991-04-01</td>\n      <td>18</td>\n      <td>1991</td>\n      <td>0</td>\n      <td>14</td>\n      <td>0</td>\n      <td>4</td>\n      <td>Monday</td>\n      <td>0</td>\n      <td>91</td>\n      <td>0</td>\n      <td>NaN</td>\n      <td>3</td>\n    </tr>\n    <tr>\n      <th>4</th>\n      <td>4</td>\n      <td>1991-04-01</td>\n      <td>60</td>\n      <td>1991</td>\n      <td>0</td>\n      <td>14</td>\n      <td>0</td>\n      <td>4</td>\n      <td>Monday</td>\n      <td>0</td>\n      <td>91</td>\n      <td>0</td>\n      <td>NaN</td>\n      <td>4</td>\n    </tr>\n  </tbody>\n</table>\n</div>"
     },
     "metadata": {}
    }
   ]
  },
  {
   "cell_type": "code",
   "metadata": {
    "cell_id": "c43aca981dbf4d3483d3dcd355e6e2f9",
    "tags": [],
    "deepnote_to_be_reexecuted": false,
    "source_hash": "6cc241e2",
    "execution_start": 1648585461538,
    "execution_millis": 15,
    "deepnote_cell_type": "code",
    "deepnote_cell_height": 80.9375
   },
   "source": "test_df = feature_eng(test_df, True)",
   "execution_count": 26,
   "outputs": []
  },
  {
   "cell_type": "code",
   "metadata": {
    "cell_id": "860bd5f30e294a289e635e2b367266f6",
    "tags": [],
    "deepnote_to_be_reexecuted": false,
    "source_hash": "90178e48",
    "execution_start": 1648585461565,
    "execution_millis": 29,
    "deepnote_cell_type": "code",
    "deepnote_cell_height": 407.6875
   },
   "source": "test_df.head()",
   "execution_count": 27,
   "outputs": [
    {
     "output_type": "execute_result",
     "execution_count": 27,
     "data": {
      "application/vnd.deepnote.dataframe.v3+json": {
       "column_count": 12,
       "row_count": 5,
       "columns": [
        {
         "name": "row_id",
         "dtype": "int64",
         "stats": {
          "unique_count": 5,
          "nan_count": 0,
          "min": "848835",
          "max": "848839",
          "histogram": [
           {
            "bin_start": 848835,
            "bin_end": 848835.4,
            "count": 1
           },
           {
            "bin_start": 848835.4,
            "bin_end": 848835.8,
            "count": 0
           },
           {
            "bin_start": 848835.8,
            "bin_end": 848836.2,
            "count": 1
           },
           {
            "bin_start": 848836.2,
            "bin_end": 848836.6,
            "count": 0
           },
           {
            "bin_start": 848836.6,
            "bin_end": 848837,
            "count": 0
           },
           {
            "bin_start": 848837,
            "bin_end": 848837.4,
            "count": 1
           },
           {
            "bin_start": 848837.4,
            "bin_end": 848837.8,
            "count": 0
           },
           {
            "bin_start": 848837.8,
            "bin_end": 848838.2,
            "count": 1
           },
           {
            "bin_start": 848838.2,
            "bin_end": 848838.6,
            "count": 0
           },
           {
            "bin_start": 848838.6,
            "bin_end": 848839,
            "count": 1
           }
          ]
         }
        },
        {
         "name": "time",
         "dtype": "datetime64[ns]",
         "stats": {
          "unique_count": 1,
          "nan_count": 0,
          "min": "1991-09-30 12:00:00",
          "max": "1991-09-30 12:00:00",
          "histogram": null
         }
        },
        {
         "name": "year",
         "dtype": "int64",
         "stats": {
          "unique_count": 1,
          "nan_count": 0,
          "min": "1991",
          "max": "1991",
          "histogram": [
           {
            "bin_start": 1990.5,
            "bin_end": 1990.6,
            "count": 0
           },
           {
            "bin_start": 1990.6,
            "bin_end": 1990.7,
            "count": 0
           },
           {
            "bin_start": 1990.7,
            "bin_end": 1990.8,
            "count": 0
           },
           {
            "bin_start": 1990.8,
            "bin_end": 1990.9,
            "count": 0
           },
           {
            "bin_start": 1990.9,
            "bin_end": 1991,
            "count": 0
           },
           {
            "bin_start": 1991,
            "bin_end": 1991.1,
            "count": 5
           },
           {
            "bin_start": 1991.1,
            "bin_end": 1991.2,
            "count": 0
           },
           {
            "bin_start": 1991.2,
            "bin_end": 1991.3,
            "count": 0
           },
           {
            "bin_start": 1991.3,
            "bin_end": 1991.4,
            "count": 0
           },
           {
            "bin_start": 1991.4,
            "bin_end": 1991.5,
            "count": 0
           }
          ]
         }
        },
        {
         "name": "hour",
         "dtype": "int64",
         "stats": {
          "unique_count": 1,
          "nan_count": 0,
          "min": "12",
          "max": "12",
          "histogram": [
           {
            "bin_start": 11.5,
            "bin_end": 11.6,
            "count": 0
           },
           {
            "bin_start": 11.6,
            "bin_end": 11.7,
            "count": 0
           },
           {
            "bin_start": 11.7,
            "bin_end": 11.8,
            "count": 0
           },
           {
            "bin_start": 11.8,
            "bin_end": 11.9,
            "count": 0
           },
           {
            "bin_start": 11.9,
            "bin_end": 12,
            "count": 0
           },
           {
            "bin_start": 12,
            "bin_end": 12.1,
            "count": 5
           },
           {
            "bin_start": 12.1,
            "bin_end": 12.2,
            "count": 0
           },
           {
            "bin_start": 12.2,
            "bin_end": 12.3,
            "count": 0
           },
           {
            "bin_start": 12.3,
            "bin_end": 12.4,
            "count": 0
           },
           {
            "bin_start": 12.4,
            "bin_end": 12.5,
            "count": 0
           }
          ]
         }
        },
        {
         "name": "week",
         "dtype": "UInt32",
         "stats": {
          "unique_count": 1,
          "nan_count": 0,
          "categories": [
           {
            "name": "40",
            "count": 5
           }
          ]
         }
        },
        {
         "name": "minute",
         "dtype": "int64",
         "stats": {
          "unique_count": 1,
          "nan_count": 0,
          "min": "0",
          "max": "0",
          "histogram": [
           {
            "bin_start": -0.5,
            "bin_end": -0.4,
            "count": 0
           },
           {
            "bin_start": -0.4,
            "bin_end": -0.3,
            "count": 0
           },
           {
            "bin_start": -0.3,
            "bin_end": -0.19999999999999996,
            "count": 0
           },
           {
            "bin_start": -0.19999999999999996,
            "bin_end": -0.09999999999999998,
            "count": 0
           },
           {
            "bin_start": -0.09999999999999998,
            "bin_end": 0,
            "count": 0
           },
           {
            "bin_start": 0,
            "bin_end": 0.10000000000000009,
            "count": 5
           },
           {
            "bin_start": 0.10000000000000009,
            "bin_end": 0.20000000000000007,
            "count": 0
           },
           {
            "bin_start": 0.20000000000000007,
            "bin_end": 0.30000000000000004,
            "count": 0
           },
           {
            "bin_start": 0.30000000000000004,
            "bin_end": 0.4,
            "count": 0
           },
           {
            "bin_start": 0.4,
            "bin_end": 0.5,
            "count": 0
           }
          ]
         }
        },
        {
         "name": "month",
         "dtype": "int64",
         "stats": {
          "unique_count": 1,
          "nan_count": 0,
          "min": "9",
          "max": "9",
          "histogram": [
           {
            "bin_start": 8.5,
            "bin_end": 8.6,
            "count": 0
           },
           {
            "bin_start": 8.6,
            "bin_end": 8.7,
            "count": 0
           },
           {
            "bin_start": 8.7,
            "bin_end": 8.8,
            "count": 0
           },
           {
            "bin_start": 8.8,
            "bin_end": 8.9,
            "count": 0
           },
           {
            "bin_start": 8.9,
            "bin_end": 9,
            "count": 0
           },
           {
            "bin_start": 9,
            "bin_end": 9.1,
            "count": 5
           },
           {
            "bin_start": 9.1,
            "bin_end": 9.2,
            "count": 0
           },
           {
            "bin_start": 9.2,
            "bin_end": 9.3,
            "count": 0
           },
           {
            "bin_start": 9.3,
            "bin_end": 9.4,
            "count": 0
           },
           {
            "bin_start": 9.4,
            "bin_end": 9.5,
            "count": 0
           }
          ]
         }
        },
        {
         "name": "day_of_week",
         "dtype": "object",
         "stats": {
          "unique_count": 1,
          "nan_count": 0,
          "categories": [
           {
            "name": "Monday",
            "count": 5
           }
          ]
         }
        },
        {
         "name": "is_afternoon",
         "dtype": "int64",
         "stats": {
          "unique_count": 1,
          "nan_count": 0,
          "min": "0",
          "max": "0",
          "histogram": [
           {
            "bin_start": -0.5,
            "bin_end": -0.4,
            "count": 0
           },
           {
            "bin_start": -0.4,
            "bin_end": -0.3,
            "count": 0
           },
           {
            "bin_start": -0.3,
            "bin_end": -0.19999999999999996,
            "count": 0
           },
           {
            "bin_start": -0.19999999999999996,
            "bin_end": -0.09999999999999998,
            "count": 0
           },
           {
            "bin_start": -0.09999999999999998,
            "bin_end": 0,
            "count": 0
           },
           {
            "bin_start": 0,
            "bin_end": 0.10000000000000009,
            "count": 5
           },
           {
            "bin_start": 0.10000000000000009,
            "bin_end": 0.20000000000000007,
            "count": 0
           },
           {
            "bin_start": 0.20000000000000007,
            "bin_end": 0.30000000000000004,
            "count": 0
           },
           {
            "bin_start": 0.30000000000000004,
            "bin_end": 0.4,
            "count": 0
           },
           {
            "bin_start": 0.4,
            "bin_end": 0.5,
            "count": 0
           }
          ]
         }
        },
        {
         "name": "day_of_year",
         "dtype": "int64",
         "stats": {
          "unique_count": 1,
          "nan_count": 0,
          "min": "273",
          "max": "273",
          "histogram": [
           {
            "bin_start": 272.5,
            "bin_end": 272.6,
            "count": 0
           },
           {
            "bin_start": 272.6,
            "bin_end": 272.7,
            "count": 0
           },
           {
            "bin_start": 272.7,
            "bin_end": 272.8,
            "count": 0
           },
           {
            "bin_start": 272.8,
            "bin_end": 272.9,
            "count": 0
           },
           {
            "bin_start": 272.9,
            "bin_end": 273,
            "count": 0
           },
           {
            "bin_start": 273,
            "bin_end": 273.1,
            "count": 5
           },
           {
            "bin_start": 273.1,
            "bin_end": 273.2,
            "count": 0
           },
           {
            "bin_start": 273.2,
            "bin_end": 273.3,
            "count": 0
           },
           {
            "bin_start": 273.3,
            "bin_end": 273.4,
            "count": 0
           },
           {
            "bin_start": 273.4,
            "bin_end": 273.5,
            "count": 0
           }
          ]
         }
        },
        {
         "name": "is_weekend",
         "dtype": "int64",
         "stats": {
          "unique_count": 1,
          "nan_count": 0,
          "min": "0",
          "max": "0",
          "histogram": [
           {
            "bin_start": -0.5,
            "bin_end": -0.4,
            "count": 0
           },
           {
            "bin_start": -0.4,
            "bin_end": -0.3,
            "count": 0
           },
           {
            "bin_start": -0.3,
            "bin_end": -0.19999999999999996,
            "count": 0
           },
           {
            "bin_start": -0.19999999999999996,
            "bin_end": -0.09999999999999998,
            "count": 0
           },
           {
            "bin_start": -0.09999999999999998,
            "bin_end": 0,
            "count": 0
           },
           {
            "bin_start": 0,
            "bin_end": 0.10000000000000009,
            "count": 5
           },
           {
            "bin_start": 0.10000000000000009,
            "bin_end": 0.20000000000000007,
            "count": 0
           },
           {
            "bin_start": 0.20000000000000007,
            "bin_end": 0.30000000000000004,
            "count": 0
           },
           {
            "bin_start": 0.30000000000000004,
            "bin_end": 0.4,
            "count": 0
           },
           {
            "bin_start": 0.4,
            "bin_end": 0.5,
            "count": 0
           }
          ]
         }
        },
        {
         "name": "road",
         "dtype": "int64",
         "stats": {
          "unique_count": 5,
          "nan_count": 0,
          "min": "0",
          "max": "4",
          "histogram": [
           {
            "bin_start": 0,
            "bin_end": 0.4,
            "count": 1
           },
           {
            "bin_start": 0.4,
            "bin_end": 0.8,
            "count": 0
           },
           {
            "bin_start": 0.8,
            "bin_end": 1.2000000000000002,
            "count": 1
           },
           {
            "bin_start": 1.2000000000000002,
            "bin_end": 1.6,
            "count": 0
           },
           {
            "bin_start": 1.6,
            "bin_end": 2,
            "count": 0
           },
           {
            "bin_start": 2,
            "bin_end": 2.4000000000000004,
            "count": 1
           },
           {
            "bin_start": 2.4000000000000004,
            "bin_end": 2.8000000000000003,
            "count": 0
           },
           {
            "bin_start": 2.8000000000000003,
            "bin_end": 3.2,
            "count": 1
           },
           {
            "bin_start": 3.2,
            "bin_end": 3.6,
            "count": 0
           },
           {
            "bin_start": 3.6,
            "bin_end": 4,
            "count": 1
           }
          ]
         }
        },
        {
         "name": "_deepnote_index_column",
         "dtype": "int64"
        }
       ],
       "rows": [
        {
         "row_id": 848835,
         "time": "1991-09-30T12:00:00.000000",
         "year": 1991,
         "hour": 12,
         "week": 40,
         "minute": 0,
         "month": 9,
         "day_of_week": "Monday",
         "is_afternoon": 0,
         "day_of_year": 273,
         "is_weekend": 0,
         "road": 0,
         "_deepnote_index_column": 0
        },
        {
         "row_id": 848836,
         "time": "1991-09-30T12:00:00.000000",
         "year": 1991,
         "hour": 12,
         "week": 40,
         "minute": 0,
         "month": 9,
         "day_of_week": "Monday",
         "is_afternoon": 0,
         "day_of_year": 273,
         "is_weekend": 0,
         "road": 1,
         "_deepnote_index_column": 1
        },
        {
         "row_id": 848837,
         "time": "1991-09-30T12:00:00.000000",
         "year": 1991,
         "hour": 12,
         "week": 40,
         "minute": 0,
         "month": 9,
         "day_of_week": "Monday",
         "is_afternoon": 0,
         "day_of_year": 273,
         "is_weekend": 0,
         "road": 2,
         "_deepnote_index_column": 2
        },
        {
         "row_id": 848838,
         "time": "1991-09-30T12:00:00.000000",
         "year": 1991,
         "hour": 12,
         "week": 40,
         "minute": 0,
         "month": 9,
         "day_of_week": "Monday",
         "is_afternoon": 0,
         "day_of_year": 273,
         "is_weekend": 0,
         "road": 3,
         "_deepnote_index_column": 3
        },
        {
         "row_id": 848839,
         "time": "1991-09-30T12:00:00.000000",
         "year": 1991,
         "hour": 12,
         "week": 40,
         "minute": 0,
         "month": 9,
         "day_of_week": "Monday",
         "is_afternoon": 0,
         "day_of_year": 273,
         "is_weekend": 0,
         "road": 4,
         "_deepnote_index_column": 4
        }
       ]
      },
      "text/plain": "   row_id                time  year  hour  week  minute  month day_of_week  \\\n0  848835 1991-09-30 12:00:00  1991    12    40       0      9      Monday   \n1  848836 1991-09-30 12:00:00  1991    12    40       0      9      Monday   \n2  848837 1991-09-30 12:00:00  1991    12    40       0      9      Monday   \n3  848838 1991-09-30 12:00:00  1991    12    40       0      9      Monday   \n4  848839 1991-09-30 12:00:00  1991    12    40       0      9      Monday   \n\n   is_afternoon  day_of_year  is_weekend  road  \n0             0          273           0     0  \n1             0          273           0     1  \n2             0          273           0     2  \n3             0          273           0     3  \n4             0          273           0     4  ",
      "text/html": "<div>\n<style scoped>\n    .dataframe tbody tr th:only-of-type {\n        vertical-align: middle;\n    }\n\n    .dataframe tbody tr th {\n        vertical-align: top;\n    }\n\n    .dataframe thead th {\n        text-align: right;\n    }\n</style>\n<table border=\"1\" class=\"dataframe\">\n  <thead>\n    <tr style=\"text-align: right;\">\n      <th></th>\n      <th>row_id</th>\n      <th>time</th>\n      <th>year</th>\n      <th>hour</th>\n      <th>week</th>\n      <th>minute</th>\n      <th>month</th>\n      <th>day_of_week</th>\n      <th>is_afternoon</th>\n      <th>day_of_year</th>\n      <th>is_weekend</th>\n      <th>road</th>\n    </tr>\n  </thead>\n  <tbody>\n    <tr>\n      <th>0</th>\n      <td>848835</td>\n      <td>1991-09-30 12:00:00</td>\n      <td>1991</td>\n      <td>12</td>\n      <td>40</td>\n      <td>0</td>\n      <td>9</td>\n      <td>Monday</td>\n      <td>0</td>\n      <td>273</td>\n      <td>0</td>\n      <td>0</td>\n    </tr>\n    <tr>\n      <th>1</th>\n      <td>848836</td>\n      <td>1991-09-30 12:00:00</td>\n      <td>1991</td>\n      <td>12</td>\n      <td>40</td>\n      <td>0</td>\n      <td>9</td>\n      <td>Monday</td>\n      <td>0</td>\n      <td>273</td>\n      <td>0</td>\n      <td>1</td>\n    </tr>\n    <tr>\n      <th>2</th>\n      <td>848837</td>\n      <td>1991-09-30 12:00:00</td>\n      <td>1991</td>\n      <td>12</td>\n      <td>40</td>\n      <td>0</td>\n      <td>9</td>\n      <td>Monday</td>\n      <td>0</td>\n      <td>273</td>\n      <td>0</td>\n      <td>2</td>\n    </tr>\n    <tr>\n      <th>3</th>\n      <td>848838</td>\n      <td>1991-09-30 12:00:00</td>\n      <td>1991</td>\n      <td>12</td>\n      <td>40</td>\n      <td>0</td>\n      <td>9</td>\n      <td>Monday</td>\n      <td>0</td>\n      <td>273</td>\n      <td>0</td>\n      <td>3</td>\n    </tr>\n    <tr>\n      <th>4</th>\n      <td>848839</td>\n      <td>1991-09-30 12:00:00</td>\n      <td>1991</td>\n      <td>12</td>\n      <td>40</td>\n      <td>0</td>\n      <td>9</td>\n      <td>Monday</td>\n      <td>0</td>\n      <td>273</td>\n      <td>0</td>\n      <td>4</td>\n    </tr>\n  </tbody>\n</table>\n</div>"
     },
     "metadata": {}
    }
   ]
  },
  {
   "cell_type": "markdown",
   "source": "## Modelling",
   "metadata": {
    "cell_id": "3ac262abcf0942a4894b9776b0521af7",
    "tags": [],
    "is_collapsed": false,
    "deepnote_cell_type": "text-cell-h2"
   }
  },
  {
   "cell_type": "markdown",
   "source": "#### Separation validation and train datasets wit a simple holdout method",
   "metadata": {
    "cell_id": "bf68cd6bef344e8395d7c071c601a927",
    "tags": [],
    "deepnote_cell_type": "markdown",
    "deepnote_cell_height": 53.9375
   }
  },
  {
   "cell_type": "code",
   "metadata": {
    "cell_id": "e2e45eb285a847b699e930322ea23c9c",
    "tags": [],
    "deepnote_to_be_reexecuted": false,
    "source_hash": "e52d3aab",
    "execution_start": 1648585461624,
    "execution_millis": 418,
    "deepnote_cell_type": "code",
    "deepnote_cell_height": 386.9375
   },
   "source": "# split into train and test\n\n# this use all Monday-Wednesday afternoons in August and September for validation\n\n# converting time column into datatime type\ntrain_original[\"time\"] = pd.to_datetime(train_original[\"time\"])\n\nval_idx = ((train_df.time.dt.month >= 8) & \n           (train_df.time.dt.weekday <= 3) &\n           (train_df.time.dt.hour >= 12)).values\n\ntrain_idx = ~val_idx\n\nfeatures = list(test_df.columns)\n\n\nX_train, X_valid = train_df.loc[train_idx, features], train_df.loc[val_idx, features]\ny_train, y_valid = train_df.loc[train_idx, 'congestion'], train_df.loc[val_idx, 'congestion']",
   "execution_count": 28,
   "outputs": []
  },
  {
   "cell_type": "code",
   "metadata": {
    "cell_id": "813bba5b28c84e3d9e3d307af8450659",
    "tags": [],
    "deepnote_to_be_reexecuted": false,
    "source_hash": "427bdc9a",
    "execution_start": 1648585462043,
    "execution_millis": 0,
    "deepnote_cell_type": "code",
    "deepnote_cell_height": 80.9375
   },
   "source": "# adjusting the train data: removing datetime and doing label encoding",
   "execution_count": 29,
   "outputs": []
  },
  {
   "cell_type": "code",
   "metadata": {
    "cell_id": "a8794614820c411087ffe268aed98775",
    "tags": [],
    "deepnote_to_be_reexecuted": false,
    "source_hash": "b9431457",
    "execution_start": 1648585462044,
    "execution_millis": 39,
    "deepnote_cell_type": "code",
    "deepnote_cell_height": 98.953125
   },
   "source": "X_train = X_train.set_index('time')\nX_valid = X_valid.set_index('time')",
   "execution_count": 30,
   "outputs": []
  },
  {
   "cell_type": "code",
   "metadata": {
    "cell_id": "c27bdc019ab449b5926121db9154a90e",
    "tags": [],
    "deepnote_to_be_reexecuted": false,
    "source_hash": "26c6b60f",
    "execution_start": 1648585462157,
    "execution_millis": 117,
    "deepnote_cell_type": "code",
    "deepnote_cell_height": 134.9375
   },
   "source": "le = LabelEncoder()\nX_train['day_of_week'] = le.fit_transform(X_train['day_of_week'])\nX_valid['day_of_week'] = le.fit_transform(X_valid['day_of_week'])\n",
   "execution_count": 31,
   "outputs": []
  },
  {
   "cell_type": "code",
   "metadata": {
    "cell_id": "68d03381d8024f82ba3c71875a144093",
    "tags": [],
    "deepnote_to_be_reexecuted": false,
    "source_hash": "7c234d23",
    "execution_start": 1648585462313,
    "execution_millis": 109,
    "deepnote_cell_type": "code",
    "deepnote_cell_height": 407.6875
   },
   "source": "X_train.head()",
   "execution_count": 32,
   "outputs": [
    {
     "output_type": "execute_result",
     "execution_count": 32,
     "data": {
      "application/vnd.deepnote.dataframe.v3+json": {
       "column_count": 11,
       "row_count": 5,
       "columns": [
        {
         "name": "row_id",
         "dtype": "int64",
         "stats": {
          "unique_count": 5,
          "nan_count": 0,
          "min": "0",
          "max": "4",
          "histogram": [
           {
            "bin_start": 0,
            "bin_end": 0.4,
            "count": 1
           },
           {
            "bin_start": 0.4,
            "bin_end": 0.8,
            "count": 0
           },
           {
            "bin_start": 0.8,
            "bin_end": 1.2000000000000002,
            "count": 1
           },
           {
            "bin_start": 1.2000000000000002,
            "bin_end": 1.6,
            "count": 0
           },
           {
            "bin_start": 1.6,
            "bin_end": 2,
            "count": 0
           },
           {
            "bin_start": 2,
            "bin_end": 2.4000000000000004,
            "count": 1
           },
           {
            "bin_start": 2.4000000000000004,
            "bin_end": 2.8000000000000003,
            "count": 0
           },
           {
            "bin_start": 2.8000000000000003,
            "bin_end": 3.2,
            "count": 1
           },
           {
            "bin_start": 3.2,
            "bin_end": 3.6,
            "count": 0
           },
           {
            "bin_start": 3.6,
            "bin_end": 4,
            "count": 1
           }
          ]
         }
        },
        {
         "name": "year",
         "dtype": "int64",
         "stats": {
          "unique_count": 1,
          "nan_count": 0,
          "min": "1991",
          "max": "1991",
          "histogram": [
           {
            "bin_start": 1990.5,
            "bin_end": 1990.6,
            "count": 0
           },
           {
            "bin_start": 1990.6,
            "bin_end": 1990.7,
            "count": 0
           },
           {
            "bin_start": 1990.7,
            "bin_end": 1990.8,
            "count": 0
           },
           {
            "bin_start": 1990.8,
            "bin_end": 1990.9,
            "count": 0
           },
           {
            "bin_start": 1990.9,
            "bin_end": 1991,
            "count": 0
           },
           {
            "bin_start": 1991,
            "bin_end": 1991.1,
            "count": 5
           },
           {
            "bin_start": 1991.1,
            "bin_end": 1991.2,
            "count": 0
           },
           {
            "bin_start": 1991.2,
            "bin_end": 1991.3,
            "count": 0
           },
           {
            "bin_start": 1991.3,
            "bin_end": 1991.4,
            "count": 0
           },
           {
            "bin_start": 1991.4,
            "bin_end": 1991.5,
            "count": 0
           }
          ]
         }
        },
        {
         "name": "hour",
         "dtype": "int64",
         "stats": {
          "unique_count": 1,
          "nan_count": 0,
          "min": "0",
          "max": "0",
          "histogram": [
           {
            "bin_start": -0.5,
            "bin_end": -0.4,
            "count": 0
           },
           {
            "bin_start": -0.4,
            "bin_end": -0.3,
            "count": 0
           },
           {
            "bin_start": -0.3,
            "bin_end": -0.19999999999999996,
            "count": 0
           },
           {
            "bin_start": -0.19999999999999996,
            "bin_end": -0.09999999999999998,
            "count": 0
           },
           {
            "bin_start": -0.09999999999999998,
            "bin_end": 0,
            "count": 0
           },
           {
            "bin_start": 0,
            "bin_end": 0.10000000000000009,
            "count": 5
           },
           {
            "bin_start": 0.10000000000000009,
            "bin_end": 0.20000000000000007,
            "count": 0
           },
           {
            "bin_start": 0.20000000000000007,
            "bin_end": 0.30000000000000004,
            "count": 0
           },
           {
            "bin_start": 0.30000000000000004,
            "bin_end": 0.4,
            "count": 0
           },
           {
            "bin_start": 0.4,
            "bin_end": 0.5,
            "count": 0
           }
          ]
         }
        },
        {
         "name": "week",
         "dtype": "UInt32",
         "stats": {
          "unique_count": 1,
          "nan_count": 0,
          "categories": [
           {
            "name": "14",
            "count": 5
           }
          ]
         }
        },
        {
         "name": "minute",
         "dtype": "int64",
         "stats": {
          "unique_count": 1,
          "nan_count": 0,
          "min": "0",
          "max": "0",
          "histogram": [
           {
            "bin_start": -0.5,
            "bin_end": -0.4,
            "count": 0
           },
           {
            "bin_start": -0.4,
            "bin_end": -0.3,
            "count": 0
           },
           {
            "bin_start": -0.3,
            "bin_end": -0.19999999999999996,
            "count": 0
           },
           {
            "bin_start": -0.19999999999999996,
            "bin_end": -0.09999999999999998,
            "count": 0
           },
           {
            "bin_start": -0.09999999999999998,
            "bin_end": 0,
            "count": 0
           },
           {
            "bin_start": 0,
            "bin_end": 0.10000000000000009,
            "count": 5
           },
           {
            "bin_start": 0.10000000000000009,
            "bin_end": 0.20000000000000007,
            "count": 0
           },
           {
            "bin_start": 0.20000000000000007,
            "bin_end": 0.30000000000000004,
            "count": 0
           },
           {
            "bin_start": 0.30000000000000004,
            "bin_end": 0.4,
            "count": 0
           },
           {
            "bin_start": 0.4,
            "bin_end": 0.5,
            "count": 0
           }
          ]
         }
        },
        {
         "name": "month",
         "dtype": "int64",
         "stats": {
          "unique_count": 1,
          "nan_count": 0,
          "min": "4",
          "max": "4",
          "histogram": [
           {
            "bin_start": 3.5,
            "bin_end": 3.6,
            "count": 0
           },
           {
            "bin_start": 3.6,
            "bin_end": 3.7,
            "count": 0
           },
           {
            "bin_start": 3.7,
            "bin_end": 3.8,
            "count": 0
           },
           {
            "bin_start": 3.8,
            "bin_end": 3.9,
            "count": 0
           },
           {
            "bin_start": 3.9,
            "bin_end": 4,
            "count": 0
           },
           {
            "bin_start": 4,
            "bin_end": 4.1,
            "count": 5
           },
           {
            "bin_start": 4.1,
            "bin_end": 4.2,
            "count": 0
           },
           {
            "bin_start": 4.2,
            "bin_end": 4.3,
            "count": 0
           },
           {
            "bin_start": 4.3,
            "bin_end": 4.4,
            "count": 0
           },
           {
            "bin_start": 4.4,
            "bin_end": 4.5,
            "count": 0
           }
          ]
         }
        },
        {
         "name": "day_of_week",
         "dtype": "int64",
         "stats": {
          "unique_count": 1,
          "nan_count": 0,
          "min": "1",
          "max": "1",
          "histogram": [
           {
            "bin_start": 0.5,
            "bin_end": 0.6,
            "count": 0
           },
           {
            "bin_start": 0.6,
            "bin_end": 0.7,
            "count": 0
           },
           {
            "bin_start": 0.7,
            "bin_end": 0.8,
            "count": 0
           },
           {
            "bin_start": 0.8,
            "bin_end": 0.9,
            "count": 0
           },
           {
            "bin_start": 0.9,
            "bin_end": 1,
            "count": 0
           },
           {
            "bin_start": 1,
            "bin_end": 1.1,
            "count": 5
           },
           {
            "bin_start": 1.1,
            "bin_end": 1.2000000000000002,
            "count": 0
           },
           {
            "bin_start": 1.2000000000000002,
            "bin_end": 1.3,
            "count": 0
           },
           {
            "bin_start": 1.3,
            "bin_end": 1.4,
            "count": 0
           },
           {
            "bin_start": 1.4,
            "bin_end": 1.5,
            "count": 0
           }
          ]
         }
        },
        {
         "name": "is_afternoon",
         "dtype": "int64",
         "stats": {
          "unique_count": 1,
          "nan_count": 0,
          "min": "0",
          "max": "0",
          "histogram": [
           {
            "bin_start": -0.5,
            "bin_end": -0.4,
            "count": 0
           },
           {
            "bin_start": -0.4,
            "bin_end": -0.3,
            "count": 0
           },
           {
            "bin_start": -0.3,
            "bin_end": -0.19999999999999996,
            "count": 0
           },
           {
            "bin_start": -0.19999999999999996,
            "bin_end": -0.09999999999999998,
            "count": 0
           },
           {
            "bin_start": -0.09999999999999998,
            "bin_end": 0,
            "count": 0
           },
           {
            "bin_start": 0,
            "bin_end": 0.10000000000000009,
            "count": 5
           },
           {
            "bin_start": 0.10000000000000009,
            "bin_end": 0.20000000000000007,
            "count": 0
           },
           {
            "bin_start": 0.20000000000000007,
            "bin_end": 0.30000000000000004,
            "count": 0
           },
           {
            "bin_start": 0.30000000000000004,
            "bin_end": 0.4,
            "count": 0
           },
           {
            "bin_start": 0.4,
            "bin_end": 0.5,
            "count": 0
           }
          ]
         }
        },
        {
         "name": "day_of_year",
         "dtype": "int64",
         "stats": {
          "unique_count": 1,
          "nan_count": 0,
          "min": "91",
          "max": "91",
          "histogram": [
           {
            "bin_start": 90.5,
            "bin_end": 90.6,
            "count": 0
           },
           {
            "bin_start": 90.6,
            "bin_end": 90.7,
            "count": 0
           },
           {
            "bin_start": 90.7,
            "bin_end": 90.8,
            "count": 0
           },
           {
            "bin_start": 90.8,
            "bin_end": 90.9,
            "count": 0
           },
           {
            "bin_start": 90.9,
            "bin_end": 91,
            "count": 0
           },
           {
            "bin_start": 91,
            "bin_end": 91.1,
            "count": 5
           },
           {
            "bin_start": 91.1,
            "bin_end": 91.2,
            "count": 0
           },
           {
            "bin_start": 91.2,
            "bin_end": 91.3,
            "count": 0
           },
           {
            "bin_start": 91.3,
            "bin_end": 91.4,
            "count": 0
           },
           {
            "bin_start": 91.4,
            "bin_end": 91.5,
            "count": 0
           }
          ]
         }
        },
        {
         "name": "is_weekend",
         "dtype": "int64",
         "stats": {
          "unique_count": 1,
          "nan_count": 0,
          "min": "0",
          "max": "0",
          "histogram": [
           {
            "bin_start": -0.5,
            "bin_end": -0.4,
            "count": 0
           },
           {
            "bin_start": -0.4,
            "bin_end": -0.3,
            "count": 0
           },
           {
            "bin_start": -0.3,
            "bin_end": -0.19999999999999996,
            "count": 0
           },
           {
            "bin_start": -0.19999999999999996,
            "bin_end": -0.09999999999999998,
            "count": 0
           },
           {
            "bin_start": -0.09999999999999998,
            "bin_end": 0,
            "count": 0
           },
           {
            "bin_start": 0,
            "bin_end": 0.10000000000000009,
            "count": 5
           },
           {
            "bin_start": 0.10000000000000009,
            "bin_end": 0.20000000000000007,
            "count": 0
           },
           {
            "bin_start": 0.20000000000000007,
            "bin_end": 0.30000000000000004,
            "count": 0
           },
           {
            "bin_start": 0.30000000000000004,
            "bin_end": 0.4,
            "count": 0
           },
           {
            "bin_start": 0.4,
            "bin_end": 0.5,
            "count": 0
           }
          ]
         }
        },
        {
         "name": "road",
         "dtype": "int64",
         "stats": {
          "unique_count": 5,
          "nan_count": 0,
          "min": "0",
          "max": "4",
          "histogram": [
           {
            "bin_start": 0,
            "bin_end": 0.4,
            "count": 1
           },
           {
            "bin_start": 0.4,
            "bin_end": 0.8,
            "count": 0
           },
           {
            "bin_start": 0.8,
            "bin_end": 1.2000000000000002,
            "count": 1
           },
           {
            "bin_start": 1.2000000000000002,
            "bin_end": 1.6,
            "count": 0
           },
           {
            "bin_start": 1.6,
            "bin_end": 2,
            "count": 0
           },
           {
            "bin_start": 2,
            "bin_end": 2.4000000000000004,
            "count": 1
           },
           {
            "bin_start": 2.4000000000000004,
            "bin_end": 2.8000000000000003,
            "count": 0
           },
           {
            "bin_start": 2.8000000000000003,
            "bin_end": 3.2,
            "count": 1
           },
           {
            "bin_start": 3.2,
            "bin_end": 3.6,
            "count": 0
           },
           {
            "bin_start": 3.6,
            "bin_end": 4,
            "count": 1
           }
          ]
         }
        },
        {
         "name": "_deepnote_index_column",
         "dtype": "datetime64[ns]"
        }
       ],
       "rows": [
        {
         "row_id": 0,
         "year": 1991,
         "hour": 0,
         "week": 14,
         "minute": 0,
         "month": 4,
         "day_of_week": 1,
         "is_afternoon": 0,
         "day_of_year": 91,
         "is_weekend": 0,
         "road": 0,
         "_deepnote_index_column": "1991-04-01T00:00:00.000000"
        },
        {
         "row_id": 1,
         "year": 1991,
         "hour": 0,
         "week": 14,
         "minute": 0,
         "month": 4,
         "day_of_week": 1,
         "is_afternoon": 0,
         "day_of_year": 91,
         "is_weekend": 0,
         "road": 1,
         "_deepnote_index_column": "1991-04-01T00:00:00.000000"
        },
        {
         "row_id": 2,
         "year": 1991,
         "hour": 0,
         "week": 14,
         "minute": 0,
         "month": 4,
         "day_of_week": 1,
         "is_afternoon": 0,
         "day_of_year": 91,
         "is_weekend": 0,
         "road": 2,
         "_deepnote_index_column": "1991-04-01T00:00:00.000000"
        },
        {
         "row_id": 3,
         "year": 1991,
         "hour": 0,
         "week": 14,
         "minute": 0,
         "month": 4,
         "day_of_week": 1,
         "is_afternoon": 0,
         "day_of_year": 91,
         "is_weekend": 0,
         "road": 3,
         "_deepnote_index_column": "1991-04-01T00:00:00.000000"
        },
        {
         "row_id": 4,
         "year": 1991,
         "hour": 0,
         "week": 14,
         "minute": 0,
         "month": 4,
         "day_of_week": 1,
         "is_afternoon": 0,
         "day_of_year": 91,
         "is_weekend": 0,
         "road": 4,
         "_deepnote_index_column": "1991-04-01T00:00:00.000000"
        }
       ]
      },
      "text/plain": "            row_id  year  hour  week  minute  month  day_of_week  \\\ntime                                                               \n1991-04-01       0  1991     0    14       0      4            1   \n1991-04-01       1  1991     0    14       0      4            1   \n1991-04-01       2  1991     0    14       0      4            1   \n1991-04-01       3  1991     0    14       0      4            1   \n1991-04-01       4  1991     0    14       0      4            1   \n\n            is_afternoon  day_of_year  is_weekend  road  \ntime                                                     \n1991-04-01             0           91           0     0  \n1991-04-01             0           91           0     1  \n1991-04-01             0           91           0     2  \n1991-04-01             0           91           0     3  \n1991-04-01             0           91           0     4  ",
      "text/html": "<div>\n<style scoped>\n    .dataframe tbody tr th:only-of-type {\n        vertical-align: middle;\n    }\n\n    .dataframe tbody tr th {\n        vertical-align: top;\n    }\n\n    .dataframe thead th {\n        text-align: right;\n    }\n</style>\n<table border=\"1\" class=\"dataframe\">\n  <thead>\n    <tr style=\"text-align: right;\">\n      <th></th>\n      <th>row_id</th>\n      <th>year</th>\n      <th>hour</th>\n      <th>week</th>\n      <th>minute</th>\n      <th>month</th>\n      <th>day_of_week</th>\n      <th>is_afternoon</th>\n      <th>day_of_year</th>\n      <th>is_weekend</th>\n      <th>road</th>\n    </tr>\n    <tr>\n      <th>time</th>\n      <th></th>\n      <th></th>\n      <th></th>\n      <th></th>\n      <th></th>\n      <th></th>\n      <th></th>\n      <th></th>\n      <th></th>\n      <th></th>\n      <th></th>\n    </tr>\n  </thead>\n  <tbody>\n    <tr>\n      <th>1991-04-01</th>\n      <td>0</td>\n      <td>1991</td>\n      <td>0</td>\n      <td>14</td>\n      <td>0</td>\n      <td>4</td>\n      <td>1</td>\n      <td>0</td>\n      <td>91</td>\n      <td>0</td>\n      <td>0</td>\n    </tr>\n    <tr>\n      <th>1991-04-01</th>\n      <td>1</td>\n      <td>1991</td>\n      <td>0</td>\n      <td>14</td>\n      <td>0</td>\n      <td>4</td>\n      <td>1</td>\n      <td>0</td>\n      <td>91</td>\n      <td>0</td>\n      <td>1</td>\n    </tr>\n    <tr>\n      <th>1991-04-01</th>\n      <td>2</td>\n      <td>1991</td>\n      <td>0</td>\n      <td>14</td>\n      <td>0</td>\n      <td>4</td>\n      <td>1</td>\n      <td>0</td>\n      <td>91</td>\n      <td>0</td>\n      <td>2</td>\n    </tr>\n    <tr>\n      <th>1991-04-01</th>\n      <td>3</td>\n      <td>1991</td>\n      <td>0</td>\n      <td>14</td>\n      <td>0</td>\n      <td>4</td>\n      <td>1</td>\n      <td>0</td>\n      <td>91</td>\n      <td>0</td>\n      <td>3</td>\n    </tr>\n    <tr>\n      <th>1991-04-01</th>\n      <td>4</td>\n      <td>1991</td>\n      <td>0</td>\n      <td>14</td>\n      <td>0</td>\n      <td>4</td>\n      <td>1</td>\n      <td>0</td>\n      <td>91</td>\n      <td>0</td>\n      <td>4</td>\n    </tr>\n  </tbody>\n</table>\n</div>"
     },
     "metadata": {}
    }
   ]
  },
  {
   "cell_type": "markdown",
   "source": "#### 1. Random Forest",
   "metadata": {
    "cell_id": "e04a652ba46a4149af61d5e67294c4b5",
    "tags": [],
    "deepnote_cell_type": "markdown",
    "deepnote_cell_height": 53.9375
   }
  },
  {
   "cell_type": "code",
   "metadata": {
    "cell_id": "53c41e89746341d9a1467db30e9bf097",
    "tags": [],
    "deepnote_to_be_reexecuted": false,
    "source_hash": "3a84f9ba",
    "execution_start": 1648585462325,
    "execution_millis": 30981,
    "deepnote_cell_type": "code",
    "deepnote_cell_height": 565.9375
   },
   "source": "rf = RandomForestRegressor(n_estimators=0, max_samples=0.03,\n                             n_jobs=-1, random_state=1)\n\n\nestimators_list, mae_list = [], []\nn_estimators = 4\ninitialized = False\nwhile n_estimators < 256:\n    n_estimators *= 4\n    \n    rf.set_params(n_estimators=n_estimators,\n                    warm_start=initialized)\n    \n    rf.fit(X_train, y_train)\n    \n    initialized = True\n\n    # Compute the (intermediate) validation score\n    y_va_pred = rf.predict(X_valid)\n    \n    estimators_list.append(rf.get_params()['n_estimators'])\n    mae_list.append(mean_absolute_error(y_valid, y_va_pred))\n    print(f\"{estimators_list[-1]:4} estimators:   \"\n          f\"Validation MAE = {mae_list[-1]:.5f}\")",
   "execution_count": 33,
   "outputs": [
    {
     "name": "stdout",
     "text": "  16 estimators:   Validation MAE = 6.09565\n  64 estimators:   Validation MAE = 5.85653\n 256 estimators:   Validation MAE = 5.81780\n",
     "output_type": "stream"
    }
   ]
  },
  {
   "cell_type": "code",
   "metadata": {
    "cell_id": "78b7b7079e994206958b8786cec2f3de",
    "tags": [],
    "deepnote_to_be_reexecuted": false,
    "source_hash": "de412d7b",
    "execution_start": 1648585493310,
    "execution_millis": 3,
    "deepnote_cell_type": "code",
    "deepnote_cell_height": 910.09375,
    "deepnote_output_heights": [
     21.171875
    ]
   },
   "source": "'''\n\n#### utils ####\n\n# concat/split train and test datasets\n\nall_df = pd.concat([train_df, test_df])\n\nall_df = feature_eng(all_df)\n\ntrain_df = all_df[:len(train_df)]\ntest_df = all_df[-len(test_df):]\n\n\n# drop label from test dataset\n\ntest_df = test_df.drop('congestion', axis=1)\ntest_df.head()\n\n# feature importance \n\nfeature_importance_df = pd.DataFrame(model_cat.get_feature_importance(prettified=True))\nfeature_importance_df\n\n# creating congestion min, max and median columns group by 'road', 'weekday', 'hour', 'minute'\n# (think how to implement without data leak)\n\n# min\nmins = pd.DataFrame(data.groupby(['road', 'weekday', 'moment']).congestion.min().astype(int)).reset_index()\nmins = mins.rename(columns={'congestion':'min'})\ndata = data.merge(mins, on=['road', 'weekday', 'moment'], how='left')\n\n# max\nmaxs = pd.DataFrame(data.groupby(['road', 'weekday', 'moment']).congestion.max().astype(int)).reset_index()\nmaxs = maxs.rename(columns={'congestion':'max'})\ndata = data.merge(maxs, on=['road', 'weekday', 'moment'], how='left')\n\n# median\nmedians = pd.DataFrame(data.groupby(['road', 'weekday', 'moment']).congestion.median().astype(int)).reset_index()\nmedians = medians.rename(columns={'congestion':'median'})\ndata = data.merge(medians, on=['road', 'weekday', 'moment'], how='left')\n\n\n\n'''",
   "execution_count": 34,
   "outputs": [
    {
     "output_type": "execute_result",
     "execution_count": 34,
     "data": {
      "text/plain": "\"\\n\\n#### utils ####\\n\\n# concat/split train and test datasets\\n\\nall_df = pd.concat([train_df, test_df])\\n\\nall_df = feature_eng(all_df)\\n\\ntrain_df = all_df[:len(train_df)]\\ntest_df = all_df[-len(test_df):]\\n\\n\\n# drop label from test dataset\\n\\ntest_df = test_df.drop('congestion', axis=1)\\ntest_df.head()\\n\\n# feature importance \\n\\nfeature_importance_df = pd.DataFrame(model_cat.get_feature_importance(prettified=True))\\nfeature_importance_df\\n\\n# creating congestion min, max and median columns group by 'road', 'weekday', 'hour', 'minute'\\n# (think how to implement without data leak)\\n\\n# min\\nmins = pd.DataFrame(data.groupby(['road', 'weekday', 'moment']).congestion.min().astype(int)).reset_index()\\nmins = mins.rename(columns={'congestion':'min'})\\ndata = data.merge(mins, on=['road', 'weekday', 'moment'], how='left')\\n\\n# max\\nmaxs = pd.DataFrame(data.groupby(['road', 'weekday', 'moment']).congestion.max().astype(int)).reset_index()\\nmaxs = maxs.rename(columns={'congestion':'max'})\\ndata = data.merge(maxs, on=['road', 'weekday', 'moment'], how='left')\\n\\n# median\\nmedians = pd.DataFrame(data.groupby(['road', 'weekday', 'moment']).congestion.median().astype(int)).reset_index()\\nmedians = medians.rename(columns={'congestion':'median'})\\ndata = data.merge(medians, on=['road', 'weekday', 'moment'], how='left')\\n\\n\\n\\n\""
     },
     "metadata": {}
    }
   ]
  },
  {
   "cell_type": "code",
   "metadata": {
    "cell_id": "def2e218444849bfba3d8feffdf39036",
    "tags": [],
    "deepnote_to_be_reexecuted": false,
    "source_hash": "b623e53d",
    "execution_start": 1648585493315,
    "execution_millis": 2,
    "deepnote_cell_type": "code",
    "deepnote_cell_height": 80.9375
   },
   "source": "",
   "execution_count": 34,
   "outputs": []
  },
  {
   "cell_type": "markdown",
   "source": "<a style='text-decoration:none;line-height:16px;display:flex;color:#5B5B62;padding:10px;justify-content:end;' href='https://deepnote.com?utm_source=created-in-deepnote-cell&projectId=3035cbe1-744b-40d6-9d24-00f96529caea' target=\"_blank\">\n<img alt='Created in deepnote.com' style='display:inline;max-height:16px;margin:0px;margin-right:7.5px;' src='data:image/svg+xml;base64,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' > </img>\nCreated in <span style='font-weight:600;margin-left:4px;'>Deepnote</span></a>",
   "metadata": {
    "tags": [],
    "created_in_deepnote_cell": true,
    "deepnote_cell_type": "markdown"
   }
  }
 ],
 "nbformat": 4,
 "nbformat_minor": 2,
 "metadata": {
  "orig_nbformat": 2,
  "deepnote": {
   "is_reactive": false
  },
  "deepnote_notebook_id": "75a5a406-63d1-4f44-bed2-146c258761d3",
  "deepnote_execution_queue": []
 }
}