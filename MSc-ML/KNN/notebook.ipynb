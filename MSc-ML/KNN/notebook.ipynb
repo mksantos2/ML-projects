{
 "cells": [
  {
   "cell_type": "markdown",
   "source": "## K-Nearest Neighbors\n----------\n\\\n**Moniele Kunrath Santos**",
   "metadata": {
    "cell_id": "2e035bf5-24a0-4df7-b964-39f3bfae5e87",
    "tags": [],
    "deepnote_cell_type": "markdown",
    "deepnote_cell_height": 131.6875
   }
  },
  {
   "cell_type": "code",
   "metadata": {
    "cell_id": "c59c2b8f-928d-4a62-98b3-fe14f17dc056",
    "tags": [],
    "deepnote_to_be_reexecuted": false,
    "source_hash": "a3332b0a",
    "execution_start": 1643226778096,
    "execution_millis": 12957,
    "deepnote_cell_type": "code",
    "deepnote_cell_height": 170.9375
   },
   "source": "# imports \n\nimport pandas as pd\nimport numpy\nfrom sklearn.neighbors import KNeighborsClassifier\n",
   "execution_count": null,
   "outputs": []
  },
  {
   "cell_type": "code",
   "metadata": {
    "cell_id": "d05250a9-18f3-4698-bebe-340abb4cd727",
    "tags": [],
    "deepnote_to_be_reexecuted": false,
    "source_hash": "570311f5",
    "execution_start": 1643226791063,
    "execution_millis": 9713,
    "deepnote_cell_type": "code",
    "deepnote_cell_height": 404.9375
   },
   "source": "## loading data\n\n\npath = '/work/masters-degree-class-assignments/AM/KNN/'\n\n# train datasets\n\nX_Originais_2Features = pd.read_csv(path+'Dados_Originais_2Features/TrainingData_2F_Original.txt', delimiter='\\t')\nX_Normalizados_2Features = pd.read_csv(path+'Dados_Normalizados_2Features/TrainingData_2F_Norm.txt', delimiter='\\t')\nX_Originais_11Features = pd.read_csv(path+'Dados_Originais_11Features/TrainingData_11F_Original.txt', delimiter='\\t')\nX_Normalizados_11Features = pd.read_csv(path+'Dados_Normalizados_11Features/TrainingData_11F_Norm.txt', delimiter='\\t')\n\n# test datasets\n\nY_Originais_2Features = pd.read_csv(path+'Dados_Originais_2Features/TestingData_2F_Original.txt', delimiter='\\t')\nY_Normalizados_2Features = pd.read_csv(path+'Dados_Normalizados_2Features/TestingData_2F_Norm.txt', delimiter='\\t')\nY_Originais_11Features = pd.read_csv(path+'Dados_Originais_11Features/TestingData_11F_Original.txt', delimiter='\\t')\nY_Normalizados_11Features = pd.read_csv(path+'Dados_Normalizados_11Features/TestingData_11F_Norm.txt', delimiter='\\t')\n",
   "execution_count": null,
   "outputs": []
  },
  {
   "cell_type": "code",
   "metadata": {
    "cell_id": "d513224c-566b-4ee6-a27c-a175b08f6272",
    "tags": [],
    "deepnote_to_be_reexecuted": false,
    "source_hash": "249ba2f2",
    "execution_start": 1643226800785,
    "execution_millis": 302,
    "deepnote_cell_type": "code",
    "deepnote_cell_height": 366.6875
   },
   "source": "Y_Originais_11Features.head()",
   "execution_count": null,
   "outputs": [
    {
     "output_type": "execute_result",
     "execution_count": 3,
     "data": {
      "application/vnd.deepnote.dataframe.v3+json": {
       "column_count": 13,
       "row_count": 4,
       "columns": [
        {
         "name": "ID",
         "dtype": "object",
         "stats": {
          "unique_count": 4,
          "nan_count": 0,
          "categories": [
           {
            "name": "N1",
            "count": 1
           },
           {
            "name": "N2",
            "count": 1
           },
           {
            "name": "2 others",
            "count": 2
           }
          ]
         }
        },
        {
         "name": "fixed.acidity",
         "dtype": "float64",
         "stats": {
          "unique_count": 4,
          "nan_count": 0,
          "min": "6.0",
          "max": "10.1",
          "histogram": [
           {
            "bin_start": 6,
            "bin_end": 6.41,
            "count": 1
           },
           {
            "bin_start": 6.41,
            "bin_end": 6.82,
            "count": 0
           },
           {
            "bin_start": 6.82,
            "bin_end": 7.23,
            "count": 1
           },
           {
            "bin_start": 7.23,
            "bin_end": 7.64,
            "count": 0
           },
           {
            "bin_start": 7.64,
            "bin_end": 8.05,
            "count": 1
           },
           {
            "bin_start": 8.05,
            "bin_end": 8.46,
            "count": 0
           },
           {
            "bin_start": 8.46,
            "bin_end": 8.87,
            "count": 0
           },
           {
            "bin_start": 8.87,
            "bin_end": 9.28,
            "count": 0
           },
           {
            "bin_start": 9.28,
            "bin_end": 9.69,
            "count": 0
           },
           {
            "bin_start": 9.69,
            "bin_end": 10.1,
            "count": 1
           }
          ]
         }
        },
        {
         "name": "volatile.acidity",
         "dtype": "float64",
         "stats": {
          "unique_count": 4,
          "nan_count": 0,
          "min": "0.38",
          "max": "0.5",
          "histogram": [
           {
            "bin_start": 0.38,
            "bin_end": 0.392,
            "count": 1
           },
           {
            "bin_start": 0.392,
            "bin_end": 0.404,
            "count": 0
           },
           {
            "bin_start": 0.404,
            "bin_end": 0.41600000000000004,
            "count": 1
           },
           {
            "bin_start": 0.41600000000000004,
            "bin_end": 0.428,
            "count": 0
           },
           {
            "bin_start": 0.428,
            "bin_end": 0.44,
            "count": 0
           },
           {
            "bin_start": 0.44,
            "bin_end": 0.452,
            "count": 0
           },
           {
            "bin_start": 0.452,
            "bin_end": 0.464,
            "count": 0
           },
           {
            "bin_start": 0.464,
            "bin_end": 0.476,
            "count": 0
           },
           {
            "bin_start": 0.476,
            "bin_end": 0.488,
            "count": 1
           },
           {
            "bin_start": 0.488,
            "bin_end": 0.5,
            "count": 1
           }
          ]
         }
        },
        {
         "name": "citric.acid",
         "dtype": "float64",
         "stats": {
          "unique_count": 4,
          "nan_count": 0,
          "min": "0.0",
          "max": "0.68",
          "histogram": [
           {
            "bin_start": 0,
            "bin_end": 0.068,
            "count": 1
           },
           {
            "bin_start": 0.068,
            "bin_end": 0.136,
            "count": 0
           },
           {
            "bin_start": 0.136,
            "bin_end": 0.20400000000000001,
            "count": 0
           },
           {
            "bin_start": 0.20400000000000001,
            "bin_end": 0.272,
            "count": 0
           },
           {
            "bin_start": 0.272,
            "bin_end": 0.34,
            "count": 1
           },
           {
            "bin_start": 0.34,
            "bin_end": 0.40800000000000003,
            "count": 0
           },
           {
            "bin_start": 0.40800000000000003,
            "bin_end": 0.47600000000000003,
            "count": 0
           },
           {
            "bin_start": 0.47600000000000003,
            "bin_end": 0.544,
            "count": 1
           },
           {
            "bin_start": 0.544,
            "bin_end": 0.6120000000000001,
            "count": 0
           },
           {
            "bin_start": 0.6120000000000001,
            "bin_end": 0.68,
            "count": 1
           }
          ]
         }
        },
        {
         "name": "residual.sugar",
         "dtype": "float64",
         "stats": {
          "unique_count": 4,
          "nan_count": 0,
          "min": "1.4",
          "max": "2.4",
          "histogram": [
           {
            "bin_start": 1.4,
            "bin_end": 1.5,
            "count": 1
           },
           {
            "bin_start": 1.5,
            "bin_end": 1.5999999999999999,
            "count": 0
           },
           {
            "bin_start": 1.5999999999999999,
            "bin_end": 1.7,
            "count": 0
           },
           {
            "bin_start": 1.7,
            "bin_end": 1.7999999999999998,
            "count": 1
           },
           {
            "bin_start": 1.7999999999999998,
            "bin_end": 1.9,
            "count": 0
           },
           {
            "bin_start": 1.9,
            "bin_end": 2,
            "count": 0
           },
           {
            "bin_start": 2,
            "bin_end": 2.1,
            "count": 0
           },
           {
            "bin_start": 2.1,
            "bin_end": 2.2,
            "count": 1
           },
           {
            "bin_start": 2.2,
            "bin_end": 2.3,
            "count": 0
           },
           {
            "bin_start": 2.3,
            "bin_end": 2.4,
            "count": 1
           }
          ]
         }
        },
        {
         "name": "chlorides",
         "dtype": "float64",
         "stats": {
          "unique_count": 4,
          "nan_count": 0,
          "min": "0.057",
          "max": "0.415",
          "histogram": [
           {
            "bin_start": 0.057,
            "bin_end": 0.0928,
            "count": 2
           },
           {
            "bin_start": 0.0928,
            "bin_end": 0.1286,
            "count": 1
           },
           {
            "bin_start": 0.1286,
            "bin_end": 0.1644,
            "count": 0
           },
           {
            "bin_start": 0.1644,
            "bin_end": 0.2002,
            "count": 0
           },
           {
            "bin_start": 0.2002,
            "bin_end": 0.236,
            "count": 0
           },
           {
            "bin_start": 0.236,
            "bin_end": 0.2718,
            "count": 0
           },
           {
            "bin_start": 0.2718,
            "bin_end": 0.3076,
            "count": 0
           },
           {
            "bin_start": 0.3076,
            "bin_end": 0.3434,
            "count": 0
           },
           {
            "bin_start": 0.3434,
            "bin_end": 0.3792,
            "count": 0
           },
           {
            "bin_start": 0.3792,
            "bin_end": 0.415,
            "count": 1
           }
          ]
         }
        },
        {
         "name": "free.sulfur.dioxide",
         "dtype": "int64",
         "stats": {
          "unique_count": 4,
          "nan_count": 0,
          "min": "6",
          "max": "35",
          "histogram": [
           {
            "bin_start": 6,
            "bin_end": 8.9,
            "count": 1
           },
           {
            "bin_start": 8.9,
            "bin_end": 11.8,
            "count": 0
           },
           {
            "bin_start": 11.8,
            "bin_end": 14.7,
            "count": 1
           },
           {
            "bin_start": 14.7,
            "bin_end": 17.6,
            "count": 1
           },
           {
            "bin_start": 17.6,
            "bin_end": 20.5,
            "count": 0
           },
           {
            "bin_start": 20.5,
            "bin_end": 23.4,
            "count": 0
           },
           {
            "bin_start": 23.4,
            "bin_end": 26.3,
            "count": 0
           },
           {
            "bin_start": 26.3,
            "bin_end": 29.2,
            "count": 0
           },
           {
            "bin_start": 29.2,
            "bin_end": 32.099999999999994,
            "count": 0
           },
           {
            "bin_start": 32.099999999999994,
            "bin_end": 35,
            "count": 1
           }
          ]
         }
        },
        {
         "name": "total.sulfur.dioxide",
         "dtype": "int64",
         "stats": {
          "unique_count": 4,
          "nan_count": 0,
          "min": "13",
          "max": "72",
          "histogram": [
           {
            "bin_start": 13,
            "bin_end": 18.9,
            "count": 1
           },
           {
            "bin_start": 18.9,
            "bin_end": 24.8,
            "count": 0
           },
           {
            "bin_start": 24.8,
            "bin_end": 30.700000000000003,
            "count": 1
           },
           {
            "bin_start": 30.700000000000003,
            "bin_end": 36.6,
            "count": 1
           },
           {
            "bin_start": 36.6,
            "bin_end": 42.5,
            "count": 0
           },
           {
            "bin_start": 42.5,
            "bin_end": 48.400000000000006,
            "count": 0
           },
           {
            "bin_start": 48.400000000000006,
            "bin_end": 54.300000000000004,
            "count": 0
           },
           {
            "bin_start": 54.300000000000004,
            "bin_end": 60.2,
            "count": 0
           },
           {
            "bin_start": 60.2,
            "bin_end": 66.1,
            "count": 0
           },
           {
            "bin_start": 66.1,
            "bin_end": 72,
            "count": 1
           }
          ]
         }
        },
        {
         "name": "density",
         "dtype": "float64",
         "stats": {
          "unique_count": 4,
          "nan_count": 0,
          "min": "0.99448",
          "max": "0.997",
          "histogram": [
           {
            "bin_start": 0.99448,
            "bin_end": 0.9947320000000001,
            "count": 1
           },
           {
            "bin_start": 0.9947320000000001,
            "bin_end": 0.994984,
            "count": 0
           },
           {
            "bin_start": 0.994984,
            "bin_end": 0.995236,
            "count": 0
           },
           {
            "bin_start": 0.995236,
            "bin_end": 0.995488,
            "count": 0
           },
           {
            "bin_start": 0.995488,
            "bin_end": 0.9957400000000001,
            "count": 0
           },
           {
            "bin_start": 0.9957400000000001,
            "bin_end": 0.995992,
            "count": 0
           },
           {
            "bin_start": 0.995992,
            "bin_end": 0.996244,
            "count": 0
           },
           {
            "bin_start": 0.996244,
            "bin_end": 0.996496,
            "count": 1
           },
           {
            "bin_start": 0.996496,
            "bin_end": 0.996748,
            "count": 1
           },
           {
            "bin_start": 0.996748,
            "bin_end": 0.997,
            "count": 1
           }
          ]
         }
        },
        {
         "name": "pH",
         "dtype": "float64",
         "stats": {
          "unique_count": 4,
          "nan_count": 0,
          "min": "3.09",
          "max": "3.44",
          "histogram": [
           {
            "bin_start": 3.09,
            "bin_end": 3.125,
            "count": 1
           },
           {
            "bin_start": 3.125,
            "bin_end": 3.1599999999999997,
            "count": 0
           },
           {
            "bin_start": 3.1599999999999997,
            "bin_end": 3.195,
            "count": 0
           },
           {
            "bin_start": 3.195,
            "bin_end": 3.23,
            "count": 1
           },
           {
            "bin_start": 3.23,
            "bin_end": 3.2649999999999997,
            "count": 0
           },
           {
            "bin_start": 3.2649999999999997,
            "bin_end": 3.3,
            "count": 0
           },
           {
            "bin_start": 3.3,
            "bin_end": 3.335,
            "count": 0
           },
           {
            "bin_start": 3.335,
            "bin_end": 3.37,
            "count": 1
           },
           {
            "bin_start": 3.37,
            "bin_end": 3.405,
            "count": 0
           },
           {
            "bin_start": 3.405,
            "bin_end": 3.44,
            "count": 1
           }
          ]
         }
        },
        {
         "name": "sulphates",
         "dtype": "float64",
         "stats": {
          "unique_count": 4,
          "nan_count": 0,
          "min": "0.45",
          "max": "1.06",
          "histogram": [
           {
            "bin_start": 0.45,
            "bin_end": 0.511,
            "count": 1
           },
           {
            "bin_start": 0.511,
            "bin_end": 0.5720000000000001,
            "count": 1
           },
           {
            "bin_start": 0.5720000000000001,
            "bin_end": 0.633,
            "count": 0
           },
           {
            "bin_start": 0.633,
            "bin_end": 0.6940000000000001,
            "count": 1
           },
           {
            "bin_start": 0.6940000000000001,
            "bin_end": 0.7550000000000001,
            "count": 0
           },
           {
            "bin_start": 0.7550000000000001,
            "bin_end": 0.8160000000000001,
            "count": 0
           },
           {
            "bin_start": 0.8160000000000001,
            "bin_end": 0.8770000000000001,
            "count": 0
           },
           {
            "bin_start": 0.8770000000000001,
            "bin_end": 0.9380000000000002,
            "count": 0
           },
           {
            "bin_start": 0.9380000000000002,
            "bin_end": 0.9990000000000001,
            "count": 0
           },
           {
            "bin_start": 0.9990000000000001,
            "bin_end": 1.06,
            "count": 1
           }
          ]
         }
        },
        {
         "name": "alcohol",
         "dtype": "float64",
         "stats": {
          "unique_count": 4,
          "nan_count": 0,
          "min": "9.1",
          "max": "11.6",
          "histogram": [
           {
            "bin_start": 9.1,
            "bin_end": 9.35,
            "count": 1
           },
           {
            "bin_start": 9.35,
            "bin_end": 9.6,
            "count": 2
           },
           {
            "bin_start": 9.6,
            "bin_end": 9.85,
            "count": 0
           },
           {
            "bin_start": 9.85,
            "bin_end": 10.1,
            "count": 0
           },
           {
            "bin_start": 10.1,
            "bin_end": 10.35,
            "count": 0
           },
           {
            "bin_start": 10.35,
            "bin_end": 10.6,
            "count": 0
           },
           {
            "bin_start": 10.6,
            "bin_end": 10.85,
            "count": 0
           },
           {
            "bin_start": 10.85,
            "bin_end": 11.1,
            "count": 0
           },
           {
            "bin_start": 11.1,
            "bin_end": 11.35,
            "count": 0
           },
           {
            "bin_start": 11.35,
            "bin_end": 11.6,
            "count": 1
           }
          ]
         }
        },
        {
         "name": "class",
         "dtype": "int64",
         "stats": {
          "unique_count": 2,
          "nan_count": 0,
          "min": "0",
          "max": "1",
          "histogram": [
           {
            "bin_start": 0,
            "bin_end": 0.1,
            "count": 2
           },
           {
            "bin_start": 0.1,
            "bin_end": 0.2,
            "count": 0
           },
           {
            "bin_start": 0.2,
            "bin_end": 0.30000000000000004,
            "count": 0
           },
           {
            "bin_start": 0.30000000000000004,
            "bin_end": 0.4,
            "count": 0
           },
           {
            "bin_start": 0.4,
            "bin_end": 0.5,
            "count": 0
           },
           {
            "bin_start": 0.5,
            "bin_end": 0.6000000000000001,
            "count": 0
           },
           {
            "bin_start": 0.6000000000000001,
            "bin_end": 0.7000000000000001,
            "count": 0
           },
           {
            "bin_start": 0.7000000000000001,
            "bin_end": 0.8,
            "count": 0
           },
           {
            "bin_start": 0.8,
            "bin_end": 0.9,
            "count": 0
           },
           {
            "bin_start": 0.9,
            "bin_end": 1,
            "count": 2
           }
          ]
         }
        },
        {
         "name": "_deepnote_index_column",
         "dtype": "int64"
        }
       ],
       "rows": [
        {
         "ID": "N1",
         "fixed.acidity": 6,
         "volatile.acidity": 0.5,
         "citric.acid": 0,
         "residual.sugar": 1.4,
         "chlorides": 0.057,
         "free.sulfur.dioxide": 15,
         "total.sulfur.dioxide": 26,
         "density": 0.99448,
         "pH": 3.36,
         "sulphates": 0.45,
         "alcohol": 9.5,
         "class": 0,
         "_deepnote_index_column": 0
        },
        {
         "ID": "N2",
         "fixed.acidity": 7.2,
         "volatile.acidity": 0.41,
         "citric.acid": 0.3,
         "residual.sugar": 2.1,
         "chlorides": 0.083,
         "free.sulfur.dioxide": 35,
         "total.sulfur.dioxide": 72,
         "density": 0.997,
         "pH": 3.44,
         "sulphates": 0.52,
         "alcohol": 9.4,
         "class": 0,
         "_deepnote_index_column": 1
        },
        {
         "ID": "N3",
         "fixed.acidity": 10.1,
         "volatile.acidity": 0.38,
         "citric.acid": 0.5,
         "residual.sugar": 2.4,
         "chlorides": 0.104,
         "free.sulfur.dioxide": 6,
         "total.sulfur.dioxide": 13,
         "density": 0.99643,
         "pH": 3.22,
         "sulphates": 0.65,
         "alcohol": 11.6,
         "class": 1,
         "_deepnote_index_column": 2
        },
        {
         "ID": "N4",
         "fixed.acidity": 7.8,
         "volatile.acidity": 0.48,
         "citric.acid": 0.68,
         "residual.sugar": 1.7,
         "chlorides": 0.415,
         "free.sulfur.dioxide": 14,
         "total.sulfur.dioxide": 32,
         "density": 0.99656,
         "pH": 3.09,
         "sulphates": 1.06,
         "alcohol": 9.1,
         "class": 1,
         "_deepnote_index_column": 3
        }
       ]
      },
      "text/plain": "   ID  fixed.acidity  volatile.acidity  citric.acid  residual.sugar  \\\n0  N1            6.0              0.50         0.00             1.4   \n1  N2            7.2              0.41         0.30             2.1   \n2  N3           10.1              0.38         0.50             2.4   \n3  N4            7.8              0.48         0.68             1.7   \n\n   chlorides  free.sulfur.dioxide  total.sulfur.dioxide  density    pH  \\\n0      0.057                   15                    26  0.99448  3.36   \n1      0.083                   35                    72  0.99700  3.44   \n2      0.104                    6                    13  0.99643  3.22   \n3      0.415                   14                    32  0.99656  3.09   \n\n   sulphates  alcohol  class  \n0       0.45      9.5      0  \n1       0.52      9.4      0  \n2       0.65     11.6      1  \n3       1.06      9.1      1  ",
      "text/html": "<div>\n<style scoped>\n    .dataframe tbody tr th:only-of-type {\n        vertical-align: middle;\n    }\n\n    .dataframe tbody tr th {\n        vertical-align: top;\n    }\n\n    .dataframe thead th {\n        text-align: right;\n    }\n</style>\n<table border=\"1\" class=\"dataframe\">\n  <thead>\n    <tr style=\"text-align: right;\">\n      <th></th>\n      <th>ID</th>\n      <th>fixed.acidity</th>\n      <th>volatile.acidity</th>\n      <th>citric.acid</th>\n      <th>residual.sugar</th>\n      <th>chlorides</th>\n      <th>free.sulfur.dioxide</th>\n      <th>total.sulfur.dioxide</th>\n      <th>density</th>\n      <th>pH</th>\n      <th>sulphates</th>\n      <th>alcohol</th>\n      <th>class</th>\n    </tr>\n  </thead>\n  <tbody>\n    <tr>\n      <th>0</th>\n      <td>N1</td>\n      <td>6.0</td>\n      <td>0.50</td>\n      <td>0.00</td>\n      <td>1.4</td>\n      <td>0.057</td>\n      <td>15</td>\n      <td>26</td>\n      <td>0.99448</td>\n      <td>3.36</td>\n      <td>0.45</td>\n      <td>9.5</td>\n      <td>0</td>\n    </tr>\n    <tr>\n      <th>1</th>\n      <td>N2</td>\n      <td>7.2</td>\n      <td>0.41</td>\n      <td>0.30</td>\n      <td>2.1</td>\n      <td>0.083</td>\n      <td>35</td>\n      <td>72</td>\n      <td>0.99700</td>\n      <td>3.44</td>\n      <td>0.52</td>\n      <td>9.4</td>\n      <td>0</td>\n    </tr>\n    <tr>\n      <th>2</th>\n      <td>N3</td>\n      <td>10.1</td>\n      <td>0.38</td>\n      <td>0.50</td>\n      <td>2.4</td>\n      <td>0.104</td>\n      <td>6</td>\n      <td>13</td>\n      <td>0.99643</td>\n      <td>3.22</td>\n      <td>0.65</td>\n      <td>11.6</td>\n      <td>1</td>\n    </tr>\n    <tr>\n      <th>3</th>\n      <td>N4</td>\n      <td>7.8</td>\n      <td>0.48</td>\n      <td>0.68</td>\n      <td>1.7</td>\n      <td>0.415</td>\n      <td>14</td>\n      <td>32</td>\n      <td>0.99656</td>\n      <td>3.09</td>\n      <td>1.06</td>\n      <td>9.1</td>\n      <td>1</td>\n    </tr>\n  </tbody>\n</table>\n</div>"
     },
     "metadata": {}
    }
   ]
  },
  {
   "cell_type": "code",
   "metadata": {
    "cell_id": "0705853f-2415-4649-a017-bfa776fc9cd2",
    "tags": [],
    "deepnote_to_be_reexecuted": false,
    "source_hash": "45302991",
    "execution_start": 1643226800942,
    "execution_millis": 147,
    "deepnote_cell_type": "code",
    "deepnote_cell_height": 392.875
   },
   "source": "X_Originais_2Features.head()",
   "execution_count": null,
   "outputs": [
    {
     "output_type": "execute_result",
     "execution_count": 4,
     "data": {
      "application/vnd.deepnote.dataframe.v3+json": {
       "column_count": 4,
       "row_count": 5,
       "columns": [
        {
         "name": "ID",
         "dtype": "object",
         "stats": {
          "unique_count": 5,
          "nan_count": 0,
          "categories": [
           {
            "name": "T1",
            "count": 1
           },
           {
            "name": "T2",
            "count": 1
           },
           {
            "name": "3 others",
            "count": 3
           }
          ]
         }
        },
        {
         "name": "total.sulfur.dioxide",
         "dtype": "float64",
         "stats": {
          "unique_count": 5,
          "nan_count": 0,
          "min": "39.0",
          "max": "110.0",
          "histogram": [
           {
            "bin_start": 39,
            "bin_end": 46.1,
            "count": 1
           },
           {
            "bin_start": 46.1,
            "bin_end": 53.2,
            "count": 0
           },
           {
            "bin_start": 53.2,
            "bin_end": 60.3,
            "count": 0
           },
           {
            "bin_start": 60.3,
            "bin_end": 67.4,
            "count": 1
           },
           {
            "bin_start": 67.4,
            "bin_end": 74.5,
            "count": 0
           },
           {
            "bin_start": 74.5,
            "bin_end": 81.6,
            "count": 1
           },
           {
            "bin_start": 81.6,
            "bin_end": 88.69999999999999,
            "count": 0
           },
           {
            "bin_start": 88.69999999999999,
            "bin_end": 95.8,
            "count": 1
           },
           {
            "bin_start": 95.8,
            "bin_end": 102.9,
            "count": 0
           },
           {
            "bin_start": 102.9,
            "bin_end": 110,
            "count": 1
           }
          ]
         }
        },
        {
         "name": "citric.acid",
         "dtype": "float64",
         "stats": {
          "unique_count": 5,
          "nan_count": 0,
          "min": "0.0",
          "max": "0.41",
          "histogram": [
           {
            "bin_start": 0,
            "bin_end": 0.040999999999999995,
            "count": 1
           },
           {
            "bin_start": 0.040999999999999995,
            "bin_end": 0.08199999999999999,
            "count": 0
           },
           {
            "bin_start": 0.08199999999999999,
            "bin_end": 0.12299999999999998,
            "count": 0
           },
           {
            "bin_start": 0.12299999999999998,
            "bin_end": 0.16399999999999998,
            "count": 0
           },
           {
            "bin_start": 0.16399999999999998,
            "bin_end": 0.20499999999999996,
            "count": 0
           },
           {
            "bin_start": 0.20499999999999996,
            "bin_end": 0.24599999999999997,
            "count": 0
           },
           {
            "bin_start": 0.24599999999999997,
            "bin_end": 0.287,
            "count": 0
           },
           {
            "bin_start": 0.287,
            "bin_end": 0.32799999999999996,
            "count": 1
           },
           {
            "bin_start": 0.32799999999999996,
            "bin_end": 0.36899999999999994,
            "count": 1
           },
           {
            "bin_start": 0.36899999999999994,
            "bin_end": 0.41,
            "count": 2
           }
          ]
         }
        },
        {
         "name": "class",
         "dtype": "int64",
         "stats": {
          "unique_count": 1,
          "nan_count": 0,
          "min": "0",
          "max": "0",
          "histogram": [
           {
            "bin_start": -0.5,
            "bin_end": -0.4,
            "count": 0
           },
           {
            "bin_start": -0.4,
            "bin_end": -0.3,
            "count": 0
           },
           {
            "bin_start": -0.3,
            "bin_end": -0.19999999999999996,
            "count": 0
           },
           {
            "bin_start": -0.19999999999999996,
            "bin_end": -0.09999999999999998,
            "count": 0
           },
           {
            "bin_start": -0.09999999999999998,
            "bin_end": 0,
            "count": 0
           },
           {
            "bin_start": 0,
            "bin_end": 0.10000000000000009,
            "count": 5
           },
           {
            "bin_start": 0.10000000000000009,
            "bin_end": 0.20000000000000007,
            "count": 0
           },
           {
            "bin_start": 0.20000000000000007,
            "bin_end": 0.30000000000000004,
            "count": 0
           },
           {
            "bin_start": 0.30000000000000004,
            "bin_end": 0.4,
            "count": 0
           },
           {
            "bin_start": 0.4,
            "bin_end": 0.5,
            "count": 0
           }
          ]
         }
        },
        {
         "name": "_deepnote_index_column",
         "dtype": "int64"
        }
       ],
       "rows": [
        {
         "ID": "T1",
         "total.sulfur.dioxide": 90,
         "citric.acid": 0.38,
         "class": 0,
         "_deepnote_index_column": 0
        },
        {
         "ID": "T2",
         "total.sulfur.dioxide": 110,
         "citric.acid": 0.3,
         "class": 0,
         "_deepnote_index_column": 1
        },
        {
         "ID": "T3",
         "total.sulfur.dioxide": 61,
         "citric.acid": 0.41,
         "class": 0,
         "_deepnote_index_column": 2
        },
        {
         "ID": "T4",
         "total.sulfur.dioxide": 77.5,
         "citric.acid": 0,
         "class": 0,
         "_deepnote_index_column": 3
        },
        {
         "ID": "T5",
         "total.sulfur.dioxide": 39,
         "citric.acid": 0.35,
         "class": 0,
         "_deepnote_index_column": 4
        }
       ]
      },
      "text/plain": "   ID  total.sulfur.dioxide  citric.acid  class\n0  T1                  90.0         0.38      0\n1  T2                 110.0         0.30      0\n2  T3                  61.0         0.41      0\n3  T4                  77.5         0.00      0\n4  T5                  39.0         0.35      0",
      "text/html": "<div>\n<style scoped>\n    .dataframe tbody tr th:only-of-type {\n        vertical-align: middle;\n    }\n\n    .dataframe tbody tr th {\n        vertical-align: top;\n    }\n\n    .dataframe thead th {\n        text-align: right;\n    }\n</style>\n<table border=\"1\" class=\"dataframe\">\n  <thead>\n    <tr style=\"text-align: right;\">\n      <th></th>\n      <th>ID</th>\n      <th>total.sulfur.dioxide</th>\n      <th>citric.acid</th>\n      <th>class</th>\n    </tr>\n  </thead>\n  <tbody>\n    <tr>\n      <th>0</th>\n      <td>T1</td>\n      <td>90.0</td>\n      <td>0.38</td>\n      <td>0</td>\n    </tr>\n    <tr>\n      <th>1</th>\n      <td>T2</td>\n      <td>110.0</td>\n      <td>0.30</td>\n      <td>0</td>\n    </tr>\n    <tr>\n      <th>2</th>\n      <td>T3</td>\n      <td>61.0</td>\n      <td>0.41</td>\n      <td>0</td>\n    </tr>\n    <tr>\n      <th>3</th>\n      <td>T4</td>\n      <td>77.5</td>\n      <td>0.00</td>\n      <td>0</td>\n    </tr>\n    <tr>\n      <th>4</th>\n      <td>T5</td>\n      <td>39.0</td>\n      <td>0.35</td>\n      <td>0</td>\n    </tr>\n  </tbody>\n</table>\n</div>"
     },
     "metadata": {}
    }
   ]
  },
  {
   "cell_type": "code",
   "metadata": {
    "tags": [],
    "cell_id": "d341880e-d4e5-4dcf-8262-70ff2e72ac4b",
    "deepnote_to_be_reexecuted": false,
    "source_hash": "d7105945",
    "execution_start": 1643226800953,
    "execution_millis": 33,
    "deepnote_cell_type": "code",
    "deepnote_cell_height": 80.9375
   },
   "source": "### Experiments",
   "execution_count": null,
   "outputs": []
  },
  {
   "cell_type": "markdown",
   "source": "#### Experiment A",
   "metadata": {
    "cell_id": "a9ee5148-5fef-4fb1-8be6-f05f58a9ec2c",
    "tags": [],
    "deepnote_cell_type": "markdown",
    "deepnote_cell_height": 53.9375
   }
  },
  {
   "cell_type": "markdown",
   "source": "Treine modelos usando o algoritmo KNN para o conjunto de dados\n**Dados_Originais_2Features**, variando o valor de k (número de vizinhos mais\npróximos) entre 1, 3, 5, 7. Para cada modelo treinado, avalie seu desempenho nos\ndados de teste, reportando a acurácia. \n",
   "metadata": {
    "cell_id": "a9159341-1dff-430d-879e-de29ade918d3",
    "tags": [],
    "deepnote_cell_type": "markdown",
    "deepnote_cell_height": 74.703125
   }
  },
  {
   "cell_type": "code",
   "metadata": {
    "cell_id": "b4cdd84e-7f9f-41a2-997d-51210c41f16a",
    "tags": [],
    "deepnote_to_be_reexecuted": false,
    "source_hash": "90863d5",
    "execution_start": 1643226800987,
    "execution_millis": 0,
    "deepnote_cell_type": "code",
    "deepnote_cell_height": 242.9375
   },
   "source": "# dropping ID column\n\nX_Originais_2Features = X_Originais_2Features.drop(['ID'], axis=1)\nY_Originais_2Features = Y_Originais_2Features.drop(['ID'], axis=1)\nX_Originais_11Features = X_Originais_11Features.drop(['ID'], axis=1)\nY_Originais_11Features = Y_Originais_11Features.drop(['ID'], axis=1)\nX_Normalizados_2Features = X_Normalizados_2Features.drop(['ID'], axis=1)\nY_Normalizados_2Features = Y_Normalizados_2Features.drop(['ID'], axis=1)\nX_Normalizados_11Features = X_Normalizados_11Features.drop(['ID'], axis=1)\nY_Normalizados_11Features = Y_Normalizados_11Features.drop(['ID'], axis=1)",
   "execution_count": null,
   "outputs": []
  },
  {
   "cell_type": "code",
   "metadata": {
    "cell_id": "5e3cd422-153f-49a5-ae87-82d2e660bf74",
    "tags": [],
    "deepnote_to_be_reexecuted": false,
    "source_hash": "717bd7d4",
    "execution_start": 1643226800994,
    "execution_millis": 199,
    "deepnote_cell_type": "code",
    "deepnote_cell_height": 533.984375
   },
   "source": "\n# spliting the labels from exemples\n\n# raw data\nX_x = X_Originais_2Features.loc[:, X_Originais_2Features.columns != 'class']\nX_y = X_Originais_2Features['class']\n\nY_x = Y_Originais_2Features.loc[:, Y_Originais_2Features.columns != 'class']\nY_y = Y_Originais_2Features['class']\n\n\nprint(\"Raw Data Scores: \")\n\nfor x in [1, 3, 5, 7]:\n    exp_a = KNeighborsClassifier(n_neighbors=x)\n    exp_a.fit(X_x, X_y)\n    score = exp_a.score(Y_x, Y_y)\n    print(\"k = \"+str(x)+ \" | \"+str(score))\n\n",
   "execution_count": null,
   "outputs": [
    {
     "name": "stdout",
     "text": "Raw Data Scores: \nk= 1 | 0.75\nk= 3 | 0.5\nk= 5 | 0.25\nk= 7 | 0.25\n",
     "output_type": "stream"
    }
   ]
  },
  {
   "cell_type": "markdown",
   "source": "Repita o procedimento com os dados **Dados_Normalizados_2Features** e compare as acurácias obtidas entre os dois modelos.",
   "metadata": {
    "cell_id": "5645999a-32a9-4515-85da-8353c2bd7be8",
    "tags": [],
    "deepnote_cell_type": "markdown",
    "deepnote_cell_height": 52.328125
   }
  },
  {
   "cell_type": "code",
   "metadata": {
    "cell_id": "08a3951c-76a2-4ad1-b3aa-ffe23840cc46",
    "tags": [],
    "deepnote_to_be_reexecuted": false,
    "source_hash": "80e39d08",
    "execution_start": 1643226800996,
    "execution_millis": 198,
    "deepnote_cell_type": "code",
    "deepnote_cell_height": 443.984375
   },
   "source": "# norm data\nX_x = X_Normalizados_2Features.loc[:, X_Normalizados_2Features.columns != 'Class']\nX_y = X_Normalizados_2Features['Class']\n\nY_x = Y_Normalizados_2Features.loc[:, Y_Normalizados_2Features.columns != 'Class']\nY_y = Y_Normalizados_2Features['Class']\n\nprint(\"Normalized Data Scores: \")\n\nfor x in [1, 3, 5, 7]:\n    exp_a = KNeighborsClassifier(n_neighbors=x)\n    exp_a.fit(X_x, X_y)\n    score = exp_a.score(Y_x, Y_y)\n    print(\"k = \"+str(x)+ \" | \"+str(score))\n",
   "execution_count": null,
   "outputs": [
    {
     "name": "stdout",
     "text": "Normalized Data Scores: \nk= 1 | 0.5\nk= 3 | 0.25\nk= 5 | 0.75\nk= 7 | 1.0\n",
     "output_type": "stream"
    }
   ]
  },
  {
   "cell_type": "markdown",
   "source": "#### Experiment B",
   "metadata": {
    "cell_id": "83a8f9db-539d-4330-a8c0-7d0107abbccb",
    "tags": [],
    "deepnote_cell_type": "markdown",
    "deepnote_cell_height": 53.9375
   }
  },
  {
   "cell_type": "markdown",
   "source": "Considerando o modelo treinado com k=5 utilizando **dados não normalizados**,\nverifique quem são os k vizinhos mais próximos da instância de teste N1 (liste os\nrespectivos IDs). Verifique como estes vizinhos estão dispostos no espaço de\nentrada em relação à instância de teste N1 e aos eixos x e y. Após tirar suas\nconclusões, analise se as mesmas se aplicam às instâncias de teste N2, N3 e N4.",
   "metadata": {
    "cell_id": "09e8899c-85d6-41f4-8925-174825b71891",
    "tags": [],
    "deepnote_cell_type": "markdown",
    "deepnote_cell_height": 97.09375
   }
  },
  {
   "cell_type": "code",
   "metadata": {
    "cell_id": "ccd31be6-c33b-438f-957d-9df8c9877694",
    "tags": [],
    "deepnote_to_be_reexecuted": false,
    "source_hash": "7c52aec9",
    "execution_start": 1643226801139,
    "execution_millis": 80,
    "deepnote_cell_type": "code",
    "deepnote_cell_height": 409.6875,
    "deepnote_output_heights": [
     78.765625
    ]
   },
   "source": "\n# raw data\nX_x = X_Originais_2Features.loc[:, X_Originais_2Features.columns != 'class']\nX_y = X_Originais_2Features['class']\n\nY_x = Y_Originais_2Features.loc[:, Y_Originais_2Features.columns != 'class']\nY_y = Y_Originais_2Features['class']\n\n\nexp_a = KNeighborsClassifier(n_neighbors=5)\nexp_a.fit(X_x, X_y)\ndistances, n = exp_a.kneighbors(Y_x)\n\nn",
   "execution_count": null,
   "outputs": [
    {
     "output_type": "execute_result",
     "execution_count": 9,
     "data": {
      "text/plain": "array([[20, 26, 29, 24, 10],\n       [ 9, 36,  3, 35, 30],\n       [28, 27, 14, 40, 34],\n       [ 8, 25, 15, 10, 24]])"
     },
     "metadata": {}
    }
   ]
  },
  {
   "cell_type": "code",
   "metadata": {
    "cell_id": "59046bd3-a3b0-43ad-873f-bdaa9f3e9800",
    "tags": [],
    "deepnote_to_be_reexecuted": false,
    "source_hash": "96414719",
    "execution_start": 1643226801141,
    "execution_millis": 1,
    "deepnote_cell_type": "code",
    "deepnote_cell_height": 116.9375
   },
   "source": "# correct ID number (index+1)\n\nn = numpy.array(n) + 1",
   "execution_count": null,
   "outputs": []
  },
  {
   "cell_type": "code",
   "metadata": {
    "cell_id": "bb734425-762f-429a-a847-64d3567b72a7",
    "tags": [],
    "deepnote_to_be_reexecuted": false,
    "source_hash": "12e2be97",
    "execution_start": 1643226801143,
    "execution_millis": 76,
    "deepnote_cell_type": "code",
    "deepnote_cell_height": 118.09375,
    "deepnote_output_heights": [
     21.171875
    ]
   },
   "source": "n[0]",
   "execution_count": null,
   "outputs": [
    {
     "output_type": "execute_result",
     "execution_count": 11,
     "data": {
      "text/plain": "array([21, 27, 30, 25, 11])"
     },
     "metadata": {}
    }
   ]
  },
  {
   "cell_type": "code",
   "metadata": {
    "cell_id": "b1f80996-8bde-49ab-99ce-ce7a92a9d406",
    "tags": [],
    "deepnote_to_be_reexecuted": false,
    "source_hash": "2e9ded7c",
    "execution_start": 1643226801144,
    "execution_millis": 75,
    "deepnote_cell_type": "code",
    "deepnote_cell_height": 368.109375
   },
   "source": "for i in range(4):\n    print(\"Neighbors of N\"+str(i+1)+ \" with IDs: \\n\"+str(n[i]))\n    print(\"------------------------\")",
   "execution_count": null,
   "outputs": [
    {
     "name": "stdout",
     "text": "Neighbors of N1 with IDs: \n[21 27 30 25 11]\n------------------------\nNeighbors of N2 with IDs: \n[10 37  4 36 31]\n------------------------\nNeighbors of N3 with IDs: \n[29 28 15 41 35]\n------------------------\nNeighbors of N4 with IDs: \n[ 9 26 16 11 25]\n------------------------\n",
     "output_type": "stream"
    }
   ]
  },
  {
   "cell_type": "markdown",
   "source": "#### Experiment C",
   "metadata": {
    "cell_id": "b8fce25d-6c42-41ce-af02-df8562b0a0be",
    "tags": [],
    "deepnote_cell_type": "markdown",
    "deepnote_cell_height": 53.9375
   }
  },
  {
   "cell_type": "markdown",
   "source": "Treine dois modelos usando o algoritmo KNN com k=5 para os datasets\nDados_Normalizados_2Features e Dados_Normalizados_11Features.\nAplique os modelos treinados nos dados de teste, verificando os k-vizinhos mais\npróximos e a classe prevista para a instância N4. \n",
   "metadata": {
    "cell_id": "10d0f490-9d29-4829-8c3b-67e02f8fb022",
    "tags": [],
    "deepnote_cell_type": "markdown",
    "deepnote_cell_height": 74.703125
   }
  },
  {
   "cell_type": "code",
   "metadata": {
    "cell_id": "e28d97df-7913-4ded-829e-fba721632012",
    "tags": [],
    "deepnote_to_be_reexecuted": false,
    "source_hash": "60bd9252",
    "execution_start": 1643226801146,
    "execution_millis": 74,
    "deepnote_cell_type": "code",
    "deepnote_cell_height": 475.953125
   },
   "source": "# norm data Dados_Normalizados_2Features\nX_x = X_Normalizados_2Features.loc[:, X_Normalizados_2Features.columns != 'Class']\nX_y = X_Normalizados_2Features['Class']\n\nY_x = Y_Normalizados_2Features.loc[:, Y_Normalizados_2Features.columns != 'Class']\nY_y = Y_Normalizados_2Features['Class']\n\n\nexp_a = KNeighborsClassifier(n_neighbors=5)\nexp_a.fit(X_x, X_y)\nprint(\"Dados_Normalizados_2Features Accuracy: \", exp_a.score(Y_x, Y_y))\ndistances, n = exp_a.kneighbors(Y_x)\n\n# correct ID number (index+1)\nn = numpy.array(n) + 1\n\n\nprint(\"Neighbors of N\"+str(4)+ \" with IDs: \\n\"+str(n[3]))\n",
   "execution_count": null,
   "outputs": [
    {
     "name": "stdout",
     "text": "Dados_Normalizados_2Features Accuracy:  0.75\nNeighbors of N4 with IDs: \n[32  7  8 38 30]\n",
     "output_type": "stream"
    }
   ]
  },
  {
   "cell_type": "code",
   "metadata": {
    "cell_id": "56bdc346-8479-41a9-94a9-a3c00afc2239",
    "tags": [],
    "deepnote_to_be_reexecuted": false,
    "source_hash": "471e901",
    "execution_start": 1643226801147,
    "execution_millis": 1,
    "deepnote_cell_type": "code",
    "deepnote_cell_height": 116.9375
   },
   "source": "# acerta 3/4 \n\n# erra N4",
   "execution_count": null,
   "outputs": []
  },
  {
   "cell_type": "code",
   "metadata": {
    "cell_id": "611e7fe9-479c-4a56-a7b3-c4502544f6a1",
    "tags": [],
    "deepnote_to_be_reexecuted": false,
    "source_hash": "53ba2140",
    "execution_start": 1643226801184,
    "execution_millis": 36,
    "deepnote_cell_type": "code",
    "deepnote_cell_height": 439.953125
   },
   "source": "# norm data Dados_Normalizados_11Features\nX_x = X_Normalizados_11Features.loc[:, X_Normalizados_11Features.columns != 'Class']\nX_y = X_Normalizados_11Features['Class']\n\nY_x = Y_Normalizados_11Features.loc[:, Y_Normalizados_11Features.columns != 'Class']\nY_y = Y_Normalizados_11Features['Class']\n\n\nexp_a = KNeighborsClassifier(n_neighbors=5)\nexp_a.fit(X_x, X_y)\nprint(\"Dados_Normalizados_11Features Accuracy: \", exp_a.score(Y_x, Y_y))\ndistances, n = exp_a.kneighbors(Y_x)\n\n# correct ID number (index+1)\nn = numpy.array(n) + 1\n\nprint(\"Neighbors of N\"+str(4)+ \" with IDs: \\n\"+str(n[3]))",
   "execution_count": null,
   "outputs": [
    {
     "name": "stdout",
     "text": "Dados_Normalizados_11Features Accuracy:  0.75\nNeighbors of N4 with IDs: \n[30  1  8  7  6]\n",
     "output_type": "stream"
    }
   ]
  },
  {
   "cell_type": "code",
   "metadata": {
    "cell_id": "5fcb9bd8-166d-455c-bc11-b0e45500ea99",
    "tags": [],
    "deepnote_to_be_reexecuted": false,
    "source_hash": "471e901",
    "execution_start": 1643226801186,
    "execution_millis": 1,
    "deepnote_cell_type": "code",
    "deepnote_cell_height": 116.9375
   },
   "source": "# acerta 3/4 \n\n# erra N4",
   "execution_count": null,
   "outputs": []
  },
  {
   "cell_type": "markdown",
   "source": "Faça perturbações no valor do\natributo “citric acid” para a instância N4, substituindo o valor original (1.0) por 0.3\ne posteriormente por 0.85 (ou seja, gere duas novas instâncias sintéticas com\nesta alteração). Repita a classificação destas instâncias sintéticas com os dois\nmodelos (isto é, modelo baseado em 2 atributos e en 11 atributos) . Compare os\nresultados, analisando como a alteração de um atributo impactou o cálculo das\ndistâncias euclidianas e a seleção dos k-vizinhos mais próximos em cada caso.",
   "metadata": {
    "cell_id": "e2944766-4a13-469f-bf48-6ed2e3519c4e",
    "tags": [],
    "deepnote_cell_type": "markdown",
    "deepnote_cell_height": 119.484375
   }
  },
  {
   "cell_type": "code",
   "metadata": {
    "cell_id": "4bedfeef-7082-41e9-bd36-9175fd2d7f8c",
    "tags": [],
    "deepnote_to_be_reexecuted": false,
    "source_hash": "1f155e4b",
    "execution_start": 1643226801187,
    "execution_millis": 1,
    "deepnote_cell_type": "code",
    "deepnote_cell_height": 188.953125
   },
   "source": "# adding 2 more rows to the test dataset\n\n#n5 = 0.3\n#n6 = 0.85\n\nn5 = Y_Normalizados_2Features.iloc[[3]].copy()\nn6 = Y_Normalizados_2Features.iloc[[3]].copy()",
   "execution_count": null,
   "outputs": []
  },
  {
   "cell_type": "code",
   "metadata": {
    "cell_id": "eb7eb6fa-3c0f-4709-8db4-2740d1ebc449",
    "tags": [],
    "deepnote_to_be_reexecuted": false,
    "source_hash": "d18feddf",
    "execution_start": 1643226801189,
    "execution_millis": 1,
    "deepnote_cell_type": "code",
    "deepnote_cell_height": 116.9375
   },
   "source": "n5.at[3,'citric.acid']= 0.3\nn6.at[3,'citric.acid']= 0.85\n",
   "execution_count": null,
   "outputs": []
  },
  {
   "cell_type": "code",
   "metadata": {
    "cell_id": "f0120122-8cf7-4006-b6d1-e9c8cd277632",
    "tags": [],
    "deepnote_to_be_reexecuted": false,
    "source_hash": "7eaade18",
    "execution_start": 1643226801215,
    "execution_millis": 0,
    "deepnote_cell_type": "code",
    "deepnote_cell_height": 98.953125
   },
   "source": "\nY_Normalizados_2Features = Y_Normalizados_2Features.append([n5, n6],ignore_index=True)",
   "execution_count": null,
   "outputs": []
  },
  {
   "cell_type": "code",
   "metadata": {
    "cell_id": "4bfc2981-f177-4133-b28d-51c75d6448b2",
    "tags": [],
    "deepnote_to_be_reexecuted": false,
    "source_hash": "d91c7bb2",
    "execution_start": 1643226801216,
    "execution_millis": 17,
    "deepnote_cell_type": "code",
    "deepnote_cell_height": 433.875
   },
   "source": "Y_Normalizados_2Features",
   "execution_count": null,
   "outputs": [
    {
     "output_type": "execute_result",
     "execution_count": 20,
     "data": {
      "application/vnd.deepnote.dataframe.v3+json": {
       "column_count": 3,
       "row_count": 6,
       "columns": [
        {
         "name": "total.sulfur.dioxide",
         "dtype": "float64",
         "stats": {
          "unique_count": 4,
          "nan_count": 0,
          "min": "0.031",
          "max": "0.496",
          "histogram": [
           {
            "bin_start": 0.031,
            "bin_end": 0.0775,
            "count": 1
           },
           {
            "bin_start": 0.0775,
            "bin_end": 0.124,
            "count": 0
           },
           {
            "bin_start": 0.124,
            "bin_end": 0.1705,
            "count": 1
           },
           {
            "bin_start": 0.1705,
            "bin_end": 0.217,
            "count": 3
           },
           {
            "bin_start": 0.217,
            "bin_end": 0.26349999999999996,
            "count": 0
           },
           {
            "bin_start": 0.26349999999999996,
            "bin_end": 0.31000000000000005,
            "count": 0
           },
           {
            "bin_start": 0.31000000000000005,
            "bin_end": 0.35650000000000004,
            "count": 0
           },
           {
            "bin_start": 0.35650000000000004,
            "bin_end": 0.403,
            "count": 0
           },
           {
            "bin_start": 0.403,
            "bin_end": 0.4495,
            "count": 0
           },
           {
            "bin_start": 0.4495,
            "bin_end": 0.496,
            "count": 1
           }
          ]
         }
        },
        {
         "name": "citric.acid",
         "dtype": "float64",
         "stats": {
          "unique_count": 6,
          "nan_count": 0,
          "min": "0.0",
          "max": "1.0",
          "histogram": [
           {
            "bin_start": 0,
            "bin_end": 0.1,
            "count": 1
           },
           {
            "bin_start": 0.1,
            "bin_end": 0.2,
            "count": 0
           },
           {
            "bin_start": 0.2,
            "bin_end": 0.30000000000000004,
            "count": 1
           },
           {
            "bin_start": 0.30000000000000004,
            "bin_end": 0.4,
            "count": 0
           },
           {
            "bin_start": 0.4,
            "bin_end": 0.5,
            "count": 1
           },
           {
            "bin_start": 0.5,
            "bin_end": 0.6000000000000001,
            "count": 0
           },
           {
            "bin_start": 0.6000000000000001,
            "bin_end": 0.7000000000000001,
            "count": 0
           },
           {
            "bin_start": 0.7000000000000001,
            "bin_end": 0.8,
            "count": 1
           },
           {
            "bin_start": 0.8,
            "bin_end": 0.9,
            "count": 1
           },
           {
            "bin_start": 0.9,
            "bin_end": 1,
            "count": 1
           }
          ]
         }
        },
        {
         "name": "Class",
         "dtype": "int64",
         "stats": {
          "unique_count": 2,
          "nan_count": 0,
          "min": "0",
          "max": "1",
          "histogram": [
           {
            "bin_start": 0,
            "bin_end": 0.1,
            "count": 2
           },
           {
            "bin_start": 0.1,
            "bin_end": 0.2,
            "count": 0
           },
           {
            "bin_start": 0.2,
            "bin_end": 0.30000000000000004,
            "count": 0
           },
           {
            "bin_start": 0.30000000000000004,
            "bin_end": 0.4,
            "count": 0
           },
           {
            "bin_start": 0.4,
            "bin_end": 0.5,
            "count": 0
           },
           {
            "bin_start": 0.5,
            "bin_end": 0.6000000000000001,
            "count": 0
           },
           {
            "bin_start": 0.6000000000000001,
            "bin_end": 0.7000000000000001,
            "count": 0
           },
           {
            "bin_start": 0.7000000000000001,
            "bin_end": 0.8,
            "count": 0
           },
           {
            "bin_start": 0.8,
            "bin_end": 0.9,
            "count": 0
           },
           {
            "bin_start": 0.9,
            "bin_end": 1,
            "count": 4
           }
          ]
         }
        },
        {
         "name": "_deepnote_index_column",
         "dtype": "int64"
        }
       ],
       "rows": [
        {
         "total.sulfur.dioxide": 0.134,
         "citric.acid": 0,
         "Class": 0,
         "_deepnote_index_column": 0
        },
        {
         "total.sulfur.dioxide": 0.496,
         "citric.acid": 0.441,
         "Class": 0,
         "_deepnote_index_column": 1
        },
        {
         "total.sulfur.dioxide": 0.031,
         "citric.acid": 0.735,
         "Class": 1,
         "_deepnote_index_column": 2
        },
        {
         "total.sulfur.dioxide": 0.181,
         "citric.acid": 1,
         "Class": 1,
         "_deepnote_index_column": 3
        },
        {
         "total.sulfur.dioxide": 0.181,
         "citric.acid": 0.3,
         "Class": 1,
         "_deepnote_index_column": 4
        },
        {
         "total.sulfur.dioxide": 0.181,
         "citric.acid": 0.85,
         "Class": 1,
         "_deepnote_index_column": 5
        }
       ]
      },
      "text/plain": "   total.sulfur.dioxide  citric.acid  Class\n0                 0.134        0.000      0\n1                 0.496        0.441      0\n2                 0.031        0.735      1\n3                 0.181        1.000      1\n4                 0.181        0.300      1\n5                 0.181        0.850      1",
      "text/html": "<div>\n<style scoped>\n    .dataframe tbody tr th:only-of-type {\n        vertical-align: middle;\n    }\n\n    .dataframe tbody tr th {\n        vertical-align: top;\n    }\n\n    .dataframe thead th {\n        text-align: right;\n    }\n</style>\n<table border=\"1\" class=\"dataframe\">\n  <thead>\n    <tr style=\"text-align: right;\">\n      <th></th>\n      <th>total.sulfur.dioxide</th>\n      <th>citric.acid</th>\n      <th>Class</th>\n    </tr>\n  </thead>\n  <tbody>\n    <tr>\n      <th>0</th>\n      <td>0.134</td>\n      <td>0.000</td>\n      <td>0</td>\n    </tr>\n    <tr>\n      <th>1</th>\n      <td>0.496</td>\n      <td>0.441</td>\n      <td>0</td>\n    </tr>\n    <tr>\n      <th>2</th>\n      <td>0.031</td>\n      <td>0.735</td>\n      <td>1</td>\n    </tr>\n    <tr>\n      <th>3</th>\n      <td>0.181</td>\n      <td>1.000</td>\n      <td>1</td>\n    </tr>\n    <tr>\n      <th>4</th>\n      <td>0.181</td>\n      <td>0.300</td>\n      <td>1</td>\n    </tr>\n    <tr>\n      <th>5</th>\n      <td>0.181</td>\n      <td>0.850</td>\n      <td>1</td>\n    </tr>\n  </tbody>\n</table>\n</div>"
     },
     "metadata": {}
    }
   ]
  },
  {
   "cell_type": "code",
   "metadata": {
    "cell_id": "0e7eaef7-a400-42ae-bc78-623fe40d5b99",
    "tags": [],
    "deepnote_to_be_reexecuted": false,
    "source_hash": "5b215337",
    "execution_start": 1643226801217,
    "execution_millis": 16,
    "deepnote_cell_type": "code",
    "deepnote_cell_height": 574.015625
   },
   "source": "# norm data Dados_Normalizados_2Features\nX_x = X_Normalizados_2Features.loc[:, X_Normalizados_2Features.columns != 'Class']\nX_y = X_Normalizados_2Features['Class']\n\nY_x = Y_Normalizados_2Features.loc[:, Y_Normalizados_2Features.columns != 'Class']\nY_y = Y_Normalizados_2Features['Class']\n\n\nexp_a = KNeighborsClassifier(n_neighbors=5)\nexp_a.fit(X_x, X_y)\nprint(\"Dados_Normalizados_2Features Accuracy with pertubation: \", exp_a.score(Y_x, Y_y))\ndistances, n = exp_a.kneighbors(Y_x)\n\n# correct ID number (index+1)\nn = numpy.array(n) + 1\n\n\nfor i in range(4,6):\n    print(\"Neighbors of N\"+str(i+1)+ \" with IDs: \\n\"+str(n[i]))\n    print(\"------------------------\")",
   "execution_count": null,
   "outputs": [
    {
     "name": "stdout",
     "text": "Dados_Normalizados_2Features Accuracy with pertubation:  0.5\nNeighbors of N5 with IDs: \n[25  9 19 20 39]\n------------------------\nNeighbors of N6 with IDs: \n[ 7  8 30 44 14]\n------------------------\n",
     "output_type": "stream"
    }
   ]
  },
  {
   "cell_type": "code",
   "metadata": {
    "cell_id": "5ac4d07a-8282-49b4-bbbd-0f7bbace6026",
    "tags": [],
    "deepnote_to_be_reexecuted": false,
    "source_hash": "151fa775",
    "execution_start": 1643226801217,
    "execution_millis": 1,
    "deepnote_cell_type": "code",
    "deepnote_cell_height": 188.953125
   },
   "source": "n5 = Y_Normalizados_11Features.iloc[[3]].copy()\nn6 = Y_Normalizados_11Features.iloc[[3]].copy()\n\nn5.at[3,'citric.acid']= 0.3\nn6.at[3,'citric.acid']= 0.85\n\nY_Normalizados_11Features = Y_Normalizados_11Features.append([n5, n6],ignore_index=True)",
   "execution_count": null,
   "outputs": []
  },
  {
   "cell_type": "code",
   "metadata": {
    "cell_id": "2d1fe50e-54a5-4a4b-9dee-7eeed8c7e0cb",
    "tags": [],
    "deepnote_to_be_reexecuted": false,
    "source_hash": "2394e9bf",
    "execution_start": 1643226801231,
    "execution_millis": 32,
    "deepnote_cell_type": "code",
    "deepnote_cell_height": 556.015625
   },
   "source": "# norm data Dados_Normalizados_11Features\nX_x = X_Normalizados_11Features.loc[:, X_Normalizados_11Features.columns != 'Class']\nX_y = X_Normalizados_11Features['Class']\n\nY_x = Y_Normalizados_11Features.loc[:, Y_Normalizados_11Features.columns != 'Class']\nY_y = Y_Normalizados_11Features['Class']\n\n\nexp_a = KNeighborsClassifier(n_neighbors=5)\nexp_a.fit(X_x, X_y)\nprint(\"Dados_Normalizados_11Features Accuracy with pertubation: \", exp_a.score(Y_x, Y_y))\ndistances, n = exp_a.kneighbors(Y_x)\n\n# correct ID number (index+1)\nn = numpy.array(n) + 1\n\nfor i in range(4,6):\n    print(\"Neighbors of N\"+str(i+1)+ \" with IDs: \\n\"+str(n[i]))\n    print(\"------------------------\")",
   "execution_count": null,
   "outputs": [
    {
     "name": "stdout",
     "text": "Dados_Normalizados_11Features Accuracy with pertubation:  0.5\nNeighbors of N5 with IDs: \n[30  1  8  6  7]\n------------------------\nNeighbors of N6 with IDs: \n[30  1  8  7  6]\n------------------------\n",
     "output_type": "stream"
    }
   ]
  },
  {
   "cell_type": "code",
   "metadata": {
    "cell_id": "f50fd5ef-497a-4ef3-ad2e-b6ff92b6f2b0",
    "tags": [],
    "deepnote_to_be_reexecuted": false,
    "source_hash": "1a3498eb",
    "execution_start": 1643226801232,
    "execution_millis": 58,
    "deepnote_cell_type": "code",
    "deepnote_cell_height": 448.6875
   },
   "source": "Y_Normalizados_11Features",
   "execution_count": null,
   "outputs": [
    {
     "output_type": "execute_result",
     "execution_count": 24,
     "data": {
      "application/vnd.deepnote.dataframe.v3+json": {
       "column_count": 12,
       "row_count": 6,
       "columns": [
        {
         "name": "fixed.acidity",
         "dtype": "float64",
         "stats": {
          "unique_count": 4,
          "nan_count": 0,
          "min": "0.075",
          "max": "0.458",
          "histogram": [
           {
            "bin_start": 0.075,
            "bin_end": 0.1133,
            "count": 1
           },
           {
            "bin_start": 0.1133,
            "bin_end": 0.1516,
            "count": 0
           },
           {
            "bin_start": 0.1516,
            "bin_end": 0.1899,
            "count": 1
           },
           {
            "bin_start": 0.1899,
            "bin_end": 0.22820000000000001,
            "count": 0
           },
           {
            "bin_start": 0.22820000000000001,
            "bin_end": 0.2665,
            "count": 3
           },
           {
            "bin_start": 0.2665,
            "bin_end": 0.3048,
            "count": 0
           },
           {
            "bin_start": 0.3048,
            "bin_end": 0.3431,
            "count": 0
           },
           {
            "bin_start": 0.3431,
            "bin_end": 0.3814,
            "count": 0
           },
           {
            "bin_start": 0.3814,
            "bin_end": 0.4197,
            "count": 0
           },
           {
            "bin_start": 0.4197,
            "bin_end": 0.458,
            "count": 1
           }
          ]
         }
        },
        {
         "name": "volatile.acidity",
         "dtype": "float64",
         "stats": {
          "unique_count": 4,
          "nan_count": 0,
          "min": "0.278",
          "max": "0.5",
          "histogram": [
           {
            "bin_start": 0.278,
            "bin_end": 0.3002,
            "count": 1
           },
           {
            "bin_start": 0.3002,
            "bin_end": 0.3224,
            "count": 0
           },
           {
            "bin_start": 0.3224,
            "bin_end": 0.3446,
            "count": 1
           },
           {
            "bin_start": 0.3446,
            "bin_end": 0.3668,
            "count": 0
           },
           {
            "bin_start": 0.3668,
            "bin_end": 0.389,
            "count": 0
           },
           {
            "bin_start": 0.389,
            "bin_end": 0.4112,
            "count": 0
           },
           {
            "bin_start": 0.4112,
            "bin_end": 0.4334,
            "count": 0
           },
           {
            "bin_start": 0.4334,
            "bin_end": 0.4556,
            "count": 0
           },
           {
            "bin_start": 0.4556,
            "bin_end": 0.4778,
            "count": 3
           },
           {
            "bin_start": 0.4778,
            "bin_end": 0.5,
            "count": 1
           }
          ]
         }
        },
        {
         "name": "citric.acid",
         "dtype": "float64",
         "stats": {
          "unique_count": 6,
          "nan_count": 0,
          "min": "0.0",
          "max": "1.0",
          "histogram": [
           {
            "bin_start": 0,
            "bin_end": 0.1,
            "count": 1
           },
           {
            "bin_start": 0.1,
            "bin_end": 0.2,
            "count": 0
           },
           {
            "bin_start": 0.2,
            "bin_end": 0.30000000000000004,
            "count": 1
           },
           {
            "bin_start": 0.30000000000000004,
            "bin_end": 0.4,
            "count": 0
           },
           {
            "bin_start": 0.4,
            "bin_end": 0.5,
            "count": 1
           },
           {
            "bin_start": 0.5,
            "bin_end": 0.6000000000000001,
            "count": 0
           },
           {
            "bin_start": 0.6000000000000001,
            "bin_end": 0.7000000000000001,
            "count": 0
           },
           {
            "bin_start": 0.7000000000000001,
            "bin_end": 0.8,
            "count": 1
           },
           {
            "bin_start": 0.8,
            "bin_end": 0.9,
            "count": 1
           },
           {
            "bin_start": 0.9,
            "bin_end": 1,
            "count": 1
           }
          ]
         }
        },
        {
         "name": "residual.sugar",
         "dtype": "float64",
         "stats": {
          "unique_count": 4,
          "nan_count": 0,
          "min": "-0.015",
          "max": "0.136",
          "histogram": [
           {
            "bin_start": -0.015,
            "bin_end": 0.00010000000000000286,
            "count": 1
           },
           {
            "bin_start": 0.00010000000000000286,
            "bin_end": 0.015200000000000005,
            "count": 0
           },
           {
            "bin_start": 0.015200000000000005,
            "bin_end": 0.030300000000000007,
            "count": 3
           },
           {
            "bin_start": 0.030300000000000007,
            "bin_end": 0.04540000000000001,
            "count": 0
           },
           {
            "bin_start": 0.04540000000000001,
            "bin_end": 0.06050000000000001,
            "count": 0
           },
           {
            "bin_start": 0.06050000000000001,
            "bin_end": 0.07560000000000001,
            "count": 0
           },
           {
            "bin_start": 0.07560000000000001,
            "bin_end": 0.09070000000000002,
            "count": 0
           },
           {
            "bin_start": 0.09070000000000002,
            "bin_end": 0.10580000000000002,
            "count": 1
           },
           {
            "bin_start": 0.10580000000000002,
            "bin_end": 0.12090000000000002,
            "count": 0
           },
           {
            "bin_start": 0.12090000000000002,
            "bin_end": 0.136,
            "count": 1
           }
          ]
         }
        },
        {
         "name": "chlorides",
         "dtype": "float64",
         "stats": {
          "unique_count": 4,
          "nan_count": 0,
          "min": "0.136",
          "max": "2.848",
          "histogram": [
           {
            "bin_start": 0.136,
            "bin_end": 0.4072,
            "count": 2
           },
           {
            "bin_start": 0.4072,
            "bin_end": 0.6784,
            "count": 1
           },
           {
            "bin_start": 0.6784,
            "bin_end": 0.9496,
            "count": 0
           },
           {
            "bin_start": 0.9496,
            "bin_end": 1.2208,
            "count": 0
           },
           {
            "bin_start": 1.2208,
            "bin_end": 1.492,
            "count": 0
           },
           {
            "bin_start": 1.492,
            "bin_end": 1.7631999999999999,
            "count": 0
           },
           {
            "bin_start": 1.7631999999999999,
            "bin_end": 2.0344,
            "count": 0
           },
           {
            "bin_start": 2.0344,
            "bin_end": 2.3056,
            "count": 0
           },
           {
            "bin_start": 2.3056,
            "bin_end": 2.5768,
            "count": 0
           },
           {
            "bin_start": 2.5768,
            "bin_end": 2.848,
            "count": 3
           }
          ]
         }
        },
        {
         "name": "free.sulfur.dioxide",
         "dtype": "float64",
         "stats": {
          "unique_count": 4,
          "nan_count": 0,
          "min": "0.043",
          "max": "0.66",
          "histogram": [
           {
            "bin_start": 0.043,
            "bin_end": 0.10469999999999999,
            "count": 1
           },
           {
            "bin_start": 0.10469999999999999,
            "bin_end": 0.1664,
            "count": 0
           },
           {
            "bin_start": 0.1664,
            "bin_end": 0.22809999999999997,
            "count": 3
           },
           {
            "bin_start": 0.22809999999999997,
            "bin_end": 0.2898,
            "count": 1
           },
           {
            "bin_start": 0.2898,
            "bin_end": 0.3515,
            "count": 0
           },
           {
            "bin_start": 0.3515,
            "bin_end": 0.41319999999999996,
            "count": 0
           },
           {
            "bin_start": 0.41319999999999996,
            "bin_end": 0.4749,
            "count": 0
           },
           {
            "bin_start": 0.4749,
            "bin_end": 0.5366,
            "count": 0
           },
           {
            "bin_start": 0.5366,
            "bin_end": 0.5983,
            "count": 0
           },
           {
            "bin_start": 0.5983,
            "bin_end": 0.66,
            "count": 1
           }
          ]
         }
        },
        {
         "name": "total.sulfur.dioxide",
         "dtype": "float64",
         "stats": {
          "unique_count": 4,
          "nan_count": 0,
          "min": "0.031",
          "max": "0.496",
          "histogram": [
           {
            "bin_start": 0.031,
            "bin_end": 0.0775,
            "count": 1
           },
           {
            "bin_start": 0.0775,
            "bin_end": 0.124,
            "count": 0
           },
           {
            "bin_start": 0.124,
            "bin_end": 0.1705,
            "count": 1
           },
           {
            "bin_start": 0.1705,
            "bin_end": 0.217,
            "count": 3
           },
           {
            "bin_start": 0.217,
            "bin_end": 0.26349999999999996,
            "count": 0
           },
           {
            "bin_start": 0.26349999999999996,
            "bin_end": 0.31000000000000005,
            "count": 0
           },
           {
            "bin_start": 0.31000000000000005,
            "bin_end": 0.35650000000000004,
            "count": 0
           },
           {
            "bin_start": 0.35650000000000004,
            "bin_end": 0.403,
            "count": 0
           },
           {
            "bin_start": 0.403,
            "bin_end": 0.4495,
            "count": 0
           },
           {
            "bin_start": 0.4495,
            "bin_end": 0.496,
            "count": 1
           }
          ]
         }
        },
        {
         "name": "density",
         "dtype": "float64",
         "stats": {
          "unique_count": 4,
          "nan_count": 0,
          "min": "0.294",
          "max": "0.551",
          "histogram": [
           {
            "bin_start": 0.294,
            "bin_end": 0.3197,
            "count": 1
           },
           {
            "bin_start": 0.3197,
            "bin_end": 0.3454,
            "count": 0
           },
           {
            "bin_start": 0.3454,
            "bin_end": 0.3711,
            "count": 0
           },
           {
            "bin_start": 0.3711,
            "bin_end": 0.39680000000000004,
            "count": 0
           },
           {
            "bin_start": 0.39680000000000004,
            "bin_end": 0.4225,
            "count": 0
           },
           {
            "bin_start": 0.4225,
            "bin_end": 0.44820000000000004,
            "count": 0
           },
           {
            "bin_start": 0.44820000000000004,
            "bin_end": 0.47390000000000004,
            "count": 0
           },
           {
            "bin_start": 0.47390000000000004,
            "bin_end": 0.49960000000000004,
            "count": 1
           },
           {
            "bin_start": 0.49960000000000004,
            "bin_end": 0.5253000000000001,
            "count": 3
           },
           {
            "bin_start": 0.5253000000000001,
            "bin_end": 0.551,
            "count": 1
           }
          ]
         }
        },
        {
         "name": "pH",
         "dtype": "float64",
         "stats": {
          "unique_count": 4,
          "nan_count": 0,
          "min": "0.213",
          "max": "0.68",
          "histogram": [
           {
            "bin_start": 0.213,
            "bin_end": 0.2597,
            "count": 3
           },
           {
            "bin_start": 0.2597,
            "bin_end": 0.3064,
            "count": 0
           },
           {
            "bin_start": 0.3064,
            "bin_end": 0.35309999999999997,
            "count": 0
           },
           {
            "bin_start": 0.35309999999999997,
            "bin_end": 0.39980000000000004,
            "count": 1
           },
           {
            "bin_start": 0.39980000000000004,
            "bin_end": 0.4465,
            "count": 0
           },
           {
            "bin_start": 0.4465,
            "bin_end": 0.49319999999999997,
            "count": 0
           },
           {
            "bin_start": 0.49319999999999997,
            "bin_end": 0.5399,
            "count": 0
           },
           {
            "bin_start": 0.5399,
            "bin_end": 0.5866,
            "count": 1
           },
           {
            "bin_start": 0.5866,
            "bin_end": 0.6333000000000001,
            "count": 0
           },
           {
            "bin_start": 0.6333000000000001,
            "bin_end": 0.68,
            "count": 1
           }
          ]
         }
        },
        {
         "name": "sulphates",
         "dtype": "float64",
         "stats": {
          "unique_count": 4,
          "nan_count": 0,
          "min": "0.02",
          "max": "0.418",
          "histogram": [
           {
            "bin_start": 0.02,
            "bin_end": 0.05979999999999999,
            "count": 1
           },
           {
            "bin_start": 0.05979999999999999,
            "bin_end": 0.0996,
            "count": 1
           },
           {
            "bin_start": 0.0996,
            "bin_end": 0.13939999999999997,
            "count": 0
           },
           {
            "bin_start": 0.13939999999999997,
            "bin_end": 0.17919999999999997,
            "count": 1
           },
           {
            "bin_start": 0.17919999999999997,
            "bin_end": 0.21899999999999997,
            "count": 0
           },
           {
            "bin_start": 0.21899999999999997,
            "bin_end": 0.2588,
            "count": 0
           },
           {
            "bin_start": 0.2588,
            "bin_end": 0.2986,
            "count": 0
           },
           {
            "bin_start": 0.2986,
            "bin_end": 0.3384,
            "count": 0
           },
           {
            "bin_start": 0.3384,
            "bin_end": 0.3782,
            "count": 0
           },
           {
            "bin_start": 0.3782,
            "bin_end": 0.418,
            "count": 3
           }
          ]
         }
        },
        {
         "name": "alcohol",
         "dtype": "float64",
         "stats": {
          "unique_count": 4,
          "nan_count": 0,
          "min": "0.094",
          "max": "0.484",
          "histogram": [
           {
            "bin_start": 0.094,
            "bin_end": 0.133,
            "count": 3
           },
           {
            "bin_start": 0.133,
            "bin_end": 0.172,
            "count": 2
           },
           {
            "bin_start": 0.172,
            "bin_end": 0.211,
            "count": 0
           },
           {
            "bin_start": 0.211,
            "bin_end": 0.25,
            "count": 0
           },
           {
            "bin_start": 0.25,
            "bin_end": 0.28900000000000003,
            "count": 0
           },
           {
            "bin_start": 0.28900000000000003,
            "bin_end": 0.32799999999999996,
            "count": 0
           },
           {
            "bin_start": 0.32799999999999996,
            "bin_end": 0.367,
            "count": 0
           },
           {
            "bin_start": 0.367,
            "bin_end": 0.406,
            "count": 0
           },
           {
            "bin_start": 0.406,
            "bin_end": 0.44499999999999995,
            "count": 0
           },
           {
            "bin_start": 0.44499999999999995,
            "bin_end": 0.484,
            "count": 1
           }
          ]
         }
        },
        {
         "name": "Class",
         "dtype": "int64",
         "stats": {
          "unique_count": 2,
          "nan_count": 0,
          "min": "0",
          "max": "1",
          "histogram": [
           {
            "bin_start": 0,
            "bin_end": 0.1,
            "count": 2
           },
           {
            "bin_start": 0.1,
            "bin_end": 0.2,
            "count": 0
           },
           {
            "bin_start": 0.2,
            "bin_end": 0.30000000000000004,
            "count": 0
           },
           {
            "bin_start": 0.30000000000000004,
            "bin_end": 0.4,
            "count": 0
           },
           {
            "bin_start": 0.4,
            "bin_end": 0.5,
            "count": 0
           },
           {
            "bin_start": 0.5,
            "bin_end": 0.6000000000000001,
            "count": 0
           },
           {
            "bin_start": 0.6000000000000001,
            "bin_end": 0.7000000000000001,
            "count": 0
           },
           {
            "bin_start": 0.7000000000000001,
            "bin_end": 0.8,
            "count": 0
           },
           {
            "bin_start": 0.8,
            "bin_end": 0.9,
            "count": 0
           },
           {
            "bin_start": 0.9,
            "bin_end": 1,
            "count": 4
           }
          ]
         }
        },
        {
         "name": "_deepnote_index_column",
         "dtype": "int64"
        }
       ],
       "rows": [
        {
         "fixed.acidity": 0.075,
         "volatile.acidity": 0.5,
         "citric.acid": 0,
         "residual.sugar": -0.015,
         "chlorides": 0.136,
         "free.sulfur.dioxide": 0.234,
         "total.sulfur.dioxide": 0.134,
         "density": 0.294,
         "pH": 0.573,
         "sulphates": 0.02,
         "alcohol": 0.156,
         "Class": 0,
         "_deepnote_index_column": 0
        },
        {
         "fixed.acidity": 0.187,
         "volatile.acidity": 0.333,
         "citric.acid": 0.441,
         "residual.sugar": 0.091,
         "chlorides": 0.333,
         "free.sulfur.dioxide": 0.66,
         "total.sulfur.dioxide": 0.496,
         "density": 0.551,
         "pH": 0.68,
         "sulphates": 0.065,
         "alcohol": 0.141,
         "Class": 0,
         "_deepnote_index_column": 1
        },
        {
         "fixed.acidity": 0.458,
         "volatile.acidity": 0.278,
         "citric.acid": 0.735,
         "residual.sugar": 0.136,
         "chlorides": 0.492,
         "free.sulfur.dioxide": 0.043,
         "total.sulfur.dioxide": 0.031,
         "density": 0.493,
         "pH": 0.387,
         "sulphates": 0.15,
         "alcohol": 0.484,
         "Class": 1,
         "_deepnote_index_column": 2
        },
        {
         "fixed.acidity": 0.243,
         "volatile.acidity": 0.463,
         "citric.acid": 1,
         "residual.sugar": 0.03,
         "chlorides": 2.848,
         "free.sulfur.dioxide": 0.213,
         "total.sulfur.dioxide": 0.181,
         "density": 0.506,
         "pH": 0.213,
         "sulphates": 0.418,
         "alcohol": 0.094,
         "Class": 1,
         "_deepnote_index_column": 3
        },
        {
         "fixed.acidity": 0.243,
         "volatile.acidity": 0.463,
         "citric.acid": 0.3,
         "residual.sugar": 0.03,
         "chlorides": 2.848,
         "free.sulfur.dioxide": 0.213,
         "total.sulfur.dioxide": 0.181,
         "density": 0.506,
         "pH": 0.213,
         "sulphates": 0.418,
         "alcohol": 0.094,
         "Class": 1,
         "_deepnote_index_column": 4
        },
        {
         "fixed.acidity": 0.243,
         "volatile.acidity": 0.463,
         "citric.acid": 0.85,
         "residual.sugar": 0.03,
         "chlorides": 2.848,
         "free.sulfur.dioxide": 0.213,
         "total.sulfur.dioxide": 0.181,
         "density": 0.506,
         "pH": 0.213,
         "sulphates": 0.418,
         "alcohol": 0.094,
         "Class": 1,
         "_deepnote_index_column": 5
        }
       ]
      },
      "text/plain": "   fixed.acidity  volatile.acidity  citric.acid  residual.sugar  chlorides  \\\n0          0.075             0.500        0.000          -0.015      0.136   \n1          0.187             0.333        0.441           0.091      0.333   \n2          0.458             0.278        0.735           0.136      0.492   \n3          0.243             0.463        1.000           0.030      2.848   \n4          0.243             0.463        0.300           0.030      2.848   \n5          0.243             0.463        0.850           0.030      2.848   \n\n   free.sulfur.dioxide  total.sulfur.dioxide  density     pH  sulphates  \\\n0                0.234                 0.134    0.294  0.573      0.020   \n1                0.660                 0.496    0.551  0.680      0.065   \n2                0.043                 0.031    0.493  0.387      0.150   \n3                0.213                 0.181    0.506  0.213      0.418   \n4                0.213                 0.181    0.506  0.213      0.418   \n5                0.213                 0.181    0.506  0.213      0.418   \n\n   alcohol  Class  \n0    0.156      0  \n1    0.141      0  \n2    0.484      1  \n3    0.094      1  \n4    0.094      1  \n5    0.094      1  ",
      "text/html": "<div>\n<style scoped>\n    .dataframe tbody tr th:only-of-type {\n        vertical-align: middle;\n    }\n\n    .dataframe tbody tr th {\n        vertical-align: top;\n    }\n\n    .dataframe thead th {\n        text-align: right;\n    }\n</style>\n<table border=\"1\" class=\"dataframe\">\n  <thead>\n    <tr style=\"text-align: right;\">\n      <th></th>\n      <th>fixed.acidity</th>\n      <th>volatile.acidity</th>\n      <th>citric.acid</th>\n      <th>residual.sugar</th>\n      <th>chlorides</th>\n      <th>free.sulfur.dioxide</th>\n      <th>total.sulfur.dioxide</th>\n      <th>density</th>\n      <th>pH</th>\n      <th>sulphates</th>\n      <th>alcohol</th>\n      <th>Class</th>\n    </tr>\n  </thead>\n  <tbody>\n    <tr>\n      <th>0</th>\n      <td>0.075</td>\n      <td>0.500</td>\n      <td>0.000</td>\n      <td>-0.015</td>\n      <td>0.136</td>\n      <td>0.234</td>\n      <td>0.134</td>\n      <td>0.294</td>\n      <td>0.573</td>\n      <td>0.020</td>\n      <td>0.156</td>\n      <td>0</td>\n    </tr>\n    <tr>\n      <th>1</th>\n      <td>0.187</td>\n      <td>0.333</td>\n      <td>0.441</td>\n      <td>0.091</td>\n      <td>0.333</td>\n      <td>0.660</td>\n      <td>0.496</td>\n      <td>0.551</td>\n      <td>0.680</td>\n      <td>0.065</td>\n      <td>0.141</td>\n      <td>0</td>\n    </tr>\n    <tr>\n      <th>2</th>\n      <td>0.458</td>\n      <td>0.278</td>\n      <td>0.735</td>\n      <td>0.136</td>\n      <td>0.492</td>\n      <td>0.043</td>\n      <td>0.031</td>\n      <td>0.493</td>\n      <td>0.387</td>\n      <td>0.150</td>\n      <td>0.484</td>\n      <td>1</td>\n    </tr>\n    <tr>\n      <th>3</th>\n      <td>0.243</td>\n      <td>0.463</td>\n      <td>1.000</td>\n      <td>0.030</td>\n      <td>2.848</td>\n      <td>0.213</td>\n      <td>0.181</td>\n      <td>0.506</td>\n      <td>0.213</td>\n      <td>0.418</td>\n      <td>0.094</td>\n      <td>1</td>\n    </tr>\n    <tr>\n      <th>4</th>\n      <td>0.243</td>\n      <td>0.463</td>\n      <td>0.300</td>\n      <td>0.030</td>\n      <td>2.848</td>\n      <td>0.213</td>\n      <td>0.181</td>\n      <td>0.506</td>\n      <td>0.213</td>\n      <td>0.418</td>\n      <td>0.094</td>\n      <td>1</td>\n    </tr>\n    <tr>\n      <th>5</th>\n      <td>0.243</td>\n      <td>0.463</td>\n      <td>0.850</td>\n      <td>0.030</td>\n      <td>2.848</td>\n      <td>0.213</td>\n      <td>0.181</td>\n      <td>0.506</td>\n      <td>0.213</td>\n      <td>0.418</td>\n      <td>0.094</td>\n      <td>1</td>\n    </tr>\n  </tbody>\n</table>\n</div>"
     },
     "metadata": {}
    }
   ]
  },
  {
   "cell_type": "markdown",
   "source": "<a style='text-decoration:none;line-height:16px;display:flex;color:#5B5B62;padding:10px;justify-content:end;' href='https://deepnote.com?utm_source=created-in-deepnote-cell&projectId=3035cbe1-744b-40d6-9d24-00f96529caea' target=\"_blank\">\n<img alt='Created in deepnote.com' style='display:inline;max-height:16px;margin:0px;margin-right:7.5px;' src='data:image/svg+xml;base64,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' > </img>\nCreated in <span style='font-weight:600;margin-left:4px;'>Deepnote</span></a>",
   "metadata": {
    "tags": [],
    "created_in_deepnote_cell": true,
    "deepnote_cell_type": "markdown"
   }
  }
 ],
 "nbformat": 4,
 "nbformat_minor": 2,
 "metadata": {
  "orig_nbformat": 2,
  "deepnote": {
   "is_reactive": false
  },
  "deepnote_notebook_id": "3a2d6e31-614c-4db4-a570-a428c4b18ba2",
  "deepnote_execution_queue": []
 }
}